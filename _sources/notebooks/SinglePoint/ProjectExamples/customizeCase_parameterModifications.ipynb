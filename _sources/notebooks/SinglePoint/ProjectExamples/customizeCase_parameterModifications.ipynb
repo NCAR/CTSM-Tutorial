{
 "cells": [
  {
   "cell_type": "markdown",
   "metadata": {
    "tags": []
   },
   "source": [
    "# Customize your case: Parameter modifications\n",
    "## *Customizing your case with namelist changes & spinning up the model*\n",
    "\n",
    "**This is an optional tutorial** that provides some additional guidance for creating an experimental clone for a NEON case in CTSM and spinning up the model.\n",
    "\n",
    "We're going to move kind of quickly through some material that's already covered in the tutorial on [cloning a NEON case](./1c_NEON_Clone_Case.ipynb).  We're also going to quickly overview spinning up the model, but there's additional information in the tutorial on [customizing model features](./customizeCase_modelFeatures.ipynb)It may be helpful to refer back to these tutorials if you have questions or want more information about creating an experimental clone or spinup.\n",
    "\n",
    "Finally, this tutorial assumes that you've modified the CLM parameter file.  We provided an example notebook for [modifying parameters](./modifyParameterFile.ipynb).  **This should be done before running the rest of this notebook.**\n",
    "<br>\n",
    "\n",
    "---\n",
    "## In this tutorial\n",
    "\n",
    "1. Create a new base case for a NEON site that you've already run.\n",
    "2. Point to a modified parameter file in user_nl_clm.\n",
    "3. Spinup the model. \n",
    "\n",
    "---\n",
    "### First let's start with a bit of background.\n",
    "\n",
    "Parameter files are read into CLM.  We provide a default parameter file for your cases, but this can be modified by pointing to a new parameter file in user_nl_clm.  \n",
    "\n",
    "Since changing parameters in the model will change answers, we also need to spin up the model to generate new initial conditions files."
   ]
  },
  {
   "cell_type": "markdown",
   "metadata": {},
   "source": [
    "<div class=\"alert alert-block alert-warning\">\n",
    "\n",
    "<b>NOTICE:</b> If you're running this notebook through the NCAR JupyterHub login, you need to be on a Cheyenne login node (NOT Casper).  \n",
    "\n",
    "</div>\n",
    "\n",
    "### Set up your environment\n",
    "It is important in order to have all the tools and packages you need to run simulations. \n",
    "\n",
    "The following code **is needed** if you're running in CESM-lab in the cloud, but should already be set up correctly for you."
   ]
  },
  {
   "cell_type": "code",
   "execution_count": null,
   "metadata": {},
   "outputs": [],
   "source": [
    "#cp -rp /opt/ncar/ctsm/ ~/CTSM"
   ]
  },
  {
   "cell_type": "markdown",
   "metadata": {},
   "source": [
    "*The code below **is not** needed in the cloud*.\n",
    "\n",
    "<div class=\"alert alert-block alert-info\">\n",
    "   \n",
    "<b>TIP:</b> <i>If you're running on Cheyenne</i>, you may need to uncomment the the following two lines of code. This will set up your conda environment correctly.\n",
    "\n",
    "<b>This is not required if your running CESM-Lab in the cloud.</b>\n",
    "\n",
    "</div>"
   ]
  },
  {
   "cell_type": "code",
   "execution_count": null,
   "metadata": {},
   "outputs": [],
   "source": [
    "#module purge\n",
    "#module load conda ncarenv"
   ]
  },
  {
   "cell_type": "markdown",
   "metadata": {},
   "source": [
    "# 1. Create a new case.\n",
    "Because we're going to modify namelist options that will change answers in CLM we have to run this case through an accelerated decompostion (AD) and postAD spinup.  This will generate new initial conditions for our experimental case. We'll learn more about spinup in part 3 of this tutorial.\n",
    "\n",
    "Doing an AD spinup requires a new base case to be created so the model is configured correctly.  This means we have to create and build a new case for both AD and postAD simulations.  This process is streamlined with the `run_neon` script and the use of usermod directories we created for NEON cases.  \n",
    "\n",
    "## 1.1 Navigate to your source code"
   ]
  },
  {
   "cell_type": "code",
   "execution_count": null,
   "metadata": {},
   "outputs": [],
   "source": [
    "cd ~/CTSM/tools/site_and_regional"
   ]
  },
  {
   "cell_type": "markdown",
   "metadata": {},
   "source": [
    "## 1.2 Create a new base case.\n",
    "You can modify the new case for the site you'd like to run."
   ]
  },
  {
   "cell_type": "code",
   "execution_count": null,
   "metadata": {},
   "outputs": [],
   "source": [
    "# If needed, change the 4-character NEON site below.\n",
    "export new_case='HARV'    # the new site you want to run \n",
    "export experiment='foliarCN-30'    # this is name of your experimenal case "
   ]
  },
  {
   "cell_type": "markdown",
   "metadata": {},
   "source": [
    "Then run_neon with the following flags:\n",
    "- `--experiment $experiment` \n",
    "- `--run-type ad` \n",
    "- `--setup-only` \n",
    "\n",
    "Since we're creating an experimental case that will change answers in the model we should run a full AD and postAD spinup.\n",
    "We'll go over specifics related to experiment and run-type later in this tutorial.\n",
    "\n",
    "In our experimental case we'll be using the BTRAN formulation of soil moisture stress. \n",
    "\n",
    "<div class=\"alert alert-block alert-info\">\n",
    "\n",
    "<b>HINT:</b> It's helpful to have descriptive experiment names. \n",
    "\n",
    "</div>"
   ]
  },
  {
   "cell_type": "code",
   "execution_count": null,
   "metadata": {},
   "outputs": [],
   "source": [
    "# then run_neon with experiment and setup-only flags\n",
    "./run_neon.py --neon-sites $new_case  \\\n",
    "   --output-root ~/scratch/NEON_cases \\\n",
    "   --overwrite \\\n",
    "   --experiment $experiment \\\n",
    "   --run-type ad \\\n",
    "   --setup-only  "
   ]
  },
  {
   "cell_type": "markdown",
   "metadata": {},
   "source": [
    "### 1.2.1 Build the base case\n",
    "You may have noticed a warning in the code block above.  We'll go ahead and build the new base case above.  \n",
    "\n",
    "*As before this takes some time so be patient.*"
   ]
  },
  {
   "cell_type": "code",
   "execution_count": null,
   "metadata": {},
   "outputs": [],
   "source": [
    "cd ~/scratch/NEON_cases/$new_case"
   ]
  },
  {
   "cell_type": "code",
   "execution_count": null,
   "metadata": {},
   "outputs": [],
   "source": [
    "qcmd -- ./case.build"
   ]
  },
  {
   "cell_type": "markdown",
   "metadata": {},
   "source": [
    "### 1.2.2 Overwrite the *site.experiment.ad* case, now using the correct build\n",
    "- move back to your source code\n",
    "- run_neon again "
   ]
  },
  {
   "cell_type": "code",
   "execution_count": null,
   "metadata": {},
   "outputs": [],
   "source": [
    "cd ~/CTSM/tools/site_and_regional"
   ]
  },
  {
   "cell_type": "code",
   "execution_count": null,
   "metadata": {},
   "outputs": [],
   "source": [
    "cd ~/CTSM/tools/site_and_regional\n",
    "\n",
    "./run_neon.py --neon-sites $new_case  \\\n",
    "   --output-root ~/scratch/NEON_cases \\\n",
    "   --base-case ~/scratch/NEON_cases/$new_case \\\n",
    "   --overwrite \\\n",
    "   --experiment $experiment \\\n",
    "   --run-type ad \\\n",
    "   --setup-only  "
   ]
  },
  {
   "cell_type": "markdown",
   "metadata": {},
   "source": [
    "You may notice the following was printed from creating an experimental clone\n",
    "```\n",
    "WARNING: CLM is starting up from a cold state\n",
    "```\n",
    "This is good, since we're going to be starting the model from a cold state, or bare ground with the AD spinup.\n",
    "\n",
    "### 1.2.3 Move to the case directory"
   ]
  },
  {
   "cell_type": "code",
   "execution_count": null,
   "metadata": {},
   "outputs": [],
   "source": [
    "cd ~/scratch/NEON_cases/$new_case.$experiment.ad"
   ]
  },
  {
   "cell_type": "markdown",
   "metadata": {},
   "source": [
    "# 2 Customizing your case: Namelist changes\n",
    "The configuration of CLM can be customized via namelist modifications. \n",
    "\n",
    "These changes made using namelist files like `user_nl_clm`\n",
    "\n",
    "## 2.1 Getting familiar with namelist files\n",
    "`user_nl_<model>` files are created in the case directory after setting up your case with `./case.setup`\n",
    "  - Note: This was already done for us since we cloned a case with run_neon\n",
    "    \n",
    "#### Take a look!\n",
    "  - What other user `user_nl_<model>` files do you already have in this case directory?\n",
    "  - What kind of information is already included in a `user_nl_clm` file?\n",
    "\n",
    "We can explore these files on the comand line using an editor, by opening them directly in jupyter hub, or by simply printing the contents of the files to the screen here."
   ]
  },
  {
   "cell_type": "code",
   "execution_count": null,
   "metadata": {
    "tags": []
   },
   "outputs": [],
   "source": [
    "ls user_nl_*"
   ]
  },
  {
   "cell_type": "code",
   "execution_count": null,
   "metadata": {
    "tags": []
   },
   "outputs": [],
   "source": [
    "cat user_nl_clm | tail -18"
   ]
  },
  {
   "cell_type": "markdown",
   "metadata": {},
   "source": [
    "The compset that you created your case with sets up initial, or default namelist options. These can be found in `CaseDocs/lnd_in`\n",
    "\n",
    "<style> \n",
    "table td, table th, table tr {text-align:left !important;}\n",
    "</style>\n",
    "<div class=\"alert alert-block alert-warning\">\n",
    "<b>Important:</b>   Don’t modify the lnd_in namelist file directly. Instead, make changes in user_nl_clm.\n",
    "</div>\n",
    "\n",
    "## 2.2 Looking deeper at namelist options \n",
    "All CLM namelist options are defined in the `lnd_in` file\n",
    "\n",
    "We can explore this file on the comand line using an editor, by opening it directly in jupyter hub, or by simply printing the contents of the files to the screen here.  \n",
    "- **NOTE:** This file is huge, so we'll just look at the first 65 lines"
   ]
  },
  {
   "cell_type": "code",
   "execution_count": null,
   "metadata": {},
   "outputs": [],
   "source": [
    "cat CaseDocs/lnd_in | head -40"
   ]
  },
  {
   "cell_type": "markdown",
   "metadata": {},
   "source": [
    "There's a lot to dig into here! So we'll just stick with a few highlights.\n",
    "\n",
    "#### Take a look\n",
    "**See what printed to in the cell above and answer the following questions**\n",
    "- `finidat`: What initial conditions file are you using? \n",
    "- `fsurdat`: What surface dataset are you using?\n",
    "- `paramfile`: What parameter file are you using?\n",
    "- `spinup_state`: What is your spinup state?\n",
    "\n",
    "Does this make sense?  Answers are in the hidden cell below.\n"
   ]
  },
  {
   "cell_type": "markdown",
   "metadata": {
    "tags": []
   },
   "source": [
    "- `finidat = ' '`  There are no initial conditions because this is an AD run\n",
    "- `fsurdat = \".../surfdata_1x1_NEON_WOOD_hist_78pfts_CMIP6_simyr2000_c230111.nc\"` This the surface dataset that's been modified for our NEON site.\n",
    "- `paramfile = '.../ctsm51_params.c211112.nc'` is the default parameter file for CTSM5.1  \n",
    "- `spinup_state = 2`, which is used for accelerated decomposition, or AD mode\n"
   ]
  },
  {
   "cell_type": "markdown",
   "metadata": {},
   "source": [
    "***\n",
    "\n",
    "- Additional information about customizing CTSM's configurations, including namelist modifications, are available in the [CTSM users guide](https://escomp.github.io/ctsm-docs/versions/master/html/users_guide/setting-up-and-running-a-case/customizing-the-clm-configuration.html?highlight=namelist)\n",
    "Namelist changes can also be used to modify variables on history file output. Simple modification of history file output DOES NOT require spinning up the model.\n",
    "- A list of all the [CTSM history fields are available here](https://escomp.github.io/ctsm-docs/versions/master/html/users_guide/setting-up-and-running-a-case/master_list_nofates.html)\n",
    "- A list of all the [CTSM-FATES history fields are available here](https://escomp.github.io/ctsm-docs/versions/master/html/users_guide/setting-up-and-running-a-case/master_list_fates.html)\n",
    "\n",
    "## 2.3 Point to your modified parameter file\n",
    "\n",
    "For this experiment we're changing the foliar C:N ratio for temperate deciduous forests.  Do do this we have to point to our modified parameter file. We can change user_nl_clm using an editor, by opening it directly in jupyter hub, or with the following comand."
   ]
  },
  {
   "cell_type": "code",
   "execution_count": null,
   "metadata": {},
   "outputs": [],
   "source": [
    "# This is the path to the modified parameter file you created\n",
    "\n",
    "# If you're running on cheyenne, uncomment the line below\n",
    "#echo \"paramfile = '/glade/scratch/$USER/NEON_cases/modified_inputs/ctsm51_params.c211112_tdf_leafcn30.nc'\" >> user_nl_clm\n",
    "\n",
    "# If you're running with CESM-Lab in the cloud, uncomment the line below\n",
    "echo \"paramfile = '/scratch/$USER/NEON_cases/modified_inputs/ctsm51_params.c211112_tdf_leafcn30.nc'\" >> user_nl_clm"
   ]
  },
  {
   "cell_type": "markdown",
   "metadata": {},
   "source": [
    "Let make sure this worked.  We can:  \n",
    "- preview namelists;\n",
    "- check the  `lnd_in` file."
   ]
  },
  {
   "cell_type": "code",
   "execution_count": null,
   "metadata": {},
   "outputs": [],
   "source": [
    "## now make sure it worked \n",
    "./preview_namelists"
   ]
  },
  {
   "cell_type": "code",
   "execution_count": null,
   "metadata": {},
   "outputs": [],
   "source": [
    "cat CaseDocs/lnd_in | head -40"
   ]
  },
  {
   "cell_type": "markdown",
   "metadata": {},
   "source": [
    "We've changes ethe parameter file that's being used for our simulation.\n",
    "\n",
    "## 2.4 Start the AD spinup run\n",
    "We already build the model, and when making namelist or .xml changes we don't have to rebuild our case, so now we're ready to submit the case."
   ]
  },
  {
   "cell_type": "code",
   "execution_count": null,
   "metadata": {},
   "outputs": [],
   "source": [
    "./case.submit"
   ]
  },
  {
   "cell_type": "markdown",
   "metadata": {},
   "source": [
    "Now our case is submitted!  Spinup, or model initialization from a cold start, actually takes a little bit of time.  Check that your AD case is running "
   ]
  },
  {
   "cell_type": "code",
   "execution_count": null,
   "metadata": {},
   "outputs": [],
   "source": [
    "qstat -u $USER"
   ]
  },
  {
   "cell_type": "code",
   "execution_count": null,
   "metadata": {},
   "outputs": [],
   "source": [
    "tail  ~/scratch/NEON_cases/$new_case.$experiment.ad/CaseStatus"
   ]
  },
  {
   "cell_type": "markdown",
   "metadata": {},
   "source": [
    "## 3.1 postAD simulations\n",
    "After the model has reached steady-state we have to take it out of AD mode, which requires another ~100 years of simulations.  We also have to create and build a new base case for postAD runs.\n",
    "\n",
    "### 3.1.1 Create a new base case"
   ]
  },
  {
   "cell_type": "code",
   "execution_count": null,
   "metadata": {},
   "outputs": [],
   "source": [
    "cd ~/CTSM/tools/site_and_regional\n",
    "# This is a new base case that we'll create (and maybe use later for other experiments)\n",
    "export base_case='YELL'    \n",
    "# should match the neon site case you did the AD run with\n",
    "export new_case='HARV'   "
   ]
  },
  {
   "cell_type": "code",
   "execution_count": null,
   "metadata": {},
   "outputs": [],
   "source": [
    "./run_neon.py --neon-sites $base_case  \\\n",
    "   --output-root ~/scratch/NEON_cases \\\n",
    "   --overwrite \\\n",
    "   --run-type postad \\\n",
    "   --setup-only "
   ]
  },
  {
   "cell_type": "markdown",
   "metadata": {},
   "source": [
    "You'll notice an error here if there's no ad run for our postad base_case.  This is fine. \n",
    "\n",
    "### 3.1.2 Build the base case"
   ]
  },
  {
   "cell_type": "code",
   "execution_count": null,
   "metadata": {},
   "outputs": [],
   "source": [
    "cd ~/scratch/NEON_cases/$base_case\n",
    "qcmd -- ./case.build"
   ]
  },
  {
   "cell_type": "markdown",
   "metadata": {},
   "source": [
    "### 3.1.3 Create the site.experiment.postad case from the built base case"
   ]
  },
  {
   "cell_type": "code",
   "execution_count": null,
   "metadata": {},
   "outputs": [],
   "source": [
    "cd ~/CTSM/tools/site_and_regional\n",
    "\n",
    "./run_neon.py --neon-sites $new_case  \\\n",
    "   --output-root ~/scratch/NEON_cases \\\n",
    "   --base-case ~/scratch/NEON_cases/$base_case \\\n",
    "   --overwrite \\\n",
    "   --experiment $experiment \\\n",
    "   --run-type postad \\\n",
    "   --setup-only  "
   ]
  },
  {
   "cell_type": "markdown",
   "metadata": {},
   "source": [
    "### 3.1.4 make the same namelist changes to point to your new parameter file."
   ]
  },
  {
   "cell_type": "code",
   "execution_count": null,
   "metadata": {},
   "outputs": [],
   "source": [
    "cd ~/scratch/NEON_cases/$new_case.$experiment.postad\n",
    "\n",
    "# This is the path to the modified parameter file you created\n",
    "\n",
    "# If you're running on cheyenne, uncomment the line below\n",
    "#echo \"paramfile = '/glade/scratch/$USER/NEON_cases/modified_inputs/ctsm51_params.c211112_tdf_leafcn30.nc'\" >> user_nl_clm\n",
    "\n",
    "# If you're running with CESM-Lab in the cloud, uncomment the line below\n",
    "echo \"paramfile = '/scratch/$USER/NEON_cases/modified_inputs/ctsm51_params.c211112_tdf_leafcn30.nc'\" >> user_nl_clm\n",
    "\n",
    "./preview_namelists"
   ]
  },
  {
   "cell_type": "code",
   "execution_count": null,
   "metadata": {},
   "outputs": [],
   "source": [
    "# check the lnd_in file\n",
    "cat CaseDocs/lnd_in | grep paramfile"
   ]
  },
  {
   "cell_type": "markdown",
   "metadata": {},
   "source": [
    "**Stop and check!**\n",
    "- How are the `lnd_in` files different in our ad and postad cases?"
   ]
  },
  {
   "cell_type": "code",
   "execution_count": null,
   "metadata": {},
   "outputs": [],
   "source": [
    "diff CaseDocs/lnd_in ../$new_case.$experiment.ad/CaseDocs/lnd_in"
   ]
  },
  {
   "cell_type": "markdown",
   "metadata": {},
   "source": [
    "the postad case has: \n",
    "- `finidat = 'HARV.foliarCN-30.ad...'` initial conditions\n",
    "- `spinup_state = 0` meaning we're out of ad mode now\n",
    "- different builds\n",
    "\n",
    "\n",
    "### 3.1.5 Submit the postad simulation"
   ]
  },
  {
   "cell_type": "code",
   "execution_count": null,
   "metadata": {},
   "outputs": [],
   "source": [
    "./case.submit"
   ]
  },
  {
   "cell_type": "markdown",
   "metadata": {},
   "source": [
    "## 3.2 Transient simulations\n",
    "Now we're ready to go ahead with the transient simulation\n",
    "\n",
    "### 3.2.1 Create an experimental transient case\n",
    "- your `base_case` can now be a built transient case (here KONZ from our first tutorials)\n",
    "- `--run-from-postad` let's us get initial conditions files from our experiment.postad case"
   ]
  },
  {
   "cell_type": "code",
   "execution_count": null,
   "metadata": {},
   "outputs": [],
   "source": [
    "# Change the 4-character NEON site below.\n",
    "cd ~/CTSM/tools/site_and_regional\n",
    "export base_case='KONZ'   # this should be a built, transient case\n",
    "export new_case='HARV'    # the new site you want to run\n",
    "\n",
    "# then run_neon\n",
    "./run_neon.py --neon-sites $new_case  \\\n",
    "   --output-root ~/scratch/NEON_cases \\\n",
    "   --base-case ~/scratch/NEON_cases/$base_case \\\n",
    "   --experiment $experiment \\\n",
    "   --overwrite \\\n",
    "   --run-type transient \\\n",
    "   --setup-only  \\\n",
    "   --run-from-postad\n"
   ]
  },
  {
   "cell_type": "markdown",
   "metadata": {},
   "source": [
    "### 3.2.2 Namelist changes to point to your new parameter file"
   ]
  },
  {
   "cell_type": "code",
   "execution_count": null,
   "metadata": {},
   "outputs": [],
   "source": [
    "cd ~/scratch/NEON_cases/$new_case.$experiment.transient\n",
    "\n",
    "# This is the path to the modified parameter file you created\n",
    "\n",
    "# If you're running on cheyenne, uncomment the line below\n",
    "#echo \"paramfile = '/glade/scratch/$USER/NEON_cases/modified_inputs/ctsm51_params.c211112_tdf_leafcn30.nc'\" >> user_nl_clm\n",
    "\n",
    "# If you're running with CESM-Lab in the cloud, uncomment the line below\n",
    "echo \"paramfile = '/scratch/$USER/NEON_cases/modified_inputs/ctsm51_params.c211112_tdf_leafcn30.nc'\" >> user_nl_clm\n",
    "\n",
    "./preview_namelists"
   ]
  },
  {
   "cell_type": "code",
   "execution_count": null,
   "metadata": {},
   "outputs": [],
   "source": [
    "# check the lnd_in file\n",
    "cat CaseDocs/lnd_in | grep paramfile"
   ]
  },
  {
   "cell_type": "code",
   "execution_count": null,
   "metadata": {},
   "outputs": [],
   "source": [
    "# How are the lnd_in fies different?\n",
    "diff CaseDocs/lnd_in ../$new_case.$experiment.postad/CaseDocs/lnd_in"
   ]
  },
  {
   "cell_type": "markdown",
   "metadata": {},
   "source": [
    "Now we're running: \n",
    "- a transient simulation (transient CO2, nitrogen deposition, etc)\n",
    "- with different restart files, not from the postad run that are prestaged from default NEON cases\n",
    "- with different builds\n",
    "\n",
    "### 3.2.3 Submit the transient case"
   ]
  },
  {
   "cell_type": "code",
   "execution_count": null,
   "metadata": {},
   "outputs": [],
   "source": [
    "./case.submit"
   ]
  },
  {
   "cell_type": "markdown",
   "metadata": {},
   "source": [
    "## 3.3 Run a control case\n",
    "If you haven't done it already, we should likely just run a control case for a transient case out of the box (with PHS on).\n",
    "Lucking this is really easy!"
   ]
  },
  {
   "cell_type": "code",
   "execution_count": null,
   "metadata": {},
   "outputs": [],
   "source": [
    "cd ~/CTSM/tools/site_and_regional\n",
    "\n",
    "# then run_neon\n",
    "./run_neon.py --neon-sites $new_case  \\\n",
    "           --output-root ~/scratch/NEON_cases \\\n",
    "           --base-case ~/scratch/NEON_cases/$base_case \\\n",
    "           --overwrite\n",
    "\n",
    "# we'll just go ahead and submit this case"
   ]
  },
  {
   "cell_type": "markdown",
   "metadata": {},
   "source": [
    "#### Double check\n",
    "It's a good idea to make sure cases have expected differences.  \n",
    "\n",
    "See if this is true for our control and experimental transient cases."
   ]
  },
  {
   "cell_type": "code",
   "execution_count": null,
   "metadata": {},
   "outputs": [],
   "source": [
    "cd ~/scratch/NEON_cases/$new_case.transient\n",
    "diff CaseDocs/lnd_in ../$new_case.$experiment.transient/CaseDocs/lnd_in"
   ]
  },
  {
   "cell_type": "markdown",
   "metadata": {},
   "source": [
    "<div class=\"alert alert-success\">\n",
    "<strong>Congratulations!</strong> \n",
    "    \n",
    "You've created and run a full spinup for an experimental case of CLM at the NEON tower you selected!\n",
    "    \n",
    "Now we need to see how the simulations are different.\n",
    "</div>\n",
    "\n"
   ]
  },
  {
   "cell_type": "markdown",
   "metadata": {},
   "source": [
    "If you're developing this tutorial:\n",
    "Before saving and pushing this code to github go to `Kernel` and `Restart kernel and clear all outputs...`"
   ]
  },
  {
   "cell_type": "code",
   "execution_count": null,
   "metadata": {},
   "outputs": [],
   "source": []
  },
  {
   "cell_type": "code",
   "execution_count": null,
   "metadata": {},
   "outputs": [],
   "source": []
  }
 ],
 "metadata": {
  "kernelspec": {
   "display_name": "Bash",
   "language": "bash",
   "name": "bash"
  },
  "language_info": {
   "codemirror_mode": "shell",
   "file_extension": ".sh",
   "mimetype": "text/x-sh",
   "name": "bash"
  }
 },
 "nbformat": 4,
 "nbformat_minor": 4
}
