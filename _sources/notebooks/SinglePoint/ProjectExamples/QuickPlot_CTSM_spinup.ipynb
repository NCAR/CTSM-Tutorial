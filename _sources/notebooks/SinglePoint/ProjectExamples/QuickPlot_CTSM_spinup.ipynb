{
 "cells": [
  {
   "cell_type": "markdown",
   "id": "51f96e25-587b-4108-a7d9-34666f7a50e6",
   "metadata": {},
   "source": [
    "# Quick plots - CTSM - Spinup \n",
    "## This notebook provides a method to check if spinup simulations have reached steady state.  \n",
    "\n",
    "In this tutorial you will find steps and instructions to:\n",
    "\n",
    "1. Load python libraries\n",
    "2. Locate history files\n",
    "3. Read in preprocesed data\n",
    "4. Plot total ecosystem C over time\n",
    "5. Determine if spinup simulations have reached steady state\n",
    "\n",
    "------"
   ]
  },
  {
   "cell_type": "markdown",
   "id": "7edf783f-9442-4a1b-ab7c-e9455be3ac5b",
   "metadata": {},
   "source": [
    "# 1. Load Datasets\n",
    "\n",
    "## 1.1 Load Python Libraries"
   ]
  },
  {
   "cell_type": "code",
   "execution_count": null,
   "id": "87882ecf-c37c-4b01-bfb4-24e56d671777",
   "metadata": {},
   "outputs": [],
   "source": [
    "import os\n",
    "import time\n",
    "import datetime\n",
    "\n",
    "import numpy as np\n",
    "import nc_time_axis\n",
    "import pandas as pd\n",
    "import xarray as xr\n",
    "\n",
    "from glob import glob\n",
    "from os.path import join\n",
    "\n",
    "import matplotlib\n",
    "import matplotlib.pyplot as plt\n",
    "import matplotlib.dates as mdates\n",
    "\n",
    "from neon_utils import fix_time_h0"
   ]
  },
  {
   "cell_type": "markdown",
   "id": "295e5476-c8b3-4a4d-ba7a-566def668673",
   "metadata": {
    "jupyter": {
     "outputs_hidden": true
    },
    "tags": []
   },
   "source": [
    "<div class=\"alert alert-block alert-info\">\n",
    "<b>Note:</b> If you are having difficulties importing `nc_time_axis`, run the following line once, then comment it out and restart the kernel by clicking on Kernel --> Restart Kernel in the top left panel in order to ensure the package is installed.  \n",
    "    \n",
    "> `pip install nc-time-axis`\n",
    "\n",
    "</div>\n"
   ]
  },
  {
   "cell_type": "code",
   "execution_count": null,
   "id": "d3039504-ae5d-4653-acac-44a402cef436",
   "metadata": {},
   "outputs": [],
   "source": [
    "print('xarray '+xr.__version__) # was working with 2023.5.0"
   ]
  },
  {
   "cell_type": "markdown",
   "id": "00d6e2bc-d747-41ee-a560-38bc3366fc8d",
   "metadata": {
    "tags": []
   },
   "source": [
    "## 1.2 Locate and read in history files "
   ]
  },
  {
   "cell_type": "markdown",
   "id": "1db2ec48-9370-422a-a4e4-893bc39906e2",
   "metadata": {
    "tags": []
   },
   "source": [
    "### 1.2.1 Where are my simulation results?\n",
    "After your simulations finish, history files are all saved in your `/scratch/NEON_cases/archive/` directory\n",
    "\n",
    "We can print the cases available to look at using bash magic, `%%bash` or `!` which turns the python cell block below into a bash cell.  "
   ]
  },
  {
   "cell_type": "code",
   "execution_count": null,
   "id": "acf88bc1-a2ab-4ae5-bfcb-232cc5d6ad82",
   "metadata": {},
   "outputs": [],
   "source": [
    "%%bash\n",
    "ls ~/scratch/NEON_cases/archive/"
   ]
  },
  {
   "cell_type": "markdown",
   "id": "7caf652c-e127-4cb8-89cb-a4423b29f2b4",
   "metadata": {},
   "source": [
    "<div class=\"alert alert-block alert-info\">\n",
    "<b>Note</b> you can accomplish the same thing with the following code:\n",
    "\n",
    "> `!ls ~/scratch/NEON_cases/archive/`\n",
    "    \n",
    "</div>\n",
    "\n",
    "---"
   ]
  },
  {
   "cell_type": "markdown",
   "id": "472907c6-e236-4358-934a-df62fda235c9",
   "metadata": {
    "tags": []
   },
   "source": [
    "### 1.2.2 Point to the directory with history files \n",
    "**We'll set the following:**\n",
    "- site and experiment to look at\n",
    "- path to our archive directory\n",
    "- directory with input data (where history files are found)   \n",
    "\n",
    "By doing this more generally, it makes the script easier to modify for different sites."
   ]
  },
  {
   "cell_type": "markdown",
   "id": "dd3302b7-e809-4dc6-aaab-ea1ad2d3aafe",
   "metadata": {},
   "source": [
    "<div class=\"alert alert-block alert-info\">\n",
    "<b>Note</b> You can use data that you generated in other tutorials, or you can look at the example data. If you'd like to use example data, please uncomment the example archive directory line below.\n",
    "</div>"
   ]
  },
  {
   "cell_type": "code",
   "execution_count": null,
   "id": "44e3bee8-fa6b-4c37-ae55-f62151640598",
   "metadata": {},
   "outputs": [],
   "source": [
    "neon_site = 'WOOD'  # NEON site we're going to look at\n",
    "experiment = '.BTRAN.ad' # Can set to ad, postad, or transient\n",
    "\n",
    "# If you would like to look at your own data, set the path to your archive directory\n",
    "archive = '~/scratch/NEON_cases/archive'\n",
    "\n",
    "# If you would like to look at example data, set the path to this archive directory:\n",
    "# archive = '/scratch/wwieder/NEON_cases/archive'\n",
    "\n",
    "# This expands the shortcut '~' used above\n",
    "archive = os.path.realpath(os.path.expanduser(archive)) \n",
    "\n",
    "# Create a path to the data folder\n",
    "data_folder = archive+'/'+neon_site+experiment+'/lnd/hist'\n",
    "data_folder"
   ]
  },
  {
   "cell_type": "markdown",
   "id": "892d909c-8412-4b7b-93c2-94067adfad48",
   "metadata": {},
   "source": [
    "**Is this the path for input data, `data_folder`, correct?** \n",
    "\n",
    "*HINT:* You can check in the terminal window or using bash magic.\n",
    "\n",
    "---"
   ]
  },
  {
   "cell_type": "markdown",
   "id": "70d25741-5010-496f-b61a-f15e1c135989",
   "metadata": {
    "tags": []
   },
   "source": [
    "### 1.2.3 Create some functions we'll use when opening the data\n",
    "`preprocess_all` will limit the number of coordinate variables we're reading in. This is an xarray feature that helps save time (and memory resources)."
   ]
  },
  {
   "cell_type": "code",
   "execution_count": null,
   "id": "7f2a23fe-7273-4370-8f2c-fe3dfad5029e",
   "metadata": {},
   "outputs": [],
   "source": [
    "# Define function to preprocess all variables from the netcdf files\n",
    "# This just drops an unused coordinate variable (lndgrid) from the dataset\n",
    "def preprocess_all (ds):\n",
    "    ds_new= ds.isel(lndgrid=0) \n",
    "    return ds_new"
   ]
  },
  {
   "cell_type": "markdown",
   "id": "3919e8c9-4c08-485f-9e01-8c42f6b5ddad",
   "metadata": {},
   "source": [
    "Now we have created the functions needed to manipulate our datasets\n",
    "\n",
    "---"
   ]
  },
  {
   "cell_type": "markdown",
   "id": "adcff485-79f9-4b32-af43-ed07ea189b2b",
   "metadata": {
    "tags": []
   },
   "source": [
    "### 1.2.4 List all the files we're going to open\n",
    "The the monthly history output (**'h0' files**) are written out for NEON cases. \n",
    "\n",
    "To open all of these files we're going to need to know their names.  This can be done if we:\n",
    "- Create an empty list `[]` of simulation files that is\n",
    "- `.extend`ed with a \n",
    "- `sorted` list of files generted with the \n",
    "- `glob` function in python of the \n",
    "- `*h0*`files in our `data_folder` "
   ]
  },
  {
   "cell_type": "code",
   "execution_count": null,
   "id": "617ea958-499e-4dda-92da-8e531b152fe0",
   "metadata": {},
   "outputs": [],
   "source": [
    "# Create an empty list of all the file names to extend\n",
    "sim_files = []\n",
    "sim_files.extend(sorted(glob(join(data_folder,\"*h0.*.nc\"))))\n",
    "\n",
    "print(\"All simulation files for all years: [\", len(sim_files), \"files]\")\n",
    "print(sim_files[-1])"
   ]
  },
  {
   "cell_type": "markdown",
   "id": "566f28f0-8a9b-4e04-9a1c-3052c70175bb",
   "metadata": {},
   "source": [
    "---"
   ]
  },
  {
   "cell_type": "markdown",
   "id": "4d280416-00b4-431d-944a-bb2ca7b4cceb",
   "metadata": {
    "tags": []
   },
   "source": [
    "### 1.2.5 Read in the data"
   ]
  },
  {
   "cell_type": "code",
   "execution_count": null,
   "id": "aee5a387-f155-4fe8-a6e8-bfe2f95a2f35",
   "metadata": {},
   "outputs": [],
   "source": [
    "start = time.time()\n",
    "print (\"Reading in data for \"+neon_site)\n",
    "\n",
    "ds_ctsm = xr.open_mfdataset(sim_files, decode_times=True, combine='by_coords',\n",
    "                            preprocess=preprocess_all)\n",
    "\n",
    "end = time.time()\n",
    "print(\"Reading all simulation files took:\", end-start, \"s.\")"
   ]
  },
  {
   "cell_type": "markdown",
   "id": "bbad64f5-88ef-402b-8fdd-3610fde4766d",
   "metadata": {},
   "source": [
    "### 1.2.6 Print the dataset you're working with"
   ]
  },
  {
   "cell_type": "code",
   "execution_count": null,
   "id": "7cda5d25-ce4b-419c-8dd5-e44f248e7604",
   "metadata": {},
   "outputs": [],
   "source": [
    "ds_ctsm"
   ]
  },
  {
   "cell_type": "markdown",
   "id": "10b5969d-f298-4c6f-a554-cfa4993602e2",
   "metadata": {},
   "source": [
    "---"
   ]
  },
  {
   "cell_type": "markdown",
   "id": "b2be98dc-b543-419c-a2cf-653adfc0b536",
   "metadata": {
    "tags": []
   },
   "source": [
    "## 1.3 Plot total ecosystem C over time\n",
    "We can visually check to see if the simulation achieved steady-state."
   ]
  },
  {
   "cell_type": "code",
   "execution_count": null,
   "id": "878ee93c-086d-467d-b701-60d399235308",
   "metadata": {},
   "outputs": [],
   "source": [
    "ds_ctsm.TOTECOSYSC.plot()\n",
    "plt.title(neon_site+experiment) ;"
   ]
  },
  {
   "cell_type": "markdown",
   "id": "7df902a6-0cda-4588-9437-6b3ae8f23d8e",
   "metadata": {},
   "source": [
    "**LOOK**\n",
    "- Does the model seem to have achieved steady state?\n",
    "- Why are there periodic oscillations in the total ecosystem C pools?\n",
    "\n",
    "<div class=\"alert alert-block alert-success\">\n",
    "<b>Congratulations:</b> \n",
    "    \n",
    "You've quickly looked at total ecosystem carbon stocks to check for steady state. \n",
    "    \n",
    "Are there other variables would you like to look at?\n",
    "    \n",
    "</div>\n"
   ]
  },
  {
   "cell_type": "code",
   "execution_count": null,
   "id": "2d2c2fb4-3b0d-4502-beb9-b069ad70fc0a",
   "metadata": {},
   "outputs": [],
   "source": []
  }
 ],
 "metadata": {
  "kernelspec": {
   "display_name": "Python 3 (ipykernel)",
   "language": "python",
   "name": "python3"
  },
  "language_info": {
   "codemirror_mode": {
    "name": "ipython",
    "version": 3
   },
   "file_extension": ".py",
   "mimetype": "text/x-python",
   "name": "python",
   "nbconvert_exporter": "python",
   "pygments_lexer": "ipython3",
   "version": "3.11.3"
  }
 },
 "nbformat": 4,
 "nbformat_minor": 5
}
