{
 "cells": [
  {
   "cell_type": "markdown",
   "metadata": {},
   "source": [
    "# Tutorial 1b: *Global Visualizations*\n",
    "\n",
    "This tutorial is an introduction to analizing results from a global simulation.  It build on the case you just ran in the `Global_Simulations`, but do don't have to wait for those runs to complete before doing this tutorial too. We've prestaged the model results in a shared directory so that you can get started on this now.\n",
    "\n",
    "## In this tutorial\n",
    "\n",
    "The tutorial has several objectives: \n",
    "1. Start getting familiar with Jupyter Notebooks\n",
    "2. Begin getting aquinted with python packages and their utilities\n",
    "3. Compare results from two simulations, here CLM5.1-SP and CLM5.1_FATES-SP\n",
    "\n",
    "***\n",
    "**This tutorial uses a Jupyter Notebook.** A Jupyter Notebook is an interactive computing environment that enables the creation and sharing of documents that contain discrete cells of text or documentation and executable code, including plots. It allows users to access, run, and edit the code in a browser. To interact with this notebook:\n",
    "\n",
    "- Execute or \"run\" cells of executable code (cells denoted with '[ ]:') using the play button in the menu at the top (see below image)\n",
    "\n",
    "- The results of running code, such as plots, will appear below that cell\n",
    "\n",
    "- Each step must be followed in order, otherwise you may encounter errors\n",
    "\n",
    "![run cell](https://problemsolvingwithpython.com/02-Jupyter-Notebooks/images/run_cell.png)\n",
    "\n",
    "For more information on Jupyter notebooks please see the [Jupyter Notebook Quick Start Guide](https://jupyter-notebook-beginner-guide.readthedocs.io/en/latest/what_is_jupyter.html). \n",
    "\n",
    "---\n",
    "\n",
    "You don't have to do anything to setup or run a Jupyter notebook, it's already configured for you in CESM-Lab.\n",
    "\n",
    "<div class=\"alert alert-block alert-info\">\n",
    "<b>NOTE:</b> Previously, all our <b>To Do</b> tasks had do be done on the command-line.  In this tutorial you can directly execute the contents of code blocks by running individual cells in this Jupyter notebook, just like on the Day 0b <i>Run NEON</i> tutorial.\n",
    "</div>\n",
    "\n",
    "***\n",
    "\n",
    "*We'll start by loading some packages*"
   ]
  },
  {
   "cell_type": "code",
   "execution_count": null,
   "metadata": {},
   "outputs": [],
   "source": [
    "import xarray as xr\n",
    "import numpy as np\n",
    "import pandas as pd\n",
    "#from netCDF4 import num2date\n",
    "\n",
    "# some resources for plotting\n",
    "import matplotlib.pyplot as plt\n",
    "import cartopy\n",
    "import cartopy.crs as ccrs\n",
    "import cftime\n",
    "%matplotlib inline"
   ]
  },
  {
   "cell_type": "markdown",
   "metadata": {},
   "source": [
    "<div class=\"alert alert-block alert-warning\">\n",
    "\n",
    "<b>NOTICE:</b>  This example largely uses features of xarray and \n",
    "    matplotlib packages. We don't have time to go into the basics \n",
    "    of python or features in these packages, but there are lots of \n",
    "    resources to help get you started. We've listed some of these below. \n",
    "\n",
    "</div>\n",
    "\n",
    "- [NCAR python tutorial](https://ncar.github.io/python-tutorial/tutorials/yourfirst.html), which introduces python, the conda package manager, and more on github.\n",
    "- [NCAR ESDS tutorial series](https://ncar.github.io/esds/blog/tag/python-tutorial-series/), features a bunch of recorded tutorials on a wide variety of topics.\n",
    "- [GeoCAT examples](https://geocat-examples.readthedocs.io/en/latest/), with some nice plotting examples\n",
    "- TODO add more?\n",
    "\n",
    "***\n",
    "\n",
    "### First we need to point to our data"
   ]
  },
  {
   "cell_type": "code",
   "execution_count": null,
   "metadata": {},
   "outputs": [],
   "source": [
    "path = '/scratch/data/day1/'         # path to archived simulations\n",
    "#path = '/glade/scratch/wwieder/archive/'         # path to archived simulations on cheyenne\n",
    "cases = ['I2000_CTSM51_sp','I2000_CTSM_FATESsp'] # case names\n",
    "years = list(range(2015,2020,1))                 # look at the last 5 years of data\n",
    "\n",
    "# create a list of the files we'll open\n",
    "# for now we'll create two different lists of files since they have different variables in the history file \n",
    "finCTSM  = [path+cases[0]+'/lnd/hist/'+cases[0]+'.clm2.h0.'+str(year)+'*' for year in years] \n",
    "finFATES = [path+cases[1]+'/lnd/hist/'+cases[1]+'.clm2.h0.'+str(year)+'*' for year in years] \n",
    "\n",
    "print(finCTSM[0])\n",
    "finFATES[-1]"
   ]
  },
  {
   "cell_type": "markdown",
   "metadata": {},
   "source": [
    "<div class=\"alert alert-block alert-info\">\n",
    "<b>NOTE:</b> These are the raw history files that CTSM writes out.  \n",
    "They are grid cell, monthly means for different states and fluxes.\n",
    "<br><br>\n",
    "Typically we post-process these data to generate single variable time series for an experiment. \n",
    "This means that model output for each variable, like rain, air temperature, or latent heat flux, are each in their own file.\n",
    "<br><br>\n",
    "We'll work on a post-processing tutorial, but for now we'll just read in the monthly history files described above.\n",
    "\n",
    "</div>\n",
    "\n",
    "### Next we'll open the files\n",
    "\n",
    "This is done with the xarray function `open_mfdataset`\n",
    "\n",
    "To make this go faster, we're going to preprocess the data so we're just reading the variables we want to look at.\n",
    "\n",
    "<div class=\"alert alert-block alert-info\">\n",
    "<b>TIP:</b> If you want to look at other variables, the cell below is where you can modify what we're reading off of the CTSM and CTSM-FATES history files.\n",
    "<br><br>\n",
    "</div>\n",
    "\n",
    "Depending on what you're looking at, these variables of interest may have different names in CTSM and CTSM-FATES simulations.  Sorry, this is confusing, but FATES-specific variables all have a *FATES_* prefix. This reflects if the history variables is being calculated by FATES directly, or uses information from FATES, but ultimately calculated by the host land model (here CTSM). \n",
    "    \n",
    "To begin with we'll look at albedo that's simulated by the two models. Albedo and can be calculated in several different ways, but they all use solar radiation terms are handled within CTS .  Here we'll look at 'all sky albedo', which is reflected / incoming solar radiation (**FSR/FSDS**) Other intereresting fields might be latent heat flux or gross primary productivity. **Note,** we're also going to include information about grid cell areas, as that's helpful for calculating globally weighted results "
   ]
  },
  {
   "cell_type": "code",
   "execution_count": null,
   "metadata": {},
   "outputs": [],
   "source": [
    "## TODO, split each step appart with text box annotations for each?\n",
    "# Define the variables to read in\n",
    "fields = ['FSR','FSDS', 'ELAI','area','landfrac']\n",
    "\n",
    "'''select the variables we want to read in'''\n",
    "def preprocess(ds, fields=fields):\n",
    "    return ds[fields]\n",
    "\n",
    "''' quick fix to adjust time vector for monthly data'''\n",
    "def fix_time(ds):  \n",
    "    nmonths = len(ds.time)\n",
    "    yr0 = ds['time.year'][0].values\n",
    "    ds['time'] =xr.cftime_range(str(yr0),periods=nmonths,freq='MS')    \n",
    "\n",
    "    return ds\n",
    "\n",
    "\n",
    "# Open the datasets\n",
    "# Note, here we'll just read in a single year of data for efficiency\n",
    "dsCTSM = fix_time(xr.open_mfdataset(finCTSM[0], decode_times=True, \n",
    "                                    preprocess=preprocess))\n",
    "dsFATES = fix_time(xr.open_mfdataset(finFATES[0], decode_times=True, \n",
    "                                     preprocess=preprocess) )\n",
    "\n",
    "dsFATES"
   ]
  },
  {
   "cell_type": "markdown",
   "metadata": {},
   "source": [
    "#### Printing information on dataset we've read is helpful for understanding your data. \n",
    "- *What dimensions do your data have?*\n",
    "- *What are the coordinate variables?*\n",
    "- *What variables are we looking at?*\n",
    "- *Is there other helpful information, or attributes in the dataset we should be aware of?*\n",
    "\n",
    "\n",
    "---\n",
    "\n",
    "You can also print information about the variables in your dataset.\n",
    "\n",
    "This can be done with the example below:"
   ]
  },
  {
   "cell_type": "code",
   "execution_count": null,
   "metadata": {},
   "outputs": [],
   "source": [
    "dsFATES.FSDS"
   ]
  },
  {
   "cell_type": "markdown",
   "metadata": {},
   "source": [
    "*What are the units, long name, and dimensions of your data?*\n",
    "\n",
    "Modify this cell with some of the other variables in your dataset?\n",
    "\n",
    "---\n",
    "\n",
    "#### Combining datasets\n",
    "Next, since our CTSM-FATESsp and CTSM5.1-SP have the same variables, we'll \n",
    "1. Combine them into a single dataset using the xarray function `concat` along a new dimensions that we'll introduce for each simulation, `sim`. \n",
    "2. Assign corrdinates to the 'sim' dimension\n"
   ]
  },
  {
   "cell_type": "code",
   "execution_count": null,
   "metadata": {},
   "outputs": [],
   "source": [
    "ds = xr.concat([dsCTSM,dsFATES], 'sim',data_vars='all')\n",
    "ds = ds.assign_coords(sim=(\"sim\", ['CTSM5.1-sp','CTSM-FATESsp']))\n",
    "dsFATES.FSDS"
   ]
  },
  {
   "cell_type": "markdown",
   "metadata": {},
   "source": [
    "#### Additional, derived variables can be added to the dataset\n",
    "\n",
    "Calculate the all sky albedo as a new variable in the dataset and add appropriate metadata.\n",
    "\n",
    "*Also, avoid dividing by zero using `.where` function*"
   ]
  },
  {
   "cell_type": "code",
   "execution_count": null,
   "metadata": {},
   "outputs": [],
   "source": [
    "ds['ASA'] = ds.FSR/ds.FSDS.where(ds.FSDS>0)\n",
    "ds['ASA'].attrs['units'] = 'unitless'\n",
    "ds['ASA'].attrs['long_name'] = 'All sky albedo'"
   ]
  },
  {
   "cell_type": "markdown",
   "metadata": {},
   "source": [
    "---\n",
    "#### Xarray makes quick plots of the data easy to make.  \n",
    "- Here we can just look at a month of data from the two simulations, using the `.isel` function.\n",
    "- More examples are on the [xarray web site](https://docs.xarray.dev/en/latest/user-guide/plotting.html)"
   ]
  },
  {
   "cell_type": "code",
   "execution_count": null,
   "metadata": {},
   "outputs": [],
   "source": [
    "ds.ASA.isel(time=6).plot(x='lon',y='lat',col=\"sim\", col_wrap=2) ;"
   ]
  },
  {
   "cell_type": "markdown",
   "metadata": {},
   "source": [
    "Here for each month, from a single simulation"
   ]
  },
  {
   "cell_type": "code",
   "execution_count": null,
   "metadata": {},
   "outputs": [],
   "source": [
    "ds.ASA.isel(sim=0).plot(x='lon',y='lat',col=\"time\", col_wrap=6) ;"
   ]
  },
  {
   "cell_type": "markdown",
   "metadata": {},
   "source": [
    "**Think:** \n",
    "- Why don't you see the whole globe in each panel?\n",
    "\n",
    "---\n",
    "\n",
    "Next we're really interested in the differences between the simulations, let's have a look:\n",
    "\n",
    "### We can also look at a *time series*\n",
    "- This examples uses the `.sel` function to look at a single point for a point in the Amazon\n",
    "- Below, we'll also use subplots to see multiple variables in several panels"
   ]
  },
  {
   "cell_type": "code",
   "execution_count": null,
   "metadata": {},
   "outputs": [],
   "source": [
    "point = ds.sel(lon=300, lat=-5, method='nearest')\n",
    "point.ASA.plot(hue='sim',x='time') ;"
   ]
  },
  {
   "cell_type": "markdown",
   "metadata": {},
   "source": [
    "**Think:** \n",
    "- Why is albedo in these simulations so different?\n",
    "- What could cause these differences in albedo in two simulations that are seeing idential climate and should have the same prescribed leaf area index (LAI)?"
   ]
  },
  {
   "cell_type": "code",
   "execution_count": null,
   "metadata": {},
   "outputs": [],
   "source": [
    "plt.figure(figsize=(10,6))\n",
    "'''this first plot is the same as the one above'''\n",
    "plt.subplot(221)\n",
    "point.ASA.plot(hue='sim',x='time')\n",
    "plt.xlabel(None)\n",
    "\n",
    "'''now we'll look for potential sources of the difference'''\n",
    "plt.subplot(222)\n",
    "point.ELAI.plot(hue='sim',x='time') \n",
    "plt.xlabel(None)\n",
    "\n",
    "plt.subplot(223)\n",
    "point.FSDS.plot(hue='sim') \n",
    "plt.title(None)\n",
    "\n",
    "plt.subplot(224)\n",
    "point.FSR.plot(hue='sim') \n",
    "plt.title(None) ;"
   ]
  },
  {
   "cell_type": "markdown",
   "metadata": {},
   "source": [
    "**Look** \n",
    "- Are the simulations seeing the same input data?\n",
    "- Is LAI be prescribed identically?\n",
    "- What's driving the differences in albedo between FATES and CTSM5.1 simulations?\n",
    "- **Is this happening elsewhere?**"
   ]
  },
  {
   "cell_type": "code",
   "execution_count": null,
   "metadata": {},
   "outputs": [],
   "source": [
    "dsDiff = ds.isel(sim=1) - ds.isel(sim=0)\n",
    "dsDiff.ASA.plot(x='lon',y='lat',col=\"time\", col_wrap=6, robust=True) ;"
   ]
  },
  {
   "cell_type": "markdown",
   "metadata": {},
   "source": [
    "**Look:** \n",
    "- How is albedo different in CTSM-FATESsp and CTSM5.1-sp?\n",
    "- Where are the differences the largest? \n",
    "- Are the differences consistent throughout the year?\n",
    "- What's driving the differences in albedo in different regions?"
   ]
  },
  {
   "cell_type": "code",
   "execution_count": null,
   "metadata": {},
   "outputs": [],
   "source": [
    "dsDiff.FSDS.plot(x='lon',y='lat',col=\"time\", col_wrap=6, vmax=0.1,vmin=-0.1) ;"
   ]
  },
  {
   "cell_type": "markdown",
   "metadata": {},
   "source": [
    "**Look:** \n",
    "- These differences in incoming solar are tiny\n"
   ]
  },
  {
   "cell_type": "code",
   "execution_count": null,
   "metadata": {},
   "outputs": [],
   "source": [
    "dsDiff.ELAI.plot(x='lon',y='lat',col=\"time\", col_wrap=6, robust=True) ;"
   ]
  },
  {
   "cell_type": "markdown",
   "metadata": {},
   "source": [
    "**Look:** \n",
    "- What regions are LAI differences the greatest\n",
    "- What times of year is this true?"
   ]
  },
  {
   "cell_type": "markdown",
   "metadata": {},
   "source": [
    "---\n",
    "## Global time series\n",
    "There are many cases that we may like to calculate global integrated time series for particular variables.\n",
    "This should be pretty straightforward, but it requires weighting the values from each grid cell by the total land area of individual gridcells.  The example below does this for our dataset. \n",
    "\n",
    "We'll calculate a:\n",
    "- land area `la` that's the product of land fraction and gridcell area, units are the same as area.\n",
    "- land weights `lw` will be the fractional weight that each grid makes to the global total.  It should be larger near the equator, and smaller at the poles and coast"
   ]
  },
  {
   "cell_type": "code",
   "execution_count": null,
   "metadata": {},
   "outputs": [],
   "source": [
    "la = (ds.landfrac*ds.area).isel(time=0,sim=0).drop(['time','sim'])\n",
    "la.attrs['units'] = ds.area.attrs['units']\n",
    "lw = la/la.sum()\n",
    "lw.plot() ;\n"
   ]
  },
  {
   "cell_type": "markdown",
   "metadata": {},
   "source": [
    "### Calculate and plot a global weighted sum\n",
    "<div class=\"alert alert-block alert-warning\">\n",
    "\n",
    "<b>NOTE:</b>  Other variables may make more sense to sum the global flux (e.g. global GPP as gC/unit time).  To do this you need to use the land area variable when calculating a global sum, <b>just remember pay attention to the units you're using!</b>\n",
    "\n",
    "</div>\n"
   ]
  },
  {
   "cell_type": "code",
   "execution_count": null,
   "metadata": {},
   "outputs": [],
   "source": [
    "dsGlobalWgt = (ds * lw).sum(['lat','lon'])\n",
    "\n",
    "plt.figure(figsize=(12,5))\n",
    "plotVars = ['ASA','FSDS','ELAI','FSR']\n",
    "for i in range(len(plotVars)):\n",
    "    # First add metadata for plotting\n",
    "    dsGlobalWgt[plotVars[i]].attrs['long_name'] = ds[plotVars[i]].attrs['long_name']\n",
    "    dsGlobalWgt[plotVars[i]].attrs['units'] = ds[plotVars[i]].attrs['units']\n",
    "\n",
    "    # then make plots\n",
    "    plt.subplot(2,2,(i+1))\n",
    "    dsGlobalWgt[plotVars[i]].plot(hue='sim')\n",
    "    \n",
    "    if i == 0:\n",
    "        plt.title('Weighted global mean',loc='left', fontsize='large', fontweight='bold')\n",
    "        \n",
    "    if i<2:\n",
    "        plt.xlabel(None)"
   ]
  },
  {
   "cell_type": "markdown",
   "metadata": {},
   "source": [
    "---\n",
    "## Calculate and plot an annual weighted mean\n",
    "This examples walk through calculating annual averages, \n",
    "that are weighted for the number of days per month.\n",
    "\n",
    "1. First we'll define a function to do this with.\n",
    "2. Then we'll make a nice plot of the results."
   ]
  },
  {
   "cell_type": "code",
   "execution_count": null,
   "metadata": {},
   "outputs": [],
   "source": [
    "# generate annual means, weighted by days / month\n",
    "def weighted_annual_mean(array):\n",
    "    mon_day  = xr.DataArray(np.array([31,28,31,30,31,30,31,31,30,31,30,31]), dims=['month'])\n",
    "    mon_wgt  = mon_day/mon_day.sum()\n",
    "    return (array.rolling(time=12, center=False) # rolling\n",
    "            .construct(\"month\") # construct the array\n",
    "            .isel(time=slice(11, None, 12)) # slice so that the first element is [1..12], second is [13..24]\n",
    "            .dot(mon_wgt, dims=[\"month\"]))\n",
    "\n",
    "for i in range(len(plotVars)):\n",
    "    temp = weighted_annual_mean(\n",
    "        ds[plotVars[i]].chunk({\"time\": 12}))\n",
    "    \n",
    "    if i ==0:\n",
    "        dsAnn = temp.to_dataset(name=plotVars[i])\n",
    "    else:\n",
    "        dsAnn[plotVars[i]] = temp\n",
    "        \n",
    "dsAnn.ELAI.plot(x='lon',y='lat',col='sim',\n",
    "               col_wrap=2, robust=True) ;"
   ]
  },
  {
   "cell_type": "markdown",
   "metadata": {},
   "source": [
    "### Define function for plotting maps\n",
    "This is kind of complicated function, but it allows you to make several pretty maps in one figure\n",
    "\n",
    "Additional examples and information are available on the [cartopy website](https://scitools.org.uk/cartopy/docs/v0.15/index.html)"
   ]
  },
  {
   "cell_type": "code",
   "execution_count": null,
   "metadata": {},
   "outputs": [],
   "source": [
    "import cartopy.feature as cfeature\n",
    "from cartopy.util import add_cyclic_point\n",
    "import copy\n",
    "\n",
    "# Generate a function for making panel plots of maps\n",
    "## many of these features are not required, but provide additional control over plotting\n",
    "def map_function(da, cb=0, cmap='viridis', panel=None,  ax=None, \n",
    "                 title=None, vmax=None, vmin=None, units=None,nbins=200):\n",
    "    '''a function to make one subplot'''\n",
    "    wrap_data, wrap_lon = add_cyclic_point(da.values, coord=da.lon)\n",
    "\n",
    "    if ax is None: ax = plt.gca()\n",
    "\n",
    "    # define the colormap, including the number of bins\n",
    "    cmap = copy.copy(plt.get_cmap(cmap,nbins))\n",
    "    #cmap.set_bad( \"gray\", alpha=0.05 )\n",
    "    #cmap.set_under( \"white\", alpha=1 )\n",
    "    im = ax.pcolormesh(wrap_lon,da.lat,wrap_data,\n",
    "                   transform=ccrs.PlateCarree(),\n",
    "                   vmax=vmax,vmin=vmin,cmap=cmap)\n",
    "\n",
    "    # set the bounds of your plot\n",
    "    ax.set_extent([-180,180,-56,85], crs=ccrs.PlateCarree())\n",
    "\n",
    "    # add title & panel lables\n",
    "    ax.set_title(title,loc='left', fontsize='large', fontweight='bold')\n",
    "    ax.annotate(panel, xy=(0.05, 0.90), xycoords=ax.transAxes,\n",
    "                ha='center', va='center',fontsize=16)    \n",
    "\n",
    "    # add plotting features\n",
    "    ax.coastlines()\n",
    "    ocean = ax.add_feature(\n",
    "        cfeature.NaturalEarthFeature('physical','ocean','110m', facecolor='white'))\n",
    "    #land = ax.add_feature(\n",
    "    #    cfeature.NaturalEarthFeature('physical','land','110m', facecolor='grey',alpha=0.05))\n",
    "\n",
    "    \n",
    "    # control colorbars on each plot & their location\n",
    "    if cb == 1:\n",
    "        cbar = fig.colorbar(im, ax=ax,pad=0.02, fraction = 0.03, orientation='horizontal')\n",
    "        cbar.set_label(units,size=12,fontweight='bold')\n",
    "    if cb == 2:\n",
    "        cbar = fig.colorbar(im, ax=ax,pad=0.02, fraction = 0.05, orientation='vertical')    \n",
    "        cbar.set_label(units,size=12)#,weight='bold')"
   ]
  },
  {
   "cell_type": "markdown",
   "metadata": {},
   "source": [
    "#### Now make the plot!"
   ]
  },
  {
   "cell_type": "code",
   "execution_count": null,
   "metadata": {},
   "outputs": [],
   "source": [
    "i = 0\n",
    "fig, axes = plt.subplots(nrows=2, ncols=1, figsize=(13,6), constrained_layout=True,\n",
    "                         subplot_kw=dict(projection=ccrs.Robinson()))\n",
    "for index, ax in np.ndenumerate(axes):\n",
    "    #i = index[0] \n",
    "    if i == 0:\n",
    "        plotData = dsAnn.ELAI.isel(sim=1,time=0).drop(['sim','time'])\n",
    "        map_function(plotData, ax=ax,cb=2,\n",
    "                     panel='(a)', nbins=10,\n",
    "                     vmax=5,vmin=0,\n",
    "                     units='FATESsp, Annual ELAI')\n",
    "    if i == 1:\n",
    "        plotData = (dsAnn.ELAI.isel(sim=1,time=0)- \\\n",
    "                    dsAnn.ELAI.isel(sim=0,time=0))\n",
    "        map_function(plotData, ax=ax,cb=2,panel='(b)',\n",
    "                     units='Differences FATESsp-CTSM5.1',\n",
    "                     cmap='bwr',nbins=7,\n",
    "                     vmax=0.75,vmin=-0.75)\n",
    "    # there are various ways to do this part, index in this case is a tuple (ie `(0, 0)`)\n",
    "    \n",
    "\n",
    "    i = i+1"
   ]
  },
  {
   "cell_type": "markdown",
   "metadata": {},
   "source": [
    "## Extra credit challenge\n",
    "If you have extra time & energy try running through this notebook with other variables.  Interesting options could include: \n",
    "- Canopy evapotranspiration (FCEV) or \n",
    "- GPP (`FSPN` in CLM5.1-sp and `FATES_GPP` in FATES)\n",
    "\n",
    "<div class=\"alert alert-block alert-warning\">\n",
    "\n",
    "<b>HINT:</b> pay attention to units for these challenges.\n",
    "\n",
    "</div>"
   ]
  },
  {
   "cell_type": "code",
   "execution_count": null,
   "metadata": {},
   "outputs": [],
   "source": []
  }
 ],
 "metadata": {
  "kernelspec": {
   "display_name": "Python 3 (ipykernel)",
   "language": "python",
   "name": "python3"
  },
  "language_info": {
   "codemirror_mode": {
    "name": "ipython",
    "version": 3
   },
   "file_extension": ".py",
   "mimetype": "text/x-python",
   "name": "python",
   "nbconvert_exporter": "python",
   "pygments_lexer": "ipython3",
   "version": "3.9.7"
  }
 },
 "nbformat": 4,
 "nbformat_minor": 4
}
