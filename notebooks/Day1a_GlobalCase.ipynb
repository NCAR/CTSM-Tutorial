{
 "cells": [
  {
   "cell_type": "markdown",
   "metadata": {},
   "source": [
    "# Tutorial 1a: *Global Simulations* \n",
    "\n",
    "This tutorial is an introduction to running global scale simulations of the Community Terrestrial Systems Model (CTSM).  It will guide you through running a simulation and provides example visualization of simulation results. Once you complete the global simulation in this tutorial, you can use the `Day1b_Global_Visualization` tutorial to explore the model data further.\n",
    "\n",
    "In the previous `Day0b_NEON_Simulation_Tutorial` example many steps to run CLM were condensed into a single function. Here you'll how to create your own case, setup, build, and run the simulation. *These are the basic steps reqired to run CLM and modify the code to conduct model experiments*\n",
    "\n",
    "### A few notes about the model:\n",
    "- There are several configuration options of CTSM, and throughout this tutorial we will use the Community Land Model (CLM) configuration which is the climate mode of CTSM. Throughout the rest of this tutorial, we refer to the model as CLM and will use version 5.1 with satelity phenology (**CLM5.1-SP**).\n",
    "\n",
    "- **Satelite phenology (or SP)** simulations prescribe he distribution of vegetation and its leaf area index (LAI). These SP simulations useful for understanding water and energy fluxes that are simulated by the model, as well as gross primary productivity (GPP). SP simulations focus on the *biogeophysics* of the model.  Accordingly, there is no *biogeochemistry* (i.e., carbon fluxes) in SP simulations downstream of GPP calculations. This simplification removes potential feedbacks or biases that may occur from plant allocation, autotrophic respiration, and turnover on simulated LAI. SP simulations can be conducted with CLM5.1-SP, or with CLM_FATES-SP.\n",
    "\n",
    "- **FATES** - the Functionally Assembled Terrestrial Ecosystem Simulator - more relistically represents terrestrial vegetation by simulating forest size structure, disturbance, and competition.  FATES is an external module which can run within a given “Host Land Model”, here we are using CLM.  This examples uses the satelite phenology scheme in FATES, one of the reduced complexity modes of FATES that helps to isolate representation of canopy processes like radiative transfer and photosynthesis. Several FATES configurations are available in CLM.  \n",
    "\n",
    "### Additional information:\n",
    "\n",
    "Additional information about CTSM and CLM is available [on the website](https://www.cesm.ucar.edu/models/cesm2/land/), including [technical documentation](https://escomp.github.io/ctsm-docs/versions/master/html/tech_note/index.html), a [user's guide](https://escomp.github.io/ctsm-docs/versions/master/html/users_guide/index.html), and a [quickstart guide](https://escomp.github.io/CESM/release-cesm2/quickstart.html#create-a-case) for running various model configurations beyond what is covered in this tutorial.\n",
    "\n",
    "Additional information about FATES is available [on the FATES github site](https://github.com/NGEET/fates). \n",
    "\n",
    "### Questions about this tutorial? \n",
    "- Please post them on the [CTSM forum in the CESM Bulletin Board](https://bb.cgd.ucar.edu/cesm/forums/ctsm-clm-mosart-rtm.134/). Note that this resource will require you to register and log in so that you can be notified of responses to your inquiries. \n",
    "- You can also file issues on the [NCAR CTSM-Tutorial GitHub repository](https://github.com/NCAR/CTSM-Tutorial-2022).\n",
    "***"
   ]
  },
  {
   "cell_type": "markdown",
   "metadata": {},
   "source": [
    "<div class=\"alert alert-block alert-info\" markdown=\"1\">\n",
    "\n",
    "<b>TIP:</b>  Before we get started, make sure you're in a bash kernel \n",
    "<ul>\n",
    "    <li> Switch kernal (upper right of your current notebook)</li>\n",
    "    <li> Select either one of the Bash Kernels from the pop-up window</li>    \n",
    "    <li> Click select</li>    \n",
    "</ul>\n",
    "</div>\n",
    "\n",
    "\n",
    "<div>\n",
    "<img src=\"../images/kernel.png\" width=\"670\" />\n",
    "</div>\n",
    "\n",
    "\n",
    "<div class=\"alert alert-block alert-info\" markdown=\"1\">\n",
    "\n",
    "<b>HINT:</b>  Most of the examples in this tutorial can be run directly from code \n",
    "cell of this notebook.  \n",
    "\n",
    "It's also helpful to have a terminal window open to run from the command line.\n",
    "To open a tab with a terminal window connection \n",
    "\n",
    "\n",
    "First you need to open a terminal window within CESM-Lab:\n",
    "<ol>\n",
    "    <li> Click on the + symbol in the upper left for a <i>New Launcher</i></li>\n",
    "    <li> Click on the <i>Terminal</i> icon</li>\n",
    "</ol>\n",
    "</div>\n",
    "\n",
    "\n",
    "<div>\n",
    "    <img src=\"../images/LaunchTerminal.png\" \n",
    "         style=\"width:655px; height:375px;\" />\n",
    "</div>\n",
    "\n",
    "***"
   ]
  },
  {
   "cell_type": "markdown",
   "metadata": {},
   "source": [
    "---\n",
    "## In this tutorial\n",
    "\n",
    "The tutorial has several components. Below you will find steps to: \n",
    "1. Run an out-of-the-box CLM simulation using CLM_FATES-SP\n",
    "2. Locate model history files\n",
    "3. Basic visualization of model history files"
   ]
  },
  {
   "cell_type": "markdown",
   "metadata": {},
   "source": [
    "<div class=\"alert alert-block alert-warning\">\n",
    "\n",
    "<b>NOTICE:</b>  This tutorial assumes that you've done your homework! \n",
    "\n",
    "If you haven't downloaded CTSM from the github repository you need to go back to the <b>Day0a_GitStarted tutorial</b> and do this first!\n",
    "\n",
    "</div>\n",
    "\n",
    "***"
   ]
  },
  {
   "cell_type": "markdown",
   "metadata": {},
   "source": [
    "<h1> 1. Set up and run a simulation</h1>\n",
    "\n",
    "### CTSM can be run in 4 simple steps.\n",
    "\n",
    "<h4>1.1 create a new case </h4>\n",
    "\n",
    "- *This step sets up a new simulation. It is the most complicated of these four steps because it involves making choices to set up the model configuration*\n",
    "\n",
    "#### 1.2 invoke case.setup\n",
    "- *This step configures the model so that it can compile*\n",
    "\n",
    "#### 1.3 build the executable\n",
    "- *This step compiles the model*\n",
    "\n",
    "#### 1.4 submit your run to the batch queue\n",
    "- *This step submits the model simulation to the cloud*"
   ]
  },
  {
   "cell_type": "markdown",
   "metadata": {},
   "source": [
    "***\n",
    "<h1> 1.1 create a new case</h1>\n",
    "\n",
    "*Set up a new simulation*\n",
    "***\n"
   ]
  },
  {
   "cell_type": "markdown",
   "metadata": {},
   "source": [
    "## 1.1.1 create a directory for cases\n",
    "This is a one-time step to create a directory to store your experiment cases:"
   ]
  },
  {
   "cell_type": "code",
   "execution_count": null,
   "metadata": {},
   "outputs": [],
   "source": [
    "mkdir ~/clm_tutorial_cases"
   ]
  },
  {
   "cell_type": "markdown",
   "metadata": {},
   "source": [
    "## 1.1.2 navigate to the source code directory\n",
    "\n",
    "Your source code is in your home directory\n",
    "\n",
    "<div>\n",
    "<img src=\"../images/SourceCode.png\" width=\"460\" height=\"460\" />\n",
    "</div>"
   ]
  },
  {
   "cell_type": "code",
   "execution_count": null,
   "metadata": {},
   "outputs": [],
   "source": [
    "cd ~/CTSM/cime/scripts"
   ]
  },
  {
   "cell_type": "markdown",
   "metadata": {},
   "source": [
    "<div class=\"alert alert-block alert-info\">\n",
    "<b>NOTE:</b> on Cheyenne the path would look like this: <i>/glade/u/home/$USER/CTSM/cime/scripts</i>\n",
    "</div>\n",
    "\n",
    "<div class=\"alert alert-block alert-warning\">\n",
    "FIXME (Brian): Is this needed?  That's still the same here - cloud, container, Cheyenne are all identical.\n",
    "</div>"
   ]
  },
  {
   "cell_type": "markdown",
   "metadata": {},
   "source": [
    "## 1.1.3 Create a new case"
   ]
  },
  {
   "cell_type": "code",
   "execution_count": null,
   "metadata": {},
   "outputs": [],
   "source": [
    "./create_newcase --case ~/clm_tutorial_cases/I2000_CTSM_FATESsp --res f45_g37 --compset I2000Clm51Fates  --run-unsupported"
   ]
  },
  {
   "cell_type": "markdown",
   "metadata": {},
   "source": [
    "### **./create_newcase**\n",
    "\n",
    "<div class=\"alert alert-block alert-info\">\n",
    "\n",
    "<b>NOTE:</b> There is a lot of information that goes into creating a case.\n",
    "\n",
    "You can learn more about the options by typing <i>./create_newcase --help</i> on the the command line.\n",
    "\n",
    "<b>We'll briefly go over some of the highlights here.</b>\n",
    "\n",
    "</div>"
   ]
  },
  {
   "cell_type": "markdown",
   "metadata": {},
   "source": [
    "### Required argements to create a new case\n",
    "There are 3 Required arguments Needed to create a new case.  These include \n",
    "1. `--case`, which specifies the *location* and *name* of the case being created\n",
    " - `~` = your home directory\n",
    " - `clm_tutorial_cases` = the subdirectory we created to store your cases in 1.1.1\n",
    " - `I2000_CTSM_FATESsp` = the name of the case you're creating\n",
    " - *Recommendation:* Use meaningful names, including model version, type of simulation, and any additional details to help you remember the configuration of this simulation\n",
    "<br><br>  \n",
    "2. `--res` Defines the model *resolution*, or grid,\n",
    " - `f45_g37`, which is an alias for a 4x5 degree grid on the atmosphere and land (*f45*).  This coarse resolution is more efficient for testing. Note, *g37* refers to the resolution of the ocean model. Don't worry the ocean model won't be used for this case.\n",
    " - commonly the land model is run at a nominal 1 degree `f09_g17` or 2 degree `f19_g17` resolution \n",
    " - Using `./query_config --res` provides a list of supported model resolutions\n",
    "<br><br>\n",
    "3. `--compset` Defines the *component set* for your case, \n",
    " - The Component set specifies the default configuration for the case which includes:\n",
    "   - Component models (e.g. active vs. data vs. stub), \n",
    "   - Timpe period of simulations and forcing scenarios (e.g. 1850 vs 2000 vs. HIST) and \n",
    "   - Physics options (e.g. CLM5.1 vs CLM5.0). \n",
    " - `I2000Clm51Fates` is alias that actually describes a much longer set of components that are being used for this case. \n",
    " - All CLM-only compsets start with *\"I\"*.\n",
    " - Using `./query_config --compsets clm` provides examples of other CLM compsets\n",
    "***\n",
    "\n",
    "you can try this here"
   ]
  },
  {
   "cell_type": "code",
   "execution_count": null,
   "metadata": {},
   "outputs": [],
   "source": [
    "./query_config --compsets clm"
   ]
  },
  {
   "cell_type": "markdown",
   "metadata": {},
   "source": [
    "### More on component sets\n",
    "The long name for the compset is `2000_DATM%GSWP3v1_CLM51%FATES_SICE_SOCN_MOSART_SGLC_SWAV`, which defines\n",
    "   - time = `2000_` (vs. 1850, HIST, SSP, etc)\n",
    "   - data atmosphere `DATM%GSWP3v1_`, here from GSWP3, as opposed to model atmosphere (CAM) \n",
    "   - land model `CLM51%FATES_` CLM5.1 physics package with FATES\n",
    "   - stub sea ice model `SICE_`\n",
    "   - stub ocean model `SOCN_` (see there's no active ocean model!)\n",
    "   - mosart river model `MOSART_`\n",
    "   - stub glacier `SGLC_`\n",
    "   - stub wave model `SWAV_`   \n",
    "\n",
    "<div>\n",
    "<img src=\"../images/Components.png\" width=\"460\" height=\"460\" />\n",
    "</div>\n",
    "\n",
    "\n",
    "Key Definitions:\n",
    "- **Active:** Simulation is using the code from the model during the run\n",
    "- **Data:** Simulation is reading in data from a file for this component\n",
    "- **Stub:** Component is not being used\n",
    "<br><br> \n",
    "\n",
    "<div class=\"alert alert-block alert-warning\" markdown=\"1\">\n",
    "\n",
    "<b>HINT:</b> Some compsets are scientifically supported and others are not. You can use an unsupported compset, but will need to add the option <i>--run_unsupported</i> at the end of the <i>create_newcase</i> command line.\n",
    "\n",
    "</div>\n",
    "\n",
    "\n",
    "<div class=\"alert alert-block alert-info\" markdown=\"1\">\n",
    "\n",
    "<b>TIP:</b> More information on model <a href=\"https://www.cesm.ucar.edu/models/cesm2\" target=\"_top\">Configurations and Grids can be found on  the CESM website</a> (see <i>Configurations and Grids</i> subheading at the bottom of the page)\n",
    "\n",
    "</div>"
   ]
  },
  {
   "cell_type": "markdown",
   "metadata": {},
   "source": [
    "***\n",
    "<h1> 1.2 Invoke case.setup </h1>\n",
    "\n",
    "*This step configures the model so that it can compile* \n",
    "***\n"
   ]
  },
  {
   "cell_type": "markdown",
   "metadata": {},
   "source": [
    "## 1.2.1 Move to your case directory"
   ]
  },
  {
   "cell_type": "code",
   "execution_count": null,
   "metadata": {},
   "outputs": [],
   "source": [
    "cd ~/clm_tutorial_cases/I2000_CTSM_FATESsp"
   ]
  },
  {
   "cell_type": "markdown",
   "metadata": {},
   "source": [
    "## 1.2.2 Set up your case\n",
    "\n",
    "The `./case.setup` script:\n",
    "1. configures the model\n",
    "2. creates files to modify input data and run options"
   ]
  },
  {
   "cell_type": "code",
   "execution_count": null,
   "metadata": {},
   "outputs": [],
   "source": [
    "./case.setup"
   ]
  },
  {
   "cell_type": "markdown",
   "metadata": {},
   "source": [
    "Using this command, we just configured the model and created the files to modify options & input data.\n",
    "<div>\n",
    "<img src=\"../images/CaseSetup.png\" width=\"670\" />\n",
    "</div>"
   ]
  },
  {
   "cell_type": "markdown",
   "metadata": {},
   "source": [
    "***\n",
    "<h1> 1.3 Build the executable  </h1>\n",
    "\n",
    "*This step compiles the model*\n",
    "***"
   ]
  },
  {
   "cell_type": "markdown",
   "metadata": {},
   "source": [
    "The `./case.build` script:\n",
    "1. Checks input data\n",
    "2. Creates a build/run directory with model executable and namelists"
   ]
  },
  {
   "cell_type": "code",
   "execution_count": null,
   "metadata": {},
   "outputs": [],
   "source": [
    "./case.build"
   ]
  },
  {
   "cell_type": "markdown",
   "metadata": {},
   "source": [
    "<style> \n",
    "table td, table th, table tr {text-align:left !important;}\n",
    "</style>\n",
    "<div class=\"alert alert-block alert-info\">\n",
    "\n",
    "<b>NOTE:</b> The command <i>qcmd -- ./case.build</i> is specific for cheyenne and runs the command on a computing node, reducing the load on the login node. <b>You must include <i>qcmd --</i> when running on cheyenne.</b>\n",
    "\n",
    "</div>\n",
    "\n",
    "<div class=\"alert alert-block alert-warning\">\n",
    "FIXME (Brian): For CESM-Lab on clouds/containers, we can add 'qcmd'... but obviously we can't on other systems (eg, NERSC, university clusters, etc) unless they're using the container.  Should we add something about that here?  For the cloud, we want people to use 'qcmd', since it'll launch a multi-CPU node to build on, instead of having 50+ people building on the same node at the same time.\n",
    "</div>\n",
    "\n",
    "---"
   ]
  },
  {
   "cell_type": "markdown",
   "metadata": {},
   "source": [
    "<h1> 1.4 Submit your run  </h1>\n",
    "\n",
    "*This step submits the model simulation*\n",
    "\n",
    "But first we need to check on a few thing\n",
    "***"
   ]
  },
  {
   "cell_type": "markdown",
   "metadata": {},
   "source": [
    "## Case Customization Checks\n",
    "The model is now compiled and ready to run! \n",
    "\n",
    "There are a few things we should check before submitting the run. \n",
    "\n",
    "Customizing your case can happen in a few ways. Here we'll introduce:\n",
    "1. XML change (`*.xml` files), and\n",
    "2. Namelist modifications (`user_nl_*` files)\n",
    "\n",
    "## 1.4.1 XLM files\n",
    "You may want to customize a number of features for your simulation.  For example:\n",
    "1. How many days or years will the model simulate?\n",
    "2. How much time does the computer need for this simulation?\n",
    "3. Which computing project account is the model charging to?\n",
    "\n",
    "These options are specified in the `env_*.xml` files in your case directory\n",
    "\n",
    "The XML files can be modified directly, but we recommend that you use the `xmlchange` script.\n",
    "Next, we’ll review how to check and modify variables in XML files."
   ]
  },
  {
   "cell_type": "markdown",
   "metadata": {},
   "source": [
    "### `xmlchange`\n",
    "Using the `xmlchange` script is the preferred method to modify XML files, but you can edit XML files by hand\n",
    "\n",
    "**Benefits of using `xmlchange`:**\n",
    "1. Allows changing variables in env_*.xml files using a command-line interface\n",
    "2. Won’t let you mess up the syntax! The script checks the setting immediately for validity.\n",
    "3. Settings are copied into the CaseStatus file, providing documentation of your changes.\n",
    "\n",
    "<div>\n",
    "<img src=\"../images/xmlFiles.png\" width=\"670\" />\n",
    "</div>\n",
    "\n",
    "The `env_batch.xml` and `env_run.xml` files include most of the variables you will need to modify to set up and run simulations.\n",
    "\n",
    "These files can be changed at any time before running the simulation.\n",
    "\n",
    "<div class=\"alert alert-block alert-info\", markdown='1'>\n",
    "\n",
    "<b>A few useful tips for using the xml scripts:</b>\n",
    "<ol>\n",
    "<li>Use <i>./xmlquery --listall</i> to list variables and their values in the .xml files</li>\n",
    "<li> Modify a variable in a .xml file, use <i>./xmlchange</i></li>\n",
    "<li> For help, type <i>./xmlchange --help</i></li>\n",
    "<li> To list variables in a specific file <i>./xmlquery --file env_run.xml</i> (here env_run.xml). </li>\n",
    "<li> You can also search for multiple variables, separating the variable names with a comma (“,”). For example, <i>./xmlquery –p {string}</i> will search for every variable that includes this string. <b>Try it for “STOP” or “CLM”</b>. </li>\n",
    "</ol>\n",
    "</div>\n",
    "\n",
    "#### Example: \n",
    "`./xmlchange {variable to be changed}={value to change to}`\n",
    "<br><br> \n",
    "\n",
    "*****"
   ]
  },
  {
   "cell_type": "markdown",
   "metadata": {},
   "source": [
    "Many runtime variables are found in the `env_run.xml` file. The variables in this file control the mechanics of the run (length, resubmits, and archiving).\n",
    "\n",
    "Common variables in env_run.xml to change include:\n",
    "1. `STOP_OPTION` sets the run-time interval type, i.e. nmonths, ndays, nyears\n",
    "2. `STOP_N` sets the number of run-time intervals to run the model during the specified wallclock time.\n",
    " - Wallclock time is set in the env_batch.xml file and is a measure of the actual time. \n",
    "3. `RESUBMIT` sets the number of times to resubmit the run\n",
    "\n",
    "#### **To Do:** \n",
    "Use `xmlquery` to find the values of the variables listed above. Feel free to play around with options \n"
   ]
  },
  {
   "cell_type": "code",
   "execution_count": null,
   "metadata": {},
   "outputs": [],
   "source": [
    "./xmlquery STOP_OPTION\n",
    "./xmlquery STOP_N\n",
    "./xmlquery RESUBMIT"
   ]
  },
  {
   "cell_type": "markdown",
   "metadata": {},
   "source": [
    "---\n",
    "\n",
    "From the list above, you should find these values:\n",
    "1. `STOP_OPTION` -> ndays\n",
    "2. `STOP_N` -> 5\n",
    "- By default, the model is set to run for 5 days. \n",
    "3. `RESUBMIT` -> 0\n",
    "- Resubmitting your job, allows for longer runs (when you run out of wall clock time) by continuing the run from a restart file."
   ]
  },
  {
   "cell_type": "markdown",
   "metadata": {},
   "source": [
    "***\n",
    "\n",
    "*We will not see any model output from a 5-day model run because history files with model output are only recorded every month by default*\n",
    "\n",
    "- Let’s change the length of the simulation to 1 year."
   ]
  },
  {
   "cell_type": "code",
   "execution_count": null,
   "metadata": {},
   "outputs": [],
   "source": [
    "./xmlchange STOP_OPTION=nyears\n",
    "./xmlchange STOP_N=1"
   ]
  },
  {
   "cell_type": "markdown",
   "metadata": {},
   "source": [
    "This changes the run-time interval from 5 days to one year. \n",
    "\n",
    "\n",
    "*We won't resubmit this case, but setting `RESUBMIT=1`, would allow you to run for a second year.*\n",
    "\n",
    "<div class=\"alert alert-block alert-info\" markdown='1'>\n",
    "\n",
    "<b>NOTE:</b> If you try to change a variable to a value that isn’t an option, you will get an error message with a list of valid values.\n",
    "    \n",
    "</div>\n",
    "\n",
    "\n",
    "Verify that the changes worked as you expected:"
   ]
  },
  {
   "cell_type": "code",
   "execution_count": null,
   "metadata": {},
   "outputs": [],
   "source": [
    "./xmlquery STOP_OPTION"
   ]
  },
  {
   "cell_type": "code",
   "execution_count": null,
   "metadata": {},
   "outputs": [],
   "source": [
    "./xmlquery STOP_N"
   ]
  },
  {
   "cell_type": "markdown",
   "metadata": {},
   "source": [
    "***\n",
    "We also need to check that we are using the correct project code and giving the computer enough time to run the simulation. These are found in the `env_workflow.xml` file.\n",
    "### **To Do:**\n",
    "*Use xmlquery to check*\n",
    "1. PROJECT\n",
    "2. JOB_WALLCLOCK_TIME\n",
    "\n",
    "*Do you remember how to do this? If not, review the command-line prompts above.*"
   ]
  },
  {
   "cell_type": "code",
   "execution_count": null,
   "metadata": {},
   "outputs": [],
   "source": []
  },
  {
   "cell_type": "markdown",
   "metadata": {},
   "source": [
    "***\n",
    "\n",
    "<div class=\"alert alert-block alert-info\" markdown='1'>\n",
    "\n",
    "<b>NOTE:</b> The project code isn't important for these simulations. But you may need to change this if you're running on Cheyenne.\n",
    "\n",
    "</div>\n",
    "\n",
    "It won’t take 12 hours to run a 5-year simulation and your simulation will get into the queue more quickly if you set a shorter run time.\n",
    "\n",
    "A typical CLM-only 1850 satellite phenology (SP) simulation at 2 degree resolution will run ~115 years in 12 hours. *How long will it take to run 5 years?* (I usually round up to the nearest 30 minute interval)\n",
    "\n",
    "CLM-FATESsp is more slower to run than CLM-SP.  We're also running with a limited number of nodes on the cloud. A 4x5 resolution CLM-FATESsp cases like the one we have here run ~85 years in 12 hours.\n",
    "\n",
    "### **To Do:**\n",
    "Change the `JOB_WALLCLOCK_TIME` to the amount of time you estimate your simulation will take (the answer to the above question)\n",
    "\n",
    "<div class=\"alert alert-block alert-warning\">\n",
    "FIXME (Brian): For the container, we don't need a JOB_WALLCLOCK_TIME - should we add something about that in here?\n",
    "</div>\n",
    "\n",
    "Do you remember how to do this? If not, review the command-line prompts above."
   ]
  },
  {
   "cell_type": "code",
   "execution_count": null,
   "metadata": {},
   "outputs": [],
   "source": []
  },
  {
   "cell_type": "markdown",
   "metadata": {},
   "source": [
    "<div class=\"alert alert-block alert-info\" markdown=\"1\">\n",
    "<b>HINT</b> You can find out timing information for some standard simulations <a href=\"https://csegweb.cgd.ucar.edu/timing/cgi-bin/timings.cgi\" target=\"_top\">here</a>. Click on a compset similar to the one you will run and look for the “model throughput” value. This is how many simulated years the computer can run in a 24-hour timeframe.  <i>If you're running on Cheyenne</i>, you can estimate the amount of time you’ll need based on this.\n",
    "    \n",
    "</div>"
   ]
  },
  {
   "cell_type": "markdown",
   "metadata": {},
   "source": [
    "***\n",
    "## 1.4.2 Namelist changes\n",
    "You may want to customize additional features for your simulation. These can be controled with namelist changes.\n",
    "- Not all changes can be made with `./xmlchange`\n",
    "- Additional changes made using namelist files: `user_nl_<model>`\n",
    "- `user_nl_<model>` files are created in the case directory after `./case.setup`"
   ]
  },
  {
   "cell_type": "markdown",
   "metadata": {},
   "source": [
    "The compset that you created your case with sets up initial, or default namelist options. These can be found in `CaseDocs/lnd_in`\n",
    "- `user_nl_clm` modifies the namelist `lnd_in` options\n",
    "- *Important:* Don’t modify the namelist file (`lnd_in`) directly. Instead, make changes in `user_nl_clm`.\n",
    "- Some namelist variables can also be changed in env_run.xml file. \n",
    "- This [website has CLM5.0 namelist variables](http://www.cesm.ucar.edu/models/cesm2/settings/current/clm5_0_nml.html)"
   ]
  },
  {
   "cell_type": "markdown",
   "metadata": {},
   "source": [
    "Turn on the SP configuration of FATES"
   ]
  },
  {
   "cell_type": "code",
   "execution_count": null,
   "metadata": {},
   "outputs": [],
   "source": [
    "echo \"use_fates_sp = .true.\" >> user_nl_clm"
   ]
  },
  {
   "cell_type": "markdown",
   "metadata": {},
   "source": [
    "This is a simplified way of writing information to `user_nl_clm`\n",
    "\n",
    "Check that it worked by opening the file in an editor.  \n",
    "\n",
    "<div class=\"alert alert-block alert-warning\">\n",
    "\n",
    "<b>TIP</b> You can do this with any editor. The two options below use emacs or vi, but there are lots of other options as well as resources for how to use these online.\n",
    "\n",
    "</div>\n",
    "\n",
    "---"
   ]
  },
  {
   "cell_type": "markdown",
   "metadata": {},
   "source": [
    "**To Do:**\n",
    "\n",
    "Open your `user_nl_clm` file to see what's inside.\n",
    "\n",
    "The following options have to be done with an editor from the command line in your terminal window."
   ]
  },
  {
   "cell_type": "markdown",
   "metadata": {},
   "source": [
    "`emacs ~/clm_tutorial_cases/I2000_CTSM_FATESsp/user_nl_clm`\n",
    "\n",
    "_or_\n",
    "\n",
    "`vi ~/clm_tutorial_cases/I2000_CTSM_FATESsp/user_nl_clm`\n",
    "\n",
    "Altrnatively you can just `cat` the file from this notebook, but you won't be able to make changes"
   ]
  },
  {
   "cell_type": "code",
   "execution_count": null,
   "metadata": {},
   "outputs": [],
   "source": [
    "cat ~/clm_tutorial_cases/I2000_CTSM_FATESsp/user_nl_clm"
   ]
  },
  {
   "cell_type": "markdown",
   "metadata": {},
   "source": [
    "<br>\n",
    "\n",
    "*Is fates_sp set to true?*"
   ]
  },
  {
   "cell_type": "markdown",
   "metadata": {},
   "source": [
    "---\n",
    "## 1.4.3 Submit the case!"
   ]
  },
  {
   "cell_type": "code",
   "execution_count": null,
   "metadata": {},
   "outputs": [],
   "source": [
    "./case.submit"
   ]
  },
  {
   "cell_type": "markdown",
   "metadata": {},
   "source": [
    "\n",
    "When you submit a job, you will see confirmation that it successfully submitted:\n",
    "\n",
    "### Congratulations! You've created and run global CLM-FATES-SP case.\n",
    "\n",
    "Next, you will probably want to check on the status of your jobs.\n",
    "\n",
    "<div class=\"alert alert-block alert-info\" markdown=\"1\">\n",
    "\n",
    "<b>TIP:</b> This is dependent on the scheduler that you're using. \n",
    "\n",
    "<ul>\n",
    "<li>Cheyenne uses <b>PBS</b> where status is checked with <i>qstat -u $USER</i></li>\n",
    "<li>This is also enabled in the cloud for you, try it in the code block below</li></ul>\n",
    "\n",
    "If you want to stop the simulation, you can do so with qdel here (or on Cheyenne).\n",
    "<ul>\n",
    "<li> Find your Job ID after typing <i>qstat</i> </li>\n",
    "<li> Type <i>qdel {Job ID}</i> </li>\n",
    "</ul>\n",
    "</div>"
   ]
  },
  {
   "cell_type": "code",
   "execution_count": null,
   "metadata": {},
   "outputs": [],
   "source": [
    "qstat -u $USER"
   ]
  },
  {
   "cell_type": "markdown",
   "metadata": {},
   "source": [
    "****\n",
    "# 2. Locate model history files\n",
    "Your simulation will likely take some time to complete. The information\n",
    "provided next shows where the model output will be located while the\n",
    "model is running and once the simulation is complete. We also provide\n",
    "files from a simulation that is already complete so that you can do the\n",
    "next exercises before your simulation completes. \n",
    "\n",
    "<div class=\"alert alert-block alert-info\" markdown=\"1\">\n",
    "\n",
    "<b>When your simulation is running</b> history files go to your scratch directory: \n",
    "\n",
    "<ul>\n",
    "<li><i>/scratch/{USER}/{CASE}</i> </li>\n",
    "</ul>\n",
    "\n",
    "Within this directory you can find <i>/run</i> and <i>/bld</i> subdirectories.\n",
    "\n",
    "<b>When the simulation is complete</b>, a short-term archive directory is created, and history files are moved here: \n",
    "\n",
    "<ul>\n",
    "<li><i>/scratch/{USER}/<b>archive/</b>/lnd/hist/</i> </li>\n",
    "</ul>\n",
    "\n",
    "Note that files necessary to continue the run are left in the run directory: <i>/glade/scratch/{USER}/{CASE}/run</i>\n",
    "\n",
    "</div>\n",
    "\n",
    "<div class=\"alert alert-block alert-warning\">\n",
    "FIXME (Brian): Check with CISL if we can actually have a /scratch directory with links to /glade/scratch/<user> for consistency.\n",
    "</div>"
   ]
  },
  {
   "cell_type": "code",
   "execution_count": null,
   "metadata": {},
   "outputs": [],
   "source": [
    "cd /scratch/$USER/I2000_CTSM_FATESsp/run\n",
    "ls"
   ]
  },
  {
   "cell_type": "markdown",
   "metadata": {},
   "source": [
    "*What's in your run directory?*\n",
    "\n",
    "*Do you see any log or history files?*"
   ]
  },
  {
   "cell_type": "code",
   "execution_count": null,
   "metadata": {},
   "outputs": [],
   "source": [
    "cd /scratch/$USER/archive/I2000_CTSM_FATESsp/lnd/hist\n",
    "ls"
   ]
  },
  {
   "cell_type": "markdown",
   "metadata": {},
   "source": [
    "*What's in your archive directory?*\n",
    "\n",
    "If you don't see any history files your simulation is likely still in the queue (check using `squeue` or `qstat`). Check again before you leave today to see if your simulation completed and if the files were transferred to archive. \n",
    "\n",
    "Next, let’s explore data from a similar simulation that already ran."
   ]
  },
  {
   "cell_type": "markdown",
   "metadata": {},
   "source": [
    "<div class=\"alert alert-block alert-warning\">\n",
    "\n",
    "<b>TIP:</b> On Cheyenne these directory are found here\n",
    "<ul>\n",
    "<li> <i>/glade/scratch/{USER}/{CASE}/run</i> </li>\n",
    "<li> <i>/glade/scratch/{USER}/<b>archive</b>/{CASE}/lnd/hist/</i> </li>\n",
    "</ul>\n",
    "    \n",
    "</div>"
   ]
  },
  {
   "cell_type": "markdown",
   "metadata": {},
   "source": [
    "# 3. Basic visualization of model history files\n",
    "There are a few command-line tools you can use to view netCDF data files. Two of the most useful are:"
   ]
  },
  {
   "cell_type": "markdown",
   "metadata": {},
   "source": [
    "| | |\n",
    "|---|---|\n",
    "|`ncdump`| This is a tool that generates a text representation of netCDF data. It is useful for providing information about the variables (names, types, and shapes), dimensions (names and sizes), attributes (names and values), and values of data for all or selected variables. |\n",
    "|`ncview`|This is a browser designed to view visualization of netCDF data, displaying a 2-dimensional color representation of data. It is useful for looking at data across various dimensions using a quick and easy push-button interface. |"
   ]
  },
  {
   "cell_type": "markdown",
   "metadata": {},
   "source": [
    "<div class=\"alert alert-block alert-info\" markdown=\"1\">\n",
    "\n",
    "<b>NOTE:</b>\n",
    "This example is really for running on Cheyenne, but the ncdump command is opperational in the cloud.\n",
    "</div>\n",
    "\n",
    "<div class=\"alert alert-block alert-warning\">\n",
    "FIXME (Brian): Look into NetCDF viewers for Jupyter for CESM-Lab.\n",
    "</div>\n",
    "\n",
    "First, check the system modules that are loaded in your login environment:"
   ]
  },
  {
   "cell_type": "code",
   "execution_count": null,
   "metadata": {},
   "outputs": [],
   "source": [
    "module list"
   ]
  },
  {
   "cell_type": "markdown",
   "metadata": {},
   "source": [
    "Do you see the modules “netcdf” and “ncview”? If not, do the following:"
   ]
  },
  {
   "cell_type": "code",
   "execution_count": null,
   "metadata": {},
   "outputs": [],
   "source": [
    "module load ncview\n",
    "module load netcdf"
   ]
  },
  {
   "cell_type": "markdown",
   "metadata": {},
   "source": [
    "**Navigate to this directory, where data from a completed simulation are stored:**"
   ]
  },
  {
   "cell_type": "code",
   "execution_count": null,
   "metadata": {},
   "outputs": [],
   "source": [
    "cd /scratch/data/day1/I2000_CTSM_FATESsp/lnd/hist/\n",
    "ls *2000-*"
   ]
  },
  {
   "cell_type": "markdown",
   "metadata": {},
   "source": [
    "**Let’s look at the information included in the file in a text format**\n",
    "This is also better to execute in the command line, but you can do it here.\n",
    "\n",
    "**To Do**\n",
    "\n",
    "`ncdump -h I2000_CTSM_FATESsp.clm2.h0.2000-01.nc | more`\n",
    "\n",
    "If you must run commands in a notebook, take the # out of the code block below and run it, "
   ]
  },
  {
   "cell_type": "code",
   "execution_count": null,
   "metadata": {},
   "outputs": [],
   "source": [
    "#ncdump -h I2000_CTSM_FATESsp.clm2.h0.2000-01.nc"
   ]
  },
  {
   "cell_type": "markdown",
   "metadata": {},
   "source": [
    "<div class=\"alert alert-block alert-info\" markdown=\"1\">\n",
    "\n",
    "<b>NOTES:</b>\n",
    "<ol>\n",
    "    <li> Use the “-h” option to look through the variable names, attributes and dimensions. If you do not use an option, ncdump will list this information and all the data values of all the variables, which is a lot of information!! </li>\n",
    "    <li> Use the “| more” so that you can scroll through the information from the start of the file.</li>\n",
    "    <ul>\n",
    "        <li> hitting <i>return</i> will advance line by line</li>\n",
    "        <li> hitting the <i>space bar</i> will advance more quickly</li>\n",
    "        <li> hitting <i>q</i> will exit</li>\n",
    "    </ul>\n",
    "</ol>\n",
    "\n",
    "</div>"
   ]
  },
  {
   "cell_type": "markdown",
   "metadata": {},
   "source": [
    "**Next, let’s look at a map of the raw data**\n",
    "\n",
    "*This is also better to run from the command line*\n",
    "\n",
    "**To Do**\n",
    "\n",
    "`ncview I2000_CTSM_FATESsp.clm2.h0.20* &`"
   ]
  },
  {
   "cell_type": "markdown",
   "metadata": {},
   "source": [
    "<div class=\"alert alert-block alert-info\" markdown=\"1\">\n",
    "\n",
    "<b>NOTES:</b>\n",
    "<ol>\n",
    "<li> Here, we used the wildcard, “*”, option instead of a specific month to look at all the months between 2000-2009.</li>\n",
    "<li> Use the “&” to send this program to the background. This way you can still use the command-line.</li>\n",
    "    <li> <i>ncview</i> pops up a new window, so requires an x-forwarding option, such as XQuartz for Mac.  This should not be an issue using CESM-Lab in the cloud, but X11 forwarding may need to be configured if you're running on Cheyenne.</li> \n",
    "</ol>\n",
    "</div>\n",
    "\n",
    "<b>This will pop up an interface where you can select a variable to view.</b>\n",
    "- Play around with the different buttons & options to look at data in different ways. \n",
    "- You can also double-click on a single point and it will generate a timeseries plot.\n",
    "\n",
    "While command-line viewing options like ncdump and ncview are useful, they are limited.\n",
    "Other options for looking at data from the model include:\n",
    "- Using the developed postprocessing tools (more on this in a future tutorial)\n",
    "- Writing code to read in and analyze the netCDF files. Many languages will work: R, Python, NCL, IDL, Matlab, etc.\n",
    "\n",
    "**Next, we will use python code within Jupyter Lab to do some basic analysis of model output**"
   ]
  },
  {
   "cell_type": "code",
   "execution_count": null,
   "metadata": {},
   "outputs": [],
   "source": []
  }
 ],
 "metadata": {
  "kernelspec": {
   "display_name": "Bash [conda env:root] *",
   "language": "bash",
   "name": "conda-root-bash"
  },
  "language_info": {
   "codemirror_mode": "shell",
   "file_extension": ".sh",
   "mimetype": "text/x-sh",
   "name": "bash"
  }
 },
 "nbformat": 4,
 "nbformat_minor": 4
}
