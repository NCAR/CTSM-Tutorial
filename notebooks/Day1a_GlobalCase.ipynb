{
 "cells": [
  {
   "cell_type": "markdown",
   "metadata": {},
   "source": [
    "# Tutorial 1a: *Global Simulations* \n",
    "\n",
    "This tutorial is an introduction to running global scale simulations of the Community Terrestrial Systems Model (CTSM).  It will guide you through running a simulation and provides example visualization of simulation results. Once you complete the global simulation in this tutorial, you can use the `Day1b_Global_Visualization` tutorial to explore the model data further.\n",
    "\n",
    "In the previous `Day0b_NEON_Simulation_Tutorial` example many steps to run CLM were condensed into a single function. Here you'll how to create your own case, setup, build, and run the simulation. *These are the basic steps reqired to run CLM and modify the code to conduct model experiments*\n",
    "\n",
    "### A few notes about the model:\n",
    "- There are several configuration options of CTSM, and throughout this tutorial we will use the Community Land Model (CLM) configuration which is the climate mode of CTSM. Throughout the rest of this tutorial, we refer to the model as CLM and will use version 5.1 with satelity phenology (**CLM5.1-SP**).\n",
    "\n",
    "- **Satelite phenology (or SP)** simulations prescribe he distribution of vegetation and its leaf area index (LAI). These SP simulations useful for understanding water and energy fluxes that are simulated by the model, as well as gross primary productivity (GPP). SP simulations focus on the *biogeophysics* of the model.  Accordingly, there is no *biogeochemistry* (i.e., carbon fluxes) in SP simulations downstream of GPP calculations. This simplification removes potential feedbacks or biases that may occur from plant allocation, autotrophic respiration, and turnover on simulated LAI. SP simulations can be conducted with CLM5.1-SP, or with CLM_FATES-SP.\n",
    "\n",
    "- **FATES** - the Functionally Assembled Terrestrial Ecosystem Simulator - more relistically represents terrestrial vegetation by simulating forest size structure, disturbance, and competition.  FATES is an external module which can run within a given “Host Land Model”, here we are using CLM.  This examples uses the satelite phenology scheme in FATES, one of the reduced complexity modes of FATES that helps to isolate representation of canopy processes like radiative transfer and photosynthesis. Several FATES configurations are available in CLM.  \n",
    "\n",
    "### Additional information:\n",
    "\n",
    "Additional information about CTSM and CLM is available [on the website](https://www.cesm.ucar.edu/models/cesm2/land/), including [technical documentation](https://escomp.github.io/ctsm-docs/versions/master/html/tech_note/index.html), a [user's guide](https://escomp.github.io/ctsm-docs/versions/master/html/users_guide/index.html), and a [quickstart guide](https://escomp.github.io/CESM/release-cesm2/quickstart.html#create-a-case) for running various model configurations beyond what is covered in this tutorial.\n",
    "\n",
    "Additional information about FATES is available [on the FATES github site](https://github.com/NGEET/fates). \n",
    "\n",
    "### Questions about this tutorial? \n",
    "- Please post them on the [CTSM forum in the CESM Bulletin Board](https://bb.cgd.ucar.edu/cesm/forums/ctsm-clm-mosart-rtm.134/). Note that this resource will require you to register and log in so that you can be notified of responses to your inquiries. \n",
    "- You can also file issues on the [NCAR CTSM-Tutorial GitHub repository](https://github.com/NCAR/CTSM-Tutorial-2022).\n",
    "***"
   ]
  },
  {
   "cell_type": "markdown",
   "metadata": {},
   "source": [
    "<div class=\"alert alert-block alert-info\" markdown=\"1\">\n",
    "\n",
    "<b>TIP:</b>  Before we get started, make sure you're in a bash kernel \n",
    "<ul>\n",
    "    <li> Switch kernal (upper right of your current notebook)</li>\n",
    "    <li> Select either one of the Bash Kernels from the pop-up window</li>    \n",
    "    <li> Click select</li>    \n",
    "</ul>\n",
    "</div>\n",
    "\n",
    "\n",
    "<div>\n",
    "<img src=\"../images/kernel.png\" width=\"670\" />\n",
    "</div>\n",
    "\n",
    "\n",
    "<div class=\"alert alert-block alert-info\" markdown=\"1\">\n",
    "\n",
    "<b>HINT:</b>  Most of the examples in this tutorial can be run directly from code \n",
    "cell of this notebook.  \n",
    "\n",
    "It's also helpful to have a terminal window open to run from the command line.\n",
    "To open a tab with a terminal window connection \n",
    "\n",
    "\n",
    "First you need to open a terminal window within CESM-Lab:\n",
    "<ol>\n",
    "    <li> Click on the + symbol in the upper left for a <i>New Launcher</i></li>\n",
    "    <li> Click on the <i>Terminal</i> icon</li>\n",
    "</ol>\n",
    "</div>\n",
    "\n",
    "\n",
    "<div>\n",
    "    <img src=\"../images/LaunchTerminal.png\" \n",
    "         style=\"width:655px; height:375px;\" />\n",
    "</div>\n",
    "\n",
    "***"
   ]
  },
  {
   "cell_type": "markdown",
   "metadata": {},
   "source": [
    "---\n",
    "## In this tutorial\n",
    "\n",
    "The tutorial has several components. Below you will find steps to: \n",
    "1. Run an out-of-the-box CLM simulation using CLM_FATES-SP\n",
    "2. Locate model history files\n",
    "3. Basic visualization of model history files"
   ]
  },
  {
   "cell_type": "markdown",
   "metadata": {},
   "source": [
    "<div class=\"alert alert-block alert-warning\">\n",
    "\n",
    "<b>NOTICE:</b>  This tutorial assumes that you've done your homework! \n",
    "\n",
    "If you haven't downloaded CTSM from the github repository you need to go back to the <b>Day0a_GitStarted tutorial</b> and do this first!\n",
    "\n",
    "</div>\n",
    "\n",
    "**Go back and [do the Day0a tutorial](Day0a_GitStarted.ipynb)**\n",
    "***"
   ]
  },
  {
   "cell_type": "markdown",
   "metadata": {},
   "source": [
    "<h1> 1. Set up and run a simulation</h1>\n",
    "\n",
    "### CTSM can be run in 4 simple steps.\n",
    "\n",
    "<h4>1.1 create a new case </h4>\n",
    "\n",
    "- *This step sets up a new simulation. It is the most complicated of these four steps because it involves making choices to set up the model configuration*\n",
    "\n",
    "#### 1.2 invoke case.setup\n",
    "- *This step configures the model so that it can compile*\n",
    "\n",
    "#### 1.3 build the executable\n",
    "- *This step compiles the model*\n",
    "\n",
    "#### 1.4 submit your run to the batch queue\n",
    "- *This step submits the model simulation to the cloud*"
   ]
  },
  {
   "cell_type": "markdown",
   "metadata": {},
   "source": [
    "***\n",
    "<h1> 1.1 create a new case</h1>\n",
    "\n",
    "*Set up a new simulation*\n",
    "***\n"
   ]
  },
  {
   "cell_type": "markdown",
   "metadata": {},
   "source": [
    "## 1.1.1 create a directory for cases\n",
    "This is a one-time step to create a directory to store your experiment cases:"
   ]
  },
  {
   "cell_type": "code",
   "execution_count": null,
   "metadata": {},
   "outputs": [],
   "source": [
    "mkdir ~/clm_tutorial_cases"
   ]
  },
  {
   "cell_type": "markdown",
   "metadata": {},
   "source": [
    "## 1.1.2 navigate to the source code directory\n",
    "\n",
    "Your source code is in your home directory\n",
    "\n",
    "<div>\n",
    "<img src=\"../images/SourceCode.png\" width=\"460\" height=\"460\" />\n",
    "</div>"
   ]
  },
  {
   "cell_type": "code",
   "execution_count": 1,
   "metadata": {},
   "outputs": [],
   "source": [
    "cd ~/CTSM/cime/scripts"
   ]
  },
  {
   "cell_type": "markdown",
   "metadata": {},
   "source": [
    "## 1.1.3 Create a new case"
   ]
  },
  {
   "cell_type": "code",
   "execution_count": 2,
   "metadata": {},
   "outputs": [
    {
     "name": "stdout",
     "output_type": "stream",
     "text": [
      "/home/wwieder/CTSM/cime/CIME/case/case.py:1376: SyntaxWarning: \"is\" with a literal. Did you mean \"==\"?\n",
      "  elif name is \"MAX_GPUS_PER_NODE\":\n",
      "Compset longname is 2000_DATM%GSWP3v1_CLM51%FATES-SP_SICE_SOCN_SROF_SGLC_SWAV\n",
      "Compset specification file is /home/wwieder/CTSM/cime_config/config_compsets.xml\n",
      "Automatically adding SESP to compset\n",
      "Compset forcing is 1972-2004\n",
      "ATM component is  Data driven ATM  GSWP3v1 data set \n",
      "LND component is clm5.1:Satellite phenology with FATES (Functionally Assembled Terrestrial Ecosystem Simulator) Ecosystem Demography model: \n",
      "ICE component is Stub ice component\n",
      "OCN component is Stub ocn component\n",
      "ROF component is Stub river component\n",
      "GLC component is Stub glacier (land ice) component\n",
      "WAV component is Stub wave component\n",
      "ESP component is Stub external system processing (ESP) component\n",
      "Pes     specification file is /home/wwieder/CTSM/cime_config/config_pes.xml\n",
      "Compset specific settings: name is RUN_STARTDATE and value is 2000-01-01\n",
      "Machine is aws-hpc6a\n",
      "Pes setting: grid          is a%4x5_l%4x5_oi%null_r%null_g%null_w%null_z%null_m%gx3v7 \n",
      "Pes setting: compset       is 2000_DATM%GSWP3v1_CLM51%FATES-SP_SICE_SOCN_SROF_SGLC_SWAV_SESP \n",
      "Pes setting: tasks       is {'NTASKS_ATM': -1, 'NTASKS_LND': -1, 'NTASKS_ROF': -1, 'NTASKS_ICE': -1, 'NTASKS_OCN': -1, 'NTASKS_GLC': -1, 'NTASKS_WAV': -1, 'NTASKS_CPL': -1} \n",
      "Pes setting: threads     is {'NTHRDS_ATM': 1, 'NTHRDS_LND': 1, 'NTHRDS_ROF': 1, 'NTHRDS_ICE': 1, 'NTHRDS_OCN': 1, 'NTHRDS_GLC': 1, 'NTHRDS_WAV': 1, 'NTHRDS_CPL': 1} \n",
      "Pes setting: rootpe      is {'ROOTPE_ATM': 0, 'ROOTPE_LND': 0, 'ROOTPE_ROF': 0, 'ROOTPE_ICE': 0, 'ROOTPE_OCN': 0, 'ROOTPE_GLC': 0, 'ROOTPE_WAV': 0, 'ROOTPE_CPL': 0} \n",
      "Pes setting: pstrid      is {} \n",
      "Pes other settings: {}\n",
      "Pes comments: none\n",
      "setting additional fields from config_pes: {}\n",
      " Compset is: 2000_DATM%GSWP3v1_CLM51%FATES-SP_SICE_SOCN_SROF_SGLC_SWAV_SESP \n",
      " Grid is: a%4x5_l%4x5_oi%null_r%null_g%null_w%null_z%null_m%gx3v7 \n",
      " Components in compset are: ['datm', 'clm', 'sice', 'socn', 'srof', 'sglc', 'swav', 'sesp'] \n",
      "No project info available\n",
      "No charge_account info available, using value from PROJECT\n",
      "cesm model version found: clm4_5_18_r272-6249-g72ce612c0\n",
      "Batch_system_type is slurm\n",
      "job is case.run USER_REQUESTED_WALLTIME None USER_REQUESTED_QUEUE None WALLTIME_FORMAT %H:%M:%S\n",
      "job is case.st_archive USER_REQUESTED_WALLTIME None USER_REQUESTED_QUEUE None WALLTIME_FORMAT %H:%M:%S\n",
      " Creating Case directory /home/wwieder/clm_tutorial_cases/I2000_CTSM_FATESsp\n",
      "This component includes user_mods /home/wwieder/CTSM/cime_config/usermods_dirs/fates_sp\n",
      "Adding user mods directory /home/wwieder/CTSM/cime_config/usermods_dirs/fates_sp\n"
     ]
    }
   ],
   "source": [
    "./create_newcase --case ~/clm_tutorial_cases/I2000_CTSM_FATESsp --res f45_g37 --compset I2000Clm51FatesSpRsGs --run-unsupported"
   ]
  },
  {
   "cell_type": "markdown",
   "metadata": {},
   "source": [
    "### **./create_newcase**\n",
    "\n",
    "<div class=\"alert alert-block alert-info\">\n",
    "\n",
    "<b>NOTE:</b> There is a lot of information that goes into creating a case.\n",
    "\n",
    "You can learn more about the options by typing <i>./create_newcase --help</i> on the the command line.\n",
    "\n",
    "<b>We'll briefly go over some of the highlights here.</b>\n",
    "\n",
    "</div>"
   ]
  },
  {
   "cell_type": "markdown",
   "metadata": {},
   "source": [
    "### Required argements to create a new case\n",
    "There are 3 Required arguments Needed to create a new case.  These include \n",
    "1. `--case`, which specifies the *location* and *name* of the case being created\n",
    " - `~` = your home directory\n",
    " - `clm_tutorial_cases` = the subdirectory we created to store your cases in 1.1.1\n",
    " - `I2000_CTSM_FATESsp` = the name of the case you're creating\n",
    " - *Recommendation:* Use meaningful names, including model version, type of simulation, and any additional details to help you remember the configuration of this simulation\n",
    "<br><br>  \n",
    "2. `--res` Defines the model *resolution*, or grid,\n",
    " - `f45_g37`, which is an alias for a 4x5 degree grid on the atmosphere and land (*f45*).  This coarse resolution is more efficient for testing. Note, *g37* refers to the resolution of the ocean model. Don't worry the ocean model won't be used for this case.\n",
    " - commonly the land model is run at a nominal 1 degree `f09_g17` or 2 degree `f19_g17` resolution \n",
    " - Using `./query_config --res` provides a list of supported model resolutions\n",
    "<br><br>\n",
    "3. `--compset` Defines the *component set* for your case, \n",
    " - The Component set specifies the default configuration for the case which includes:\n",
    "   - Component models (e.g. active vs. data vs. stub), \n",
    "   - Timpe period of simulations and forcing scenarios (e.g. 1850 vs 2000 vs. HIST) and \n",
    "   - Physics options (e.g. CLM5.1 vs CLM5.0). \n",
    " - `I2000Clm51FatesSpRsGs` is alias that actually describes a much longer set of components that are being used for this case. \n",
    " \n",
    "We'll come back to compsets, but there are a few other **optional** flags used to create this new case to briefly touch on here\n",
    "\n",
    "4. `--run-unsupported` avoids error using compsets are not scientifically supported \n",
    "\n",
    "5. `--user-mods-dirs` sets up special options for particual cases, although we're not using it directly when this case was created.  \n",
    "- User-mods-directories set up additional options in your case and remove potential errors for defined uses cases.   \n",
    "- Here the FATES-SP compset is calling a user-mods-directory that's spsecific for fates_sp, which we'll briefly discuss later in this tutorial.  \n",
    "\n",
    "\n",
    "<div class=\"alert alert-block alert-info\" markdown='1'>\n",
    "\n",
    "<b>NOTE:</b> You may notice an error about project codes when you create your case. The project code isn't important for these simulations. But you may need to change this if you're running on Cheyenne.\n",
    "\n",
    "</div>\n",
    "\n",
    "***\n",
    "### More on component sets\n",
    "\n",
    "- All CLM-only compsets start with *\"I\"*.\n",
    " - Using `./query_config --compsets clm` provides examples of other CLM compsets\n",
    "\n",
    "you can try this here"
   ]
  },
  {
   "cell_type": "code",
   "execution_count": 3,
   "metadata": {},
   "outputs": [
    {
     "name": "stdout",
     "output_type": "stream",
     "text": [
      "\n",
      "Active component: clm\n",
      "       --------------------------------------\n",
      "       Compset Alias: Compset Long Name \n",
      "       --------------------------------------\n",
      "   I1PtClm51Bgc         : 2000_DATM%1PT_CLM51%BGC_SICE_SOCN_SROF_SGLC_SWAV\n",
      "   IHist1PtClm51Bgc     : HIST_DATM%1PT_CLM51%BGC_SICE_SOCN_SROF_SGLC_SWAV\n",
      "   I1PtClm51SpRs        : 2000_DATM%1PT_CLM51%SP_SICE_SOCN_SROF_SGLC_SWAV\n",
      "   I1PtClm50SpRs        : 2000_DATM%1PT_CLM50%SP_SICE_SOCN_SROF_SGLC_SWAV\n",
      "   I1PtClm45SpRs        : 2000_DATM%1PT_CLM45%SP_SICE_SOCN_SROF_SGLC_SWAV\n",
      "   I2000Clm50Sp         : 2000_DATM%GSWP3v1_CLM50%SP_SICE_SOCN_MOSART_SGLC_SWAV\n",
      "   I2000Clm50SpRs       : 2000_DATM%GSWP3v1_CLM50%SP_SICE_SOCN_SROF_SGLC_SWAV\n",
      "   I2000Clm51Sp         : 2000_DATM%GSWP3v1_CLM51%SP_SICE_SOCN_MOSART_SGLC_SWAV\n",
      "   I2000Clm51SpRs       : 2000_DATM%GSWP3v1_CLM51%SP_SICE_SOCN_SROF_SGLC_SWAV\n",
      "   I2000Clm50SpRtm      : 2000_DATM%GSWP3v1_CLM50%SP_SICE_SOCN_RTM_SGLC_SWAV\n",
      "   I2000Clm50SpMizGs    : 2000_DATM%GSWP3v1_CLM50%SP_SICE_SOCN_MIZUROUTE_SGLC_SWAV\n",
      "   I2010Clm50Sp         : 2010_DATM%GSWP3v1_CLM50%SP_SICE_SOCN_MOSART_SGLC_SWAV\n",
      "   I2000Clm50BgcCru     : 2000_DATM%CRUv7_CLM50%BGC_SICE_SOCN_MOSART_SGLC_SWAV\n",
      "   I2000Clm50BgcCropRtm : 2000_DATM%GSWP3v1_CLM50%BGC-CROP_SICE_SOCN_RTM_SGLC_SWAV\n",
      "   I2000Clm50BgcCrop    : 2000_DATM%GSWP3v1_CLM50%BGC-CROP_SICE_SOCN_MOSART_SGLC_SWAV\n",
      "   I2000Clm51BgcCrop    : 2000_DATM%GSWP3v1_CLM51%BGC-CROP_SICE_SOCN_MOSART_SGLC_SWAV\n",
      "   I2000Clm51Bgc        : 2000_DATM%GSWP3v1_CLM51%BGC_SICE_SOCN_MOSART_SGLC_SWAV\n",
      "   I1850Clm50Sp         : 1850_DATM%GSWP3v1_CLM50%SP_SICE_SOCN_MOSART_SGLC_SWAV\n",
      "   I1850Clm50SpCru      : 1850_DATM%CRUv7_CLM50%SP_SICE_SOCN_MOSART_SGLC_SWAV\n",
      "   I1850Clm50BgcCrop    : 1850_DATM%GSWP3v1_CLM50%BGC-CROP_SICE_SOCN_MOSART_SGLC_SWAV\n",
      "   I1850Clm51BgcCrop    : 1850_DATM%GSWP3v1_CLM50%BGC-CROP_SICE_SOCN_MOSART_SGLC_SWAV\n",
      "   I1850Clm51Sp         : 1850_DATM%GSWP3v1_CLM51%SP_SICE_SOCN_MOSART_SGLC_SWAV\n",
      "   I1850Clm51Bgc        : 1850_DATM%GSWP3v1_CLM51%BGC_SICE_SOCN_MOSART_SGLC_SWAV\n",
      "   I1850Clm50BgcCropCmip6 : 1850_DATM%GSWP3v1_CLM50%BGC-CROP-CMIP6DECK_SICE_SOCN_MOSART_SGLC_SWAV\n",
      "   I1850Clm50BgcCropCmip6waccm : 1850_DATM%GSWP3v1_CLM50%BGC-CROP-CMIP6WACCMDECK_SICE_SOCN_MOSART_SGLC_SWAV\n",
      "   I1850Clm50BgcCropCru : 1850_DATM%CRUv7_CLM50%BGC-CROP_SICE_SOCN_MOSART_SGLC_SWAV\n",
      "   I2000Clm50BgcCropQianRs : 2000_DATM%QIA_CLM50%BGC-CROP_SICE_SOCN_SROF_SGLC_SWAV\n",
      "   I2000Clm45BgcCropQianRs : 2000_DATM%QIA_CLM45%BGC-CROP_SICE_SOCN_SROF_SGLC_SWAV\n",
      "   I2000Clm50BgcCruRs   : 2000_DATM%CRUv7_CLM50%BGC_SICE_SOCN_SROF_SGLC_SWAV\n",
      "   I2000Clm50SpRtmFl    : 2000_DATM%GSWP3v1_CLM50%SP_SICE_SOCN_RTM%FLOOD_SGLC_SWAV\n",
      "   I2000Clm51Fates      : 2000_DATM%GSWP3v1_CLM51%FATES_SICE_SOCN_MOSART_SGLC_SWAV\n",
      "   I2000Clm50Fates      : 2000_DATM%GSWP3v1_CLM50%FATES_SICE_SOCN_MOSART_SGLC_SWAV\n",
      "   I2000Clm50FatesCruRsGs : 2000_DATM%CRUv7_CLM50%FATES_SICE_SOCN_SROF_SGLC_SWAV\n",
      "   I2000Clm51FatesSpCruRsGs : 2000_DATM%CRUv7_CLM51%FATES-SP_SICE_SOCN_SROF_SGLC_SWAV\n",
      "   I2000Clm51FatesSpRsGs : 2000_DATM%GSWP3v1_CLM51%FATES-SP_SICE_SOCN_SROF_SGLC_SWAV\n",
      "   I2000Clm50FatesCru   : 2000_DATM%CRUv7_CLM50%FATES_SICE_SOCN_MOSART_SGLC_SWAV\n",
      "   I2000Clm50FatesRs    : 2000_DATM%GSWP3v1_CLM50%FATES_SICE_SOCN_SROF_SGLC_SWAV\n",
      "   I2000Clm51FatesRs    : 2000_DATM%GSWP3v1_CLM51%FATES_SICE_SOCN_SROF_SGLC_SWAV\n",
      "   I1850Clm50Bgc        : 1850_DATM%GSWP3v1_CLM50%BGC_SICE_SOCN_MOSART_SGLC_SWAV\n",
      "   I1850Clm50BgcNoAnthro : 1850_DATM%GSWP3v1_CLM50%BGC-NOANTHRO_SICE_SOCN_MOSART_SGLC_SWAV\n",
      "   I1850Clm50SpNoAnthro : 1850_DATM%GSWP3v1_CLM50%SP-NOANTHRO_SICE_SOCN_MOSART_SGLC_SWAV\n",
      "   IHistClm50BgcCrop    : HIST_DATM%GSWP3v1_CLM50%BGC-CROP_SICE_SOCN_MOSART_SGLC_SWAV\n",
      "   I1850Clm51Bgc        : 1850_DATM%GSWP3v1_CLM50%BGC_SICE_SOCN_MOSART_SGLC_SWAV\n",
      "   I1850Clm51SpNoAnthro : 1850_DATM%GSWP3v1_CLM51%SP-NOANTHRO_SICE_SOCN_MOSART_SGLC_SWAV\n",
      "   IHistClm51Sp         : HIST_DATM%GSWP3v1_CLM51%SP_SICE_SOCN_MOSART_SGLC_SWAV\n",
      "   IHistClm51Bgc        : HIST_DATM%GSWP3v1_CLM51%BGC_SICE_SOCN_MOSART_SGLC_SWAV\n",
      "   IHistClm51BgcCrop    : HIST_DATM%GSWP3v1_CLM51%BGC-CROP_SICE_SOCN_MOSART_SGLC_SWAV\n",
      "   IHistClm50Sp         : HIST_DATM%GSWP3v1_CLM50%SP_SICE_SOCN_MOSART_SGLC_SWAV\n",
      "   IHistClm50SpCru      : HIST_DATM%CRUv7_CLM50%SP_SICE_SOCN_MOSART_SGLC_SWAV\n",
      "   IHistClm50Bgc        : HIST_DATM%GSWP3v1_CLM50%BGC_SICE_SOCN_MOSART_SGLC_SWAV\n",
      "   IHistClm50BgcQian    : HIST_DATM%QIA_CLM50%BGC_SICE_SOCN_MOSART_SGLC_SWAV\n",
      "   IHistClm50BgcQianRs  : HIST_DATM%QIA_CLM50%BGC_SICE_SOCN_SROF_SGLC_SWAV\n",
      "   ISSP585Clm50BgcCrop  : SSP585_DATM%GSWP3v1_CLM50%BGC-CROP_SICE_SOCN_MOSART_SGLC_SWAV\n",
      "   ISSP126Clm50BgcCrop  : SSP126_DATM%GSWP3v1_CLM50%BGC-CROP_SICE_SOCN_MOSART_SGLC_SWAV\n",
      "   ISSP119Clm50BgcCrop  : SSP119_DATM%GSWP3v1_CLM50%BGC-CROP_SICE_SOCN_MOSART_SGLC_SWAV\n",
      "   ISSP245Clm50BgcCrop  : SSP245_DATM%GSWP3v1_CLM50%BGC-CROP_SICE_SOCN_MOSART_SGLC_SWAV\n",
      "   ISSP370Clm50BgcCrop  : SSP370_DATM%GSWP3v1_CLM50%BGC-CROP_SICE_SOCN_MOSART_SGLC_SWAV\n",
      "   ISSP434Clm50BgcCrop  : SSP434_DATM%GSWP3v1_CLM50%BGC-CROP_SICE_SOCN_MOSART_SGLC_SWAV\n",
      "   ISSP460Clm50BgcCrop  : SSP460_DATM%GSWP3v1_CLM50%BGC-CROP_SICE_SOCN_MOSART_SGLC_SWAV\n",
      "   ISSP534Clm50BgcCrop  : SSP534_DATM%GSWP3v1_CLM50%BGC-CROP_SICE_SOCN_MOSART_SGLC_SWAV\n",
      "   IHistClm50BgcCropQianRs : HIST_DATM%QIA_CLM50%BGC-CROP_SICE_SOCN_SROF_SGLC_SWAV\n",
      "   IHistClm50BgcCropRs  : HIST_DATM%GSWP3v1_CLM50%BGC-CROP_SICE_SOCN_SROF_SGLC_SWAV\n",
      "   I2000Clm50BgcDvCrop  : 2000_DATM%GSWP3v1_CLM50%BGCDV-CROP_SICE_SOCN_MOSART_SGLC_SWAV\n",
      "   I2000Clm50BgcDvCropQianRs : 2000_DATM%QIA_CLM50%BGCDV-CROP_SICE_SOCN_SROF_SGLC_SWAV\n",
      "   I1850Clm50BgcSpinup  : 1850_DATM%CPLHIST_CLM50%BGC_SICE_SOCN_MOSART_SGLC_SWAV\n",
      "   I2000Ctsm50NwpSpGswp : 2000_DATM%GSWP3v1_CLM50%NWP-SP_SICE_SOCN_MOSART_SGLC_SWAV\n",
      "   I2000Ctsm50NwpBgcCropGswp : 2000_DATM%GSWP3v1_CLM50%NWP-BGC-CROP_SICE_SOCN_MOSART_SGLC_SWAV\n",
      "   I2000Ctsm50NwpSpNldas : 2000_DATM%NLDAS2_CLM50%NWP-SP_SICE_SOCN_MOSART_SGLC_SWAV\n",
      "   I2000Ctsm50NwpSpNldasRs : 2000_DATM%NLDAS2_CLM50%NWP-SP_SICE_SOCN_SROF_SGLC_SWAV\n",
      "   I1850Clm45BgcCrop    : 1850_DATM%GSWP3v1_CLM45%BGC-CROP_SICE_SOCN_RTM_SGLC_SWAV\n",
      "   I1850Clm45BgcCru     : 1850_DATM%CRUv7_CLM45%BGC_SICE_SOCN_RTM_SGLC_SWAV\n",
      "   IHistClm45BgcCrop    : HIST_DATM%GSWP3v1_CLM45%BGC-CROP_SICE_SOCN_RTM_SGLC_SWAV\n",
      "   IHistClm45BgcCropQianRs : HIST_DATM%QIA_CLM45%BGC-CROP_SICE_SOCN_SROF_SGLC_SWAV\n",
      "   I2000Clm45Sp         : 2000_DATM%GSWP3v1_CLM45%SP_SICE_SOCN_RTM_SGLC_SWAV\n",
      "   I2000Clm45BgcCrop    : 2000_DATM%GSWP3v1_CLM45%BGC-CROP_SICE_SOCN_RTM_SGLC_SWAV\n",
      "   I2000Clm45Fates      : 2000_DATM%GSWP3v1_CLM45%FATES_SICE_SOCN_RTM_SGLC_SWAV\n",
      "   I2000Clm45FatesRs    : 2000_DATM%GSWP3v1_CLM45%FATES_SICE_SOCN_SROF_SGLC_SWAV\n",
      "   I1850Clm45Bgc        : 1850_DATM%GSWP3v1_CLM45%BGC_SICE_SOCN_RTM_SGLC_SWAV\n",
      "   IHistClm45Bgc        : HIST_DATM%GSWP3v1_CLM45%BGC_SICE_SOCN_RTM_SGLC_SWAV\n",
      "   IHistClm45BgcCru     : HIST_DATM%CRUv7_CLM45%BGC_SICE_SOCN_RTM_SGLC_SWAV\n",
      "   IHistClm45Sp         : HIST_DATM%GSWP3v1_CLM45%SP_SICE_SOCN_RTM_SGLC_SWAV\n",
      "   I2000Clm50Vic        : 2000_DATM%GSWP3v1_CLM50%SP-VIC_SICE_SOCN_RTM_SGLC_SWAV\n",
      "   I2000Clm45VicCru     : 2000_DATM%CRUv7_CLM45%SP-VIC_SICE_SOCN_RTM_SGLC_SWAV\n",
      "   I1850Clm50SpG        : 1850_DATM%GSWP3v1_CLM50%SP_SICE_SOCN_MOSART_CISM2%GRIS-EVOLVE_SWAV\n",
      "   I1850Clm50SpGa       : 1850_DATM%GSWP3v1_CLM50%SP_SICE_SOCN_MOSART_CISM2%AIS-EVOLVE_SWAV\n",
      "   I1850Clm50SpGag      : 1850_DATM%GSWP3v1_CLM50%SP_SICE_SOCN_MOSART_CISM2%AIS-EVOLVE%GRIS-EVOLVE_SWAV\n",
      "   I1850Clm50SpRsGag    : 1850_DATM%GSWP3v1_CLM50%SP_SICE_SOCN_SROF_CISM2%AIS-EVOLVE%GRIS-EVOLVE_SWAV\n",
      "   IHistClm50SpG        : HIST_DATM%GSWP3v1_CLM50%SP_SICE_SOCN_MOSART_CISM2%GRIS-EVOLVE_SWAV\n",
      "   I1850Clm50BgcCropG   : 1850_DATM%GSWP3v1_CLM50%BGC-CROP_SICE_SOCN_MOSART_CISM2%GRIS-EVOLVE_SWAV\n",
      "   IHistClm50BgcCropG   : HIST_DATM%GSWP3v1_CLM50%BGC-CROP_SICE_SOCN_MOSART_CISM2%GRIS-EVOLVE_SWAV\n",
      "   I2000Ctsm50NwpSpAsRs : 2000_SATM_CLM50%NWP-SP_SICE_SOCN_SROF_SGLC_SWAV\n"
     ]
    }
   ],
   "source": [
    "./query_config --compsets clm"
   ]
  },
  {
   "cell_type": "markdown",
   "metadata": {},
   "source": [
    "The long name for the compset used here is `2000_DATM%GSWP3v1_CLM51%FATES-SP_SICE_SOCN_MOSART_SGLC_SWAV`, which defines\n",
    "   - time = `2000_` (vs. 1850, HIST, SSP, etc)\n",
    "   - data atmosphere `DATM%GSWP3v1_`, here from GSWP3, as opposed to model atmosphere (CAM) \n",
    "   - land model `CLM51%FATES-SP_` CLM5.1 physics package with FATES-SP\n",
    "   - stub sea ice model `SICE_`\n",
    "   - stub ocean model `SOCN_` (see there's no active ocean model!)\n",
    "   - stub river model `SROF_` (other options include MOSART, MIZUROUTE or RTM)\n",
    "   - stub glacier `SGLC_`\n",
    "   - stub wave model `SWAV_`   \n",
    "\n",
    "<div>\n",
    "<img src=\"../images/Components.png\" width=\"460\" height=\"460\" />\n",
    "</div>\n",
    "\n",
    "\n",
    "Key Definitions:\n",
    "- **Active:** Simulation is using the code from the model during the run\n",
    "- **Data:** Simulation is reading in data from a file for this component\n",
    "- **Stub:** Component is not being used\n",
    "<br><br> \n",
    "\n",
    "<div class=\"alert alert-block alert-warning\" markdown=\"1\">\n",
    "\n",
    "<b>HINT:</b> Some compsets are scientifically supported and others are not. You can use an unsupported compset, but will need to add the option <i>--run_unsupported</i> at the end of the <i>create_newcase</i> command line.\n",
    "\n",
    "</div>\n",
    "\n",
    "\n",
    "<div class=\"alert alert-block alert-info\" markdown=\"1\">\n",
    "\n",
    "<b>TIP:</b> More information on model <a href=\"https://www.cesm.ucar.edu/models/cesm2\" target=\"_top\">Configurations and Grids can be found on  the CESM website</a> (see <i>Configurations and Grids</i> subheading at the bottom of the page)\n",
    "\n",
    "</div>"
   ]
  },
  {
   "cell_type": "markdown",
   "metadata": {},
   "source": [
    "***\n",
    "<h1> 1.2 Invoke case.setup </h1>\n",
    "\n",
    "*This step configures the model so that it can compile* \n",
    "***\n"
   ]
  },
  {
   "cell_type": "markdown",
   "metadata": {},
   "source": [
    "## 1.2.1 Move to your case directory"
   ]
  },
  {
   "cell_type": "code",
   "execution_count": 4,
   "metadata": {},
   "outputs": [],
   "source": [
    "cd ~/clm_tutorial_cases/I2000_CTSM_FATESsp"
   ]
  },
  {
   "cell_type": "markdown",
   "metadata": {},
   "source": [
    "## 1.2.2 Set up your case\n",
    "\n",
    "The `./case.setup` script:\n",
    "1. configures the model\n",
    "2. creates files to modify input data and run options"
   ]
  },
  {
   "cell_type": "code",
   "execution_count": 5,
   "metadata": {},
   "outputs": [
    {
     "name": "stdout",
     "output_type": "stream",
     "text": [
      "Setting resource.RLIMIT_STACK to -1 from (-1, -1)\n",
      "job is case.run USER_REQUESTED_WALLTIME None USER_REQUESTED_QUEUE None WALLTIME_FORMAT %H:%M:%S\n",
      "Creating batch scripts\n",
      "Writing case.run script from input template /home/wwieder/CTSM/ccs_config/machines/template.case.run\n",
      "Creating file .case.run\n",
      "Writing case.st_archive script from input template /home/wwieder/CTSM/ccs_config/machines/template.st_archive\n",
      "Creating file case.st_archive\n",
      "Creating user_nl_xxx files for components and cpl\n",
      "If an old case build already exists, might want to run 'case.build --clean' before building\n",
      "You can now run './preview_run' to get more info on how your case will be run\n"
     ]
    }
   ],
   "source": [
    "./case.setup"
   ]
  },
  {
   "cell_type": "markdown",
   "metadata": {},
   "source": [
    "Using this command, we just configured the model and created the files to modify options & input data.\n",
    "<div>\n",
    "<img src=\"../images/CaseSetup.png\" width=\"670\" />\n",
    "</div>"
   ]
  },
  {
   "cell_type": "markdown",
   "metadata": {},
   "source": [
    "***\n",
    "<h1> 1.3 Build the executable  </h1>\n",
    "\n",
    "*This step compiles the model*\n",
    "\n",
    "It also takes a long time, so be patient.\n",
    "***"
   ]
  },
  {
   "cell_type": "markdown",
   "metadata": {},
   "source": [
    "The `./case.build` script:\n",
    "1. Checks input data\n",
    "2. Creates a build/run directory with model executable and namelists"
   ]
  },
  {
   "cell_type": "code",
   "execution_count": 6,
   "metadata": {},
   "outputs": [
    {
     "name": "stdout",
     "output_type": "stream",
     "text": [
      "Submitting command to Slurm:\n",
      "    ./case.build\n",
      "\n",
      "Waiting for job 118 to start ... \n",
      "\n",
      "\n",
      "Building case in directory /home/wwieder/clm_tutorial_cases/I2000_CTSM_FATESsp\n",
      "sharedlib_only is False\n",
      "model_only is False\n",
      "Setting resource.RLIMIT_STACK to -1 from (-1, -1)\n",
      "Generating component namelists as part of build\n",
      "  2022-05-17 23:50:05 atm \n",
      "Create namelist for component datm\n",
      "   Calling /home/wwieder/CTSM/components/cdeps/datm/cime_config/buildnml\n",
      "  2022-05-17 23:50:05 lnd \n",
      "Create namelist for component clm\n",
      "   Calling /home/wwieder/CTSM/cime_config/buildnml\n",
      "  2022-05-17 23:50:06 ice \n",
      "Create namelist for component sice\n",
      "   Calling /home/wwieder/CTSM/cime/CIME/non_py/src/components/stub_comps_nuopc/sice/cime_config/buildnml\n",
      "  2022-05-17 23:50:06 ocn \n",
      "Create namelist for component socn\n",
      "   Calling /home/wwieder/CTSM/cime/CIME/non_py/src/components/stub_comps_nuopc/socn/cime_config/buildnml\n",
      "  2022-05-17 23:50:06 rof \n",
      "Create namelist for component srof\n",
      "   Calling /home/wwieder/CTSM/cime/CIME/non_py/src/components/stub_comps_nuopc/srof/cime_config/buildnml\n",
      "  2022-05-17 23:50:06 glc \n",
      "Create namelist for component sglc\n",
      "   Calling /home/wwieder/CTSM/cime/CIME/non_py/src/components/stub_comps_nuopc/sglc/cime_config/buildnml\n",
      "  2022-05-17 23:50:06 wav \n",
      "Create namelist for component swav\n",
      "   Calling /home/wwieder/CTSM/cime/CIME/non_py/src/components/stub_comps_nuopc/swav/cime_config/buildnml\n",
      "  2022-05-17 23:50:06 esp \n",
      "Create namelist for component sesp\n",
      "   Calling /home/wwieder/CTSM/cime/CIME/non_py/src/components/stub_comps_nuopc/sesp/cime_config/buildnml\n",
      "  2022-05-17 23:50:06 cpl \n",
      "Create namelist for component drv\n",
      "   Calling /home/wwieder/CTSM/components/cmeps/cime_config/buildnml\n",
      "Writing nuopc_runconfig for components ['CPL', 'ATM', 'LND']\n",
      "Building gptl with output to file /scratch/wwieder/I2000_CTSM_FATESsp/bld/gptl.bldlog.220517-235005\n",
      "   Calling /home/wwieder/CTSM/cime/CIME/build_scripts/buildlib.gptl\n",
      "Building mct with output to file /scratch/wwieder/I2000_CTSM_FATESsp/bld/mct.bldlog.220517-235005\n",
      "   Calling /home/wwieder/CTSM/cime/CIME/build_scripts/buildlib.mct\n",
      "Component mct build complete with 110 warnings\n",
      "Building pio with output to file /scratch/wwieder/I2000_CTSM_FATESsp/bld/pio.bldlog.220517-235005\n",
      "   Calling /home/wwieder/CTSM/cime/CIME/build_scripts/buildlib.pio\n",
      "Component pio build complete with 1 warnings\n",
      "Building csm_share with output to file /scratch/wwieder/I2000_CTSM_FATESsp/bld/csm_share.bldlog.220517-235005\n",
      "   Calling /home/wwieder/CTSM/share/buildlib.csm_share\n",
      "Component csm_share build complete with 13 warnings\n",
      "Building CDEPS with output to file /scratch/wwieder/I2000_CTSM_FATESsp/bld/CDEPS.bldlog.220517-235005\n",
      "   Calling /home/wwieder/CTSM/components/cdeps/cime_config/buildlib\n",
      "         - Building clm library \n",
      "Building lnd with output to /scratch/wwieder/I2000_CTSM_FATESsp/bld/lnd.bldlog.220517-235005\n",
      "Component lnd build complete with 7 warnings\n",
      "clm built in 154.234962 seconds\n",
      "         - Building atm Library \n",
      "Building atm with output to /scratch/wwieder/I2000_CTSM_FATESsp/bld/atm.bldlog.220517-235005\n",
      "datm built in 0.864670 seconds\n",
      "Building cesm from /home/wwieder/CTSM/components/cmeps/cime_config/buildexe with output to /scratch/wwieder/I2000_CTSM_FATESsp/bld/cesm.bldlog.220517-235005 \n",
      "Total build time: 348.838907 seconds\n",
      "MODEL BUILD HAS FINISHED SUCCESSFULLY\n"
     ]
    }
   ],
   "source": [
    "qcmd -- ./case.build"
   ]
  },
  {
   "cell_type": "markdown",
   "metadata": {},
   "source": [
    "\n",
    "---\n",
    "You can read on, but before executing any code blocks in the notebook **wait for the model to build.**\n",
    "This can take a while, especially while you're wating for your `qcmd` job to start and as code for the land model compiles.\n",
    "\n",
    "You'll see text stating `MODEL BUILD HAS FINISHED SUCCESSFULLY` when it's finished.\n",
    "\n",
    "<style> \n",
    "table td, table th, table tr {text-align:left !important;}\n",
    "</style>\n",
    "<div class=\"alert alert-block alert-info\">\n",
    "\n",
    "<b>NOTE:</b> The command <i>qcmd -- ./case.build</i> is specific for NCAR environments, including Cheyenne and cloud configurations, and runs the command on a computing node, reducing the load on the login node. <b>You must include <i>qcmd --</i> when running on Cheyenne</b>, and it's highly advised on shared cloud systems too.  On single-user cloud systems, it isn't needed, though it may speed up builds.\n",
    "\n",
    "</div>\n",
    "\n",
    "---"
   ]
  },
  {
   "cell_type": "markdown",
   "metadata": {},
   "source": [
    "<h1> 1.4 Submit your run  </h1>\n",
    "\n",
    "*This step submits the model simulation*\n",
    "\n",
    "But first we need to check on a few thing\n",
    "***"
   ]
  },
  {
   "cell_type": "markdown",
   "metadata": {},
   "source": [
    "## Case Customization Checks\n",
    "The model is now compiled and ready to run! \n",
    "\n",
    "There are a few things we should check before submitting the run. \n",
    "\n",
    "Customizing your case can happen in a few ways. Here we'll introduce:\n",
    "1. XML change (`*.xml` files), and\n",
    "2. Namelist modifications (`user_nl_*` files)\n",
    "\n",
    "## 1.4.1 XLM files\n",
    "You may want to customize a number of features for your simulation.  For example:\n",
    "1. How many days or years will the model simulate?\n",
    "2. How much time does the computer need for this simulation?\n",
    "3. Which computing project account is the model charging to?\n",
    "\n",
    "These options are specified in the `env_*.xml` files in your case directory\n",
    "\n",
    "The XML files can be modified directly, but we recommend that you use the `xmlchange` script.\n",
    "Next, we’ll review how to check and modify variables in XML files."
   ]
  },
  {
   "cell_type": "markdown",
   "metadata": {},
   "source": [
    "### `xmlchange`\n",
    "Using the `xmlchange` script is the preferred method to modify XML files, but you can edit XML files by hand\n",
    "\n",
    "**Benefits of using `xmlchange`:**\n",
    "1. Allows changing variables in env_*.xml files using a command-line interface\n",
    "2. Won’t let you mess up the syntax! The script checks the setting immediately for validity.\n",
    "3. Settings are copied into the CaseStatus file, providing documentation of your changes.\n",
    "\n",
    "<div>\n",
    "<img src=\"../images/xmlFiles.png\" width=\"670\" />\n",
    "</div>\n",
    "\n",
    "The `env_batch.xml` and `env_run.xml` files include most of the variables you will need to modify to set up and run simulations.\n",
    "\n",
    "These files can be changed at any time before running the simulation.\n",
    "\n",
    "<div class=\"alert alert-block alert-info\", markdown='1'>\n",
    "\n",
    "<b>A few useful tips for using the xml scripts:</b>\n",
    "<ol>\n",
    "<li>Use <i>./xmlquery --listall</i> to list variables and their values in the .xml files</li>\n",
    "<li> Modify a variable in a .xml file, use <i>./xmlchange</i></li>\n",
    "<li> For help, type <i>./xmlchange --help</i></li>\n",
    "<li> To list variables in a specific file <i>./xmlquery --file env_run.xml</i> (here env_run.xml). </li>\n",
    "<li> You can also search for multiple variables, separating the variable names with a comma (“,”). For example, <i>./xmlquery –p {string}</i> will search for every variable that includes this string. <b>Try it for “STOP” or “CLM”</b>. </li>\n",
    "</ol>\n",
    "</div>\n",
    "\n",
    "#### Example: \n",
    "`./xmlchange {variable to be changed}={value to change to}`\n",
    "<br><br> \n",
    "\n",
    "*****"
   ]
  },
  {
   "cell_type": "markdown",
   "metadata": {},
   "source": [
    "Many runtime variables are found in the `env_run.xml` file. The variables in this file control the mechanics of the run (length, resubmits, and archiving).\n",
    "\n",
    "Common variables in env_run.xml to change include:\n",
    "1. `STOP_OPTION` sets the run-time interval type, i.e. nmonths, ndays, nyears\n",
    "2. `STOP_N` sets the number of run-time intervals to run the model during the specified wallclock time.\n",
    " - Wallclock time is set in the env_batch.xml file and is a measure of the actual time. \n",
    "3. `RESUBMIT` sets the number of times to resubmit the run\n",
    "\n",
    "#### **To Do:** \n",
    "Use `xmlquery` to find the values of the variables listed above. Feel free to play around with options \n"
   ]
  },
  {
   "cell_type": "code",
   "execution_count": 7,
   "metadata": {},
   "outputs": [
    {
     "name": "stdout",
     "output_type": "stream",
     "text": [
      "\tSTOP_OPTION: ndays\n",
      "\tSTOP_N: 5\n",
      "\tRESUBMIT: 0\n"
     ]
    }
   ],
   "source": [
    "./xmlquery STOP_OPTION\n",
    "./xmlquery STOP_N\n",
    "./xmlquery RESUBMIT"
   ]
  },
  {
   "cell_type": "markdown",
   "metadata": {},
   "source": [
    "---\n",
    "\n",
    "From the list above, you should find these values:\n",
    "1. `STOP_OPTION` -> ndays\n",
    "2. `STOP_N` -> 5\n",
    "- By default, the model is set to run for 5 days. \n",
    "3. `RESUBMIT` -> 0\n",
    "- Resubmitting your job, allows for longer runs (when you run out of wall clock time) by continuing the run from a restart file."
   ]
  },
  {
   "cell_type": "markdown",
   "metadata": {},
   "source": [
    "***\n",
    "\n",
    "*We will not see any model output from a 5-day model run because history files with model output are only recorded every month by default*\n",
    "\n",
    "- Let’s change the length of the simulation to 1 year."
   ]
  },
  {
   "cell_type": "code",
   "execution_count": 8,
   "metadata": {},
   "outputs": [],
   "source": [
    "./xmlchange STOP_OPTION=nyears\n",
    "./xmlchange STOP_N=1"
   ]
  },
  {
   "cell_type": "markdown",
   "metadata": {},
   "source": [
    "This changes the run-time interval from 5 days to one year. \n",
    "\n",
    "\n",
    "*We won't resubmit this case, but setting `RESUBMIT=1`, would allow you to run for a second year.*\n",
    "\n",
    "<div class=\"alert alert-block alert-info\" markdown='1'>\n",
    "\n",
    "<b>NOTE:</b> If you try to change a variable to a value that isn’t an option, you will get an error message with a list of valid values.\n",
    "    \n",
    "</div>\n",
    "\n",
    "\n",
    "Verify that the changes worked as you expected:"
   ]
  },
  {
   "cell_type": "code",
   "execution_count": 9,
   "metadata": {},
   "outputs": [
    {
     "name": "stdout",
     "output_type": "stream",
     "text": [
      "\tSTOP_OPTION: nyears\n"
     ]
    }
   ],
   "source": [
    "./xmlquery STOP_OPTION"
   ]
  },
  {
   "cell_type": "code",
   "execution_count": 10,
   "metadata": {},
   "outputs": [
    {
     "name": "stdout",
     "output_type": "stream",
     "text": [
      "\tSTOP_N: 1\n"
     ]
    }
   ],
   "source": [
    "./xmlquery STOP_N"
   ]
  },
  {
   "cell_type": "markdown",
   "metadata": {},
   "source": [
    "***\n",
    "<div class=\"alert alert-block alert-info\" markdown='1'>\n",
    "\n",
    "<b>NOTE:</b> If you're running on Cheyenne, or another HPC machine changing the `JOB_WALLCLOCK_TIME` may help you get through the queue more quickly.  For example, it won’t take 12 hours to run a 1-year simulation and your simulation will get into the queue more quickly if you set a shorter run time.  <b>This is not important running in the cloud.</b>\n",
    "\n",
    "\n",
    "You can find out timing information for some standard simulations <a href=\"https://csegweb.cgd.ucar.edu/timing/cgi-bin/timings.cgi\" target=\"_top\">here</a>. Click on a compset similar to the one you will run and look for the “model throughput” value. This is how many simulated years the computer can run in a 24-hour timeframe.  <i>If you're running on Cheyenne</i>, you can estimate the amount of time you’ll need based on this.\n",
    "</div>"
   ]
  },
  {
   "cell_type": "markdown",
   "metadata": {},
   "source": [
    "***\n",
    "## 1.4.2 Namelist changes\n",
    "You may want to customize additional features for your simulation. These can be controled with namelist changes.\n",
    "- Not all changes can be made with `./xmlchange`\n",
    "- Additional changes made using namelist files: `user_nl_<model>`\n",
    "- `user_nl_<model>` files are created in the case directory after `./case.setup`"
   ]
  },
  {
   "cell_type": "markdown",
   "metadata": {},
   "source": [
    "The compset that you created your case with sets up initial, or default namelist options. These can be found in `CaseDocs/lnd_in`\n",
    "- `user_nl_clm` modifies the namelist `lnd_in` options\n",
    "- *Important:* Don’t modify the namelist file (`lnd_in`) directly. Instead, make changes in `user_nl_clm`.\n",
    "- Some namelist variables can also be changed in env_run.xml file. \n",
    "- This [website has CLM5.0 namelist variables](http://www.cesm.ucar.edu/models/cesm2/settings/current/clm5_0_nml.html)"
   ]
  },
  {
   "cell_type": "markdown",
   "metadata": {},
   "source": [
    "We modified this already with the when we created your case with the `--user-mods-dirs fates_sp` flag.  This user-mods-directory sets `user_nl_clm` options correctly for a FATES-SP case. \n",
    "\n",
    "Check that it worked by opening the file in an editor. \n",
    "\n",
    "<div class=\"alert alert-block alert-warning\">\n",
    "\n",
    "<b>TIP</b> You can do this with any editor. The two options below use emacs or vi, but there are lots of other options as well as resources for how to use these online.\n",
    "\n",
    "</div>\n",
    "\n",
    "---"
   ]
  },
  {
   "cell_type": "markdown",
   "metadata": {},
   "source": [
    "**To Do:**\n",
    "\n",
    "Open your `user_nl_clm` file to see what's inside.\n",
    "\n",
    "You can navigate to your case directory in a few different ways:\n",
    "\n",
    "1. Open it via the navigation sidebar\n",
    "- Click on the `clm_tutorial_cases` directory\n",
    "- Click on the `I2000_CTSM_FATESsp` case directory\n",
    "- Click on the `user_nl_clm` file in the sidebar of your JupyterLab window.\n",
    "\n",
    "\n",
    "2. Open the same file with an editor from the command line in your terminal window.\n",
    "   - `emacs ~/clm_tutorial_cases/I2000_CTSM_FATESsp/user_nl_clm`\n",
    "\n",
    "_or_\n",
    "\n",
    "  - `vi ~/clm_tutorial_cases/I2000_CTSM_FATESsp/user_nl_clm`\n",
    "\n",
    "3. Altrnatively you can just `cat` the file from this notebook, but you won't be able to make changes\n",
    "\n",
    "*These options were set up for you when you created the FATES-SP case using user_mods_dirs*"
   ]
  },
  {
   "cell_type": "code",
   "execution_count": 11,
   "metadata": {},
   "outputs": [
    {
     "name": "stdout",
     "output_type": "stream",
     "text": [
      "! Turn FATES-SP mode on\n",
      "use_fates_sp = .true.\n",
      "! Some settings that will be set when FATES-SP mode is turned on\n",
      "soil_decomp_method = 'None'\n",
      "use_lch4 = .false.\n",
      "fates_spitfire_mode = 0\n",
      "use_fates_fixed_biogeog = .true.\n",
      "use_fates_nocomp = .true.\n",
      "! Turn off a list of fields that are not needed for FATES-SP mode\n",
      "hist_fexcl1 = 'FATES_TRIMMING', 'FATES_COLD_STATUS', 'FATES_DROUGHT_STATUS', 'FATES_GDD', 'FATES_NCHILLDAYS',\n",
      "              'FATES_NCOLDDAYS', 'FATES_DAYSINCE_COLDLEAFOFF', 'FATES_DAYSINCE_COLDLEAFON', 'FATES_DAYSINCE_DROUGHTLEAFOFF',\n",
      "              'FATES_DAYSINCE_DROUGHTLEAFON', 'FATES_MEANLIQVOL_DROUGHTPHEN', 'FATES_CANOPY_SPREAD', 'FATES_VEGC_PF',\n",
      "              'FATES_STOREC_PF', 'FATES_RECRUITMENT_PF', 'FATES_MORTALITY_PF', 'FATES_PATCHAREA_AP', 'FATES_LAI_AP',\n",
      "              'FATES_CANOPYAREA_AP', 'FATES_NESTEROV_INDEX', 'FATES_IGNITIONS', 'FATES_FDI', 'FATES_ROS', 'FATES_EFFECT_WSPEED',\n",
      "              'FATES_FUELCONSUMED', 'FATES_FIRE_INTENSITY', 'FATES_FIRE_INTENSITY_BURNFRAC', 'FATES_BURNFRAC', 'FATES_FUEL_MEF',\n",
      "              'FATES_FUEL_BULKD', 'FATES_FUEL_EFF_MOIST', 'FATES_FUEL_SAV', 'FATES_FUEL_AMOUNT', 'FATES_FRAGMENTATION_SCALER_SL',\n",
      "              'FATES_FUEL_MOISTURE_FC', 'FATES_FUEL_AMOUNT_FC', 'FATES_BURNFRAC_AP', 'FATES_FIRE_INTENSITY_BURNFRAC_AP',\n",
      "              'FATES_FUEL_AMOUNT_AP', 'FATES_FUEL_BURNT_BURNFRAC_FC', 'FATES_LITTER_IN', 'FATES_LITTER_OUT', 'FATES_SEED_BANK',\n",
      "              'FATES_SEEDS_IN', 'FATES_LITTER_IN_EL', 'FATES_LITTER_OUT_EL', 'FATES_SEED_BANK_EL', 'FATES_SEEDS_IN_LOCAL_EL',\n",
      "              'FATES_SEEDS_IN_EXTERN_EL', 'FATES_SEED_GERM_EL', 'FATES_SEED_DECAY_EL', 'FATES_STOREC', 'FATES_VEGC',\n",
      "              'FATES_SAPWOODC', 'FATES_FROOTC', 'FATES_REPROC', 'FATES_CEFFLUX', 'FATES_STRUCTC', 'FATES_NONSTRUCTC', \n",
      "              'FATES_VEGC_ABOVEGROUND', 'FATES_CANOPY_VEGC', 'FATES_USTORY_VEGC', 'FATES_PRIMARY_PATCHFUSION_ERR',\n",
      "              'FATES_DISTURBANCE_RATE_P2P', 'FATES_DISTURBANCE_RATE_P2S', 'FATES_DISTURBANCE_RATE_S2S',\n",
      "              'FATES_DISTURBANCE_RATE_FIRE', 'FATES_DISTURBANCE_RATE_LOGGING', 'FATES_DISTURBANCE_RATE_TREEFALL',\n",
      "              'FATES_DISTURBANCE_RATE_POTENTIAL', 'FATES_HARVEST_CARBON_FLUX', 'FATES_GPP_CANOPY', 'FATES_AUTORESP_CANOPY',\n",
      "              'FATES_GPP_UNDERSTORY', 'FATES_AUTORESP_UNDERSTORY', 'FATES_CROWNAREA_CL', 'FATES_DEMOTION_CARBONFLUX',\n",
      "              'FATES_PROMOTION_CARBONFLUX', 'FATES_MORTALITY_CFLUX_CANOPY', 'FATES_MORTALITY_CFLUX_UNDERSTORY', \n",
      "              'FATES_DDBH_CANOPY_SZ', 'FATES_DDBH_USTORY_SZ', 'FATES_BASALAREA_SZ',\n",
      "              'FATES_VEGC_ABOVEGROUND_SZ', 'FATES_LAI_CANOPY_SZ', 'FATES_MORTALITY_CANOPY_SZ', 'FATES_NPLANT_USTORY_SZ',\n",
      "              'FATES_LAI_USTORY_SZ', 'FATES_NPLANT_SZ', 'FATES_NPLANT_AC', 'FATES_MORTALITY_BACKGROUND_SZ',\n",
      "              'FATES_MORTALITY_HYDRAULIC_SZ', 'FATES_MORTALITY_CSTARV_SZ', 'FATES_MORTALITY_IMPACT_SZ',\n",
      "              'FATES_MORTALITY_FIRE_SZ', 'FATES_MORTALITY_TERMINATION_SZ', 'FATES_MORTALITY_LOGGING_SZ',\n",
      "              'FATES_MORTALITY_FREEZING_SZ', 'FATES_MORTALITY_SENESCENCE_SZ', 'FATES_MORTALITY_AGESCEN_SZ',\n",
      "              'FATES_MORTALITY_AGESCEN_AC', 'FATES_MORTALITY_USTORY_SZ', 'FATES_FROOTMAINTAR', 'FATES_CROOTMAINTAR',\n",
      "              'FATES_LSTEMMAINTAR', 'FATES_NEP', 'FATES_HET_RESP', 'FATES_FIRE_CLOSS', 'FATES_FIRE_FLUX_EL',\n",
      "              'FATES_LITTER_AG_FINE_EL', 'FATES_LITTER_BG_FINE_EL', 'FATES_LITTER_BG_CWD_EL', 'FATES_LITTER_AG_CWD_EL',\n",
      "              'FATES_LITTER_CWD_ELDC', 'FATES_LEAF_ALLOC', 'FATES_SEED_ALLOC', 'FATES_STEM_ALLOC', 'FATES_FROOT_ALLOC',\n",
      "              'FATES_CROOT_ALLOC', 'FATES_STORE_ALLOC', 'FATES_AUTORESP', 'FATES_GROWTH_RESP',\n",
      "              'FATES_LEAFMAINTAR', 'FATES_MAINT_RESP', 'FATES_NPP', 'FATES_NPP_PF'\n"
     ]
    }
   ],
   "source": [
    "cat ~/clm_tutorial_cases/I2000_CTSM_FATESsp/user_nl_clm"
   ]
  },
  {
   "cell_type": "markdown",
   "metadata": {},
   "source": [
    "<br>\n",
    "\n",
    "**Is fates_sp set to true?**\n",
    "\n",
    "If not, on the command line your can type:\n",
    "`echo \"use_fates_sp = .true.\" >> user_nl_clm`\n",
    "This is a simplified way of writing information to `user_nl_clm`\n",
    "\n",
    "The other text you see in `user_nl_clm` turns off some of the biogeochemistry and fire options that are not needed for an SP case.  Other options reduce the output that's being writting out to history files. "
   ]
  },
  {
   "cell_type": "markdown",
   "metadata": {},
   "source": [
    "---\n",
    "## 1.4.3 Submit the case!"
   ]
  },
  {
   "cell_type": "code",
   "execution_count": 12,
   "metadata": {},
   "outputs": [
    {
     "name": "stdout",
     "output_type": "stream",
     "text": [
      "\n",
      "env_batch.xml appears to have changed, regenerating batch scripts\n",
      "manual edits to these file will be lost!\n",
      "\n",
      "Creating batch scripts\n",
      "Writing case.run script from input template /home/wwieder/CTSM/ccs_config/machines/template.case.run\n",
      "Creating file .case.run\n",
      "Writing case.st_archive script from input template /home/wwieder/CTSM/ccs_config/machines/template.st_archive\n",
      "Creating file case.st_archive\n",
      "Setting resource.RLIMIT_STACK to -1 from (-1, -1)\n",
      "  2022-05-17 23:56:22 atm \n",
      "Create namelist for component datm\n",
      "   Calling /home/wwieder/CTSM/components/cdeps/datm/cime_config/buildnml\n",
      "  2022-05-17 23:56:22 lnd \n",
      "Create namelist for component clm\n",
      "   Calling /home/wwieder/CTSM/cime_config/buildnml\n",
      "  2022-05-17 23:56:22 ice \n",
      "Create namelist for component sice\n",
      "   Calling /home/wwieder/CTSM/cime/CIME/non_py/src/components/stub_comps_nuopc/sice/cime_config/buildnml\n",
      "  2022-05-17 23:56:22 ocn \n",
      "Create namelist for component socn\n",
      "   Calling /home/wwieder/CTSM/cime/CIME/non_py/src/components/stub_comps_nuopc/socn/cime_config/buildnml\n",
      "  2022-05-17 23:56:22 rof \n",
      "Create namelist for component srof\n",
      "   Calling /home/wwieder/CTSM/cime/CIME/non_py/src/components/stub_comps_nuopc/srof/cime_config/buildnml\n",
      "  2022-05-17 23:56:22 glc \n",
      "Create namelist for component sglc\n",
      "   Calling /home/wwieder/CTSM/cime/CIME/non_py/src/components/stub_comps_nuopc/sglc/cime_config/buildnml\n",
      "  2022-05-17 23:56:22 wav \n",
      "Create namelist for component swav\n",
      "   Calling /home/wwieder/CTSM/cime/CIME/non_py/src/components/stub_comps_nuopc/swav/cime_config/buildnml\n",
      "  2022-05-17 23:56:22 esp \n",
      "Create namelist for component sesp\n",
      "   Calling /home/wwieder/CTSM/cime/CIME/non_py/src/components/stub_comps_nuopc/sesp/cime_config/buildnml\n",
      "  2022-05-17 23:56:22 cpl \n",
      "Create namelist for component drv\n",
      "   Calling /home/wwieder/CTSM/components/cmeps/cime_config/buildnml\n",
      "Writing nuopc_runconfig for components ['CPL', 'ATM', 'LND']\n",
      "Checking that inputdata is available as part of case submission\n",
      "Setting resource.RLIMIT_STACK to -1 from (-1, -1)\n",
      "Loading input file list: 'Buildconf/datm.input_data_list'\n",
      "Loading input file list: 'Buildconf/ctsm.input_data_list'\n",
      "Loading input file list: 'Buildconf/cpl.input_data_list'\n",
      "Check case OK\n",
      "submit_jobs case.run\n",
      "Submit job case.run\n",
      "Submitting job script sbatch --time 144:00:00 -p regular .case.run --resubmit\n",
      "Submitted job id is 119\n",
      "Submit job case.st_archive\n",
      "Submitting job script sbatch --time 00:20:00 -p serial  --dependency=afterok:119 case.st_archive --resubmit\n",
      "Submitted job id is 120\n",
      "Submitted job case.run with id 119\n",
      "Submitted job case.st_archive with id 120\n"
     ]
    }
   ],
   "source": [
    "#cd ~/clm_tutorial_cases/I2000_CTSM_FATESsp/\n",
    "./case.submit"
   ]
  },
  {
   "cell_type": "markdown",
   "metadata": {},
   "source": [
    "\n",
    "When you submit a job, you will see confirmation that it successfully submitted:\n",
    "\n",
    "### Congratulations! You've created and run global CLM-FATES-SP case.\n",
    "\n",
    "Next, you will probably want to check on the status of your jobs.\n",
    "\n",
    "<div class=\"alert alert-block alert-info\" markdown=\"1\">\n",
    "\n",
    "<b>TIP:</b> This is dependent on the scheduler that you're using. \n",
    "\n",
    "<ul>\n",
    "<li>Cheyenne uses <b>PBS</b> where status is checked with <i>qstat -u $USER</i></li>\n",
    "<li>This is also enabled in the cloud for you, try it in the code block below</li></ul>\n",
    "\n",
    "If you want to stop the simulation, you can do so with qdel here (or on Cheyenne).\n",
    "<ul>\n",
    "<li> Find your Job ID after typing <i>qstat</i> </li>\n",
    "<li> Type <i>qdel {Job ID}</i> </li>\n",
    "</ul>\n",
    "</div>"
   ]
  },
  {
   "cell_type": "code",
   "execution_count": 24,
   "metadata": {},
   "outputs": [
    {
     "name": "stdout",
     "output_type": "stream",
     "text": [
      "\n",
      "ctsmworkshop2022.cesm.cloud:\n",
      "                                                                               Req'd  Req'd   Elap \n",
      "Job id               Username Queue    Name                 SessID NDS   TSK   Memory Time Use S Time \n",
      "-------------------- -------- -------- -------------------- ------ ----- ----- ------ ----- - -----\n",
      "114                  wwieder  serial   st_archive.I2000_CTS --         1     1     -- 00:20 C 00:00\n",
      "116                  wwieder  serial   st_archive.I2000_CTS --         1     1     -- 00:20 C 00:00\n",
      "118                  wwieder  build    qcmd                 --         1     4     -- 60:00 C 00:05\n",
      "119                  wwieder  regular  run.I2000_CTSM_FATES --         1    96     -- 144:0 R 00:00\n",
      "120                  wwieder  serial   st_archive.I2000_CTS --         1     1     -- 00:20 Q 00:00\n"
     ]
    }
   ],
   "source": [
    "qstat -u $USER"
   ]
  },
  {
   "cell_type": "code",
   "execution_count": 25,
   "metadata": {},
   "outputs": [
    {
     "name": "stdout",
     "output_type": "stream",
     "text": [
      "             JOBID PARTITION     NAME     USER ST       TIME  NODES NODELIST(REASON)\n",
      "               119   regular run.I200  wwieder  R       0:47      1 regular-dy-compute-hpc6a-1\n",
      "               120    serial st_archi  wwieder PD       0:00      1 (Dependency)\n"
     ]
    }
   ],
   "source": [
    "squeue"
   ]
  },
  {
   "cell_type": "markdown",
   "metadata": {},
   "source": [
    "****\n",
    "# 2. Locate model history files\n",
    "Your simulation will likely take some time to complete. The information\n",
    "provided next shows where the model output will be located while the\n",
    "model is running and once the simulation is complete. We also provide\n",
    "files from a simulation that is already complete so that you can do the\n",
    "next exercises before your simulation completes. \n",
    "\n",
    "<div class=\"alert alert-block alert-info\" markdown=\"1\">\n",
    "\n",
    "<b>When your simulation is running</b> history files go to your scratch directory: \n",
    "\n",
    "<ul>\n",
    "<li><i>/scratch/{USER}/{CASE}</i> </li>\n",
    "</ul>\n",
    "\n",
    "Within this directory you can find <i>/run</i> and <i>/bld</i> subdirectories.\n",
    "\n",
    "<b>When the simulation is complete</b>, a short-term archive directory is created, and history files are moved here: \n",
    "\n",
    "<ul>\n",
    "<li><i>/scratch/{USER}/<b>archive</b>/lnd/hist/</i> </li>\n",
    "</ul>\n",
    "\n",
    "Note that files necessary to continue the run are left in the run directory: <i>/scratch/{USER}/{CASE}/run</i>\n",
    "</div>\n",
    "\n",
    "Let's see what's in your run directory."
   ]
  },
  {
   "cell_type": "code",
   "execution_count": 27,
   "metadata": {},
   "outputs": [
    {
     "name": "stdout",
     "output_type": "stream",
     "text": [
      "atm.log.119.220517-235835   I2000_CTSM_FATESsp.clm2.h0.2000-01.nc\n",
      "CASEROOT\t\t    I2000_CTSM_FATESsp.clm2.h0.2000-02.nc\n",
      "cesm.log.119.220517-235835  lnd_in\n",
      "datm_in\t\t\t    lnd.log.119.220517-235835\n",
      "datm.streams.xml\t    med.log.119.220517-235835\n",
      "drv_flds_in\t\t    nuopc.runconfig\n",
      "drv_in\t\t\t    nuopc.runseq\n",
      "drv.log.119.220517-235835   preview_run.log\n",
      "fd.yaml\t\t\t    preview_run.log.119.220517-235835\n",
      "hostfile\t\t    timing\n"
     ]
    }
   ],
   "source": [
    "cd /scratch/$USER/I2000_CTSM_FATESsp/run\n",
    "ls"
   ]
  },
  {
   "cell_type": "markdown",
   "metadata": {},
   "source": [
    "---\n",
    "*What's in your run directory?*\n",
    "\n",
    "*Do you see any log or history files?*\n",
    "- log files look like `lnd.log*`\n",
    "- history files look like `I2000_CTSM_FATESsp.clm2.h0.2000-01.nc`\n",
    "\n",
    "You can keep running the cell above until you see log and history files.  Then the model is running.\n",
    "\n",
    "FIX ME?  Why does the cesm.log have a bunch of `BalanceCheck, solar radiation balance error (W/m2)`\n",
    "\n",
    "---"
   ]
  },
  {
   "cell_type": "code",
   "execution_count": 28,
   "metadata": {},
   "outputs": [
    {
     "name": "stdout",
     "output_type": "stream",
     "text": [
      "ls: cannot access /scratch/wwieder/archive/I2000_CTSM_FATESsp/lnd/hist: No such file or directory\n"
     ]
    },
    {
     "ename": "",
     "evalue": "2",
     "output_type": "error",
     "traceback": []
    }
   ],
   "source": [
    "ls /scratch/$USER/archive/I2000_CTSM_FATESsp/lnd/hist"
   ]
  },
  {
   "cell_type": "markdown",
   "metadata": {},
   "source": [
    "*What's in your archive directory?*\n",
    "\n",
    "If you don't see any history files your simulation is likely still running or in the queue (check using `squeue` or `qstat`). Check again before you leave today to see if your simulation completed and if the files were transferred to archive. Even if your run isn't finished, you can move on in this \n",
    "\n",
    "Next, let’s explore data from a similar simulation that already ran."
   ]
  },
  {
   "cell_type": "markdown",
   "metadata": {},
   "source": [
    "<div class=\"alert alert-block alert-warning\">\n",
    "\n",
    "<b>TIP:</b> On Cheyenne these directory are found here\n",
    "<ul>\n",
    "<li> <i>/glade/scratch/{USER}/{CASE}/run</i> </li>\n",
    "<li> <i>/glade/scratch/{USER}/<b>archive</b>/{CASE}/lnd/hist/</i> </li>\n",
    "</ul>\n",
    "    \n",
    "</div>"
   ]
  },
  {
   "cell_type": "markdown",
   "metadata": {},
   "source": [
    "# 3. Basic dump of model history files\n",
    "There are a few command-line tools you can use to view netCDF data files. One of the most useful is 'ncdump':"
   ]
  },
  {
   "cell_type": "markdown",
   "metadata": {},
   "source": [
    "| | |\n",
    "|---|---|\n",
    "|`ncdump`| This is a tool that generates a text representation of netCDF data. It is useful for providing information about the variables (names, types, and shapes), dimensions (names and sizes), attributes (names and values), and values of data for all or selected variables. |"
   ]
  },
  {
   "cell_type": "markdown",
   "metadata": {},
   "source": [
    "---\n",
    "**Navigate to this directory, where data from a completed simulation are stored:**"
   ]
  },
  {
   "cell_type": "code",
   "execution_count": null,
   "metadata": {},
   "outputs": [],
   "source": [
    "cd /scratch/data/day1/I2000_CTSM_FATESsp/lnd/hist/\n",
    "ls *2000-*"
   ]
  },
  {
   "cell_type": "markdown",
   "metadata": {},
   "source": [
    "**Let’s look at the information included in the file in a text format**\n",
    "This is also better to execute in the command line, but you can do it here.\n",
    "\n",
    "`ncdump -h I2000_CTSM_FATESsp.clm2.h0.2000-01.nc`\n",
    "\n",
    "If you must run commands in a notebook, take the # out of the code block below and run it - we're only showing the first 50 lines here, to reduce the output:"
   ]
  },
  {
   "cell_type": "code",
   "execution_count": null,
   "metadata": {},
   "outputs": [],
   "source": [
    "ncdump -h I2000_CTSM_FATESsp.clm2.h0.2000-01.nc | head -50"
   ]
  },
  {
   "cell_type": "markdown",
   "metadata": {},
   "source": [
    "<div class=\"alert alert-block alert-info\" markdown=\"1\">\n",
    "\n",
    "<b>NOTES:</b>\n",
    "<ol>\n",
    "    <li> Use the “-h” option to look through the variable names, attributes and dimensions. If you do not use an option, ncdump will list this information and all the data values of all the variables, which is a lot of information!! </li>\n",
    "    <li> In a terminal, use tools like the “| more” command so that you can scroll through the information from the start of the file.</li>\n",
    "    <ul>\n",
    "        <li> hitting <i>return</i> will advance line by line</li>\n",
    "        <li> hitting the <i>space bar</i> will advance more quickly</li>\n",
    "        <li> hitting <i>q</i> will exit</li>\n",
    "    </ul>\n",
    "</ol>\n",
    "\n",
    "</div>"
   ]
  },
  {
   "cell_type": "markdown",
   "metadata": {},
   "source": [
    "Go ahead to the [Day1b_GlobalVisualization notebook](Day1b_GlobalVisualization.ipynb) "
   ]
  },
  {
   "cell_type": "code",
   "execution_count": null,
   "metadata": {},
   "outputs": [],
   "source": []
  }
 ],
 "metadata": {
  "kernelspec": {
   "display_name": "Bash",
   "language": "bash",
   "name": "bash"
  },
  "language_info": {
   "codemirror_mode": "shell",
   "file_extension": ".sh",
   "mimetype": "text/x-sh",
   "name": "bash"
  }
 },
 "nbformat": 4,
 "nbformat_minor": 4
}
