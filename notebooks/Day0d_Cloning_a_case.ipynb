{
 "cells": [
  {
   "cell_type": "markdown",
   "metadata": {},
   "source": [
    "# Tutorial 0d \n",
    "## Cloning a case*\n",
    "\n",
    "The `run_neon` script we used in the `Day0b` created and ran a base case as well as a `.transient` case. \n",
    "\n",
    "You'll recall that building the case was pretty time consuming. Luckily, if you aren't changing the model code, you can run from this base case without rebuilding multiple times. \n",
    "\n",
    "<br>\n",
    "\n",
    "---\n",
    "\n",
    "## In this tutorial\n",
    "\n",
    "The tutorial has several components. Below you will find steps to: \n",
    "1. Create a clone for a new NEON site from the base case you already built.\n",
    "2. Introduce ways to customize the configuration of your cases.\n",
    "\n",
    "*Extra credit* \n",
    "\n",
    "3. Create another clone for an experiment you're hoping to do.\n",
    "\n",
    "<div class=\"alert alert-block alert-warning\">\n",
    "\n",
    "<b>NOTICE:</b>  This tutorial assumes that you've done your homework! \n",
    "    \n",
    "If you haven't downloaded CTSM from the github repository you need to go back to the: \n",
    "<ul>\n",
    "    <li><b>Day0a_GitStarted tutorial</b> and </li> \n",
    "    <li><b>Day0b_NEON_Simulation_Tutorial</b> </li> \n",
    "</ul>\n",
    "    \n",
    "Do these first!\n",
    "\n",
    "    \n",
    "</div>\n"
   ]
  },
  {
   "cell_type": "markdown",
   "metadata": {},
   "source": [
    "<div class=\"alert alert-block alert-warning\">\n",
    "\n",
    "<b>NOTICE:</b> If you're running this notebook through the NCAR JupyterHub login you need to be on a Cheyenne login node (NOT Casper).  \n",
    "\n",
    "</div>\n",
    "\n",
    "\n",
    "<div class=\"alert alert-block alert-info\" markdown=\"1\">\n",
    "\n",
    "<b>TIP:</b>  Before we get started, make sure you're in a bash kernel \n",
    "<ul>\n",
    "    <li> Switch kernal (upper right of your current notebook)</li>\n",
    "    <li> Select either one of the Bash Kernels from the pop-up window</li>    \n",
    "    <li> Click select</li>    \n",
    "</ul>\n",
    "</div>\n",
    "\n",
    "<div>\n",
    "<img src=\"https://github.com/NCAR/CTSM-Tutorial-2022/raw/main/images/kernel.png\" width=\"670\" />\n",
    "</div>\n",
    "\n",
    "\n",
    "<div class=\"alert alert-block alert-info\" markdown=\"1\">\n",
    "\n",
    "<b>HINT:</b>  Most of the examples in this tutorial can be run directly from code \n",
    "cells of this notebook.  \n",
    "\n",
    "It's also helpful to have a terminal window open to run from the command line.\n",
    "To open a tab with a terminal window connection \n",
    "\n",
    "\n",
    "First you need to open a terminal window within CESM-Lab:\n",
    "<ol>\n",
    "    <li> Click on the + symbol in the upper left for a <i>New Launcher</i></li>\n",
    "    <li> Click on the <i>Terminal</i> icon</li>\n",
    "</ol>\n",
    "</div>\n",
    "\n",
    "\n",
    "<div>\n",
    "    <img src=\"https://github.com/NCAR/CTSM-Tutorial-2022/raw/main/images/LaunchTerminal.png\" \n",
    "         style=\"width:655px; height:375px;\" />\n",
    "</div>\n",
    "\n",
    "***"
   ]
  },
  {
   "cell_type": "markdown",
   "metadata": {},
   "source": [
    "<h1> 1. Create a clone </h1>\n",
    "\n",
    "CTSM cases can be cloned to save time and create model experiments for different sites or different configurations that are otherwise identical to each other.   \n",
    "\n",
    "## 1.1 Navigate to your source code"
   ]
  },
  {
   "cell_type": "code",
   "execution_count": null,
   "metadata": {},
   "outputs": [],
   "source": [
    "cd ~/CTSM/tools/site_and_regional"
   ]
  },
  {
   "cell_type": "markdown",
   "metadata": {},
   "source": [
    "## 1.2 Create a clone with `run_neon.py`\n",
    "We'll just use run_neon again, but point to the **base case** you created in that `Day0b` tutorial.\n",
    "\n",
    "**NOTE: if you're running on Cheyenne**, you may need to uncomment the the following two lines of code. \n",
    "\n",
    "This will help set up your conda environment correctly.  *This is not required if your running CESM-Lab in the cloud.*"
   ]
  },
  {
   "cell_type": "code",
   "execution_count": null,
   "metadata": {},
   "outputs": [],
   "source": [
    "#module purge\n",
    "#module load conda ncarenv"
   ]
  },
  {
   "cell_type": "markdown",
   "metadata": {},
   "source": [
    "The following code will:\n",
    "- create a clone, \n",
    "- download input data from NEON\n",
    "- submit the simulation\n",
    "\n",
    "As before, it takes a little bit for all this to happen, but you'll notice it's MUCH faster since we don't have to build the model."
   ]
  },
  {
   "cell_type": "code",
   "execution_count": null,
   "metadata": {},
   "outputs": [],
   "source": [
    "# Change the 4-character NEON site below.\n",
    "export base_case='KONZ'   # should match the base case you created in Day0b\n",
    "export new_case='CPER'    # the new site you want to run"
   ]
  },
  {
   "cell_type": "code",
   "execution_count": null,
   "metadata": {},
   "outputs": [],
   "source": [
    "# then run_neon\n",
    "./run_neon.py --neon-sites $new_case  \\\n",
    "   --output-root ~/scratch/NEON_cases \\\n",
    "   --base-case ~/scratch/NEON_cases/$base_case \\\n",
    "   --overwrite"
   ]
  },
  {
   "cell_type": "markdown",
   "metadata": {},
   "source": [
    "Two new flags are being used here:\n",
    "- `--base-case` points to base case that's already been built, letting you run your new simulation more quickly.  \n",
    "- `--overwrite` will let you overwrite an existing case.  \n",
    "\n",
    "<div class=\"alert alert-block alert-warning\">\n",
    "\n",
    "<b>NOTICE:</b> \n",
    "    \n",
    "- Creating clones while pointing to a `--base-case` saves time by sharing the built model executable.\n",
    "- Creating clones like this also requires that your base-case and new-case are the same type of simulation, `.transient` simulations in this example.  \n",
    "- It also assumes that you're <b>not making modifications to the model source code </b> that would require you to rebuild a case.  \n",
    "\n",
    "</div>\n",
    "\n",
    "\n",
    "You can check to make sure things are running as expected. On the command line of a terminal window you can enter (HINT, you'll likely have to define `new_case` in the terminal window, as above in the notebook: \n",
    "> `ls ~/scratch/NEON_cases/$new_case.transient/run` **or** \n",
    "\n",
    ">`qstat -u $USER` **or**\n",
    "\n",
    ">`tail  ~/scratch/NEON_cases/${new_case}.transient/CaseStatus`\n",
    "\n",
    "<div class=\"alert alert-block alert-info\" markdown='1'>\n",
    "How are our simulations different?  let's take a quick look to see.\n",
    "</div>"
   ]
  },
  {
   "cell_type": "markdown",
   "metadata": {},
   "source": [
    "----\n",
    "# 2. Introduction to controling case configuration\n",
    "\n",
    "There are a few places that summarize differences in simulations.  These files include:\n",
    "- `env_run.xlm`, which are variables that can be changed to configure your case;  \n",
    "- `lnd_in`, which cannot be modified directly, but that gets information from user_nl_clm (and provides addition control over the way the land model is configured in your simulation);  \n",
    "- `datm.streams.xml`, which also cannot be modified directly, but modified with user_datm_streams to point to different data atmosphere streams.\n",
    "\n",
    "The easiest way to do this is by differencing the same files in each case directory with the `diff` command. \n",
    "\n",
    "## 2.1 `env_run.xml` "
   ]
  },
  {
   "cell_type": "code",
   "execution_count": null,
   "metadata": {},
   "outputs": [],
   "source": [
    "cd ~/scratch/NEON_cases\n",
    "diff $new_case.transient/env_run.xml $base_case.transient/env_run.xml "
   ]
  },
  {
   "cell_type": "markdown",
   "metadata": {},
   "source": [
    "**What are the differences between these two cases**, based on their `env_run.xlm` files?\n",
    "\n",
    "These differences are expected, because NEON cases are set up with `usermod_dirs` that control some of these .xml variables.\n",
    "\n",
    "You can look at particlar changes for your $new_case below."
   ]
  },
  {
   "cell_type": "code",
   "execution_count": null,
   "metadata": {},
   "outputs": [],
   "source": [
    "cat ~/CTSM/cime_config/usermods_dirs/NEON/$new_case/shell_commands"
   ]
  },
  {
   "cell_type": "markdown",
   "metadata": {},
   "source": [
    "We won't really go into usermod directories here, but they are a useful way to modify the way cases are configured for different model experiments.\n",
    "\n",
    "usermod_dirs were used when you created your NEON cases with run_neon.  \n",
    "- The shell_command and user_nl_* files are copied from `~/CTSM/cime_config/usermods_dirs/NEON` into your case directory.  \n",
    "- Shell commands are executed after the case is created.\n",
    "- This makes is easier set up cases in a consistent, repeatable way.\n",
    "**Pretty slick software engineering!**\n",
    "\n",
    "Some NEON sites have additional changes, notably for sites with gaps in the NEON input data.  These sites have shorter run times (than the 2018-2021 defaults).  "
   ]
  },
  {
   "cell_type": "code",
   "execution_count": null,
   "metadata": {},
   "outputs": [],
   "source": [
    "cat ~/CTSM/cime_config/usermods_dirs/NEON/MOAB/shell_commands"
   ]
  },
  {
   "cell_type": "markdown",
   "metadata": {},
   "source": [
    "These .xml changes set up high-level control over how your simulation is run.  What are some of the specifics related to the land model?  We can see this by looking at our `lnd_in` file.\n",
    "\n",
    "## 2.2 `lnd_in` \n",
    "\n",
    "**What are the differences between these two cases**, based on their `lnd_in` files?"
   ]
  },
  {
   "cell_type": "code",
   "execution_count": null,
   "metadata": {},
   "outputs": [],
   "source": [
    "diff $new_case.transient/CaseDocs/lnd_in $base_case.transient/CaseDocs/lnd_in "
   ]
  },
  {
   "cell_type": "markdown",
   "metadata": {},
   "source": [
    "<style> \n",
    "table td, table th, table tr {text-align:left !important;}\n",
    "</style>\n",
    "<div class=\"alert alert-block alert-info\">\n",
    "<b>REMEMBER:</b>\n",
    "    \n",
    "- The <i>lnd_in</i> file provides a high level summary of all the name list chagnes and files that are being used by CLM. \n",
    "- It can be found in the CaseDocs directory, or in your run directory. \n",
    "- You cannot directly modifiy the <i>lnd_in file</i>, instead users can modify <i>user_nl_clm</i>.\n",
    "\n",
    "</div>\n",
    "\n",
    "**Initial conditions dataset:** `finidat`\n",
    "  - These are initial conditions files that we created by spinning up the model.  \n",
    "  - Spin up requires starting the model from bare ground conditions (we call it a *coldstart*).\n",
    "  - Spin up takes a few hundred years of simulations so that ecosystem carbon and nitrogen pools acheive steady state conditions (e.g. average net ecosystem exchange equals zero).  \n",
    "  - Since this takes a long time, we provide initial conditions for you to start from.\n",
    "  - **This also means that if you change model parameterizations, input data, or anything else you ahve to spin up the model again!** \n",
    "\n",
    "**Surface dataset:** `fsurdat`\n",
    "  - The surface datasets describe what vegetation is growing in a grid cell, characteristics of soil physical properties, and much more information about what the land surface 'looks like' to the model.  \n",
    "  - We modifed these the default surface dataset for each NEON simulation with information about the dominant plant functional type (PFT) and soil properties, based on NEON measurements. \n",
    "  - This could likely be further refined, but it's a step towards making the model look more like the real world ecosystems we are trying to simulate.\n",
    "\n",
    "\n",
    "There are other differences in the build, but this is basically just reflecting the different case directories for the two NEON cases.\n",
    "\n",
    "---\n",
    "\n",
    "The `lnd_in` files are controlled by `user_nl_clm`.  Let's see how these are different."
   ]
  },
  {
   "cell_type": "code",
   "execution_count": null,
   "metadata": {},
   "outputs": [],
   "source": [
    "diff $new_case.transient/user_nl_clm $base_case.transient/user_nl_clm"
   ]
  },
  {
   "cell_type": "markdown",
   "metadata": {},
   "source": [
    "It looks like the only difference here are initial conditions, but that's because we used environmental variables to get the right surface dataset\n",
    "\n",
    "If you open one of the `user_nl_clm` files you'll see:\n",
    "```\n",
    "fsurdat = \"$DIN_LOC_ROOT/lnd/clm2/surfdata_map/NEON/surfdata_1x1_NEON_${NEONSITE}_hist_78pfts_CMIP6_simyr2000_c230111.nc\"\n",
    "```\n",
    "\n",
    "We saw this already by `diff`ing the `env_run.xml files`, above, but now we'll use `.xmlquery` to see how these are different in each case."
   ]
  },
  {
   "cell_type": "code",
   "execution_count": null,
   "metadata": {},
   "outputs": [],
   "source": [
    "echo moving to base_case directory\n",
    "cd ~/scratch/NEON_cases/$base_case.transient/\n",
    "./xmlquery NEONSITE\n",
    "\n",
    "echo moving to new_case directory\n",
    "cd ~/scratch/NEON_cases/$new_case.transient/\n",
    "./xmlquery NEONSITE\n"
   ]
  },
  {
   "cell_type": "markdown",
   "metadata": {},
   "source": [
    "You can also see what **parameter file** is being used for your case.  Since we haven't changed this, the model just points to the default CTSM5.1 parameter file."
   ]
  },
  {
   "cell_type": "code",
   "execution_count": null,
   "metadata": {},
   "outputs": [],
   "source": [
    "cat ~/scratch/NEON_cases/$base_case.transient/CaseDocs/lnd_in | grep paramfile\n",
    "cat ~/scratch/NEON_cases/$new_case.transient/CaseDocs/lnd_in | grep paramfile\n"
   ]
  },
  {
   "cell_type": "markdown",
   "metadata": {},
   "source": [
    "The land model is using site specific initial conditions and surface data for each NEON site.  How else are our simulations different?  \n",
    "\n",
    "## 2.3 `datm.streams.xml` \n",
    "\n",
    "**What are the differences between these two cases**, based on their `datm.streams.xml` files?\n",
    "\n",
    "The answer here isn't very interesting... the two cases likely point to different input data reflecting local meterology at each site.  It's still helpful to know about how these files are set up.\n"
   ]
  },
  {
   "cell_type": "code",
   "execution_count": null,
   "metadata": {},
   "outputs": [],
   "source": [
    "cd ~/scratch/NEON_cases/\n",
    "cat $new_case.transient/CaseDocs/datm.streams.xml | head -20"
   ]
  },
  {
   "cell_type": "markdown",
   "metadata": {},
   "source": [
    "*Which aspects of this file could be changed for a different site?*\n",
    "\n",
    "You can see check with this code *(HINT: you'll have to paste it in the command line on into a code cell).*\n",
    "\n",
    "> ```\n",
    "> diff $new_case.transient/CaseDocs/datm.streams.xml         $base_case.transient/CaseDocs/datm.streams.xml \n",
    "> ```\n",
    "\n",
    "<div class=\"alert alert-block alert-info\" markdown='1'>\n",
    "<b>REMEMBER:</b> \n",
    "\n",
    "- The <i>datm.stream.xml</i> file points to all of the atmospheric boundary conditions (input data) that are being read in for a case. \n",
    "- Like your <i>lnd_in</i> files, it can be found in the CaseDocs directory, or in your run directory. \n",
    "- You cannot directly modifiy this file, instead users can modify <i>user_nl_datm_streams</i>.  \n",
    "\n",
    "</div>\n",
    "\n",
    "---\n",
    "\n",
    "<div class=\"alert alert-success\">\n",
    "<strong>Congratulations!</strong> \n",
    "    \n",
    "You have now cloned a CTSM case to run a simulation at a new NEON tower site, check that yoe can locate the history files from this site and try to plot up some of these data for these new results.\n",
    "</div>\n",
    "\n",
    "---"
   ]
  },
  {
   "cell_type": "markdown",
   "metadata": {},
   "source": [
    "# 3. Create an experimental clone:\n",
    "\n",
    "<h4> This step is optional, but provides helpful information that you may use in your own workflow </h4>\n",
    "\n",
    "So far, everything we've done has been *out of the box* looking at different NEON sites, but without changing anything in the underlying model code.  You may want to do model experiments where you alter the vegetation growing at a site, modify some of the model parameters, modify namelist settings, change the input data, or even alter model code.  We'll get into how do make these changes later, but for now we'll get a test case set up.\n",
    "\n",
    "Since we're already run an out of the box case for KONZ, we can create a paired experimental case at the same site.\n",
    "\n",
    "<div class=\"alert alert-block alert-info\" markdown='1'>\n",
    "<b>RECOMMENDATION:</b> use a short, descriptive name for your experiment, it will help you down the road.\n",
    "</div>\n",
    "\n",
    "\n",
    "This example below just builds on what you've already been doing:"
   ]
  },
  {
   "cell_type": "code",
   "execution_count": null,
   "metadata": {},
   "outputs": [],
   "source": [
    "# Change the 4-character NEON site below.\n",
    "cd ~/CTSM/tools/site_and_regional\n",
    "export base_case='KONZ'   # should match the base case you created in Day0b\n",
    "export new_case='KONZ'    # the new site you want to run\n",
    "\n",
    "# then run_neon\n",
    "./run_neon.py --neon-sites $new_case  \\\n",
    "   --output-root ~/scratch/NEON_cases \\\n",
    "   --base-case ~/scratch/NEON_cases/$base_case \\\n",
    "   --overwrite \\\n",
    "   --experiment TestMod1 \\\n",
    "   --setup-only  "
   ]
  },
  {
   "cell_type": "markdown",
   "metadata": {},
   "source": [
    "Two new flags are being used here:\n",
    "- `--experiment` just appends the case name for the experiment\n",
    "- `--setup-only` will create the case, but not submit it.\n",
    "\n",
    "<div class=\"alert alert-block alert-warning\" markdown='1'>\n",
    "\n",
    "<b>WARNING:</b> Because we're also using the `--base-case` flag, we won't have to rebuild our experimental case.  This may not be advisable if you're modifying model code.\n",
    "\n",
    "</div>\n",
    "\n",
    "At this point your experimental case has been created.  \n",
    "- What is the case name?\n",
    "- Can you navigate to your case directory?\n",
    "- Are there any differences between this experimental case and the base case you already ran?\n",
    "- Can you find the datm input data for your case?\n",
    "- Is the model going to use an initial conditions file?\n",
    "- Where is the surface dataset that's being used?\n",
    "- Can you find the parameter file for your case?\n",
    "\n",
    "**Extra Credit**\n",
    "- What changes may you like to make to the model in this new experimental case?"
   ]
  },
  {
   "cell_type": "code",
   "execution_count": null,
   "metadata": {},
   "outputs": [],
   "source": []
  },
  {
   "cell_type": "code",
   "execution_count": null,
   "metadata": {},
   "outputs": [],
   "source": []
  },
  {
   "cell_type": "code",
   "execution_count": null,
   "metadata": {},
   "outputs": [],
   "source": []
  },
  {
   "cell_type": "code",
   "execution_count": null,
   "metadata": {},
   "outputs": [],
   "source": []
  },
  {
   "cell_type": "code",
   "execution_count": null,
   "metadata": {},
   "outputs": [],
   "source": [
    "# Change the 4-character NEON site below.\n",
    "cd ~/CTSM/tools/site_and_regional\n",
    "export base_case='KONZ'   # should match the base case you created in Day0b\n",
    "export new_case='CPER'    # the new site you want to run\n",
    "\n",
    "# then run_neon\n",
    "./run_neon.py --neon-sites $new_case  \\\n",
    "   --output-root ~/scratch/NEON_cases \\\n",
    "   --base-case ~/scratch/NEON_cases/$base_case \\\n",
    "   --overwrite \\\n",
    "   --experiment PRISM \\\n",
    "   --setup-only  "
   ]
  },
  {
   "cell_type": "markdown",
   "metadata": {},
   "source": [
    "### XML changes required for PRISM \n",
    "We've set things up so with a single XLM change you can get PRISM precipitation for NEON sites in the conterminous United State (CONUS)\n"
   ]
  },
  {
   "cell_type": "code",
   "execution_count": null,
   "metadata": {},
   "outputs": [],
   "source": [
    "cd ~/scratch/NEON_cases/ONAQ.PRISM.transient\n",
    "./xmlquery CLM_USRDAT_NAME\n",
    "./xmlchange CLM_USRDAT_NAME=NEON.PRISM \n",
    "./xmlquery CLM_USRDAT_NAME\n",
    "\n",
    "\n",
    "**TODO** we still need to figure out how to handle restart files for these cases.\n"
   ]
  },
  {
   "cell_type": "markdown",
   "metadata": {},
   "source": [
    "- **`./xmlquery`** asks what's currently being used for an xml variable\n",
    "\n",
    "- **`./xmlchange`** sets this to a new value (here so that CLM_USRDAT_NAME is changed from NEON to NEON.PRISM), as confirmed by the second `./xmlquery`\n"
   ]
  },
  {
   "cell_type": "markdown",
   "metadata": {},
   "source": [
    "### Namelist changes needed for PRISM\n",
    "run_neon automatically gets a restart file for `.transient` cases from the NEON input data and set this in your user_nl_clm\n",
    "\n",
    "You can confirm this with the following command."
   ]
  },
  {
   "cell_type": "code",
   "execution_count": null,
   "metadata": {},
   "outputs": [],
   "source": [
    "cat user_nl_clm | tail -1"
   ]
  },
  {
   "cell_type": "markdown",
   "metadata": {},
   "source": [
    "You'll notice that even though your case directory is named as expected `ONAQ.PRISM.transient`, the actual restart files doesn't share the **ONAQ.PRISM** case name (`ONAQ.2023-01-13.clm2.r.0318-01-01-00000.nc`).\n",
    "\n",
    "\n"
   ]
  },
  {
   "cell_type": "markdown",
   "metadata": {},
   "source": []
  },
  {
   "cell_type": "code",
   "execution_count": null,
   "metadata": {},
   "outputs": [],
   "source": [
    "./query_config --compsets clm"
   ]
  },
  {
   "cell_type": "markdown",
   "metadata": {},
   "source": [
    "The long name for the compset used here is `HIST_DATM%1PT_CLM51%BGC_SICE_SOCN_SROF_SGLC_SWAV_SESP`, which defines\n",
    "   - time = `HIST_` (vs. 1850, HIST, SSP, etc)\n",
    "   - data atmosphere `DATM%1PT_`, from a single point, as opposed to model atmosphere (e.g., CAM) \n",
    "   - land model `CLM51%BGC_` CLM5.1 physics package with active biogeochemistry (BGC)\n",
    "   - stub sea ice model `SICE_`\n",
    "   - stub ocean model `SOCN_` (see there's no active ocean model!)\n",
    "   - stub river model `SROF_` (other options include MOSART, MIZUROUTE or RTM)\n",
    "   - stub glacier `SGLC_`\n",
    "   - stub wave model `SWAV_`   \n",
    "\n",
    "<div>\n",
    "<img src=\"https://github.com/NCAR/CTSM-Tutorial-2022/raw/main/images/Components.png\" width=\"460\" height=\"460\" />\n",
    "</div>\n",
    "\n",
    "\n",
    "Key Definitions:\n",
    "- **Active:** Simulation is using the code from the model during the run\n",
    "- **Data:** Simulation is reading in data from a file for this component\n",
    "- **Stub:** Component is not being used\n",
    "<br><br> \n",
    "\n",
    "<div class=\"alert alert-block alert-warning\" markdown=\"1\">\n",
    "\n",
    "<b>HINT:</b> Some compsets are \"scientifically supported\" and others are not. A scientifically supported compset just means that we've done some additional testing and evaluation with that compset.  You can use an unsupported compset (which is encouraged!), but will need to add the option <i>--run_unsupported</i> at the end of the <i>create_newcase</i> command line.\n",
    "\n",
    "</div>\n",
    "\n",
    "\n",
    "<div class=\"alert alert-block alert-info\" markdown=\"1\">\n",
    "\n",
    "<b>TIP:</b> More information on model <a href=\"https://www.cesm.ucar.edu/models/cesm2\" target=\"_blank\">Configurations and Grids can be found on  the CESM website</a> (see <i>Configurations and Grids</i> subheading at the bottom of the page)\n",
    "\n",
    "</div>\n",
    "\n"
   ]
  },
  {
   "cell_type": "markdown",
   "metadata": {},
   "source": [
    "***\n",
    "<h2> 1.2 Invoke case.setup </h2>\n",
    "\n",
    "*This step configures the model so that it can compile* \n",
    "***\n",
    "\n",
    "### 1.2.1 Move to your case directory"
   ]
  },
  {
   "cell_type": "code",
   "execution_count": null,
   "metadata": {},
   "outputs": [],
   "source": [
    "cd ~/NEON_cases/${neon_site}.transient"
   ]
  },
  {
   "cell_type": "markdown",
   "metadata": {},
   "source": [
    "As before, this doesn't always render properly online:\n",
    "\n",
    "`~/NEON_cases/${neon_site}.transient`\n",
    "\n",
    "### 1.2.2 Set up your case\n",
    "\n",
    "The `./case.setup` script:\n",
    "1. configures the model\n",
    "2. creates files to modify input data and run options"
   ]
  },
  {
   "cell_type": "code",
   "execution_count": null,
   "metadata": {},
   "outputs": [],
   "source": [
    "./case.setup"
   ]
  },
  {
   "cell_type": "markdown",
   "metadata": {},
   "source": [
    "Using this command, we just configured the model and created the files to modify options & input data.\n",
    "<div>\n",
    "<img src=\"https://github.com/NCAR/CTSM-Tutorial-2022/raw/main/images/CaseSetup.png\" width=\"670\" />\n",
    "</div>"
   ]
  },
  {
   "cell_type": "markdown",
   "metadata": {},
   "source": [
    "***\n",
    "<h2> 1.3 Build the executable  </h2>\n",
    "\n",
    "*This step compiles the model*\n",
    "\n",
    "It also takes a long time, so be patient.\n",
    "***\n",
    "\n",
    "The `./case.build` script:\n",
    "1. Checks input data\n",
    "2. Creates a build/run directory with model executable and namelists\n",
    "\n",
    "TODO: using qcmd -- ./case.build fails with wget errors of met data "
   ]
  },
  {
   "cell_type": "code",
   "execution_count": null,
   "metadata": {},
   "outputs": [],
   "source": [
    "./case.build"
   ]
  },
  {
   "cell_type": "markdown",
   "metadata": {},
   "source": [
    "\n",
    "---\n",
    "This takes some time, and will throw a bunch of errors... don't worry, just give it time\n",
    "\n",
    "\n",
    "**When the build completes successfully you'll see a notice that the `MODEL BUILD HAS FINISHED SUCCESSFULLY`**\n",
    "\n",
    "\n",
    "<div class=\"alert alert-block alert-warning\">\n",
    "   \n",
    "<b>HINT:</b>  Building a NEON case requires that you have the `listing.csv` file in your `~/NEON_cases` directory.  \n",
    "<p> Don't worry, you have this if you did the <b>Day0b tutorial</b>  <span>&#x1F609</span> </p>\n",
    "\n",
    "</div>\n",
    "\n",
    "You can read on, but before executing any code blocks in the notebook **wait for the model to build.**\n",
    "This can take a while, especially while you're wating for your `qcmd` job to start and as code for the land model compiles.\n",
    "\n",
    "<style> \n",
    "table td, table th, table tr {text-align:left !important;}\n",
    "</style>\n",
    "<div class=\"alert alert-block alert-info\">\n",
    "\n",
    "<b>NOTE:</b> The command <i>qcmd -- ./case.build</i> is specific for NCAR environments, including Cheyenne and cloud configurations, and runs the command on a computing node, reducing the load on the login node. <b>You must include <i>qcmd --</i> when running on Cheyenne</b>, and it's highly advised on shared cloud systems too.  On single-user cloud systems, it isn't needed, though it may speed up builds.\n",
    "\n",
    "</div>\n",
    "\n",
    "---"
   ]
  },
  {
   "cell_type": "markdown",
   "metadata": {},
   "source": [
    "### 1.3.2 Customize your case by modifying user_nl_clm\n",
    "\n",
    "Namelist are one way you can customize setting of your case. \n",
    "\n",
    "Namelist changes can be made after the model is built, which can save you time down the road!\n",
    "\n",
    "We'll explore these features more in upcoming tutorials, but for now we just need to add an initial conditions file ( or restart file) to your case.\n",
    "\n",
    "This is done automatically by the `run_neon` script that we used in the *Day0b tutorial*. If you aren't making code or parameter changes, you can use the restart files that we've prestaged on the NEON server.  These can be found in the *listing.csv* file. \n",
    "\n",
    "The command below will:\n",
    "- use `awk` and `grep` to get the url of the restart file on NEON's servers.  \n",
    "- `tail -1` gives us the last (most recent) file in the list\n",
    "*Note, this is NOT common knowledge, at least for me.  I spent > an hour figuring this out!* "
   ]
  },
  {
   "cell_type": "code",
   "execution_count": null,
   "metadata": {},
   "outputs": [],
   "source": [
    "awk -F \",\" '{print $1}' ~/NEON_cases/listing.csv | grep lnd/ctsm/initdata/${neon_site} | tail -1"
   ]
  },
  {
   "cell_type": "markdown",
   "metadata": {},
   "source": [
    "Now we'll use `wget` to copy this file from the NEON servers into our run directory\n",
    "\n",
    "*NOTE* run_neon handles this a bit differently. \n",
    "- **OPTIONAL EXTRA CREDIT** Can you see where the restart file is in your `Day0b` example?"
   ]
  },
  {
   "cell_type": "code",
   "execution_count": null,
   "metadata": {},
   "outputs": [],
   "source": [
    "wget -P ~/scratch/NEON_runs/${neon_site}.transient/run/ \\\n",
    "    eval $(awk -F \",\" '{print $1}' ~/NEON_cases/listing.csv | grep lnd/ctsm/initdata/${neon_site} | tail -1)\n",
    "   "
   ]
  },
  {
   "cell_type": "markdown",
   "metadata": {},
   "source": [
    "Finally we'll add the path to this restart to our user_nl_clm file\n",
    "\n",
    "First print the file name"
   ]
  },
  {
   "cell_type": "code",
   "execution_count": null,
   "metadata": {},
   "outputs": [],
   "source": [
    "ls ~/scratch/NEON_runs/${neon_site}.transient/run/${neon_site}*.clm2.r.*"
   ]
  },
  {
   "cell_type": "markdown",
   "metadata": {},
   "source": [
    "<div class=\"alert alert-block alert-warning\">\n",
    "   \n",
    "<b>WARNING:</b>  You have to modify the code block below by pasting the string that prints from the cell above into the part that says XXX below\n",
    "</div>\n",
    "\n",
    "Here's an example of what I mean:\n",
    "\n",
    "```\n",
    "echo \"finidat='/glade/u/home/wwieder/scratch/NEON_runs/ONAQ.transient/run/ONAQ.2023-01-13.clm2.r.0318-01-01-00000.nc' \" >> user_nl_clm\n",
    "```"
   ]
  },
  {
   "cell_type": "code",
   "execution_count": null,
   "metadata": {},
   "outputs": [],
   "source": [
    "echo \"finidat = 'XXX' \" >> user_nl_clm"
   ]
  },
  {
   "cell_type": "markdown",
   "metadata": {},
   "source": [
    "Open your user_nl_clm file.  \n",
    "\n",
    "**Are you pointing to the initial conditions file copied from NEON?**\n",
    "\n",
    "If so, let's move on."
   ]
  },
  {
   "cell_type": "markdown",
   "metadata": {},
   "source": [
    "<h3> 1.4 Submit your case  </h3>\n",
    "\n",
    "Now you're ready to submit the case!\n",
    "\n",
    "*This step submits the model simulation*\n",
    "- You'll also be downloading all the meterological data from NEON for your site, this also takes a little time and prints lots of information to the screen\n",
    "***"
   ]
  },
  {
   "cell_type": "code",
   "execution_count": null,
   "metadata": {},
   "outputs": [],
   "source": [
    "./case.submit"
   ]
  },
  {
   "cell_type": "markdown",
   "metadata": {},
   "source": [
    "When you submit a job, you will see confirmation that it successfully submitted:\n",
    "\n",
    "### Congratulations! You've created and submitted a single point NEON run from scratch.\n",
    "\n",
    "Next, you will probably want to check on the status of your jobs.\n",
    "\n",
    "<div class=\"alert alert-block alert-info\" markdown=\"1\">\n",
    "\n",
    "<b>TIP:</b> This is dependent on the scheduler that you're using. \n",
    "\n",
    "<ul>\n",
    "<li>Cheyenne uses <b>PBS</b> where status is checked with <i>qstat -u $USER</i></li>\n",
    "<li>This is also enabled in the cloud for you, try it in the code block below</li></ul>\n",
    "\n",
    "If you want to stop the simulation, you can do so with qdel here (or on Cheyenne).\n",
    "<ul>\n",
    "<li> Find your Job ID after typing <i>qstat</i> </li>\n",
    "<li> Type <i>qdel {Job ID}</i> </li>\n",
    "</ul>\n",
    "</div>"
   ]
  },
  {
   "cell_type": "code",
   "execution_count": null,
   "metadata": {},
   "outputs": [],
   "source": [
    "qstat -u $USER"
   ]
  },
  {
   "cell_type": "markdown",
   "metadata": {},
   "source": [
    "---\n",
    "Once your jobs are complete (or show the 'C' state under the 'Use' column, which means complete), we can check the CaseStatus file to ensure there were no errors and it completed successfully.  To do this, we'll 'tail' the end of the CaseStatus file:"
   ]
  },
  {
   "cell_type": "code",
   "execution_count": null,
   "metadata": {},
   "outputs": [],
   "source": [
    "tail  ~/NEON_cases/${neon_site}.transient/CaseStatus"
   ]
  },
  {
   "cell_type": "markdown",
   "metadata": {},
   "source": [
    "You should see several lines, with the middle one saying 'case.run success'.  \n",
    "\n",
    "Before that you'll see notifications about xml changes, case.setup, and case.submit, and case.run\n",
    "\n",
    "<div class=\"alert alert-success\">\n",
    "<strong>Congratulations!</strong> \n",
    "    \n",
    "You've created a CTSM case for the NEON tower you selected.\n",
    "\n",
    "We'll build on these basics in additional tutorials to customize your simulations.\n",
    "</div>\n",
    "\n",
    "\n",
    "\n",
    "\n",
    "****\n",
    "# 2. Locate model history files\n",
    "Your simulation will likely take some time to complete. The information\n",
    "provided next shows where the model output will be located while the\n",
    "model is running and once the simulation is complete. We also provide\n",
    "files from a simulation that is already complete so that you can do the\n",
    "next exercises before your simulation completes. \n",
    "\n",
    "<div class=\"alert alert-block alert-info\" markdown=\"1\">\n",
    "\n",
    "<b>When your simulation is running</b> history files go to your scratch directory: \n",
    "\n",
    "<ul>\n",
    "<li><i>~/scratch/NEON_runs/{CASE}</i> </li>\n",
    "</ul>\n",
    "\n",
    "Within this directory you can find <i>/run</i> and <i>/bld</i> subdirectories.\n",
    "\n",
    "<b>When the simulation is complete</b>, a short-term archive directory is created, and history files are moved here: \n",
    "\n",
    "<ul>\n",
    "<li><i>~/scratch/NEON_runs/<b>archive</b>/{CASE}/lnd/hist/</i> </li>\n",
    "</ul>\n",
    "\n",
    "Note that files necessary to continue the run are left in the run directory: <i>~/scratch/NEON_runs/{CASE}/run</i>\n",
    "</div>\n",
    "\n",
    "## 2.1 Run directory\n",
    "*What's in your run directory?*"
   ]
  },
  {
   "cell_type": "code",
   "execution_count": null,
   "metadata": {},
   "outputs": [],
   "source": [
    "ls ~/scratch/NEON_runs/${neon_site}.transient/run"
   ]
  },
  {
   "cell_type": "markdown",
   "metadata": {},
   "source": [
    "*Do you see any log or history files?*\n",
    "- log files look like `lnd.log*`\n",
    "- history files look like `${neon_site}.transient.clm2.h0.*.nc`\n",
    "\n",
    "You can keep running the cell above until you see log and history files, then the model is running.\n",
    "\n",
    "---\n",
    "\n",
    "## 2.2 Archive directory\n",
    "*What's in your archive directory?*"
   ]
  },
  {
   "cell_type": "code",
   "execution_count": null,
   "metadata": {},
   "outputs": [],
   "source": [
    "ls ~/scratch/NEON_runs/archive/${neon_site}.transient/lnd/hist | head -5"
   ]
  },
  {
   "cell_type": "markdown",
   "metadata": {},
   "source": [
    "You can drop the `| head -5` part of the cell above if you want to see ALL the files that have been archived.\n",
    "\n",
    "If you don't see any history files your simulation is likely still running or in the queue (check using squeue or qstat). Check again before you leave today to see if your simulation completed and if the files were transferred to archive. Even if your run isn't finished, you can move on in this tutorial.\n",
    "\n",
    "If you'd like to visualize these results you can go back to tutorial Day0c and modify to point to these results from the neon_site you just ran."
   ]
  },
  {
   "cell_type": "markdown",
   "metadata": {
    "tags": []
   },
   "source": [
    "***\n",
    "# 3. Create a Clone\n",
    "<h4> This step is optional, but provides helpful information </h4>\n",
    "    \n",
    "Creating and building a new case is slow.  \n",
    "\n",
    "Cloning cases can speed this up!\n",
    "\n",
    "<h2>3.1 Create a clone </h2>\n",
    "\n",
    "- Clones use the same resolution, compset, and output root.\n",
    "- Clones can also share the same executable (build), which can save time!\n",
    "\n",
    "<div class=\"alert alert-block alert-warning\" markdown=\"1\">\n",
    "\n",
    "<b>WARNING:</b> If you're making code modifications be careful using clones that share the same build. The example below is a good way to run the same model configuration at different NEON sites.\n",
    "\n",
    "</div>\n",
    "\n"
   ]
  },
  {
   "cell_type": "code",
   "execution_count": null,
   "metadata": {},
   "outputs": [],
   "source": [
    "# Move back to your source code directory\n",
    "cd ~/CTSM/cime/scripts\n",
    "\n",
    "# Change the 4-character new NEON site you want to run.\n",
    "export neon_site2=\"TEAK\"\n",
    "\n",
    "# then create a cloned case.\n",
    "./create_clone --case ~/NEON_cases/${neon_site2}.transient --clone ~/NEON_cases/${neon_site}.transient --user-mods-dirs ~/CTSM/cime_config/usermods_dirs/NEON/${neon_site2} --keepexe"
   ]
  },
  {
   "cell_type": "markdown",
   "metadata": {},
   "source": [
    "As before, the code above doesn't always render properly online.  Here's what we're doing:\n",
    "\n",
    "`./create_clone --case ~/NEON_cases/${neon_site2}.transient --clone ~/NEON_cases/${neon_site}.transient --user-mods-dirs ~/CTSM/cime_config/usermods_dirs/NEON/${neon_site2} --keepexe`\n",
    "***\n",
    "### **./create_clone**\n",
    "\n",
    "<div class=\"alert alert-block alert-info\">\n",
    "\n",
    "<b>NOTE:</b> There is a lot of information that goes into creating a clone.\n",
    "\n",
    "You can learn more about the options by typing <i>./create_clone --help</i> on the the command line or in a new code cell.\n",
    "\n",
    "<b>We'll briefly go over some of the highlights here.</b>\n",
    "\n",
    "</div>\n",
    "\n",
    "---\n",
    "\n",
    "### Required arguments to create a clone\n",
    "There are 2 required arguments needed to create a clone.  These include: \n",
    "1. `--case`, this is the path and name of the new case your cloning.\n",
    "<br><br>\n",
    "2. `--clone`, this is the path and name of the existing case you want to clone.\n",
    "<br><br>  \n",
    "### Additional information we provided here were: \n",
    "3. `--user-mods-dirs` as before, this sets up the configuration of the case with a user modification directory that defines the location of the new site we're running, but it requires the full path to the `user-mods-dir` you want to use.\n",
    "<br><br>  \n",
    "4. `--keepexe` Point to original build from the case being cloned."
   ]
  },
  {
   "cell_type": "markdown",
   "metadata": {},
   "source": [
    "***\n",
    "<h2> 3.2 Modify namelists </h2>\n",
    "\n",
    "*Because you created a clone and point to an existing build we can skip the `case.setup` and `case.build` steps* \n",
    "***\n",
    "\n",
    "### 3.2.1 Move to your case directory "
   ]
  },
  {
   "cell_type": "code",
   "execution_count": null,
   "metadata": {},
   "outputs": [],
   "source": [
    "cd ~/NEON_cases/${neon_site2}.transient"
   ]
  },
  {
   "cell_type": "markdown",
   "metadata": {},
   "source": [
    "### 3.2.2 Make namelist changes\n",
    "We'll use the same series of commands as before to get the restart file into our run directory"
   ]
  },
  {
   "cell_type": "code",
   "execution_count": null,
   "metadata": {},
   "outputs": [],
   "source": [
    "wget -P ~/scratch/NEON_runs/${neon_site2}.transient/run/ \\\n",
    "    eval $(awk -F \",\" '{print $1}' ~/NEON_cases/listing.csv | grep lnd/ctsm/initdata/${neon_site2} | tail -1)\n",
    "   "
   ]
  },
  {
   "cell_type": "markdown",
   "metadata": {},
   "source": [
    "Print the file name for the restart file"
   ]
  },
  {
   "cell_type": "code",
   "execution_count": null,
   "metadata": {},
   "outputs": [],
   "source": [
    "ls ~/scratch/NEON_runs/${neon_site2}.transient/run/${neon_site2}*.clm2.r.*"
   ]
  },
  {
   "cell_type": "markdown",
   "metadata": {},
   "source": [
    "And now paste it into `user_nl_clm`  \n",
    "\n",
    "**REMEMBER** you need to replace XXX with the results of the cell above"
   ]
  },
  {
   "cell_type": "code",
   "execution_count": null,
   "metadata": {},
   "outputs": [],
   "source": [
    "echo \"finidat = 'XXX' \" >> ~/NEON_cases/${neon_site2}.transient/user_nl_clm"
   ]
  },
  {
   "cell_type": "markdown",
   "metadata": {},
   "source": [
    "***\n",
    "<h2> 3.3 Submit the case </h2>\n",
    "\n",
    "*Because you created a clone and point to an existing build we can skip the `case.setup` and `case.build` steps* \n",
    "***\n",
    "\n",
    "- As before, you'll be downloading all the meterological data, which takes a little time and prints lots of information to the screen\n",
    "***\n"
   ]
  },
  {
   "cell_type": "code",
   "execution_count": null,
   "metadata": {},
   "outputs": [],
   "source": [
    "./case.submit"
   ]
  },
  {
   "cell_type": "markdown",
   "metadata": {},
   "source": [
    "<div class=\"alert alert-success\">\n",
    "<strong>Congratulations!</strong> \n",
    "    \n",
    "You've created and run a clone of CLM for the NEON tower you selected.\n",
    "</div>\n",
    "\n",
    "\n",
    "You can track progress on your run using steps outlined in part #2 of this tutorial.\n",
    "You can also work on visualizing your results for different sites using code provided in `Day_0c` materials.\n",
    "\n",
    "\n"
   ]
  },
  {
   "cell_type": "markdown",
   "metadata": {},
   "source": [
    "If you're developing this tutorial:\n",
    "Before saving and pushing this code to github go to `Kernel` and `Restart kernel and clear all outputs...`"
   ]
  },
  {
   "cell_type": "code",
   "execution_count": null,
   "metadata": {},
   "outputs": [],
   "source": []
  },
  {
   "cell_type": "code",
   "execution_count": null,
   "metadata": {},
   "outputs": [],
   "source": []
  }
 ],
 "metadata": {
  "kernelspec": {
   "display_name": "Bash",
   "language": "bash",
   "name": "bash"
  },
  "language_info": {
   "codemirror_mode": "shell",
   "file_extension": ".sh",
   "mimetype": "text/x-sh",
   "name": "bash"
  }
 },
 "nbformat": 4,
 "nbformat_minor": 4
}
