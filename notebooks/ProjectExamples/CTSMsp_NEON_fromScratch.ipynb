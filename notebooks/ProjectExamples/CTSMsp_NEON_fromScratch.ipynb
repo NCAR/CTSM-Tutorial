{
 "cells": [
  {
   "cell_type": "markdown",
   "metadata": {},
   "source": [
    "# CTSM-SP simulations at NEON sites\n",
    "\n",
    "### *run_neon* doesn't work for satelite phenology (SP cases), so we'll create these cases from *'scratch'*\n",
    "\n",
    "The `run_neon` script we've been using is very useful, but it simplifies a number of steps that users may want to take control of in their workflow.  We'll introduce how you can control aspects of your case setup and configuration here. For example, a deeper understanding of the model is need if your want to run a satelite phenology (SP) case an unsupported tower (non-NEON) site, a generic single point simulation, a regional domain, or for global case.\n",
    "\n",
    "If you're new to running CTSM, this is a somewhat advanced tutorial.  We're planning on doing all of our examples in the workshop using `run_neon`, so the information in this tutorial may not be needed. That said, it illustrates some important features of how to run the model, how to get initial condition files, and more.\n",
    "\n",
    "<br>\n",
    "\n",
    "---\n",
    "\n",
    "## In this tutorial\n",
    "\n",
    "The tutorial has several components. Below you will find steps to: \n",
    "1. Create, setup, build, and run a CTSM-SP case at a NEON site from scratch\n",
    "2. Locate history files\n",
    "\n",
    "<div class=\"alert alert-block alert-warning\">\n",
    "\n",
    "<b>NOTICE:</b> If you're running this notebook through the NCAR JupyterHub login you need to be on a Cheyenne login node (NOT Casper).  \n",
    "\n",
    "</div>"
   ]
  },
  {
   "cell_type": "markdown",
   "metadata": {},
   "source": [
    "<h1> 1. Set up and run a simulation</h1>\n",
    "\n",
    "### CTSM can be run in 4 simple steps.\n",
    "\n",
    "1. **Create** a new case\n",
    "  - *This step sets up a new simulation. It is the most complicated of these four steps because it involves making choices to set up the model configuration*\n",
    "\n",
    "2. **Setup** the case \n",
    "  - *This step configures the model so that it can compile*\n",
    "\n",
    "3. **Build** the executable\n",
    "  - *This step compiles the model*\n",
    "\n",
    "4. **Submit** your run to the batch queue\n",
    "  - *This step submits the model simulation*\n",
    "  \n",
    "**NOTE:** We'll also customine our case with xml and namelist changes."
   ]
  },
  {
   "cell_type": "markdown",
   "metadata": {},
   "source": [
    "***\n",
    "<h1> 1.1 create a new case</h1>\n",
    "\n",
    "*Set up a new simulation*\n",
    "***\n",
    "\n",
    "\n",
    "<div class=\"alert alert-block alert-info\">\n",
    "    \n",
    "<b>TIP:</b> If you're running on Cheyenne, creating a softlink to scratch in your home directory is helpful.  \n",
    "    \n",
    "You can create this with the following: `ln -s /glade/scratch/$USER ~/scratch`\n",
    "\n",
    "</div>"
   ]
  },
  {
   "cell_type": "markdown",
   "metadata": {},
   "source": [
    "## 1.1.1 Navigate to the source code directory\n",
    "\n",
    "Your source code is in your home directory"
   ]
  },
  {
   "cell_type": "code",
   "execution_count": null,
   "metadata": {},
   "outputs": [],
   "source": [
    "cd ~/CTSM/cime/scripts\n",
    "\n",
    "# Change the 4-character NEON site below.\n",
    "export neon_site=\"RMNP\""
   ]
  },
  {
   "cell_type": "markdown",
   "metadata": {},
   "source": [
    "## 1.1.1 Create a new case"
   ]
  },
  {
   "cell_type": "code",
   "execution_count": null,
   "metadata": {},
   "outputs": [],
   "source": [
    "# then create a new case.\n",
    "./create_newcase --case ~/scratch/NEON_cases/${neon_site}_sp_test \\\n",
    "    --res CLM_USRDAT \\\n",
    "    --compset I1PtClm51SpRs \\\n",
    "    --output-root ~/scratch/NEON_cases/ \\\n",
    "    --run-unsupported \\\n",
    "    --user-mods-dir NEON/${neon_site} "
   ]
  },
  {
   "cell_type": "markdown",
   "metadata": {},
   "source": [
    "***\n",
    "The code above doesn't always render properly online.  Here's what the code actually says:\n",
    "\n",
    "```\n",
    "./create_newcase --case ~/scratch/NEON_cases/${neon_site}_sp_test \\\n",
    "    --res CLM_USRDAT \\\n",
    "    --compset I1PtClm51SpRs \\\n",
    "    --output-root ~/scratch/NEON_cases/ \\\n",
    "    --run-unsupported \\\n",
    "    --user-mods-dir NEON/${neon_site} \n",
    "```\n",
    "***\n",
    "### **./create_newcase**\n",
    "\n",
    "<div class=\"alert alert-block alert-info\">\n",
    "\n",
    "<b>NOTE:</b> There is a lot of information that goes into creating a case.\n",
    "\n",
    "You can learn more about the options by typing <i>./create_newcase --help</i> on the the command line or in a new code cell.\n",
    "\n",
    "<b>We'll briefly go over some of the highlights here.</b>\n",
    "\n",
    "</div>\n",
    "\n",
    "---\n",
    "\n",
    "### Required arguments to create a new case\n",
    "There are 3 Required arguments Needed to create a new case.  These include \n",
    "1. `--case`, which specifies the *location* and *name* of the case being created\n",
    "  - `~/scratch` = the alias to your scratch  directory\n",
    "  - `NEON_cases` = the subdirectory we created to store your other cases\n",
    "  - `${neon_site}_sp_test` = the name of the case you're creating\n",
    "  - *Recommendation:* Use meaningful names, including model version, type of simulation, and any additional details to help you remember the configuration of this simulation\n",
    "<br><br>\n",
    "2. `--res` Defines the model *resolution*, or grid,\n",
    "  - `CLM_USRDAT`, which is an option to get a case setup without having to define the grid resolution, yet. \n",
    "  - In global cases, the land model is commonly run at a nominal 1 degree `f09_g17` or 2 degree `f19_g17` resolution \n",
    "  - Using `./query_config --grids` provides a list of supported model resolutions\n",
    "<br><br>  \n",
    "3. `--compset` Defines the *component set* for your case, \n",
    "  - The Component set specifies the default configuration for the case which includes:\n",
    "    - Component models (e.g. active vs. data vs. stub), \n",
    "    - Time period of simulations and forcing scenarios (e.g. 1850 vs 2000 vs. HIST) and \n",
    "    - Physics options (e.g. CLM5.1 vs CLM5.0). \n",
    "  - `I1PtClm51SpRs` is alias that actually describes a much longer set of components that are being used for this single point case. \n",
    "  - All CLM-only compsets start with *\"I\"*.\n",
    "    - Using `./query_config --compsets clm` provides examples of other CLM compsets\n",
    "<br>\n",
    "\n",
    "*There are a few other **optional** flags used to create this new case that we'll briefly touch on here*\n",
    "<br>\n",
    "\n",
    "4. `--output-root`, which specifies the *location* of your run directory\n",
    "  - `~/scratch/NEON_cases` = the subdirectory we already created \n",
    "<br> \n",
    "\n",
    "5. `--user-mods-dirs` sets up the configuration of the case with a user modification directory that defines the location of the site.\n",
    "  - `NEON/FATES/${neon_site}` has files that format of the history files and a few other custom settings for your case. \n",
    "  - This inludes setting some of .xml variables and name list settings correctly for a FATES simulation in a NEON single point case. \n",
    "<br>\n",
    "\n",
    "6. `--run-unsupported` avoids error using compsets are not scientifically supported \n",
    "\n",
    "<div class=\"alert alert-block alert-info\" markdown='1'>\n",
    "\n",
    "<b>NOTE:</b> You may notice an error about project codes when you create your case. The project code isn't important for these simulations. But you may need to change this if you're running on Cheyenne.\n",
    "\n",
    "</div>\n",
    "\n",
    "***"
   ]
  },
  {
   "cell_type": "markdown",
   "metadata": {},
   "source": [
    "<h2> 1.2 Customize your SP case </h2>\n",
    "\n",
    "*Modifications for an SP case*\n",
    "\n",
    "### 1.2.1 Move to your SP case directory\n"
   ]
  },
  {
   "cell_type": "code",
   "execution_count": null,
   "metadata": {},
   "outputs": [],
   "source": [
    "cd ~/scratch/NEON_cases/${neon_site}_sp_test"
   ]
  },
  {
   "cell_type": "markdown",
   "metadata": {},
   "source": [
    "**Background**\n",
    "\n",
    "For an SP case, we want to run NEON sites for a bit to let soil water and temperatures the equilibrate before comparing to observations. Luckily, this only takes a few years (in most cases).\n",
    "\n",
    "**What years is the model set up to run over by default?**  We can look by using `./xlmquery`"
   ]
  },
  {
   "cell_type": "code",
   "execution_count": null,
   "metadata": {},
   "outputs": [],
   "source": [
    "./xmlquery DATM_YR_START DATM_YR_ALIGN DATM_YR_END"
   ]
  },
  {
   "cell_type": "markdown",
   "metadata": {},
   "source": [
    "Most NEON sites we have 4 complete years of data to work with (2018-2021). \n",
    "\n",
    "If this is true for your site, we can use xlm commands to modify our case\n",
    "\n",
    "\n",
    "In general, we want to run for twice as many years as we have NEON observations.  \n",
    "- CLM will just cycle over the meterological data that NEON provides.  \n",
    "  - e.g. data from 2018-2021 will be used for 2014-2017 and then again for 2018-2021\n",
    "- This will allow the second cycle of our our simulation to end with the same dates over which we have NEON observations, making the comaprision with observations easier. \n",
    "\n",
    "### 1.2.2 xlm changes to modify env_run options\n",
    "xlm changes are one way you can control your case to customize the simulation\n",
    "- We won't cover this here, but other tutorials cover more about xml changes.\n",
    "\n",
    "**NOTE** `RUN_STARTDATE` is totally arbitrary. It's just the model date when the simulation starts. \n",
    "- xlm variables like `DATM_YR_START` and `DATM_YR_ALIGN` determine the data that's being read into for your simulation. "
   ]
  },
  {
   "cell_type": "code",
   "execution_count": null,
   "metadata": {},
   "outputs": [],
   "source": [
    "./xmlchange RUN_STARTDATE=2014-01-01 \n",
    "./xmlchange STOP_N=8  "
   ]
  },
  {
   "cell_type": "markdown",
   "metadata": {},
   "source": [
    "### 1.2.3 Modify user_nl_clm\n",
    "We also won't discuss namelist modificaiton here, but they are another way to customize your case.\n",
    "\n",
    "Specifically, we're using usermod directories to write out high frequency history variables for your case in SP mode.\n",
    "- **Remember** beyond simulating GPP, simulations in SP mode don't have a carbon cycle.  The variable for GPP in SP mode is called `FPSN`, which has different units than GPP.\n",
    "\n",
    "You can look at the variables we'll write out on the `h1` history files (30 minute frequency on daily files)"
   ]
  },
  {
   "cell_type": "code",
   "execution_count": null,
   "metadata": {},
   "outputs": [],
   "source": [
    "cat user_nl_clm | tail -1"
   ]
  },
  {
   "cell_type": "markdown",
   "metadata": {},
   "source": [
    "## 1.3 Setup and build your case\n",
    "\n",
    "*This step configures the model so that it can then compile* \n",
    "\n",
    "### 1.3.1 case.setup\n",
    "The `./case.setup` script:\n",
    "1. configures the model\n",
    "2. creates files to modify input data and run options"
   ]
  },
  {
   "cell_type": "code",
   "execution_count": null,
   "metadata": {},
   "outputs": [],
   "source": [
    "./case.setup"
   ]
  },
  {
   "cell_type": "markdown",
   "metadata": {},
   "source": [
    "***\n",
    "<h3> 1.3.2 Build the executable  </h3>\n",
    "\n",
    "*This step compiles the model*\n",
    "\n",
    "It also takes a long time, so be patient.\n",
    "***\n",
    "\n",
    "The `./case.build` script:\n",
    "1. Checks input data\n",
    "2. Creates a build/run directory with model executable and namelists\n",
    "\n",
    "This takes some time, and will throw a bunch of errors and WARNINGS... \n",
    "\n",
    "--- **don't worry, be patient, and just give it time**   ---\n"
   ]
  },
  {
   "cell_type": "code",
   "execution_count": null,
   "metadata": {},
   "outputs": [],
   "source": [
    "qcmd -- ./case.build"
   ]
  },
  {
   "cell_type": "markdown",
   "metadata": {},
   "source": [
    "\n",
    "---\n",
    "\n",
    "**When the build completes successfully you'll see a notice that the `MODEL BUILD HAS FINISHED SUCCESSFULLY`**\n",
    "\n",
    "\n",
    "You can read on, but before executing any code blocks in the notebook **wait for the model to build.**\n",
    "This can take a while.\n",
    "\n",
    "---"
   ]
  },
  {
   "cell_type": "markdown",
   "metadata": {},
   "source": [
    "<h3> 1.4 Submit your case  </h3>\n",
    "\n",
    "Now you're ready to submit the case!\n",
    "\n",
    "*This step submits the model simulation*\n",
    "- You'll also be downloading all the meterological data from NEON for your site, this also takes a little time and prints lots of information to the screen\n",
    "***"
   ]
  },
  {
   "cell_type": "code",
   "execution_count": null,
   "metadata": {},
   "outputs": [],
   "source": [
    "./case.submit"
   ]
  },
  {
   "cell_type": "markdown",
   "metadata": {},
   "source": [
    "When you submit a job, you will see confirmation that it successfully submitted:\n",
    "\n",
    "### Congratulations! \n",
    "### You've created and submitted a single point NEON run from scratch.\n",
    "\n",
    "Next, you will probably want to check on the status of your jobs.\n",
    "\n",
    "<div class=\"alert alert-block alert-info\" markdown=\"1\">\n",
    "\n",
    "<b>TIP:</b> This is dependent on the scheduler that you're using. \n",
    "\n",
    "<ul>\n",
    "<li>Cheyenne uses <b>PBS</b> where status is checked with <i>qstat -u $USER</i></li>\n",
    "<li>This is also enabled in the cloud for you, try it in the code block below</li></ul>\n",
    "\n",
    "If you want to stop the simulation, you can do so with qdel here (or on Cheyenne).\n",
    "<ul>\n",
    "<li> Find your Job ID after typing <i>qstat</i> </li>\n",
    "<li> Type <i>qdel {Job ID}</i> </li>\n",
    "</ul>\n",
    "</div>"
   ]
  },
  {
   "cell_type": "code",
   "execution_count": null,
   "metadata": {},
   "outputs": [],
   "source": [
    "qstat -u $USER"
   ]
  },
  {
   "cell_type": "markdown",
   "metadata": {},
   "source": [
    "---\n",
    "Once your jobs are complete (or show the 'C' state under the 'Use' column, which means complete), we can check the CaseStatus file to ensure there were no errors and it completed successfully.  To do this, we'll 'tail' the end of the CaseStatus file:"
   ]
  },
  {
   "cell_type": "code",
   "execution_count": null,
   "metadata": {},
   "outputs": [],
   "source": [
    "tail  ~/scratch/NEON_cases/${neon_site}_sp_test/CaseStatus"
   ]
  },
  {
   "cell_type": "markdown",
   "metadata": {},
   "source": [
    "You should see several lines, with the middle one saying 'case.run success'.  \n",
    "\n",
    "Before that you'll see notifications about xml changes, case.setup, and case.submit, and case.run\n",
    "\n",
    "<div class=\"alert alert-success\">\n",
    "<strong>Congratulations!</strong> \n",
    "    \n",
    "You've created a CTSM case for the NEON tower you selected.\n",
    "\n",
    "We'll build on these basics in additional tutorials to customize your simulations.\n",
    "</div>\n",
    "\n",
    "\n",
    "****"
   ]
  },
  {
   "cell_type": "markdown",
   "metadata": {},
   "source": [
    "\n",
    "# 2 Create a parallel BGC case for comparison\n",
    "This is an optional example if you want to compare your SP case with a BGC case at the same site.\n",
    "- Your `base-case` is the very first case you ran in the GettingStarted tutorial.  \n",
    "- We'll use this to create a clone for a BGC experiment that doesn't have to rebuild."
   ]
  },
  {
   "cell_type": "code",
   "execution_count": null,
   "metadata": {},
   "outputs": [],
   "source": [
    "export base_case='KONZ'  # This can be the very first case you ran in the GettingStarted tutorial \n",
    "cd ~/CTSM/tools/site_and_regional/\n",
    "./run_neon.py --neon-sites $neon_site  \\\n",
    "   --base-case ~/scratch/NEON_cases/$base_case \\\n",
    "   --output-root ~/scratch/NEON_cases "
   ]
  },
  {
   "cell_type": "markdown",
   "metadata": {},
   "source": [
    "## 2.1 Now check to see how your cases are different.\n",
    "First we'll look at the `env_run.xml` files"
   ]
  },
  {
   "cell_type": "code",
   "execution_count": null,
   "metadata": {},
   "outputs": [],
   "source": [
    "cd ~/scratch/NEON_cases/${neon_site}_sp_test\n",
    "diff env_run.xml ../${neon_site}.transient/env_run.xml"
   ]
  },
  {
   "cell_type": "markdown",
   "metadata": {},
   "source": [
    "Some of these differences are casued by the compset and our xml changes: \n",
    "- 2000_DATM vs. HIST_DATM provides constant vs. transient CO2\n",
    "- SP vs. BGC\n",
    "- time period of the simulation.\n",
    "\n",
    "You can use the `diff` command to compare differences in the configuration of your SP and BGC case (hint look in CaseDocs):\n",
    "- lnd_in\n",
    "- datm.streams.xml"
   ]
  },
  {
   "cell_type": "code",
   "execution_count": null,
   "metadata": {},
   "outputs": [],
   "source": []
  },
  {
   "cell_type": "markdown",
   "metadata": {
    "tags": []
   },
   "source": [
    "***\n",
    "# 3. Create a Clone\n",
    "<h4> This step is optional, but provides helpful information </h4>\n",
    "    \n",
    "Creating and building a new case is slow.  \n",
    "\n",
    "Cloning cases can speed this up!\n",
    "\n",
    "<h2>3.1 Create a clone </h2>\n",
    "\n",
    "- Clones use the same resolution, compset, and output root.\n",
    "- Clones can also share the same executable (build), which can save time!\n",
    "\n",
    "<div class=\"alert alert-block alert-warning\" markdown=\"1\">\n",
    "\n",
    "<b>WARNING:</b> If you're making code modifications be careful using clones that share the same build. The example below is a good way to run the same model configuration at different NEON sites.\n",
    "\n",
    "</div>\n",
    "\n"
   ]
  },
  {
   "cell_type": "code",
   "execution_count": null,
   "metadata": {},
   "outputs": [],
   "source": [
    "# Move back to your source code directory\n",
    "cd ~/CTSM/cime/scripts\n",
    "\n",
    "# Change the 4-character new NEON site you want to run.\n",
    "export neon_site2=\"TEAK\""
   ]
  },
  {
   "cell_type": "code",
   "execution_count": null,
   "metadata": {},
   "outputs": [],
   "source": [
    "# then create a cloned case.\n",
    "./create_clone --case ~/scratch/NEON_cases/${neon_site2}_sp_test \\\n",
    "               --clone ~/scratch/NEON_cases/${neon_site}_sp_test \\\n",
    "               --user-mods-dirs ~/CTSM/cime_config/usermods_dirs/NEON/${neon_site2} \\\n",
    "               --keepexe"
   ]
  },
  {
   "cell_type": "markdown",
   "metadata": {},
   "source": [
    "\n",
    "### **./create_clone**\n",
    "\n",
    "<div class=\"alert alert-block alert-info\">\n",
    "\n",
    "<b>NOTE:</b> There is a lot of information that goes into creating a clone.\n",
    "\n",
    "You can learn more about the options by typing <i>./create_clone --help</i> on the the command line or in a new code cell.\n",
    "\n",
    "<b>We'll briefly go over some of the highlights here.</b>\n",
    "\n",
    "</div>\n",
    "\n",
    "\n",
    "### Required arguments to create a clone\n",
    "There are 2 required arguments needed to create a clone.  These include: \n",
    "1. `--case`, this is the path and name of the new case your cloning.\n",
    "<br><br>\n",
    "2. `--clone`, this is the path and name of the existing case you want to clone.\n",
    "<br><br>  \n",
    "### Additional information we provided here were: \n",
    "3. `--user-mods-dirs` as before, this sets up the configuration of the case with a user modification directory that defines the location of the new site we're running, but it requires the full path to the `user-mods-dir` you want to use.\n",
    "<br><br>  \n",
    "4. `--keepexe` Point to original build from the case being cloned.\n",
    "\n",
    "---"
   ]
  },
  {
   "cell_type": "markdown",
   "metadata": {},
   "source": [
    "<h2> 3.2 Customize the clone? </h2>\n",
    "\n",
    "*Because you created a clone and point to an existing build we can skip the `case.setup` and `case.build` steps* \n",
    "***\n",
    "\n",
    "### 3.2.1 Move to your case directory and compare env_run"
   ]
  },
  {
   "cell_type": "code",
   "execution_count": null,
   "metadata": {},
   "outputs": [],
   "source": [
    "cd ~/scratch/NEON_cases/${neon_site2}_sp_test\n",
    "diff env_run.xml ../${neon_site}_sp_test/env_run.xml"
   ]
  },
  {
   "cell_type": "markdown",
   "metadata": {},
   "source": [
    "### 3.2.2 Make xlm changes\n",
    "In the example above the **TEAK** data record only starts in 2019, meaning we have 3 years of meterological data to cycle through (2019-2021)\n",
    "- CLM will cycle through the observational record for data that's available.\n",
    "- If you want the observational record to line up correctily for sites that AREN'T standard (2018-2021), you may have made some custom XML changes\n",
    "- Let's look at some particulars of time "
   ]
  },
  {
   "cell_type": "code",
   "execution_count": null,
   "metadata": {},
   "outputs": [],
   "source": [
    "./xmlquery RUN_STARTDATE STOP_OPTION STOP_N DATM_YR_START DATM_YR_ALIGN DATM_YR_END"
   ]
  },
  {
   "cell_type": "markdown",
   "metadata": {},
   "source": [
    "For the **TEAK** example, if we start in 2014 our observational record will not align with the model years being simulated.\n",
    "\n",
    "Uncomment out the code below to start in 2013 and cycle through the datm record three times.\n",
    "- **NOTE** You may have to modify things differently for particular NEON sites"
   ]
  },
  {
   "cell_type": "code",
   "execution_count": null,
   "metadata": {},
   "outputs": [],
   "source": [
    "#./xmlchange RUN_STARTDATE=2013-01-01 \n",
    "#./xmlchange STOP_N=9  "
   ]
  },
  {
   "cell_type": "markdown",
   "metadata": {},
   "source": [
    "***\n",
    "<h2> 3.3 Submit the case </h2>\n",
    "\n",
    "*Because you created a clone and point to an existing build we can skip the `case.setup` and `case.build` steps* \n",
    "***\n",
    "\n",
    "- As before, you'll be downloading all the meterological data, which takes a little time and prints lots of information to the screen\n",
    "***\n"
   ]
  },
  {
   "cell_type": "code",
   "execution_count": null,
   "metadata": {},
   "outputs": [],
   "source": [
    "./case.submit"
   ]
  },
  {
   "cell_type": "markdown",
   "metadata": {},
   "source": [
    "<div class=\"alert alert-success\">\n",
    "<strong>Congratulations!</strong> \n",
    "    \n",
    "You've created and run a clone Fof CLM- for the NEON tower you selected.\n",
    "</div>\n",
    "\n",
    "\n",
    "You can track progress on your run using steps outlined in part #2 of this tutorial.\n",
    "You can also work on visualizing your results for different sites using visualization code provided\n",
    "\n"
   ]
  },
  {
   "cell_type": "markdown",
   "metadata": {},
   "source": [
    "If you're developing this tutorial:\n",
    "Before saving and pushing this code to github go to `Kernel` and `Restart kernel and clear all outputs...`"
   ]
  },
  {
   "cell_type": "code",
   "execution_count": null,
   "metadata": {},
   "outputs": [],
   "source": [
    "ls -lrt ~/scratch/NEON_cases/${neon_site2}_sp_test/run/ | tail -10"
   ]
  }
 ],
 "metadata": {
  "kernelspec": {
   "display_name": "Bash",
   "language": "bash",
   "name": "bash"
  },
  "language_info": {
   "codemirror_mode": "shell",
   "file_extension": ".sh",
   "mimetype": "text/x-sh",
   "name": "bash"
  }
 },
 "nbformat": 4,
 "nbformat_minor": 4
}
