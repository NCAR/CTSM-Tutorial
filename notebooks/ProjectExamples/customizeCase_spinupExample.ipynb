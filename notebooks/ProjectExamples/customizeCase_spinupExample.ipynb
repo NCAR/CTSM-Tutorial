{
 "cells": [
  {
   "cell_type": "markdown",
   "metadata": {
    "tags": []
   },
   "source": [
    "# Customize your case: Spinning up the model\n",
    "\n",
    "**This is an optional tutorial** that provides some additional guidance for spinning up CTSM at NEON sites.\n",
    "\n",
    "This tutorial assumes that you've already done a quick sensitivity test that your [parameter modifications](./customizeCase_parameterModifications.ipynb), [namelist changes](customizeCase_modelFeatures.ipynb), or other code modifications changes answers is quick, transient simulations. It may be helpful to refer back to these tutorials if you have questions or want more information about creating an experimental case.\n",
    "\n",
    "---\n",
    "### In this tutorial you will use run_neon to: \n",
    "\n",
    "1. Start an accelerated decomposition (ad) spinup from cold start.\n",
    "2. Continue a postAD run,\n",
    "3. Do a transient simulation \n",
    "\n",
    "---\n",
    "\n",
    "Spinup, or model initialization from a cold start, actually takes a little bit of time.  Let's briefly cover what spinup means.\n",
    "\n",
    "# Background on spinup\n",
    "\n",
    "We make make steady state assumptions about *initial* state of ecosystem properties like temperature\n",
    "water, snow, ice, carbon & nitrogen.  This is the *equilibrium* state of the model, given the forcing\n",
    "data. In model experiments  we make modifications to namelist settings, the parameter files, surface dataset, or underlying model code we also need to generate new initial conditions. \n",
    "\n",
    "In runs with active biogoechemistry, like these NEON simulations, this means we need to get the ecosystem carbon and nigrogen pools with long turnover times into steady state. The turnover and decomposition of these slow pools is mathamatically accelerated in our AD (accelerated decomposition) case.  This means we:\n",
    "- Accelerate turnover of wood, litter and soil pools.\n",
    "- Accelerate advection and diffusion terms too\n",
    "- In CLM5 and CTSM5.1 this is calculated as a function of latitude so that spinup is more accelerated in high latitude regions.\n",
    "\n",
    "Spinning up CTSM consists of 3 parts that includes:\n",
    "1. ad, for accelerated decomposition, \n",
    "2. postAD, which occurs after ad spinup, and\n",
    "3. transient.\n",
    "\n",
    "More information about spinup is available in the [CLM user's guide](https://escomp.github.io/ctsm-docs/versions/master/html/users_guide/running-special-cases/Spinning-up-the-biogeochemistry-BGC-spinup.html?highlight=spinup).  Briefly: \n",
    "\n",
    "- During ad and postAD spinup, we just cycle over several years of input data.  For most NEON sites we cycle over four years of data from 2018-2021.  This also is the same time period we have data for running transient simulations, but as the NEON record gets longer, so too will these transient simulations.\n",
    "- During ad and postAD spinup we hold other inputs constant (e.g., atmospheric CO2 concentrations, N deposition, etc.).  For transient runs these inputs also change over time.\n",
    "- During ad spinup we accelerated the turnover of *slow* pools of C and N that normally have a long residence time in ecosystems (wood and soils).\n",
    "- During postAD runs we take away this accelerated decomposition and let the ecosystem settle into its equilibrium, or steady-state under 'normal conditions'. \n",
    "- Finally, transient runs are used to compare with observations, and include high frequency output that we can compare with flux tower measurements.\n",
    "\n",
    "<div class=\"alert alert-block alert-info\">\n",
    "\n",
    "<b>NOTE:</b> for runs without active biogeochemistry (called satelite shenology, or SP simulations), we still need to equilibrate the model. This is much faster and doesn't require accelerated decomposition.\n",
    "\n",
    "</div>"
   ]
  },
  {
   "cell_type": "markdown",
   "metadata": {},
   "source": [
    "For most temperate systems < 200 years of AD simulations seems adequate, but in colder ecosystems (like NEON sites in Alaska) this can take much longer because cold temperatures slow the turnover of soil organic matter.  We have this set up already in the usermod directories that are used to configure your NEON case with `run_neon`. We can look to see if total ecosystem carbon pools (the sum of all vegetation, litter and soil C stocks) look to be equilibrated after 200 years.\n",
    "\n",
    "![ad_spinup](../../images/WOOD.BTRAN.ad_spin.png)\n",
    "\n",
    "#### LOOK\n",
    "- Does the model seem to have achieved steady state?\n",
    "- Why are there periodic oscillations in the total ecosystem C pools?\n",
    "\n",
    "This plot was generated using the [QuickPlot_CTSM_spinup](QuickPlot_CTSM_spinup.ipynb) notebook, which you can modify for your own site or simulation.\n",
    "\n",
    "After your AD simulation is finished, we have to take the model out of AD mode.  We call these postAD simulations. \n",
    "\n",
    "Have a look to see if 100 years is enough to get pools to steady state? \n",
    "\n",
    "![postad](../../images/WOOD.BTRAN.postad.png)\n",
    "\n",
    "#### LOOK\n",
    "- In postad simulations ecosystem carbon and nitrogen are much larger than in the ad case.  \n",
    "- Does the model seem to have achieved steady state?\n",
    "\n",
    "---\n",
    "\n",
    "## Let's get started!"
   ]
  },
  {
   "cell_type": "markdown",
   "metadata": {},
   "source": [
    "<div class=\"alert alert-block alert-warning\">\n",
    "\n",
    "<b>NOTICE:</b> If you're running this notebook through the NCAR JupyterHub login, you need to be on a Cheyenne login node (NOT Casper).  \n",
    "\n",
    "</div>\n",
    "\n",
    "---\n",
    "\n",
    "### Set up environment\n",
    "It is important in order to have all the tools and packages you need to run simulations. \n",
    "\n",
    "<div class=\"alert alert-block alert-info\">\n",
    "   \n",
    "<b>TIP:</b> <i>If you're running on Cheyenne</i>, you may need to uncomment the the following two lines of code. This will set up your conda environment correctly.\n",
    "\n",
    "<b>This is not required if your running CESM-Lab in the cloud.</b>\n",
    "\n",
    "</div>"
   ]
  },
  {
   "cell_type": "code",
   "execution_count": null,
   "metadata": {},
   "outputs": [],
   "source": [
    "#module purge\n",
    "#module load conda ncarenv"
   ]
  },
  {
   "cell_type": "markdown",
   "metadata": {},
   "source": [
    "# 1. Create a new ad case.\n",
    "Because we're going to modify namelist options that will change answers in CLM we have to run this case through an accelerated decompostion (AD) and postAD spinup.  This will generate new initial conditions for our experimental case, but it also takes a long time.  \n",
    "\n",
    "## 1.1 Check that you've run a control case."
   ]
  },
  {
   "cell_type": "code",
   "execution_count": null,
   "metadata": {},
   "outputs": [],
   "source": [
    "export neon_site='HARV'            # the site you want to run\n",
    "ls ~/scratch/NEON_cases/$neon_site.transient"
   ]
  },
  {
   "cell_type": "markdown",
   "metadata": {},
   "source": [
    "If the code block above says *\"No such file or directory\"* you need to go back and create a control case for your neon_site using [clone_case](Clone_Case.ipynb).\n",
    "\n",
    "If you have run a control case, which includes flies like: \n",
    "- case.build, case.setup, and case.submit; \n",
    "- env_build.xml, env_batch.xml, and env_run.xml; and \n",
    "- user_nl_clm, user_nl_datm, and user_nl_datm_streams  \n",
    "\n",
    "Then you can move on to the next step\n",
    "\n",
    "## 1.2 Navigate to your source code"
   ]
  },
  {
   "cell_type": "code",
   "execution_count": null,
   "metadata": {},
   "outputs": [],
   "source": [
    "cd ~/CTSM/tools/site_and_regional"
   ]
  },
  {
   "cell_type": "markdown",
   "metadata": {},
   "source": [
    "## 1.3 Create an experimental clone\n",
    "\n",
    "In our experimental case we'll changing the foliar C:N ratio for a temperate deciduous tree. \n",
    "\n",
    "<div class=\"alert alert-block alert-info\">\n",
    "\n",
    "<b>HINT:</b> It's helpful to have descriptive experiment names. \n",
    "\n",
    "</div>"
   ]
  },
  {
   "cell_type": "code",
   "execution_count": null,
   "metadata": {},
   "outputs": [],
   "source": [
    "export experiment='foliarCN-30'    # this is name of your experimenal case "
   ]
  },
  {
   "cell_type": "markdown",
   "metadata": {},
   "source": [
    "Since we're creating an experimental case that will change answers in the model we should run a full AD and postAD spinup. The same run_neon script makes this simple.\n",
    "\n",
    "\n",
    "Then run_neon with the following flags:\n",
    "- `--experiment $experiment` \n",
    "- `--run-type ad`\n",
    "- `--setup-only` \n",
    "\n",
    "**NOTE** Don't worry about build warnings from the list below, we'll build the model later."
   ]
  },
  {
   "cell_type": "code",
   "execution_count": null,
   "metadata": {},
   "outputs": [],
   "source": [
    "./run_neon.py --neon-sites $neon_site  \\\n",
    "   --output-root ~/scratch/NEON_cases \\\n",
    "   --experiment $experiment \\\n",
    "   --run-type ad \\\n",
    "   --overwrite \\\n",
    "   --setup-only  \n",
    "   \n",
    "echo '----Your experiment.ad case has been created----'"
   ]
  },
  {
   "cell_type": "markdown",
   "metadata": {},
   "source": [
    "## 1.4 Customizing your case: Namelist changes\n",
    "The configuration of CLM can be customized via namelist modifications. \n",
    "\n",
    "These changes made using namelist files like `user_nl_clm`\n",
    "\n",
    "### 1.4.1 Move to the case directory for your experimental clone"
   ]
  },
  {
   "cell_type": "code",
   "execution_count": null,
   "metadata": {},
   "outputs": [],
   "source": [
    "cd ~/scratch/NEON_cases/$neon_site.$experiment.ad"
   ]
  },
  {
   "cell_type": "markdown",
   "metadata": {
    "tags": []
   },
   "source": [
    "### 1.4.2 Customize your case\n",
    "\n",
    "For this experiment we're changing the foliar C:N ratio for temperate deciduous forests.  Do do this we have to point to our modified parameter file. We can change user_nl_clm using an editor, by opening it directly in jupyter hub, or with the following command."
   ]
  },
  {
   "cell_type": "code",
   "execution_count": null,
   "metadata": {
    "tags": []
   },
   "outputs": [],
   "source": [
    "# This is the path to the modified parameter file you created\n",
    "\n",
    "# If you're running on cheyenne, uncomment the line below\n",
    "#echo \"paramfile = '/glade/scratch/$USER/NEON_cases/modified_inputs/ctsm51_params.c211112_tdf_leafcn30.nc'\" >> user_nl_clm\n",
    "\n",
    "# If you're running with CESM-Lab in the cloud, uncomment the line below\n",
    "echo \"paramfile = '/scratch/$USER/NEON_cases/modified_inputs/ctsm51_params.c211112_tdf_leafcn30.nc'\" >> user_nl_clm"
   ]
  },
  {
   "cell_type": "markdown",
   "metadata": {},
   "source": [
    "Let make sure this worked.  We can:  \n",
    "- preview namelists;\n",
    "- check the  `lnd_in` file."
   ]
  },
  {
   "cell_type": "code",
   "execution_count": null,
   "metadata": {},
   "outputs": [],
   "source": [
    "./preview_namelists"
   ]
  },
  {
   "cell_type": "code",
   "execution_count": null,
   "metadata": {},
   "outputs": [],
   "source": [
    "cat CaseDocs/lnd_in | head -50"
   ]
  },
  {
   "cell_type": "markdown",
   "metadata": {},
   "source": [
    "There's a lot to dig into here! So we'll just stick with a few highlights.\n",
    "\n",
    "#### Take a look\n",
    "**See what printed to in the cell above and answer the following questions**\n",
    "- `finidat`: What initial conditions file are you using? \n",
    "- `fsurdat`: What surface dataset are you using?\n",
    "- `paramfile`: What parameter file are you using?\n",
    "- `spinup_state`: What is your spinup state?\n",
    "\n",
    "Does this make sense?  Answers are in the hidden cell below.\n"
   ]
  },
  {
   "cell_type": "markdown",
   "metadata": {
    "tags": []
   },
   "source": [
    "- `finidat = ' '`  None!  we're starting from a coldstart.\n",
    "- `fsurdat = \".../surfdata_1x1_NEON_HARV_hist_78pfts_CMIP6_simyr2000_c230111.nc\"` This the surface dataset that's been modified for our NEON site.\n",
    "- `paramfile = '.../ctsm51_params.c211112_tdf_leafcn30.nc'` is our modified parameter file\n",
    "- `spinup_state = 2`, which is used for ad mode"
   ]
  },
  {
   "cell_type": "markdown",
   "metadata": {
    "tags": []
   },
   "source": [
    "***\n",
    "\n",
    "- Additional information about customizing CTSM's configurations, including namelist modifications, are available in the [CTSM users guide](https://escomp.github.io/ctsm-docs/versions/master/html/users_guide/setting-up-and-running-a-case/customizing-the-clm-configuration.html?highlight=namelist)\n",
    "Namelist changes can also be used to modify variables on history file output. Simple modification of history file output DOES NOT require spinning up the model.\n",
    "- A list of all the [CTSM history fields are available here](https://escomp.github.io/ctsm-docs/versions/master/html/users_guide/setting-up-and-running-a-case/master_list_nofates.html)\n",
    "- A list of all the [CTSM-FATES history fields are available here](https://escomp.github.io/ctsm-docs/versions/master/html/users_guide/setting-up-and-running-a-case/master_list_fates.html)\n"
   ]
  },
  {
   "cell_type": "markdown",
   "metadata": {},
   "source": [
    "### 1.5 setup, build, and submit the case"
   ]
  },
  {
   "cell_type": "code",
   "execution_count": null,
   "metadata": {},
   "outputs": [],
   "source": [
    "./case.setup"
   ]
  },
  {
   "cell_type": "code",
   "execution_count": null,
   "metadata": {},
   "outputs": [],
   "source": [
    "qcmd -- ./case.build"
   ]
  },
  {
   "cell_type": "markdown",
   "metadata": {},
   "source": [
    "If you get a notice that `MODEL BUILD HAS FINISHED SUCCESSFULLY`, submit your case."
   ]
  },
  {
   "cell_type": "code",
   "execution_count": null,
   "metadata": {},
   "outputs": [],
   "source": [
    "./case.submit"
   ]
  },
  {
   "cell_type": "markdown",
   "metadata": {},
   "source": [
    "<div class=\"alert alert-warning\">\n",
    "<strong>STOP!</strong> \n",
    "    \n",
    "Running an AD spinup for 200 model years will take a few hours of wall clock time.  \n",
    "\n",
    "Don't move on with this tutorial until after the AD simulation is completed.\n",
    "    \n",
    "\n",
    "</div>\n",
    "\n",
    "After your simulation is finised you can check results with the [QuickPlot_CTSM_spinup notebook](QuickPlot_CTSM_spinup.ipynb).\n",
    "\n",
    "---\n"
   ]
  },
  {
   "cell_type": "markdown",
   "metadata": {},
   "source": [
    "# 2 postAD simulations\n",
    "After the model has reached steady-state we have to take it out of AD mode, which requires another ~100 years of simulations.  We also have to create and build a new base case for postAD runs.\n",
    "\n",
    "### 2.1 Be sure your AD case is finished.\n",
    "**HINT** If the cell below fails, you may need to set environmental variables for `$neon_site` and `$experiment` again."
   ]
  },
  {
   "cell_type": "code",
   "execution_count": null,
   "metadata": {},
   "outputs": [],
   "source": [
    "cat ~/scratch/NEON_cases/$neon_site.$experiment.ad/CaseStatus | tail -10"
   ]
  },
  {
   "cell_type": "markdown",
   "metadata": {},
   "source": [
    "The last line of your AD CaseStatus file should read `... st_archive success ...`\n",
    "\n",
    "**If this isn't true, your case may still be running, or it may have failed**\n",
    "\n",
    "- You can use `qstat -u $USER`, also\n",
    "- Look an the `lnd.log.*` and `cesm.log.*` files in your case/run directory (`~/scratch/NEON_cases/$neon_site.$experiment.ad/run`)  \n",
    "\n",
    "#### IF YOUR AD RUN IS COMPLETED, YOU CAN MOVE ON\n",
    "\n",
    "## 2.2 Navigate to your source code"
   ]
  },
  {
   "cell_type": "code",
   "execution_count": null,
   "metadata": {},
   "outputs": [],
   "source": [
    "cd ~/CTSM/tools/site_and_regional"
   ]
  },
  {
   "cell_type": "markdown",
   "metadata": {},
   "source": [
    "## 2.3 Create a postAD experimental case\n",
    "\n",
    "Now we're using a different `--run-type` that's appropriate for the case.\n",
    "\n",
    "As before, you'll get warning related to the the model build.  This is OK, we'll built our case later."
   ]
  },
  {
   "cell_type": "code",
   "execution_count": null,
   "metadata": {},
   "outputs": [],
   "source": [
    "./run_neon.py --neon-sites $neon_site  \\\n",
    "   --output-root ~/scratch/NEON_cases \\\n",
    "   --experiment $experiment \\\n",
    "   --run-type postad \\\n",
    "   --overwrite \\\n",
    "   --setup-only \n",
    "\n",
    "echo '----Your experiment.postad case has been created----'"
   ]
  },
  {
   "cell_type": "markdown",
   "metadata": {},
   "source": [
    "## 2.4 Customize your case\n",
    "This should follow namelist, xml, or other changes you made in the ad run, section 1.4, above"
   ]
  },
  {
   "cell_type": "code",
   "execution_count": null,
   "metadata": {},
   "outputs": [],
   "source": [
    "cd ~/scratch/NEON_cases/$neon_site.$experiment.postad"
   ]
  },
  {
   "cell_type": "code",
   "execution_count": null,
   "metadata": {},
   "outputs": [],
   "source": [
    "# This is the path to the modified parameter file you created\n",
    "\n",
    "# If you're running on cheyenne, uncomment the line below\n",
    "#echo \"paramfile = '/glade/scratch/$USER/NEON_cases/modified_inputs/ctsm51_params.c211112_tdf_leafcn30.nc'\" >> user_nl_clm\n",
    "\n",
    "# If you're running with CESM-Lab in the cloud, uncomment the line below\n",
    "echo \"paramfile = '/scratch/$USER/NEON_cases/modified_inputs/ctsm51_params.c211112_tdf_leafcn30.nc'\" >> user_nl_clm"
   ]
  },
  {
   "cell_type": "code",
   "execution_count": null,
   "metadata": {},
   "outputs": [],
   "source": [
    "./preview_namelists"
   ]
  },
  {
   "cell_type": "markdown",
   "metadata": {},
   "source": [
    "**Stop and check!**\n",
    "- How are the `lnd_in` files different in our ad and postad cases?"
   ]
  },
  {
   "cell_type": "code",
   "execution_count": null,
   "metadata": {},
   "outputs": [],
   "source": [
    "diff CaseDocs/lnd_in ../$neon_site.$experiment.ad/CaseDocs/lnd_in"
   ]
  },
  {
   "cell_type": "markdown",
   "metadata": {},
   "source": [
    "the postad case has: \n",
    "- `finidat = 'HARV.foliarCN-30.ad...'` initial conditions\n",
    "- `spinup_state = 0` meaning we're out of ad mode now\n",
    "- different builds\n",
    "\n",
    "\n",
    "### 2.5 setup, build, and submit the case"
   ]
  },
  {
   "cell_type": "code",
   "execution_count": null,
   "metadata": {},
   "outputs": [],
   "source": [
    "./case.setup"
   ]
  },
  {
   "cell_type": "code",
   "execution_count": null,
   "metadata": {},
   "outputs": [],
   "source": [
    "qcmd -- ./case.build"
   ]
  },
  {
   "cell_type": "code",
   "execution_count": null,
   "metadata": {},
   "outputs": [],
   "source": [
    "./case.submit"
   ]
  },
  {
   "cell_type": "markdown",
   "metadata": {},
   "source": [
    "<div class=\"alert alert-warning\">\n",
    "<strong>STOP!</strong> \n",
    "    \n",
    "Running an postAD run for 100 model years will also take about an hour of wall clock time.  \n",
    "\n",
    "Don't move on with this tutorial until after the post simulation is completed.\n",
    "    \n",
    "\n",
    "</div>\n",
    "\n",
    "After your simulation is finised you can check postAD results with the [QuickPlot_CTSM_spinup notebook](QuickPlot_CTSM_spinup.ipynb).\n",
    "\n",
    "---\n",
    "\n",
    "# 3 Transient simulation\n",
    "Now we're finally ready to go ahead with the transient simulation\n",
    "\n",
    "## 3.1 Be sure your postAD case is finished.\n",
    "**HINT** If the cell below fails, you may need to set environmental variables for `$neon_site` and `$experiment` again."
   ]
  },
  {
   "cell_type": "code",
   "execution_count": null,
   "metadata": {},
   "outputs": [],
   "source": [
    "cat ~/scratch/NEON_cases/$neon_site.$experiment.postad/CaseStatus | tail -10"
   ]
  },
  {
   "cell_type": "markdown",
   "metadata": {},
   "source": [
    "The last line of your postad CaseStatus file should read `... st_archive success ...`\n",
    "\n",
    "**If this isn't true, your case may still be running, or it may have failed**\n",
    "\n",
    "- You can use `qstat -u $USER`, also\n",
    "- Look an the `lnd.log.*` and `cesm.log.*` files in your case/run directory (`~/scratch/NEON_cases/$neon_site.$experiment.postad/run`)  "
   ]
  },
  {
   "cell_type": "code",
   "execution_count": null,
   "metadata": {},
   "outputs": [],
   "source": []
  },
  {
   "cell_type": "markdown",
   "metadata": {},
   "source": [
    "#### IF YOUR POSTAD RUN IS COMPLETED, YOU CAN MOVE ON\n",
    "\n",
    "## 3.2 Navigate to your source code"
   ]
  },
  {
   "cell_type": "code",
   "execution_count": null,
   "metadata": {},
   "outputs": [],
   "source": [
    "cd ~/CTSM/tools/site_and_regional"
   ]
  },
  {
   "cell_type": "markdown",
   "metadata": {},
   "source": [
    "## 3.3 Create a transient experimental case\n",
    "\n",
    "Now we're using:\n",
    "- `--run-type transient` that's appropriate for the case and \n",
    "- `--run-from-postad` that will grab initial conditions from our postAD experimental case.\n",
    "\n",
    "To avoid confusion, we won't run this from a base_case, athough it does mean we have to build the transient case again."
   ]
  },
  {
   "cell_type": "code",
   "execution_count": null,
   "metadata": {},
   "outputs": [],
   "source": [
    "./run_neon.py --neon-sites $neon_site  \\\n",
    "   --output-root ~/scratch/NEON_cases \\\n",
    "   --experiment $experiment \\\n",
    "   --run-type transient \\\n",
    "   --overwrite \\\n",
    "   --setup-only  \\\n",
    "   --run-from-postad"
   ]
  },
  {
   "cell_type": "markdown",
   "metadata": {},
   "source": [
    "## 3.4 Customize your case\n",
    "This should follow namelist, xml, or other changes you made in the ad run, sections 1.4 and 2.4, above"
   ]
  },
  {
   "cell_type": "code",
   "execution_count": null,
   "metadata": {},
   "outputs": [],
   "source": [
    "cd ~/scratch/NEON_cases/$neon_site.$experiment.transient"
   ]
  },
  {
   "cell_type": "code",
   "execution_count": null,
   "metadata": {},
   "outputs": [],
   "source": [
    "# This is the path to the modified parameter file you created\n",
    "\n",
    "# If you're running on cheyenne, uncomment the line below\n",
    "#echo \"paramfile = '/glade/scratch/$USER/NEON_cases/modified_inputs/ctsm51_params.c211112_tdf_leafcn30.nc'\" >> user_nl_clm\n",
    "\n",
    "# If you're running with CESM-Lab in the cloud, uncomment the line below\n",
    "echo \"paramfile = '/scratch/$USER/NEON_cases/modified_inputs/ctsm51_params.c211112_tdf_leafcn30.nc'\" >> user_nl_clmcd ~/scratch/NEON_cases/$new_case.$experiment.transient\n"
   ]
  },
  {
   "cell_type": "code",
   "execution_count": null,
   "metadata": {},
   "outputs": [],
   "source": [
    "./preview_namelists"
   ]
  },
  {
   "cell_type": "markdown",
   "metadata": {},
   "source": [
    "**Stop and check!**\n",
    "- How are the `lnd_in` files different in our postAD and transient cases?\n",
    "- Do these differences make sense?"
   ]
  },
  {
   "cell_type": "code",
   "execution_count": null,
   "metadata": {},
   "outputs": [],
   "source": [
    "diff CaseDocs/lnd_in ../$neon_site.$experiment.postad/CaseDocs/lnd_in"
   ]
  },
  {
   "cell_type": "markdown",
   "metadata": {},
   "source": [
    "#### Double check\n",
    "It's a good idea to make sure cases have expected differences.  \n",
    "\n",
    "See if this is true for our control and experimental transient cases.\n",
    "\n",
    "- How are the `lnd_in` files different in our control and experimental cases?\n",
    "- Do these differences make sense?"
   ]
  },
  {
   "cell_type": "code",
   "execution_count": null,
   "metadata": {},
   "outputs": [],
   "source": [
    "diff CaseDocs/lnd_in ../$neon_site.transient/CaseDocs/lnd_in"
   ]
  },
  {
   "cell_type": "markdown",
   "metadata": {},
   "source": [
    "### 3.5 setup, build, and submit the case"
   ]
  },
  {
   "cell_type": "code",
   "execution_count": null,
   "metadata": {},
   "outputs": [],
   "source": [
    "./case.setup"
   ]
  },
  {
   "cell_type": "code",
   "execution_count": null,
   "metadata": {},
   "outputs": [],
   "source": [
    "qcmd -- ./case.build"
   ]
  },
  {
   "cell_type": "code",
   "execution_count": null,
   "metadata": {},
   "outputs": [],
   "source": [
    "./case.submit"
   ]
  },
  {
   "cell_type": "markdown",
   "metadata": {},
   "source": [
    "<div class=\"alert alert-success\">\n",
    "<strong>Congratulations!</strong> \n",
    "    \n",
    "You've created and run a full spinup for an experimental case of CLM at the NEON tower you selected!\n",
    "    \n",
    "Now we need to see how the simulations are different.\n",
    "</div>\n",
    "\n"
   ]
  },
  {
   "cell_type": "markdown",
   "metadata": {},
   "source": [
    "If you're developing this tutorial:\n",
    "Before saving and pushing this code to github go to `Kernel` and `Restart kernel and clear all outputs...`"
   ]
  },
  {
   "cell_type": "code",
   "execution_count": null,
   "metadata": {},
   "outputs": [],
   "source": []
  },
  {
   "cell_type": "code",
   "execution_count": null,
   "metadata": {},
   "outputs": [],
   "source": []
  }
 ],
 "metadata": {
  "kernelspec": {
   "display_name": "Bash",
   "language": "bash",
   "name": "bash"
  },
  "language_info": {
   "codemirror_mode": "shell",
   "file_extension": ".sh",
   "mimetype": "text/x-sh",
   "name": "bash"
  }
 },
 "nbformat": 4,
 "nbformat_minor": 4
}
