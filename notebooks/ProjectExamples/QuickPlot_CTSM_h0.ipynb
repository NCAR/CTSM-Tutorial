{
 "cells": [
  {
   "cell_type": "markdown",
   "id": "51f96e25-587b-4108-a7d9-34666f7a50e6",
   "metadata": {},
   "source": [
    "# Quick plots - CTSM - Monthly \n",
    "## Simple way to quickly look at monthly history files (*h0*).  \n",
    "\n",
    "This tutorial is an introduction to [xarray](https://docs.xarray.dev/en/stable/user-guide/terminology.html) and [matplotlib](https://matplotlib.org/stable/index.html). There is plenty more information to be found at the documentation for these libraries.\n",
    "\n",
    "This tutorial can be be run either on data from cases that you ran earlier, or can be run on pre-staged data.\n",
    "\n",
    "In this tutorial you will find steps and instructions to:\n",
    "\n",
    "1. Load python libraries needed for plotting\n",
    "2. Locate monthly history files\n",
    "3. Load datasets with xarray\n",
    "4. Plot the data\n",
    "------"
   ]
  },
  {
   "cell_type": "markdown",
   "id": "7edf783f-9442-4a1b-ab7c-e9455be3ac5b",
   "metadata": {
    "tags": []
   },
   "source": [
    "# 1. Load Datasets\n",
    "\n",
    "## 1.1 Load Python Libraries\n",
    "We always start by loading in the libraries we're going to use for the script. There are more libraries being loaded here than we'll likely use, but this list is a good one to get started for most of your plotting needs.\n"
   ]
  },
  {
   "cell_type": "code",
   "execution_count": null,
   "id": "87882ecf-c37c-4b01-bfb4-24e56d671777",
   "metadata": {},
   "outputs": [],
   "source": [
    "import os\n",
    "import time\n",
    "import datetime\n",
    "\n",
    "import numpy as np\n",
    "import pandas as pd\n",
    "import xarray as xr\n",
    "\n",
    "from glob import glob\n",
    "from os.path import join\n",
    "\n",
    "import matplotlib\n",
    "import matplotlib.pyplot as plt\n",
    "import matplotlib.dates as mdates\n",
    "\n",
    "from neon_utils import fix_time_h0"
   ]
  },
  {
   "cell_type": "code",
   "execution_count": null,
   "id": "d3039504-ae5d-4653-acac-44a402cef436",
   "metadata": {},
   "outputs": [],
   "source": [
    "# It's helpful to document the version of some tools that are quickly changing\n",
    "print('xarray '+xr.__version__) # was working with 2023.5.0"
   ]
  },
  {
   "cell_type": "markdown",
   "id": "1db2ec48-9370-422a-a4e4-893bc39906e2",
   "metadata": {},
   "source": [
    "## 1.2 Point to history files \n",
    "\n",
    "### 1.2.1 Where are my simulation results?\n",
    "After your simulations finish, history files are all saved in your `/scratch/NEON_cases/archive/` directory\n",
    "\n",
    "We can print the cases we have to look at using bash magic, `%%bash` or `!` which turns the python cell block below into a bash cell.  "
   ]
  },
  {
   "cell_type": "code",
   "execution_count": null,
   "id": "acf88bc1-a2ab-4ae5-bfcb-232cc5d6ad82",
   "metadata": {},
   "outputs": [],
   "source": [
    "%%bash\n",
    "ls ~/scratch/NEON_cases/archive/"
   ]
  },
  {
   "cell_type": "markdown",
   "id": "7caf652c-e127-4cb8-89cb-a4423b29f2b4",
   "metadata": {},
   "source": [
    "<div class=\"alert alert-block alert-info\">\n",
    "<b>Note</b> you can accomplish the same thing with the following.\n",
    "\n",
    "> `!ls ~/scratch/NEON_cases/archive/`\n",
    "    \n",
    "</div>\n",
    "\n",
    "<div class=\"alert alert-block alert-info\">\n",
    "<b>Note</b> if you prefer to look at example data instead of your own data, you can read in data located at `/scratch/data/NEONv2/hist`. We'll go over this in the next section.\n",
    "\n",
    "</div>\n",
    "\n",
    "---\n",
    "\n",
    "### 1.2.2 Point to the data folder with history files \n",
    "**We'll set the following:**\n",
    "- site to look at; \n",
    "- path to our archive directory;\n",
    "- directory with input data (where history files are found).\n",
    "By doing this more generally, it makes the script easier to modify for different sites."
   ]
  },
  {
   "cell_type": "markdown",
   "id": "a673c3d7-6ba5-4f60-9ff6-72370648c1ee",
   "metadata": {},
   "source": [
    "<div class=\"alert alert-block alert-info\">\n",
    "<b>Note</b> you can accomplish the same thing with the following.\n",
    "\n",
    "> `!ls ~/scratch/NEON_cases/archive/`\n",
    "    \n",
    "</div>\n",
    "\n",
    "---\n",
    "\n",
    "### 1.2.2 Point to the data folder with history files \n",
    "**We'll set the following:**\n",
    "- site to look at\n",
    "- path to our archive directory\n",
    "- directory with input data (where history files are found)\n",
    "By doing this more generally, it makes the script easier to modify for different sites."
   ]
  },
  {
   "cell_type": "code",
   "execution_count": null,
   "id": "44e3bee8-fa6b-4c37-ae55-f62151640598",
   "metadata": {},
   "outputs": [],
   "source": [
    "neon_site = 'ABBY'  # NEON site we're going to look at\n",
    "archive = '~/scratch/NEON_cases/archive' # Path to archive directory\n",
    "\n",
    "# If you prefer to look at example data, you can uncomment the following line\n",
    "# archive = '~/../../scratch/data/NEONv2/hist'\n",
    "\n",
    "# This unpacks the and expands the shortcut, '~', we used above\n",
    "archive = os.path.realpath(os.path.expanduser(archive)) \n",
    "\n",
    "# Create a path to the data folder\n",
    "data_folder = archive+'/'+neon_site+'.transient/lnd/hist'\n",
    "\n",
    "data_folder"
   ]
  },
  {
   "cell_type": "markdown",
   "id": "70d25741-5010-496f-b61a-f15e1c135989",
   "metadata": {},
   "source": [
    "**Is this path for input data, `data_folder`, correct?** \n",
    "\n",
    "*HINT:* You can check in the terminal window or use bash magic (`%%bash`) and then list the contents of `data_folder` with `ls` in the same cell.\n",
    "\n",
    "---"
   ]
  },
  {
   "cell_type": "markdown",
   "id": "dea12afa-a949-4743-9f69-436da46ecd31",
   "metadata": {},
   "source": [
    "### 1.2.3 Create some functions we'll use when opening the data\n",
    "1. `preprocess` will limit the number of variables we're reading in. This is an xarray feature that helps save time (and memory resources).\n",
    "2. `fix_time` corrects annoying features related to how CTSM history files handle time and is provided in `neon_utils.py`\n",
    "*Don't worry too much about the details of these functions right now*."
   ]
  },
  {
   "cell_type": "code",
   "execution_count": null,
   "id": "7f2a23fe-7273-4370-8f2c-fe3dfad5029e",
   "metadata": {},
   "outputs": [],
   "source": [
    "# -- read all variables from the netcdf files\n",
    "#    this just drops an unused coordinate variable (lndgrid) from the dataset\n",
    "def preprocess_all (ds):\n",
    "    ds_new= ds.isel(lndgrid=0) \n",
    "    return ds_new\n",
    "\n",
    "# -- read some of the variables from the netcdf files, \n",
    "#    this will make things faster, but requires you to list the variables you want to look at\n",
    "def preprocess_some (ds):\n",
    "    variables = ['H2OSOI', 'TSOI']\n",
    "    ds_new= ds[variables].isel(lndgrid=0)\n",
    "    return ds_new"
   ]
  },
  {
   "cell_type": "markdown",
   "id": "3919e8c9-4c08-485f-9e01-8c42f6b5ddad",
   "metadata": {},
   "source": [
    "Now we have created the functions needed to manipulate our datasets\n",
    "\n",
    "---\n",
    "\n",
    "### 1.2.4 List all the files we're going to open\n",
    "The monthly history output (**'h0' files**) are written out for NEON cases. \n",
    "\n",
    "To open all of these files we're going to need to know their names.  This can be done if we:\n",
    "- Create an empty list `[]` of simulation files that is\n",
    "- `.extend`ed with a \n",
    "- `sorted` list of files generated with the \n",
    "- `glob` function in python of the \n",
    "- `*h0*`files in our `data_folder` \n",
    "\n",
    "You'll notice that **all of this gets combined in a single line of code** that runs through a \n",
    "- `for` loop over defined simulation years (written as a list of strings)\n",
    "\n",
    "<div class=\"alert alert-block alert-info\">\n",
    "<b>Note</b> If you're new to python it's dense, but efficient.  I actually borrowed a bunch this code from a colleague, Negin Sobhani, who's good at python! Sharing code is really helpful. \n",
    "</div>\n",
    "\n"
   ]
  },
  {
   "cell_type": "code",
   "execution_count": null,
   "id": "617ea958-499e-4dda-92da-8e531b152fe0",
   "metadata": {},
   "outputs": [],
   "source": [
    "# Create an empty list of all the file names to extend\n",
    "sim_files = []\n",
    "\n",
    "# If you want to choose a few particular years, you can use this loop\n",
    "# years = [2021, 2022]\n",
    "# for year in years:\n",
    "#    sim_files.extend(sorted(glob(join(data_folder,\"*h0.\"+year+\"*.nc\"))))\n",
    "\n",
    "sim_files.extend(sorted(glob(join(data_folder,\"*h0.*.nc\"))))"
   ]
  },
  {
   "cell_type": "markdown",
   "id": "50be9689-f985-413a-bb30-4c49e257a204",
   "metadata": {},
   "source": [
    "How many files are you going have to read in?  What is the last day of the simulation you'll be looking at?"
   ]
  },
  {
   "cell_type": "code",
   "execution_count": null,
   "id": "e76ac53d-9f1e-4479-b471-7ca2eccab8a2",
   "metadata": {},
   "outputs": [],
   "source": [
    "print(\"Total number of simulation files: \", len(sim_files), \"files\")\n",
    "print(\"Last simulation file:\", sim_files[-1])"
   ]
  },
  {
   "cell_type": "markdown",
   "id": "4d280416-00b4-431d-944a-bb2ca7b4cceb",
   "metadata": {},
   "source": [
    "---\n",
    "\n",
    "### 1.2.5 Read in the data\n",
    "`xr.open_mfdataset` will open all of these data files and concatenate them into a single **xarray dataset**.\n",
    "\n",
    "We are also going to use the `preprocess` and `fix_time` functions in this step."
   ]
  },
  {
   "cell_type": "code",
   "execution_count": null,
   "id": "aee5a387-f155-4fe8-a6e8-bfe2f95a2f35",
   "metadata": {},
   "outputs": [],
   "source": [
    "start = time.time()\n",
    "print (\"Reading in data for \"+neon_site)\n",
    "\n",
    "# Just reading *some* of the data here, could use preprocess_all instead.\n",
    "ds_ctsm = xr.open_mfdataset(sim_files, decode_times=True, combine='by_coords',\n",
    "                            preprocess=preprocess_some)\n",
    "ds_ctsm = fix_time_h0(ds_ctsm)\n",
    "\n",
    "end = time.time()\n",
    "print(\"Reading all simulation files took:\", end-start, \"s.\")\n"
   ]
  },
  {
   "cell_type": "markdown",
   "id": "bbad64f5-88ef-402b-8fdd-3610fde4766d",
   "metadata": {},
   "source": [
    "### Print the dataset you're working with ds_ctsm"
   ]
  },
  {
   "cell_type": "code",
   "execution_count": null,
   "id": "7cda5d25-ce4b-419c-8dd5-e44f248e7604",
   "metadata": {},
   "outputs": [],
   "source": [
    "ds_ctsm"
   ]
  },
  {
   "cell_type": "markdown",
   "id": "b2be98dc-b543-419c-a2cf-653adfc0b536",
   "metadata": {},
   "source": [
    "#### Take a quick look at the dataset.\n",
    "- What are your coodinate variables?\n",
    "- How long is the time dimensions?\n",
    "- What variables do we have to look at?\n",
    "- What are the long names of some of these variables? (HINT: try `ds_ctsm.TSOI`)\n",
    "- What are other metadata are associated with this dataset? \n",
    "\n",
    "---"
   ]
  },
  {
   "cell_type": "markdown",
   "id": "1d081822-98b6-41e9-a364-0471a35b71d3",
   "metadata": {},
   "source": [
    "### Let's start plotting!\n",
    "\n",
    "### Make a contour plot of soil moisture over time with depth on the y-axis"
   ]
  },
  {
   "cell_type": "code",
   "execution_count": null,
   "id": "878ee93c-086d-467d-b701-60d399235308",
   "metadata": {},
   "outputs": [],
   "source": [
    "# Plot H2OSOI\n",
    "ds_ctsm.H2OSOI.plot(robust=True, y='levsoi')\n",
    "# Invert the y-axis\n",
    "plt.gca().invert_yaxis()\n",
    "# Add the title\n",
    "plt.title(neon_site)\n",
    "# Show plot\n",
    "plt.show()"
   ]
  },
  {
   "cell_type": "markdown",
   "id": "bc12258b-d735-4498-86a5-36244053e14b",
   "metadata": {},
   "source": [
    "### Plot vertical profiles of soil moisture \n",
    "This example is looking at one month of data over the top 2m of soil. Depth is on the y axis, and the plot is reversed so deeper soil levels are at the bottom."
   ]
  },
  {
   "cell_type": "code",
   "execution_count": null,
   "id": "c8990cb0-3a57-425c-a9fa-80f02a9e2d02",
   "metadata": {},
   "outputs": [],
   "source": [
    "# Plot H20SOI at time 5; marker determines style of points\n",
    "ds_ctsm.H2OSOI.isel(time=5).plot(y='levsoi',marker='o',ylim=(0,2))\n",
    "# Invert y-axis\n",
    "plt.gca().invert_yaxis()\n",
    "# Add suptitle above plot title with time slice\n",
    "plt.suptitle(neon_site)\n",
    "# Show plot\n",
    "plt.show()"
   ]
  },
  {
   "cell_type": "markdown",
   "id": "cfc54627-1614-428f-b418-8379dd1ef0ee",
   "metadata": {},
   "source": [
    "It seems odd that surface soil layers are wetter than deeper ones."
   ]
  },
  {
   "cell_type": "markdown",
   "id": "7df902a6-0cda-4588-9437-6b3ae8f23d8e",
   "metadata": {},
   "source": [
    "### Plot a time series of soil moisture for a single soil level"
   ]
  },
  {
   "cell_type": "code",
   "execution_count": null,
   "id": "d8e0fa84-458d-4df1-aae2-8fbb38b118ce",
   "metadata": {},
   "outputs": [],
   "source": [
    "# Plot H2OSOI at soil level 4 with dot markers at each point\n",
    "ds_ctsm.H2OSOI.isel(levsoi=4).plot(marker='o')\n",
    "# Show plot\n",
    "plt.show()"
   ]
  },
  {
   "cell_type": "markdown",
   "id": "8b6a0edb-015a-4fc1-bc07-aaeca72c8438",
   "metadata": {},
   "source": [
    "#### \n",
    "\n",
    "<div class=\"alert alert-block alert-success\">\n",
    "<b>Congratualtions:</b> \n",
    "    \n",
    "You've now looked at some of the monthly output from CLM.\n",
    "\n",
    "What other sites or variables would you like to look at?\n",
    "\n",
    "Give it a shot, you can make lots of plots with all this data!\n",
    "    \n",
    "</div>\n"
   ]
  },
  {
   "cell_type": "code",
   "execution_count": null,
   "id": "2d2c2fb4-3b0d-4502-beb9-b069ad70fc0a",
   "metadata": {},
   "outputs": [],
   "source": []
  }
 ],
 "metadata": {
  "kernelspec": {
   "display_name": "Python 3 (ipykernel)",
   "language": "python",
   "name": "python3"
  },
  "language_info": {
   "codemirror_mode": {
    "name": "ipython",
    "version": 3
   },
   "file_extension": ".py",
   "mimetype": "text/x-python",
   "name": "python",
   "nbconvert_exporter": "python",
   "pygments_lexer": "ipython3",
   "version": "3.11.3"
  }
 },
 "nbformat": 4,
 "nbformat_minor": 5
}
