{
 "cells": [
  {
   "cell_type": "markdown",
   "id": "51f96e25-587b-4108-a7d9-34666f7a50e6",
   "metadata": {},
   "source": [
    "# Quick plots - CTSM\n",
    "## *Simple plots to look at CTSM data quickly*\n",
    "\n",
    "This tutorial is an intdroduction to [xarray](https://docs.xarray.dev/en/stable/user-guide/terminology.html) and [matplotlib](https://matplotlib.org/stable/index.html). There's lot's more information to be found at the documentation for for these libraries.  Note, some users like using the seaborn library instead of matplotlib, we don't have examples using seaborn at this point.\n",
    "\n",
    "In this tutorial you will find steps and instructions to:\n",
    "\n",
    "1. Load datasets with xarray\n",
    "2. Manipulate data & making plots for:\n",
    "> 2.1 Raw dataset; <br>\n",
    "> 2.2 Diel averages for given months of the year; <br>\n",
    "> 2.3 Daily and annual fluxes; and <br>\n",
    "> 2.4 Annual climatologies\n",
    "3. Exporting data to other file types (*e.g., .csv files for users who don't want to work with python*).\n",
    "\n",
    "------"
   ]
  },
  {
   "cell_type": "markdown",
   "id": "7edf783f-9442-4a1b-ab7c-e9455be3ac5b",
   "metadata": {},
   "source": [
    "# 1. Load Datasets\n",
    "\n",
    "## 1.1 Load Python Libraries\n",
    "We always start by loading in the libraries we're going to use for the script.  There are more libraries being loaded here than we'll likely use, but this list is a good one to get started for most of your plotting needs.\n"
   ]
  },
  {
   "cell_type": "code",
   "execution_count": null,
   "id": "87882ecf-c37c-4b01-bfb4-24e56d671777",
   "metadata": {},
   "outputs": [],
   "source": [
    "import os\n",
    "import time\n",
    "import datetime\n",
    "\n",
    "import numpy as np\n",
    "import pandas as pd\n",
    "import xarray as xr\n",
    "\n",
    "from glob import glob\n",
    "from os.path import join\n",
    "\n",
    "import matplotlib\n",
    "import matplotlib.pyplot as plt\n",
    "import matplotlib.dates as mdates\n",
    "\n",
    "from neon_utils import fix_time_h1"
   ]
  },
  {
   "cell_type": "code",
   "execution_count": null,
   "id": "d3039504-ae5d-4653-acac-44a402cef436",
   "metadata": {},
   "outputs": [],
   "source": [
    "print('xarray '+xr.__version__) ##-- was working with 2023.1.0"
   ]
  },
  {
   "cell_type": "markdown",
   "id": "1db2ec48-9370-422a-a4e4-893bc39906e2",
   "metadata": {},
   "source": [
    "## 1.2 Point to history files \n",
    "\n",
    "### 1.2.1 Where are my simulation results?\n",
    "After your simulations finish, history files are all saved in your `/scratch/NEON_cases/archive/` directory\n",
    "\n",
    "We can print the cases we have to look at using bash magic, `%%bash` or `!` which turns the python cell block below into a bash cell.  "
   ]
  },
  {
   "cell_type": "code",
   "execution_count": null,
   "id": "acf88bc1-a2ab-4ae5-bfcb-232cc5d6ad82",
   "metadata": {},
   "outputs": [],
   "source": [
    "%%bash\n",
    "ls ~/scratch/NEON_cases/archive/"
   ]
  },
  {
   "cell_type": "markdown",
   "id": "7caf652c-e127-4cb8-89cb-a4423b29f2b4",
   "metadata": {},
   "source": [
    "<div class=\"alert alert-block alert-info\">\n",
    "<b>Note</b> you can accomplish the same thing with the following.\n",
    "\n",
    "> `!ls ~/scratch/NEON_cases/archive/`\n",
    "    \n",
    "</div>\n",
    "\n",
    "---\n",
    "\n",
    "### 1.2.2 Point to the data folder with history files \n",
    "**We'll set the following:**\n",
    "- site to look at; \n",
    "- path to our archive directory;\n",
    "- directory with input data (where history files are found).\n",
    "By doing this more generally, it makes the script easier to modify for different sites."
   ]
  },
  {
   "cell_type": "code",
   "execution_count": null,
   "id": "44e3bee8-fa6b-4c37-ae55-f62151640598",
   "metadata": {},
   "outputs": [],
   "source": [
    "neon_site = 'CPER'  #NEON site we're going to look at\n",
    "archive = '~/scratch/NEON_cases/archive' #Path to archive directory\n",
    "\n",
    "# this unpacks the and expands the shortcut we used above\n",
    "archive = os.path.realpath(os.path.expanduser(archive)) \n",
    "\n",
    "# Create a path to the data folder\n",
    "data_folder = archive+'/'+neon_site+'.transient/lnd/hist'\n",
    "data_folder"
   ]
  },
  {
   "cell_type": "markdown",
   "id": "70d25741-5010-496f-b61a-f15e1c135989",
   "metadata": {},
   "source": [
    "**Is this the path for input data, `data_folder`, correct?** *HINT:* You can check in the terminal window or using bash magic.\n",
    "\n",
    "---\n",
    "### 1.2.3 Create some functions we'll use when opening the data\n",
    "- preprocess will limit the number of variables we're reading in. This is an xarray feature that helps save time (and memory resources).\n",
    "- fix_time_h1 corrects anoying features related to how CTSM history files handle time and is provided as part of `neon_utils.py`.\n",
    "\n",
    "Don't worry too much about the details of these functions right now\n"
   ]
  },
  {
   "cell_type": "code",
   "execution_count": null,
   "id": "4ab8818a-52ff-4eb6-b378-e66c85bde59f",
   "metadata": {},
   "outputs": [],
   "source": [
    "# -- read only these variables from the whole netcdf files\n",
    "def preprocess_some (ds):\n",
    "    variables = ['FCEV', 'FCTR', 'FGEV','FSH','GPP','FSA','FIRA','AR','HR','ELAI']\n",
    "    ds_new= ds[variables].isel(lndgrid=0)\n",
    "    return ds_new"
   ]
  },
  {
   "cell_type": "markdown",
   "id": "3919e8c9-4c08-485f-9e01-8c42f6b5ddad",
   "metadata": {},
   "source": [
    "### 1.2.4 List all the files we're going to open\n",
    "The the 30-minute, high frequency history output (**'h1' files**) are written out every day in for NEON cases. \n",
    "\n",
    "To open all of these files we're going to need to know their names.  This can be done if we:\n",
    "- Create an empty list `[]` of simulation files that is\n",
    "- `.extend`ed with a \n",
    "- `sorted` list of files generted with the \n",
    "- `glob` function in python of the \n",
    "- `*h1*`files in our `data_folder` \n",
    "\n",
    "You'll notice that **all of this gets combined in a single line of code** that runs through a \n",
    "- `for` loop over defined simulation years (written as a list of strings)\n",
    "\n",
    "<div class=\"alert alert-block alert-info\">\n",
    "<b>Note</b> If you're new to python it's dense, but efficient.  I actually borrowed a bunch this code from a colleague, Negin Sobhani, who's good at python! Sharing code is really helpful. \n",
    "</div>\n",
    "\n"
   ]
  },
  {
   "cell_type": "code",
   "execution_count": null,
   "id": "617ea958-499e-4dda-92da-8e531b152fe0",
   "metadata": {},
   "outputs": [],
   "source": [
    "# This list gives you control over the years of data to read in\n",
    "years = [\"2018\",\"2019\",\"2020\",\"2021\"]  \n",
    "\n",
    "# Create an empty list of all the file names to extend\n",
    "sim_files = []\n",
    "for year in years:\n",
    "    sim_files.extend(sorted(glob(join(data_folder,\"*h1.\"+year+\"*.nc\"))))\n",
    "\n",
    "print(\"All simulation files for all years: [\", len(sim_files), \"files]\")\n",
    "print(sim_files[-1])"
   ]
  },
  {
   "cell_type": "markdown",
   "id": "4d280416-00b4-431d-944a-bb2ca7b4cceb",
   "metadata": {},
   "source": [
    "How many files are you going have to read in?  What is the last day of the simulation you'll be looking at?\n",
    "\n",
    "---\n",
    "\n",
    "### 1.2.5 Read in the data\n",
    "`.open_mfdataset` will open all of these data files and concatinate them into a single **xarray dataset**.\n",
    "\n",
    "There are lot of files here! Be patient it should be done in < 1 minute. This can be done more quickly with dask, but we're not going to mess with it right now.\n",
    "\n",
    "We are going to also going use or `preprocess` and `fix_time` functions in this step from `neon_utils.py`."
   ]
  },
  {
   "cell_type": "code",
   "execution_count": null,
   "id": "aee5a387-f155-4fe8-a6e8-bfe2f95a2f35",
   "metadata": {},
   "outputs": [],
   "source": [
    "start = time.time()\n",
    "\n",
    "# Define the variables to read in\n",
    "\n",
    "print ('---------------------------')\n",
    "print (\"Reading in data for \"+neon_site)\n",
    "ds_ctsm = xr.open_mfdataset(sim_files, decode_times=True, combine='by_coords',\n",
    "                            preprocess=preprocess_some)\n",
    "ds_ctsm = fix_time_h1(ds_ctsm)\n",
    "\n",
    "end = time.time()\n",
    "print(\"Reading all simulation files took:\", end-start, \"s.\")\n"
   ]
  },
  {
   "cell_type": "markdown",
   "id": "05bc09ba-c7f3-4b37-bdd0-22a13d3f26ef",
   "metadata": {},
   "source": [
    "#### Take a quick look at the dataset.\n",
    "- What are your coodinate variables?\n",
    "- How long is the time dimensions?\n",
    "- What variables do we have to look at?\n",
    "- What are the long names of some of these variables? (HINT try `ds_ctsm.GPP`)\n",
    "- What are other metadata are associated with this dataset? "
   ]
  },
  {
   "cell_type": "code",
   "execution_count": null,
   "id": "8ecd9859-fb98-470d-8cbf-fbeed70302f5",
   "metadata": {},
   "outputs": [],
   "source": [
    "ds_ctsm"
   ]
  },
  {
   "cell_type": "markdown",
   "id": "6656c923-3ce1-4a20-a711-48b1188add9c",
   "metadata": {},
   "source": [
    "---\n",
    "---\n",
    "\n",
    "# 2 Manipulating data and making plots\n",
    "These are all just timeseries data.  We'll focus on different ways to average of the time dimension to visualize results.\n",
    "\n",
    "We'll also just focus on gross primary production (GPP), but you can adjust this to look at other variables of intereset.\n",
    "\n",
    "---\n",
    "\n",
    "## 2.1 Quick look at the full time series\n",
    "It's often helpful to visualize the raw data before you get started.\n",
    "This is quick and easy if you:\n",
    "- point your dataset `ds_ctsm`, \n",
    "- select a variable `GPP` and use \n",
    "- `.plot()` function that's built into xarray.  \n",
    "\n",
    "These three actions are combined in a single line of code"
   ]
  },
  {
   "cell_type": "code",
   "execution_count": null,
   "id": "9038c557-6398-4c07-8d90-2d0a981376a4",
   "metadata": {},
   "outputs": [],
   "source": [
    "ds_ctsm.GPP.plot() ;"
   ]
  },
  {
   "cell_type": "markdown",
   "id": "e9c0287b-c569-4aa8-973e-599ee726aac4",
   "metadata": {
    "tags": []
   },
   "source": [
    "Hopefully you can see clear peaks for each year's growing season.  \n",
    "- Why are there are still zero values durring the middle of the summer?\n",
    "- What do data for other variables look like?\n",
    "\n",
    "This volume of data is hard to digest.  Let's look at a few ways to manipulate the data.\n",
    "\n",
    "---\n",
    "## 2.2 Mean diel cycle\n",
    "We have this high frequcncy output to look at the daily cycle of fluxes.  Let's look at just a few days of data.\n",
    "\n",
    "We'll just subset the data by adding the following xarray features tor our previous `ds_ctsm.GPP.plot()` command:\n",
    "- `.isel` the *index select* on our coorinate variable, *time*, and: \n",
    "- `slice` which let's us slice out a range of data, instead of a single time point."
   ]
  },
  {
   "cell_type": "code",
   "execution_count": null,
   "id": "7d8a9b13-545a-45f8-b838-0d43f9cbe03d",
   "metadata": {},
   "outputs": [],
   "source": [
    "## Select data range, here for days of July \n",
    "#  @ 30 minute frequency this means 48 times recorded / day\n",
    "first_time = (181*48)\n",
    "last_time = (185*48)\n",
    "\n",
    "ds_ctsm.GPP.isel(time=slice(first_time,last_time)).plot() ;"
   ]
  },
  {
   "cell_type": "markdown",
   "id": "397f4f42-ade5-4892-8cfe-a67aa4b26019",
   "metadata": {},
   "source": [
    "*Ah, it look like at night GPP goes to zero.  That's why there are zero values in the middle of summer!*\n",
    "\n",
    "**You can also subset data to just look at data for a month.** \n",
    "\n",
    "Here we'll look at data from July using the xarray \n",
    "- `.where` function, which requires a \n",
    "  - logical to evaluate, here when the datasets time dimension equals our selected month; and \n",
    "  - dropping the unused data where the logical is false (optional). "
   ]
  },
  {
   "cell_type": "code",
   "execution_count": null,
   "id": "64ca1dae-4c9c-468d-9e05-7849396d3bdd",
   "metadata": {},
   "outputs": [],
   "source": [
    "sel_month = 7\n",
    "month_GPP = ds_ctsm.GPP.where(ds_ctsm.time.dt.month == sel_month, drop=True)\n",
    "print(\"month \"+str(sel_month)+\" has length = \"+str(len(month_GPP.time)))"
   ]
  },
  {
   "cell_type": "markdown",
   "id": "96c89720-c942-469c-a7bd-b41298b770a1",
   "metadata": {},
   "source": [
    "**Does the time dimension seem to have the right length?** (48 times/day * n days/month * n year of simulations) \n",
    "\n",
    "\n",
    "<div class=\"alert alert-block alert-info\">\n",
    "<b>Note</b> you can also do this other ways\n",
    "    \n",
    "For example, using the xarray select function, `.sel`, should produce idential results.\n",
    "\n",
    "> `month_GPP = ds_ctsm.GPP.sel(time=ds_ctsm.time.dt.month.isin([sel_month]))`    \n",
    "\n",
    "</div>\n",
    "\n",
    "Even this subset of data is still a lot to try and make sense of! Now we'll take a look at the average diel cycle for the month.\n",
    "\n",
    "We can accomplish this using the:\n",
    "- `.groupby` function for combined \n",
    "- `local_time` variable (which is made by adding the hour to a decimal minute for each day) and \n",
    "- `.plot`, which again gives us a quck look at an xarray data array."
   ]
  },
  {
   "cell_type": "code",
   "execution_count": null,
   "id": "31a77877-e131-479a-bbe9-eb8598c0359d",
   "metadata": {},
   "outputs": [],
   "source": [
    "month_GPP['local_time'] = month_GPP[\"time.hour\"]+month_GPP[\"time.minute\"]/60\n",
    "month_GPP.groupby(month_GPP[\"local_time\"]).mean().plot() ;"
   ]
  },
  {
   "cell_type": "markdown",
   "id": "cb123684-8ffa-431d-9fcb-c40821087b96",
   "metadata": {},
   "source": [
    "CTSM simulations are run with GMT, not local_time.\n",
    "\n",
    "We'll shift these results here, just centering by eye to local noon for now.\n",
    "CPER is in the Mountain time zone (GMT-7), meaning we should:\n",
    "- `.shift` -14 timesteps, repeating the \n",
    "- `.groupby` function on our `local_time variable`, and then taking the \n",
    "- `.mean` or `.std`\n",
    "\n",
    "You can layer all these steps into a sigle line of code!"
   ]
  },
  {
   "cell_type": "code",
   "execution_count": null,
   "id": "1476b827-e20c-4016-b23d-84a238e2c533",
   "metadata": {},
   "outputs": [],
   "source": [
    "# calculate mean and standard deviation \n",
    "mean = month_GPP.shift(time=-14).groupby(month_GPP[\"local_time\"]).mean()\n",
    "std = month_GPP.shift(time=-14).groupby(month_GPP[\"local_time\"]).std()"
   ]
  },
  {
   "cell_type": "markdown",
   "id": "4371bfd8-31c8-4700-b4fd-35bd219fb288",
   "metadata": {},
   "source": [
    "**Now make the plots!**\n",
    "Here we'll switch to plotting wit matplotlib, loaded as `plt` for convenience, which has intuitive functions like:\n",
    "- `.plot`(x, y, ...)\n",
    "- `.fill_between`(x, y+z, y-z, ...) and plot control of features like\n",
    "- `.xlabel`, `.ylabel`, `.title`, and `.grid`\n"
   ]
  },
  {
   "cell_type": "code",
   "execution_count": null,
   "id": "db8af133-27ae-4223-beea-06907f33a2c6",
   "metadata": {},
   "outputs": [],
   "source": [
    "plt.plot(mean['local_time'], mean, marker = 'o')\n",
    "plt.fill_between(mean['local_time'], mean+std,mean-std, alpha=0.3)\n",
    "plt.xlabel('local_time (h)')\n",
    "plt.ylabel(month_GPP.attrs['long_name']+\" (\"+month_GPP.attrs['units']+\")\")\n",
    "plt.title(neon_site+\" diel mean, month=\"+str(sel_month), \n",
    "          loc='left',fontweight='bold') \n",
    "plt.grid() ;"
   ]
  },
  {
   "cell_type": "markdown",
   "id": "7c8d0d4c-05d5-42cd-9812-07728cd433ca",
   "metadata": {},
   "source": [
    "**OK just for fun, lets go crazy by plotting mean diel cycles for each month of the year.**\n",
    "\n",
    "We can do this in a `for` loop with just a few lines of code by layering multiple functions into each line.\n",
    "\n",
    "<div class=\"alert alert-block alert-info\">\n",
    "<b>Note</b> conditional in python use indent spacing to define what's happening inside the loop.  This helps make the code easier to read and write. See the example below.\n",
    "</div>"
   ]
  },
  {
   "cell_type": "code",
   "execution_count": null,
   "id": "cf45bc8b-1222-4c00-b3d0-203c4ee8e577",
   "metadata": {},
   "outputs": [],
   "source": [
    "for m in range(1,13):\n",
    "    month_GPP = ds_ctsm.GPP.sel(time=ds_ctsm.time.dt.month.isin([m]))\n",
    "    month_GPP['local_time'] = month_GPP[\"time.hour\"]+month_GPP[\"time.minute\"]/60\n",
    "    month_GPP.shift(time=-14).groupby(month_GPP[\"local_time\"]).mean().plot(label=str(m))\n",
    "\n",
    "plt.title(neon_site+\" diel mean\", loc='left',fontweight='bold') \n",
    "plt.legend(title='month') ;"
   ]
  },
  {
   "cell_type": "markdown",
   "id": "edee4cb6-82c5-4c09-897e-a71a1b22900e",
   "metadata": {
    "tags": []
   },
   "source": [
    "**Look at these results!**\n",
    "- What months have the highest daily fluxes at this site?\n",
    "- Why does the breadth of each curve change for different months?\n",
    "\n",
    "---\n",
    "\n",
    "\n",
    "## 2.3 Daily mean flux calculations\n",
    "\n",
    "We're calculating the mean to avoid having to change units (*currently gC/m^2/s*).  Since each day has the same number of timesteps (48), this kind of averaging is OK to do, but it's good to be aware of how you're grouping data down the road.  For example you may want to take a weighted mean at times (e.g. each month has a different number of days). Or change units to make them better reflect your calculations. **I like to think about this as I'm working** by printing the outputs of my calculations at the end of each code cell and thinking about their dimensions, attributes, etc.\n",
    "\n",
    "<div class=\"alert alert-block alert-info\">\n",
    "<b>Note:</b> This can also be done several ways.\n",
    "    \n",
    "For example using `.resample` or `.groupby` in xarray, but `.resample` handles time better.  \n",
    "    \n",
    "For one dimensional variables it is more computationally efficient to use a pandas dataframe, from which xarray borrowed much its `.resample` and `.groupby` logic. If you're familiar with pandas, you're welcome to do this, but for simplicity in this example we're going to keep using xarray.\n",
    "\n",
    "</div>\n",
    "\n",
    "To calculate daily mean we'll focus on: \n",
    "- `GPP` as our variable, and use the \n",
    "- `.resample` function in xarray over \n",
    "- `time='D'` for every day of the timeseries, to calculate the daily\n",
    "- `.mean`"
   ]
  },
  {
   "cell_type": "code",
   "execution_count": null,
   "id": "2c8499b1-dc88-4319-9977-349dfeb0bb8a",
   "metadata": {},
   "outputs": [],
   "source": [
    "#-- Calculate daily average for every day \n",
    "daily_GPP = ds_ctsm.GPP.resample(time='D').mean()\n",
    "daily_GPP"
   ]
  },
  {
   "cell_type": "markdown",
   "id": "7d720f5c-33af-4b7f-802d-25d45d779625",
   "metadata": {},
   "source": [
    "**Take a look at your new data array:**\n",
    "- Do the values of the time coordinate seem appropriate?  \n",
    "- Is the length of the time coordinate accurate?\n",
    "\n",
    "<div class=\"alert alert-block alert-info\">\n",
    "<b>Note:</b> Variable attributes were carried forward to this new xarray data array, but we can modify this to get more sensible results.\n",
    "</div>\n",
    "\n",
    "Now we can modify the rate of the GPP fluxes from units of *per second* to units of *per day* and quickly `.plot()` results.\n",
    "\n",
    "<div class=\"alert alert-block alert-warning\">\n",
    "<b>Be careful when changing values of variable!</b> \n",
    "    \n",
    "If you run a code block like the one below repeatedly, you'll modify your GPP values every time. To avoid this, you can recalculate `daily_GPP` at the start of this cell by uncommenting out the first line of the code, below. Even though it's a little slower, it may ultimately be safer.\n",
    "</div>\n",
    "\n"
   ]
  },
  {
   "cell_type": "code",
   "execution_count": null,
   "id": "e58b1b2b-f808-48cf-9f37-4387e1e35933",
   "metadata": {},
   "outputs": [],
   "source": [
    "# daily_GPP = ds_ctsm.GPP.resample(time='D').mean()\n",
    "\n",
    "sec_per_day = 60. * 60. * 24.\n",
    "daily_GPP = daily_GPP * sec_per_day\n",
    "\n",
    "# Then change the attirbute\n",
    "daily_GPP.attrs['units'] = 'gC/m^2/day'\n",
    "\n",
    "# Now plot results\n",
    "daily_GPP.plot() ;"
   ]
  },
  {
   "cell_type": "markdown",
   "id": "48aacde3-216a-496b-946c-1232c88ec47e",
   "metadata": {},
   "source": [
    "Now our results look a bit smoother because we averaged in the zero GPP fluxes simulated at night time.  \n",
    "\n",
    "We can also more easily see the interannual variability in GPP that's simulated in different years.\n",
    "- What is the range in anual GPP that CTSM simulates at this NEON site?\n",
    "\n",
    "We can quickly asses this using the same \n",
    "- `.resample` function over \n",
    "- `time='AS'` years (at the start of the year), and converting the\n",
    "- `.mean()` to an annual flux with appropraite units (**NOTE** this does assume that all years have 365 days, which isn't completely accurate, but should get us close enough.) \n",
    "- `.to_series()` converts to a pandas.Series\n",
    "- `.plot.bar()` then makes a bar plot (xarray doesn't have this function)\n"
   ]
  },
  {
   "cell_type": "code",
   "execution_count": null,
   "id": "36cc1f07-c5b0-42a7-a24a-e7e4e203db65",
   "metadata": {},
   "outputs": [],
   "source": [
    "(ds_ctsm.GPP.resample(time='AS').mean()*sec_per_day*365).to_series().plot.bar() ;"
   ]
  },
  {
   "cell_type": "markdown",
   "id": "ed5cebc4-c690-4db4-83b2-dacf66a999ae",
   "metadata": {},
   "source": [
    "**There's even more to think about here:**\n",
    "- What could cause this kind of interannual variability in GPP?  \n",
    "- Are similar patterns common across multiple NEON sites in the region?\n",
    "- Where is this site? \n",
    "- What kind of vegetation grows there? \n",
    "- Are these annual GPP values realistic for this kind of ecosystem? \n",
    "<br>"
   ]
  },
  {
   "cell_type": "markdown",
   "id": "34ec31fa-6c50-48e5-bbeb-20acb83084b4",
   "metadata": {},
   "source": [
    "---\n",
    "\n",
    "## 2.4 Annual climatology\n",
    "\n",
    "Sometimes it's helpful to just get a sense of the seaonal cycle at a site.  This is called a climatology, when we average fluxes across multiple years to see what the mean annual cycle looks likes. Now we're going to use `.groupby`, as I'm not smart enough to do this vwith with `.resample`\n",
    "\n",
    "Becasue we're doing statistics here, taking the standard deviation `.std`, we also want to do this on the daily results we've already calculated.  Otherwise 30 minute values will be used to calculate the standard deviation of the daily climatology, which isn't really reflective of the variability in **daily** fluxes at the site.\n",
    "\n",
    "In summary, this code uses the following functions:\n",
    "- `.groupby` over \n",
    "- `daily_GPP[\"time.dayofyear\"]` a special time variable for the day of the year to calculate\n",
    "- `.mean` or `.std`\n",
    "\n",
    "This will create two data arrays for the variable `GPP` that we want to:\n",
    "- `.rename` so that we can combine the data arrays into an\n",
    "- `xr.Dataset`, which takes variable names, and their array values in a dictionary format\n",
    "- `{\"GPP\": climo_GPP_mean, \"std\": climo_GPP_std}`"
   ]
  },
  {
   "cell_type": "code",
   "execution_count": null,
   "id": "d5c36dd3-b71e-4d64-923d-4bf3e83a9cb2",
   "metadata": {},
   "outputs": [],
   "source": [
    "# Calculate mean and standard deviation for variables\n",
    "climo_GPP_mean = daily_GPP.groupby(daily_GPP[\"time.dayofyear\"]).mean()\n",
    "climo_GPP_std  = daily_GPP.groupby(daily_GPP[\"time.dayofyear\"]).std()\n",
    "\n",
    "## rename this variable for this data array\n",
    "climo_GPP_std = climo_GPP_std.rename('std')\n",
    "\n",
    "# combine the data arrays into a dataset\n",
    "climo_GPP = xr.Dataset({\"GPP\": climo_GPP_mean, \"std\": climo_GPP_std})\n",
    "\n",
    "# print a variable from the dataset\n",
    "climo_GPP['GPP']"
   ]
  },
  {
   "cell_type": "markdown",
   "id": "49453c40-a4dd-4b00-be30-30e35bd74a79",
   "metadata": {},
   "source": [
    "Becasue we're already using daily values, the units are correct.\n",
    "\n",
    "You'll notice that using `.groupby` changes the time coordinates. Let's adjust these back to a datetime format using the `.rename` function again (here on a coordinate variable)."
   ]
  },
  {
   "cell_type": "code",
   "execution_count": null,
   "id": "a4aa749b-3bab-493e-9ba4-1922e6f0570b",
   "metadata": {},
   "outputs": [],
   "source": [
    "# rename the coordinate variable\n",
    "climo_GPP = climo_GPP.rename({'dayofyear': 'time'})\n",
    "\n",
    "#create a pandas dataframe of the same length\n",
    "# It's true our climatology is the mean of simulated daily vales between 2018-2021, \n",
    "#   but datetime objects are simpler to work with if you provide a year\n",
    "time = pd.date_range(\"2020-01-01\", periods=366)\n",
    "\n",
    "#replace time coordinate values\n",
    "climo_GPP['time'] = time \n",
    "\n",
    "# Check that it all worked\n",
    "climo_GPP"
   ]
  },
  {
   "cell_type": "markdown",
   "id": "55e5b1d7-ca89-4124-8f27-bc7f64c16594",
   "metadata": {},
   "source": [
    "**Now plot the data!** \n",
    "We've done a lot of work. Lets:\n",
    "1. Save this figure to put on the fridge back home. \n",
    "  - We can do this in a new `plot_dir` under the `NEON_cases` directory where you can save your work.\n",
    "2. Use matplotlib to show interanual variability around the daily means\n",
    "  - This code is a little fancier to make a nice looking figure, but don't worry about understand everything that's going on right away.  Instead, this is a place to refer back to as you get more familiar with analyses in python and plotting in matplotlib"
   ]
  },
  {
   "cell_type": "code",
   "execution_count": null,
   "id": "ce5c2abc-c5bd-46a1-b9c5-ee422f4ef566",
   "metadata": {},
   "outputs": [],
   "source": [
    "# Make the figures directory if it's not already there\n",
    "plot_dir = os.path.realpath(os.path.expanduser('~/scratch/NEON_cases/figures'))\n",
    "if not os.path.isdir(plot_dir):\n",
    "    os.makedirs(plot_dir, exist_ok=True)"
   ]
  },
  {
   "cell_type": "code",
   "execution_count": null,
   "id": "d332e817-7067-45b3-bc45-9f2d9dc961ec",
   "metadata": {},
   "outputs": [],
   "source": [
    "# Now plot the climatological mean\n",
    "f, ax = plt.subplots()\n",
    "ax.plot(climo_GPP.time,climo_GPP.GPP)\n",
    "\n",
    "# Add shading around the mean +/- one sigma of daily mean\n",
    "ax.fill_between(climo_GPP.time, (climo_GPP.GPP-climo_GPP['std']), \n",
    "                                (climo_GPP.GPP+climo_GPP['std']), alpha=0.3)\n",
    "\n",
    "ax.set_ylabel('GPP ('+climo_GPP.GPP.attrs['units']+')',fontweight='bold')\n",
    "ax.set_title(neon_site+\" annual climatology\", loc='left',fontweight='bold')\n",
    "\n",
    "\n",
    "# format x axis for monthly dates\n",
    "locator = mdates.MonthLocator()  # every month\n",
    "# Specify the format - %b gives us Jan, Feb...\n",
    "fmt = mdates.DateFormatter('%b')            \n",
    "            \n",
    "X=ax.xaxis\n",
    "X.set_major_locator(locator)\n",
    "X.set_major_formatter(fmt)\n",
    "ax.grid()   ; \n",
    "\n",
    "# Save out a .pdf.  Other options include .png, .eps, ect.\n",
    "print(' -- saving figure -- ')\n",
    "plot_name = neon_site+'_'+'GPP_climatology.pdf'\n",
    "plt.savefig (os.path.join(plot_dir,plot_name), \n",
    "             dpi=300,bbox_inches='tight', format = 'pdf')"
   ]
  },
  {
   "cell_type": "code",
   "execution_count": null,
   "id": "323c98cb-9445-49df-89eb-03d04497f1a0",
   "metadata": {},
   "outputs": [],
   "source": [
    "# We can check the image was created\n",
    "!ls ~/scratch/NEON_cases/figures"
   ]
  },
  {
   "cell_type": "markdown",
   "id": "124c6fa1-2f6f-4a3c-ba1a-8f390c584efc",
   "metadata": {},
   "source": [
    "---\n",
    "# Export postprocessed data\n",
    "\n",
    "Finally! We did a lot of work to generate this climatology.  Maybe we want to save the data as a different file type  to work with later (e.g. .csv)?  To do this we can: \n",
    "1. Create a directory to save our file\n",
    "2. Define the file name for our postprocessed data\n",
    "3. `.to_dataframe` function generates a pandas dataframe from our climotology (xarray) dataset \n",
    "4. `.to_csv` function save the dataframe as a .csv"
   ]
  },
  {
   "cell_type": "code",
   "execution_count": null,
   "id": "bc395ddd-9c72-4334-8c92-c07ad28e7edb",
   "metadata": {},
   "outputs": [],
   "source": [
    "# Make the figures directory if it's not already there\n",
    "out_dir = os.path.realpath(os.path.expanduser('~/scratch/NEON_cases/postprocessed_data'))\n",
    "if not os.path.isdir(out_dir):\n",
    "    os.makedirs(out_dir, exist_ok=True)\n",
    "    \n",
    "# define the file name and directory\n",
    "file_out = out_dir+'/'+neon_site+'_'+'GPP_climatology.csv'\n",
    "\n",
    "# Create a dataframe and write out the .csv file\n",
    "climo_GPP.to_dataframe().to_csv(file_out)\n",
    "print('wrote '+ file_out)"
   ]
  },
  {
   "cell_type": "code",
   "execution_count": null,
   "id": "1900e97b-100f-4a88-9697-7d349ce2bf20",
   "metadata": {},
   "outputs": [],
   "source": [
    "# Check, does this file exist.\n",
    "!ls /glade/scratch/wwieder/NEON_cases/postprocessed_data/"
   ]
  },
  {
   "cell_type": "markdown",
   "id": "8b6a0edb-015a-4fc1-bc07-aaeca72c8438",
   "metadata": {},
   "source": [
    "#### It may be worth looking at this .csv file.\n",
    "- Is there much metadata associated with the .csv file?\n",
    "- Will you be able to remember how you generated these data if you use them elsewhere or share them with colleagues?\n",
    "\n",
    "<div class=\"alert alert-block alert-success\">\n",
    "<b>Congratualtions:</b> \n",
    "    \n",
    "You've done lots of manipulation and plotting with data from one site and one variable.  \n",
    "    \n",
    "What would you like to look at now?\n",
    "</div>\n"
   ]
  },
  {
   "cell_type": "code",
   "execution_count": null,
   "id": "7f11e37f-8301-4ba6-87b4-bf990912017f",
   "metadata": {},
   "outputs": [],
   "source": []
  }
 ],
 "metadata": {
  "kernelspec": {
   "display_name": "Python 3 (ipykernel)",
   "language": "python",
   "name": "python3"
  },
  "language_info": {
   "codemirror_mode": {
    "name": "ipython",
    "version": 3
   },
   "file_extension": ".py",
   "mimetype": "text/x-python",
   "name": "python",
   "nbconvert_exporter": "python",
   "pygments_lexer": "ipython3",
   "version": "3.11.3"
  }
 },
 "nbformat": 4,
 "nbformat_minor": 5
}
