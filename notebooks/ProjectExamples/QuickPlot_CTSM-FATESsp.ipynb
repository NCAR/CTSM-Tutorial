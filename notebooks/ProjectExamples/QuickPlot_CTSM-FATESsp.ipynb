{
 "cells": [
  {
   "cell_type": "markdown",
   "id": "51f96e25-587b-4108-a7d9-34666f7a50e6",
   "metadata": {},
   "source": [
    "# Quick plots - CTSM-FATESsp\n",
    "## Quickly look at various output from FATESsp\n",
    "\n",
    "This tutorial is an introduction to [xarray](https://docs.xarray.dev/en/stable/user-guide/terminology.html) and [matplotlib](https://matplotlib.org/stable/index.html). There is plenty more information to be found at the documentation for these libraries.\n",
    "\n",
    "This tutorial can be be run either on data from cases that you ran earlier, or can be run on pre-staged data.\n",
    "\n",
    "In this tutorial you will find steps and instructions to:\n",
    "\n",
    "1. Load python libraries\n",
    "2. Locate history files\n",
    "3. Read in history files\n",
    "4. Make plots for variables including soil moisture and GPP\n",
    "\n",
    "------"
   ]
  },
  {
   "cell_type": "markdown",
   "id": "7edf783f-9442-4a1b-ab7c-e9455be3ac5b",
   "metadata": {
    "tags": []
   },
   "source": [
    "## 1. Load Datasets"
   ]
  },
  {
   "cell_type": "markdown",
   "id": "33b035fb-f248-4e16-aeca-21b89815fe20",
   "metadata": {
    "tags": []
   },
   "source": [
    "### 1.1 Load Python Libraries\n",
    "We always start by loading in the libraries we're going to use for the script.  There are more libraries being loaded here than we'll likely use, but this list is a good one to get started for most of your plotting needs.\n"
   ]
  },
  {
   "cell_type": "code",
   "execution_count": null,
   "id": "87882ecf-c37c-4b01-bfb4-24e56d671777",
   "metadata": {},
   "outputs": [],
   "source": [
    "import os\n",
    "import time\n",
    "import datetime\n",
    "\n",
    "import numpy as np\n",
    "import pandas as pd\n",
    "import xarray as xr\n",
    "\n",
    "from glob import glob\n",
    "from os.path import join\n",
    "\n",
    "import matplotlib\n",
    "import matplotlib.pyplot as plt\n",
    "import matplotlib.dates as mdates\n",
    "\n",
    "from neon_utils import fix_time_h1"
   ]
  },
  {
   "cell_type": "code",
   "execution_count": null,
   "id": "d3039504-ae5d-4653-acac-44a402cef436",
   "metadata": {},
   "outputs": [],
   "source": [
    "# It's helpful to document the version of some tools that are quickly changing\n",
    "print('xarray '+xr.__version__) # was working with 2023.5.0"
   ]
  },
  {
   "cell_type": "markdown",
   "id": "1db2ec48-9370-422a-a4e4-893bc39906e2",
   "metadata": {},
   "source": [
    "## 1.2 Point to history files \n",
    "\n",
    "### 1.2.1 Where are my simulation results?\n",
    "After your simulations finish, history files are all saved in your `/scratch/NEON_cases/archive/` directory.\n",
    "\n",
    "We can print the cases we have to look at using bash magic, `%%bash` or `!` which turns the python cell block below into a bash cell.  "
   ]
  },
  {
   "cell_type": "code",
   "execution_count": null,
   "id": "acf88bc1-a2ab-4ae5-bfcb-232cc5d6ad82",
   "metadata": {},
   "outputs": [],
   "source": [
    "%%bash\n",
    "ls ~/scratch/NEON_cases/archive/"
   ]
  },
  {
   "cell_type": "markdown",
   "id": "7caf652c-e127-4cb8-89cb-a4423b29f2b4",
   "metadata": {},
   "source": [
    "<div class=\"alert alert-block alert-info\">\n",
    "<b>Note</b> you can accomplish the same thing with the following.\n",
    "\n",
    "> `!ls ~/scratch/NEON_cases/archive/`\n",
    "    \n",
    "</div>\n",
    "\n",
    "\n",
    "<div class=\"alert alert-block alert-info\">\n",
    "<b>Note</b> if you prefer to look at example data instead of your own data, you can read in data located at `/scratch/data/NEONv2/hist`. We'll go over this in the next section.\n",
    "\n",
    "</div>\n",
    "\n",
    "---\n",
    "\n",
    "### 1.2.2 Point to the directory with history files \n",
    "**We'll set the following:**\n",
    "- site to look at\n",
    "- path to our archive directory\n",
    "- directory with input data (where history files are found)  \n",
    "\n",
    "By doing this more generally, it makes the script easier to modify for different sites."
   ]
  },
  {
   "cell_type": "code",
   "execution_count": null,
   "id": "44e3bee8-fa6b-4c37-ae55-f62151640598",
   "metadata": {},
   "outputs": [],
   "source": [
    "neon_site = 'STEI'  # NEON site we're going to look at\n",
    "\n",
    "# If you would like to look at your own data, set the path to your archive directory\n",
    "archive = '~/scratch/NEON_cases/archive' # Path to archive directory\n",
    "\n",
    "# If you would like to look at example data, set the path to this archive directory\n",
    "archive = '/scratch/wwieder/NEON_cases/archive'  #TODO: COMMENT OUT!\n",
    "\n",
    "# This expands the shortcut we used above\n",
    "archive = os.path.realpath(os.path.expanduser(archive)) \n",
    "\n",
    "# Identify path to the data folder\n",
    "data_folder = archive+'/'+neon_site+'_FATESsp_test/lnd/hist'\n",
    "data_folder"
   ]
  },
  {
   "cell_type": "markdown",
   "id": "70d25741-5010-496f-b61a-f15e1c135989",
   "metadata": {},
   "source": [
    "**Is this the path for input data, `data_folder`, correct?** \n",
    "\n",
    "*HINT:* You can check in the terminal window or using bash magic.\n",
    "\n",
    "---\n",
    "\n",
    "### 1.2.3 Create some functions we'll use when opening the data\n",
    "1. `preprocess` will limit the number of variables we're reading in. This is an xarray feature that helps save time (and memory resources).\n",
    "2. `fix_time_h1` corrects annoying features related to how CTSM history files handle time and is provided as part of `neon_utils.py`.\n",
    "\n",
    "*Don't worry too much about the details of these functions right now.*\n"
   ]
  },
  {
   "cell_type": "code",
   "execution_count": null,
   "id": "7f2a23fe-7273-4370-8f2c-fe3dfad5029e",
   "metadata": {},
   "outputs": [],
   "source": [
    "# Read only these variables from the netcdf files\n",
    "def preprocess_some (ds):\n",
    "    variables = ['FCEV', 'FCTR', 'FGEV','FSH','GPP','FSA','FIRA','AR','HR','ELAI']\n",
    "    ds_new= ds[variables].isel(lndgrid=0)\n",
    "    return ds_new\n",
    "\n",
    "# Read all these variables from the netcdf files\n",
    "def preprocess_all (ds):\n",
    "    ds_new= ds.isel(lndgrid=0)\n",
    "    return ds_new"
   ]
  },
  {
   "cell_type": "markdown",
   "id": "3919e8c9-4c08-485f-9e01-8c42f6b5ddad",
   "metadata": {},
   "source": [
    "Now we have created the functions needed to manipulate our datasets.\n",
    "\n",
    "---\n",
    "\n",
    "### 1.2.4 List all the files we're going to open\n",
    "The the 30-minute, high frequency history output (**'h1' files**) are written out every day in for NEON cases. \n",
    "\n",
    "To open all of these files we're going to need to know their names.  This can be done if we:\n",
    "- Create an empty list `[]` of simulation files that is\n",
    "- `.extend`ed with a \n",
    "- `sorted` list of files generted with the \n",
    "- `glob` function in python of the \n",
    "- `*h1*`files in our `data_folder` "
   ]
  },
  {
   "cell_type": "code",
   "execution_count": null,
   "id": "617ea958-499e-4dda-92da-8e531b152fe0",
   "metadata": {},
   "outputs": [],
   "source": [
    "# This list gives you control over the years of data to read in\n",
    "# We're just going to look at one year of data\n",
    "years = [\"2019\"]  \n",
    "\n",
    "# Create an empty list of all the file names to extend\n",
    "sim_files = []\n",
    "for year in years:\n",
    "    sim_files.extend(sorted(glob(join(data_folder,\"*h1.\"+year+\"*.nc\"))))"
   ]
  },
  {
   "cell_type": "markdown",
   "id": "8919fcde-de2e-43d3-a9a5-7439b6d592e1",
   "metadata": {},
   "source": [
    "How many files are you going have to read in?  What is the last day of the simulation you'll be looking at?"
   ]
  },
  {
   "cell_type": "code",
   "execution_count": null,
   "id": "c591bd39-6875-4d8f-acb9-67943cef8418",
   "metadata": {},
   "outputs": [],
   "source": [
    "print(\"Total number of simulation files: \", len(sim_files), \"files\")\n",
    "print(\"Last simulation file:\", sim_files[-1])"
   ]
  },
  {
   "cell_type": "markdown",
   "id": "4d280416-00b4-431d-944a-bb2ca7b4cceb",
   "metadata": {},
   "source": [
    "---\n",
    "\n",
    "### 1.2.5 Read in the data\n",
    "`xr.open_mfdataset` will open all of these data files and concatinate them into a single **xarray dataset**.\n",
    "\n",
    "We are going to also going use or `preprocess` and `fix_time` functions in this step."
   ]
  },
  {
   "cell_type": "code",
   "execution_count": null,
   "id": "aee5a387-f155-4fe8-a6e8-bfe2f95a2f35",
   "metadata": {},
   "outputs": [],
   "source": [
    "start = time.time()\n",
    "print (\"Reading in data for \"+neon_site)\n",
    "\n",
    "# Just reading *some* of the data here, could use preprocess_all instead.\n",
    "ds_ctsm = xr.open_mfdataset(sim_files, decode_times=True, combine='by_coords',\n",
    "                            preprocess=preprocess_all)\n",
    "ds_ctsm = fix_time_h1(ds_ctsm)\n",
    "\n",
    "end = time.time()\n",
    "print(\"Reading all simulation files took:\", end-start, \"s.\")\n"
   ]
  },
  {
   "cell_type": "markdown",
   "id": "bbad64f5-88ef-402b-8fdd-3610fde4766d",
   "metadata": {},
   "source": [
    "### Print the dataset you're working with ds_ctsm"
   ]
  },
  {
   "cell_type": "code",
   "execution_count": null,
   "id": "7cda5d25-ce4b-419c-8dd5-e44f248e7604",
   "metadata": {},
   "outputs": [],
   "source": [
    "ds_ctsm"
   ]
  },
  {
   "cell_type": "markdown",
   "id": "ed2dde75-b0eb-4aa3-998d-9858c2c9ad75",
   "metadata": {},
   "source": [
    "#### Take a quick look at the dataset.\n",
    "- What are your coodinate variables?\n",
    "- How long is the time dimensions?\n",
    "- What variables do we have to look at?\n",
    "- What are the long names of some of these variables? (HINT: try `ds_ctsm.FATES_GPP`)\n",
    "- What other metadata are associated with this dataset? \n",
    "\n",
    "---\n",
    "Let's start plotting!\n",
    "#### What do GPP fluxes look like in this FATES_SP run?"
   ]
  },
  {
   "cell_type": "code",
   "execution_count": null,
   "id": "c2d24312-72a1-466f-9489-cc969a550e28",
   "metadata": {},
   "outputs": [],
   "source": [
    "ds_ctsm.FATES_GPP.plot(); "
   ]
  },
  {
   "cell_type": "markdown",
   "id": "f14e87a9-f617-4f4e-bc54-e59198cc23d8",
   "metadata": {},
   "source": [
    "Let's repeat this, but look at daily mean fluxes"
   ]
  },
  {
   "cell_type": "code",
   "execution_count": null,
   "id": "327d0322-5b47-41d6-838a-7d0d2a8cc408",
   "metadata": {},
   "outputs": [],
   "source": [
    "# Convert from kgC/m2/s to daily flux (gC/m2/d)\n",
    "spd = 24 * 60 * 60\n",
    "((ds_ctsm.FATES_GPP.resample(time='D').mean())*spd*1e3).plot()\n",
    "plt.ylabel('GPP (gC/m2/d)');"
   ]
  },
  {
   "cell_type": "markdown",
   "id": "ff79b808-d0b8-4061-9f73-3e1879116011",
   "metadata": {},
   "source": [
    "#### The `FATES_GPP` variable actually includes several PFTs on the surface dataset.  \n",
    "This is different from how single point *\"Big Leaf\"* CLM simulations are done by default, which only have a single PFT on the surface data.\n",
    "\n",
    "We can look at each of the PFTs from our FATES-SP run below."
   ]
  },
  {
   "cell_type": "code",
   "execution_count": null,
   "id": "414f49f9-86f1-4401-8208-609f73fe5971",
   "metadata": {},
   "outputs": [],
   "source": [
    "temp = ((ds_ctsm.FATES_GPP_PF.resample(time='D').mean())*spd*1e3)\n",
    "temp.plot(hue='fates_levpft') \n",
    "plt.ylabel('FATES GPP (gC/m2/d)') ;"
   ]
  },
  {
   "cell_type": "markdown",
   "id": "8eb333ec-3c77-4681-a135-b3cf1f733999",
   "metadata": {},
   "source": [
    "You can find out what PFTs this corresponds to with the following commnads\n",
    "\n",
    "```\n",
    "cat ~/scratch/NEON_cases/STEI_FATESsp_test/run/lnd_in | grep fates_paramfile\n",
    "ncdump -v fates_pftname <path to the fates_paramfile from above>\n",
    "```\n",
    "\n",
    "For the STEI site, it looks like FATES PFTs # 2, 6, & 11.\n",
    "You'll have to go to the FATES github  \n",
    "This corresponds to:\n",
    "- needleleaf_evergreen_extratrop_tree\n",
    "- broadleaf_colddecid_extratrop_tree\n",
    "- cool_c3_grass\n"
   ]
  },
  {
   "cell_type": "code",
   "execution_count": null,
   "id": "fff0b9d5-16ad-4010-b432-23d53cadd17d",
   "metadata": {},
   "outputs": [],
   "source": [
    "temp.sel(fates_levpft=[2,6,11]).plot(hue='fates_levpft') \n",
    "plt.ylabel('FATES GPP (gC/m2/d)');"
   ]
  },
  {
   "cell_type": "markdown",
   "id": "4cfaa9c3-7ae6-43b2-acd7-72d0c2e9af6c",
   "metadata": {},
   "source": [
    "This raises questions about why the GPP for certain PFTs is so much lower?  \n",
    "Units are per m2, so it's not that the grass makes up a smaller fraction of the total grid area.\n",
    "- Per unit leaf area, is the photosynthetic capacity of grasses lower?\n",
    "  - A number of parameter control photosynthetic capacity but vcmax is one important place to start\n",
    "  - HINT to get started try\n",
    "     >cat ~/scratch/NEON_cases/STEI_FATESsp_test/run/lnd_in | grep fates_paramfile\n",
    "     \n",
    "     >ncdump -v fates_leaf_vcmax25top `<path to the fates_paramfile from above>`\n",
    "\n",
    "- Does this have to do with canopy scaling?  That is, does the grass PFT just have a lower LAI?\n",
    "  - You can look at this by printing the LAI for each corresponding PFT on the CLM surface dataset.\n",
    "  - HINT to get started try:\n",
    "    > cat ~/scratch/NEON_cases/STEI_FATESsp_test/run/lnd_in | grep fsurdat\n",
    "   \n",
    "    > ncdump -v MONTHLY_LAI,PCT_NAT_PFT `<path to the surface dataset from above>`\n",
    "   \n",
    "Note: the CLM PFT indexes are different from what FATES uses.\n",
    "\n",
    "Moreover, LAI on the surface dataset is kind of hard to interpret, as they are monthly values dimensioned [time x PFT].  \n",
    "\n",
    "<div class=\"alert alert-block alert-warning\">\n",
    "<b>CHALLENGE</b> \n",
    "    \n",
    "Can you write a few lines of code to open the surface dataset and plot the monthly PFT values for the PFTs represented in your FATES-SP case?\n",
    "    \n",
    "</div>\n",
    "\n",
    "It's also helpful to look at the simulated energy budget.\n",
    "- Does net radiation, sensible heat flux, and latent heat flux seem OK?\n",
    "- How do we compare fluxes from multiple PFTs to flux tower measurements that integrate fluxes across their entire footprint?\n",
    "- We have information on the gridcell weighted mean fluxes on our h1 files, but can you write out these fluxes at a PFT level?\n",
    "- Would it be helpful to have a results from a *Big Leaf* CLM simulation to compare to?  \n",
    "\n",
    "There's a lot to start looking into here! As you can see, this quickly gets complicated to investigate.  "
   ]
  },
  {
   "cell_type": "markdown",
   "id": "9d8f5cfe-d449-4518-9007-c27e451898d6",
   "metadata": {},
   "source": [
    "#### Make a contour plot of soil moisture over time with depth on the y axis"
   ]
  },
  {
   "cell_type": "code",
   "execution_count": null,
   "id": "878ee93c-086d-467d-b701-60d399235308",
   "metadata": {},
   "outputs": [],
   "source": [
    "ds_ctsm.H2OSOI.plot(robust=True, y='levsoi')\n",
    "plt.gca().invert_yaxis();\n",
    "plt.title(neon_site);"
   ]
  },
  {
   "cell_type": "markdown",
   "id": "bc12258b-d735-4498-86a5-36244053e14b",
   "metadata": {},
   "source": [
    "### This example plots: \n",
    "- vertical profiles of soil moisture \n",
    "- for one time step\n",
    "- over the top 4m of soil \n",
    "- with depth on the y axis, and reversed so deeper soil levels are at the bottom"
   ]
  },
  {
   "cell_type": "code",
   "execution_count": null,
   "id": "c8990cb0-3a57-425c-a9fa-80f02a9e2d02",
   "metadata": {},
   "outputs": [],
   "source": [
    "ds_ctsm.H2OSOI.isel(time=(181*48)).plot(y='levsoi',marker='o',ylim=(0,4))\n",
    "plt.gca().invert_yaxis() \n",
    "plt.suptitle(neon_site);"
   ]
  },
  {
   "cell_type": "markdown",
   "id": "7df902a6-0cda-4588-9437-6b3ae8f23d8e",
   "metadata": {},
   "source": [
    "It seems odd that surface soil layers are wetter than deeper ones.\n",
    "\n",
    "### This example plots a time series of soil moisture \n",
    "- for a single soil level"
   ]
  },
  {
   "cell_type": "code",
   "execution_count": null,
   "id": "d8e0fa84-458d-4df1-aae2-8fbb38b118ce",
   "metadata": {},
   "outputs": [],
   "source": [
    "ds_ctsm.H2OSOI.isel(levsoi=4).plot();"
   ]
  },
  {
   "cell_type": "markdown",
   "id": "8b6a0edb-015a-4fc1-bc07-aaeca72c8438",
   "metadata": {},
   "source": [
    "<div class=\"alert alert-block alert-success\">\n",
    "<b>Congratulations:</b> \n",
    "    \n",
    "You've quickly looked at some of the monthly output from CLM-FATESsp run.\n",
    "\n",
    "What other sites or variables would you like to look at?\n",
    "\n",
    "Give it a shot, you can make lots of plots quickly with all this data!\n",
    "    \n",
    "</div>\n"
   ]
  },
  {
   "cell_type": "code",
   "execution_count": null,
   "id": "2d2c2fb4-3b0d-4502-beb9-b069ad70fc0a",
   "metadata": {},
   "outputs": [],
   "source": []
  }
 ],
 "metadata": {
  "kernelspec": {
   "display_name": "Python 3 (ipykernel)",
   "language": "python",
   "name": "python3"
  },
  "language_info": {
   "codemirror_mode": {
    "name": "ipython",
    "version": 3
   },
   "file_extension": ".py",
   "mimetype": "text/x-python",
   "name": "python",
   "nbconvert_exporter": "python",
   "pygments_lexer": "ipython3",
   "version": "3.11.3"
  }
 },
 "nbformat": 4,
 "nbformat_minor": 5
}
