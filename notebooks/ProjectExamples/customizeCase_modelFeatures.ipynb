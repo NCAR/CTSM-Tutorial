{
 "cells": [
  {
   "cell_type": "markdown",
   "metadata": {
    "tags": []
   },
   "source": [
    "# Customize your case: Controling model features\n",
    "## *Customizing your case with namelist changes*\n",
    "\n",
    "**This is an optional tutorial** that provides some additional guidance for creating an experimental clone for a NEON case and making namelist changes. If results from this preliminary experiment look promising, you should also consider spinning up the model.  These examples are in the [customizeCase_spinupExample notebook](./customizeCase_spinupExample.ipynb)\n",
    "\n",
    "We're going to move kind of quickly through some material that's already covered in the tutorial on [cloning a NEON case](./Clone_Case.ipynb).  The cloned case that you created in the Clone_Case tutorial will be used as the control simulation for this model experiment. **If you have tried cloning a case you need to do that now.**\n",
    "\n",
    "\n",
    "---\n",
    "## In this tutorial\n",
    "\n",
    "1. Create an experimental clone for a NEON site that you've already run.\n",
    "2. Make a namelist change in user_nl_clm.\n",
    "3. Submit the case. \n",
    "\n",
    "---\n",
    "### First let's start with a bit of background.\n",
    "CLM has different features that can be turned on or off with namelist changes.  Some of these features represent alternative hypotheses about how different aspects of how the land works. The different options have alternative model structure and parameterizations for particular processes that are controlled with namelist flags. These include:\n",
    "- FATES vs. 'BigLeaf' vegetation\n",
    "- Medlyn vs. Ball-Berry stomatal conductance\n",
    "- CENTURY vs. MIMICS soil biogeochemistry \n",
    "- Different soil moisture stress formulations (below)\n",
    "- and lots more\n",
    "\n",
    "You can find out more about [namelists in the CTSM user's guide](https://escomp.github.io/ctsm-docs/versions/master/html/users_guide/setting-up-and-running-a-case/customizing-the-clm-namelist.html)\n",
    "\n",
    "*Why would you want to use this?*\n",
    "\n",
    "We noticed that soil moisture profiles in CLM have an odd feature where soil moisture is higher in surface soils than in the sub surface.  Why would this happen?\n",
    "![moisture plot](../../images/WOOD_H2OSOI.png)\n",
    "\n",
    "Plant hydraulic stress (or **PHS**) was introduced in CLM5.  You can [learn more about PHS in this paper](https://doi.org/10.1029/2018MS001500), where Daniel Kennedy and co-authors mentioned hydraulic redistribution of soil water by plant roots. This happens in the real world too and is a pretty neat feature of PHS. Could hydraulic redistribution also be keeping surface soils in CLM too wet? To address this question we'll do a simple model experiment where we turn off PHS. This will revert back to the **BTRAN** formulation of soil moisture stress that was used in previous versions of CLM. \n",
    "\n",
    "We can turn of PHS with a simple namelist modification, but since this will change answers in the model, we also need to spin up the model again to generate new initial conditions with PHS off. "
   ]
  },
  {
   "cell_type": "markdown",
   "metadata": {},
   "source": [
    "<div class=\"alert alert-block alert-warning\">\n",
    "\n",
    "<b>NOTICE:</b> If you're running this notebook through the NCAR JupyterHub login, you need to be on a Cheyenne login node (NOT Casper).  \n",
    "\n",
    "</div>\n",
    "\n",
    "---\n",
    "\n",
    "### Set up environment\n",
    "It is important in order to have all the tools and packages you need to run simulations. \n",
    "\n",
    "*The code below **is not** needed in the cloud*.\n",
    "\n",
    "<div class=\"alert alert-block alert-info\">\n",
    "   \n",
    "<b>TIP:</b> <i>If you're running on Cheyenne</i>, you may need to uncomment the the following two lines of code. This will set up your conda environment correctly.\n",
    "\n",
    "<b>This is not required if your running CESM-Lab in the cloud.</b>\n",
    "\n",
    "</div>"
   ]
  },
  {
   "cell_type": "code",
   "execution_count": null,
   "metadata": {},
   "outputs": [],
   "source": [
    "#module purge\n",
    "#module load conda ncarenv"
   ]
  },
  {
   "cell_type": "markdown",
   "metadata": {},
   "source": [
    "# 1. Create a new case.\n",
    "Because we're going to modify namelist options that will change answers in CLM we have to run this case through an accelerated decompostion (AD) and postAD spinup.  This will generate new initial conditions for our experimental case, but it also takes a long time.  First we'll just do a simple sensitivity test to see if model results are sensitive to the representaton of plant water stress.\n",
    "\n",
    "## 1.1 Check that you've run a control case."
   ]
  },
  {
   "cell_type": "code",
   "execution_count": null,
   "metadata": {},
   "outputs": [],
   "source": [
    "export neon_site='WOOD'            # the site you want to run\n",
    "ls ~/scratch/NEON_cases/$neon_site.transient"
   ]
  },
  {
   "cell_type": "markdown",
   "metadata": {},
   "source": [
    "If the code block above says *\"No such file or directory\"* you need to go back and create a control case for your neon_site using [clone_case](Clone_Case.ipynb).\n",
    "\n",
    "If you have run a control case, which includes flies like: \n",
    "- case.build, case.setup, and case.submit; \n",
    "- env_build.xlm, env_batch.xlm, and env_run.xml; and \n",
    "- user_nl_clm, user_nl_datm, and user_nl_datm_streams  \n",
    "\n",
    "Then you can move on to the next step\n",
    "\n",
    "## 1.2 Navigate to your source code"
   ]
  },
  {
   "cell_type": "code",
   "execution_count": null,
   "metadata": {},
   "outputs": [],
   "source": [
    "cd ~/CTSM/tools/site_and_regional"
   ]
  },
  {
   "cell_type": "markdown",
   "metadata": {},
   "source": [
    "## 1.3 Create an experimental clone\n",
    "\n",
    "In our experimental case we'll be using the BTRAN formulation of soil moisture stress. \n",
    "\n",
    "<div class=\"alert alert-block alert-info\">\n",
    "\n",
    "<b>HINT:</b> It's helpful to have descriptive experiment names. \n",
    "\n",
    "</div>"
   ]
  },
  {
   "cell_type": "code",
   "execution_count": null,
   "metadata": {},
   "outputs": [],
   "source": [
    "export experiment='BTRAN'    # the experimental name of your case"
   ]
  },
  {
   "cell_type": "markdown",
   "metadata": {},
   "source": [
    "Since we're creating an experimental case that will change answers in the model we should run a full AD and postAD spinup, but for now we just want to run a quick sensitivity experiment with a new parameter file.\n",
    "\n",
    "\n",
    "Then run_neon with the following flags:\n",
    "- `--experiment $experiment` \n",
    "- `--setup-only` \n",
    "\n",
    "To make things faster, we'll also use the experimental control case as our 'base_case'.\n"
   ]
  },
  {
   "cell_type": "code",
   "execution_count": null,
   "metadata": {},
   "outputs": [],
   "source": [
    "./run_neon.py --neon-sites $neon_site  \\\n",
    "   --output-root ~/scratch/NEON_cases \\\n",
    "   --base-case ~/scratch/NEON_cases/$neon_site.transient \\\n",
    "   --experiment $experiment \\\n",
    "   --overwrite \\\n",
    "   --setup-only  \n",
    "   \n",
    "echo '----Your experimental clone has been created----'"
   ]
  },
  {
   "cell_type": "code",
   "execution_count": null,
   "metadata": {},
   "outputs": [],
   "source": []
  },
  {
   "cell_type": "markdown",
   "metadata": {},
   "source": [
    "# 2 Customizing your case: Namelist changes\n",
    "The configuration of CLM can be customized via namelist modifications. \n",
    "\n",
    "These changes made using namelist files like `user_nl_clm`\n",
    "\n",
    "## 2.1 Move to the case directory for your experimental clone"
   ]
  },
  {
   "cell_type": "code",
   "execution_count": null,
   "metadata": {},
   "outputs": [],
   "source": [
    "cd ~/scratch/NEON_cases/$neon_site.$experiment.transient"
   ]
  },
  {
   "cell_type": "markdown",
   "metadata": {},
   "source": [
    "## 2.2 Getting familiar with namelist files\n",
    "`user_nl_<model>` files are created in the case directory after setting up your case with `./case.setup`\n",
    "  - Note: This was already done for us since we cloned a case with run_neon\n",
    "    \n",
    "#### Take a look!\n",
    "  - What other user `user_nl_<model>` files do you already have in this case directory?\n",
    "  - What kind of information is already included in a `user_nl_clm` file?\n",
    "\n",
    "We can explore these files on the comand line using an editor, by opening them directly in jupyter hub, or by simply printing the contents of the files to the screen here."
   ]
  },
  {
   "cell_type": "code",
   "execution_count": null,
   "metadata": {
    "tags": []
   },
   "outputs": [],
   "source": [
    "ls user_nl_*"
   ]
  },
  {
   "cell_type": "code",
   "execution_count": null,
   "metadata": {
    "tags": []
   },
   "outputs": [],
   "source": [
    "cat user_nl_clm | tail -18"
   ]
  },
  {
   "cell_type": "markdown",
   "metadata": {},
   "source": [
    "The compset that you created your case with sets up initial, or default namelist options. These can be found in `CaseDocs/lnd_in`\n",
    "\n",
    "<style> \n",
    "table td, table th, table tr {text-align:left !important;}\n",
    "</style>\n",
    "<div class=\"alert alert-block alert-warning\">\n",
    "<b>Important:</b>   Don’t modify the lnd_in namelist file directly. Instead, make changes in user_nl_clm.\n",
    "</div>\n",
    "\n",
    "## 2.3 Looking deeper at namelist options \n",
    "All CLM namelist options are defined in the `lnd_in` file\n",
    "\n",
    "We can explore this file on the comand line using an editor, by opening it directly in jupyter hub, or by simply printing the contents of the files to the screen here.  \n",
    "- **NOTE:** This file is huge, so we'll just look at the first 65 lines"
   ]
  },
  {
   "cell_type": "code",
   "execution_count": null,
   "metadata": {},
   "outputs": [],
   "source": [
    "cat CaseDocs/lnd_in | head -60"
   ]
  },
  {
   "cell_type": "markdown",
   "metadata": {},
   "source": [
    "There's a lot to dig into here! So we'll just stick with a few highlights.\n",
    "\n",
    "#### Take a look\n",
    "**See what printed to in the cell above and answer the following questions**\n",
    "- `finidat`: What initial conditions file are you using? \n",
    "- `fsurdat`: What surface dataset are you using?\n",
    "- `paramfile`: What parameter file are you using?\n",
    "- `spinup_state`: What is your spinup state?\n",
    "- `use_hydrstress`: Are you using plant hydraulic stress?\n",
    "\n",
    "Does this make sense?  Answers are in the hidden cell below.\n"
   ]
  },
  {
   "cell_type": "markdown",
   "metadata": {
    "tags": []
   },
   "source": [
    "- `finidat = '.../initdata/WOOD.2022-11-11.clm2.r.0318-01-01-00000.nc '`  This is your initial condition file\n",
    "- `fsurdat = \".../surfdata_1x1_NEON_WOOD_hist_78pfts_CMIP6_simyr2000_c230111.nc\"` This the surface dataset that's been modified for our NEON site.\n",
    "- `paramfile = '.../ctsm51_params.c211112.nc'` is the default parameter file for CTSM5.1  \n",
    "- `spinup_state = 0`, which is used for normal mode\n",
    "- `use_hydrstress = .true.`, because plant hydraulic stress is on by default in CTSM5.1 \n"
   ]
  },
  {
   "cell_type": "markdown",
   "metadata": {
    "tags": []
   },
   "source": [
    "***\n",
    "\n",
    "- Additional information about customizing CTSM's configurations, including namelist modifications, are available in the [CTSM users guide](https://escomp.github.io/ctsm-docs/versions/master/html/users_guide/setting-up-and-running-a-case/customizing-the-clm-configuration.html?highlight=namelist)\n",
    "Namelist changes can also be used to modify variables on history file output. Simple modification of history file output DOES NOT require spinning up the model.\n",
    "- A list of all the [CTSM history fields are available here](https://escomp.github.io/ctsm-docs/versions/master/html/users_guide/setting-up-and-running-a-case/master_list_nofates.html)\n",
    "- A list of all the [CTSM-FATES history fields are available here](https://escomp.github.io/ctsm-docs/versions/master/html/users_guide/setting-up-and-running-a-case/master_list_fates.html)\n",
    "\n",
    "## 2.3 Turn off plant hydraulic stress\n",
    "\n",
    "For this experiment we're going turn plant hydraulic stress off. We can change user_nl_clm using an editor, by opening it directly in jupyter hub, or with the following comand."
   ]
  },
  {
   "cell_type": "code",
   "execution_count": null,
   "metadata": {},
   "outputs": [],
   "source": [
    "echo \"use_hydrstress = .false.\" >> user_nl_clm"
   ]
  },
  {
   "cell_type": "markdown",
   "metadata": {},
   "source": [
    "Let make sure this worked.  We can:  \n",
    "- preview namelists;\n",
    "- check the  `lnd_in` file."
   ]
  },
  {
   "cell_type": "code",
   "execution_count": null,
   "metadata": {},
   "outputs": [],
   "source": [
    "## now make sure it worked \n",
    "./preview_namelists"
   ]
  },
  {
   "cell_type": "code",
   "execution_count": null,
   "metadata": {},
   "outputs": [],
   "source": [
    "cat CaseDocs/lnd_in | grep hydrstress"
   ]
  },
  {
   "cell_type": "markdown",
   "metadata": {},
   "source": [
    "We've turned off PHS in simulation \n",
    "\n",
    "## 2.4 Start the simulation\n",
    "Since we made a clone and only made namelist changes we don't have to rebuild our case, so now we're ready to submit the case."
   ]
  },
  {
   "cell_type": "code",
   "execution_count": null,
   "metadata": {},
   "outputs": [],
   "source": [
    "./case.submit"
   ]
  },
  {
   "cell_type": "code",
   "execution_count": null,
   "metadata": {},
   "outputs": [],
   "source": [
    "qstat -u $USER"
   ]
  },
  {
   "cell_type": "code",
   "execution_count": null,
   "metadata": {},
   "outputs": [],
   "source": [
    "tail  ~/scratch/NEON_cases/$neon_site.$experiment.transient/CaseStatus"
   ]
  },
  {
   "cell_type": "markdown",
   "metadata": {},
   "source": [
    "<div class=\"alert alert-success\">\n",
    "<strong>Congratulations!</strong> \n",
    "    \n",
    "You've created and run a full spinup for an experimental case of CLM at the NEON tower you selected!\n",
    "    \n",
    "Now we need to see how the simulations are different.\n",
    "</div>\n",
    "\n"
   ]
  },
  {
   "cell_type": "markdown",
   "metadata": {},
   "source": [
    "If you're developing this tutorial:\n",
    "Before saving and pushing this code to github go to `Kernel` and `Restart kernel and clear all outputs...`"
   ]
  },
  {
   "cell_type": "code",
   "execution_count": null,
   "metadata": {},
   "outputs": [],
   "source": []
  },
  {
   "cell_type": "code",
   "execution_count": null,
   "metadata": {},
   "outputs": [],
   "source": []
  }
 ],
 "metadata": {
  "kernelspec": {
   "display_name": "Bash",
   "language": "bash",
   "name": "bash"
  },
  "language_info": {
   "codemirror_mode": "shell",
   "file_extension": ".sh",
   "mimetype": "text/x-sh",
   "name": "bash"
  }
 },
 "nbformat": 4,
 "nbformat_minor": 4
}
