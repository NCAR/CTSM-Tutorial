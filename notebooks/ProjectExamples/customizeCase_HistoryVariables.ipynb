{
 "cells": [
  {
   "cell_type": "markdown",
   "metadata": {
    "tags": []
   },
   "source": [
    "# Customize your case: Additional History Fields\n",
    "## *Customizing your case by adding additional history fields*\n",
    "\n",
    "**This is an optional tutorial** that provides an example for how to add history fields to your model output.\n",
    "<br>\n",
    "\n",
    "---\n",
    "## In this tutorial\n",
    "\n",
    "1. Add history fields to a case you've already run\n",
    "\n",
    "---\n",
    "### First let's start with a bit of background on history files.\n",
    "\n",
    "Namelist let you controls aspects of your simulation, including the variables that are written out on different history files.  By default the `h0` files have monthly averages of a bunch of different model output.  The [CLM user's guide](https://escomp.github.io/ctsm-docs/versions/master/html/users_guide/setting-up-and-running-a-case/customizing-the-clm-namelist.html) has additional information adding and removing fields on history files, setting up history files with different temporal frequency and more.\n",
    "\n",
    "Let's see what we have on hisory files by default. You can look at one of these with the following commands.\n",
    "\n",
    "The `neon_site` you define should be for a site and case that you've already run.\n",
    "- For the introductory example this was KONZ"
   ]
  },
  {
   "cell_type": "code",
   "execution_count": null,
   "metadata": {},
   "outputs": [],
   "source": [
    "export neon_site='KONZ'            # the site you want to run\n",
    "ls ~/scratch/NEON_cases/archive/$neon_site.transient/lnd/hist | head -5"
   ]
  },
  {
   "cell_type": "markdown",
   "metadata": {},
   "source": [
    "### What data are on the default, `h0` history files?\n",
    "\n",
    "Let's look at what's on the file using `ncdump -h`, which prints the header information on a netcdf file.\n",
    "- **NOTE** the file name below may need to be adjusted for the time range of your simulation.\n",
    "- **HINT** If you want to see the whole h0 history file get rid of the `| head -150` part of the command below.  (Just know there's a lot of information on the `h0` files).\n",
    "- You can also do this on the command line of a terminal window if it's helpful."
   ]
  },
  {
   "cell_type": "code",
   "execution_count": null,
   "metadata": {},
   "outputs": [],
   "source": [
    "ncdump -h ~/scratch/NEON_cases/archive/$neon_site.transient/lnd/hist/$neon_site.transient.clm2.h0.2018-01.nc | head -150"
   ]
  },
  {
   "cell_type": "markdown",
   "metadata": {},
   "source": [
    "### What data are on the `h1`, high frequncy (30 minute, daily resolution) history files?"
   ]
  },
  {
   "cell_type": "code",
   "execution_count": null,
   "metadata": {},
   "outputs": [],
   "source": [
    "ncdump -h ~/scratch/NEON_cases/archive/$neon_site.transient/lnd/hist/$neon_site.transient.clm2.h1.2018-01-01*.nc | tail -230"
   ]
  },
  {
   "cell_type": "markdown",
   "metadata": {},
   "source": [
    "### `h1` output is also defined in the `user_nl_clm` file for your case.\n",
    "- **NOTE** this file gets copied several times with the run_neon.py script, which is kind of confusing.  \n",
    "- If lines are duplicated, the model only uses the last one in the `user_nl_clm` file"
   ]
  },
  {
   "cell_type": "code",
   "execution_count": null,
   "metadata": {},
   "outputs": [],
   "source": [
    "cd ~/scratch/NEON_cases/$neon_site.transient\n",
    "cat user_nl_clm"
   ]
  },
  {
   "cell_type": "markdown",
   "metadata": {},
   "source": [
    "<div class=\"alert alert-block alert-info\">\n",
    "\n",
    "<b>THINK:</b> What are additional variables you may want to look at with a higher temporal frequency?\n",
    "\n",
    "</div>\n",
    "\n",
    "\n",
    "You can find a full list of history fields on [table 1.2.5 of the CTSM user's guide](https://escomp.github.io/ctsm-docs/versions/master/html/users_guide/setting-up-and-running-a-case/master_list_nofates.html).\n",
    "\n",
    "Assiming you don't want to get rid of any of the existing `h1` data, but add a few more fields you can just add them below.\n",
    " \n",
    "The example below adds runoff and vegetation temperature (`QRUNOFF` and `TV`).\n",
    "You can also do this by directly opening and modifying the user_nl_clm file in your case directory.\n"
   ]
  },
  {
   "cell_type": "code",
   "execution_count": null,
   "metadata": {},
   "outputs": [],
   "source": [
    "echo \"hist_fincl2 = 'QRUNOFF','TV',\n",
    "             'AR','ELAI','FCEV','FCTR','FGEV','FIRA','FSA','FSH','GPP','H2OSOI',\n",
    "             'HR','SNOW_DEPTH','TBOT','TSOI','SOILC_vr','FV','NET_NMIN_vr'\" >> user_nl_clm\n",
    "             "
   ]
  },
  {
   "cell_type": "code",
   "execution_count": null,
   "metadata": {},
   "outputs": [],
   "source": [
    "# Check that it worked\n",
    "cat user_nl_clm | tail -3"
   ]
  },
  {
   "cell_type": "markdown",
   "metadata": {},
   "source": [
    "**NOTE** not all variables listed in table 1.2.5 of the user's guide can easily be written out to history fields.  After submitting your case, check the lnd.log in your case/run directory if your case fails to see if there's an issue with the history variables you're requesting.\n",
    "\n",
    "### Now resubmit your case"
   ]
  },
  {
   "cell_type": "code",
   "execution_count": null,
   "metadata": {},
   "outputs": [],
   "source": [
    "./case.submit"
   ]
  },
  {
   "cell_type": "markdown",
   "metadata": {},
   "source": [
    "Now our case is submitted!  Check that your experimental case is running "
   ]
  },
  {
   "cell_type": "code",
   "execution_count": null,
   "metadata": {},
   "outputs": [],
   "source": [
    "qstat -u $USER"
   ]
  },
  {
   "cell_type": "code",
   "execution_count": null,
   "metadata": {},
   "outputs": [],
   "source": [
    "tail  ~/scratch/NEON_cases/$neon_site.transient/CaseStatus"
   ]
  },
  {
   "cell_type": "markdown",
   "metadata": {},
   "source": [
    "<div class=\"alert alert-success\">\n",
    "<strong>Congratulations!</strong> \n",
    "    \n",
    "You've added additional variables to you CLM history files.\n",
    "\n",
    "</div>\n"
   ]
  },
  {
   "cell_type": "markdown",
   "metadata": {},
   "source": [
    "If you're developing this tutorial:\n",
    "Before saving and pushing this code to github go to `Kernel` and `Restart kernel and clear all outputs...`"
   ]
  },
  {
   "cell_type": "code",
   "execution_count": null,
   "metadata": {},
   "outputs": [],
   "source": []
  },
  {
   "cell_type": "code",
   "execution_count": null,
   "metadata": {},
   "outputs": [],
   "source": []
  }
 ],
 "metadata": {
  "kernelspec": {
   "display_name": "Bash",
   "language": "bash",
   "name": "bash"
  },
  "language_info": {
   "codemirror_mode": "shell",
   "file_extension": ".sh",
   "mimetype": "text/x-sh",
   "name": "bash"
  }
 },
 "nbformat": 4,
 "nbformat_minor": 4
}
