{
 "cells": [
  {
   "cell_type": "markdown",
   "id": "51f96e25-587b-4108-a7d9-34666f7a50e6",
   "metadata": {},
   "source": [
    "# Quick plots - Compare experiments\n",
    "\n",
    "This tutorial compares results from a control (out of the box) simulation and a model experiment. Specifically it looks at the examples from namelist changes where we shut off the representation of plant hydraulic stress (PHS).\n",
    "\n",
    "In this tutorial you will find steps and instructions to:\n",
    "\n",
    "1. Load datasets with xarray and \n",
    "2. Quickly look at results from h0 and h1 files\n",
    "\n",
    "***"
   ]
  },
  {
   "cell_type": "markdown",
   "id": "7edf783f-9442-4a1b-ab7c-e9455be3ac5b",
   "metadata": {},
   "source": [
    "# 1. Load Datasets\n",
    "\n",
    "## 1.1 Load Python Libraries"
   ]
  },
  {
   "cell_type": "code",
   "execution_count": null,
   "id": "87882ecf-c37c-4b01-bfb4-24e56d671777",
   "metadata": {},
   "outputs": [],
   "source": [
    "import os\n",
    "import time\n",
    "import datetime\n",
    "\n",
    "import numpy as np\n",
    "import pandas as pd\n",
    "import xarray as xr\n",
    "\n",
    "from glob import glob\n",
    "from os.path import join\n",
    "\n",
    "import matplotlib\n",
    "import matplotlib.pyplot as plt\n",
    "import matplotlib.dates as mdates\n",
    "\n",
    "from neon_utils import fix_time_h0\n",
    "from neon_utils import fix_time_h1"
   ]
  },
  {
   "cell_type": "code",
   "execution_count": null,
   "id": "d3039504-ae5d-4653-acac-44a402cef436",
   "metadata": {},
   "outputs": [],
   "source": [
    "print('xarray '+xr.__version__) ##-- was working with 2023.1.0"
   ]
  },
  {
   "cell_type": "markdown",
   "id": "1db2ec48-9370-422a-a4e4-893bc39906e2",
   "metadata": {},
   "source": [
    "## 1.2 Point to history files \n",
    "\n",
    "### 1.2.1 Where are my simulation results?\n",
    "After your simulations finish, history files are all saved in your `/scratch/NEON_cases/archive/` directory\n",
    "\n",
    "We can print the cases we have to look at using bash magic, `%%bash` or `!` which turns the python cell block below into a bash cell.  "
   ]
  },
  {
   "cell_type": "code",
   "execution_count": null,
   "id": "acf88bc1-a2ab-4ae5-bfcb-232cc5d6ad82",
   "metadata": {},
   "outputs": [],
   "source": [
    "%%bash\n",
    "ls ~/scratch/NEON_cases/archive/"
   ]
  },
  {
   "cell_type": "markdown",
   "id": "7caf652c-e127-4cb8-89cb-a4423b29f2b4",
   "metadata": {},
   "source": [
    "<div class=\"alert alert-block alert-info\">\n",
    "<b>Note</b> you can accomplish the same thing with the following.\n",
    "\n",
    "> `!ls ~/scratch/NEON_cases/archive/`\n",
    "    \n",
    "</div>\n",
    "\n",
    "---\n",
    "\n",
    "### 1.2.2 Point to the data folder with history files \n",
    "**We'll set the following:**\n",
    "- site to look at; \n",
    "- path to our archive directory;\n",
    "- directory with input data (where history files are found).\n",
    "By doing this more generally, it makes the script easier to modify for different sites."
   ]
  },
  {
   "cell_type": "code",
   "execution_count": null,
   "id": "44e3bee8-fa6b-4c37-ae55-f62151640598",
   "metadata": {},
   "outputs": [],
   "source": [
    "neon_site = 'WOOD'  #NEON site we're going to look at\n",
    "archive = '~/scratch/NEON_cases/archive' #Path to archive directory\n",
    "ex =['transient','BTRAN.transient']\n",
    "# this unpacks the and expands the shortcut we used above\n",
    "\n",
    "archive = os.path.realpath(os.path.expanduser(archive)) \n",
    "\n",
    "# Create a path to the data folder\n",
    "pattern = archive+'/'+neon_site+'.{ex}/lnd/hist'\n",
    "data_folders = [pattern.format(ex=ex) for ex in ex]\n",
    "data_folders"
   ]
  },
  {
   "cell_type": "markdown",
   "id": "70d25741-5010-496f-b61a-f15e1c135989",
   "metadata": {},
   "source": [
    "**Is this the path for input data, `data_folders`, correct?** *HINT:* You can check in the terminal window or using bash magic.\n",
    "\n",
    "---\n",
    "\n",
    "### 1.2.3 Create some functions we'll use when opening the data\n",
    "1. `preprocess` will limit the number of variables we're reading in. This is an xarray feature that helps save time (and memory resources).\n",
    "2. `fix_time` corrects anoying features related to how CTSM history files handle time and is provided in `neon_utils.py`.\n",
    "*Don't worry too much about the details of these functions right now*\n"
   ]
  },
  {
   "cell_type": "code",
   "execution_count": null,
   "id": "7f2a23fe-7273-4370-8f2c-fe3dfad5029e",
   "metadata": {},
   "outputs": [],
   "source": [
    "# -- read all variables from the netcdf files\n",
    "def preprocess_all (ds):\n",
    "    ds_new= ds.isel(lndgrid=0) \n",
    "    return ds_new\n",
    "\n",
    "# -- read some of the variables from the monthly history files, \n",
    "def preprocess_h0 (ds):\n",
    "    variables = ['H2OSOI', 'TSOI']\n",
    "    ds_new= ds[variables].isel(lndgrid=0)\n",
    "    return ds_new\n",
    "\n",
    "# -- read only these variables from the 30 minute, h1, history files.\n",
    "def preprocess_h1 (ds):\n",
    "    variables = ['FCEV', 'FCTR', 'FGEV','FSH','GPP','FSA','FIRA','AR','HR','ELAI']\n",
    "\n",
    "    ds_new= ds[variables].isel(lndgrid=0)\n",
    "    return ds_new\n"
   ]
  },
  {
   "cell_type": "markdown",
   "id": "3919e8c9-4c08-485f-9e01-8c42f6b5ddad",
   "metadata": {},
   "source": [
    "Now we have created the functions needed to manipulate our datasets\n",
    "\n",
    "---\n",
    "\n",
    "### 1.2.4 List all the files we're going to open\n",
    "The the monthly history output (**'h0' files**) are written out for NEON cases. \n",
    "\n",
    "To open all of these files we're going to need to know their names.  This can be done if we:\n",
    "- Create an empty list `[]` of simulation files that is\n",
    "- `.extend`ed with a \n",
    "- `sorted` list of files generted with the \n",
    "- `glob` function in python of the \n",
    "- `*h0*`files in our `data_folder` \n",
    "\n",
    "You'll notice that **all of this gets combined in a single line of code** that runs through a \n",
    "- `for` loop over defined simulation years (written as a list of strings)\n",
    "\n",
    "<div class=\"alert alert-block alert-info\">\n",
    "<b>Note</b> If you're new to python it's dense, but efficient.  I actually borrowed a bunch this code from a colleague, Negin Sobhani, who's good at python! Sharing code is really helpful. \n",
    "</div>\n",
    "\n"
   ]
  },
  {
   "cell_type": "code",
   "execution_count": null,
   "id": "617ea958-499e-4dda-92da-8e531b152fe0",
   "metadata": {},
   "outputs": [],
   "source": [
    "# This list gives you control over the years of data to read in\n",
    "# We're just going to look at one year of data\n",
    "years = [\"2018\"]  \n",
    "\n",
    "# Create an empty list of all the file names to extend\n",
    "# We'll create different list for control and experiment cases.\n",
    "control_h0,  control_h1 = [], []\n",
    "experiment_h0, experiment_h1 = [], []\n",
    "for year in years:\n",
    "    control_h0.extend(sorted(glob(join(data_folders[0],\"*h0.\"+year+\"*.nc\"))))\n",
    "    control_h1.extend(sorted(glob(join(data_folders[0],\"*h1.\"+year+\"*.nc\"))))\n",
    "    experiment_h0.extend(sorted(glob(join(data_folders[1],\"*h0.\"+year+\"*.nc\"))))\n",
    "    experiment_h1.extend(sorted(glob(join(data_folders[1],\"*h1.\"+year+\"*.nc\"))))\n",
    "\n",
    "\n",
    "print(\"All simulation files for all years: [\", len(control_h0), \"files]\")\n",
    "print(control_h0[-1])\n",
    "\n"
   ]
  },
  {
   "cell_type": "markdown",
   "id": "4d280416-00b4-431d-944a-bb2ca7b4cceb",
   "metadata": {},
   "source": [
    "How many files are you going have to read in?  What is the last day of the simulation you'll be looking at?\n",
    "\n",
    "---\n",
    "\n",
    "### 1.2.5 Read in the data\n",
    "`.open_mfdataset` will open all of these data files and concatinate them into a single **xarray dataset**.\n",
    "\n",
    "There are lot of files here! Be patient it should be done in < 1 minute. This can be done more quickly with dask, but we're not going to mess with it right now.\n",
    "\n",
    "We are going to also going use or `preprocess` and `fix_time` functions in this step."
   ]
  },
  {
   "cell_type": "code",
   "execution_count": null,
   "id": "aee5a387-f155-4fe8-a6e8-bfe2f95a2f35",
   "metadata": {},
   "outputs": [],
   "source": [
    "start = time.time()\n",
    "print ('---------------------------')\n",
    "print (\"Reading in h0 data for \"+neon_site)\n",
    "ds_control = xr.open_mfdataset(control_h0, decode_times=True, combine='by_coords',\n",
    "                               preprocess=preprocess_h0)\n",
    "ds_control = fix_time_h0 (ds_control)\n",
    "ds_experiment = xr.open_mfdataset(experiment_h0, decode_times=True, combine='by_coords',\n",
    "                                  preprocess=preprocess_h0)\n",
    "ds_experiment = fix_time_h0 (ds_experiment)\n",
    "\n",
    "# Combine datasets \n",
    "ds_h0 = xr.combine_nested([ds_control, ds_experiment], 'sim').assign_coords({'sim': [\"PHS\",\"BTRAN\"]})\n",
    "ds_h0.sim\n",
    "end = time.time()\n",
    "print(\"Reading all simulation files took:\", end-start, \"s.\")\n"
   ]
  },
  {
   "cell_type": "code",
   "execution_count": null,
   "id": "699f7874-4512-48cc-b10b-a370681dc677",
   "metadata": {},
   "outputs": [],
   "source": [
    "start = time.time()\n",
    "print ('---------------------------')\n",
    "print (\"Reading in h1 data for \"+neon_site)\n",
    "ds_control = xr.open_mfdataset(control_h1, decode_times=True, combine='by_coords',preprocess=preprocess_h1)\n",
    "ds_control = fix_time_h1 (ds_control)\n",
    "ds_experiment = xr.open_mfdataset(experiment_h1, decode_times=True, combine='by_coords',preprocess=preprocess_h1)\n",
    "ds_experiment = fix_time_h1 (ds_experiment)\n",
    "\n",
    "# Combine datasets \n",
    "ds_h1 = xr.combine_nested([ds_control, ds_experiment], 'sim').assign_coords({'sim': [\"PHS\",\"BTRAN\"]})\n",
    "ds_h1.sim\n",
    "end = time.time()\n",
    "print(\"Reading all simulation files took:\", end-start, \"s.\")\n"
   ]
  },
  {
   "cell_type": "markdown",
   "id": "05bc09ba-c7f3-4b37-bdd0-22a13d3f26ef",
   "metadata": {},
   "source": [
    "#### Take a quick look at the dataset.\n",
    "- What are your coodinate variables?\n",
    "- How long is the time dimensions?\n",
    "- What variables do we have to look at?\n",
    "- What are the long names of some of these variables? (HINT try `ds_h1.GPP`)\n",
    "- What are other metadata are associated with this dataset? "
   ]
  },
  {
   "cell_type": "code",
   "execution_count": null,
   "id": "8ecd9859-fb98-470d-8cbf-fbeed70302f5",
   "metadata": {},
   "outputs": [],
   "source": [
    "ds_h1"
   ]
  },
  {
   "cell_type": "markdown",
   "id": "6656c923-3ce1-4a20-a711-48b1188add9c",
   "metadata": {},
   "source": [
    "---\n",
    "\n",
    "# 2 Manipulating data and making plots\n",
    "\n",
    "We're just going to have a quick look at differences in h0 and h1 files\n",
    "\n",
    "---\n",
    "\n",
    "## 2.1 Quick look at soil moisture with depth"
   ]
  },
  {
   "cell_type": "code",
   "execution_count": null,
   "id": "9038c557-6398-4c07-8d90-2d0a981376a4",
   "metadata": {},
   "outputs": [],
   "source": [
    "ds_h0.H2OSOI.isel(time=7).plot(y='levsoi',marker='o',ylim=(0,2),hue='sim')\n",
    "plt.gca().invert_yaxis() \n",
    "plt.suptitle(neon_site) ;"
   ]
  },
  {
   "cell_type": "markdown",
   "id": "e9c0287b-c569-4aa8-973e-599ee726aac4",
   "metadata": {
    "tags": []
   },
   "source": [
    "## 2.2 Quick look at daily fluxes\n",
    "Here' we'll:\n",
    "- sum components of evapotranspiration fluxes and\n",
    "- calculate and plot daily averages"
   ]
  },
  {
   "cell_type": "code",
   "execution_count": null,
   "id": "7d8a9b13-545a-45f8-b838-0d43f9cbe03d",
   "metadata": {},
   "outputs": [],
   "source": [
    "ds_h1['ET'] = ds_h1.FCEV + ds_h1.FCTR + ds_h1.FGEV\n",
    "ds_h1['ET'].resample(time='D').mean().plot(hue='sim') ;"
   ]
  },
  {
   "cell_type": "code",
   "execution_count": null,
   "id": "d2416adb-fc09-4397-a178-fd0da24b2d00",
   "metadata": {},
   "outputs": [],
   "source": [
    "# similary for GPP, modifying gC/m2/s to a daily flux\n",
    "secperday = 3600 * 24\n",
    "((ds_h1['GPP'].resample(time='D').mean())*secperday).plot(hue='sim') \n",
    "plt.ylabel('GPP (gC/m2/day)')\n",
    "plt.suptitle(neon_site) ;"
   ]
  },
  {
   "cell_type": "markdown",
   "id": "124c6fa1-2f6f-4a3c-ba1a-8f390c584efc",
   "metadata": {},
   "source": [
    "---\n",
    "\n",
    "<div class=\"alert alert-block alert-success\">\n",
    "<b>Congratulations:</b> \n",
    "    \n",
    "You can look at history files and quickly compare results between simulations.\n",
    "    \n",
    "There's lots more you can look at, what do you want to explore?\n",
    "</div>\n",
    "\n"
   ]
  },
  {
   "cell_type": "code",
   "execution_count": null,
   "id": "7f11e37f-8301-4ba6-87b4-bf990912017f",
   "metadata": {},
   "outputs": [],
   "source": []
  }
 ],
 "metadata": {
  "kernelspec": {
   "display_name": "NPL 2023a",
   "language": "python",
   "name": "npl-2023a"
  },
  "language_info": {
   "codemirror_mode": {
    "name": "ipython",
    "version": 3
   },
   "file_extension": ".py",
   "mimetype": "text/x-python",
   "name": "python",
   "nbconvert_exporter": "python",
   "pygments_lexer": "ipython3",
   "version": "3.9.15"
  }
 },
 "nbformat": 4,
 "nbformat_minor": 5
}
