{
 "cells": [
  {
   "cell_type": "markdown",
   "id": "12b3b107-e777-4d51-97bb-25958ae7763e",
   "metadata": {},
   "source": [
    "# modifySurfacedata\n",
    "- This notebook is designed to open and modify one or several fields on a NEON surface dataset.  \n",
    "- It's easier to run if you've made a local copy of the surface dataset somewhere in your working directory.\n",
    "- You can find the surface dataset by looking at your `lnd_in` file from a case directory on the command line.\n",
    "    > e.g. `cat ~/scratch/NEON_cases/KONZ.transient/run/lnd_in | grep fsurdat`\n",
    "- Then I created a copy of this parameter file here (~/scratch/NEON_cases/modified_inputs/.)\n",
    "    > on Cheyenne: `cp /glade/p/cesmdata/cseg/inputdata/lnd/clm2/surfdata_map/NEON/surfdata_1x1_NEON_KONZ_hist_78pfts_CMIP6_simyr2000_c230111.nc \n",
    "~/scratch/NEON_cases/modified_inputs.`\n",
    "\n",
    "The most common thing you may want to change on the surface dataset is the plant functional type for a site, or the leaf area index (if you're running an satelite phenology (SP) case.\n",
    "\n",
    "- You can see what the default pft is using the following code on the command line\n",
    "\n",
    "> on Cheyenne: `ncdump -v PCT_NAT_PFT /glade/p/cesmdata/cseg/inputdata/lnd/clm2/surfdata_map/NEON/surfdata_1x1_NEON_KONZ_hist_78pfts_CMIP6_simyr2000_c230111.nc`\n",
    "\n",
    "**In cloud we can make a local copy to work with**  *NOTE* since this is a python notebook our bash commands will look a little different."
   ]
  },
  {
   "cell_type": "code",
   "execution_count": null,
   "id": "dc132977-4caf-459e-9f88-5ab7fad6a51c",
   "metadata": {},
   "outputs": [],
   "source": [
    "! cat ~/scratch/NEON_cases/KONZ.transient/run/lnd_in | grep fsurdat"
   ]
  },
  {
   "cell_type": "code",
   "execution_count": null,
   "id": "b5f393f2-88d8-4616-b1cd-3e7fcc83c49a",
   "metadata": {},
   "outputs": [],
   "source": [
    "! mkdir /scratch/${USER}/NEON_cases/modified_inputs/  # Directory to save the file\n",
    "! cp /scratch/inputdata/lnd/clm2/surfdata_map/NEON/surfdata_1x1_NEON_KONZ_hist_78pfts_CMIP6_simyr2000_c230111.nc /scratch/${USER}/NEON_cases/modified_inputs/."
   ]
  },
  {
   "cell_type": "markdown",
   "id": "6c0680fe-ea38-4615-bf60-b7e41d35abb5",
   "metadata": {},
   "source": [
    "This tutorial has 3 parts:\n",
    "1. Open the surface dataset\n",
    "2. Change the dominant plant functional type (PFT).\n",
    "3. Modify leaf area index (LAI) for the dominant PFT (for SP cases only).\n",
    "\n",
    "Created by Will Wieder May 2023"
   ]
  },
  {
   "cell_type": "code",
   "execution_count": null,
   "id": "a7fd46ee",
   "metadata": {},
   "outputs": [],
   "source": [
    "# load libraries\n",
    "import xarray as xr\n",
    "import pandas as pd\n",
    "import os\n",
    "import netCDF4\n",
    "import numpy as np"
   ]
  },
  {
   "cell_type": "markdown",
   "id": "64d35274-3aac-4223-acb2-9e9560df0290",
   "metadata": {},
   "source": [
    "## 1. Open the surface dataset\n",
    "As mentioned above, I've alreay copied the file to a local directory."
   ]
  },
  {
   "cell_type": "code",
   "execution_count": null,
   "id": "94f9f43a",
   "metadata": {},
   "outputs": [],
   "source": [
    "pathin = '~/scratch/NEON_cases/modified_inputs/'\n",
    "basefile = pathin + 'surfdata_1x1_NEON_KONZ_hist_78pfts_CMIP6_simyr2000_c230111.nc'\n",
    "s = xr.open_dataset(basefile,decode_times=False) \n",
    "s.var"
   ]
  },
  {
   "cell_type": "markdown",
   "id": "3f37291c-051a-4823-981d-32dfa7b9cb4f",
   "metadata": {},
   "source": [
    "## Lots of data goes into the surface dataset.\n",
    "\n",
    "It's too much for us to go over here. Hopefully between the [user's guide and tech note](https://escomp.github.io/ctsm-docs/versions/master/html/index.html) find what you need to regarding surface data.\n",
    "\n",
    "In the NEON cases we set a dominant PFT for each site and modified soil properties to reflect NEON megapit measurements.\n",
    "The real ecosystems at NEON sites, however, have multiple plant functional types represented in the tower footprint or region.  For example, mixed deciduous and evergreen forests, grassland - forest savannahs, mixed grasslands and woody shrublands, or a mix of C3 and C4 grasses.  Users can set the PFT mixtures to reflect local conditions, although this makes it difficult to understand individual PFT's contributions to the gridcell weighted fluxes we typically look at.\n",
    "\n",
    "For now, we'll just look at how to change the single dominant PFT at a site.\n",
    "\n",
    "\n",
    "## 2. Changing the dominant PFT\n",
    "For example, the surface datset  `PCT_NAT_PFT` defines the percent plant functional type on the natural vegetated landunit.\n",
    "- What is the dominant PFT index at KONZ?\n",
    "- What PFT does this correspond to in the model?"
   ]
  },
  {
   "cell_type": "code",
   "execution_count": null,
   "id": "8b6200c4",
   "metadata": {},
   "outputs": [],
   "source": [
    "s.PCT_NAT_PFT"
   ]
  },
  {
   "cell_type": "markdown",
   "id": "3fb55a32-6d03-40a4-a02a-75be4ba7c4a0",
   "metadata": {},
   "source": [
    "Let's imagine that you studied plant composition at the KONZ site and found a there are a number of C3 and C4 grasses in the tower footprint.  We can modify the surface dataset to see what a C3 grass (pft 13) simulation looks like at KONZ.\n",
    "\n",
    "To do thsi, we'll create a new surface data file, change values for `PCT_NAT_PFT`, and save the new file."
   ]
  },
  {
   "cell_type": "code",
   "execution_count": null,
   "id": "685cee30-63da-4602-89ac-9354a9d72633",
   "metadata": {},
   "outputs": [],
   "source": [
    "s2 = s.copy(deep=True)         # create a copy of the surface dataset to modify\n",
    "s2['PCT_NAT_PFT'][[13]] = 100. # set C3 grasses to 100\n",
    "s2['PCT_NAT_PFT'][[14]] = 0.   # set C4 grasses to 0\n",
    "s2['PCT_NAT_PFT'].values              # check that it worked as intended"
   ]
  },
  {
   "cell_type": "code",
   "execution_count": null,
   "id": "d831173c-d887-49ba-8a58-05177b175dcb",
   "metadata": {},
   "outputs": [],
   "source": [
    "# now save the file\n",
    "s2.to_netcdf(pathin + 'surfdata_1x1_NEON_KONZ_hist_78pfts_CMIP6_simyr2000_c230111_C3grass.nc')"
   ]
  },
  {
   "cell_type": "markdown",
   "id": "909c983b-bcb9-43d8-8ae7-34b1f69461dc",
   "metadata": {},
   "source": [
    "You'll notice this is a non-standard way to modify surface dataset in in CTSM.  It's really just designed for quick experiments:\n",
    "- I like to make the name descriptive so I remember what I changed.\n",
    "\n",
    "## 3. Modify LAI for a PFT (SP simulations only)\n",
    "For this example, let's assume you derived a climatology of LAI from NEON or remote sensing data products.  This would be a huge help, because the values being used in CLM in global simulations are likely not representative of local  conditions at NEON sites. \n",
    "\n",
    "<div class=\"alert alert-block alert-warning\">\n",
    "\n",
    "<b>HINT:</b>  It's a good idea to check what PFT is actually on the surface dataset for the site you're running.\n",
    "\n",
    "</div>\n",
    "\n",
    "Let's see what LAI looks like "
   ]
  },
  {
   "cell_type": "code",
   "execution_count": null,
   "id": "5c414a1e-9d1e-4c57-b330-b0a05738d3fb",
   "metadata": {},
   "outputs": [],
   "source": [
    "s2.PCT_NAT_PFT.isel(natpft=slice(1,15))"
   ]
  },
  {
   "cell_type": "code",
   "execution_count": null,
   "id": "1748fd8d-de04-468f-bc56-b9355639a970",
   "metadata": {},
   "outputs": [],
   "source": [
    "# This is a hacky way to look at the LAI timeseries and identify the dominant PFT at a site\n",
    "NATPFT = s2.PCT_NAT_PFT.isel(natpft=slice(1,15)).rename({\"natpft\":'lsmpft'})\n",
    "(s2.MONTHLY_LAI.isel(lsmpft=slice(1,15))*NATPFT/100).plot(hue='lsmpft') ;"
   ]
  },
  {
   "cell_type": "markdown",
   "id": "00c122d4-ce58-4ec7-8115-6e7fefc2e132",
   "metadata": {},
   "source": [
    "If you want to modify the LAI of your PFT we can discuss different ways to do this, but it would be really helpful to have NEON data that can help inform this."
   ]
  },
  {
   "cell_type": "markdown",
   "id": "6e59bda4-2a62-4c3f-9b59-d48a855128cb",
   "metadata": {},
   "source": [
    "---\n",
    "\n",
    "<div class=\"alert alert-block alert-success\">\n",
    "<b>Congratulations:</b> \n",
    "    \n",
    "You can now modify parameter files!  \n",
    "Remember, to run with one of these you'll have to spin up the model first.\n",
    "\n",
    "</div>\n"
   ]
  },
  {
   "cell_type": "code",
   "execution_count": null,
   "id": "f008a109-ea90-4b27-8d47-844364ead6c6",
   "metadata": {},
   "outputs": [],
   "source": []
  }
 ],
 "metadata": {
  "kernelspec": {
   "display_name": "Python 3 (ipykernel)",
   "language": "python",
   "name": "python3"
  },
  "language_info": {
   "codemirror_mode": {
    "name": "ipython",
    "version": 3
   },
   "file_extension": ".py",
   "mimetype": "text/x-python",
   "name": "python",
   "nbconvert_exporter": "python",
   "pygments_lexer": "ipython3",
   "version": "3.11.3"
  }
 },
 "nbformat": 4,
 "nbformat_minor": 5
}
