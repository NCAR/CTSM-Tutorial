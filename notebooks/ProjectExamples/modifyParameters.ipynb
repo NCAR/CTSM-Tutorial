{
 "cells": [
  {
   "cell_type": "markdown",
   "id": "6b674596",
   "metadata": {},
   "source": [
    "# modifyParameters\n",
    "\n",
    "- This notebook is designed to open the default CLM parameter file and modify one or several fields.  \n",
    "- It's easier to run if you've made a local copy of the parameter file somewhere in your working directory.\n",
    "- You can find the parameter file by looking at your `lnd_in` file from a case directory on the command line.\n",
    "    > e.g. `cat ~/scratch/NEON_cases/KONZ.transient/run/lnd_in | grep paramfile`\n",
    "- Then I created a copy of this parameter file here (~/scratch/NEON_cases/.)\n",
    "    > on Cheyenne: `cp /glade/p/cesmdata/cseg/inputdata/lnd/clm2/paramdata/ctsm51_params.c211112.nc ~/scratch/NEON_cases/.`\n",
    "    \n",
    "This tutorial has 3 parts:\n",
    "1. Open the parameter file\n",
    "2. Modify a global parameter\n",
    "3. Modify a pft specific parameter\n",
    "Created by Will Wieder Nov 2021\n",
    "Modified for NEON example May 2023"
   ]
  },
  {
   "cell_type": "code",
   "execution_count": null,
   "id": "a7fd46ee",
   "metadata": {},
   "outputs": [],
   "source": [
    "# load libraries\n",
    "import xarray as xr\n",
    "import pandas as pd\n",
    "import os\n",
    "import netCDF4\n",
    "import numpy as np"
   ]
  },
  {
   "cell_type": "markdown",
   "id": "64d35274-3aac-4223-acb2-9e9560df0290",
   "metadata": {},
   "source": [
    "## 1. Open the parameter file\n",
    "As mentioned above, I've alreay copied the file to a local directory."
   ]
  },
  {
   "cell_type": "code",
   "execution_count": null,
   "id": "94f9f43a",
   "metadata": {},
   "outputs": [],
   "source": [
    "pathin = '~/scratch/NEON_cases/'\n",
    "basefile = pathin + 'ctsm51_params.c211112.nc'\n",
    "p = xr.open_dataset(basefile,decode_times=False) \n",
    "p.var"
   ]
  },
  {
   "cell_type": "markdown",
   "id": "3f37291c-051a-4823-981d-32dfa7b9cb4f",
   "metadata": {},
   "source": [
    "### CLM has > 400 parameters!\n",
    "It's too much for us to go over here. Hopefully between the [user's guide and tech note](https://escomp.github.io/ctsm-docs/versions/master/html/index.html) in combination with the [model code](https://escomp.github.html) you can find what you need to regarding parameters.\n",
    "\n",
    "For now, we'll just look at how to change a few parameters as an example.\n",
    "\n",
    "You'll notice some parameters are dimensioned by plant functional type (pft) while others are global.  The global parameters are easier to modify, so we'll to that first.\n",
    "\n",
    "## 2. Changing global parameters\n",
    "For example, the parameter `rf_cwdl2` is used in the soil biogeogeochemistry code.\n",
    "- Can you find out what the default values for this parameter is?\n",
    "- Can you understand what it controls in the model?\n",
    "- Can you find where it's used in the model code?"
   ]
  },
  {
   "cell_type": "code",
   "execution_count": null,
   "id": "8b6200c4",
   "metadata": {},
   "outputs": [],
   "source": [
    "p.rf_cwdl2"
   ]
  },
  {
   "cell_type": "markdown",
   "id": "3fb55a32-6d03-40a4-a02a-75be4ba7c4a0",
   "metadata": {},
   "source": [
    "Let's imagine that you studied wood decomposition at a NEON site and have found that a 75% of wood decomposition is respired to the atmosphere. We can create a new parameter file, change the values for `rf_cwdl2`, and save the new file."
   ]
  },
  {
   "cell_type": "code",
   "execution_count": null,
   "id": "685cee30-63da-4602-89ac-9354a9d72633",
   "metadata": {},
   "outputs": [],
   "source": [
    "p2 = p.copy(deep=True)       # create a copy of the parameter file to modify\n",
    "p2['rf_cwdl2'].values = 0.75 # change the values of our parameter\n",
    "p2.rf_cwdl2                  # check that it worked as intended"
   ]
  },
  {
   "cell_type": "code",
   "execution_count": null,
   "id": "d831173c-d887-49ba-8a58-05177b175dcb",
   "metadata": {},
   "outputs": [],
   "source": [
    "# now save the file\n",
    "p2.to_netcdf(pathin + 'ctsm51_params.c211112_high_rf_CWD.nc')"
   ]
  },
  {
   "cell_type": "markdown",
   "id": "909c983b-bcb9-43d8-8ae7-34b1f69461dc",
   "metadata": {},
   "source": [
    "You'll notice this is a non-standard way to modify parameter files in CTSM.  It's really just designed for quick experiments:\n",
    "- I like to make the name descriptive so I remember what I changed.\n",
    "- One disadvantage here is that we didn't append the attribues of the .nc file to record this change.\n",
    "- There are lots of other more efficient ways to do this for parameter perturbation experiments, that we'll eventually cover in future tutorials.\n",
    "\n",
    "## 3. Modify a pft specific parameter\n",
    "For this example, let's assume you looked at leaf traits that were measured at for your favorite NEON site and realized that the values being used in CLM in global simulations are not representative of local site conditions.  Here we can do this for temperate deciduous forests at Steigerwald (STEI).  \n",
    "\n",
    "<div class=\"alert alert-block alert-warning\">\n",
    "\n",
    "<b>HINT:</b>  It's a good idea to check what PFT is actually on the surface dataset for the site you're running.\n",
    "\n",
    "</div>\n",
    "\n",
    "Let's see how PFTs are named in the parameter file, this will help us change values for particular PFTs more accurately"
   ]
  },
  {
   "cell_type": "code",
   "execution_count": null,
   "id": "ca1c0875-1b8e-4307-9bc6-c8a25b7a8373",
   "metadata": {},
   "outputs": [],
   "source": [
    "p.pftname.values[0:16]"
   ]
  },
  {
   "cell_type": "code",
   "execution_count": null,
   "id": "2566f2c8-128f-4014-bdb0-d466a1a5b5ba",
   "metadata": {},
   "outputs": [],
   "source": [
    "# now we'll create an index for this PFT and print the foliar C:N ratio that's used in CLM"
   ]
  },
  {
   "cell_type": "code",
   "execution_count": null,
   "id": "8625bc0e",
   "metadata": {},
   "outputs": [],
   "source": [
    "mypft = 'broadleaf_deciduous_temperate_tree'\n",
    "ix    = np.array([mypft in str(n) for n in p.pftname.values])  #index vector for mypft\n",
    "param = 'leafcn'\n",
    "m = p[param].values\n",
    "print(m[ix])"
   ]
  },
  {
   "cell_type": "code",
   "execution_count": null,
   "id": "b4bf84b5",
   "metadata": {},
   "outputs": [],
   "source": [
    "# Now we can change this value with something that's hypothetically been observed.\n",
    "new_leafcn = 30\n",
    "p3 = p.copy(deep=True)\n",
    "p3[param].values[ix]= new_leafcn\n",
    "p3[param][0:16]"
   ]
  },
  {
   "cell_type": "code",
   "execution_count": null,
   "id": "7b30ae43-b2e2-4532-b80c-4530886066ba",
   "metadata": {},
   "outputs": [],
   "source": [
    "# now save the file\n",
    "p3.to_netcdf(pathin + 'ctsm51_params.c211112_tdf_leafcn30.nc')"
   ]
  },
  {
   "cell_type": "markdown",
   "id": "6e59bda4-2a62-4c3f-9b59-d48a855128cb",
   "metadata": {},
   "source": [
    "---\n",
    "\n",
    "<div class=\"alert alert-block alert-success\">\n",
    "<b>Congratulations:</b> \n",
    "    \n",
    "You can now modify parameter files!  \n",
    "Remember, to run with one of these you'll have to spin up the model first.\n",
    "\n",
    "</div>\n"
   ]
  }
 ],
 "metadata": {
  "kernelspec": {
   "display_name": "NPL 2023a",
   "language": "python",
   "name": "npl-2023a"
  },
  "language_info": {
   "codemirror_mode": {
    "name": "ipython",
    "version": 3
   },
   "file_extension": ".py",
   "mimetype": "text/x-python",
   "name": "python",
   "nbconvert_exporter": "python",
   "pygments_lexer": "ipython3",
   "version": "3.9.15"
  }
 },
 "nbformat": 4,
 "nbformat_minor": 5
}
