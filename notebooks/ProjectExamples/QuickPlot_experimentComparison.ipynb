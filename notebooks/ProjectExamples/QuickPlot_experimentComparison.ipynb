{
 "cells": [
  {
   "cell_type": "markdown",
   "id": "51f96e25-587b-4108-a7d9-34666f7a50e6",
   "metadata": {},
   "source": [
    "# Quick plots - Comparision\n",
    "## Simple way to quickly look at 30 minute history files (*h1*) to   \n",
    "\n",
    "This tutorial is an introduction to [xarray](https://docs.xarray.dev/en/stable/user-guide/terminology.html) and [matplotlib](https://matplotlib.org/stable/index.html). There is plenty more information to be found at the documentation for these libraries.\n",
    "\n",
    "This tutorial can be be run either on data from cases that you ran earlier, or can be run on pre-staged data.\n",
    "\n",
    "In this tutorial you will find steps and instructions to:\n",
    "\n",
    "1. Load python libraries needed for plotting\n",
    "2. Locate h1 history files for control and experimental cases\n",
    "3. Load datasets with xarray\n",
    "4. Plot the data\n",
    "------"
   ]
  },
  {
   "cell_type": "markdown",
   "id": "7edf783f-9442-4a1b-ab7c-e9455be3ac5b",
   "metadata": {
    "tags": []
   },
   "source": [
    "# 1. Load Datasets\n",
    "\n",
    "## 1.1 Load Python Libraries\n",
    "We always start by loading in the libraries we're going to use for the script. There are more libraries being loaded here than we'll likely use, but this list is a good one to get started for most of your plotting needs.\n"
   ]
  },
  {
   "cell_type": "code",
   "execution_count": null,
   "id": "87882ecf-c37c-4b01-bfb4-24e56d671777",
   "metadata": {},
   "outputs": [],
   "source": [
    "import os\n",
    "import time\n",
    "import datetime\n",
    "\n",
    "import numpy as np\n",
    "import pandas as pd\n",
    "import xarray as xr\n",
    "\n",
    "from glob import glob\n",
    "from os.path import join\n",
    "\n",
    "import matplotlib\n",
    "import matplotlib.pyplot as plt\n",
    "import matplotlib.dates as mdates\n",
    "\n",
    "from neon_utils import fix_time_h1"
   ]
  },
  {
   "cell_type": "code",
   "execution_count": null,
   "id": "d3039504-ae5d-4653-acac-44a402cef436",
   "metadata": {},
   "outputs": [],
   "source": [
    "# It's helpful to document the version of some tools that are quickly changing\n",
    "print('xarray '+xr.__version__) # was working with 2023.5.0"
   ]
  },
  {
   "cell_type": "markdown",
   "id": "1db2ec48-9370-422a-a4e4-893bc39906e2",
   "metadata": {},
   "source": [
    "## 1.2 Point to history files \n",
    "\n",
    "### 1.2.1 Where are my simulation results?\n",
    "After your simulations finish, history files are all saved in your `/scratch/NEON_cases/archive/` directory\n",
    "\n",
    "We can print the cases we have to look at using bash magic, `%%bash` or `!` which turns the python cell block below into a bash cell.  "
   ]
  },
  {
   "cell_type": "code",
   "execution_count": null,
   "id": "acf88bc1-a2ab-4ae5-bfcb-232cc5d6ad82",
   "metadata": {},
   "outputs": [],
   "source": [
    "%%bash\n",
    "ls ~/scratch/NEON_cases/archive/"
   ]
  },
  {
   "cell_type": "markdown",
   "id": "7caf652c-e127-4cb8-89cb-a4423b29f2b4",
   "metadata": {},
   "source": [
    "<div class=\"alert alert-block alert-info\">\n",
    "<b>Note</b> you can accomplish the same thing with the following.\n",
    "\n",
    "> `!ls ~/scratch/NEON_cases/archive/`\n",
    "    \n",
    "</div>\n",
    "\n",
    "<div class=\"alert alert-block alert-info\">\n",
    "<b>Note</b> if you prefer to look at example data instead of your own data, you can read in data located at `/scratch/data/NEONv2/hist`. We'll go over this in the next section.\n",
    "\n",
    "</div>\n",
    "\n",
    "---\n",
    "\n",
    "### 1.2.2 Point to the data folder with history files \n",
    "**We'll set the following:**\n",
    "- site to look at\n",
    "- path to our archive directory\n",
    "- directory with input data (where history files are found)\n",
    "\n",
    "\n",
    "By doing this more generally, it makes the script easier to modify for different sites."
   ]
  },
  {
   "cell_type": "markdown",
   "id": "a673c3d7-6ba5-4f60-9ff6-72370648c1ee",
   "metadata": {},
   "source": [
    "<div class=\"alert alert-block alert-info\">\n",
    "<b>Note</b> you can accomplish the same thing with the following.\n",
    "\n",
    "> `!ls ~/scratch/NEON_cases/archive/`\n",
    "    \n",
    "</div>\n",
    "\n",
    "---\n",
    "\n",
    "### 1.2.2 Point to the data folder with history files \n",
    "**We'll set the following:**\n",
    "- site to look at\n",
    "- path to our archive directory\n",
    "- directory with input data (where history files are found)  \n",
    "\n",
    "By doing this more generally, it makes the script easier to modify for different sites."
   ]
  },
  {
   "cell_type": "code",
   "execution_count": null,
   "id": "44e3bee8-fa6b-4c37-ae55-f62151640598",
   "metadata": {},
   "outputs": [],
   "source": [
    "neon_site = 'HARV'  # NEON site we're going to look at\n",
    "experiment = 'foliarCN-30'\n",
    "archive = '~/scratch/NEON_cases/archive' # Path to archive directory\n",
    "\n",
    "# If you prefer to look at example data, you can uncomment the following line\n",
    "# archive = '~/../../scratch/data/NEONv2/hist'\n",
    "\n",
    "# This unpacks the and expands the shortcut, '~', we used above\n",
    "archive = os.path.realpath(os.path.expanduser(archive)) \n",
    "\n",
    "# Create a path to the data folder directories\n",
    "control_dir = archive+'/'+neon_site+'.transient/lnd/hist'\n",
    "experiment_dir = archive+'/'+neon_site+'.'+experiment+'.transient/lnd/hist'\n",
    "\n",
    "control_dir"
   ]
  },
  {
   "cell_type": "markdown",
   "id": "70d25741-5010-496f-b61a-f15e1c135989",
   "metadata": {},
   "source": [
    "**Is this path for input data, `control_dir`, correct?** \n",
    "\n",
    "*HINT:* You can check in the terminal window or use bash magic (`%%bash`) and then list the contents of `control_dir` with `ls` in the same cell.\n",
    "\n",
    "---"
   ]
  },
  {
   "cell_type": "markdown",
   "id": "dea12afa-a949-4743-9f69-436da46ecd31",
   "metadata": {},
   "source": [
    "### 1.2.3 Create some functions we'll use when opening the data\n",
    "1. `preprocess` will limit the number of variables we're reading in. This is an xarray feature that helps save time (and memory resources).\n",
    "2. `fix_time` corrects annoying features related to how CTSM history files handle time and is provided in `neon_utils.py`.\n",
    "\n",
    "*Don't worry too much about the details of these functions right now*."
   ]
  },
  {
   "cell_type": "code",
   "execution_count": null,
   "id": "7f2a23fe-7273-4370-8f2c-fe3dfad5029e",
   "metadata": {},
   "outputs": [],
   "source": [
    "# Read all variables from the netcdf files\n",
    "# This just drops an unused coordinate variable (lndgrid) from the dataset\n",
    "def preprocess_all (ds):\n",
    "    ds_new= ds.isel(lndgrid=0) \n",
    "    return ds_new\n",
    "\n",
    "# Read some of the variables from the netcdf files, \n",
    "# This will make things faster, but requires you to list the variables you want to look at\n",
    "def preprocess_some (ds):\n",
    "    variables = ['GPP']\n",
    "    ds_new= ds[variables].isel(lndgrid=0)\n",
    "    return ds_new"
   ]
  },
  {
   "cell_type": "markdown",
   "id": "3919e8c9-4c08-485f-9e01-8c42f6b5ddad",
   "metadata": {},
   "source": [
    "Now we have created the functions needed to manipulate our datasets.\n",
    "\n",
    "---\n",
    "\n",
    "### 1.2.4 List all the files we're going to open\n",
    "The monthly history output (**'h1' files**) are written out for NEON cases. \n",
    "\n",
    "To open all of these files we're going to need to know their names.  This can be done if we:\n",
    "- Create an empty list `[]` of simulation files that is\n",
    "- `.extend`ed with a \n",
    "- `sorted` list of files generated with the \n",
    "- `glob` function in python of the \n",
    "- `*h0*`files in our `data_folder` \n",
    "\n",
    "You'll notice that **all of this gets combined in a single line of code** that runs through a \n",
    "- `for` loop over defined simulation years (written as a list of strings)\n",
    "\n",
    "<div class=\"alert alert-block alert-info\">\n",
    "<b>Note</b> If you're new to python it's dense, but efficient.  I actually borrowed a bunch this code from a colleague, Negin Sobhani, who's good at python! Sharing code is really helpful. \n",
    "</div>\n",
    "\n"
   ]
  },
  {
   "cell_type": "code",
   "execution_count": null,
   "id": "617ea958-499e-4dda-92da-8e531b152fe0",
   "metadata": {},
   "outputs": [],
   "source": [
    "# Create an empty list of all the file names to extend\n",
    "control_files = []\n",
    "experiment_files = []\n",
    "\n",
    "# If you want to choose a few particular years, you can use this loop.  \n",
    "# You can modify the list of years you're looking at.\n",
    "years = [\"2021\"]\n",
    "for year in years:\n",
    "    control_files.extend(sorted(glob(join(control_dir,\"*h1.\"+year+\"*.nc\"))))\n",
    "    experiment_files.extend(sorted(glob(join(experiment_dir,\"*h1.\"+year+\"*.nc\"))))\n",
    "\n"
   ]
  },
  {
   "cell_type": "markdown",
   "id": "50be9689-f985-413a-bb30-4c49e257a204",
   "metadata": {},
   "source": [
    "How many files are you going have to read in?  What is the last day of the simulation you'll be looking at?"
   ]
  },
  {
   "cell_type": "code",
   "execution_count": null,
   "id": "e76ac53d-9f1e-4479-b471-7ca2eccab8a2",
   "metadata": {},
   "outputs": [],
   "source": [
    "print(\"Total number of simulation files: \", len(control_files), \"files\")\n",
    "print(\"Last simulation file:\", control_files[-1])"
   ]
  },
  {
   "cell_type": "markdown",
   "id": "4d280416-00b4-431d-944a-bb2ca7b4cceb",
   "metadata": {},
   "source": [
    "---\n",
    "\n",
    "### 1.2.5 Read in the data\n",
    "`xr.open_mfdataset` will open all of these data files and concatenate them into a single **xarray dataset**.\n",
    "\n",
    "We are also going to use the `preprocess` and `fix_time` functions in this step."
   ]
  },
  {
   "cell_type": "code",
   "execution_count": null,
   "id": "aee5a387-f155-4fe8-a6e8-bfe2f95a2f35",
   "metadata": {},
   "outputs": [],
   "source": [
    "start = time.time()\n",
    "print (\"Reading in data for \"+neon_site)\n",
    "\n",
    "# Just reading *some* of the data here, could use preprocess_some instead.\n",
    "# start with the control case\n",
    "ds_control = xr.open_mfdataset(control_files, decode_times=True, combine='by_coords',\n",
    "                            preprocess=preprocess_all)\n",
    "ds_control = fix_time_h1(ds_control)\n",
    "\n",
    "# repeat for the experimental case\n",
    "print (\"Reading in data for \"+neon_site+\".\"+experiment)\n",
    "ds_experiment = xr.open_mfdataset(experiment_files, decode_times=True, combine='by_coords',\n",
    "                            preprocess=preprocess_all)\n",
    "ds_experiment = fix_time_h1(ds_experiment)\n",
    "\n",
    "end = time.time()\n",
    "print(\"Reading all simulation files took:\", end-start, \"s.\")\n"
   ]
  },
  {
   "cell_type": "markdown",
   "id": "bbad64f5-88ef-402b-8fdd-3610fde4766d",
   "metadata": {},
   "source": [
    "Note, merging the datasets above could be helpful...\n",
    "\n",
    "### Print the dataset you're working with"
   ]
  },
  {
   "cell_type": "code",
   "execution_count": null,
   "id": "7cda5d25-ce4b-419c-8dd5-e44f248e7604",
   "metadata": {},
   "outputs": [],
   "source": [
    "# sum up components of ET fluxes\n",
    "ds_control['ET'] = ds_control.FCEV + ds_control.FCTR + ds_control.FGEV\n",
    "ds_control['ET'].attrs['long_name'] = \"Evapotranspiration flux\"\n",
    "ds_control['ET'].attrs['units'] = ds_control.FCEV.attrs['units']\n",
    "\n",
    "ds_experiment['ET'] = ds_experiment.FCEV + ds_experiment.FCTR + ds_experiment.FGEV\n",
    "ds_experiment['ET'].attrs['long_name'] = \"Evapotranspiration flux\"\n",
    "ds_experiment['ET'].attrs['units'] = ds_experiment.FCEV.attrs['units']\n",
    "ds_experiment"
   ]
  },
  {
   "cell_type": "markdown",
   "id": "b2be98dc-b543-419c-a2cf-653adfc0b536",
   "metadata": {},
   "source": [
    "#### Take a quick look at the dataset.\n",
    "- What are your coodinate variables?\n",
    "- How long is the time dimensions?\n",
    "- What variables do we have to look at?\n",
    "- What are the long names of some of these variables? (HINT: try `ds_ctsm.TSOI`)\n",
    "- What are other metadata are associated with this dataset? \n",
    "\n",
    "---"
   ]
  },
  {
   "cell_type": "markdown",
   "id": "1d081822-98b6-41e9-a364-0471a35b71d3",
   "metadata": {},
   "source": [
    "### Let's start plotting!\n",
    "\n",
    "### Time series of daily GPP fluxes\n",
    "**Note** this isn't the most efficient yway of calculating daily means for a full dataset, but it works."
   ]
  },
  {
   "cell_type": "code",
   "execution_count": null,
   "id": "878ee93c-086d-467d-b701-60d399235308",
   "metadata": {},
   "outputs": [],
   "source": [
    "var = ['GPP','ELAI','FSH','ET']\n",
    "\n",
    "fig, axes = plt.subplots(nrows=2, ncols=2, figsize=[12,8],sharex=True)\n",
    "\n",
    "for v in range(len(var)):\n",
    "    plt.subplot(2,2,(v+1))\n",
    "    \n",
    "    ds_control[var[v]].resample(time='D').mean().plot(label='control')\n",
    "    ds_experiment[var[v]].resample(time='D').mean().plot(label=experiment)\n",
    "    if v==0:\n",
    "        plt.legend()\n",
    "        plt.title(neon_site)\n",
    "    if v<2:    \n",
    "        plt.xlabel(None)\n",
    "\n",
    "# Show plot\n",
    "plt.show() ;"
   ]
  },
  {
   "cell_type": "markdown",
   "id": "8b6a0edb-015a-4fc1-bc07-aaeca72c8438",
   "metadata": {},
   "source": [
    "---\n",
    "**You also may want to look at:** \n",
    "- ecosystem C pools (h0 files), \n",
    "- the sum of annual flxues, \n",
    "- more years of data, \n",
    "- NEON observations, or \n",
    "- additional variables\n",
    "\n",
    "\n",
    "<div class=\"alert alert-block alert-success\">\n",
    "<b>Congratualtions:</b> \n",
    "You've compared a control and experimental case!\n",
    "    \n",
    "</div>"
   ]
  },
  {
   "cell_type": "code",
   "execution_count": null,
   "id": "2d2c2fb4-3b0d-4502-beb9-b069ad70fc0a",
   "metadata": {},
   "outputs": [],
   "source": []
  }
 ],
 "metadata": {
  "kernelspec": {
   "display_name": "NPL 2023a",
   "language": "python",
   "name": "npl-2023a"
  },
  "language_info": {
   "codemirror_mode": {
    "name": "ipython",
    "version": 3
   },
   "file_extension": ".py",
   "mimetype": "text/x-python",
   "name": "python",
   "nbconvert_exporter": "python",
   "pygments_lexer": "ipython3",
   "version": "3.9.15"
  }
 },
 "nbformat": 4,
 "nbformat_minor": 5
}
