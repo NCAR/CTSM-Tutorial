{
 "cells": [
  {
   "cell_type": "markdown",
   "metadata": {},
   "source": [
    "# FATES simulations at NEON sites\n",
    "\n",
    "### *run_neon* doesn't work for FATES cases, so we'll create these cases from *'scratch'*\n",
    "\n",
    "The `run_neon` script we've been using is very useful, but it simplifies a number of steps that users may want to take control of in their workflow.  We'll introduce how you can control aspects of your case setup and configuration here. For example, a deeper understanding of the model is need if your want to run FATES case, an unsupported tower (non-NEON) site, a generic single point simulation, a regional domain, or for global case.\n",
    "\n",
    "If you're new to running CTSM, this is a somewhat advanced tutorial.  We're planning on doing all of our examples in the workshop using `run_neon`, so the information in this tutorial may not be needed. That said, it illustrates some important features of how to run the model, how to get initial condition files, and more.\n",
    "\n",
    "<br>\n",
    "\n",
    "---\n",
    "\n",
    "## In this tutorial\n",
    "\n",
    "The tutorial has several components. Below you will find steps to: \n",
    "1. Create, setup, build, and run a CTSM-FATES-SP case at a NEON site from scratch\n",
    "2. Locate history files\n",
    "\n",
    "<div class=\"alert alert-block alert-warning\">\n",
    "\n",
    "<b>NOTICE:</b> If you're running this notebook through the NCAR JupyterHub login you need to be on a Cheyenne login node (NOT Casper).  \n",
    "\n",
    "</div>"
   ]
  },
  {
   "cell_type": "markdown",
   "metadata": {},
   "source": [
    "<h1> 1. Set up and run a simulation</h1>\n",
    "\n",
    "### CTSM can be run in 4 simple steps.\n",
    "\n",
    "1. **Create** a new case\n",
    "  - *This step sets up a new simulation. It is the most complicated of these four steps because it involves making choices to set up the model configuration*\n",
    "\n",
    "2. **Setup** the case \n",
    "  - *This step configures the model so that it can compile*\n",
    "\n",
    "3. **Build** the executable\n",
    "  - *This step compiles the model*\n",
    "\n",
    "4. **Submit** your run to the batch queue\n",
    "  - *This step submits the model simulation*\n",
    "  \n",
    "**NOTE:** We'll also customine our case with xml and namelist changes."
   ]
  },
  {
   "cell_type": "markdown",
   "metadata": {},
   "source": [
    "***\n",
    "<h1> 1.1 create a new case</h1>\n",
    "\n",
    "*Set up a new simulation*\n",
    "***\n",
    "\n",
    "\n",
    "<div class=\"alert alert-block alert-info\">\n",
    "\n",
    "<b>NOTE:</b>  If you haven't done this already, you'll want to create the following directory\n",
    "\n",
    "`mkdir ~/scratch/NEON_cases`\n",
    "    \n",
    "<b>TIP:</b> If you're running on Cheyenne, creating a softlink to scratch in your home directory is helpful.  \n",
    "    \n",
    "You can create this with the following: `ln -s /glade/scratch/$USER ~/scratch`\n",
    "\n",
    "</div>"
   ]
  },
  {
   "cell_type": "markdown",
   "metadata": {},
   "source": [
    "### Set up environment\n",
    "It is important in order to have all the tools and packages you need to run simulations. \n",
    "\n",
    "The following code **is needed** if you're running in CESM-lab in the cloud."
   ]
  },
  {
   "cell_type": "code",
   "execution_count": null,
   "metadata": {},
   "outputs": [],
   "source": [
    "cp -r /opt/ncar/ctsm ~/CTSM"
   ]
  },
  {
   "cell_type": "markdown",
   "metadata": {},
   "source": [
    "*The code below **is not** needed in the cloud*.\n",
    "\n",
    "<div class=\"alert alert-block alert-info\">\n",
    "   \n",
    "<b>TIP:</b> <i>If you're running on Cheyenne</i>, you may need to uncomment the the following two lines of code. This will set up your conda environment correctly.\n",
    "\n",
    "<b>This is not required if your running CESM-Lab in the cloud.</b>\n",
    "\n",
    "</div>"
   ]
  },
  {
   "cell_type": "code",
   "execution_count": null,
   "metadata": {},
   "outputs": [],
   "source": [
    "#module purge\n",
    "#module load conda ncarenv"
   ]
  },
  {
   "cell_type": "markdown",
   "metadata": {},
   "source": [
    "## 1.1.1 Navigate to the source code directory\n",
    "\n",
    "Your source code is in your home directory"
   ]
  },
  {
   "cell_type": "code",
   "execution_count": null,
   "metadata": {},
   "outputs": [],
   "source": [
    "cd ~/CTSM/cime/scripts"
   ]
  },
  {
   "cell_type": "markdown",
   "metadata": {},
   "source": [
    "## 1.1.1 Create a new case"
   ]
  },
  {
   "cell_type": "code",
   "execution_count": null,
   "metadata": {},
   "outputs": [],
   "source": [
    "# Change the 4-character NEON site below.\n",
    "export neon_site=\"STEI\"\n",
    "# then create a new case.\n",
    "./create_newcase --case ~/scratch/NEON_cases/${neon_site}_FATESsp_test \\\n",
    "    --res CLM_USRDAT \\\n",
    "    --compset I1PtClm51Fates \\\n",
    "    --output-root ~/scratch/NEON_cases/ \\\n",
    "    --run-unsupported \\\n",
    "    --user-mods-dir NEON/FATES/${neon_site} \\\n",
    "    --handle-preexisting-dirs r"
   ]
  },
  {
   "cell_type": "markdown",
   "metadata": {},
   "source": [
    "***\n",
    "The code above doesn't always render properly online.  Here's what the code actually says:\n",
    "\n",
    "```\n",
    "./create_newcase --case ~/scratch/NEON_cases/${neon_site}_FATESsp_test \\\n",
    "    --res CLM_USRDAT \\\n",
    "    --compset I1PtClm51Fates \\\n",
    "    --output-root ~/scratch/NEON_cases/ \\\n",
    "    --run-unsupported \\\n",
    "    --user-mods-dir NEON/FATES/${neon_site} \\\n",
    "    --handle-preexisting-dirs r\n",
    "```\n",
    "***\n",
    "### **./create_newcase**\n",
    "\n",
    "<div class=\"alert alert-block alert-info\">\n",
    "\n",
    "<b>NOTE:</b> There is a lot of information that goes into creating a case.\n",
    "\n",
    "You can learn more about the options by typing <i>./create_newcase --help</i> on the the command line or in a new code cell.\n",
    "\n",
    "<b>We'll briefly go over some of the highlights here.</b>\n",
    "\n",
    "</div>\n",
    "\n",
    "---\n",
    "\n",
    "### Required arguments to create a new case\n",
    "There are 3 Required arguments Needed to create a new case.  These include \n",
    "1. `--case`, which specifies the *location* and *name* of the case being created\n",
    "  - `~/scratch` = the alias to your scratch  directory\n",
    "  - `NEON_cases` = the subdirectory we created to store your other cases\n",
    "  - `${neon_site}_FATESsp_test` = the name of the case you're creating\n",
    "  - *Recommendation:* Use meaningful names, including model version, type of simulation, and any additional details to help you remember the configuration of this simulation\n",
    "<br><br>\n",
    "2. `--res` Defines the model *resolution*, or grid,\n",
    "  - `CLM_USRDAT`, which is an option to get a case setup without having to define the grid resolution, yet. \n",
    "  - In global cases, the land model is commonly run at a nominal 1 degree `f09_g17` or 2 degree `f19_g17` resolution \n",
    "  - Using `./query_config --grids` provides a list of supported model resolutions\n",
    "<br><br>  \n",
    "3. `--compset` Defines the *component set* for your case, \n",
    "  - The Component set specifies the default configuration for the case which includes:\n",
    "    - Component models (e.g. active vs. data vs. stub), \n",
    "    - Time period of simulations and forcing scenarios (e.g. 1850 vs 2000 vs. HIST) and \n",
    "    - Physics options (e.g. CLM5.1 vs CLM5.0). \n",
    "  - `I1PtClm51Fates` is alias that actually describes a much longer set of components that are being used for this single point case. \n",
    "  - All CLM-only compsets start with *\"I\"*.\n",
    "    - Using `./query_config --compsets clm` provides examples of other CLM compsets\n",
    "<br>\n",
    "\n",
    "*There are a few other **optional** flags used to create this new case that we'll briefly touch on here*\n",
    "<br>\n",
    "\n",
    "4. `--output-root`, which specifies the *location* of your run directory\n",
    "  - `~/scratch/NEON_cases` = the subdirectory we already created \n",
    "<br> \n",
    "\n",
    "5. `--user-mods-dirs` sets up the configuration of the case with a user modification directory that defines the location of the site.\n",
    "  - `NEON/FATES/${neon_site}` has files that format of the history files and a few other custom settings for your case. \n",
    "  - This inludes setting some of .xml variables and name list settings correctly for a FATES simulation in a NEON single point case. \n",
    "<br>\n",
    "\n",
    "6. `--run-unsupported` avoids error using compsets are not scientifically supported \n",
    "\n",
    "<div class=\"alert alert-block alert-info\" markdown='1'>\n",
    "\n",
    "<b>NOTE:</b> You may notice an error about project codes when you create your case. The project code isn't important for these simulations. But you may need to change this if you're running on Cheyenne.\n",
    "\n",
    "</div>\n",
    "\n",
    "***\n",
    "\n",
    "\n",
    "### 1.1.2 Create a parallel non-FATES case for comparison\n",
    "we'll set this up as an AD case to make things easier"
   ]
  },
  {
   "cell_type": "code",
   "execution_count": null,
   "metadata": {},
   "outputs": [],
   "source": [
    "cd ~/CTSM/tools/site_and_regional/\n",
    "./run_neon.py --neon-sites $neon_site  \\\n",
    "    --output-root ~/scratch/NEON_cases \\\n",
    "    --setup-only \\\n",
    "    --overwrite"
   ]
  },
  {
   "cell_type": "code",
   "execution_count": null,
   "metadata": {},
   "outputs": [],
   "source": [
    "ls ~/scratch/NEON_cases"
   ]
  },
  {
   "cell_type": "markdown",
   "metadata": {},
   "source": [
    "***\n",
    "<h2> 1.2 Customize your case </h2>\n",
    "\n",
    "*Modifications for a FATESsp case*\n",
    "\n",
    "### 1.2.1 Move to your case directory\n",
    "\n",
    "**Check differences in env_run with a To start with, we want to run a FATESsp case, not with active biogeochemistry**\n",
    "\n",
    "These would be set up if you created a global fates sp compset, but we need to make changes for our single point case here\n"
   ]
  },
  {
   "cell_type": "code",
   "execution_count": null,
   "metadata": {},
   "outputs": [],
   "source": [
    "cd ~/scratch/NEON_cases/${neon_site}_FATESsp_test\n",
    "diff env_run.xml ../${neon_site}.transient/env_run.xml"
   ]
  },
  {
   "cell_type": "markdown",
   "metadata": {},
   "source": [
    "As before, this doesn't always render properly online:\n",
    "\n",
    "```\n",
    "cd ~/scratch/NEON_cases/${neon_site}_FATESsp_test\n",
    "diff env_run.xml ../${neon_site}.transient/env_run.xml\n",
    "```\n",
    "\n",
    "What differences do you see between the env_run files?\n",
    "\n",
    "**Background**\n",
    "- Most NEON sites we have 4 complete years of data to work with (2018-2021). \n",
    "- run_neon and usermod_dirs handle setting up cases correctly for non-FATES cases.\n",
    "- NOTE, there are other differences caused by the compset we used to create our NEON case related to transient CO2.  We'll ignore these for now.\n",
    "- For an SP case, we want to run NEON sites for a bit to let soil water and temperatures the equilibrate before comparing to observations. Luckily, this only takes a few years.\n",
    "- We can handle this with the following xml changes\n",
    "\n",
    "The code below may need to be customized for particular sites, but in general, we want to run for twice as many years as we have NEON observations.  CLM will just cycle over the meterological data that NEON provides.  This will allow the second cycle of our our simulation to end with the same dates over which we have NEON observations, making plotting easier later on. We also need to force a coldstart since there are no initial conditions to compare to.\n",
    "\n",
    "### 1.2.2 xlm changes to modify env_run options\n",
    "xlm changes are one way you can control your case to customize the simulation\n",
    "- We won't cover this here, but other tutorials cover more about xml changes."
   ]
  },
  {
   "cell_type": "code",
   "execution_count": null,
   "metadata": {},
   "outputs": [],
   "source": [
    "./xmlchange RUN_STARTDATE=2014-01-01 \n",
    "./xmlchange STOP_OPTION=nyears\n",
    "./xmlchange STOP_N=8  \n",
    "./xmlchange DATM_YR_END=2021  #this is the last complete year of input data\n",
    "./xmlchange CLM_FORCE_COLDSTART=on"
   ]
  },
  {
   "cell_type": "markdown",
   "metadata": {},
   "source": [
    "### 1.2.3 Modify user_nl_clm\n",
    "We also won't discuss namelist modificaiton here, but they are another way to customize your case.\n",
    "\n",
    "Specifically these namelist changes:\n",
    "- set up a FATES-SP case.\n",
    "- modifies history file output for an SP case.\n"
   ]
  },
  {
   "cell_type": "code",
   "execution_count": null,
   "metadata": {},
   "outputs": [],
   "source": [
    "#user_nl_clm changes\n",
    "echo \"use_fates_sp = .true.\" >> user_nl_clm\n",
    "echo \"soil_decomp_method = 'None'\" >> user_nl_clm\n",
    "echo \"use_lch4 = .false.\" >> user_nl_clm\n",
    "echo \"fates_spitfire_mode = 0\" >> user_nl_clm\n",
    "echo \"use_fates_fixed_biogeog = .true.\" >> user_nl_clm\n",
    "echo \"use_fates_nocomp = .true.\" >> user_nl_clm\n",
    "echo \"hist_fincl2 = 'FCEV','FCTR','FGEV','FIRA','FSA','FSH',\n",
    " 'FATES_GPP','FATES_GPP_PF','H2OSOI','SNOW_DEPTH','TBOT','TSOI'\" >> user_nl_clm"
   ]
  },
  {
   "cell_type": "markdown",
   "metadata": {},
   "source": [
    "## 1.3 Setup and build your case\n",
    "\n",
    "*This step configures the model so that it can then compile* \n",
    "\n",
    "### 1.3.1 case.setup\n",
    "The `./case.setup` script:\n",
    "1. configures the model\n",
    "2. creates files to modify input data and run options"
   ]
  },
  {
   "cell_type": "code",
   "execution_count": null,
   "metadata": {},
   "outputs": [],
   "source": [
    "./case.setup"
   ]
  },
  {
   "cell_type": "markdown",
   "metadata": {},
   "source": [
    "***\n",
    "<h3> 1.3.2 Build the executable  </h3>\n",
    "\n",
    "*This step compiles the model*\n",
    "\n",
    "It also takes a long time, so be patient.\n",
    "***\n",
    "\n",
    "The `./case.build` script:\n",
    "1. Checks input data\n",
    "2. Creates a build/run directory with model executable and namelists\n",
    "\n",
    "TODO: using qcmd -- ./case.build fails with wget errors of met data "
   ]
  },
  {
   "cell_type": "code",
   "execution_count": null,
   "metadata": {},
   "outputs": [],
   "source": [
    "./case.build"
   ]
  },
  {
   "cell_type": "markdown",
   "metadata": {},
   "source": [
    "\n",
    "---\n",
    "This takes some time, and will throw a bunch of errors... don't worry, just give it time\n",
    "\n",
    "\n",
    "**When the build completes successfully you'll see a notice that the `MODEL BUILD HAS FINISHED SUCCESSFULLY`**\n",
    "\n",
    "\n",
    "<div class=\"alert alert-block alert-warning\">\n",
    "   \n",
    "<b>HINT:</b>  Building a NEON case requires that you have the `listing.csv` file in your `~/scratch/NEON_cases` directory.  \n",
    "<p> Don't worry, you can find this if you did the <b>Day0b tutorial</b>  <span>&#x1F609</span> </p>\n",
    "  \n",
    "cp ~/CTSM/tools/site_and_regional/listing.csv ~/scratch/NEON_cases/.\n",
    "</div>\n",
    "\n",
    "You can read on, but before executing any code blocks in the notebook **wait for the model to build.**\n",
    "This can take a while.\n",
    "\n",
    "<style> \n",
    "table td, table th, table tr {text-align:left !important;}\n",
    "</style>\n",
    "<div class=\"alert alert-block alert-info\">\n",
    "\n",
    "<b>NOTE:</b> The command <i>qcmd -- ./case.build</i> is specific for NCAR environments, including Cheyenne and cloud configurations, and runs the command on a computing node, reducing the load on the login node. <b>You must include <i>qcmd --</i> when running on Cheyenne</b>, and it's highly advised on shared cloud systems too.  On single-user cloud systems, it isn't needed, though it may speed up builds.\n",
    "\n",
    "</div>\n",
    "\n",
    "---"
   ]
  },
  {
   "cell_type": "markdown",
   "metadata": {},
   "source": [
    "<h3> 1.4 Submit your case  </h3>\n",
    "\n",
    "Now you're ready to submit the case!\n",
    "\n",
    "*This step submits the model simulation*\n",
    "- You'll also be downloading all the meterological data from NEON for your site, this also takes a little time and prints lots of information to the screen\n",
    "***"
   ]
  },
  {
   "cell_type": "code",
   "execution_count": null,
   "metadata": {},
   "outputs": [],
   "source": [
    "./case.submit"
   ]
  },
  {
   "cell_type": "markdown",
   "metadata": {},
   "source": [
    "When you submit a job, you will see confirmation that it successfully submitted:\n",
    "\n",
    "### Congratulations! You've created and submitted a single point NEON run from scratch.\n",
    "\n",
    "Next, you will probably want to check on the status of your jobs.\n",
    "\n",
    "<div class=\"alert alert-block alert-info\" markdown=\"1\">\n",
    "\n",
    "<b>TIP:</b> This is dependent on the scheduler that you're using. \n",
    "\n",
    "<ul>\n",
    "<li>Cheyenne uses <b>PBS</b> where status is checked with <i>qstat -u $USER</i></li>\n",
    "<li>This is also enabled in the cloud for you, try it in the code block below</li></ul>\n",
    "\n",
    "If you want to stop the simulation, you can do so with qdel here (or on Cheyenne).\n",
    "<ul>\n",
    "<li> Find your Job ID after typing <i>qstat</i> </li>\n",
    "<li> Type <i>qdel {Job ID}</i> </li>\n",
    "</ul>\n",
    "</div>"
   ]
  },
  {
   "cell_type": "code",
   "execution_count": null,
   "metadata": {},
   "outputs": [],
   "source": [
    "qstat -u $USER"
   ]
  },
  {
   "cell_type": "markdown",
   "metadata": {},
   "source": [
    "---\n",
    "Once your jobs are complete (or show the 'C' state under the 'Use' column, which means complete), we can check the CaseStatus file to ensure there were no errors and it completed successfully.  To do this, we'll 'tail' the end of the CaseStatus file:"
   ]
  },
  {
   "cell_type": "code",
   "execution_count": null,
   "metadata": {},
   "outputs": [],
   "source": [
    "tail  ~/scratch/NEON_cases/${neon_site}_FATESsp_test/CaseStatus"
   ]
  },
  {
   "cell_type": "markdown",
   "metadata": {},
   "source": [
    "You should see several lines, with the middle one saying 'case.run success'.  \n",
    "\n",
    "Before that you'll see notifications about xml changes, case.setup, and case.submit, and case.run\n",
    "\n",
    "<div class=\"alert alert-success\">\n",
    "<strong>Congratulations!</strong> \n",
    "    \n",
    "You've created a CTSM case for the NEON tower you selected.\n",
    "\n",
    "We'll build on these basics in additional tutorials to customize your simulations.\n",
    "</div>\n",
    "\n",
    "\n",
    "\n",
    "\n",
    "****\n",
    "# 2. Locate model history files\n",
    "Your simulation will likely take some time to complete. The information\n",
    "provided next shows where the model output will be located while the\n",
    "model is running and once the simulation is complete. We also provide\n",
    "files from a simulation that is already complete so that you can do the\n",
    "next exercises before your simulation completes. \n",
    "\n",
    "<div class=\"alert alert-block alert-info\" markdown=\"1\">\n",
    "\n",
    "<b>When your simulation is running</b> history files go to your scratch directory: \n",
    "\n",
    "<ul>\n",
    "<li><i>~/scratch/NEON_cases/{CASE}</i> </li>\n",
    "</ul>\n",
    "\n",
    "Within this directory you can find <i>/run</i> and <i>/bld</i> subdirectories.\n",
    "\n",
    "<b>When the simulation is complete</b>, a short-term archive directory is created, and history files are moved here: \n",
    "\n",
    "<ul>\n",
    "<li><i>~/scratch/NEON_cases/<b>archive</b>/{CASE}/lnd/hist/</i> </li>\n",
    "</ul>\n",
    "\n",
    "Note that files necessary to continue the run are left in the run directory: <i>~/scratch/NEON_cases/{CASE}/run</i>\n",
    "</div>\n",
    "\n",
    "## 2.1 Run directory\n",
    "*What's in your run directory?*"
   ]
  },
  {
   "cell_type": "code",
   "execution_count": null,
   "metadata": {},
   "outputs": [],
   "source": [
    "ls ~/scratch/NEON_cases/${neon_site}_FATESsp_test/run"
   ]
  },
  {
   "cell_type": "markdown",
   "metadata": {},
   "source": [
    "*Do you see any log or history files?*\n",
    "- log files look like `lnd.log*`\n",
    "- history files look like `${neon_site}.transient.clm2.h0.*.nc`\n",
    "\n",
    "You can keep running the cell above until you see log and history files, then the model is running.\n",
    "\n",
    "---\n",
    "\n",
    "## 2.2 Archive directory\n",
    "*What's in your archive directory?*"
   ]
  },
  {
   "cell_type": "code",
   "execution_count": null,
   "metadata": {},
   "outputs": [],
   "source": [
    "ls ~/scratch/NEON_cases/archive/${neon_site}_FATESsp_test/lnd/hist | head -5"
   ]
  },
  {
   "cell_type": "markdown",
   "metadata": {},
   "source": [
    "You can drop the `| head -5` part of the cell above if you want to see ALL the files that have been archived.\n",
    "\n",
    "If you don't see any history files your simulation is likely still running or in the queue (check using squeue or qstat). Check again before you leave today to see if your simulation completed and if the files were transferred to archive. Even if your run isn't finished, you can move on in this tutorial.\n",
    "\n",
    "If you'd like to visualize these results you can go back to tutorial Day0c and modify to point to these results from the neon_site you just ran."
   ]
  },
  {
   "cell_type": "markdown",
   "metadata": {
    "tags": []
   },
   "source": [
    "***\n",
    "# 3. Create a Clone\n",
    "<h4> This step is optional, but provides helpful information </h4>\n",
    "    \n",
    "Creating and building a new case is slow.  \n",
    "\n",
    "Cloning cases can speed this up!\n",
    "\n",
    "<h2>3.1 Create a clone </h2>\n",
    "\n",
    "- Clones use the same resolution, compset, and output root.\n",
    "- Clones can also share the same executable (build), which can save time!\n",
    "\n",
    "<div class=\"alert alert-block alert-warning\" markdown=\"1\">\n",
    "\n",
    "<b>WARNING:</b> If you're making code modifications be careful using clones that share the same build. The example below is a good way to run the same model configuration at different NEON sites.\n",
    "\n",
    "</div>\n",
    "\n"
   ]
  },
  {
   "cell_type": "code",
   "execution_count": null,
   "metadata": {},
   "outputs": [],
   "source": [
    "# Move back to your source code directory\n",
    "cd ~/CTSM/cime/scripts\n",
    "\n",
    "# Change the 4-character new NEON site you want to run.\n",
    "export neon_site2=\"TEAK\"\n",
    "\n",
    "# then create a cloned case.\n",
    "./create_clone --case ~/scratch/NEON_cases/${neon_site2}_FATESsp_test \\\n",
    "               --clone ~/scratch/NEON_cases/${neon_site}_FATESsp_test \\\n",
    "               --user-mods-dirs ~/CTSM/cime_config/usermods_dirs/NEON/FATES/${neon_site2} \\\n",
    "               --keepexe"
   ]
  },
  {
   "cell_type": "markdown",
   "metadata": {},
   "source": [
    "As before, the code above doesn't always render properly online.  Here's what we're doing:\n",
    "\n",
    "```\n",
    "./create_clone --case ~/scratch/NEON_cases/${neon_site2}_FATESsp_test \\\n",
    "               --clone ~/scratch/NEON_cases/${neon_site}_FATESsp_test \\\n",
    "               --user-mods-dirs ~/CTSM/cime_config/usermods_dirs/NEON/FATES/${neon_site2} \\\n",
    "               --keepexe\n",
    "```\n",
    "\n",
    "***\n",
    "\n",
    "### **./create_clone**\n",
    "\n",
    "<div class=\"alert alert-block alert-info\">\n",
    "\n",
    "<b>NOTE:</b> There is a lot of information that goes into creating a clone.\n",
    "\n",
    "You can learn more about the options by typing <i>./create_clone --help</i> on the the command line or in a new code cell.\n",
    "\n",
    "<b>We'll briefly go over some of the highlights here.</b>\n",
    "\n",
    "</div>\n",
    "\n",
    "\n",
    "### Required arguments to create a clone\n",
    "There are 2 required arguments needed to create a clone.  These include: \n",
    "1. `--case`, this is the path and name of the new case your cloning.\n",
    "<br><br>\n",
    "2. `--clone`, this is the path and name of the existing case you want to clone.\n",
    "<br><br>  \n",
    "### Additional information we provided here were: \n",
    "3. `--user-mods-dirs` as before, this sets up the configuration of the case with a user modification directory that defines the location of the new site we're running, but it requires the full path to the `user-mods-dir` you want to use.\n",
    "<br><br>  \n",
    "4. `--keepexe` Point to original build from the case being cloned.\n",
    "\n",
    "---\n",
    "We'll also create a non-FATES case clone for comparison"
   ]
  },
  {
   "cell_type": "code",
   "execution_count": null,
   "metadata": {},
   "outputs": [],
   "source": [
    "cd ~/CTSM/tools/site_and_regional\n",
    "./run_neon.py --neon-sites $neon_site2  \\\n",
    "    --output-root ~/scratch/NEON_cases \\\n",
    "    --setup-only \\\n",
    "    --overwrite"
   ]
  },
  {
   "cell_type": "markdown",
   "metadata": {},
   "source": [
    "***\n",
    "<h2> 3.2 Customize the clone? </h2>\n",
    "\n",
    "*Because you created a clone and point to an existing build we can skip the `case.setup` and `case.build` steps* \n",
    "***\n",
    "\n",
    "### 3.2.1 Move to your case directory and compare env_run"
   ]
  },
  {
   "cell_type": "code",
   "execution_count": null,
   "metadata": {},
   "outputs": [],
   "source": [
    "cd ~/scratch/NEON_cases/${neon_site2}_FATESsp_test\n",
    "diff env_run.xml ../${neon_site2}.transient/env_run.xml"
   ]
  },
  {
   "cell_type": "markdown",
   "metadata": {},
   "source": [
    "### 3.2.2 Make xlm changes\n",
    "In the example above the teak data record only starts in 2019, meaning we have 3 years of meterological data to cycle through"
   ]
  },
  {
   "cell_type": "code",
   "execution_count": null,
   "metadata": {},
   "outputs": [],
   "source": [
    "./xmlchange RUN_STARTDATE=2016-01-01 \n",
    "./xmlchange STOP_OPTION=nyears\n",
    "./xmlchange STOP_N=6  \n",
    "./xmlchange DATM_YR_END=2021  #this is the last complete year of input data\n",
    "./xmlchange CLM_FORCE_COLDSTART=on\n",
    "\n",
    "# Check that chagnes look as expected from the other FATESsp case\n",
    "diff env_run.xml ../${neon_site}_FATESsp_test/env_run.xml"
   ]
  },
  {
   "cell_type": "markdown",
   "metadata": {},
   "source": [
    "### 3.2.3 Copy user_nl_clm\n",
    "We can just copy the user_nl_clm into our cloned case"
   ]
  },
  {
   "cell_type": "code",
   "execution_count": null,
   "metadata": {},
   "outputs": [],
   "source": [
    "cp ../${neon_site}_FATESsp_test/user_nl_clm ."
   ]
  },
  {
   "cell_type": "markdown",
   "metadata": {},
   "source": [
    "***\n",
    "<h2> 3.3 Submit the case </h2>\n",
    "\n",
    "*Because you created a clone and point to an existing build we can skip the `case.setup` and `case.build` steps* \n",
    "***\n",
    "\n",
    "- As before, you'll be downloading all the meterological data, which takes a little time and prints lots of information to the screen\n",
    "***\n"
   ]
  },
  {
   "cell_type": "code",
   "execution_count": null,
   "metadata": {},
   "outputs": [],
   "source": [
    "./case.submit"
   ]
  },
  {
   "cell_type": "markdown",
   "metadata": {},
   "source": [
    "<div class=\"alert alert-success\">\n",
    "<strong>Congratulations!</strong> \n",
    "    \n",
    "You've created and run a clone Fof CLM- for the NEON tower you selected.\n",
    "</div>\n",
    "\n",
    "\n",
    "You can track progress on your run using steps outlined in part #2 of this tutorial.\n",
    "You can also work on visualizing your results for different sites using visualization code provided\n",
    "\n"
   ]
  },
  {
   "cell_type": "markdown",
   "metadata": {},
   "source": [
    "If you're developing this tutorial:\n",
    "Before saving and pushing this code to github go to `Kernel` and `Restart kernel and clear all outputs...`"
   ]
  },
  {
   "cell_type": "code",
   "execution_count": null,
   "metadata": {},
   "outputs": [],
   "source": [
    "ls -lrt ~/scratch/NEON_cases/${neon_site2}_FATESsp_test/run/ | tail -10\n"
   ]
  },
  {
   "cell_type": "code",
   "execution_count": null,
   "metadata": {},
   "outputs": [],
   "source": []
  }
 ],
 "metadata": {
  "kernelspec": {
   "display_name": "Bash",
   "language": "bash",
   "name": "bash"
  },
  "language_info": {
   "codemirror_mode": "shell",
   "file_extension": ".sh",
   "mimetype": "text/x-sh",
   "name": "bash"
  }
 },
 "nbformat": 4,
 "nbformat_minor": 4
}
