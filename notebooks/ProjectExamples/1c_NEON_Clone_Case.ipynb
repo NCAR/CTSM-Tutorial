{
 "cells": [
  {
   "cell_type": "markdown",
   "metadata": {
    "tags": []
   },
   "source": [
    "# Tutorial 1c: Cloning a NEON case\n",
    "\n",
    "**This is an optional tutorial** it's a little bit more advanced, but it will help you think about how to modify the model configuration to run new sites or model experiments.  \n",
    "\n",
    "The `run_neon` script we used in the [introductory tutorial 1b](1b_NEON_Simulation_Intro.ipynb) created and ran a base case as well as a `.transient` case. \n",
    "\n",
    "You'll recall that building the case was pretty time consuming. Luckily, if you aren't changing the model code, you can run from this base case without rebuilding multiple times. \n",
    "\n",
    "<br>\n",
    "\n",
    "---\n",
    "\n",
    "## In this tutorial\n",
    "\n",
    "The tutorial has several components. Below you will find steps to: \n",
    "1. Create a clone for a new NEON site from the base case you already built.\n",
    "2. Introduce ways to customize the configuration of your cases.\n",
    "\n",
    "*Extra credit* \n",
    "\n",
    "3. Create another clone for an experiment you're hoping to do.\n",
    "\n",
    "<div class=\"alert alert-block alert-warning\">\n",
    "\n",
    "<b>NOTICE:</b>  This tutorial assumes that you've done your homework! \n",
    "    \n",
    "If you haven't downloaded CTSM from the GitHub repository you need to go back to: \n",
    "<ul>\n",
    "    <li><b>1b_NEON_Simulation_Tutorial</b> </li> \n",
    "</ul>\n",
    "    \n",
    "Do these first!\n",
    "\n",
    "    \n",
    "</div>\n"
   ]
  },
  {
   "cell_type": "markdown",
   "metadata": {},
   "source": [
    "<div class=\"alert alert-block alert-warning\">\n",
    "\n",
    "<b>NOTICE:</b> If you're running this notebook through the NCAR JupyterHub login, you need to be on a Cheyenne login node (NOT Casper).  \n",
    "\n",
    "</div>\n"
   ]
  },
  {
   "cell_type": "markdown",
   "metadata": {},
   "source": [
    "<h1> 1. Create a clone </h1>\n",
    "\n",
    "CTSM cases can be cloned to save time and create model experiments for different sites or different configurations that are otherwise identical to each other.   \n",
    "\n",
    "### 1.1.1 Set up environment\n",
    "It is important in order to have all the tools and packages you need to run simulations. \n",
    "\n",
    "The following code **is needed** if you're running in CESM-lab in the cloud.\n"
   ]
  },
  {
   "cell_type": "code",
   "execution_count": null,
   "metadata": {},
   "outputs": [],
   "source": [
    "cp -rp /opt/ncar/ctsm/ ~/CTSM"
   ]
  },
  {
   "cell_type": "markdown",
   "metadata": {},
   "source": [
    "*The code below **is not** needed in the cloud*.\n",
    "\n",
    "<div class=\"alert alert-block alert-info\">\n",
    "   \n",
    "<b>TIP:</b> <i>If you're running on Cheyenne</i>, you may need to uncomment the the following two lines of code. This will set up your conda environment correctly.\n",
    "\n",
    "<b>This is not required if your running CESM-Lab in the cloud.</b>\n",
    "\n",
    "</div>\n"
   ]
  },
  {
   "cell_type": "code",
   "execution_count": null,
   "metadata": {},
   "outputs": [],
   "source": [
    "#module purge\n",
    "#module load conda ncarenv"
   ]
  },
  {
   "cell_type": "markdown",
   "metadata": {},
   "source": [
    "### 1.1.2 Navigate to your source code"
   ]
  },
  {
   "cell_type": "code",
   "execution_count": null,
   "metadata": {},
   "outputs": [],
   "source": [
    "cd ~/CTSM/tools/site_and_regional"
   ]
  },
  {
   "cell_type": "markdown",
   "metadata": {},
   "source": [
    "## 1.2 Create a clone with `run_neon.py`\n",
    "We'll just use run_neon again, but point to the **base case** you created in that `1b` tutorial.\n",
    "\n",
    "<div class=\"alert alert-block alert-info\">\n",
    "   \n",
    "<b>TIP:</b> <i>If you're running on Cheyenne</i>, you may need to uncomment the the following two lines of code. This will set up your conda environment correctly.\n",
    "    \n",
    "<b>This is not required if your running CESM-Lab in the cloud.</b>\n",
    "</div>\n"
   ]
  },
  {
   "cell_type": "code",
   "execution_count": null,
   "metadata": {},
   "outputs": [],
   "source": [
    "#module purge\n",
    "#module load conda ncarenv"
   ]
  },
  {
   "cell_type": "markdown",
   "metadata": {},
   "source": [
    "The following code will:\n",
    "- create a clone, \n",
    "- download input data from NEON\n",
    "- submit the simulation\n",
    "\n",
    "As before, it takes a little bit for all this to happen, but you'll notice it's MUCH faster since we don't have to build the model."
   ]
  },
  {
   "cell_type": "code",
   "execution_count": null,
   "metadata": {},
   "outputs": [],
   "source": [
    "# Change the 4-character NEON site below.\n",
    "export base_case='KONZ'   # should match the base case you created in 1b\n",
    "export new_case='CPER'    # the new site you want to run"
   ]
  },
  {
   "cell_type": "code",
   "execution_count": null,
   "metadata": {},
   "outputs": [],
   "source": [
    "# then run_neon\n",
    "./run_neon.py --neon-sites $new_case  \\\n",
    "   --output-root ~/scratch/NEON_cases \\\n",
    "   --base-case ~/scratch/NEON_cases/$base_case \\\n",
    "   --overwrite"
   ]
  },
  {
   "cell_type": "markdown",
   "metadata": {},
   "source": [
    "Two new flags are being used here:\n",
    "- `--base-case` points to base case that's already been built, letting you run your new simulation more quickly.  \n",
    "- `--overwrite` will let you overwrite an existing case.  \n",
    "\n",
    "<div class=\"alert alert-block alert-warning\">\n",
    "\n",
    "<b>NOTICE:</b> \n",
    "    \n",
    "- Creating clones while pointing to a `--base-case` saves time by sharing the built model executable.\n",
    "- Creating clones like this also requires that your base-case and new-case are the same type of simulation, `.transient` simulations in this example.  \n",
    "- It also assumes that you're <b>not making modifications to the model source code </b> that would require you to rebuild a case.  \n",
    "\n",
    "</div>\n",
    "\n",
    "\n",
    "You can check to make sure things are running as expected. On the command line of a terminal window you can enter (HINT, you'll likely have to define `new_case` in the terminal window, as above in the notebook: \n",
    "> `ls ~/scratch/NEON_cases/$new_case.transient/run` **or** \n",
    "\n",
    ">`qstat -u $USER` **or**\n",
    "\n",
    ">`tail  ~/scratch/NEON_cases/${new_case}.transient/CaseStatus`\n",
    "\n",
    "<div class=\"alert alert-block alert-info\" markdown='1'>\n",
    "How are our simulations different?  let's take a quick look to see.\n",
    "</div>"
   ]
  },
  {
   "cell_type": "markdown",
   "metadata": {},
   "source": [
    "----\n",
    "# 2. Introduction to controling case configuration\n",
    "\n",
    "There are a few places that summarize differences in simulations.  These files include:\n",
    "- `env_run.xlm`, which are variables that can be changed to configure your case;  \n",
    "- `lnd_in`, which cannot be modified directly, but that gets information from user_nl_clm (and provides addition control over the way the land model is configured in your simulation);  \n",
    "- `datm.streams.xml`, which also cannot be modified directly, but modified with user_datm_streams to point to different data atmosphere streams.\n",
    "\n",
    "The easiest way to do this is by differencing the same files in each case directory with the `diff` command. \n",
    "\n",
    "## 2.1 `env_run.xml` "
   ]
  },
  {
   "cell_type": "code",
   "execution_count": null,
   "metadata": {},
   "outputs": [],
   "source": [
    "cd ~/scratch/NEON_cases\n",
    "diff $new_case.transient/env_run.xml $base_case.transient/env_run.xml "
   ]
  },
  {
   "cell_type": "markdown",
   "metadata": {},
   "source": [
    "**What are the differences between these two cases**, based on their `env_run.xlm` files?\n",
    "\n",
    "These differences are expected, because NEON cases are set up with `usermod_dirs` that control some of these .xml variables.\n",
    "\n",
    "You can look at particlar changes for your $new_case below."
   ]
  },
  {
   "cell_type": "code",
   "execution_count": null,
   "metadata": {},
   "outputs": [],
   "source": [
    "cat ~/CTSM/cime_config/usermods_dirs/NEON/$new_case/shell_commands"
   ]
  },
  {
   "cell_type": "markdown",
   "metadata": {},
   "source": [
    "We won't really go into usermod directories here, but they are a useful way to modify the way cases are configured for different model experiments.\n",
    "\n",
    "usermod_dirs were used when you created your NEON cases with run_neon.  \n",
    "- The shell_command and user_nl_* files are copied from `~/CTSM/cime_config/usermods_dirs/NEON` into your case directory.  \n",
    "- Shell commands are executed after the case is created.\n",
    "- This makes is easier set up cases in a consistent, repeatable way.\n",
    "**Pretty slick software engineering!**\n",
    "\n",
    "Some NEON sites have additional changes, notably for sites with gaps in the NEON input data.  These sites have shorter run times (than the 2018-2021 defaults).  "
   ]
  },
  {
   "cell_type": "code",
   "execution_count": null,
   "metadata": {},
   "outputs": [],
   "source": [
    "cat ~/CTSM/cime_config/usermods_dirs/NEON/MOAB/shell_commands"
   ]
  },
  {
   "cell_type": "markdown",
   "metadata": {},
   "source": [
    "These .xml changes set up high-level control over how your simulation is run.  What are some of the specifics related to the land model?  We can see this by looking at our `lnd_in` file.\n",
    "\n",
    "## 2.2 `lnd_in` \n",
    "\n",
    "**What are the differences between these two cases**, based on their `lnd_in` files?"
   ]
  },
  {
   "cell_type": "code",
   "execution_count": null,
   "metadata": {},
   "outputs": [],
   "source": [
    "diff $new_case.transient/CaseDocs/lnd_in $base_case.transient/CaseDocs/lnd_in "
   ]
  },
  {
   "cell_type": "markdown",
   "metadata": {},
   "source": [
    "<style> \n",
    "table td, table th, table tr {text-align:left !important;}\n",
    "</style>\n",
    "<div class=\"alert alert-block alert-info\">\n",
    "<b>REMEMBER:</b>\n",
    "    \n",
    "- The <i>lnd_in</i> file provides a high level summary of all the name list chagnes and files that are being used by CLM. \n",
    "- It can be found in the CaseDocs directory, or in your run directory. \n",
    "- You cannot directly modifiy the <i>lnd_in file</i>, instead users can modify <i>user_nl_clm</i>.\n",
    "\n",
    "</div>\n",
    "\n",
    "**Initial conditions dataset:** `finidat`\n",
    "  - These are initial conditions files that we created by spinning up the model.  \n",
    "  - Spin up requires starting the model from bare ground conditions (we call it a *coldstart*).\n",
    "  - Spin up takes a few hundred years of simulations so that ecosystem carbon and nitrogen pools acheive steady state conditions (e.g. average net ecosystem exchange equals zero).  \n",
    "  - Since this takes a long time, we provide initial conditions for you to start from.\n",
    "  - **This also means that if you change model parameterizations, input data, or anything else you ahve to spin up the model again!** \n",
    "\n",
    "**Surface dataset:** `fsurdat`\n",
    "  - The surface datasets describe what vegetation is growing in a grid cell, characteristics of soil physical properties, and much more information about what the land surface 'looks like' to the model.  \n",
    "  - We modifed these the default surface dataset for each NEON simulation with information about the dominant plant functional type (PFT) and soil properties, based on NEON measurements. \n",
    "  - This could likely be further refined, but it's a step towards making the model look more like the real world ecosystems we are trying to simulate.\n",
    "\n",
    "\n",
    "There are other differences in the build, but this is basically just reflecting the different case directories for the two NEON cases.\n",
    "\n",
    "---\n",
    "\n",
    "The `lnd_in` files are controlled by `user_nl_clm`.  Let's see how these are different."
   ]
  },
  {
   "cell_type": "code",
   "execution_count": null,
   "metadata": {},
   "outputs": [],
   "source": [
    "diff $new_case.transient/user_nl_clm $base_case.transient/user_nl_clm"
   ]
  },
  {
   "cell_type": "markdown",
   "metadata": {},
   "source": [
    "It looks like the only difference here are initial conditions, but that's because we used environmental variables to get the right surface dataset\n",
    "\n",
    "If you open one of the `user_nl_clm` files you'll see:\n",
    "```\n",
    "fsurdat = \"$DIN_LOC_ROOT/lnd/clm2/surfdata_map/NEON/surfdata_1x1_NEON_${NEONSITE}_hist_78pfts_CMIP6_simyr2000_c230111.nc\"\n",
    "```\n",
    "\n",
    "We saw this already by `diff`ing the `env_run.xml files`, above, but now we'll use `.xmlquery` to see how these are different in each case."
   ]
  },
  {
   "cell_type": "code",
   "execution_count": null,
   "metadata": {},
   "outputs": [],
   "source": [
    "echo moving to base_case directory\n",
    "cd ~/scratch/NEON_cases/$base_case.transient/\n",
    "./xmlquery NEONSITE\n",
    "\n",
    "echo moving to new_case directory\n",
    "cd ~/scratch/NEON_cases/$new_case.transient/\n",
    "./xmlquery NEONSITE\n"
   ]
  },
  {
   "cell_type": "markdown",
   "metadata": {},
   "source": [
    "You can also see what **parameter file** is being used for your case.  Since we haven't changed this, the model just points to the default CTSM5.1 parameter file."
   ]
  },
  {
   "cell_type": "code",
   "execution_count": null,
   "metadata": {},
   "outputs": [],
   "source": [
    "cat ~/scratch/NEON_cases/$base_case.transient/CaseDocs/lnd_in | grep paramfile\n",
    "cat ~/scratch/NEON_cases/$new_case.transient/CaseDocs/lnd_in | grep paramfile\n"
   ]
  },
  {
   "cell_type": "markdown",
   "metadata": {},
   "source": [
    "The land model is using site specific initial conditions and surface data for each NEON site.  How else are our simulations different?  \n",
    "\n",
    "## 2.3 `datm.streams.xml` \n",
    "\n",
    "**What are the differences between these two cases**, based on their `datm.streams.xml` files?\n",
    "\n",
    "The answer here isn't very interesting... the two cases likely point to different input data reflecting local meterology at each site.  It's still helpful to know about how these files are set up.\n"
   ]
  },
  {
   "cell_type": "code",
   "execution_count": null,
   "metadata": {},
   "outputs": [],
   "source": [
    "cd ~/scratch/NEON_cases/\n",
    "cat $new_case.transient/CaseDocs/datm.streams.xml | head -20"
   ]
  },
  {
   "cell_type": "markdown",
   "metadata": {},
   "source": [
    "*Which aspects of this file could be changed for a different site?*\n",
    "\n",
    "You can see check with this code *(HINT: you'll have to paste it in the command line on into a code cell).*\n",
    "\n",
    "> ```\n",
    "> diff $new_case.transient/CaseDocs/datm.streams.xml         $base_case.transient/CaseDocs/datm.streams.xml \n",
    "> ```\n",
    "\n",
    "<div class=\"alert alert-block alert-info\" markdown='1'>\n",
    "<b>REMEMBER:</b> \n",
    "\n",
    "- The <i>datm.stream.xml</i> file points to all of the atmospheric boundary conditions (input data) that are being read in for a case. \n",
    "- Like your <i>lnd_in</i> files, it can be found in the CaseDocs directory, or in your run directory. \n",
    "- You cannot directly modifiy this file, instead users can modify <i>user_nl_datm_streams</i>.  \n",
    "\n",
    "</div>\n",
    "\n",
    "---\n",
    "\n",
    "<div class=\"alert alert-success\">\n",
    "<strong>Congratulations!</strong> \n",
    "    \n",
    "You have now cloned a CTSM case to run a simulation at a new NEON tower site, check that yoe can locate the history files from this site and try to plot up some of these data for these new results.\n",
    "</div>\n",
    "\n",
    "---"
   ]
  },
  {
   "cell_type": "markdown",
   "metadata": {},
   "source": [
    "# 3. Create an experimental clone:\n",
    "\n",
    "<h4> This step is optional, but provides helpful information that you may use in your own workflow </h4>\n",
    "\n",
    "So far, everything we've done has been *out of the box* looking at different NEON sites, but without changing anything in the underlying model code.  You may want to do model experiments where you alter the vegetation growing at a site, modify some of the model parameters, modify namelist settings, change the input data, or even alter model code.  We'll get into how do make these changes later, but for now we'll get a test case set up.\n",
    "\n",
    "Since we're already run an out of the box case for KONZ, we can create a paired experimental case at the same site.\n",
    "\n",
    "<div class=\"alert alert-block alert-info\" markdown='1'>\n",
    "<b>RECOMMENDATION:</b> use a short, descriptive name for your experiment, it will help you down the road.\n",
    "</div>\n",
    "\n",
    "\n",
    "This example below just builds on what you've already been doing:"
   ]
  },
  {
   "cell_type": "code",
   "execution_count": null,
   "metadata": {},
   "outputs": [],
   "source": [
    "# Change the 4-character NEON site below.\n",
    "cd ~/CTSM/tools/site_and_regional\n",
    "export base_case='KONZ'   # should match the base case you created in 1b\n",
    "export new_case='KONZ'    # the new site you want to run\n",
    "\n",
    "# then run_neon\n",
    "./run_neon.py --neon-sites $new_case  \\\n",
    "   --output-root ~/scratch/NEON_cases \\\n",
    "   --base-case ~/scratch/NEON_cases/$base_case \\\n",
    "   --overwrite \\\n",
    "   --experiment test1 \\\n",
    "   --setup-only  "
   ]
  },
  {
   "cell_type": "markdown",
   "metadata": {},
   "source": [
    "Two new flags are being used here:\n",
    "- `--experiment` just appends the case name for the experiment\n",
    "- `--setup-only` will create the case, but not submit it.\n",
    "\n",
    "<div class=\"alert alert-block alert-warning\" markdown='1'>\n",
    "\n",
    "<b>WARNING:</b> Because we're also using the `--base-case` flag, we won't have to rebuild our experimental case.  This may not be advisable if you're modifying model code.\n",
    "\n",
    "</div>\n",
    "\n",
    "At this point your experimental case has been created.  \n",
    "- What is the case name?\n",
    "- Can you navigate to your case directory?\n",
    "- Are there any differences between this experimental case and the base case you already ran?\n",
    "- Can you find the datm input data for your case?\n",
    "- Is the model going to use an initial conditions file?\n",
    "- Where is the surface dataset that's being used?\n",
    "- Can you find the parameter file for your case?\n",
    "\n",
    "**Extra Credit**\n",
    "- What changes may you like to make to the model in this new experimental case?"
   ]
  },
  {
   "cell_type": "code",
   "execution_count": null,
   "metadata": {},
   "outputs": [],
   "source": []
  }
 ],
 "metadata": {
  "kernelspec": {
   "display_name": "Bash",
   "language": "bash",
   "name": "bash"
  },
  "language_info": {
   "codemirror_mode": "shell",
   "file_extension": ".sh",
   "mimetype": "text/x-sh",
   "name": "bash"
  }
 },
 "nbformat": 4,
 "nbformat_minor": 4
}
