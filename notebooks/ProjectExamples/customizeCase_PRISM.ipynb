{
 "cells": [
  {
   "cell_type": "markdown",
   "metadata": {
    "tags": []
   },
   "source": [
    "# Customize your case: PRISM precipitation\n",
    "We set up a special way to run_neon with PRISM precipitation data.\n",
    "\n",
    "**This is an optional tutorial** it's a little bit more advanced, but it will help you think about how to modify the model configuration to run new sites or model experiments.  \n",
    "\n",
    "The `run_neon` script we used in the [introductory tutorial 1b](1b_NEON_Simulation_Intro.ipynb) created and ran a base case as well as a `.transient` case.   Here we'll also be adding an experimental `.PRISM.transient` case that reads in an alternative precipitation dataset from PRISM. \n",
    "\n",
    "---\n",
    "\n",
    "## In this tutorial\n",
    "\n",
    "The tutorial has several components. Below you will find steps to: \n",
    "1. Set up and run a simulation\n",
    "\n",
    "*Extra credit* \n",
    "\n",
    "2. Create another clone for an experiment you're hoping to do."
   ]
  },
  {
   "cell_type": "markdown",
   "metadata": {},
   "source": [
    "<div class=\"alert alert-block alert-warning\">\n",
    "\n",
    "<b>NOTICE:</b> If you're running this notebook through the NCAR JupyterHub login, you need to be on a Cheyenne login node (NOT Casper).  \n",
    "\n",
    "</div>\n",
    "\n",
    "***\n",
    "\n",
    "#### Set up your environment\n",
    "It is important in order to have all the tools and packages you need to run simulations.\n",
    "\n",
    "The following code **is needed** if you're running in CESM-lab in the cloud."
   ]
  },
  {
   "cell_type": "code",
   "execution_count": null,
   "metadata": {},
   "outputs": [],
   "source": [
    "cp -r /opt/ncar/ctsm ~/CTSM"
   ]
  },
  {
   "cell_type": "markdown",
   "metadata": {},
   "source": [
    "*The code below **is not** needed in the cloud*.\n",
    "\n",
    "<div class=\"alert alert-block alert-info\">\n",
    "   \n",
    "<b>TIP:</b> <i>If you're running on Cheyenne</i>, you may need to uncomment the the following two lines of code. This will set up your conda environment correctly.\n",
    "\n",
    "<b>This is not required if your running CESM-Lab in the cloud.</b>\n",
    "\n",
    "</div>"
   ]
  },
  {
   "cell_type": "code",
   "execution_count": null,
   "metadata": {},
   "outputs": [],
   "source": [
    "#module purge\n",
    "#module load conda ncarenv"
   ]
  },
  {
   "cell_type": "markdown",
   "metadata": {},
   "source": [
    "<h1> 1. Create a new case </h1>\n",
    "\n",
    "## 1.1 Navigate to your source code"
   ]
  },
  {
   "cell_type": "code",
   "execution_count": null,
   "metadata": {},
   "outputs": [],
   "source": [
    "cd ~/CTSM/tools/site_and_regional"
   ]
  },
  {
   "cell_type": "markdown",
   "metadata": {},
   "source": [
    "## 1.2 Create a new case with `run_neon.py`\n",
    "\n",
    "\n",
    "The following code will:\n",
    "- create a new case\n",
    "- make a few modifications\n",
    "- submit the simulation\n",
    "\n",
    "**REMEMBER** PRISM cases can only be run for NEON sites in the lower 48 states (HI, AK, and PR won't work)"
   ]
  },
  {
   "cell_type": "code",
   "execution_count": null,
   "metadata": {},
   "outputs": [],
   "source": [
    "# Change the 4-character NEON site below.\n",
    "\n",
    "export neon_site='KONZ'   # This should likely be a site you've already run.\n",
    "export experiment='PRISM'"
   ]
  },
  {
   "cell_type": "code",
   "execution_count": null,
   "metadata": {},
   "outputs": [],
   "source": [
    "# then run_neon\n",
    "./run_neon.py --neon-sites $neon_site  \\\n",
    "   --output-root ~/scratch/NEON_cases \\\n",
    "   --experiment $experiment \\\n",
    "   --setup-only \\\n",
    "   --overwrite \\\n",
    "   --prism"
   ]
  },
  {
   "cell_type": "markdown",
   "metadata": {},
   "source": [
    "Since this doesn't always render correctly on websites, here the code from above\n",
    "\n",
    "```\n",
    "./run_neon.py --neon-sites $neon_site  \\\n",
    "   --output-root ~/scratch/NEON_cases \\\n",
    "   --experiment $experiment \\\n",
    "   --setup-only \\\n",
    "   --overwrite \\\n",
    "   --prism\n",
    "```\n",
    "Two new flags are being used here:\n",
    "- `--experiment` adds an additional string to our case name\n",
    "- `--setup-only` creates the case without running it\n",
    "- `--overwrite` will let you overwrite an existing case.  \n",
    "- `--prism` configures the case to use PRISM precipitation data  "
   ]
  },
  {
   "cell_type": "markdown",
   "metadata": {},
   "source": [
    "----\n",
    "# 2. Introduction to controling case configuration\n",
    "\n",
    "## 2.1 Setup and Build\n",
    "First, we'll setup and build our case manually\n",
    "\n",
    "NOTE: As before, this takes some time"
   ]
  },
  {
   "cell_type": "code",
   "execution_count": null,
   "metadata": {},
   "outputs": [],
   "source": [
    "cd ~/scratch/NEON_cases/${neon_site}.${experiment}.transient\n",
    "./case.setup\n",
    "./case.build"
   ]
  },
  {
   "cell_type": "markdown",
   "metadata": {},
   "source": [
    "## 2.2 What's different with my case?\n",
    "XML files are used to control how cases are configured \n",
    "\n",
    "Before digging in too we can start to see how our PRISM.transient case is different."
   ]
  },
  {
   "cell_type": "code",
   "execution_count": null,
   "metadata": {},
   "outputs": [],
   "source": [
    "diff env_run.xml ../${neon_site}.transient/env_run.xml "
   ]
  },
  {
   "cell_type": "code",
   "execution_count": null,
   "metadata": {},
   "outputs": [],
   "source": [
    "# These are the datm.streams for the PRISM.transient case, we'll just look at the end of the file\n",
    "cat CaseDocs/datm.streams.xml | tail -26"
   ]
  },
  {
   "cell_type": "markdown",
   "metadata": {},
   "source": [
    "\n",
    "**What are the differences between these two cases** based on their `env_run.xlm` and `datm.streams.xml` files?\n",
    "\n",
    "Where does the KONZ.transient case get it's precipitation data from?\n",
    "\n",
    "These .xml changes set up high-level control over how your simulation is run.  What are some of the specifics related to the land model?  We can see this by looking at our `lnd_in` file.\n",
    "\n",
    "---\n",
    "\n",
    "## 2.2 `lnd_in` \n",
    "\n",
    "**What are the differences between these two cases**, based on their `lnd_in` files?\n"
   ]
  },
  {
   "cell_type": "code",
   "execution_count": null,
   "metadata": {},
   "outputs": [],
   "source": [
    "cat CaseDocs/lnd_in | grep finidat"
   ]
  },
  {
   "cell_type": "markdown",
   "metadata": {},
   "source": [
    "This is not an initial conditions file from a PRISM simulation. We'll have to change this.\n",
    "\n",
    "<style> \n",
    "table td, table th, table tr {text-align:left !important;}\n",
    "</style>\n",
    "<div class=\"alert alert-block alert-info\">\n",
    "<b>REMEMBER:</b>\n",
    "    \n",
    "- The <i>lnd_in</i> file provides a high level summary of all the name list chagnes and files that are being used by CLM. \n",
    "- It can be found in the CaseDocs directory, or in your run directory. \n",
    "- You cannot directly modifiy the <i>lnd_in file</i>, instead users can modify <i>user_nl_clm</i>.\n",
    "\n",
    "</div>\n",
    "\n",
    "**Initial conditions dataset:** `finidat`\n",
    "  - These are initial conditions files that we created by spinning up the model.  \n",
    "  - Spin up requires starting the model from bare ground conditions (we call it a *coldstart*).\n",
    "  - Spin up takes a few hundred years of simulations so that ecosystem carbon and nitrogen pools acheive steady state conditions (e.g. average net ecosystem exchange equals zero).  \n",
    "  - Since this takes a long time, we provide initial conditions for you to start from.\n",
    "  - **This also means that if you change model parameterizations, input data, or anything else you ahve to spin up the model again!** \n",
    "\n",
    "---\n",
    "\n",
    "The `lnd_in` files are controlled by `user_nl_clm`.  We have to modify our user_nl_clm to point to the right initial conditions data"
   ]
  },
  {
   "cell_type": "markdown",
   "metadata": {},
   "source": [
    "## 2.3 Submit the case"
   ]
  },
  {
   "cell_type": "code",
   "execution_count": null,
   "metadata": {},
   "outputs": [],
   "source": [
    "echo \"finidat='/scratch/data/NEONv2/PRISM.restart/$neon_site.postad.clm2.r.0318-01-01-00000.nc'\" >> user_nl_clm\n",
    "\n",
    "#Then check it worked as intended\n",
    "./preview_namelists\n",
    "\n",
    "cat CaseDocs/lnd_in | grep finidat"
   ]
  },
  {
   "cell_type": "code",
   "execution_count": null,
   "metadata": {},
   "outputs": [],
   "source": [
    "./case.submit"
   ]
  },
  {
   "cell_type": "code",
   "execution_count": null,
   "metadata": {},
   "outputs": [],
   "source": [
    "# Check to see taht your case is running \n",
    "qstat -u $USER"
   ]
  },
  {
   "cell_type": "code",
   "execution_count": null,
   "metadata": {},
   "outputs": [],
   "source": [
    "cat CaseStatus | tail -10"
   ]
  },
  {
   "cell_type": "markdown",
   "metadata": {},
   "source": [
    "# 3. Create an experimental clone:\n",
    "\n",
    "<h4> This step is optional, but provides helpful information that you may use in your own workflow </h4>\n",
    "\n",
    "So far, everything we've done has been *out of the box* looking at different NEON sites, but without changing anything in the underlying model code.  You may want to do model experiments where you alter the vegetation growing at a site, modify some of the model parameters, modify namelist settings, change the input data, or even alter model code.  We'll get into how do make these changes later, but for now we'll get a test case set up.\n",
    "\n",
    "Since we're already run an out of the box case for KONZ, we can create a paired experimental case at the same site.\n",
    "\n",
    "<div class=\"alert alert-block alert-info\" markdown='1'>\n",
    "<b>RECOMMENDATION:</b> use a short, descriptive name for your experiment, it will help you down the road.\n",
    "</div>\n",
    "\n",
    "\n",
    "This example below just builds on what you've already been doing:"
   ]
  },
  {
   "cell_type": "code",
   "execution_count": null,
   "metadata": {},
   "outputs": [],
   "source": [
    "# Change the 4-character NEON site below.\n",
    "cd ~/CTSM/tools/site_and_regional\n",
    "export new_case='CPER'    # the new site you want to run\n",
    "\n",
    "# then run_neon\n",
    "./run_neon.py --neon-sites $new_case  \\\n",
    "   --output-root ~/scratch/NEON_cases/ \\\n",
    "   --base-case ~/scratch/NEON_cases/$neon_site.$experiment.transient \\\n",
    "   --experiment $experiment \\\n",
    "   --setup-only \\\n",
    "   --overwrite \\\n",
    "   --prism"
   ]
  },
  {
   "cell_type": "markdown",
   "metadata": {},
   "source": [
    "<div class=\"alert alert-block alert-warning\" markdown='1'>\n",
    "\n",
    "<b>WARNING:</b> Because we're also using the `--base-case` flag, we won't have to rebuild our experimental case.  This may not be advisable if you're modifying model code.\n",
    "\n",
    "</div>\n",
    "\n",
    "At this point your experimental case has been created.  \n",
    "- What is the case name?\n",
    "- Can you navigate to your case directory?\n",
    "- Are there any differences between this experimental case and the base case you already ran?\n",
    "- Can you find the datm input data for your case?\n",
    "- Is the model going to use an initial conditions file?\n",
    "- Where is the surface dataset that's being used?\n",
    "- Can you find the parameter file for your case?\n",
    "\n",
    "---\n",
    "\n",
    "Now we'll point to the correct restart file and submit the case"
   ]
  },
  {
   "cell_type": "code",
   "execution_count": null,
   "metadata": {},
   "outputs": [],
   "source": [
    "cd ~/scratch/NEON_cases/$new_case.$experiment.transient\n",
    "echo \"finidat='/scratch/data/NEONv2/PRISM.restart/$new_case.postad.clm2.r.0318-01-01-00000.nc'\" >> user_nl_clm\n",
    "\n",
    "#Then check it worked as intended\n",
    "./preview_namelists\n",
    "\n",
    "cat CaseDocs/lnd_in | grep finidat"
   ]
  },
  {
   "cell_type": "code",
   "execution_count": null,
   "metadata": {},
   "outputs": [],
   "source": [
    "cat CaseDocs/lnd_in | grep finidat\n",
    "./case.submit"
   ]
  },
  {
   "cell_type": "markdown",
   "metadata": {},
   "source": [
    "\n",
    "<div class=\"alert alert-success\">\n",
    "<strong>Congratulations!</strong> \n",
    "    \n",
    "You've created and run an experimental case that uses PRISM precipitation data instead of NEON precipitation\n",
    "    .\n",
    "</div>\n",
    "\n"
   ]
  },
  {
   "cell_type": "code",
   "execution_count": null,
   "metadata": {},
   "outputs": [],
   "source": []
  }
 ],
 "metadata": {
  "kernelspec": {
   "display_name": "Bash",
   "language": "bash",
   "name": "bash"
  },
  "language_info": {
   "codemirror_mode": "shell",
   "file_extension": ".sh",
   "mimetype": "text/x-sh",
   "name": "bash"
  }
 },
 "nbformat": 4,
 "nbformat_minor": 4
}
