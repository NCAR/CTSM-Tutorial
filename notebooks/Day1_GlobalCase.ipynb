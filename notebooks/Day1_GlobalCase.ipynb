{
 "cells": [
  {
   "cell_type": "markdown",
   "metadata": {},
   "source": [
    "# Tutorial 1: Running global CTSM simulations \n",
    "\n",
    "This tutorial is an introduction to running global scale simulations of the Community Terrestrial Systems Model (CTSM).  It will guide you through running a simulation and provides example visualization of simulation results. Once you complete the global simulation in this tutorial, you can use the `Global_Visualization_Tutorial` to explore the model data further.\n",
    "\n",
    "In the previous `NEON_Simulation_Tutorial` example many steps to run CLM were condensed into a single function. Here you'll how to create your own case, setup, build, and run the simulation. *These are the basic steps reqired to run CLM and modify the code to conduct model experiments*\n",
    "<br><br>\n",
    "\n",
    "### A few notes about the model:\n",
    "- There are several configuration options of CTSM, and throughout this tutorial we will use the Community Land Model (CLM) configuration which is the climate mode of CTSM. Throughout the rest of this tutorial, we refer to the model as CLM and will use version 5.1 with satelity phenology (**CLM5.1-SP**).\n",
    "\n",
    "- **Satelite phenology (or SP)** simulations prescribe he distribution of vegetation and its leaf area index (LAI). These SP simulations useful for understanding water and energy fluxes that are simulated by the model, as well as gross primary productivity (GPP). SP simulations focus on the *biogeophysics* of the model.  Accordingly, there is no *biogeochemistry* (i.e., carbon fluxes) in SP simulations downstream of GPP calculations. This simplification removes potential feedbacks or biases that may occur from plant allocation, autotrophic respiration, and turnover on simulated LAI. SP simulations can be conducted with CLM5.1-SP, or with CLM_FATES-SP.\n",
    "\n",
    "- **FATES** - the Functionally Assembled Terrestrial Ecosystem Simulator - is an external module which can run within a given “Host Land Model”, here we are using CLM.  This examples uses the satelite phenology scheme in FATES, one of the reduced complexity modes of FATES that helps to isolate representation of canopy processes like radiative transfer and photosynthesis. The full FATES model will allow researchers to investigate the influence of plant demographics and disturbance on ecosystem processes in a changing world with greater ecological realism than is possible with current vegetation model in CLM. FATES compsets are available in CLM.  \n",
    "<br><br>\n",
    "\n",
    "### Additional information:\n",
    "Additional information about CTSM and CLM is available [on the website](https://www.cesm.ucar.edu/models/cesm2/land/), including [technical documentation](https://escomp.github.io/ctsm-docs/versions/master/html/tech_note/index.html), a [user's guide](https://escomp.github.io/ctsm-docs/versions/master/html/users_guide/index.html), and a [quickstart guide](https://escomp.github.io/CESM/release-cesm2/quickstart.html#create-a-case) for running various model configurations beyond what is covered in this tutorial.\n",
    "\n",
    "Additional information about FATES is available [on the FATES github site](https://github.com/NGEET/fates). TODO ADD additional documentation here.\n",
    "<br><br>\n",
    "### Questions about this tutorial? \n",
    "- Please post them on the [CTSM forum in the CESM Bulletin Board](https://bb.cgd.ucar.edu/cesm/forums/ctsm-clm-mosart-rtm.134/). Note that this resource will require you to register and log in so that you can be notified of responses to your inquiries. \n",
    "- You can also file issues on the [NCAR CTSM-Tutorial GitHub repository](https://github.com/NCAR/CTSM-Tutorial-2022).\n",
    "***"
   ]
  },
  {
   "cell_type": "markdown",
   "metadata": {},
   "source": [
    "## In this tutorial\n",
    "\n",
    "The tutorial has several components. Below you will find steps to: \n",
    "1. Run an out-of-the-box CLM simulation using CLM_FATES-SP\n",
    "2. Locate model history files\n",
    "3. Basic visualization of model history files"
   ]
  },
  {
   "cell_type": "markdown",
   "metadata": {},
   "source": [
    "***\n",
    "**This tutorial uses a Jupyter Notebook.** A Jupyter Notebook is an interactive computing environment that enables the creation and sharing of documents that contain discrete cells of text or documentation and executable code, including plots. It allows users to access, run, and edit the code in a browser. To interact with this notebook:\n",
    "\n",
    "- Execute or \"run\" cells of executable code (cells denoted with '[ ]:') using the play button in the menu at the top (see below image)\n",
    "\n",
    "- The results of running code, such as plots, will appear below that cell\n",
    "\n",
    "- Each step must be followed in order, otherwise you may encounter errors\n",
    "\n",
    "![run cell](https://problemsolvingwithpython.com/02-Jupyter-Notebooks/images/run_cell.png)\n",
    "\n",
    "For more information on Jupyter notebooks please see the [Jupyter Notebook Quick Start Guide](https://jupyter-notebook-beginner-guide.readthedocs.io/en/latest/what_is_jupyter.html). \n",
    "***"
   ]
  },
  {
   "cell_type": "markdown",
   "metadata": {},
   "source": [
    "## Note This tutorial assumes that you've done your homework! \n",
    "\n",
    "If you haven't downloaded CTSM from the github repository you need to go back to the `NEON_Simulation_Tutorial` and do this first.\n",
    "***"
   ]
  },
  {
   "cell_type": "markdown",
   "metadata": {},
   "source": [
    "<h2> 1. Set up and run a simulation</h2>\n",
    "\n",
    "**CTSM can be run in 4 simple steps.** \n",
    "\n",
    "<h4>1.1 create a new case </h4>\n",
    "\n",
    "- *This step sets up a new simulation. It is the most complicated of these four steps because it involves making choices to set up the model configuration*\n",
    "\n",
    "#### 1.2 invoke case.setup\n",
    "- *This step configures the model so that it can compile*\n",
    "\n",
    "#### 1.3 build the executable\n",
    "- *This step compiles the model*\n",
    "\n",
    "#### 1.4 submit your run to the batch queue\n",
    "- *This step submits the model simulation to the cloud*"
   ]
  },
  {
   "cell_type": "markdown",
   "metadata": {},
   "source": [
    "***\n",
    "<h2> 1.1 create a new case</h2>"
   ]
  },
  {
   "cell_type": "code",
   "execution_count": 1,
   "metadata": {},
   "outputs": [
    {
     "name": "stdout",
     "output_type": "stream",
     "text": [
      "mkdir: cannot create directory ‘/glade/u/home/wwieder/clm_tutorial_cases’: File exists\n"
     ]
    }
   ],
   "source": [
    "# First, a one-time step to create a directory to store your experiment cases:\n",
    "# TODO, do I need the ! at the start of lines in the notebook?\n",
    "!mkdir ~/clm_tutorial_cases"
   ]
  },
  {
   "cell_type": "code",
   "execution_count": 2,
   "metadata": {},
   "outputs": [
    {
     "name": "stdout",
     "output_type": "stream",
     "text": [
      "/usr/bin/sh: line 0: cd: /glade/u/home/wwieder/ctsm51dev090/cime/scripts: No such file or directory\n"
     ]
    }
   ],
   "source": [
    "# Then, navigate to the scripts directory in the source code directory:\n",
    "# TODO ADJUST FOR DIRECTORY STRUCTURE IN THE CLOUD\n",
    "!cd /glade/u/home/$USER/ctsm51dev090/cime/scripts"
   ]
  },
  {
   "cell_type": "code",
   "execution_count": 3,
   "metadata": {},
   "outputs": [
    {
     "ename": "SyntaxError",
     "evalue": "invalid syntax (<ipython-input-3-e1b4457da5c1>, line 2)",
     "output_type": "error",
     "traceback": [
      "\u001b[0;36m  File \u001b[0;32m\"<ipython-input-3-e1b4457da5c1>\"\u001b[0;36m, line \u001b[0;32m2\u001b[0m\n\u001b[0;31m    ./create_newcase --case ~/clm_tutorial_cases/I2000_CTSM_FATES-SP --res f19_g17 --compset I2000Clm51Fates\u001b[0m\n\u001b[0m    ^\u001b[0m\n\u001b[0;31mSyntaxError\u001b[0m\u001b[0;31m:\u001b[0m invalid syntax\n"
     ]
    }
   ],
   "source": [
    "# Create a new case\n",
    "./create_newcase --case ~/clm_tutorial_cases/I2000_CTSM_FATES-SP --res f19_g17 --compset I2000Clm51Fates"
   ]
  },
  {
   "cell_type": "markdown",
   "metadata": {},
   "source": [
    "You should see an error message when you try to create this case.  \n",
    "\n",
    "Repeat the line above with the additional command suggested\n",
    "\n",
    "***\n",
    "## TODO \n",
    "shoud we just add the --run-unsupported from the start?\n",
    "./create_newcase --case ~/clm_tutorial_cases/I2000_CTSM_FATES-SP --res f19_g17 --compset I2000Clm51Fates --run-unsupported"
   ]
  },
  {
   "cell_type": "markdown",
   "metadata": {},
   "source": [
    "## TODO\n",
    "what's the best way to include information about parts needed for `./create_newcase`?\n",
    "\n",
    "[See slides 26-29](https://www.cgd.ucar.edu/events/2019/ctsm/files/practical1-lombardozzi.pdf)"
   ]
  },
  {
   "cell_type": "code",
   "execution_count": null,
   "metadata": {},
   "outputs": [],
   "source": []
  },
  {
   "cell_type": "code",
   "execution_count": null,
   "metadata": {},
   "outputs": [],
   "source": []
  },
  {
   "cell_type": "code",
   "execution_count": null,
   "metadata": {},
   "outputs": [],
   "source": []
  },
  {
   "cell_type": "code",
   "execution_count": null,
   "metadata": {},
   "outputs": [],
   "source": []
  },
  {
   "cell_type": "markdown",
   "metadata": {},
   "source": [
    "<br><br>\n",
    "The model is done running when you see the following line: \n",
    "\n",
    "\n",
    "> Submit job case.st_archive \n",
    "\n",
    "\n",
    "### Congratulations! You've created and run CLM for the NEON tower you selected.\n",
    "Follow the steps below to see a few example plots from simulated data. \n",
    "\n",
    "**Note:** If your model simulation did not complete, there will likely be an error message with more information. If you do not understand the error message, please post your question on the [CTSM forum in the CESM Bulletin Board](https://bb.cgd.ucar.edu/cesm/forums/ctsm-clm-mosart-rtm.134/).\n"
   ]
  },
  {
   "cell_type": "markdown",
   "metadata": {},
   "source": [
    "***\n",
    "<h4> Optional </h4>\n",
    "\n",
    "If you would like to see additional and more advanced options for running NEON tower site simulations, many are listed in the python script you just executed. You can use the `--help` option to see more. <p>\n",
    "\n",
    "*Executing the below cell is optional and will print options available options in the `run_neon` python script*:"
   ]
  },
  {
   "cell_type": "code",
   "execution_count": null,
   "metadata": {},
   "outputs": [],
   "source": [
    "run_neon --help"
   ]
  },
  {
   "cell_type": "markdown",
   "metadata": {},
   "source": [
    "------------\n",
    "\n",
    "#### Below are a few additional tips for running simulations: \n",
    "\n",
    " __Tip:__ You can run multiple neon sites at once by choosing multiple neon sites in the command line argument. For example:\n",
    ">\n",
    ">```\n",
    ">run_neon.py --neon-sites ABBY BART BLAN\n",
    ">```\n",
    "\n",
    "<br/>\n",
    "\n",
    " __Tip:__ Use the `--overwrite` option to overwrite existing case directories.\n",
    ">\n",
    ">If you run a simulation for a NEON site that you have previously simulated, you will see the following error:\n",
    ">```\n",
    ">Case already exists in /home/user/CLM-NEON/ABBY.transient, not overwritting.\n",
    ">```\n",
    ">The overwrite option (e.g., adding `--overwrite` to the end of the `run_neon` command) can be used to avoid this error. \n",
    "\n",
    "<br/>\n",
    "\n",
    " __Tip:__ You can run the above `run_neon` command in your terminal shell. You will need to specify the NEON site and the output-root path by replacing `<site>` and `<path>` below with the appropriate values:\n",
    "\n",
    ">```\n",
    ">run_neon.py --neon-sites <site> --output-root <path>\n",
    ">```\n",
    "\n",
    "<br/>\n",
    "    \n",
    " __Tip:__ The container will not overwrite existing files. If there are newer versions of a tutorial or input data you want to download, you must delete the existing tutorials or data first. You can do this by moving the files from the `Simulations` folder on your Desktop into the trash.\n",
    "    \n",
    "<br/>\n",
    "    \n",
    "**Note:** More information about setting up and modifying simulations, including changing model code, will be available in an upcoming tutorial. \n"
   ]
  },
  {
   "cell_type": "markdown",
   "metadata": {},
   "source": [
    "________\n",
    "<h2> 2. Explore CTSM model data </h2>\n",
    "\n",
    "*When your simulation completes, this step guides you through exploring the data.\n",
    "There are countless ways of analyzing and processing model data. \n",
    "The below steps step through where to find model data and creates a plot to visualize some model data.*\n",
    "***"
   ]
  },
  {
   "cell_type": "markdown",
   "metadata": {},
   "source": [
    "<h3> 2.1 Locate model data </h3>\n",
    "\n",
    "When a simulation completes, the data are stored in the `archive` directory. In this directory you will find files that include data for every day of the simulation, as well as files that average model variables monthly. <p>\n",
    "\n",
    "*Run the code below to see a subset of the files listed.*"
   ]
  },
  {
   "cell_type": "code",
   "execution_count": null,
   "metadata": {},
   "outputs": [],
   "source": [
    "!ls $HOME/archive/$site.transient/lnd/hist/*2018*.nc |head -20"
   ]
  },
  {
   "cell_type": "markdown",
   "metadata": {},
   "source": [
    "\n",
    "Notice that each line includes the location of the file (`/home/user/archive/{simulation_name}/lnd/hist/`) and file name. The file names are automatically generated and are composed of:\n",
    "* the simulation name, which includes:\n",
    "    * the NEON site\n",
    "    * the type of simulation \n",
    "        * The simulation you ran is \"transient\". This means the model was initialized and ran for the full length of available data. The initial conditions files for the transient tower simulations were created by cycling over 2018-2019 tower meteorological data. \n",
    "* the date of simulated data\n",
    "\n",
    "The files are saved in netcdf format (denoted with the `.nc` file extension), a file format commonly used for storing large, multi-dimensional scientific variables.\n",
    "Netcdf files are platform independent and self-describing; each file includes metadata that describes the data, including: **variables**, **dimensions**, and **attributes**. You can explore the files more in the NEON_Simple_Visualization_Tutorial\n",
    "\n",
    "The NEON tower simulations generate two types of files:\n",
    "* `*h0*`: Variables that are averaged monthly. One file is available for every month of the simulation. These files include hundreds of variables.\n",
    "* `*h1*`: Variables that are recorded every 30 minutes. Values are aggregated into one file for each day of the simulation. Each file includes 48 data points for selected variables.\n",
    "\n",
    "*Note that you can also find the model data in the 'Simulation' folder on your desktop, which was created as part of this tutorial.*\n",
    "****\n"
   ]
  },
  {
   "cell_type": "markdown",
   "metadata": {},
   "source": [
    "<h3>2.2 Visualize the output </h3>\n",
    "\n",
    "Below we create a plot of simulated soil temperature using a predefined function, `plot_soil_profile_timeseries`.\n",
    "\n",
    "\n",
    "The `plot_soil_profile_timeseries` function points to the simulated data files in your `archive` directory, extracts a variable (soil temperature, `TSOI`, in this case), and plots the soil profile. The y-axis shows soil depth and the x-axis shows time. Note that time is currently set for the year 2018. You can change the `year` variable below to plot different years from 2018 through 2020."
   ]
  },
  {
   "cell_type": "code",
   "execution_count": null,
   "metadata": {},
   "outputs": [],
   "source": [
    "from neon_utils import plot_soil_profile_timeseries\n",
    "sim_path = \"/home/user/archive/\"+neon_site+\".transient/lnd/hist/\"\n",
    "case_name = neon_site+\".transient.clm2\"\n",
    "year = 2018\n",
    "\n",
    "plot_soil_profile_timeseries(sim_path, neon_site, case_name, 'TSOI', year)"
   ]
  },
  {
   "cell_type": "markdown",
   "metadata": {},
   "source": [
    "You might also be interested in the soil moisture at this site. The `plot_soil_profile_timeseries` function can also plot soil moisture (`H2OSOI`). Run the below cell to see the soil moisture profile for 2018. You can change the `year` variable below to plot different years from 2018 through 2020."
   ]
  },
  {
   "cell_type": "code",
   "execution_count": null,
   "metadata": {},
   "outputs": [],
   "source": [
    "sim_path = \"/home/user/archive/\"+neon_site+\".transient/lnd/hist/\"\n",
    "case_name = neon_site+\".transient.clm2\"\n",
    "year = 2018\n",
    "\n",
    "plot_soil_profile_timeseries(sim_path, neon_site, case_name, 'H2OSOI', year)"
   ]
  },
  {
   "cell_type": "markdown",
   "metadata": {},
   "source": [
    "### Congratulations! \n",
    "You have now completed a NEON tower simulation, located the files, and made a plot from the simulation data.\n",
    "\n",
    "**Additional examples of visualizations and evaluation of your NEON simulation against NEON observations are available in the next tutorial, `NEON_Visualization_Tutorial`.**"
   ]
  },
  {
   "cell_type": "code",
   "execution_count": null,
   "metadata": {},
   "outputs": [],
   "source": []
  }
 ],
 "metadata": {
  "kernelspec": {
   "display_name": "Python [conda env:analysis]",
   "language": "python",
   "name": "conda-env-analysis-py"
  },
  "language_info": {
   "codemirror_mode": {
    "name": "ipython",
    "version": 3
   },
   "file_extension": ".py",
   "mimetype": "text/x-python",
   "name": "python",
   "nbconvert_exporter": "python",
   "pygments_lexer": "ipython3",
   "version": "3.7.3"
  }
 },
 "nbformat": 4,
 "nbformat_minor": 4
}
