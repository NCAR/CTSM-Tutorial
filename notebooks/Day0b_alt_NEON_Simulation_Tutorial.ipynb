{
 "cells": [
  {
   "cell_type": "markdown",
   "metadata": {},
   "source": [
    "# Tutorial 0b \n",
    "## *CTSM Simulations at NEON Tower Sites*\n",
    "\n",
    "This tutorial is an introduction to running the Community Terrestrial Systems Model (CTSM) at [NEON tower sites](https://www.neonscience.org/).  It will guide you through running a simulation and provides example visualization of the simulation results. If you want to dive deeper, after you complete a NEON tower simulation in this tutorial, you can use the [NEON_Visualization_Tutorial](https://github.com/NCAR/NEON-visualization) to explore observation and model data further.\n",
    "<br><br>\n",
    "\n",
    "![NEON Tower](../images/STER_tower.png)\n",
    "\n",
    "\n",
    "**A few notes about the model:** There are several configuration options of CTSM, and throughout this tutorial we will use the Community Land Model (CLM) configuration which is the climate and biogeochemistry mode of CTSM. Throughout the rest of this tutorial, we refer to the model as CLM and will use version 5.1 with active biogeochemistry (CLM5.1-BGC).\n",
    "\n",
    "Additional information about CTSM and CLM is available [on the website](https://www.cesm.ucar.edu/models/cesm2/land/), including [technical documentation](https://escomp.github.io/ctsm-docs/versions/master/html/tech_note/index.html), a [user's guide](https://escomp.github.io/ctsm-docs/versions/master/html/users_guide/index.html), and a [quickstart guide](https://escomp.github.io/CESM/release-cesm2/quickstart.html#create-a-case) for running various model configurations beyond what is covered in this tutorial.\n",
    "\n",
    "Specifically, this example runs a single point case with data from a flux tower that's part of the National Ecological Observatory Network (NEON).  You can find out more about the [NCAR-NEON collaboration at this website](https://github.com/NCAR/NEON-visualization).  This effort aims to links NCAR’s modeling capabilities with NEON’s measurement network through an NSF supported cyberinfrastructure project.\n",
    "\n",
    "**Questions about this tutorial?** Please post them on the [CTSM forum in the CESM Bulletin Board](https://bb.cgd.ucar.edu/cesm/forums/ctsm-clm-mosart-rtm.134/). Note that this resource will require you to register and log in so that you can be notified of responses to your inquiries. You can also file issues on the [CTSM tutorial 2022 GitHub repository](https://github.com/NCAR/CTSM-Tutorial-2022).\n",
    "***"
   ]
  },
  {
   "cell_type": "markdown",
   "metadata": {},
   "source": [
    "## In this tutorial\n",
    "\n",
    "The tutorial has several components. Below you will find steps to: \n",
    "1. Set up and run a simulation\n",
    "2. Locate CTSM model data\n",
    "3. Look at plots of simulated soil temperature and moisture data"
   ]
  },
  {
   "cell_type": "markdown",
   "metadata": {},
   "source": [
    "***\n",
    "<h2> 1.1 create a new case</h2>\n",
    "\n",
    "*Set up a new simulation*\n",
    "This step guides you through running a CLM model simulation for a NEON flux tower using meteorology observations from the tower. Here, the many steps to run CLM are condensed into a single function. Later we'll go over additional tutorials on modifying the model configuration, parameters, and code for different applications* <br>\n",
    "\n",
    "***\n",
    "\n",
    "## A bit about directories\n",
    "- **Case Directory:** This is a one-time step to create a case directory for your simulations.  Cases are where you define the model configuration (e.g., input data, namelist changes, and xml files). \n",
    "- **Run Directory:** When you create a case, the system also creates a run directory where model output is found (e.g., history, log, and restart files).  \n",
    "- **Archive directory:** After the model simulations are completed, history, log and restart files are moved to a seperate archive directory.  \n",
    "\n",
    "For convenience, all of these will be in the same place for our NEON simulations, but this doesn't need to always be true.\n",
    "\n",
    "<div class=\"alert alert-block alert-info\">\n",
    "   \n",
    "<b>TIP:</b> If you're running on Cheyenne, creating a softlink to scratch in your home directory is helpful.  \n",
    "    \n",
    "You can create this with the following: `ln -s /glade/scratch/$USER ~/scratch`\n",
    " \n",
    "</div>\n",
    "\n",
    "<div class=\"alert alert-block alert-warning\">\n",
    "\n",
    "<b>NOTE:</b>  This code cell below is set up in a bash kernel, which means you can excecutes commands just like in the command line of a terminal window, it may not render correctly if you're looking at this online, but we've copied the command in the NOTE below.\n",
    "    \n",
    "<b>TIP:</b>  Execute code by clicking in the cell below, and then either clicking the play button in the menu bar above, or pressing 'shift+enter'\n",
    "\n",
    "</div>\n",
    "\n",
    "---\n",
    "\n",
    "### 1.1.1 Create a case directory"
   ]
  },
  {
   "cell_type": "code",
   "execution_count": null,
   "metadata": {},
   "outputs": [],
   "source": [
    "mkdir ~/scratch/NEON_cases"
   ]
  },
  {
   "cell_type": "markdown",
   "metadata": {},
   "source": [
    "### 1.1.2 Navigate to your source code\n",
    "\n",
    "This is what you dowloaded in the previous `Day0a tutorial`.\n",
    "\n",
    "Specifically we're going to the place where the run_neon script can be found"
   ]
  },
  {
   "cell_type": "code",
   "execution_count": null,
   "metadata": {},
   "outputs": [],
   "source": [
    "cd ~/CTSM/tools/site_and_regional"
   ]
  },
  {
   "cell_type": "markdown",
   "metadata": {},
   "source": [
    "***\n",
    "<h2>1.2 Select a NEON tower site to simulate.</h2>\n",
    "\n",
    "NEON towers currently available for simulation include:  \n",
    "\n",
    ">Nearly all of them! except for NIWO and PUUM (which have data gaps that prevent us from running for a full calendar year).\n",
    "\n",
    "The [NEON website](https://www.neonscience.org/field-sites/explore-field-sites) describes tower sites in more detail.\n",
    "\n",
    "Before running the below code, keep in mind:\n",
    "- The executable code below selects the **KONZ** site for simulation. If you would like to simulate a different tower, select the NEON tower from the above list and change the 4-character site name inside the quotes below.\n",
    "- The site must be defined correctly so you do not get an error in the next step.\n",
    "    - use all capital letters \n",
    "    - double-check that the letters match one of the above site names\n"
   ]
  },
  {
   "cell_type": "code",
   "execution_count": null,
   "metadata": {},
   "outputs": [],
   "source": [
    "# Change the 4-character NEON site below.\n",
    "export site='KONZ'"
   ]
  },
  {
   "cell_type": "markdown",
   "metadata": {},
   "source": [
    "**If you're running on Cheyenne**, you may need to uncomment the the following two lines of code. \n",
    "\n",
    "This will help set up your conda environment correctly.\n"
   ]
  },
  {
   "cell_type": "code",
   "execution_count": null,
   "metadata": {},
   "outputs": [],
   "source": [
    "#module purge\n",
    "#module load conda ncarenv"
   ]
  },
  {
   "cell_type": "markdown",
   "metadata": {},
   "source": [
    "***\n",
    "<h3> 1.2.1 Create and run a NEON tower site simulation.</h3>  \n",
    "\n",
    "The executable code below runs a python script, `run_neon.py`. This script:\n",
    "\n",
    "* creates (`create_newcase`)\n",
    "* sets up (`case.setup`)\n",
    "* compiles (`case.build`)\n",
    "* runs (`case.submit`)\n",
    "    \n",
    "We'll go over all of these in more detail later.\n",
    "\n",
    "Bellow we'll run a simulation for the tower site you specified above for all years that tower meteorology data are available. The text in parentheses show the commands that are typically required to set up and run a simulation. These steps are automated for you in the `run_neon` script.\n",
    "\n",
    "Note that this step requires input data (~2.5GB) for the model simulation.  For the cloud environment, this data is predownloaded and ready to use.  If you're doing this tutorial in the single-user containerized CESM-Lab environment, downloading this data may take several minutes to complete, depending on your internet speeds, so please be patient.  Many things will print below the cell as data are downloaded and the model compiles. \n",
    "\n",
    "<style> \n",
    "table td, table th, table tr {text-align:left !important;}\n",
    "</style>\n",
    "<div class=\"alert alert-block alert-warning\">\n",
    "<b>NOTE:</b> You might see lines that say 'ERROR' or 'file not found'; this is ok if the simulation continues running to completion, and will be addressed in future changes to our data download process.\n",
    "</div>\n",
    "\n",
    "Run the command below. **Note that it will take several minutes without printing additional updates, so be patient!**  "
   ]
  },
  {
   "cell_type": "code",
   "execution_count": null,
   "metadata": {},
   "outputs": [],
   "source": [
    "./run_neon.py --neon-sites $site  --output-root ~/scratch/NEON_cases"
   ]
  },
  {
   "cell_type": "markdown",
   "metadata": {},
   "source": [
    "<style> \n",
    "table td, table th, table tr {text-align:left !important;}\n",
    "</style>\n",
    "<div class=\"alert alert-block alert-warning\">\n",
    "<b>NOTE:</b> If you're NOT running in the cloud you may have to do this on the command line with the following:\n",
    "    \n",
    "- `cd ~/CTSM/tools/site_and_regional`\n",
    "- `./run_neon.py --neon-sites $site --output-root ~/scratch/NEON_cases`\n",
    "    \n",
    "</div>"
   ]
  },
  {
   "cell_type": "markdown",
   "metadata": {},
   "source": [
    "<h2> 1.3 Check your job status</h2>\n",
    "\n",
    "At this point, your job is submitted, but jobs on shared systems like Cheyenne and the cloud often need to wait for resources.  You can check to see if your job is complete by running the 'qstat' command.\n",
    "\n",
    "Try that now in the following cell, and re-run this cell periodically until it no longer shows any output for you.  This will take around 25 minutes in total - about 5 for building the model, and 20 for running it for the 44 simulated months.  So grab a coffee or a snack, and check back after!\n",
    "\n",
    "The following cells cannot be executed until the model builds and is submitted.  You'll see the following from your `run_neon.py` command.\n",
    "```\n",
    "Submit job case.run\n",
    "Submit job case.st_archive\n",
    "```\n",
    "You can enter this on the command line of a terminal window, however, if you're impatient."
   ]
  },
  {
   "cell_type": "code",
   "execution_count": null,
   "metadata": {},
   "outputs": [],
   "source": [
    "qstat -u ${USER}"
   ]
  },
  {
   "cell_type": "markdown",
   "metadata": {},
   "source": [
    "---\n",
    "Once your jobs are complete (or show the 'C' state under the 'Use' column, which means complete), we can check the CaseStatus file to ensure there were no errors and it completed successfully.  To do this, we'll `tail` the end of the CaseStatus file:"
   ]
  },
  {
   "cell_type": "code",
   "execution_count": null,
   "metadata": {},
   "outputs": [],
   "source": [
    "tail  ~/scratch/NEON_cases/${site}.transient/CaseStatus"
   ]
  },
  {
   "cell_type": "markdown",
   "metadata": {},
   "source": [
    "You should see several lines, with the middle one saying `case.run success`.  \n",
    "\n",
    "Before that you'll see notifications about xml changes, case.setup, and case.submit, and case.run"
   ]
  },
  {
   "cell_type": "markdown",
   "metadata": {},
   "source": [
    "<div class=\"alert alert-success\">\n",
    "<strong>Congratulations!</strong> \n",
    "    \n",
    "You've created and run CLM for the NEON tower you selected.\n",
    "Follow the steps below to see a few example plots from simulated data.\n",
    "</div>\n",
    "\n",
    "**Note:** If your model simulation did not complete, there will likely be an error message with more information. If you do not understand the error message, please post your question on the [CTSM forum in the CESM Bulletin Board](https://bb.cgd.ucar.edu/cesm/forums/ctsm-clm-mosart-rtm.134/).\n"
   ]
  },
  {
   "cell_type": "markdown",
   "metadata": {
    "tags": []
   },
   "source": [
    "***\n",
    "<h4> Optional </h4>\n",
    "\n",
    "If you would like to see additional and more advanced options for running NEON tower site simulations, many are listed in the python script you just executed. You can use the `--help` option to see more. <p>\n",
    "\n",
    "*Executing the below cell is optional and will print options available options in the `run_neon` python script*:\n"
   ]
  },
  {
   "cell_type": "code",
   "execution_count": null,
   "metadata": {},
   "outputs": [],
   "source": [
    "./run_neon.py --help"
   ]
  },
  {
   "cell_type": "markdown",
   "metadata": {},
   "source": [
    "------------\n",
    "\n",
    "#### Below are a few additional tips for running simulations: \n",
    "\n",
    " __Tip:__ You can run multiple neon sites at once by choosing multiple neon sites in the command line argument. For example:\n",
    ">\n",
    ">```\n",
    ">./run_neon.py --neon-sites ABBY BART BLAN\n",
    ">```\n",
    "\n",
    "<br/>\n",
    "\n",
    " __Tip:__ Use the `--overwrite` option to overwrite existing case directories.\n",
    ">\n",
    ">If you run a simulation for a NEON site that you have previously simulated, you will see an error like the following:\n",
    ">```\n",
    ">Case already exists in /home/<user>/scratch/NEON_cases/ABBY.transient, not overwritting.\n",
    ">```\n",
    ">The overwrite option (e.g., adding `--overwrite` to the end of the `run_neon` command) can be used to avoid this error. \n",
    "\n",
    "\n",
    "<br/>\n",
    "\n",
    " __Tip:__ You can run the above `run_neon` command in your terminal shell. You will need to specify the NEON site and the output-root path by replacing `<site>` and `<path>` below with the appropriate values:\n",
    "\n",
    ">```\n",
    ">./run_neon.py --neon-sites <site> --output-root <path>\n",
    ">```\n",
    "\n",
    "<br/>\n",
    "    \n",
    " __Tip:__ The container will not overwrite existing files. If there are newer versions of a tutorial or input data you want to download, you must delete the existing tutorials or data first. You can do this by moving the files from the `NEON_cases` folder on your Desktop into the trash.\n",
    "    \n",
    "<br/>\n",
    "    \n",
    "**Note:** More information about setting up and modifying simulations, including changing model code, will be available in an upcoming tutorial. \n"
   ]
  },
  {
   "cell_type": "markdown",
   "metadata": {},
   "source": [
    "________\n",
    "<h1> 2. Explore CTSM model data </h1>\n",
    "\n",
    "*When your simulation completes, this step guides you through exploring the data.\n",
    "There are countless ways of analyzing and processing model data. \n",
    "The below steps step through where to find model data and creates a plot to visualize some model data.*\n",
    "***\n",
    "\n",
    "<h2> 2.1 directory structure </h2>\n",
    "The `run_neon.py` command does several thing.  We'll explore all this briefly.\n",
    "\n",
    "Move to your NEON_cases directory and see what's there."
   ]
  },
  {
   "cell_type": "code",
   "execution_count": null,
   "metadata": {},
   "outputs": [],
   "source": [
    "cd ~/scratch/NEON_cases\n",
    "ls "
   ]
  },
  {
   "cell_type": "markdown",
   "metadata": {},
   "source": [
    "Once your simulation is complete you should see the following directories\n",
    ">```\n",
    ">archive  KONZ  KONZ.transient\n",
    ">```\n",
    "\n",
    "Where did all this come from?  \n",
    "1. `run_neon.py` creates and builds a **base case**, `KONZ`\n",
    "2. `run_neon.py` then clones the base case to create and run the **transient case**, `KONZ.transient`.  \n",
    "   - This is the simulation's **case directory**, where the model configuration is set up.\n",
    "   - Inside the **case directory** you can also find the **run directory** where history files are written (and much more).\n",
    "3. After the transient case finishes, history files are moved to the `archive` directory.\n",
    "\n",
    "You're welcome to look around and see what files are here, but in the tutorial we're going to look at history files in the archive directory.\n",
    "\n",
    "<h2> 2.2 Locate model data </h2>\n",
    "\n",
    "When a simulation completes, the data are stored in the `archive` directory. In this directory you will find files that include data for every day of the simulation, as well as files that average model variables monthly. <p>\n",
    "\n",
    "*Run the code below to see a subset of the files listed.*"
   ]
  },
  {
   "cell_type": "code",
   "execution_count": null,
   "metadata": {},
   "outputs": [],
   "source": [
    "ls ~/scratch/NEON_cases/archive/$site.transient/lnd/hist/*2018*.nc |head -20"
   ]
  },
  {
   "cell_type": "markdown",
   "metadata": {},
   "source": [
    "\n",
    "Notice that each line includes the location of the file (`/home/{USER}/scratch/NEON_cases/archive/{simulation_name}/lnd/hist/`) and file name. The file names are automatically generated and are composed of:\n",
    "* the simulation name, which includes:\n",
    "    * the NEON site\n",
    "    * the type of simulation \n",
    "        * The simulation you ran is \"transient\". This means the model was initialized and ran for the full length of available data. The initial conditions files for the transient tower simulations were created by cycling over 2018-2021 tower meteorological data. \n",
    "* the date of simulated data\n",
    "\n",
    "The files are saved in netcdf format (denoted with the `.nc` file extension), a file format commonly used for storing large, multi-dimensional scientific variables.\n",
    "Netcdf files are platform independent and self-describing; each file includes metadata that describes the data, including: **variables**, **dimensions**, and **attributes**. You can explore the files more in the NEON_Simple_Visualization_Tutorial\n",
    "\n",
    "The NEON tower simulations generate two types of files:\n",
    "* `*h0*`: Variables that are averaged monthly. One file is available for every month of the simulation. These files include hundreds of variables.\n",
    "* `*h1*`: Variables that are recorded every 30 minutes. Values are aggregated into one file for each day of the simulation. Each file includes 48 data points for selected variables.\n",
    "\n",
    "*Note that you can also find the model data in the 'scratch/NEON_cases' folder on your desktop, which was created as part of this tutorial.*\n",
    "****\n"
   ]
  },
  {
   "cell_type": "markdown",
   "metadata": {},
   "source": [
    "<div class=\"alert alert-success\">\n",
    "<strong>Congratulations!</strong> \n",
    "    \n",
    "You have now completed a NEON tower simulation, located the files, and made a plot from the simulation data.\n",
    "</div>\n",
    "\n",
    "\n",
    "**Additional examples of visualizations and evaluation of your NEON simulation against NEON observations are available in the  [NEON Visualization Tutorial](https://ncar.github.io/ncar-neon-books/notebooks/NEON_Visualization_Tutorial.html).**\n"
   ]
  },
  {
   "cell_type": "code",
   "execution_count": null,
   "metadata": {},
   "outputs": [],
   "source": []
  }
 ],
 "metadata": {
  "kernelspec": {
   "display_name": "Bash",
   "language": "bash",
   "name": "bash"
  },
  "language_info": {
   "codemirror_mode": "shell",
   "file_extension": ".sh",
   "mimetype": "text/x-sh",
   "name": "bash"
  }
 },
 "nbformat": 4,
 "nbformat_minor": 4
}
