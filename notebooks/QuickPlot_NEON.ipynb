{
 "cells": [
  {
   "cell_type": "markdown",
   "id": "51f96e25-587b-4108-a7d9-34666f7a50e6",
   "metadata": {},
   "source": [
    "# Quick plots\n",
    "## *Simple plots to look at data quickly*\n",
    "\n",
    "This tutorial is an intdroduction to [xarray](https://docs.xarray.dev/en/stable/user-guide/terminology.html) and [matplotlib](https://matplotlib.org/stable/index.html). There's lot's more information to be found at the documentation for for these libraries.  Note, some users like using the seaborn library instead of matplotlib, we don't have examples using seaborn at this point.\n",
    "\n",
    "In this tutorial you will find steps and instructions to:\n",
    "\n",
    "1. Load datasets with xarray\n",
    "2. Manipulate data (different temporal averaging)\n",
    "3. Simple plotting examples (these are mostly going to be timeseries plots)\n",
    "4. Exporting data to other file types (*e.g., .csv files for users who don't want to work with python*).\n",
    "\n",
    "------\n",
    "\n",
    "**This tutorial uses a Jupyter Notebook.** \n",
    "For more information on Jupyter notebooks please see the information in the 1a_GitStarted tutorial, 1c_NEON_Simulation_Visualization tutorial, or visit the [Jupyter Notebook Quick Start Guide](https://jupyter-notebook-beginner-guide.readthedocs.io/en/latest/what_is_jupyter.html). \n",
    "\n",
    "***"
   ]
  },
  {
   "cell_type": "markdown",
   "id": "7edf783f-9442-4a1b-ab7c-e9455be3ac5b",
   "metadata": {},
   "source": [
    "# 1. Load Datasets\n",
    "\n",
    "## 1.1 Load Python Libraries\n",
    "We always start by loading in the libraries we're going to use for the script.  There are more libraries being loaded here than we'll likely use, but this list is a good one to get started for most of your plotting needs.\n"
   ]
  },
  {
   "cell_type": "code",
   "execution_count": 1,
   "id": "87882ecf-c37c-4b01-bfb4-24e56d671777",
   "metadata": {},
   "outputs": [],
   "source": [
    "import os\n",
    "import time\n",
    "import datetime\n",
    "\n",
    "import numpy as np\n",
    "import pandas as pd\n",
    "import xarray as xr\n",
    "\n",
    "from glob import glob\n",
    "from os.path import join\n",
    "\n",
    "import matplotlib\n",
    "import matplotlib.pyplot as plt\n",
    "import matplotlib.dates as mdates\n",
    "\n",
    "import calendar\n",
    "\n",
    "import tqdm\n",
    "import cftime\n",
    "from neon_utils import download_eval_files"
   ]
  },
  {
   "cell_type": "code",
   "execution_count": 2,
   "id": "d3039504-ae5d-4653-acac-44a402cef436",
   "metadata": {},
   "outputs": [
    {
     "name": "stdout",
     "output_type": "stream",
     "text": [
      "xarray 0.16.2\n"
     ]
    }
   ],
   "source": [
    "print('xarray '+xr.__version__) ##-- was working with 2023.1.0"
   ]
  },
  {
   "cell_type": "markdown",
   "id": "1db2ec48-9370-422a-a4e4-893bc39906e2",
   "metadata": {},
   "source": [
    "## 1.2 Point to history files \n",
    "\n",
    "### 1.2.1 Where are my simulation results?\n",
    "After your simulations finish, history files are all saved in your `/scratch/NEON_cases/archive/` directory\n",
    "\n",
    "We can print the cases we have to look at using bash magic, `%%bash` or `!` which turns the python cell block below into a bash cell.  "
   ]
  },
  {
   "cell_type": "code",
   "execution_count": 3,
   "id": "acf88bc1-a2ab-4ae5-bfcb-232cc5d6ad82",
   "metadata": {},
   "outputs": [
    {
     "name": "stdout",
     "output_type": "stream",
     "text": [
      "CPER.transient\n",
      "KONZ.transient\n",
      "TREE.transient\n",
      "WOOD.ad\n",
      "WOOD.EXP_test1.ad\n",
      "WOOD.EXP_test1.postad\n",
      "WOOD.postad\n"
     ]
    }
   ],
   "source": [
    "%%bash\n",
    "ls ~/scratch/NEON_cases/archive/"
   ]
  },
  {
   "cell_type": "markdown",
   "id": "7caf652c-e127-4cb8-89cb-a4423b29f2b4",
   "metadata": {},
   "source": [
    "*Note* you can accomplish the same thing with the following.\n",
    "```\n",
    "!ls ~/scratch/NEON_cases/archive/\n",
    "```\n",
    "---\n",
    "\n",
    "### 1.2.2 Point to the data folder with history files \n",
    "**We'll set the following:**\n",
    "- site to look at; \n",
    "- path to our archive directory;\n",
    "- directory with input data (where history files are found).\n",
    "By doing this more generally, it makes the script easier to modify for different sites."
   ]
  },
  {
   "cell_type": "code",
   "execution_count": 12,
   "id": "44e3bee8-fa6b-4c37-ae55-f62151640598",
   "metadata": {},
   "outputs": [
    {
     "data": {
      "text/plain": [
       "'~/scratch/NEON_cases/archive/CPER.transient/lnd/hist'"
      ]
     },
     "execution_count": 12,
     "metadata": {},
     "output_type": "execute_result"
    }
   ],
   "source": [
    "neon_site = 'CPER'  #NEON site we're going to look at\n",
    "archive = '~/scratch/NEON_cases/archive/'  #Path to the directory with archived cases\n",
    "data_folder = archive + neon_site + '.transient/lnd/hist'  #directory with input data we're going to open\n",
    "data_folder"
   ]
  },
  {
   "cell_type": "code",
   "execution_count": 13,
   "id": "731421f1-37df-4350-8dc2-ded35a47cf3b",
   "metadata": {},
   "outputs": [
    {
     "data": {
      "text/plain": [
       "[]"
      ]
     },
     "execution_count": 13,
     "metadata": {},
     "output_type": "execute_result"
    }
   ],
   "source": [
    "glob(os.path.join(data_folder,'*.nc'))"
   ]
  },
  {
   "cell_type": "markdown",
   "id": "70d25741-5010-496f-b61a-f15e1c135989",
   "metadata": {},
   "source": [
    "**Is this the path for input data, `data_folder`, correct?** *HINT:* You can check in the terminal window or using bash magic.\n",
    "\n",
    "---\n",
    "\n",
    "### 1.2.3 Preprocess function\n",
    "Next we'll set up a preprocess function to limit the number of variables we're reading in.  \n",
    "\n",
    "This is an xarray feature that helps save time (and memory resources).\n"
   ]
  },
  {
   "cell_type": "code",
   "execution_count": null,
   "id": "0da120ec-d34d-4854-b4bb-6ba28bcc860e",
   "metadata": {},
   "outputs": [],
   "source": []
  },
  {
   "cell_type": "code",
   "execution_count": 18,
   "id": "7f2a23fe-7273-4370-8f2c-fe3dfad5029e",
   "metadata": {},
   "outputs": [],
   "source": [
    "# -- read only these variables from the whole netcdf files\n",
    "def preprocess (ds):\n",
    "    variables = ['FCEV', 'FCTR', 'FGEV','FSH','GPP','FSA','FIRA','AR','HR','ELAI']\n",
    "\n",
    "    ds_new= ds[variables]\n",
    "    return ds_new\n"
   ]
  },
  {
   "cell_type": "markdown",
   "id": "3919e8c9-4c08-485f-9e01-8c42f6b5ddad",
   "metadata": {},
   "source": [
    "### 1.2.4 Read in the data"
   ]
  },
  {
   "cell_type": "code",
   "execution_count": 38,
   "id": "617ea958-499e-4dda-92da-8e531b152fe0",
   "metadata": {},
   "outputs": [
    {
     "name": "stdout",
     "output_type": "stream",
     "text": [
      "[]\n",
      "[]\n",
      "[]\n",
      "[]\n",
      "All simulation files for all years: [ 0 files]\n"
     ]
    }
   ],
   "source": [
    "years = [\"2018\",\"2019\",\"2020\",\"2021\"]\n",
    "neon_site = 'CPER'\n",
    "sim_files = []\n",
    "for year in years:\n",
    "    sim_path = \"~/scratch/NEON_cases/archive/CPER.transient/lnd/hist/\"\n",
    "    print(sorted(glob(join(sim_path,neon_site+\".transient.clm2.h1.\"+year+\"*.nc\"))))\n",
    "    sim_files.extend(sorted(glob(join(sim_path,neon_site+\".transient.clm2.h1.\"+year+\"*.nc\"))))\n",
    "\n",
    "print(\"All simulation files for all years: [\", len(sim_files), \"files]\")\n",
    "        "
   ]
  },
  {
   "cell_type": "code",
   "execution_count": 48,
   "id": "aee5a387-f155-4fe8-a6e8-bfe2f95a2f35",
   "metadata": {},
   "outputs": [
    {
     "data": {
      "text/plain": [
       "[]"
      ]
     },
     "execution_count": 48,
     "metadata": {},
     "output_type": "execute_result"
    }
   ],
   "source": [
    "glob(os.path.join(sim_path, '*'))\n",
    "#!ls ~/scratch/NEON_cases/archive/CPER.transient/lnd/hist/*h1*.nc"
   ]
  },
  {
   "cell_type": "code",
   "execution_count": 23,
   "id": "8ecd9859-fb98-470d-8cbf-fbeed70302f5",
   "metadata": {},
   "outputs": [
    {
     "name": "stdout",
     "output_type": "stream",
     "text": [
      "---------------------------\n",
      "Reading in data for CPER\n"
     ]
    },
    {
     "data": {
      "text/plain": [
       "'\\nprint(\"All simulation files for all years: [\", len(sim_files), \"files]\")\\nstart = time.time()\\n\\nds_ctsm = xr.open_mfdataset(sim_files, decode_times=True, combine=\\'by_coords\\',preprocess=preprocess)\\nds_ctsm = fix_time (ds_ctsm)\\n\\nend = time.time()\\nprint(\"Reading all simulation files took:\", end-start, \"s.\")\\n'"
      ]
     },
     "execution_count": 23,
     "metadata": {},
     "output_type": "execute_result"
    }
   ],
   "source": [
    "years = [\"2018\",\"2019\",\"2020\",\"2021\"]\n",
    "\n",
    "start_site = time.time()\n",
    "\n",
    "print ('---------------------------')\n",
    "print (\"Reading in data for \"+neon_site)\n",
    "sim_files =[]\n",
    "for year in years:\n",
    "    sim_files.extend(sorted(glob(join(din,neon_site+\".transient.clm2.h1.\"+year+\"*.nc\"))))\n",
    "\n",
    "sim_files\n",
    "'''\n",
    "print(\"All simulation files for all years: [\", len(sim_files), \"files]\")\n",
    "start = time.time()\n",
    "\n",
    "ds_ctsm = xr.open_mfdataset(sim_files, decode_times=True, combine='by_coords',preprocess=preprocess)\n",
    "ds_ctsm = fix_time (ds_ctsm)\n",
    "\n",
    "end = time.time()\n",
    "print(\"Reading all simulation files took:\", end-start, \"s.\")\n",
    "'''"
   ]
  },
  {
   "cell_type": "code",
   "execution_count": 29,
   "id": "9038c557-6398-4c07-8d90-2d0a981376a4",
   "metadata": {},
   "outputs": [
    {
     "data": {
      "text/plain": [
       "[]"
      ]
     },
     "execution_count": 29,
     "metadata": {},
     "output_type": "execute_result"
    }
   ],
   "source": [
    "sorted(glob(join(din,neon_site+\".transient.clm2.h1.*.nc\")))"
   ]
  },
  {
   "cell_type": "code",
   "execution_count": 31,
   "id": "828f58a9-2580-43a3-af0c-be3e0e3ba3dd",
   "metadata": {},
   "outputs": [
    {
     "data": {
      "text/plain": [
       "[]"
      ]
     },
     "execution_count": 31,
     "metadata": {},
     "output_type": "execute_result"
    }
   ],
   "source": [
    "sorted(glob(join(din,neon_site+\".transient.clm2.h1.*.nc\")))"
   ]
  },
  {
   "cell_type": "code",
   "execution_count": null,
   "id": "2c8499b1-dc88-4319-9977-349dfeb0bb8a",
   "metadata": {},
   "outputs": [],
   "source": []
  }
 ],
 "metadata": {
  "kernelspec": {
   "display_name": "Python [conda env:miniconda3-ctsm-py]",
   "language": "python",
   "name": "conda-env-miniconda3-ctsm-py-py"
  },
  "language_info": {
   "codemirror_mode": {
    "name": "ipython",
    "version": 3
   },
   "file_extension": ".py",
   "mimetype": "text/x-python",
   "name": "python",
   "nbconvert_exporter": "python",
   "pygments_lexer": "ipython3",
   "version": "3.7.9"
  }
 },
 "nbformat": 4,
 "nbformat_minor": 5
}
