{
 "cells": [
  {
   "cell_type": "markdown",
   "id": "e8c10b43-9869-4425-be27-2dbfbc38803b",
   "metadata": {},
   "source": [
    "## Day 3 On your own:\n",
    "### *Sharing your changes with others & pushing changes back to your GitHub Repository*\n",
    "*Note: If you plan to contribute your code developments to CTSM or the CTSM-Tutorial, you will need to use these optional steps to share your code with CTSM model developers. If you already have a GitHub account and have a CTSM fork, start at step 2.*\n",
    "\n",
    "So far, we made a code change and saved it to a `local` branch. In reality, we usually want/need to push our changes back to GitHub so our collaborators can see, comment, or use our code modifications. \n",
    "Imagine saving your progress in a video game or in a Word document on a local computer. If you use a different computer, you can not load your progress. However, if you save your video game progress or your Word document on the cloud, you can easily access it from any computer. Nowadays, video games save your progress via a profile/account and Word documents can be saved and shared through Google or Dropbox accounts. \n",
    "\n",
    "Similarly, **you need to create an account on GitHub to be able to share your changes** so:\n",
    "- you can access your code and changes from anywhere.\n",
    "- you can share with collaborators. \n",
    "- you can contribute back to CTSM tutorial repository. \n",
    "\n",
    "### 1. Create a GitHub account\n",
    "\n",
    "Visit the [GitHub website](github.com) and create an account if you don't already one. You can skip step this if you already have a GitHub account. \n",
    "\n",
    "\n",
    "### 2. Create a fork from CTSM-Tutorial-2022 repository\n",
    "You don't have access to write directly to the main CTSM tutorial repository (that right is reserved for the tutorial developers), so you need to create your own copy of the repository to save your changes. For this, you will fork the CTSM tutorial repository.\n",
    "\n",
    "<div class=\"alert alert-info\">\n",
    "  <strong> NOTE: </strong> \n",
    "    A fork is a copy of a repository. \"Fork\"ing a repository is similar to creating a branch in that it allows you to freely experiment with changes without affecting the original project. However, we recommend using your CTSM fork as an unmodified copy of CTSM tutorial repository and making changes using branches.\n",
    "</div>\n",
    "\n",
    "#### To Do: Create a fork\n",
    "You can create your own fork of the CTSM tutorial repository by using the fork button in the upper right corner of the CTSM tutorial reository page.\n",
    "\n",
    "- Login to your GitHub account.\n",
    "- Navigate to the original [CTSM tutorial repository](https://github.com/NCAR/CTSM-Tutorial-2022).\n",
    "- Use the `fork` button to create a fork of CTSM repository in your account\n",
    "**NOTE:** The image below is from the CTSM repository, but the GitHub interface looks the same for the tutorial repository.\n",
    "\n",
    "![image3.png](https://github.com/NCAR/CTSM-Tutorial-2022/raw/main/images/fork_image.png)\n",
    "\n",
    "\n",
    "Your forked repository will be under your account name:\n",
    "\n",
    "https://github.com/YOUR-USER-NAME/CTSM-Tutorial-2022\n",
    "\n",
    "For example, for the username (wwieder) the forked repo is:\n",
    "\n",
    "https://github.com/wwieder/CTSM-Tutorial-2022\n",
    "\n",
    "You can make any modifications you'd like to your forked repository. Note that you only have to fork a respository once -- it will always be connected to your GitHub account unless you delete it.\n",
    "\n",
    "### 3. Pushing your changes to the outside world:\n",
    "To start, connect your forked repository to the computing system you are using. You can do so by using the following:\n",
    "\n",
    "<div class=\"alert alert-block alert-danger\">\n",
    "\n",
    "<b>WARNING!</b> \n",
    "    \n",
    "Please replace \"YOUR_USER_NAME\" in the code below with your own GitHub username (created in step 1).\n",
    "</div>"
   ]
  },
  {
   "cell_type": "code",
   "execution_count": null,
   "id": "8199e4b0-f584-4f98-bf3e-e06f2bcad4e0",
   "metadata": {},
   "outputs": [],
   "source": [
    "git remote add YOUR_USER_NAME https://github.com:YOUR_USER_NAME/CTSM-Tutorial-2022.git"
   ]
  },
  {
   "cell_type": "markdown",
   "id": "2795462b-5098-436d-ba81-737cdd9633f9",
   "metadata": {},
   "source": [
    "Finally, push your changes to the remote repository. Note that 'pushing' the changes makes the changes visible to anyone who looks at your GitHub repository, including your collaborators."
   ]
  },
  {
   "cell_type": "code",
   "execution_count": null,
   "id": "de521a1a-969e-4288-a13a-c5901c64a36c",
   "metadata": {},
   "outputs": [],
   "source": [
    "git add -a\n",
    "git commit -m 'all my notebook changes'\n",
    "git push YOUR_USER_NAME "
   ]
  },
  {
   "cell_type": "markdown",
   "id": "8e2b518c-b5f2-4c2b-8608-c76a7eace5c4",
   "metadata": {},
   "source": [
    "To see your changes now you can go to your fork and look for your 'main' branch on [github.com](github.com). You should be able to see your recent changes."
   ]
  },
  {
   "cell_type": "markdown",
   "id": "56b1a922-2416-479d-84bd-c1a866863c11",
   "metadata": {},
   "source": []
  },
  {
   "cell_type": "code",
   "execution_count": null,
   "id": "118d05b0-611d-4615-90f5-01d35d79ded0",
   "metadata": {},
   "outputs": [],
   "source": []
  }
 ],
 "metadata": {
  "kernelspec": {
   "display_name": "Bash",
   "language": "bash",
   "name": "bash"
  },
  "language_info": {
   "codemirror_mode": "shell",
   "file_extension": ".sh",
   "mimetype": "text/x-sh",
   "name": "bash"
  }
 },
 "nbformat": 4,
 "nbformat_minor": 5
}
