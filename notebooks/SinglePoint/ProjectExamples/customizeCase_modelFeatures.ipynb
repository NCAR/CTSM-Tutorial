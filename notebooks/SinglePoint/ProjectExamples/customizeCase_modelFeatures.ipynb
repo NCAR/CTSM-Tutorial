{
 "cells": [
  {
   "cell_type": "markdown",
   "metadata": {
    "tags": []
   },
   "source": [
    "# Customize your case: Controling model features\n",
    "## *Customizing your case with namelist changes & spinning up the model*\n",
    "\n",
    "**This is an optional tutorial** and provides some additional guidance for creating an experimental clone for a NEON case in CTSM and spinning up the model.\n",
    "\n",
    "We're going to move kind of quickly through some material that's already covered in the tutorial on [cloning a NEON case](./1c_NEON_Clone_Case.ipynb). It may be helpful to refer back to this tutorial if you have questions or want more information about creating an experimental clone.\n",
    "\n",
    "<br>\n",
    "\n",
    "---\n",
    "## In this tutorial\n",
    "\n",
    "1. Create a new base case for a NEON site that you've already run.\n",
    "2. Customize your case with namelist changes.\n",
    "3. Learn a bit more about spinup. \n",
    "\n",
    "---\n",
    "### First let's start with a bit of background.\n",
    "CLM has different features that can be turned on or off with namelist changes.  Some of these features represent alternative hypotheses about how different aspects of how the land works. The different options have alternative model structure and parameterizations for particular processes that are controlled with namelist flags. These include:\n",
    "- FATES vs. 'BigLeaf' vegetation\n",
    "- Medlyn vs. Ball-Berry stomatal conductance\n",
    "- CENTURY vs. MIMICS soil biogeochemistry \n",
    "- Different soil moisture stress formulations (below)\n",
    "- an lots more\n",
    "\n",
    "*Why would you want to use this?*\n",
    "\n",
    "We noticed that soil moisture profiles in CLM have an odd feature where soil moisture is higher in surface soils than in the sub surface.  Why would this happen?\n",
    "![moisture plot](../../images/WOOD_H2OSOI.png)\n",
    "\n",
    "Plant hydraulic stress (or **PHS**) was introduced in CLM5.  You can [learn more about PHS in this paper](https://doi.org/10.1029/2018MS001500), where Daniel Kennedy and co-authors mentioned hydraulic redistribution of soil water by plant roots. This happens in the real world too and is a pretty neat feature of PHS. Could hydraulic redistribution also be keeping surface soils in CLM too wet? To address this question we'll do a simple model experiment where we turn off PHS. This will revert back to the **BTRAN** formulation of soil moisture stress that was used in previous versions of CLM. \n",
    "\n",
    "We can turn of PHS with a simple namelist modification, but since this will change answers in the model, we also need to spin up the model again to generate new initial conditions with PHS off. "
   ]
  },
  {
   "cell_type": "markdown",
   "metadata": {},
   "source": [
    "<div class=\"alert alert-block alert-warning\">\n",
    "\n",
    "<b>NOTICE:</b> If you're running this notebook through the NCAR JupyterHub login, you need to be on a Cheyenne login node (NOT Casper).  \n",
    "\n",
    "</div>\n",
    "\n",
    "---\n",
    "\n",
    "### Set up environment\n",
    "It is important in order to have all the tools and packages you need to run simulations. \n",
    "\n",
    "The following code **is needed** if you're running in CESM-lab in the cloud, you only have to do this once.\n"
   ]
  },
  {
   "cell_type": "code",
   "execution_count": null,
   "metadata": {},
   "outputs": [],
   "source": [
    "# cp -rp /opt/ncar/ctsm/ ~/CTSM"
   ]
  },
  {
   "cell_type": "markdown",
   "metadata": {},
   "source": [
    "*The code below **is not** needed in the cloud*.\n",
    "\n",
    "<div class=\"alert alert-block alert-info\">\n",
    "   \n",
    "<b>TIP:</b> <i>If you're running on Cheyenne</i>, you may need to uncomment the the following two lines of code. This will set up your conda environment correctly.\n",
    "\n",
    "<b>This is not required if your running CESM-Lab in the cloud.</b>\n",
    "\n",
    "</div>"
   ]
  },
  {
   "cell_type": "code",
   "execution_count": null,
   "metadata": {},
   "outputs": [],
   "source": [
    "#module purge\n",
    "#module load conda ncarenv"
   ]
  },
  {
   "cell_type": "markdown",
   "metadata": {},
   "source": [
    "# 1. Create a new case.\n",
    "Because we're going to modify namelist options that will change answers in CLM we have to run this case through an accelerated decompostion (AD) and postAD spinup.  This will generate new initial conditions for our experimental case. We'll learn more about spinup in part 3 of this tutorial.\n",
    "\n",
    "Doing an AD spinup requires a new base case to be created so the model is configured correctly.  This means we have to create and build a new case for both AD and postAD simulations.  This process is streamlined with the `run_neon` script and the use of usermod directories we created for NEON cases.  \n",
    "\n",
    "## 1.1 Navigate to your source code"
   ]
  },
  {
   "cell_type": "code",
   "execution_count": null,
   "metadata": {},
   "outputs": [],
   "source": [
    "cd ~/CTSM/tools/site_and_regional"
   ]
  },
  {
   "cell_type": "markdown",
   "metadata": {},
   "source": [
    "## 1.2 Create a new base case.\n",
    "You can modify the new case for the site you'd like to run."
   ]
  },
  {
   "cell_type": "code",
   "execution_count": null,
   "metadata": {},
   "outputs": [],
   "source": [
    "# If needed, change the 4-character NEON site below.\n",
    "export new_case='WOOD'    # the new site you want to run \n",
    "export experiment='BTRAN'    # the experimental name of your case"
   ]
  },
  {
   "cell_type": "markdown",
   "metadata": {},
   "source": [
    "Then run_neon with the following flags:\n",
    "- `--experiment $experiment` \n",
    "- `--run-type ad` \n",
    "- `--setup-only` \n",
    "\n",
    "Since we're creating an experimental case that will change answers in the model we should run a full AD and postAD spinup.\n",
    "We'll go over specifics related to experiment and run-type later in this tutorial.\n",
    "\n",
    "In our experimental case we'll be using the BTRAN formulation of soil moisture stress. \n",
    "\n",
    "<div class=\"alert alert-block alert-info\">\n",
    "\n",
    "<b>HINT:</b> It's helpful to have descriptive experiment names. \n",
    "\n",
    "</div>"
   ]
  },
  {
   "cell_type": "code",
   "execution_count": null,
   "metadata": {},
   "outputs": [],
   "source": [
    "# then run_neon with experiment and setup-only flags\n",
    "./run_neon.py --neon-sites $new_case  \\\n",
    "   --output-root ~/scratch/NEON_cases \\\n",
    "   --overwrite \\\n",
    "   --experiment $experiment \\\n",
    "   --run-type ad \\\n",
    "   --setup-only  "
   ]
  },
  {
   "cell_type": "markdown",
   "metadata": {},
   "source": [
    "### 1.2.1 Build the base case\n",
    "You may have noticed a warning in the code block above.  We'll go ahead and build the new base case above.  As before this takes some time so be patient."
   ]
  },
  {
   "cell_type": "code",
   "execution_count": null,
   "metadata": {},
   "outputs": [],
   "source": [
    "cd ~/scratch/NEON_cases/$new_case"
   ]
  },
  {
   "cell_type": "code",
   "execution_count": null,
   "metadata": {},
   "outputs": [],
   "source": [
    "pwd"
   ]
  },
  {
   "cell_type": "code",
   "execution_count": null,
   "metadata": {},
   "outputs": [],
   "source": [
    "qcmd -- ./case.build"
   ]
  },
  {
   "cell_type": "markdown",
   "metadata": {},
   "source": [
    "### 1.2.2 Overwrite the *site.experiment.ad* case, now using the correct build\n",
    "- move back to your source code\n",
    "- run_neon again "
   ]
  },
  {
   "cell_type": "code",
   "execution_count": null,
   "metadata": {},
   "outputs": [],
   "source": [
    "cd ~/CTSM/tools/site_and_regional"
   ]
  },
  {
   "cell_type": "code",
   "execution_count": null,
   "metadata": {},
   "outputs": [],
   "source": [
    "cd ~/CTSM/tools/site_and_regional\n",
    "\n",
    "./run_neon.py --neon-sites $new_case  \\\n",
    "   --output-root ~/scratch/NEON_cases \\\n",
    "   --base-case ~/scratch/NEON_cases/$new_case \\\n",
    "   --overwrite \\\n",
    "   --experiment $experiment \\\n",
    "   --run-type ad \\\n",
    "   --setup-only  "
   ]
  },
  {
   "cell_type": "markdown",
   "metadata": {},
   "source": [
    "You may notice the following was printed from creating an experimental clone\n",
    "```\n",
    "WARNING: CLM is starting up from a cold state\n",
    "```\n",
    "This is good, since we're going to be starting the model from a cold state, or bare ground with the AD spinup.\n",
    "\n",
    "### 1.2.3 Move to the case directory"
   ]
  },
  {
   "cell_type": "code",
   "execution_count": null,
   "metadata": {},
   "outputs": [],
   "source": [
    "cd ~/scratch/NEON_cases/$new_case.$experiment.ad"
   ]
  },
  {
   "cell_type": "markdown",
   "metadata": {},
   "source": [
    "# 2 Customizing your case: Namelist changes\n",
    "The configuration of CLM can be customized via namelist modifications. \n",
    "\n",
    "These changes made using namelist files like `user_nl_clm`\n",
    "\n",
    "## 2.1 Getting familiar with namelist files\n",
    "`user_nl_<model>` files are created in the case directory after setting up your case with `./case.setup`\n",
    "  - Note: This was already done for us since we cloned a case with run_neon\n",
    "    \n",
    "#### Take a look!\n",
    "  - What other user `user_nl_<model>` files do you already have in this case directory?\n",
    "  - What kind of information is already included in a `user_nl_clm` file?\n",
    "\n",
    "We can explore these files on the comand line using an editor, by opening them directly in jupyter hub, or by simply printing the contents of the files to the screen here."
   ]
  },
  {
   "cell_type": "code",
   "execution_count": null,
   "metadata": {
    "tags": []
   },
   "outputs": [],
   "source": [
    "ls user_nl_*"
   ]
  },
  {
   "cell_type": "code",
   "execution_count": null,
   "metadata": {
    "tags": []
   },
   "outputs": [],
   "source": [
    "cat user_nl_clm | tail -18"
   ]
  },
  {
   "cell_type": "markdown",
   "metadata": {},
   "source": [
    "The compset that you created your case with sets up initial, or default namelist options. These can be found in `CaseDocs/lnd_in`\n",
    "\n",
    "<style> \n",
    "table td, table th, table tr {text-align:left !important;}\n",
    "</style>\n",
    "<div class=\"alert alert-block alert-warning\">\n",
    "<b>Important:</b>   Don’t modify the lnd_in namelist file directly. Instead, make changes in user_nl_clm.\n",
    "</div>\n",
    "\n",
    "## 2.2 Looking deeper at namelist options \n",
    "All CLM namelist options are defined in the `lnd_in` file\n",
    "\n",
    "We can explore this file on the comand line using an editor, by opening it directly in jupyter hub, or by simply printing the contents of the files to the screen here.  \n",
    "- **NOTE:** This file is huge, so we'll just look at the first 65 lines"
   ]
  },
  {
   "cell_type": "code",
   "execution_count": null,
   "metadata": {},
   "outputs": [],
   "source": [
    "cat CaseDocs/lnd_in | head -65"
   ]
  },
  {
   "cell_type": "markdown",
   "metadata": {},
   "source": [
    "There's a lot to dig into here! So we'll just stick with a few highlights.\n",
    "\n",
    "#### Take a look\n",
    "**See what printed to in the cell above and answer the following questions**\n",
    "- `finidat`: What initial conditions file are you using? \n",
    "- `fsurdat`: What surface dataset are you using?\n",
    "- `paramfile`: What parameter file are you using?\n",
    "- `spinup_state`: What is your spinup state?\n",
    "- `use_hydrstress`: Are you using plant hydraulic stress?\n",
    "\n",
    "Does this make sense?  Answers are in the hidden cell below.\n"
   ]
  },
  {
   "cell_type": "markdown",
   "metadata": {
    "tags": []
   },
   "source": [
    "- `finidat = ' '`  There are no initial conditions because this is an AD run\n",
    "- `fsurdat = \".../surfdata_1x1_NEON_WOOD_hist_78pfts_CMIP6_simyr2000_c230111.nc\"` This the surface dataset that's been modified for our NEON site.\n",
    "- `paramfile = '.../ctsm51_params.c211112.nc'` is the default parameter file for CTSM5.1  \n",
    "- `spinup_state = 2`, which is used for accelerated decomposition, or AD mode\n",
    "- `use_hydrstress = .true.`, because plant hydraulic stress is on by default in CTSM5.1 \n"
   ]
  },
  {
   "cell_type": "markdown",
   "metadata": {
    "tags": []
   },
   "source": [
    "***\n",
    "\n",
    "- Additional information about customizing CTSM's configurations, including namelist modifications, are available in the [CTSM users guide](https://escomp.github.io/ctsm-docs/versions/master/html/users_guide/setting-up-and-running-a-case/customizing-the-clm-configuration.html?highlight=namelist)\n",
    "Namelist changes can also be used to modify variables on history file output. Simple modification of history file output DOES NOT require spinning up the model.\n",
    "- A list of all the [CTSM history fields are available here](https://escomp.github.io/ctsm-docs/versions/master/html/users_guide/setting-up-and-running-a-case/master_list_nofates.html)\n",
    "- A list of all the [CTSM-FATES history fields are available here](https://escomp.github.io/ctsm-docs/versions/master/html/users_guide/setting-up-and-running-a-case/master_list_fates.html)\n",
    "\n",
    "## 2.3 Turn off plant hydraulic stress\n",
    "\n",
    "For this experiment we're going turn plant hydraulic stress off. We can change user_nl_clm using an editor, by opening it directly in jupyter hub, or with the following comand."
   ]
  },
  {
   "cell_type": "code",
   "execution_count": null,
   "metadata": {},
   "outputs": [],
   "source": [
    "echo \"use_hydrstress = .false.\" >> user_nl_clm"
   ]
  },
  {
   "cell_type": "markdown",
   "metadata": {},
   "source": [
    "Let make sure this worked.  We can:  \n",
    "- preview namelists;\n",
    "- check the  `lnd_in` file."
   ]
  },
  {
   "cell_type": "code",
   "execution_count": null,
   "metadata": {},
   "outputs": [],
   "source": [
    "## now make sure it worked \n",
    "./preview_namelists"
   ]
  },
  {
   "cell_type": "code",
   "execution_count": null,
   "metadata": {},
   "outputs": [],
   "source": [
    "cat CaseDocs/lnd_in | head -65"
   ]
  },
  {
   "cell_type": "markdown",
   "metadata": {},
   "source": [
    "We've turned off PHS in simulation \n",
    "\n",
    "## 2.4 Start the AD spinup run\n",
    "We already build the model, and when making namelist or .xml changes we don't have to rebuild our case, so now we're ready to submit the case."
   ]
  },
  {
   "cell_type": "code",
   "execution_count": null,
   "metadata": {},
   "outputs": [],
   "source": [
    "./case.submit"
   ]
  },
  {
   "cell_type": "markdown",
   "metadata": {},
   "source": [
    "Now our case is submitted!  Spinup, or model initialization from a cold start, actually takes a little bit of time.  Now that our AD case is running, we can briefly cover spinup.\n",
    "\n",
    "---\n",
    "\n",
    "# 3 More details on spinup\n",
    "\n",
    "We make make steady state assumptions about *initial* state of ecosystem properties like temperature\n",
    "water, snow, ice, carbon & nitrogen.  This is the *equilibrium* state of the model, given the forcing\n",
    "data. In model experiments  we make modifications to namelist settings, the parameter files, surface dataset, or underlying model code we also need to generate new initial conditions. \n",
    "\n",
    "In runs with active biogoechemistry, like these NEON simulations, this means we need to get the ecosystem carbon and nigrogen pools with long turnover times into steady state. The turnover and decomposition of these slow pools is mathamatically accelerated in our AD (accelerated decomposition) case.  This means we:\n",
    "- Accelerate turnover of wood, litter and soil pools.\n",
    "- Accelerate advection and diffusion terms too\n",
    "- In CLM5 and CTSM5.1 this is calculated as a function of latitude so that spinup is more accelerated in high latitude regions.\n",
    "\n",
    "During spinup, we just cycle over several years of input data.  For most NEON sites we cycle over four years of data from 2018-2021. More information about spinup is available in the [CLM user's guide](https://escomp.github.io/ctsm-docs/versions/master/html/users_guide/running-special-cases/Spinning-up-the-biogeochemistry-BGC-spinup.html?highlight=spinup) \n",
    "\n",
    "<div class=\"alert alert-block alert-info\">\n",
    "\n",
    "<b>NOTE:</b> for runs without active biogeochemistry (called satelite shenology, or SP simulations), we still need to equilibrate the model. This is much faster and doesn't require accelerated decomposition.\n",
    "\n",
    "</div>"
   ]
  },
  {
   "cell_type": "markdown",
   "metadata": {},
   "source": [
    "For most temperate systems < 200 years of AD simulations seems adequate, but in colder ecosystems (like NEON sites in Alaska) this can take much longer because cold temperatures slow the turnover of \n",
    "soil organic matter.  We have this set up already in the usermod directories that are used to configure your NEON case with `run_neon`. We can look to see if total ecosystem carbon pools (the sum of all vegetation, litter and soil C stocks) look to be equilibrated after 200 years.\n",
    "\n",
    "![ad_spinup](../../images/WOOD.BTRAN.ad_spin.png)\n",
    "\n",
    "#### LOOK\n",
    "- Does the model seem to have achieved steady state?\n",
    "- Why are there periodic oscillations in the total ecosystem C pools?\n",
    "\n",
    "This plot was generated using the [QuickPlot_CTSM_spinup](QuickPlot_CTSM_spinup.ipynb) notebook, which you can modify for your own site or simulation.\n",
    "\n",
    "After your AD simulation is finished, we have to take the model out of AD mode.  We call these postAD simulations. "
   ]
  },
  {
   "cell_type": "markdown",
   "metadata": {},
   "source": [
    "## 3.1 postAD simulations\n",
    "After the model has reached steady-state we have to take it out of AD mode, which requires another ~100 years of simulations.  We also have to create and build a new base case for postAD runs.\n",
    "\n",
    "### 3.1.1 Create a new base case"
   ]
  },
  {
   "cell_type": "code",
   "execution_count": null,
   "metadata": {},
   "outputs": [],
   "source": [
    "cd ~/CTSM/tools/site_and_regional\n",
    "# This is a new base case that we'll create (and maybe use later for other sites)\n",
    "export base_case='YELL'    \n",
    "# should match the neon site case you did the AD run with\n",
    "export new_case='WOOD'   "
   ]
  },
  {
   "cell_type": "code",
   "execution_count": null,
   "metadata": {},
   "outputs": [],
   "source": [
    "./run_neon.py --neon-sites $base_case  \\\n",
    "   --output-root ~/scratch/NEON_cases \\\n",
    "   --overwrite \\\n",
    "   --run-type postad \\\n",
    "   --setup-only "
   ]
  },
  {
   "cell_type": "markdown",
   "metadata": {},
   "source": [
    "You'll notice an error here if there's no ad run for our postad base_case.  This is fine. \n",
    "\n",
    "### 3.1.2 Build the base case"
   ]
  },
  {
   "cell_type": "code",
   "execution_count": null,
   "metadata": {},
   "outputs": [],
   "source": [
    "cd ~/scratch/NEON_cases/$base_case\n",
    "qcmd -- ./case.build"
   ]
  },
  {
   "cell_type": "markdown",
   "metadata": {},
   "source": [
    "### 3.1.3 Create the site.experiment.postad case from the built base case"
   ]
  },
  {
   "cell_type": "code",
   "execution_count": null,
   "metadata": {},
   "outputs": [],
   "source": [
    "cd ~/CTSM/tools/site_and_regional\n",
    "\n",
    "./run_neon.py --neon-sites $new_case  \\\n",
    "   --output-root ~/scratch/NEON_cases \\\n",
    "   --base-case ~/scratch/NEON_cases/$base_case \\\n",
    "   --overwrite \\\n",
    "   --experiment $experiment \\\n",
    "   --run-type postad \\\n",
    "   --setup-only  "
   ]
  },
  {
   "cell_type": "markdown",
   "metadata": {},
   "source": [
    "### 3.1.4 make the same namelist changes to turn off PHS"
   ]
  },
  {
   "cell_type": "code",
   "execution_count": null,
   "metadata": {},
   "outputs": [],
   "source": [
    "cd ~/scratch/NEON_cases/$new_case.$experiment.postad\n",
    "echo \"use_hydrstress = .false.\" >> user_nl_clm\n",
    "./preview_namelists"
   ]
  },
  {
   "cell_type": "code",
   "execution_count": null,
   "metadata": {},
   "outputs": [],
   "source": [
    "# check the lnd_in file\n",
    "cat CaseDocs/lnd_in | grep use_hydrstress"
   ]
  },
  {
   "cell_type": "markdown",
   "metadata": {},
   "source": [
    "**Stop and check!**\n",
    "- How are the `lnd_in` files different in our ad and postad cases?"
   ]
  },
  {
   "cell_type": "code",
   "execution_count": null,
   "metadata": {},
   "outputs": [],
   "source": [
    "diff CaseDocs/lnd_in ../$new_case.$experiment.ad/CaseDocs/lnd_in"
   ]
  },
  {
   "cell_type": "markdown",
   "metadata": {},
   "source": [
    "the postad case has: \n",
    "- `finidat = 'WOOD.BTRAN.ad...'` initial conditions\n",
    "- `spinup_state = 0` meaning we're out of ad mode now\n",
    "- different builds\n",
    "\n",
    "\n",
    "### 3.1.5 Submit the postad simulation"
   ]
  },
  {
   "cell_type": "code",
   "execution_count": null,
   "metadata": {},
   "outputs": [],
   "source": [
    "./case.submit"
   ]
  },
  {
   "cell_type": "markdown",
   "metadata": {},
   "source": [
    "\n",
    "Have a look to see if 100 years is enough to get pools to steady state? \n",
    "\n",
    "![postad](../../images/WOOD.BTRAN.postad.png)\n",
    "\n",
    "#### LOOK\n",
    "- In postad simulations ecosystem carbon and nitrogen are much larger than in the ad case.  \n",
    "- Does the model seem to have achieved steady state?\n",
    "\n",
    "---\n",
    "\n",
    "## 3.2 Transient simulations\n",
    "Now we're ready to go ahead with the transient simulation\n",
    "\n",
    "### 3.2.1 Create an experimental transient case\n",
    "- your `base_case` can now be a built transient case (here KONZ from our first tutorials)\n",
    "- `--run-from-postad` let's us get initial conditions files from our experiment.postad case"
   ]
  },
  {
   "cell_type": "code",
   "execution_count": null,
   "metadata": {},
   "outputs": [],
   "source": [
    "# Change the 4-character NEON site below.\n",
    "cd ~/CTSM/tools/site_and_regional\n",
    "export base_case='KONZ'   # this should be a built, transient case\n",
    "export new_case='WOOD'    # the new site you want to run"
   ]
  },
  {
   "cell_type": "code",
   "execution_count": null,
   "metadata": {},
   "outputs": [],
   "source": [
    "# then run_neon\n",
    "./run_neon.py --neon-sites $new_case  \\\n",
    "   --output-root ~/scratch/NEON_cases \\\n",
    "   --base-case ~/scratch/NEON_cases/$base_case \\\n",
    "   --experiment $experiment \\\n",
    "   --overwrite \\\n",
    "   --run-type transient \\\n",
    "   --setup-only  \\\n",
    "   --run-from-postad"
   ]
  },
  {
   "cell_type": "markdown",
   "metadata": {},
   "source": [
    "### 3.2.2 Namelist changes to turn off PHS\n"
   ]
  },
  {
   "cell_type": "code",
   "execution_count": null,
   "metadata": {},
   "outputs": [],
   "source": [
    "cd ~/scratch/NEON_cases/$new_case.$experiment.transient\n",
    "echo \"use_hydrstress = .false.\" >> user_nl_clm\n",
    "./preview_namelists"
   ]
  },
  {
   "cell_type": "code",
   "execution_count": null,
   "metadata": {},
   "outputs": [],
   "source": [
    "# check the lnd_in file\n",
    "cat CaseDocs/lnd_in | grep use_hydrstress"
   ]
  },
  {
   "cell_type": "code",
   "execution_count": null,
   "metadata": {},
   "outputs": [],
   "source": [
    "# How are the lnd_in fies different?\n",
    "diff CaseDocs/lnd_in ../$new_case.$experiment.postad/CaseDocs/lnd_in"
   ]
  },
  {
   "cell_type": "markdown",
   "metadata": {},
   "source": [
    "Now we're running: \n",
    "- a transient simulation (transient CO2, nitrogen deposition, etc\n",
    "- with different restart files, not from the postad run we already did\n",
    "- with different builds\n",
    "\n",
    "### 3.2.3 Submit the transient case"
   ]
  },
  {
   "cell_type": "code",
   "execution_count": null,
   "metadata": {},
   "outputs": [],
   "source": [
    "./case.submit"
   ]
  },
  {
   "cell_type": "markdown",
   "metadata": {},
   "source": [
    "## 3.3 Run a control case\n",
    "If you haven't done it already, we should likely just run a control case for a transient case out of the box (with PHS on).\n",
    "Lucking this is really easy!"
   ]
  },
  {
   "cell_type": "code",
   "execution_count": null,
   "metadata": {},
   "outputs": [],
   "source": [
    "cd ~/CTSM/tools/site_and_regional\n",
    "\n",
    "# then run_neon\n",
    "./run_neon.py --neon-sites $new_case  \\\n",
    "    --output-root ~/scratch/NEON_cases \\\n",
    "    --base-case ~/scratch/NEON_cases/$base_case \\\n",
    "    --overwrite\n",
    "\n",
    "# we'll just go ahead and submit this case"
   ]
  },
  {
   "cell_type": "markdown",
   "metadata": {},
   "source": [
    "#### Double check\n",
    "It's a good idea to make sure cases have expected differences.  \n",
    "\n",
    "See if this is true for our control and experimental transient cases."
   ]
  },
  {
   "cell_type": "code",
   "execution_count": null,
   "metadata": {},
   "outputs": [],
   "source": [
    "cd ~/scratch/NEON_cases/$new_case.transient\n",
    "diff CaseDocs/lnd_in ../$new_case.$experiment.transient/CaseDocs/lnd_in"
   ]
  },
  {
   "cell_type": "markdown",
   "metadata": {},
   "source": [
    "<div class=\"alert alert-success\">\n",
    "<strong>Congratulations!</strong> \n",
    "    \n",
    "You've created and run a full spinup for an experimental case of CLM at the NEON tower you selected!\n",
    "    \n",
    "Now we need to see how the simulations are different.\n",
    "</div>\n",
    "\n"
   ]
  },
  {
   "cell_type": "markdown",
   "metadata": {},
   "source": [
    "If you're developing this tutorial:\n",
    "Before saving and pushing this code to github go to `Kernel` and `Restart kernel and clear all outputs...`"
   ]
  },
  {
   "cell_type": "code",
   "execution_count": null,
   "metadata": {},
   "outputs": [],
   "source": []
  },
  {
   "cell_type": "code",
   "execution_count": null,
   "metadata": {},
   "outputs": [],
   "source": []
  }
 ],
 "metadata": {
  "kernelspec": {
   "display_name": "Bash",
   "language": "bash",
   "name": "bash"
  },
  "language_info": {
   "codemirror_mode": "shell",
   "file_extension": ".sh",
   "mimetype": "text/x-sh",
   "name": "bash"
  }
 },
 "nbformat": 4,
 "nbformat_minor": 4
}
