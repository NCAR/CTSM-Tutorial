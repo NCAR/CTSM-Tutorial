{
 "cells": [
  {
   "cell_type": "markdown",
   "metadata": {},
   "source": [
    "### Copy this template to make a new tutorial"
   ]
  },
  {
   "cell_type": "markdown",
   "metadata": {},
   "source": [
    "# Tutorial Xa: *Summary Title for tutorial*\n",
    "\n",
    "## Text can be written in markdown cells\n",
    "\n",
    "provide some background information about what the tutorial goals.\n",
    "\n",
    "You can provide linke to websites or other tutorials like this  [NEON_Visualization_Tutorial](https://github.com/NCAR/NEON-visualization).\n",
    "<br><br>\n",
    "\n",
    "Links to images can be added like this (but must also be included in the images folder):\n",
    "<br><br>\n",
    "\n",
    "![ncar logo](../images/ncar_logo.png)\n",
    "\n",
    "\n",
    "**Note: this example uses a bash kernel!**\n",
    "\n",
    "**Additional notes and resources** This is a good place to provide more information that people can learn from.\n",
    "***"
   ]
  },
  {
   "cell_type": "markdown",
   "metadata": {},
   "source": [
    "<div class=\"alert alert-block alert-warning\">\n",
    "\n",
    "<b>NOTICE:</b>  This tutorial assumes that you've done your homework! \n",
    "\n",
    "If you haven't downloaded CTSM from the github repository you need to go back to the <b>Day0a_GitStarted tutorial</b> and do this first!\n",
    "\n",
    "</div>\n",
    "\n",
    "<b>NOTICE:</b>  This tutorial assumes the following directory structures: \n",
    "- CTSM code cloned into your home directory: `~/CTSM`\n",
    "- NEON cases are created here: `~/NEON_cases`, and finally, \n",
    "- NEON runs saved in scratch`~/scratch/NEON_runs`\n",
    "\n",
    "**TODO** set up Day0 materials to reflect this too, it may require adding seperate case and output directories\n",
    "***\n",
    "    \n",
    "<div class=\"alert alert-block alert-info\">\n",
    "   \n",
    "<b>TIP:</b>  If you're running on Cheyenne, creating a softlink to scratch in your home directory is helpful.  \n",
    "    \n",
    "You can create this with the following: `ln -s /glade/scratch/$USER ~/scratch`\n",
    "</div>"
   ]
  },
  {
   "cell_type": "markdown",
   "metadata": {},
   "source": [
    "## In this tutorial\n",
    "\n",
    "The tutorial has several components. Below you will find steps to: \n",
    "1. Create a new case \n",
    "2. Make some modifications to the model configuration or code\n",
    "3. Build and submit the case\n",
    "***"
   ]
  },
  {
   "cell_type": "markdown",
   "metadata": {},
   "source": [
    "<h2> 1. Create a new single point case for another NEON site </h2>\n",
    "\n",
    "**Note:** \n",
    "- We are assuming that you already ran the `Day0b` tutorial and have successfully run a simulation from a NEON tower site.  \n",
    "- We *aren't* going to use the run_neon script for this example, instead we'll create it on our own. \n",
    "- We are also assuming you've gone through the basics of creating a case, which involves the following 4 steps: \n",
    "  - create (create_newcase)\n",
    "  - sets up (case.setup)\n",
    "  - compile (case.build)\n",
    "  - run (case.submit)\n",
    "- We'll go through this pretty quickly but you can find [more in this tutorial](https://github.com/NCAR/CTSM-Tutorial-2022/blob/main/notebooks/Day1a_GlobalCase.ipynb)\n",
    "\n",
    "------------\n",
    "### 1.1 Create a new case\n",
    "\n",
    "<div class=\"alert alert-block alert-info\">\n",
    "\n",
    "<b>NOTE:</b>  This code cell below is set up in a bash kernel, which means you can excecutes commands just like in the command line of a terminal window, it may not render correctly if you're looking at this online, but we've copied the command in the NOTE below.\n",
    "\n",
    "    \n",
    "<b>TIP:</b>  Execute code by clicking in the cell below, and then either clicking the play button in the menu bar above, or pressing 'shift+enter'\n",
    "\n",
    "</div>"
   ]
  },
  {
   "cell_type": "code",
   "execution_count": null,
   "metadata": {},
   "outputs": [],
   "source": [
    "# Change the 4-character NEON site below.\n",
    "export neon-site=\"SJER\"\n",
    "cd ~/CTSM/cime/scripts\n",
    "./create_newcase --case ~/NEON_cases/${neon-site}.transient --compset IHist1PtClm51Bgc --res CLM_USRDAT --user-mods-dirs NEON/${neon-site} --output-root ~/scratch/NEON_runs --run-unsupported \n",
    "\n",
    "echo ''\n",
    "echo 'created' ${neon-site}.transient'!\""
   ]
  },
  {
   "cell_type": "markdown",
   "metadata": {},
   "source": [
    "<div class=\"alert alert-block alert-info\">\n",
    "\n",
    "<b>NOTE:</b>  If you're reding this online, the comand to create a new case should look like this:\n",
    "    \n",
    "`./create_newcase --case ~/NEON_cases/${neon-site}.transient --compset IHist1PtClm51Bgc --res CLM_USRDAT --user-mods-dirs NEON/${neon-site} --output-root ~/scratch/NEON_runs --run-unsupported \n",
    "`\n",
    "\n",
    "<b>HINT:</b>  If you have a base case that's already built, and aren't making code modifications that require a clean build (e.g., namelist or parameter file changes), you can save time by **creating a clone** that uses the --keepexe flag and usermods for the new site\n",
    "    \n",
    "`./create_clone --clone ~/NEON_cases/KONZ.transient --case ~/NEON_cases/${neon-site}.transient --keepexe --user-mods-dirs --user-mods-dirs ~/CTSM/cime_config/usermods_dirs/NEON/${neon-site}`\n",
    "\n",
    "</div>"
   ]
  },
  {
   "cell_type": "markdown",
   "metadata": {},
   "source": [
    "### 1.2 Set up the case\n",
    "This goes quickly"
   ]
  },
  {
   "cell_type": "code",
   "execution_count": null,
   "metadata": {},
   "outputs": [],
   "source": [
    "cd ~/NEON_cases/${neon-site}.transient\n",
    "./case.setup\n",
    "\n",
    "echo ' '\n",
    "echo '-- Case setup -- '"
   ]
  },
  {
   "cell_type": "markdown",
   "metadata": {},
   "source": [
    "*Now were ready to made some configuration changes to the model*\n",
    "________\n",
    "\n",
    "<h2> 2. Make some modifications to the model configuration or code </h2>\n",
    "\n",
    "*After creating our case, we're going to...*\n"
   ]
  },
  {
   "cell_type": "markdown",
   "metadata": {},
   "source": [
    "### 2.1 First part of step 2 \n",
    "A quick description of what the following code block accomplishes.\n",
    "\n",
    "Run the code below to ....\n"
   ]
  },
  {
   "cell_type": "code",
   "execution_count": null,
   "metadata": {},
   "outputs": [],
   "source": []
  },
  {
   "cell_type": "markdown",
   "metadata": {},
   "source": [
    "explain what you just did...\n"
   ]
  },
  {
   "cell_type": "markdown",
   "metadata": {},
   "source": [
    "------\n",
    "<h2> 3. Build and submit your case </h2>\n",
    "\n",
    "### 3.1 Build the case\n",
    "This takes some time, and will throw a bunch of errors... don't worry, just give it time\n",
    "\n",
    "\n",
    "**When the build completes successfully you'll see a notice that the `MODEL BUILD HAS FINISHED SUCCESSFULLY`**\n",
    "\n",
    "\n",
    "<div class=\"alert alert-block alert-warning\">\n",
    "   \n",
    "<b>HINT:</b>  Building a NEON case requires that you have the `listing.csv` file in your `~/NEON_cases directory`.  \n",
    "<p> Don't worry, you have this if you did the <b>Day0b tutorial</b>  <span>&#x1F609</span> </p>\n",
    "\n",
    "</div>"
   ]
  },
  {
   "cell_type": "code",
   "execution_count": null,
   "metadata": {},
   "outputs": [],
   "source": [
    "cd ~/NEON_cases/${neon-site}.transient\n",
    "qcmd -- ./case.build"
   ]
  },
  {
   "cell_type": "markdown",
   "metadata": {},
   "source": [
    "### 3.2 Submit the case\n",
    "Now you're ready to submit the case!\n"
   ]
  },
  {
   "cell_type": "code",
   "execution_count": null,
   "metadata": {},
   "outputs": [],
   "source": [
    "./case.submit"
   ]
  },
  {
   "cell_type": "markdown",
   "metadata": {},
   "source": [
    "***\n",
    "<h4> ADDITIONAL formatting help, delete if not needed </h4>  \n",
    "\n",
    "This is one way you can highlight commands or files in a text block `my_favorite_script`. \n",
    "\n",
    ">And one way to make text stand out more\n",
    "\n",
    "\n",
    "you can also provide details with a bulleted list:\n",
    "- bullet one with **bold** text\n",
    "- bullet two with *italics*\n",
    "    - subpoint 1 \n",
    "    - subpoint 2\n",
    "    \n",
    "\n",
    "You can also visually highight warnings, information, or notable text using the table formatting below:\n",
    "\n",
    "<style> \n",
    "table td, table th, table tr {text-align:left !important;}\n",
    "</style>\n",
    "<div class=\"alert alert-block alert-warning\">\n",
    "<b>NOTE:</b>  This is way to make text stand out, maybe for errors, warnings, or notes of caution.\n",
    "</div>\n",
    "\n",
    "Additional thoughts or text...\n",
    "\n",
    "<style> \n",
    "table td, table th, table tr {text-align:left !important;}\n",
    "</style>\n",
    "<div class=\"alert alert-block alert-info\">\n",
    "\n",
    "<b>NOTE:</b> Another way to highlight sections, maybe for informational text to highlight <i>with italics</i>  more text. \n",
    "    <b>Bold text <i>Bold Italics</i> and back to bold</b>, followed by normal text.\n",
    "</div>\n",
    "\n",
    "and a bit of description about what the next code block does\n"
   ]
  },
  {
   "cell_type": "code",
   "execution_count": null,
   "metadata": {},
   "outputs": [],
   "source": [
    "ls ~"
   ]
  },
  {
   "cell_type": "code",
   "execution_count": null,
   "metadata": {},
   "outputs": [],
   "source": [
    "qstat -u $USER"
   ]
  },
  {
   "cell_type": "markdown",
   "metadata": {},
   "source": [
    "---\n",
    "Once your jobs are complete (or show the 'C' state under the 'Use' column, which means complete), we can check the CaseStatus file to ensure there were no errors and it completed successfully.  To do this, we'll 'tail' the end of the CaseStatus file:"
   ]
  },
  {
   "cell_type": "code",
   "execution_count": null,
   "metadata": {},
   "outputs": [],
   "source": [
    "tail  ~/NEON_cases/${neon-site}.transient/CaseStatus"
   ]
  },
  {
   "cell_type": "markdown",
   "metadata": {},
   "source": [
    "You should see several lines, with the middle one saying 'case.run success'.  \n",
    "\n",
    "Before that you'll see notifications about xml changes, case.setup, and case.submit, and case.run"
   ]
  },
  {
   "cell_type": "markdown",
   "metadata": {},
   "source": [
    "<div class=\"alert alert-success\">\n",
    "<strong>Congratulations!</strong> \n",
    "    \n",
    "This is yet another way to visually highlight text\n",
    "</div>\n",
    "\n",
    "**Note:** If you ad some issues, there will likely be an error message with more information. If you do not understand the error message, please post your question on the [CTSM forum in the CESM Bulletin Board](https://bb.cgd.ucar.edu/cesm/forums/ctsm-clm-mosart-rtm.134/).\n"
   ]
  },
  {
   "cell_type": "markdown",
   "metadata": {
    "tags": []
   },
   "source": [
    "***\n",
    "<h4> Optional </h4>\n",
    "\n",
    "We can provide more information about what was just accomplished, this may be helpful for more advanced users trying to learn more, but isn't necessary for successfully completing the tutorial <p>\n",
    "\n",
    "I'm going to leave the example \n",
    "\n",
    "*Executing the below cell is optional, and it will print options available options in the `run_neon` python script*:\n"
   ]
  },
  {
   "cell_type": "code",
   "execution_count": null,
   "metadata": {},
   "outputs": [],
   "source": [
    "run_neon --help"
   ]
  },
  {
   "cell_type": "markdown",
   "metadata": {},
   "source": [
    "------------\n",
    "\n",
    "#### Below is some additional information and examples **(I'm leaving this as-is for illustration purposes)**: \n",
    "\n",
    " __Tip:__ You can run multiple neon sites at once by choosing multiple neon sites in the command line argument. For example:\n",
    ">\n",
    ">```\n",
    ">run_neon.py --neon-sites ABBY BART BLAN\n",
    ">```\n",
    "\n",
    "<br/>\n",
    "\n",
    " __Tip:__ Use the `--overwrite` option to overwrite existing case directories.\n",
    ">\n",
    ">If you run a simulation for a NEON site that you have previously simulated, you will see an error like the following:\n",
    ">```\n",
    ">Case already exists in /home/<user>/scratch/CLM-NEON/ABBY.transient, not overwritting.\n",
    ">```\n",
    ">The overwrite option (e.g., adding `--overwrite` to the end of the `run_neon` command) can be used to avoid this error. \n",
    "\n",
    "\n",
    "<br/>\n",
    "\n",
    " __Tip:__ You can run the above `run_neon` command in your terminal shell. You will need to specify the NEON site and the output-root path by replacing `<site>` and `<path>` below with the appropriate values:\n",
    "\n",
    ">```\n",
    ">run_neon.py --neon-sites <site> --output-root <path>\n",
    ">```\n",
    "\n",
    "<br/>\n",
    "    \n",
    " __Tip:__ The container will not overwrite existing files. If there are newer versions of a tutorial or input data you want to download, you must delete the existing tutorials or data first. You can do this by moving the files from the `Simulations` folder on your Desktop into the trash.\n",
    "    \n",
    "<br/>\n",
    "    \n",
    "**Note:** More information about setting up and modifying simulations, including changing model code, will be available in an upcoming tutorial. \n"
   ]
  },
  {
   "cell_type": "code",
   "execution_count": null,
   "metadata": {},
   "outputs": [],
   "source": [
    "ls"
   ]
  },
  {
   "cell_type": "markdown",
   "metadata": {},
   "source": [
    "\n",
    "Notice that... Provie some deeper explaination of what's going on here:\n",
    "* First thing to see \n",
    "    * with a\n",
    "    * with b\n",
    "        * and also note that.... \n",
    "* second thing to see\n",
    "\n",
    "Additional highlights and things to explain...\n",
    "****\n"
   ]
  },
  {
   "cell_type": "markdown",
   "metadata": {},
   "source": [
    "Before saving and pushing this code to github go to `Kernel` and `Restart kernel and clear all outputs...`"
   ]
  },
  {
   "cell_type": "code",
   "execution_count": null,
   "metadata": {},
   "outputs": [],
   "source": []
  }
 ],
 "metadata": {
  "kernelspec": {
   "display_name": "Bash",
   "language": "bash",
   "name": "bash"
  },
  "language_info": {
   "codemirror_mode": "shell",
   "file_extension": ".sh",
   "mimetype": "text/x-sh",
   "name": "bash"
  }
 },
 "nbformat": 4,
 "nbformat_minor": 4
}
