{
 "cells": [
  {
   "cell_type": "markdown",
   "metadata": {},
   "source": [
    "# Tutorial 0a: *CESM-Lab, CTSM, & git*\n",
    "\n",
    "This tutorial is an introduction to:\n",
    "1. Logging onto **CESM-Lab**, a containerized version of the Community Earth System Model that's running in the cloud for purposes of this tutorial; and \n",
    "2. **Using GitHub** to clone the code base for Community Terrestrial Systems Model (CTSM) into your cloud environment.  \n",
    "\n",
    "<div class=\"alert alert-block alert-warning\">\n",
    "\n",
    "<b>NOTICE: These steps are required</b> before you can work on the materials provided in the rest of the tutorial.\n",
    "\n",
    "</div>"
   ]
  },
  {
   "cell_type": "markdown",
   "metadata": {},
   "source": [
    "***\n",
    "## CESM-Lab \n",
    "\n",
    "<div class=\"alert alert-block alert-info\">\n",
    "<b>CESM-Lab</b> is a containerized environment with CESM and Jupyter Lab.\n",
    "</div>\n",
    "\n",
    "<div>\n",
    "<img src=\"../images/cesm_lab_overview.png\" />\n",
    "</div>\n",
    "\n",
    "### Container and CESM-Lab Basics\n",
    "\n",
    "CTSM and CESM typically require computing resources that can be\n",
    "complicated to set up on new systems, a personal computer, or in the cloud. Now you can easily run CTSM using a container. \n",
    "\n",
    "#### What is a container?\n",
    "A container is preconfigured, portable application that can reliably run on any computing infrastructure.\n",
    "\n",
    "#### Why use a container?\n",
    "* **Portable** : Containers can run almost everywhere (Mac, Windows, Linux, and in tye cloud).\n",
    "* **Pre-configured** : No installation or porting required on containers.\n",
    "* **Standardized** : All users get the same environment.\n",
    "\n",
    "#### CESM-Lab\n",
    "The capability to CTSM simulations in the cloud is available using the CESM-Lab container.\n",
    "\n",
    "---"
   ]
  },
  {
   "cell_type": "markdown",
   "metadata": {},
   "source": [
    "## 1. Logging onto CESM-Lab \n",
    "\n",
    "To log onto our cloud environment with CEMS-Lab we'll be using a Linux command-line\n",
    "\n",
    "**To Do:**\n",
    "- Mac: find *Terminal* in your Utilities\n",
    "- Windows: Run the *PowerShell* from the Start menu\n",
    "\n",
    "<div class=\"alert alert-block alert-info\">\n",
    "<b>NOTE:</b> All items marked with <b>To Do</b> should be done on the comand line, here from your local machine.\n",
    "</div>\n",
    "\n",
    "**To Do:**\n",
    "\n",
    "TODO\n",
    "\n",
    "`ssh {UserName}@ctsmworkshop.cesm.cloud`\n",
    "\n",
    "1. Enter your unique *{UserName}* provided with the tutorial registration material\n",
    "2. Next you'll be prompted for your password that you set up.\n",
    "3. After you log in, you're ready to go!  \n",
    "4. If you're logging in via the command linde enter the following line to get onto jupyter lab \n",
    "`jupyter lab --ip=0.0.0.0 --port 8xxx`\n",
    "*NOTE* insert three digits for x's after `--port 8xxx`\n",
    "\n",
    "---\n",
    "\n",
    "<div class=\"alert alert-block alert-info\">\n",
    "<b>NOTE:</b> This tutorial requires that you enter simple Linux command-line opperations in a Unix shell.  We'll walk you through these, but a basic understanding of Linux commands will be helpful.\n",
    "<ul>\n",
    "<li>The  <a href=\"https://swcarpentry.github.io/shell-novice/\" target=\"_top\">Software Carpentry page</a> has a helpful tutorial.\n",
    "</li>\n",
    "<li>There are a number of cheetsheets that summarize the basic commands like <a href=\"http://www.mathcs.emory.edu/~valerie/courses/fall10/155/resources/unix_cheatsheet.html\" target=\"_top\">this,</a> \n",
    "<a href=\"https://upload.wikimedia.org/wikipedia/commons/7/79/Unix_command_cheatsheet.pdf\" target=\"_top\">or this,</a> you can also look for one you like.</li>\n",
    "</ul>\n",
    "</div>\n",
    "\n",
    "First you need to open a terminal window within CESM-Lab:\n",
    "1. Click on the `+` symbol in the upper left for a *New Launcher*\n",
    "2. Click on the *Terminal* icon\n",
    "\n",
    "<div>\n",
    "    <img src=\"../images/LaunchTerminal.png\" \n",
    "         style=\"width:655px; height:375px;\" />\n",
    "</div>\n",
    "\n",
    "\n",
    "#### Try some simple commands in your terminal window:\n",
    "\n",
    "`pwd` for your current directory\n",
    "\n",
    "`ls` to see what else is in this directory\n",
    "\n",
    "`cd ..` to move up one directory\n",
    "\n",
    "`ls` to see what else is in this directory\n",
    "\n",
    "This should mirror the directory structure you see in the sidebar of your Jupyter Lab window.\n",
    "\n",
    "<div class=\"alert alert-block alert-warning\">\n",
    "\n",
    "<b>NOTICE:</b>  If you're familiar with running CTSM on an HPC system, like Cheyenne, you'll notice suble differences in the directory structure for the CESM-Lab container that we've set up for the cloud.  \n",
    "\n",
    "If you're using this tutorial, but running on an HPC system the directory structure won't exactly match what's illustrated in this tutorial.\n",
    "</div>\n",
    "\n",
    "**Move onto part two** where you'll clone CTSM from Github\n",
    "    "
   ]
  },
  {
   "cell_type": "markdown",
   "metadata": {
    "tags": []
   },
   "source": [
    "## 2. Git and GitHub\n",
    "\n",
    "All of the software development that goes into CESM and CTSM are publically available through different GitHub repositories.  You can find information, track conversations, create issues, and learn lots about what's going on with CTSM development through the [CTSM GitHub repository](https://github.com/ESCOMP/ctsm) and the associated wiki.\n",
    "\n",
    "\n",
    "Git is an open-source version control software to track your changes in the source code.\n",
    "<div>\n",
    "    <img src=\"../images/github.png\" \n",
    "         style=\"float:left; padding-right:10px; width:60px; height:60px;\" />\n",
    "</div>\n",
    "GitHub provides a centralized online service to host the source code and version control using Git.\n",
    "<br><br>\n",
    "\n",
    "**Learning all the trick and features of Git and GitHub takes some time to master.**  We won't really get into any details here, but can suggest a few places to start learning more about these powerful tools.\n",
    "\n",
    "- [This tutorial from software carpentry](https://swcarpentry.github.io/git-novice/) provides a hands-on tutorial for Git and GitHub.\n",
    "- The [CTSM wiki page on GitHub](https://github.com/ESCOMP/CTSM/wiki/Quick-start-to-CTSM-development-with-git) also has useful information and tools for your reference\n",
    "\n",
    "---"
   ]
  },
  {
   "cell_type": "markdown",
   "metadata": {
    "tags": []
   },
   "source": [
    "### You can find the link for CTSM on the GitHub repository:\n",
    "https://github.com/ESCOMP/CTSM\n",
    "\n",
    "*If you click on the green `Code` button,*  you'll see an http link can be used to clone the CTSM code.\n",
    "<div>\n",
    "    <img src=\"../images/ctsm_GitHub.png\" \n",
    "         style=\"width:655px; height:375px;\" />\n",
    "</div>"
   ]
  },
  {
   "cell_type": "markdown",
   "metadata": {
    "tags": []
   },
   "source": [
    "<h3> 2.1 Clone the CTSM repository </h3>\n",
    "\n",
    "This is a one-time step to download the latest development branch of CTSM to your local environment in the cloud\n",
    "\n",
    "<div class=\"alert alert-block alert-info\">\n",
    "<b>NOTE:</b> All items marked with <b>To Do</b> should be done on the comand line, here from CESM-Lab in the cloud, after you're logged in.\n",
    "</div>\n",
    "\n",
    "#### **To Do:** \n",
    " `cd ~`\n",
    " \n",
    " `git clone https://github.com/ESCOMP/CTSM.git CTSM`\n",
    "\n",
    "`cd CTSM`\n",
    "\n",
    "`./manage_externals/checkout_externals`\n",
    "\n",
    "---\n",
    "### In the steps above accompished the following \n",
    " - `cd ~` = change to your home directory\n",
    " - `git clone...` = clone the CTSM code into a new directory with that name\n",
    " - `..checkout_externals` = gets additional code from external repositories like FATES, cime, mosart, and other respositores that CTSM needs to run.\n"
   ]
  },
  {
   "cell_type": "markdown",
   "metadata": {},
   "source": [
    "***\n",
    "### Congratulations\n",
    "You're ready to start running simulations with CTSM in the cloud!\n",
    "Next you can move onto the **Day 0b Tutorial:** *CTSM Simulations at NEON Tower Sites*\n",
    "\n",
    "First it will be easier for to download the tutorial material locally onto "
   ]
  },
  {
   "cell_type": "markdown",
   "metadata": {},
   "source": [
    "**To Do:**\n",
    "\n",
    "`cd ~`\n",
    "\n",
    "`git clone https://github.com/NCAR/CTSM-Tutorial-2022`\n",
    "\n",
    "`cd CTSM-Tutorial-2022`\n",
    "\n"
   ]
  },
  {
   "cell_type": "code",
   "execution_count": null,
   "metadata": {},
   "outputs": [],
   "source": []
  }
 ],
 "metadata": {
  "kernelspec": {
   "display_name": "Python 3",
   "language": "python",
   "name": "python3"
  },
  "language_info": {
   "codemirror_mode": {
    "name": "ipython",
    "version": 3
   },
   "file_extension": ".py",
   "mimetype": "text/x-python",
   "name": "python",
   "nbconvert_exporter": "python",
   "pygments_lexer": "ipython3",
   "version": "3.7.8"
  }
 },
 "nbformat": 4,
 "nbformat_minor": 4
}
