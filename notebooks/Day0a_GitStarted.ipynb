{
 "cells": [
  {
   "cell_type": "markdown",
   "metadata": {},
   "source": [
    "# Tutorial 0a: *CTSM, CESM-Lab, & Git*\n",
    "\n",
    "This tutorial is an introduction to:\n",
    "1. CTSM and its CLM configuration\n",
    "2. Logging onto **CESM-Lab**, a containerized version of the Community Earth System Model that's running in the cloud for purposes of this tutorial; and \n",
    "3. **Using GitHub** to clone the code base for Community Terrestrial Systems Model (CTSM) into your cloud environment.  \n",
    "\n",
    "<div class=\"alert alert-block alert-warning\">\n",
    "\n",
    "<b>NOTICE: These steps are required</b> before you can work on the materials provided in the rest of the tutorial.\n",
    "\n",
    "</div>"
   ]
  },
  {
   "cell_type": "markdown",
   "metadata": {},
   "source": [
    "***\n",
    "## 1. CTSM \n",
    "\n",
    "**CTSM** is the **Community Terrestrial Systems Model** and is the land component of the **Community Earth System Model (CESM)**. There are several configuration options of CTSM and throughout this tutorial we will use the Community Land Model (CLM) configuration which is the climate and biogeochemistry mode of CTSM. CTSM also includes a weather configuration (NOAH-MP). \n",
    "\n",
    "Additional information about CTSM and CLM is available [on the website](https://www.cesm.ucar.edu/models/cesm2/land/), including [technical documentation](https://escomp.github.io/ctsm-docs/versions/master/html/tech_note/index.html), a [user’s guide](https://escomp.github.io/ctsm-docs/versions/master/html/users_guide/index.html), and a [quickstart guide](https://escomp.github.io/CESM/release-cesm2/quickstart.html#create-a-case) for running various model configurations beyond what is covered in this tutorial."
   ]
  },
  {
   "cell_type": "markdown",
   "metadata": {},
   "source": [
    "***\n",
    "## 2. CESM-Lab \n",
    "\n",
    "<div class=\"alert alert-block alert-info\">\n",
    "<b>CESM-Lab</b> is a preconfigured, standardized environment with CESM and Jupyter Lab.\n",
    "</div>\n",
    "\n",
    "<div>\n",
    "<img src=\"../images/cesm_lab_overview.png\" />\n",
    "</div>\n",
    "\n",
    "### CESM-Lab Basics\n",
    "\n",
    "CTSM and CESM require computing resources that can be complicated to set up on new computing systems, a personal computer, or in the cloud. **CESM-Lab** is available via containers and cloud platforms to allow researchers to easily run CTSM and CESM on their own systems or on-demand in the cloud.\n",
    "\n",
    "\n",
    "#### What is a container?  And what is the cloud?\n",
    "A _container_ is preconfigured, portable application that can reliably run on any computing infrastructure.\n",
    "<br>The _cloud_ is rentable infrastructure available on-demand - at the moment, only AWS is supported, but Azure & GCP will be added later.\n",
    "\n",
    "---"
   ]
  },
  {
   "cell_type": "markdown",
   "metadata": {},
   "source": [
    "**This tutorial uses a Jupyter Notebook.** A Jupyter Notebook is an interactive computing environment that enables the creation and sharing of documents that contain discrete cells of text or documentation and executable code, including plots. It allows users to access, run, and edit the code in a browser. To interact with this notebook:\n",
    "\n",
    "- Execute or \"run\" cells of executable code (cells denoted with `[ ]:`) using the play button in the menu at the top (see below image), or by typing `shift+enter`.\n",
    "\n",
    "- The results of running code, such as plots, will appear below that cell\n",
    "\n",
    "- Each step must be followed in order, otherwise you may encounter errors\n",
    "\n",
    "![run cell](https://problemsolvingwithpython.com/02-Jupyter-Notebooks/images/run_cell.png)\n",
    "\n",
    "For more information on Jupyter notebooks please see the [Jupyter Notebook Quick Start Guide](https://jupyter-notebook-beginner-guide.readthedocs.io/en/latest/what_is_jupyter.html). \n",
    "***"
   ]
  },
  {
   "cell_type": "markdown",
   "metadata": {},
   "source": [
    "## 2.1 Logging onto CESM-Lab \n",
    "\n",
    "You're likely already logged into CESM-Lab, but if not, for the 2022 CTSM Workshop:\n",
    "\n",
    "- In your web browser go to https://ctsmworkshop2022.cesm.cloud/\n",
    "- Enter your user name and passsword provided with your tutorial registration\n",
    "\n",
    "This should launch a JupyterLab window in your browser\n",
    "\n",
    "<div class=\"alert alert-block alert-info\">\n",
    "<b>NOTE:</b> This tutorial requires that you enter simple Linux command-line operations.  We'll walk you through these, but a basic understanding of Linux commands will be helpful.\n",
    "<ul>\n",
    "<li>The  <a href=\"https://swcarpentry.github.io/shell-novice/\" target=\"_top\">Software Carpentry page</a> has a helpful tutorial.\n",
    "</li>\n",
    "<li>There are a number of cheatsheets that summarize the basic commands like <a href=\"http://www.mathcs.emory.edu/~valerie/courses/fall10/155/resources/unix_cheatsheet.html\" target=\"_top\">this,</a> \n",
    "<a href=\"https://upload.wikimedia.org/wikipedia/commons/7/79/Unix_command_cheatsheet.pdf\" target=\"_top\">or this.</a> You can also look for one you like.</li>\n",
    "</ul>\n",
    "</div>\n",
    "\n",
    "#### Open a terminal window within CESM-Lab\n",
    " In this tutorial, you can run these Linux commands either inside the executable Jupyter Notebook cells, or in a terminal window. You should see a terminal window open in your CESM-Lab environment\n",
    "<div>\n",
    "    <img src=\"../images/Terminal_view.png\" \n",
    "         style=\"width:655px; height:175px;\" />\n",
    "</div>\n",
    "\n",
    "If you  don't see this, open up a terminal window by:\n",
    "1. Clicking on the `+` symbol in the upper left for a *New Launcher*\n",
    "2. Clicking on the *Terminal* icon\n",
    "\n",
    "<div>\n",
    "    <img src=\"../images/LaunchTerminal.png\" \n",
    "         style=\"width:655px; height:375px;\" />\n",
    "</div>\n",
    "\n",
    "\n",
    "#### Try some simple commands in your terminal window\n",
    "\n",
    "`pwd` for your current directory\n",
    "\n",
    "`ls` to see what else is in this directory\n",
    "\n",
    "`cd ..` to move up one directory\n",
    "\n",
    "`ls` to see what else is in this directory\n",
    "\n",
    "This should mirror the directory structure you see in the sidebar of your Jupyter Lab window.\n",
    "\n",
    "<div class=\"alert alert-block alert-warning\">\n",
    "\n",
    "<b>NOTICE:</b>  If you're familiar with running CTSM on an HPC system, like Cheyenne, you'll notice suble differences in the directory structure for the CESM-Lab container that we've set up for the cloud.  \n",
    "\n",
    "If you're using this tutorial but running on an HPC system (rather than the cloud) the directory structure won't exactly match what's illustrated in this tutorial.\n",
    "</div>\n",
    "\n",
    "**Move onto part three** where you'll clone CTSM from Github\n",
    "    "
   ]
  },
  {
   "cell_type": "markdown",
   "metadata": {
    "tags": []
   },
   "source": [
    "***\n",
    "## 3. Git and GitHub\n",
    "\n",
    "All of the software and new code developments that go into CESM and CTSM are publically available through different GitHub repositories.  You can find information, track conversations, create issues, and learn lots about what's going on with CTSM development through the [CTSM GitHub repository](https://github.com/ESCOMP/ctsm) and the associated wiki.\n",
    "\n",
    "\n",
    "Git is an open-source version control software to track your changes in the source code.\n",
    "<div>\n",
    "    <img src=\"../images/github.png\" \n",
    "         style=\"float:left; padding-right:10px; width:60px; height:60px;\" />\n",
    "</div>\n",
    "GitHub provides a centralized online service to host the source code and version control using Git.\n",
    "<br><br>\n",
    "\n",
    "**Learning all the tricks and features of Git and GitHub takes some time to figure out.**  We will only use basic features here, but can suggest a few places to start learning more about these powerful tools.\n",
    "\n",
    "- [This tutorial from software carpentry](https://swcarpentry.github.io/git-novice/) provides a hands-on tutorial for Git and GitHub.\n",
    "- The [CTSM wiki page on GitHub](https://github.com/ESCOMP/CTSM/wiki/Quick-start-to-CTSM-development-with-git) also has useful information and tools for your reference"
   ]
  },
  {
   "cell_type": "markdown",
   "metadata": {
    "tags": []
   },
   "source": [
    "#### Navigate to the link for CTSM on the GitHub repository: https://github.com/ESCOMP/CTSM\n",
    "\n",
    "*If you click on the green `Code` button,*  you'll see an http link can be used to clone the CTSM code.\n",
    "<div>\n",
    "    <img src=\"../images/ctsm_GitHub.png\" \n",
    "         style=\"width:655px; height:375px;\" />\n",
    "</div>"
   ]
  },
  {
   "cell_type": "markdown",
   "metadata": {
    "tags": []
   },
   "source": [
    "---\n",
    "<h3> 3.1 Clone the CTSM repository </h3>\n",
    "\n",
    "This is a one-time step to download the latest development branch of CTSM.\n",
    "\n",
    "<div class=\"alert alert-block alert-info\">\n",
    "<b>NOTE:</b> All items marked with <b>To Do</b> should be done on the terminal's <i>comand line</i> within <b>CESM-Lab</b>. You can also run these code blocks from the notebook directly.\n",
    "</div>\n",
    "\n",
    "#### **To Do:**\n",
    "Clone and set up CTSM in your home directory:\n",
    "\n",
    "Run the code block in cell of the notebook below *OR* your can type the following into the terminal window. "
   ]
  },
  {
   "cell_type": "code",
   "execution_count": null,
   "metadata": {
    "tags": []
   },
   "outputs": [],
   "source": [
    "cd ~\n",
    "# git clone https://github.com/ESCOMP/CTSM.git\n",
    "# For testing we're going to use this branch\n",
    "git clone -b dobbins-ctsmworkshop-2022 https://github.com/briandobbins/CTSM.git"
   ]
  },
  {
   "cell_type": "code",
   "execution_count": null,
   "metadata": {
    "tags": []
   },
   "outputs": [],
   "source": [
    "cd ~/CTSM\n",
    "./manage_externals/checkout_externals"
   ]
  },
  {
   "cell_type": "markdown",
   "metadata": {
    "tags": []
   },
   "source": [
    "---\n",
    "### The steps above accompished the following:\n",
    " - `cd ~` = change to your home directory\n",
    " - `git clone...` = clone the CTSM code into a new directory with that name\n",
    " - `..checkout_externals` = gets additional code from external repositories like FATES, cime, mosart, and others that CTSM needs to run."
   ]
  },
  {
   "cell_type": "markdown",
   "metadata": {},
   "source": [
    "***\n",
    "### Congratulations!\n",
    "You're ready to start running simulations with CTSM!\n",
    "Next you can move onto the [**Day 0b Tutorial:** *CTSM Simulations at NEON Tower Sites*](Day0b_NEON_Simulation_Tutorial.ipynb)\n",
    "\n",
    "---"
   ]
  },
  {
   "cell_type": "code",
   "execution_count": null,
   "metadata": {},
   "outputs": [],
   "source": []
  }
 ],
 "metadata": {
  "kernelspec": {
   "display_name": "Bash",
   "language": "bash",
   "name": "bash"
  },
  "language_info": {
   "codemirror_mode": "shell",
   "file_extension": ".sh",
   "mimetype": "text/x-sh",
   "name": "bash"
  }
 },
 "nbformat": 4,
 "nbformat_minor": 4
}
