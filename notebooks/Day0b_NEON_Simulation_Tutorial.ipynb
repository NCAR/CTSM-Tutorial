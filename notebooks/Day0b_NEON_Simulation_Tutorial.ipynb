{
 "cells": [
  {
   "cell_type": "markdown",
   "metadata": {},
   "source": [
    "# Tutorial 0b: CTSM Simulations at NEON Tower Sites \n",
    "\n",
    "This tutorial is an introduction to running the Community Terrestrial Systems Model (CTSM) at [NEON tower sites](https://www.neonscience.org/).  It will guide you through running a simulation and provides example visualization of the simulation results. If you want to dive deeper, after you complete a NEON tower simulation in this tutorial, you can use the [NEON_Visualization_Tutorial](https://github.com/NCAR/NEON-visualization) to explore observation and model data further.\n",
    "<br><br>\n",
    "\n",
    "![NEON Tower](../images/STER_tower.png)\n",
    "\n",
    "\n",
    "**A few notes about the model:** There are several configuration options of CTSM, and throughout this tutorial we will use the Community Land Model (CLM) configuration which is the climate and biogeochemistry mode of CTSM. Throughout the rest of this tutorial, we refer to the model as CLM and will use version 5.1 with active biogeochemistry (CLM5.1-BGC).\n",
    "\n",
    "Additional information about CTSM and CLM is available [on the website](https://www.cesm.ucar.edu/models/cesm2/land/), including [technical documentation](https://escomp.github.io/ctsm-docs/versions/master/html/tech_note/index.html), a [user's guide](https://escomp.github.io/ctsm-docs/versions/master/html/users_guide/index.html), and a [quickstart guide](https://escomp.github.io/CESM/release-cesm2/quickstart.html#create-a-case) for running various model configurations beyond what is covered in this tutorial.\n",
    "\n",
    "Specifically, this example runs a single point case with data from a flux tower that's part of the National Ecological Observatory Network (NEON).  You can find out more about the [NCAR-NEON collaboration at this website](https://github.com/NCAR/NEON-visualization).  This effort aims to links NCAR’s modeling capabilities with NEON’s measurement network through an NSF supported cyberinfrastructure project.\n",
    "\n",
    "**Questions about this tutorial?** Please post them on the [CTSM forum in the CESM Bulletin Board](https://bb.cgd.ucar.edu/cesm/forums/ctsm-clm-mosart-rtm.134/). Note that this resource will require you to register and log in so that you can be notified of responses to your inquiries. You can also file issues on the [CTSM tutorial 2022 GitHub repository](https://github.com/NCAR/CTSM-Tutorial-2022).\n",
    "***"
   ]
  },
  {
   "cell_type": "markdown",
   "metadata": {},
   "source": [
    "## In this tutorial\n",
    "\n",
    "The tutorial has several components. Below you will find steps to: \n",
    "1. Set up and run a simulation\n",
    "2. Locate CLM model data\n",
    "3. Look at plots of simulated soil temperature and moisture data"
   ]
  },
  {
   "cell_type": "markdown",
   "metadata": {},
   "source": [
    "<h2> 1. Set up and run a simulation</h2>\n",
    "\n",
    "*This step guides you through running a CLM model simulation for a NEON flux tower using meteorology observations from the tower. Here, the many steps to run CLM are condensed into a single function. On Day 2 of the tutorial we'll provide instructions for modifying code.* <br>\n",
    "\n",
    "***\n",
    "<h4>1.1 Select a NEON tower site to simulate.</h4>\n",
    "\n",
    "NEON towers currently available for simulation include:  \n",
    "\n",
    ">ABBY, BART, BLAN, CPER, DCFS, DSNY, GRSM, HARV, JERC, JORN, KONZ, MOAB, NOGP, OAES, ORNL, OSBS, SCBI, SERC, SOAP, SRER, STEI, TALL, TREE, UKFS, UNDE, WOOD.  \n",
    "\n",
    "The [NEON website](https://www.neonscience.org/field-sites/explore-field-sites) describes tower sites in more detail.\n",
    "\n",
    "Before running the below code, keep in mind:\n",
    "- The executable code below selects the **ABBY** site for simulation. If you would like to simulate a different tower, select the NEON tower from the above list and change the 4-character site name inside the quotes below.\n",
    "- The site must be defined correctly so you do not get an error in the next step.\n",
    "    - use all capital letters \n",
    "    - double-check that the letters match one of the above site names\n",
    "\n",
    "*Execute the cell below by clicking in the cell below, and then either clicking the play button in the menu bar above, or pressing 'shift+enter'*"
   ]
  },
  {
   "cell_type": "code",
   "execution_count": 2,
   "metadata": {},
   "outputs": [],
   "source": [
    "#Change the 4-character NEON site below.\n",
    "neon_site= \"KONZ\"\n",
    "\n",
    "# Set an environment variable to the site we want to use, for easier use in scripts\n",
    "import os\n",
    "os.environ['site'] = neon_site"
   ]
  },
  {
   "cell_type": "markdown",
   "metadata": {},
   "source": [
    "***\n",
    "<h4>1.2 Create and run a NEON tower site simulation.</h4>  \n",
    "\n",
    "The executable code below runs a python script, `run_neon.py`. This script:\n",
    "\n",
    "* creates (`create_newcase`)\n",
    "* sets up (`case.setup`)\n",
    "* compiles (`case.build`)\n",
    "* runs (`case.submit`)\n",
    "    \n",
    "We'll go over all of these in more detail for the Day 1 tutorial.\n",
    "\n",
    "Bellow we'll run a simulation for the tower site you specified above for all years that tower meteorology data are available. The text in parentheses show the commands that are typically required to set up and run a simulation. These steps are automated for you in the `run_neon` script.\n",
    "\n",
    "Note that this step requires input data (~2.5GB) for the model simulation.  For the cloud environment, this data is predownloaded and ready to use.  If you're doing this tutorial in the single-user containerized CESM-Lab environment, downloading this data may take several minutes to complete, depending on your internet speeds, so please be patient.  Many things will print below the cell as data are downloaded and the model compiles. You might see lines that say 'ERROR' or 'file not found'; this is ok if the simulation continues running to completion, and will be addressed in future changes to our data download process.\n",
    "\n",
    "Run the command below - note that it will take several minutes without printing additional updates, so be patient!  We are using a 'helper' script here, 'qcmd', which will allocate a small compute node for each individual to build and run the case.  \n",
    "\n",
    "<style> \n",
    "table td, table th, table tr {text-align:left !important;}\n",
    "</style>\n",
    "<div class=\"alert alert-block alert-info\">\n",
    "\n",
    "<b>NOTE:</b> The command <i>qcmd -- ./case.build</i> is specific for NCAR environments, including Cheyenne and cloud configurations, and runs the command on a computing node, reducing the load on the login node. <b>You must include <i>qcmd --</i> when running on Cheyenne</b>, and it's highly advised on shared cloud systems too.\n",
    "</div>\n",
    "\n"
   ]
  },
  {
   "cell_type": "code",
   "execution_count": 3,
   "metadata": {},
   "outputs": [
    {
     "name": "stdout",
     "output_type": "stream",
     "text": [
      "Submitting command to Slurm:\n",
      "    run_neon --neon-sites KONZ --output-root /home/negins/scratch/CLM-NEON\n",
      "\n",
      "Waiting for job 160 to start ... \n",
      "\n",
      "\n",
      "Using NEON tools in /home/negins/CTSM/tools/site_and_regional:\n",
      "/home/negins/CTSM/tools/site_and_regional/run_neon.py --neon-sites KONZ --output-root /home/negins/scratch/CLM-NEON\n",
      "WARNING: No .input_data_list files found in dir 'Buildconf'\n",
      "varname datafiles is already in stream mod dictionary\n",
      "varname year_first is already in stream mod dictionary\n",
      "varname year_last is already in stream mod dictionary\n",
      "varname year_align is already in stream mod dictionary\n",
      "varname dtlimit is already in stream mod dictionary\n",
      "\n",
      "env_batch.xml appears to have changed, regenerating batch scripts\n",
      "manual edits to these file will be lost!\n",
      "\n",
      "varname datafiles is already in stream mod dictionary\n",
      "varname year_first is already in stream mod dictionary\n",
      "varname year_last is already in stream mod dictionary\n",
      "varname year_align is already in stream mod dictionary\n",
      "varname dtlimit is already in stream mod dictionary\n",
      "submit_jobs case.run\n",
      "Submit job case.run\n",
      "Submit job case.st_archive\n",
      "---- building a base case -------\n",
      "---- creating a base case -------\n",
      "---- base case created ------\n",
      "---- base case setup ------\n",
      "---- base case build ------\n",
      "Time required to building the base case: 338.5503308773041 s.\n",
      "using this version: latest\n",
      "---- cloning the base case in /home/negins/scratch/CLM-NEON/KONZ.transient\n",
      "Model ctsm missing file finidat = '/home/negins/scratch/CLM-NEON/KONZ.transient/run/inputdata/lnd/ctsm/initdata/KONZ.2021-09-02.clm2.r.0268-01-01-00000.nc'\n",
      "Model datm missing file file1 = '/home/negins/scratch/CLM-NEON/KONZ.transient/run/inputdata/atm/cdeps/v1/KONZ/KONZ_atm_2018-01.nc'\n",
      "Model datm missing file file2 = '/home/negins/scratch/CLM-NEON/KONZ.transient/run/inputdata/atm/cdeps/v1/KONZ/KONZ_atm_2018-02.nc'\n",
      "Model datm missing file file3 = '/home/negins/scratch/CLM-NEON/KONZ.transient/run/inputdata/atm/cdeps/v1/KONZ/KONZ_atm_2018-03.nc'\n",
      "Model datm missing file file4 = '/home/negins/scratch/CLM-NEON/KONZ.transient/run/inputdata/atm/cdeps/v1/KONZ/KONZ_atm_2018-04.nc'\n",
      "Model datm missing file file5 = '/home/negins/scratch/CLM-NEON/KONZ.transient/run/inputdata/atm/cdeps/v1/KONZ/KONZ_atm_2018-05.nc'\n",
      "Model datm missing file file6 = '/home/negins/scratch/CLM-NEON/KONZ.transient/run/inputdata/atm/cdeps/v1/KONZ/KONZ_atm_2018-06.nc'\n",
      "Model datm missing file file7 = '/home/negins/scratch/CLM-NEON/KONZ.transient/run/inputdata/atm/cdeps/v1/KONZ/KONZ_atm_2018-07.nc'\n",
      "Model datm missing file file8 = '/home/negins/scratch/CLM-NEON/KONZ.transient/run/inputdata/atm/cdeps/v1/KONZ/KONZ_atm_2018-08.nc'\n",
      "Model datm missing file file9 = '/home/negins/scratch/CLM-NEON/KONZ.transient/run/inputdata/atm/cdeps/v1/KONZ/KONZ_atm_2018-09.nc'\n",
      "Model datm missing file file10 = '/home/negins/scratch/CLM-NEON/KONZ.transient/run/inputdata/atm/cdeps/v1/KONZ/KONZ_atm_2018-10.nc'\n",
      "Model datm missing file file11 = '/home/negins/scratch/CLM-NEON/KONZ.transient/run/inputdata/atm/cdeps/v1/KONZ/KONZ_atm_2018-11.nc'\n",
      "Model datm missing file file12 = '/home/negins/scratch/CLM-NEON/KONZ.transient/run/inputdata/atm/cdeps/v1/KONZ/KONZ_atm_2018-12.nc'\n",
      "Model datm missing file file13 = '/home/negins/scratch/CLM-NEON/KONZ.transient/run/inputdata/atm/cdeps/v1/KONZ/KONZ_atm_2019-01.nc'\n",
      "Model datm missing file file14 = '/home/negins/scratch/CLM-NEON/KONZ.transient/run/inputdata/atm/cdeps/v1/KONZ/KONZ_atm_2019-02.nc'\n",
      "Model datm missing file file15 = '/home/negins/scratch/CLM-NEON/KONZ.transient/run/inputdata/atm/cdeps/v1/KONZ/KONZ_atm_2019-03.nc'\n",
      "Model datm missing file file16 = '/home/negins/scratch/CLM-NEON/KONZ.transient/run/inputdata/atm/cdeps/v1/KONZ/KONZ_atm_2019-04.nc'\n",
      "Model datm missing file file17 = '/home/negins/scratch/CLM-NEON/KONZ.transient/run/inputdata/atm/cdeps/v1/KONZ/KONZ_atm_2019-05.nc'\n",
      "Model datm missing file file18 = '/home/negins/scratch/CLM-NEON/KONZ.transient/run/inputdata/atm/cdeps/v1/KONZ/KONZ_atm_2019-06.nc'\n",
      "Model datm missing file file19 = '/home/negins/scratch/CLM-NEON/KONZ.transient/run/inputdata/atm/cdeps/v1/KONZ/KONZ_atm_2019-07.nc'\n",
      "Model datm missing file file20 = '/home/negins/scratch/CLM-NEON/KONZ.transient/run/inputdata/atm/cdeps/v1/KONZ/KONZ_atm_2019-08.nc'\n",
      "Model datm missing file file21 = '/home/negins/scratch/CLM-NEON/KONZ.transient/run/inputdata/atm/cdeps/v1/KONZ/KONZ_atm_2019-09.nc'\n",
      "Model datm missing file file22 = '/home/negins/scratch/CLM-NEON/KONZ.transient/run/inputdata/atm/cdeps/v1/KONZ/KONZ_atm_2019-10.nc'\n",
      "Model datm missing file file23 = '/home/negins/scratch/CLM-NEON/KONZ.transient/run/inputdata/atm/cdeps/v1/KONZ/KONZ_atm_2019-11.nc'\n",
      "Model datm missing file file24 = '/home/negins/scratch/CLM-NEON/KONZ.transient/run/inputdata/atm/cdeps/v1/KONZ/KONZ_atm_2019-12.nc'\n",
      "Model datm missing file file25 = '/home/negins/scratch/CLM-NEON/KONZ.transient/run/inputdata/atm/cdeps/v1/KONZ/KONZ_atm_2020-01.nc'\n",
      "Model datm missing file file26 = '/home/negins/scratch/CLM-NEON/KONZ.transient/run/inputdata/atm/cdeps/v1/KONZ/KONZ_atm_2020-02.nc'\n",
      "Model datm missing file file27 = '/home/negins/scratch/CLM-NEON/KONZ.transient/run/inputdata/atm/cdeps/v1/KONZ/KONZ_atm_2020-03.nc'\n",
      "Model datm missing file file28 = '/home/negins/scratch/CLM-NEON/KONZ.transient/run/inputdata/atm/cdeps/v1/KONZ/KONZ_atm_2020-04.nc'\n",
      "Model datm missing file file29 = '/home/negins/scratch/CLM-NEON/KONZ.transient/run/inputdata/atm/cdeps/v1/KONZ/KONZ_atm_2020-05.nc'\n",
      "Model datm missing file file30 = '/home/negins/scratch/CLM-NEON/KONZ.transient/run/inputdata/atm/cdeps/v1/KONZ/KONZ_atm_2020-06.nc'\n",
      "Model datm missing file file31 = '/home/negins/scratch/CLM-NEON/KONZ.transient/run/inputdata/atm/cdeps/v1/KONZ/KONZ_atm_2020-07.nc'\n",
      "Model datm missing file file32 = '/home/negins/scratch/CLM-NEON/KONZ.transient/run/inputdata/atm/cdeps/v1/KONZ/KONZ_atm_2020-08.nc'\n",
      "Model datm missing file file33 = '/home/negins/scratch/CLM-NEON/KONZ.transient/run/inputdata/atm/cdeps/v1/KONZ/KONZ_atm_2020-09.nc'\n",
      "Model datm missing file file34 = '/home/negins/scratch/CLM-NEON/KONZ.transient/run/inputdata/atm/cdeps/v1/KONZ/KONZ_atm_2020-10.nc'\n",
      "Model datm missing file file35 = '/home/negins/scratch/CLM-NEON/KONZ.transient/run/inputdata/atm/cdeps/v1/KONZ/KONZ_atm_2020-11.nc'\n",
      "Model datm missing file file36 = '/home/negins/scratch/CLM-NEON/KONZ.transient/run/inputdata/atm/cdeps/v1/KONZ/KONZ_atm_2020-12.nc'\n",
      "Model datm missing file file37 = '/home/negins/scratch/CLM-NEON/KONZ.transient/run/inputdata/atm/cdeps/v1/KONZ/KONZ_atm_2021-01.nc'\n",
      "Model datm missing file file38 = '/home/negins/scratch/CLM-NEON/KONZ.transient/run/inputdata/atm/cdeps/v1/KONZ/KONZ_atm_2021-02.nc'\n",
      "Model datm missing file file39 = '/home/negins/scratch/CLM-NEON/KONZ.transient/run/inputdata/atm/cdeps/v1/KONZ/KONZ_atm_2021-03.nc'\n",
      "Model datm missing file file40 = '/home/negins/scratch/CLM-NEON/KONZ.transient/run/inputdata/atm/cdeps/v1/KONZ/KONZ_atm_2021-04.nc'\n",
      "Model datm missing file file41 = '/home/negins/scratch/CLM-NEON/KONZ.transient/run/inputdata/atm/cdeps/v1/KONZ/KONZ_atm_2021-05.nc'\n",
      "Model datm missing file file42 = '/home/negins/scratch/CLM-NEON/KONZ.transient/run/inputdata/atm/cdeps/v1/KONZ/KONZ_atm_2021-06.nc'\n",
      "Model datm missing file file43 = '/home/negins/scratch/CLM-NEON/KONZ.transient/run/inputdata/atm/cdeps/v1/KONZ/KONZ_atm_2021-07.nc'\n",
      "Model datm missing file file44 = '/home/negins/scratch/CLM-NEON/KONZ.transient/run/inputdata/atm/cdeps/v1/KONZ/KONZ_atm_2021-08.nc'\n",
      "Model datm missing file file45 = '/home/negins/scratch/CLM-NEON/KONZ.transient/run/inputdata/atm/cdeps/v1/KONZ/KONZ_atm_2021-09.nc'\n"
     ]
    }
   ],
   "source": [
    "qcmd -- run_neon --neon-sites $site --output-root ~/scratch/CLM-NEON"
   ]
  },
  {
   "cell_type": "markdown",
   "metadata": {},
   "source": [
    "<h4> 1.3 Check your job status</h4>\n",
    "\n",
    "At this point, your job is submitted, but jobs on shared systems like Cheyenne and the cloud often need to wait for resources.  You can check to see if your job is complete by running the 'qstat' command.\n",
    "\n",
    "Try that now in the following cell, and re-run this cell periodically until it no longer shows any output for you.  This will take around 25 minutes in total - about 5 for building the model, and 20 for running it for the 44 simulated months.  So grab a coffee or a snack, and check back after!"
   ]
  },
  {
   "cell_type": "code",
   "execution_count": 4,
   "metadata": {},
   "outputs": [
    {
     "name": "stdout",
     "output_type": "stream",
     "text": [
      "\n",
      "ctsmworkshop2022.cesm.cloud:\n",
      "                                                                               Req'd  Req'd   Elap \n",
      "Job id               Username Queue    Name                 SessID NDS   TSK   Memory Time Use S Time \n",
      "-------------------- -------- -------- -------------------- ------ ----- ----- ------ ----- - -----\n",
      "160                  negins   build    qcmd                 --         1     4     -- 60:00 C 00:06\n",
      "161                  negins   serial   run.KONZ.transient   --         1     1     -- 04:00 R 00:00\n",
      "162                  negins   serial   st_archive.KONZ.tran --         1     1     -- 00:20 Q 00:00\n"
     ]
    }
   ],
   "source": [
    "!qstat -u ${USER}"
   ]
  },
  {
   "cell_type": "markdown",
   "metadata": {},
   "source": [
    "---\n",
    "Once your jobs are complete (or show the 'C' state under the 'Use' column, which means complete), we can check the CaseStatus file to ensure there were no errors and it completed successfully.  To do this, we'll 'tail' the end of the CaseStatus file:"
   ]
  },
  {
   "cell_type": "code",
   "execution_count": null,
   "metadata": {},
   "outputs": [],
   "source": [
    "!tail  ~/scratch/CLM-NEON/${site}.transient/CaseStatus"
   ]
  },
  {
   "cell_type": "markdown",
   "metadata": {},
   "source": [
    "You should see several lines, with the middle one saying 'case.run success'.  \n",
    "\n",
    "Before that you'll see notifications about xml changes, case.setup, and case.submit, and case.run"
   ]
  },
  {
   "cell_type": "markdown",
   "metadata": {},
   "source": [
    "\n",
    "\n",
    "### Congratulations! You've created and run CLM for the NEON tower you selected.\n",
    "Follow the steps below to see a few example plots from simulated data. \n",
    "\n",
    "**Note:** If your model simulation did not complete, there will likely be an error message with more information. If you do not understand the error message, please post your question on the [CTSM forum in the CESM Bulletin Board](https://bb.cgd.ucar.edu/cesm/forums/ctsm-clm-mosart-rtm.134/).\n"
   ]
  },
  {
   "cell_type": "markdown",
   "metadata": {
    "tags": []
   },
   "source": [
    "***\n",
    "<h4> Optional </h4>\n",
    "\n",
    "If you would like to see additional and more advanced options for running NEON tower site simulations, many are listed in the python script you just executed. You can use the `--help` option to see more. <p>\n",
    "\n",
    "*Executing the below cell is optional and will print options available options in the `run_neon` python script*:\n"
   ]
  },
  {
   "cell_type": "code",
   "execution_count": null,
   "metadata": {},
   "outputs": [],
   "source": [
    "run_neon --help"
   ]
  },
  {
   "cell_type": "markdown",
   "metadata": {},
   "source": [
    "------------\n",
    "\n",
    "#### Below are a few additional tips for running simulations: \n",
    "\n",
    " __Tip:__ You can run multiple neon sites at once by choosing multiple neon sites in the command line argument. For example:\n",
    ">\n",
    ">```\n",
    ">run_neon.py --neon-sites ABBY BART BLAN\n",
    ">```\n",
    "\n",
    "<br/>\n",
    "\n",
    " __Tip:__ Use the `--overwrite` option to overwrite existing case directories.\n",
    ">\n",
    ">If you run a simulation for a NEON site that you have previously simulated, you will see an error like the following:\n",
    ">```\n",
    ">Case already exists in /home/<user>/scratch/CLM-NEON/ABBY.transient, not overwritting.\n",
    ">```\n",
    ">The overwrite option (e.g., adding `--overwrite` to the end of the `run_neon` command) can be used to avoid this error. \n",
    "\n",
    "\n",
    "<br/>\n",
    "\n",
    " __Tip:__ You can run the above `run_neon` command in your terminal shell. You will need to specify the NEON site and the output-root path by replacing `<site>` and `<path>` below with the appropriate values:\n",
    "\n",
    ">```\n",
    ">run_neon.py --neon-sites <site> --output-root <path>\n",
    ">```\n",
    "\n",
    "<br/>\n",
    "    \n",
    " __Tip:__ The container will not overwrite existing files. If there are newer versions of a tutorial or input data you want to download, you must delete the existing tutorials or data first. You can do this by moving the files from the `Simulations` folder on your Desktop into the trash.\n",
    "    \n",
    "<br/>\n",
    "    \n",
    "**Note:** More information about setting up and modifying simulations, including changing model code, will be available in an upcoming tutorial. \n"
   ]
  },
  {
   "cell_type": "markdown",
   "metadata": {},
   "source": [
    "________\n",
    "<h2> 2. Explore CTSM model data </h2>\n",
    "\n",
    "*When your simulation completes, this step guides you through exploring the data.\n",
    "There are countless ways of analyzing and processing model data. \n",
    "The below steps step through where to find model data and creates a plot to visualize some model data.*\n",
    "***"
   ]
  },
  {
   "cell_type": "markdown",
   "metadata": {},
   "source": [
    "<h3> 2.1 Locate model data </h3>\n",
    "\n",
    "When a simulation completes, the data are stored in the `archive` directory. In this directory you will find files that include data for every day of the simulation, as well as files that average model variables monthly. <p>\n",
    "\n",
    "*Run the code below to see a subset of the files listed.*\n"
   ]
  },
  {
   "cell_type": "code",
   "execution_count": null,
   "metadata": {},
   "outputs": [],
   "source": [
    "!ls ~/scratch/CLM-NEON/archive/$site.transient/lnd/hist/*2018*.nc |head -20"
   ]
  },
  {
   "cell_type": "markdown",
   "metadata": {},
   "source": [
    "\n",
    "Notice that each line includes the location of the file (`/home/user/archive/{simulation_name}/lnd/hist/`) and file name. The file names are automatically generated and are composed of:\n",
    "* the simulation name, which includes:\n",
    "    * the NEON site\n",
    "    * the type of simulation \n",
    "        * The simulation you ran is \"transient\". This means the model was initialized and ran for the full length of available data. The initial conditions files for the transient tower simulations were created by cycling over 2018-2019 tower meteorological data. \n",
    "* the date of simulated data\n",
    "\n",
    "The files are saved in netcdf format (denoted with the `.nc` file extension), a file format commonly used for storing large, multi-dimensional scientific variables.\n",
    "Netcdf files are platform independent and self-describing; each file includes metadata that describes the data, including: **variables**, **dimensions**, and **attributes**. You can explore the files more in the NEON_Simple_Visualization_Tutorial\n",
    "\n",
    "The NEON tower simulations generate two types of files:\n",
    "* `*h0*`: Variables that are averaged monthly. One file is available for every month of the simulation. These files include hundreds of variables.\n",
    "* `*h1*`: Variables that are recorded every 30 minutes. Values are aggregated into one file for each day of the simulation. Each file includes 48 data points for selected variables.\n",
    "\n",
    "*Note that you can also find the model data in the 'Simulation' folder on your desktop, which was created as part of this tutorial.*\n",
    "****\n"
   ]
  },
  {
   "cell_type": "markdown",
   "metadata": {},
   "source": [
    "<h3>2.2 Visualize the output </h3>\n",
    "\n",
    "Below we create a plot of simulated soil temperature using a predefined function, `plot_soil_profile_timeseries`.\n",
    "\n",
    "\n",
    "The `plot_soil_profile_timeseries` function points to the simulated data files in your `archive` directory, extracts a variable (soil temperature, `TSOI`, in this case), and plots the soil profile. The y-axis shows soil depth and the x-axis shows time. Note that time is currently set for the year 2018. You can change the `year` variable below to plot different years from 2018 through 2020.\n"
   ]
  },
  {
   "cell_type": "code",
   "execution_count": null,
   "metadata": {},
   "outputs": [],
   "source": [
    "import os\n",
    "from neon_utils import plot_soil_profile_timeseries\n",
    "username = os.environ['USER']  # Get our username, for use in paths\n",
    "sim_path = \"/scratch/\"+username+\"/CLM-NEON/archive/ABBY.transient/lnd/hist/\"\n",
    "\n",
    "case_name = \"ABBY.transient.clm2\"\n",
    "year = 2018\n",
    "\n",
    "plot_soil_profile_timeseries(sim_path, neon_site, case_name, 'TSOI', year)"
   ]
  },
  {
   "cell_type": "markdown",
   "metadata": {},
   "source": [
    "You might also be interested in the soil moisture at this site. The `plot_soil_profile_timeseries` function can also plot soil moisture (`H2OSOI`). Run the below cell to see the soil moisture profile for 2018. You can change the `year` variable below to plot different years from 2018 through 2020.\n"
   ]
  },
  {
   "cell_type": "code",
   "execution_count": null,
   "metadata": {},
   "outputs": [],
   "source": [
    "case_name = neon_site+\".transient.clm2\"\n",
    "year = 2018\n",
    "\n",
    "plot_soil_profile_timeseries(sim_path, neon_site, case_name, 'H2OSOI', year)"
   ]
  },
  {
   "cell_type": "markdown",
   "metadata": {},
   "source": [
    "### Congratulations! \n",
    "\n",
    "<div class=\"alert alert-success\">\n",
    "  <strong>Congratulations!</strong> You have now completed a NEON tower simulation, located the files, and made a plot from the simulation data.\n",
    "</div>\n",
    "\n",
    "\n",
    "**Additional examples of visualizations and evaluation of your NEON simulation against NEON observations are available in the  [NEON Tutorial](https://ncar.github.io/ncar-neon-books/intro.html), available here: **\n",
    "\n",
    "At this point you've done all your 'homework'!  Stop here, and we'll cover the rest during the live tutorial itself."
   ]
  },
  {
   "cell_type": "code",
   "execution_count": null,
   "metadata": {},
   "outputs": [],
   "source": []
  }
 ],
 "metadata": {
  "kernelspec": {
   "display_name": "Python 3 (ipykernel)",
   "language": "python",
   "name": "python3"
  },
  "language_info": {
   "codemirror_mode": {
    "name": "ipython",
    "version": 3
   },
   "file_extension": ".py",
   "mimetype": "text/x-python",
   "name": "python",
   "nbconvert_exporter": "python",
   "pygments_lexer": "ipython3",
   "version": "3.9.7"
  }
 },
 "nbformat": 4,
 "nbformat_minor": 4
}
