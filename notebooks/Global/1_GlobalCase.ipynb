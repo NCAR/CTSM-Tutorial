{
 "cells": [
  {
   "cell_type": "markdown",
   "metadata": {},
   "source": [
    "# Tutorial 1a: *Global Simulations* \n",
    "\n",
    "This tutorial is an introduction to running global scale simulations of the Community Terrestrial Systems Model (CTSM).  It will guide you through running a simulation and provides example visualization of simulation results. Once you complete the global simulation in this tutorial, you can use the `Day1b_Global_Visualization` tutorial to explore the model data further.\n",
    "\n",
    "In the previous `Day0b_NEON_Simulation_Tutorial` example many steps to run CLM were condensed into a single function. Here you'll how to create your own case, setup, build, and run the simulation. *These are the basic steps reqired to run CLM and modify the code to conduct model experiments*\n",
    "\n",
    "### A few notes about the model:\n",
    "- There are several configuration options of CTSM, and throughout this tutorial we will use the Community Land Model (CLM) configuration which is the climate mode of CTSM. Throughout the rest of this tutorial, we refer to the model as CLM and will use version 5.1 with satelity phenology (**CLM5.1-SP**).\n",
    "\n",
    "- **Satelite phenology (or SP)** simulations prescribe he distribution of vegetation and its leaf area index (LAI). These SP simulations useful for understanding water and energy fluxes that are simulated by the model, as well as gross primary productivity (GPP). SP simulations focus on the *biogeophysics* of the model.  Accordingly, there is no *biogeochemistry* (i.e., carbon fluxes) in SP simulations downstream of GPP calculations. This simplification removes potential feedbacks or biases that may occur from plant allocation, autotrophic respiration, and turnover on simulated LAI. SP simulations can be conducted with CLM5.1-SP, or with CLM_FATES-SP.\n",
    "\n",
    "- **FATES** - the Functionally Assembled Terrestrial Ecosystem Simulator - more relistically represents terrestrial vegetation by simulating forest size structure, disturbance, and competition.  FATES is an external module which can run within a given “Host Land Model”, here we are using CLM.  This examples uses the satelite phenology scheme in FATES, one of the reduced complexity modes of FATES that helps to isolate representation of canopy processes like radiative transfer and photosynthesis. Several FATES configurations are available in CLM.  \n",
    "\n",
    "### Additional information:\n",
    "\n",
    "Additional information about CTSM and CLM is available [on the website](https://www.cesm.ucar.edu/models/cesm2/land/), including [technical documentation](https://escomp.github.io/ctsm-docs/versions/master/html/tech_note/index.html), a [user's guide](https://escomp.github.io/ctsm-docs/versions/master/html/users_guide/index.html), and a [quickstart guide](https://escomp.github.io/CESM/release-cesm2/quickstart.html#create-a-case) for running various model configurations beyond what is covered in this tutorial.\n",
    "\n",
    "Additional information about FATES is available [on the FATES github site](https://github.com/NGEET/fates). \n",
    "\n",
    "### Questions about this tutorial? \n",
    "- Please post them on the [CTSM forum in the CESM Bulletin Board](https://bb.cgd.ucar.edu/cesm/forums/ctsm-clm-mosart-rtm.134/). Note that this resource will require you to register and log in so that you can be notified of responses to your inquiries. \n",
    "- You can also file issues on the [NCAR CTSM-Tutorial GitHub repository](https://github.com/NCAR/CTSM-Tutorial-2022).\n",
    "***"
   ]
  },
  {
   "cell_type": "markdown",
   "metadata": {},
   "source": [
    "<div class=\"alert alert-block alert-info\" markdown=\"1\">\n",
    "\n",
    "<b>TIP:</b>  Before we get started, make sure you're in a bash kernel \n",
    "<ul>\n",
    "    <li> Switch kernal (upper right of your current notebook)</li>\n",
    "    <li> Select either one of the Bash Kernels from the pop-up window</li>    \n",
    "    <li> Click select</li>    \n",
    "</ul>\n",
    "</div>\n",
    "\n",
    "\n",
    "<div>\n",
    "<img src=\"https://github.com/NCAR/CTSM-Tutorial-2022/raw/main/images/kernel.png\" width=\"670\" />\n",
    "</div>\n",
    "\n",
    "\n",
    "<div class=\"alert alert-block alert-info\" markdown=\"1\">\n",
    "\n",
    "<b>HINT:</b>  Most of the examples in this tutorial can be run directly from code \n",
    "cell of this notebook.  \n",
    "\n",
    "It's also helpful to have a terminal window open to run from the command line.\n",
    "To open a tab with a terminal window connection \n",
    "\n",
    "\n",
    "First you need to open a terminal window within CESM-Lab:\n",
    "<ol>\n",
    "    <li> Click on the + symbol in the upper left for a <i>New Launcher</i></li>\n",
    "    <li> Click on the <i>Terminal</i> icon</li>\n",
    "</ol>\n",
    "</div>\n",
    "\n",
    "\n",
    "<div>\n",
    "    <img src=\"https://github.com/NCAR/CTSM-Tutorial-2022/raw/main/images/LaunchTerminal.png\" \n",
    "         style=\"width:655px; height:375px;\" />\n",
    "</div>\n",
    "\n"
   ]
  },
  {
   "cell_type": "markdown",
   "metadata": {},
   "source": [
    "---\n",
    "## In this tutorial\n",
    "\n",
    "The tutorial has several components. Below you will find steps to: \n",
    "1. Run an out-of-the-box CLM simulation using CLM_FATES-SP\n",
    "2. Locate model history files\n",
    "3. Basic visualization of model history files"
   ]
  },
  {
   "cell_type": "markdown",
   "metadata": {},
   "source": [
    "<div class=\"alert alert-block alert-warning\">\n",
    "\n",
    "<b>NOTICE:</b>  This tutorial assumes that you've done your homework! \n",
    "\n",
    "If you haven't downloaded CTSM from the github repository you need to go back to the <b>Day0a_GitStarted tutorial</b> and do this first!\n",
    "\n",
    "</div>\n",
    "\n",
    "***"
   ]
  },
  {
   "cell_type": "markdown",
   "metadata": {},
   "source": [
    "<h1> 1. Set up and run a simulation</h1>\n",
    "\n",
    "### CTSM can be run in 4 simple steps.\n",
    "\n",
    "<h4>1.1 create a new case </h4>\n",
    "\n",
    "- *This step sets up a new simulation. It is the most complicated of these four steps because it involves making choices to set up the model configuration*\n",
    "\n",
    "#### 1.2 invoke case.setup\n",
    "- *This step configures the model so that it can compile*\n",
    "\n",
    "#### 1.3 build the executable\n",
    "- *This step compiles the model*\n",
    "\n",
    "#### 1.4 submit your run to the batch queue\n",
    "- *This step submits the model simulation to the cloud*"
   ]
  },
  {
   "cell_type": "markdown",
   "metadata": {},
   "source": [
    "***\n",
    "<h1> 1.1 create a new case</h1>\n",
    "\n",
    "*Set up a new simulation*\n",
    "***\n"
   ]
  },
  {
   "cell_type": "markdown",
   "metadata": {},
   "source": [
    "## 1.1.1 create a directory for cases\n",
    "This is a one-time step to create a directory to store your experiment cases:"
   ]
  },
  {
   "cell_type": "code",
   "execution_count": null,
   "metadata": {},
   "outputs": [],
   "source": [
    "mkdir ~/clm_tutorial_cases"
   ]
  },
  {
   "cell_type": "markdown",
   "metadata": {},
   "source": [
    "## 1.1.2 navigate to the source code directory\n",
    "\n",
    "Your source code is in your home directory\n",
    "\n",
    "<div>\n",
    "<img src=\"https://github.com/NCAR/CTSM-Tutorial-2022/raw/main/images/SourceCode.png\" width=\"460\" height=\"460\" />\n",
    "</div>"
   ]
  },
  {
   "cell_type": "code",
   "execution_count": null,
   "metadata": {},
   "outputs": [],
   "source": [
    "cd ~/CTSM/cime/scripts"
   ]
  },
  {
   "cell_type": "markdown",
   "metadata": {},
   "source": [
    "## 1.1.3 Create a new case"
   ]
  },
  {
   "cell_type": "code",
   "execution_count": null,
   "metadata": {},
   "outputs": [],
   "source": [
    "./create_newcase --case ~/clm_tutorial_cases/I2000_CTSM_FATESsp --res f45_g37 --compset I2000Clm51FatesSpRsGs --run-unsupported"
   ]
  },
  {
   "cell_type": "markdown",
   "metadata": {},
   "source": [
    "### **./create_newcase**\n",
    "\n",
    "<div class=\"alert alert-block alert-info\">\n",
    "\n",
    "<b>NOTE:</b> There is a lot of information that goes into creating a case.\n",
    "\n",
    "You can learn more about the options by typing <i>./create_newcase --help</i> on the the command line.\n",
    "\n",
    "<b>We'll briefly go over some of the highlights here.</b>\n",
    "\n",
    "</div>"
   ]
  },
  {
   "cell_type": "markdown",
   "metadata": {},
   "source": [
    "### Required argements to create a new case\n",
    "There are 3 Required arguments Needed to create a new case.  These include \n",
    "1. `--case`, which specifies the *location* and *name* of the case being created\n",
    " - `~` = your home directory\n",
    " - `clm_tutorial_cases` = the subdirectory we created to store your cases in 1.1.1\n",
    " - `I2000_CTSM_FATESsp` = the name of the case you're creating\n",
    " - *Recommendation:* Use meaningful names, including model version, type of simulation, and any additional details to help you remember the configuration of this simulation\n",
    "<br><br>  \n",
    "2. `--res` Defines the model *resolution*, or grid,\n",
    " - `f45_g37`, which is an alias for a 4x5 degree grid on the atmosphere and land (*f45*).  This coarse resolution is more efficient for testing. Note, *g37* refers to the resolution of the ocean model. Don't worry the ocean model won't be used for this case.\n",
    " - commonly the land model is run at a nominal 1 degree `f09_g17` or 2 degree `f19_g17` resolution \n",
    " - Using `./query_config --grids` provides a list of supported model resolutions\n",
    "<br><br>\n",
    "3. `--compset` Defines the *component set* for your case, \n",
    " - The Component set specifies the default configuration for the case which includes:\n",
    "   - Component models (e.g. active vs. data vs. stub), \n",
    "   - Time period of simulations and forcing scenarios (e.g. 1850 vs 2000 vs. HIST) and \n",
    "   - Physics options (e.g. CLM5.1 vs CLM5.0). \n",
    " - `I2000Clm51FatesSpRsGs` is alias that actually describes a much longer set of components that are being used for this case. \n",
    " \n",
    "We'll come back to compsets, but there are a few other **optional** flags used to create this new case to briefly touch on here\n",
    "\n",
    "4. `--run-unsupported` avoids error using compsets are not scientifically supported \n",
    "\n",
    "<div class=\"alert alert-block alert-info\" markdown='1'>\n",
    "\n",
    "<b>NOTE:</b> You may notice an error about project codes when you create your case. The project code isn't important for these simulations. But you may need to change this if you're running on Cheyenne.\n",
    "\n",
    "</div>\n",
    "\n",
    "***\n",
    "### More on component sets\n",
    "\n",
    "- All CLM-only compsets start with *\"I\"*.\n",
    " - Using `./query_config --compsets clm` provides examples of other CLM compsets\n",
    "\n",
    "you can try this here"
   ]
  },
  {
   "cell_type": "code",
   "execution_count": null,
   "metadata": {},
   "outputs": [],
   "source": [
    "./query_config --compsets clm"
   ]
  },
  {
   "cell_type": "markdown",
   "metadata": {},
   "source": [
    "The long name for the compset used here is `2000_DATM%GSWP3v1_CLM51%FATES-SP_SICE_SOCN_MOSART_SGLC_SWAV`, which defines\n",
    "   - time = `2000_` (vs. 1850, HIST, SSP, etc)\n",
    "   - data atmosphere `DATM%GSWP3v1_`, here from GSWP3, as opposed to model atmosphere (CAM) \n",
    "   - land model `CLM51%FATES-SP_` CLM5.1 physics package with FATES-SP\n",
    "   - stub sea ice model `SICE_`\n",
    "   - stub ocean model `SOCN_` (see there's no active ocean model!)\n",
    "   - stub river model `SROF_` (other options include MOSART, MIZUROUTE or RTM)\n",
    "   - stub glacier `SGLC_`\n",
    "   - stub wave model `SWAV_`   \n",
    "\n",
    "<div>\n",
    "<img src=\"https://github.com/NCAR/CTSM-Tutorial-2022/raw/main/images/Components.png\" width=\"460\" height=\"460\" />\n",
    "</div>\n",
    "\n",
    "\n",
    "Key Definitions:\n",
    "- **Active:** Simulation is using the code from the model during the run\n",
    "- **Data:** Simulation is reading in data from a file for this component\n",
    "- **Stub:** Component is not being used\n",
    "<br><br> \n",
    "\n",
    "<div class=\"alert alert-block alert-warning\" markdown=\"1\">\n",
    "\n",
    "<b>HINT:</b> Some compsets are \"scientifically supported\" and others are not. A scientifically supported compset just means that we've done some additional testing and evaluation with that compset.  You can use an unsupported compset (which is encouraged!), but will need to add the option <i>--run_unsupported</i> at the end of the <i>create_newcase</i> command line.\n",
    "\n",
    "</div>\n",
    "\n",
    "\n",
    "<div class=\"alert alert-block alert-info\" markdown=\"1\">\n",
    "\n",
    "<b>TIP:</b> More information on model <a href=\"https://www.cesm.ucar.edu/models/cesm2\" target=\"_blank\">Configurations and Grids can be found on  the CESM website</a> (see <i>Configurations and Grids</i> subheading at the bottom of the page)\n",
    "\n",
    "</div>"
   ]
  },
  {
   "cell_type": "markdown",
   "metadata": {},
   "source": [
    "***\n",
    "<h1> 1.2 Invoke case.setup </h1>\n",
    "\n",
    "*This step configures the model so that it can compile* \n",
    "***\n"
   ]
  },
  {
   "cell_type": "markdown",
   "metadata": {},
   "source": [
    "## 1.2.1 Move to your case directory"
   ]
  },
  {
   "cell_type": "code",
   "execution_count": null,
   "metadata": {},
   "outputs": [],
   "source": [
    "cd ~/clm_tutorial_cases/I2000_CTSM_FATESsp"
   ]
  },
  {
   "cell_type": "markdown",
   "metadata": {},
   "source": [
    "## 1.2.2 Set up your case\n",
    "\n",
    "The `./case.setup` script:\n",
    "1. configures the model\n",
    "2. creates files to modify input data and run options"
   ]
  },
  {
   "cell_type": "code",
   "execution_count": null,
   "metadata": {},
   "outputs": [],
   "source": [
    "./case.setup"
   ]
  },
  {
   "cell_type": "markdown",
   "metadata": {},
   "source": [
    "Using this command, we just configured the model and created the files to modify options & input data.\n",
    "<div>\n",
    "<img src=\"https://github.com/NCAR/CTSM-Tutorial-2022/raw/main/images/CaseSetup.png\" width=\"670\" />\n",
    "</div>"
   ]
  },
  {
   "cell_type": "markdown",
   "metadata": {},
   "source": [
    "***\n",
    "<h1> 1.3 Build the executable  </h1>\n",
    "\n",
    "*This step compiles the model*\n",
    "\n",
    "It also takes a long time, so be patient.\n",
    "***"
   ]
  },
  {
   "cell_type": "markdown",
   "metadata": {},
   "source": [
    "The `./case.build` script:\n",
    "1. Checks input data\n",
    "2. Creates a build/run directory with model executable and namelists"
   ]
  },
  {
   "cell_type": "code",
   "execution_count": null,
   "metadata": {},
   "outputs": [],
   "source": [
    "qcmd -- ./case.build"
   ]
  },
  {
   "cell_type": "markdown",
   "metadata": {},
   "source": [
    "\n",
    "---\n",
    "You can read on, but before executing any code blocks in the notebook **wait for the model to build.**\n",
    "This can take a while, especially while you're wating for your `qcmd` job to start and as code for the land model compiles.\n",
    "\n",
    "You'll see text stating `MODEL BUILD HAS FINISHED SUCCESSFULLY` when it's finished.\n",
    "\n",
    "<style> \n",
    "table td, table th, table tr {text-align:left !important;}\n",
    "</style>\n",
    "<div class=\"alert alert-block alert-info\">\n",
    "\n",
    "<b>NOTE:</b> The command <i>qcmd -- ./case.build</i> is specific for NCAR environments, including Cheyenne and cloud configurations, and runs the command on a computing node, reducing the load on the login node. <b>You must include <i>qcmd --</i> when running on Cheyenne</b>, and it's highly advised on shared cloud systems too.  On single-user cloud systems, it isn't needed, though it may speed up builds.\n",
    "\n",
    "</div>\n",
    "\n",
    "---"
   ]
  },
  {
   "cell_type": "markdown",
   "metadata": {},
   "source": [
    "<h1> 1.4 Submit your run  </h1>\n",
    "\n",
    "*This step submits the model simulation*\n",
    "\n",
    "But first we need to check on a few thing\n",
    "***"
   ]
  },
  {
   "cell_type": "markdown",
   "metadata": {},
   "source": [
    "## Case Customization Checks\n",
    "The model is now compiled and ready to run! \n",
    "\n",
    "There are a few things we should check before submitting the run. \n",
    "\n",
    "Customizing your case can happen in a few ways. Here we'll introduce:\n",
    "1. XML change (`*.xml` files), and\n",
    "2. Namelist modifications (`user_nl_*` files)\n",
    "\n",
    "## 1.4.1 XML files\n",
    "You may want to customize a number of features for your simulation.  For example:\n",
    "1. How many days or years will the model simulate?\n",
    "2. How much time does the computer need for this simulation?\n",
    "3. Which computing project account is the model charging to?\n",
    "\n",
    "These options are specified in the `env_*.xml` files in your case directory\n",
    "\n",
    "The XML files can be modified directly, but we recommend that you use the `xmlchange` script.\n",
    "Next, we’ll review how to check and modify variables in XML files."
   ]
  },
  {
   "cell_type": "markdown",
   "metadata": {},
   "source": [
    "### `xmlchange`\n",
    "Using the `xmlchange` script is the preferred method to modify XML files, but you can edit XML files by hand\n",
    "\n",
    "**Benefits of using `xmlchange`:**\n",
    "1. Allows changing variables in env_*.xml files using a command-line interface\n",
    "2. Won’t let you mess up the syntax! The script checks the setting immediately for validity.\n",
    "3. Settings are copied into the CaseStatus file, providing documentation of your changes.\n",
    "\n",
    "<div>\n",
    "<img src=\"https://github.com/NCAR/CTSM-Tutorial-2022/raw/main/images/xmlFiles2.png\" width=\"670\" />\n",
    "</div>\n",
    "\n",
    "The `env_batch.xml` and `env_run.xml` files include most of the variables you will need to modify to set up and run simulations.\n",
    "\n",
    "These files can be changed at any time before running the simulation.\n",
    "\n",
    "<div class=\"alert alert-block alert-info\", markdown='1'>\n",
    "\n",
    "<b>A few useful tips for using the xml scripts:</b>\n",
    "<ol>\n",
    "<li>Use <i>./xmlquery --listall</i> to list variables and their values in the .xml files</li>\n",
    "<li> Modify a variable in a .xml file, use <i>./xmlchange</i></li>\n",
    "<li> For help, type <i>./xmlchange --help</i></li>\n",
    "<li> To list variables in a specific file <i>./xmlquery --file env_run.xml</i> (here env_run.xml). </li>\n",
    "<li> You can also search for multiple variables, separating the variable names with a comma (“,”). For example, <i>./xmlquery –p {string}</i> will search for every variable that includes this string. <b>Try it for “STOP” or “CLM”</b>. </li>\n",
    "</ol>\n",
    "</div>\n",
    "\n",
    "#### Example: \n",
    "`./xmlchange {variable to be changed}={value to change to}`\n",
    "<br><br> \n",
    "\n",
    "*****"
   ]
  },
  {
   "cell_type": "markdown",
   "metadata": {},
   "source": [
    "Many runtime variables are found in the `env_run.xml` file. The variables in this file control the mechanics of the run (length, resubmits, and archiving).\n",
    "\n",
    "Common variables in env_run.xml to change include:\n",
    "1. `STOP_OPTION` sets the run-time interval type, i.e. nmonths, ndays, nyears\n",
    "2. `STOP_N` sets the number of run-time intervals to run the model during the specified wallclock time.\n",
    " - Wallclock time is set in the env_batch.xml file and is a measure of the actual time. \n",
    "3. `RESUBMIT` sets the number of times to resubmit the run\n",
    "\n",
    "#### **To Do:** \n",
    "Use `xmlquery` to find the values of the variables listed above. Feel free to play around with options \n"
   ]
  },
  {
   "cell_type": "code",
   "execution_count": null,
   "metadata": {},
   "outputs": [],
   "source": [
    "./xmlquery STOP_OPTION\n",
    "./xmlquery STOP_N\n",
    "./xmlquery RESUBMIT"
   ]
  },
  {
   "cell_type": "markdown",
   "metadata": {},
   "source": [
    "---\n",
    "\n",
    "From the list above, you should find these values:\n",
    "1. `STOP_OPTION` -> ndays\n",
    "2. `STOP_N` -> 5\n",
    "- By default, the model is set to run for 5 days. \n",
    "3. `RESUBMIT` -> 0\n",
    "- Resubmitting your job, allows for longer runs (when you run out of wall clock time) by continuing the run from a restart file."
   ]
  },
  {
   "cell_type": "markdown",
   "metadata": {},
   "source": [
    "***\n",
    "\n",
    "*We will not see any model output from a 5-day model run because history files with model output are only recorded every month by default*\n",
    "\n",
    "- Let’s change the length of the simulation to 1 year."
   ]
  },
  {
   "cell_type": "code",
   "execution_count": null,
   "metadata": {},
   "outputs": [],
   "source": [
    "./xmlchange STOP_OPTION=nyears\n",
    "./xmlchange STOP_N=1"
   ]
  },
  {
   "cell_type": "markdown",
   "metadata": {},
   "source": [
    "This changes the run-time interval from 5 days to one year. \n",
    "\n",
    "\n",
    "*We won't resubmit this case, but setting `RESUBMIT=1`, would allow you to run for a second year.*\n",
    "\n",
    "<div class=\"alert alert-block alert-info\" markdown='1'>\n",
    "\n",
    "<b>NOTE:</b> If you try to change a variable to a value that isn’t an option, you will get an error message with a list of valid values.\n",
    "    \n",
    "</div>\n",
    "\n",
    "\n",
    "Verify that the changes worked as you expected:"
   ]
  },
  {
   "cell_type": "code",
   "execution_count": null,
   "metadata": {},
   "outputs": [],
   "source": [
    "./xmlquery STOP_OPTION,STOP_N"
   ]
  },
  {
   "cell_type": "markdown",
   "metadata": {},
   "source": [
    "***\n",
    "<div class=\"alert alert-block alert-info\" markdown='1'>\n",
    "\n",
    "<b>NOTE:</b> If you're running on Cheyenne, or another HPC machine changing the `JOB_WALLCLOCK_TIME` may help you get through the queue more quickly.  For example, it won’t take 12 hours to run a 1-year simulation and your simulation will get into the queue more quickly if you set a shorter run time.  <b>This is not important running in the cloud.</b>\n",
    "\n",
    "\n",
    "You can find out timing information for some standard simulations <a href=\"https://csegweb.cgd.ucar.edu/timing/cgi-bin/timings.cgi\" target=\"_blank\">here</a>. Click on a compset similar to the one you will run and look for the “model throughput” value. This is how many simulated years the computer can run in a 24-hour timeframe.  <i>If you're running on Cheyenne</i>, you can estimate the amount of time you’ll need based on this.\n",
    "</div>"
   ]
  },
  {
   "cell_type": "markdown",
   "metadata": {},
   "source": [
    "***\n",
    "## 1.4.2 Namelist changes\n",
    "You may want to customize additional features for your simulation. These can be controled with namelist changes.\n",
    "- Not all changes can be made with `./xmlchange`\n",
    "- Additional changes made using namelist files: `user_nl_<model>`\n",
    "- `user_nl_<model>` files are created in the case directory after `./case.setup`"
   ]
  },
  {
   "cell_type": "markdown",
   "metadata": {},
   "source": [
    "The compset that you created your case with sets up initial, or default namelist options. These can be found in `CaseDocs/lnd_in`\n",
    "- `user_nl_clm` modifies the namelist `lnd_in` options\n",
    "- *Important:* Don’t modify the namelist file (`lnd_in`) directly. Instead, make changes in `user_nl_clm`.\n",
    "- Some namelist variables can also be changed in env_run.xml file. \n",
    "- This [website has CLM5.0 namelist variables](http://www.cesm.ucar.edu/models/cesm2/settings/current/clm5_0_nml.html)"
   ]
  },
  {
   "cell_type": "markdown",
   "metadata": {},
   "source": [
    "We modified this already with the when we created your case with the `--user-mods-dirs fates_sp` flag.  This user-mods-directory sets `user_nl_clm` options correctly for a FATES-SP case. \n",
    "\n",
    "Check that it worked by opening the file in an editor. \n",
    "\n",
    "<div class=\"alert alert-block alert-warning\">\n",
    "\n",
    "<b>TIP</b> You can do this with any editor. The two options below use emacs or vi, but there are lots of other options as well as resources for how to use these online.\n",
    "\n",
    "</div>\n",
    "\n",
    "---"
   ]
  },
  {
   "cell_type": "markdown",
   "metadata": {},
   "source": [
    "**To Do:**\n",
    "\n",
    "Open your `user_nl_clm` file to see what's inside.\n",
    "\n",
    "You can navigate to your case directory in a few different ways:\n",
    "\n",
    "1. Open it via the navigation sidebar\n",
    "- Click on the `clm_tutorial_cases` directory\n",
    "- Click on the `I2000_CTSM_FATESsp` case directory\n",
    "- Click on the `user_nl_clm` file in the sidebar of your JupyterLab window.\n",
    "\n",
    "\n",
    "2. Open the same file with an editor from the command line in your terminal window.\n",
    "   - `emacs ~/clm_tutorial_cases/I2000_CTSM_FATESsp/user_nl_clm`\n",
    "\n",
    "_or_\n",
    "\n",
    "  - `vi ~/clm_tutorial_cases/I2000_CTSM_FATESsp/user_nl_clm`\n",
    "\n",
    "3. Altrnatively you can just `cat` the file from this notebook, but you won't be able to make changes\n",
    "\n",
    "*These options were set up for you when you created the FATES-SP case using user_mods_dirs*"
   ]
  },
  {
   "cell_type": "code",
   "execution_count": null,
   "metadata": {},
   "outputs": [],
   "source": [
    "cat ~/clm_tutorial_cases/I2000_CTSM_FATESsp/user_nl_clm"
   ]
  },
  {
   "cell_type": "markdown",
   "metadata": {},
   "source": [
    "<br>\n",
    "\n",
    "**Is fates_sp set to true?**\n",
    "\n",
    "If not, on the command line your can type:\n",
    "`echo \"use_fates_sp = .true.\" >> user_nl_clm`\n",
    "This is a simplified way of writing information to `user_nl_clm`\n",
    "\n",
    "The other text you see in `user_nl_clm` turns off some of the biogeochemistry and fire options that are not needed for an SP case.  Other options reduce the output that's being writting out to history files. "
   ]
  },
  {
   "cell_type": "markdown",
   "metadata": {},
   "source": [
    "---\n",
    "## 1.4.3 Submit the case!"
   ]
  },
  {
   "cell_type": "code",
   "execution_count": null,
   "metadata": {},
   "outputs": [],
   "source": [
    "./case.submit"
   ]
  },
  {
   "cell_type": "markdown",
   "metadata": {},
   "source": [
    "\n",
    "When you submit a job, you will see confirmation that it successfully submitted:\n",
    "\n",
    "### Congratulations! You've created and submitted global CLM-FATES-SP case.\n",
    "\n",
    "Next, you will probably want to check on the status of your jobs.\n",
    "\n",
    "<div class=\"alert alert-block alert-info\" markdown=\"1\">\n",
    "\n",
    "<b>TIP:</b> This is dependent on the scheduler that you're using. \n",
    "\n",
    "<ul>\n",
    "<li>Cheyenne uses <b>PBS</b> where status is checked with <i>qstat -u $USER</i></li>\n",
    "<li>This is also enabled in the cloud for you, try it in the code block below</li></ul>\n",
    "\n",
    "If you want to stop the simulation, you can do so with qdel here (or on Cheyenne).\n",
    "<ul>\n",
    "<li> Find your Job ID after typing <i>qstat</i> </li>\n",
    "<li> Type <i>qdel {Job ID}</i> </li>\n",
    "</ul>\n",
    "</div>"
   ]
  },
  {
   "cell_type": "code",
   "execution_count": null,
   "metadata": {},
   "outputs": [],
   "source": [
    "qstat -u $USER"
   ]
  },
  {
   "cell_type": "markdown",
   "metadata": {},
   "source": [
    "---\n",
    "Once your jobs are complete (or show the 'C' state under the 'Use' column, which means complete), we can check the CaseStatus file to ensure there were no errors and it completed successfully.  To do this, we'll 'tail' the end of the CaseStatus file:"
   ]
  },
  {
   "cell_type": "code",
   "execution_count": null,
   "metadata": {},
   "outputs": [],
   "source": [
    "tail ~/clm_tutorial_cases/I2000_CTSM_FATESsp/CaseStatus"
   ]
  },
  {
   "cell_type": "markdown",
   "metadata": {},
   "source": [
    "****\n",
    "# 2. Locate model history files\n",
    "Your simulation will likely take some time to complete. The information\n",
    "provided next shows where the model output will be located while the\n",
    "model is running and once the simulation is complete. We also provide\n",
    "files from a simulation that is already complete so that you can do the\n",
    "next exercises before your simulation completes. \n",
    "\n",
    "<div class=\"alert alert-block alert-info\" markdown=\"1\">\n",
    "\n",
    "<b>When your simulation is running</b> history files go to your scratch directory: \n",
    "\n",
    "<ul>\n",
    "<li><i>/scratch/{USER}/{CASE}</i> </li>\n",
    "</ul>\n",
    "\n",
    "Within this directory you can find <i>/run</i> and <i>/bld</i> subdirectories.\n",
    "\n",
    "<b>When the simulation is complete</b>, a short-term archive directory is created, and history files are moved here: \n",
    "\n",
    "<ul>\n",
    "<li><i>/scratch/{USER}/<b>archive</b>/lnd/hist/</i> </li>\n",
    "</ul>\n",
    "\n",
    "Note that files necessary to continue the run are left in the run directory: <i>/scratch/{USER}/{CASE}/run</i>\n",
    "</div>\n",
    "\n",
    "Let's see what's in your run directory."
   ]
  },
  {
   "cell_type": "code",
   "execution_count": null,
   "metadata": {},
   "outputs": [],
   "source": [
    "cd /scratch/$USER/I2000_CTSM_FATESsp/run\n",
    "ls"
   ]
  },
  {
   "cell_type": "markdown",
   "metadata": {},
   "source": [
    "---\n",
    "*What's in your run directory?*\n",
    "\n",
    "*Do you see any log or history files?*\n",
    "- log files look like `lnd.log*`\n",
    "- history files look like `I2000_CTSM_FATESsp.clm2.h0.2000-01.nc`\n",
    "\n",
    "You can keep running the cell above until you see log and history files, then the model is running.\n",
    "\n",
    "---"
   ]
  },
  {
   "cell_type": "code",
   "execution_count": null,
   "metadata": {},
   "outputs": [],
   "source": [
    "ls /scratch/$USER/archive/I2000_CTSM_FATESsp/lnd/hist"
   ]
  },
  {
   "cell_type": "markdown",
   "metadata": {},
   "source": [
    "*What's in your archive directory?*\n",
    "\n",
    "If you don't see any history files your simulation is likely still running or in the queue (check using `squeue` or `qstat`). Check again before you leave today to see if your simulation completed and if the files were transferred to archive. **Even if your run isn't finished, you can move on in this tutorial.**\n",
    "\n",
    "Next, let’s explore data from a similar simulation that already ran."
   ]
  },
  {
   "cell_type": "markdown",
   "metadata": {},
   "source": [
    "<div class=\"alert alert-block alert-warning\">\n",
    "\n",
    "<b>TIP:</b> On Cheyenne these directory are found here\n",
    "<ul>\n",
    "<li> <i>/glade/scratch/{USER}/{CASE}/run</i> </li>\n",
    "<li> <i>/glade/scratch/{USER}/<b>archive</b>/{CASE}/lnd/hist/</i> </li>\n",
    "</ul>\n",
    "    \n",
    "</div>"
   ]
  },
  {
   "cell_type": "markdown",
   "metadata": {},
   "source": [
    "# 3. Basic dump of model history files\n",
    "There are a few command-line tools you can use to view netCDF data files. One of the most useful is 'ncdump':"
   ]
  },
  {
   "cell_type": "markdown",
   "metadata": {},
   "source": [
    "| | |\n",
    "|---|---|\n",
    "|`ncdump`| This is a tool that generates a text representation of netCDF data. It is useful for providing information about the variables (names, types, and shapes), dimensions (names and sizes), attributes (names and values), and values of data for all or selected variables. |"
   ]
  },
  {
   "cell_type": "markdown",
   "metadata": {},
   "source": [
    "---\n",
    "**Navigate to this directory, where data from a completed simulation are stored:**"
   ]
  },
  {
   "cell_type": "code",
   "execution_count": null,
   "metadata": {},
   "outputs": [],
   "source": [
    "cd /scratch/data/day1/I2000_CTSM_FATESsp/lnd/hist/\n",
    "ls *2000-*"
   ]
  },
  {
   "cell_type": "markdown",
   "metadata": {},
   "source": [
    "**Let’s look at the information included in the file in a text format**\n",
    "This is also better to execute in the command line, but you can do it here.\n",
    "\n",
    "`ncdump -h I2000_CTSM_FATESsp.clm2.h0.2000-01.nc | more`\n",
    "\n",
    "If you must run commands in a notebook, run the code block below - we're only showing the first 50 lines here, to reduce the output:"
   ]
  },
  {
   "cell_type": "code",
   "execution_count": null,
   "metadata": {},
   "outputs": [],
   "source": [
    "ncdump -h I2000_CTSM_FATESsp.clm2.h0.2000-01.nc | head -50"
   ]
  },
  {
   "cell_type": "markdown",
   "metadata": {},
   "source": [
    "<div class=\"alert alert-block alert-info\" markdown=\"1\">\n",
    "\n",
    "<b>NOTES:</b>\n",
    "<ol>\n",
    "    <li> Use the “-h” option to look through the variable names, attributes and dimensions. If you do not use an option, ncdump will list this information and all the data values of all the variables, which is a lot of information!! </li>\n",
    "    <li> In a terminal, use tools like the “| more” command so that you can scroll through the information from the start of the file.</li>\n",
    "    <ul>\n",
    "        <li> hitting <i>return</i> will advance line by line</li>\n",
    "        <li> hitting the <i>space bar</i> will advance more quickly</li>\n",
    "        <li> hitting <i>q</i> will exit</li>\n",
    "    </ul>\n",
    "</ol>\n",
    "\n",
    "</div>"
   ]
  },
  {
   "cell_type": "markdown",
   "metadata": {},
   "source": [
    "Go ahead to the [Day1b_GlobalVisualization notebook](Day1b_GlobalVisualization.ipynb) "
   ]
  }
 ],
 "metadata": {
  "kernelspec": {
   "display_name": "Bash",
   "language": "bash",
   "name": "bash"
  },
  "language_info": {
   "codemirror_mode": "shell",
   "file_extension": ".sh",
   "mimetype": "text/x-sh",
   "name": "bash"
  }
 },
 "nbformat": 4,
 "nbformat_minor": 4
}
