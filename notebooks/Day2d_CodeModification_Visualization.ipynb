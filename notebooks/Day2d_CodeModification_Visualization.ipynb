{
 "cells": [
  {
   "cell_type": "markdown",
   "id": "d17e3c92-d037-435a-b59d-8d8140640ccc",
   "metadata": {},
   "source": [
    "# Tutorial 2d - *Code Modifications (Visualization)*\n",
    "\n",
    "This tutorial is an introduction to analyzing results from your code modifications for the NEON Konza Prairie simulation. It uses results from the case you ran in the Day0b and Day2c tutorials, but you don't have to wait for those runs to complete before doing this tutorial. We've pre-staged model results from this simulation in a shared directory so that you can analyze results of your simulations regardless of whether they've completed.\n",
    "\n",
    "You can also check [NEON visualization](https://ncar.github.io/ncar-neon-books/notebooks/NEON_Visualization_Tutorial.html) tutorial for more advanced visualization features for NEON tower site simulations. \n",
    "\n",
    "## In this tutorial\n",
    "\n",
    "The tutorial has several objectives: \n",
    "1. Increase familiarity with `xarray` and `pandas`.\n",
    "2. Increase knowledge of python packages and their utilities\n",
    "3. Compare results from original code with the modified code for a NEON tower.\n",
    "\n",
    "\n",
    "***\n",
    "\n",
    "<div class=\"alert alert-block alert-info\">\n",
    "<b>NOTE:</b> In Day 2c, executable code blocks used a Bash shell or had to be executed on the command-line.  In this tutorial, we will be using Python code, and you should directly execute the contents of code blocks by running individual cells in this Jupyter notebook, similar to the Day0b <i>Run NEON</i>, Day1b <i>GlobalVisualization</i>, and Day2b <i>GenericGinglePoint_Visualization</i> tutorials.\n",
    "</div>\n",
    "\n",
    "***\n",
    "\n",
    "There are countless ways of analyzing and processing model data. This tutorial uses Matplotlib, a comprehensive data visualization and plotting library for Python. For more information on Matplotlib, please see the [User's Guide](https://matplotlib.org/stable/users/index.html)."
   ]
  },
  {
   "cell_type": "markdown",
   "id": "d83ae0ac-3a83-4a92-b7f1-80b78c914866",
   "metadata": {},
   "source": [
    "## 1. Load our python packages\n",
    "\n",
    "Here we are importing python package and libraries we will use to analyze these simulations:"
   ]
  },
  {
   "cell_type": "code",
   "execution_count": null,
   "id": "87240e2f-46c1-4179-8932-67ada9ca9b5c",
   "metadata": {},
   "outputs": [],
   "source": [
    "#Import Libraries\n",
    "%matplotlib inline\n",
    "\n",
    "import os\n",
    "import time\n",
    "import datetime\n",
    "\n",
    "import numpy as np\n",
    "import pandas as pd\n",
    "import xarray as xr\n",
    "\n",
    "from glob import glob\n",
    "from os.path import join, expanduser\n",
    "\n",
    "import matplotlib.pyplot as plt\n",
    "\n",
    "from scipy import stats\n",
    "\n",
    "from neon_utils import download_eval_files"
   ]
  },
  {
   "cell_type": "markdown",
   "id": "82839ff5-b508-40bc-a6c3-d6eea3fefe49",
   "metadata": {},
   "source": [
    "Before diving in, we need to specify the NEON site that you simulated in the cell below.   \n",
    "\n",
    "*The tutorial is currently set to use the KONZ site, which is the site we recommended in the Day0b_NEON_Simulation_Tutorial and Day2c_CodeModification tutorials. If you ran simulations for a different tower site, please change the 4-character site name in quotes below to the same as your simulation.*\n",
    "\n",
    "For simplicity, we focus on analyzing and evaluating a single year of data. <p>\n",
    "The code below uses data for **2018**, but data are available through this year. You can select a different year by changing the year in the quotes below."
   ]
  },
  {
   "cell_type": "code",
   "execution_count": null,
   "id": "83adce12-a7fd-48f2-8950-f4bfab607c54",
   "metadata": {},
   "outputs": [],
   "source": [
    "#Change the 4-character NEON site below to point to your NEON site:\n",
    "neon_site = \"KONZ\"\n",
    "\n",
    "# Select a year for analysis\n",
    "year = \"2018\""
   ]
  },
  {
   "cell_type": "markdown",
   "id": "4e908987-f782-4507-9d6f-609516052a3b",
   "metadata": {},
   "source": [
    "## 2. Load and explore CTSM data"
   ]
  },
  {
   "cell_type": "markdown",
   "id": "96a59fd1-da01-4872-b380-6bd56d39f6bf",
   "metadata": {},
   "source": [
    "When a simulation completes, the data are transferred to an archive directory. In this directory, there are files that include data for every day of the simulation, as well as files that average model variables monthly.\n",
    "\n",
    "Run the cell below to see a subset of the files listed:\n"
   ]
  },
  {
   "cell_type": "code",
   "execution_count": null,
   "id": "c14e9446-38bc-4f18-acf7-4463a7838058",
   "metadata": {},
   "outputs": [],
   "source": [
    "!ls ~/scratch/CLM-NEON-phenologychange/archive/{neon_site}.transient/lnd/hist/*2018*.nc |head -n 10"
   ]
  },
  {
   "cell_type": "markdown",
   "id": "dd1bda1f-1f4c-424f-a000-65b4be27649d",
   "metadata": {},
   "source": [
    "**Note:** you won't see these files if your simulation from 2c has not finished.\n",
    "\n",
    "The NEON tower simulations generate two types of files:\n",
    "* `*h0*`: Variables that are averaged monthly. One file is available for every month of the simulation.\n",
    "* `*h1*`: Variables that are recorded every 30 minutes. Values are aggregated into one file for each day of the simulation. Each file includes 48 data points.\n",
    "\n",
    "**Note:** Only a subset of CLM variables are included on the `*h1*` files, with many more variables included on the monthly-averaged `*h0*` files. A full list of variables that are simulated by CLM is available [on this website](https://escomp.github.io/ctsm-docs/versions/master/html/users_guide/setting-up-and-running-a-case/master_list_nofates.html).\n",
    "\n",
    "<div class=\"alert alert-block alert-info\">\n",
    "<b>TIP:</b> For future simulations you can add or remove history file output by modifying the list of variables in <i>hist_fincl2</i> found in your <i>user_nl_clm</i> file (e.g. ~/scratch/CLM-NEON-phenologychange/KONZ.transient/user_nl_clm)\n",
    "</div>\n",
    "\n",
    "****"
   ]
  },
  {
   "cell_type": "markdown",
   "id": "7ecc4b4e-8459-4d36-880b-8c5732cf445b",
   "metadata": {},
   "source": [
    "### 2.1 Load data from unmodified CTSM simulations\n",
    "\n",
    "Here, we want to read and analyze the data from the original (unmodified) CTSM code. \n",
    "The below code lists the 30-minute (.h1.) CTSM files for 2018:"
   ]
  },
  {
   "cell_type": "code",
   "execution_count": null,
   "id": "62cabd93-c938-4e7c-9b22-0456382b429b",
   "metadata": {},
   "outputs": [],
   "source": [
    "# pre-staged simulation:\n",
    "sim_path = \"/scratch/data/day2/KONZ.transient/lnd/hist/\"\n",
    "sim_files = sorted(glob(join(sim_path,neon_site+\".transient.clm2.h1.\"+year+\"*.nc\")))\n",
    "\n",
    "print(\"All simulation files: [\", len(sim_files), \"files]\")\n",
    "## for brevity we'll just print the first 20 files\n",
    "print(*sim_files[0:20],sep='\\n')"
   ]
  },
  {
   "cell_type": "markdown",
   "id": "e0f2e94e-1206-41ee-a1e9-1a0df0999fc0",
   "metadata": {},
   "source": [
    "Next, let's read and load CTSM history files into memory. \n",
    "\n",
    "For this purpose, we will use `open_mfdataset` function, which opens up multiple netcdf files at the same time into one xarray Dataset. You can find more information about this function [here](https://xarray.pydata.org/en/stable/generated/xarray.open_mfdataset.html). \n",
    "\n",
    "**Note:** there are many files, so this will take about a minute."
   ]
  },
  {
   "cell_type": "code",
   "execution_count": null,
   "id": "5480b8d0-6a38-4b01-b2e8-0f2714a292ac",
   "metadata": {},
   "outputs": [],
   "source": [
    "start = time.time()\n",
    "ds_ctsm_orig = xr.open_mfdataset(sim_files, decode_times=True, combine='by_coords',parallel=True)\n",
    "end = time.time()\n",
    "print(\"Reading original simulation files took:\", end-start, \"s.\")"
   ]
  },
  {
   "cell_type": "markdown",
   "id": "9c3c3bba-9da3-4e56-9c2b-d0d35ad39002",
   "metadata": {},
   "source": [
    "The next step, exploring the data, is not required, but will allow you to explore the python dataset we just created and become familiar with the data structure.\n",
    "\n",
    "Run the below cell to find more information about the data:"
   ]
  },
  {
   "cell_type": "code",
   "execution_count": null,
   "id": "b606aa81-d91f-4575-b96e-5c4bd127f43f",
   "metadata": {},
   "outputs": [],
   "source": [
    "ds_ctsm_orig"
   ]
  },
  {
   "cell_type": "markdown",
   "id": "57dbf598-6220-4dd8-9774-2a02b332bff7",
   "metadata": {},
   "source": [
    "In the output, you can click on Dimensions, Coordinates, Data Variables, and Attributes to expand and see the details and metadata associated with this dataset.\n",
    "\n",
    "If you click on Data Variables, you will see a list of all the available variables. You can click on the ‘note’ icon at the right end of the line for each variable to see a description of the variable (the long_name) and its units, as well as other information. Here are a few questions to consider:\n",
    "\n",
    "Questions to consider\n",
    "\n",
    "1. What variables are available in the dataset?\n",
    "\n",
    "2. What is the long_name and unit of the variable FSH?\n",
    "\n",
    "3. Can you find the dimensions of this variable?\n",
    "\n",
    "\n",
    "<div class=\"alert alert-block alert-info\">\n",
    "\n",
    "<b>💡 Tip: </b>  Xarray has built-in plotting functions. For quick inspection of a variable, we can use .plot() to see it. Xarray plotting functionality is a thin wrapper around the popular `matplotlib` library.\n",
    "\n",
    "</div>"
   ]
  },
  {
   "cell_type": "markdown",
   "id": "baba8e48-23e3-4ba3-bdba-145d618cf79c",
   "metadata": {},
   "source": [
    "Let's quickly inspect GPP from original simulation.\n",
    "\n",
    "<div class=\"alert alert-block alert-info\">\n",
    "\n",
    "<b>Defined:</b>  Gross Primary Production (GPP) is the total amount of CO<sub>2</sub> that is fixed by plants through photosynthesis.\n",
    "\n",
    "</div>\n",
    "\n",
    "The code below will make a basic plot of the Gross Primary Production (GPP) variable:"
   ]
  },
  {
   "cell_type": "code",
   "execution_count": null,
   "id": "030f3fb8-b3b2-4ce9-8c44-99b7c1f4ca94",
   "metadata": {},
   "outputs": [],
   "source": [
    "ds_ctsm_orig.GPP.plot() ;"
   ]
  },
  {
   "cell_type": "markdown",
   "id": "4dbd79d2-4e15-4db5-b049-71fc8f23bebd",
   "metadata": {},
   "source": [
    "One thing that jumps out from this plot is a dip in GPP in August-September.\n",
    "\n",
    "This points to some of the challenges in representing stress deciduous phenology used for some plant functional types (PFTs).  The [CLM5 technote has more information about phenology](https://escomp.github.io/ctsm-docs/versions/master/html/tech_note/Vegetation_Phenology_Turnover/CLM50_Tech_Note_Vegetation_Phenology_Turnover.html). Thisis an area that additional research and development can help!\n",
    "\n",
    "In this specific case, the dip in GPP is related to biases in the input data from NEON, specifically, the zero precipitation that's reported for much of the summer.  Other nearby precipitation sensors suggest that this is not realistic and is potentially a problem with the NEON precipitation sensor. We're working with NEON scientists to address this issue.\n",
    "\n",
    "Caveats aside, let's go back to the results we have.\n",
    "\n",
    "---\n",
    "\n",
    "You can select to plot only specific time period using `.sel` option. \n",
    "\n",
    "For example,let's check GPP for June of 2018:"
   ]
  },
  {
   "cell_type": "code",
   "execution_count": null,
   "id": "8cbb8a20-e154-4030-b039-27b9c78e7623",
   "metadata": {},
   "outputs": [],
   "source": [
    "ds_ctsm_orig.GPP.sel(time=slice('2018-06-01', '2018-06-30')).plot() ;"
   ]
  },
  {
   "cell_type": "markdown",
   "id": "4ce096b5-04a6-470a-8459-73d2b7338d3d",
   "metadata": {},
   "source": [
    "By now you might have noticed the units of GPP in the CTSM history output files. If not, you can check:  \n"
   ]
  },
  {
   "cell_type": "code",
   "execution_count": null,
   "id": "5069c098-2eab-4dcc-b592-71ee277474c2",
   "metadata": {},
   "outputs": [],
   "source": [
    "ds_ctsm_orig.GPP.units"
   ]
  },
  {
   "cell_type": "markdown",
   "id": "38c7393f-a66f-4182-8fa8-678e75257050",
   "metadata": {},
   "source": [
    "Let's change the unit from g C m<sup>-2</sup> s<sup>-1</sup> to g C m<sup>-2</sup> day<sup>-1</sup>:\n",
    "\n",
    "**NOTE:** We're still looking at half hourly data so converting to a daily flux is somewhat misleading, but let's go with this (for now). "
   ]
  },
  {
   "cell_type": "code",
   "execution_count": null,
   "id": "db8526c5-e2ce-4cfb-87fc-613db4d90304",
   "metadata": {},
   "outputs": [],
   "source": [
    "## Don't accidentally run this cell more than once!\n",
    "ds_ctsm_orig['GPP'] = ds_ctsm_orig['GPP']*60*60*24\n",
    "ds_ctsm_orig['GPP'].attrs['units'] = 'gC/m^2/day'"
   ]
  },
  {
   "cell_type": "markdown",
   "id": "bb306250-9f4c-47be-b7ad-17a9c16cd593",
   "metadata": {},
   "source": [
    "Let's remake the plot from above, using the new unit:"
   ]
  },
  {
   "cell_type": "code",
   "execution_count": null,
   "id": "c448c229-ca3a-40b3-8e7d-7a032be42935",
   "metadata": {},
   "outputs": [],
   "source": [
    "ds_ctsm_orig.GPP.sel(time=slice('2018-06-01', '2018-06-30')).plot() ;"
   ]
  },
  {
   "cell_type": "markdown",
   "id": "643954f8-c256-4fd6-9f10-650a55c1b5a6",
   "metadata": {},
   "source": [
    "### 2.2 Load data from modified CTSM simulations"
   ]
  },
  {
   "cell_type": "markdown",
   "id": "a3370161-c774-4c1b-a98d-11aada84aa3d",
   "metadata": {},
   "source": [
    "We'll follow a similar procedure as above to load data from the modified CTSM simulations"
   ]
  },
  {
   "cell_type": "code",
   "execution_count": null,
   "id": "ba3911a9-e2d5-47fc-aa3b-c600afb321b9",
   "metadata": {},
   "outputs": [],
   "source": [
    "# pre-staged simulation results (with rain_threshold = 1):\n",
    "sim_path = \"/scratch/data/day2/KONZ.transient_phenologychange/lnd/hist/\"\n",
    "\n",
    "sim_files_mod = sorted(glob(join(sim_path,neon_site+\".transient.clm2.h1.\"+year+\"*.nc\")))\n",
    "\n",
    "print(\"All simulation files from modified simulation: [\", len(sim_files_mod), \"files]\")\n",
    "# Here, just printing the last 20 files\n",
    "print(*sim_files_mod[-20:None],sep='\\n')"
   ]
  },
  {
   "cell_type": "code",
   "execution_count": null,
   "id": "723f1287-80ed-4937-bb71-af670ebd2b6f",
   "metadata": {},
   "outputs": [],
   "source": [
    "start = time.time()\n",
    "ds_ctsm_mod = xr.open_mfdataset(sim_files_mod, decode_times=True, combine='by_coords',parallel=True)\n",
    "end = time.time()\n",
    "print(\"Reading modified simulation files took:\", end-start, \"s.\")"
   ]
  },
  {
   "cell_type": "markdown",
   "id": "1dccc486-2e7a-4765-a15a-ff7d6736eee3",
   "metadata": {},
   "source": [
    "Similar to above, we can get a quick preliminary look at GPP from the modified simulation:"
   ]
  },
  {
   "cell_type": "code",
   "execution_count": null,
   "id": "a95c54d2-4213-4eb2-9e35-d3ea19bb9497",
   "metadata": {},
   "outputs": [],
   "source": [
    "ds_ctsm_mod"
   ]
  },
  {
   "cell_type": "code",
   "execution_count": null,
   "id": "83682f3e-a5c2-4603-8228-e733a378c56b",
   "metadata": {},
   "outputs": [],
   "source": [
    "ds_ctsm_mod.GPP.plot() ;"
   ]
  },
  {
   "cell_type": "markdown",
   "id": "b24e70c9-8ed3-4558-bb08-96492e80da43",
   "metadata": {},
   "source": [
    "We should change the GPP units to match the change we made in the unmodified simulations"
   ]
  },
  {
   "cell_type": "code",
   "execution_count": null,
   "id": "23bf8d8a-30b9-4dcc-913a-556981d0c45c",
   "metadata": {},
   "outputs": [],
   "source": [
    "## Don't accidentally run this cell more than once!\n",
    "ds_ctsm_mod['GPP'] = ds_ctsm_mod['GPP']*60*60*24\n",
    "ds_ctsm_mod['GPP'].attrs['units'] = 'gC/m^2/day'"
   ]
  },
  {
   "cell_type": "markdown",
   "id": "05b1007e-527d-4de2-9b3b-06df47ea7c5f",
   "metadata": {},
   "source": [
    "### 2.3 Compare modified and unmodified simulations"
   ]
  },
  {
   "cell_type": "markdown",
   "id": "7c3df526-0f89-4bb2-952a-57d931560512",
   "metadata": {},
   "source": [
    "Since our code modifications change phenology, let's start by looking at leaf area index. "
   ]
  },
  {
   "cell_type": "code",
   "execution_count": null,
   "id": "69c9433e-5c06-43d6-aff6-cfdcd3ceb12e",
   "metadata": {},
   "outputs": [],
   "source": [
    "fig, axes = plt.subplots(nrows=2, figsize=(13,7),sharex=True)\n",
    "ds_ctsm_orig.ELAI.plot(ax=axes[0], color='orange',marker=\"o\")\n",
    "plt.suptitle('Default',weight='bold')\n",
    "ds_ctsm_mod.ELAI.plot(ax=axes[1], color='blue',marker=\"o\")\n",
    "plt.title('Phenology Mods',weight='bold')\n",
    "\n",
    "plt.tight_layout(); "
   ]
  },
  {
   "cell_type": "markdown",
   "id": "7249cd60-66d7-48e8-9f13-adfcab0a82bc",
   "metadata": {},
   "source": [
    "**Question**: Can you see any diffences between the two simulations? How does changing the rain threshold change patterns (onset, peak, etc.) of LAI?\n",
    "\n",
    "Next let's inspect GPP from both simulations for April 2018. Note that we can overlay the two simulations onto a single plot. "
   ]
  },
  {
   "cell_type": "code",
   "execution_count": null,
   "id": "bd408dc7-5440-487d-ae61-c20dad93ebe2",
   "metadata": {},
   "outputs": [],
   "source": [
    "# You can plot the two simulations together\n",
    "fig = plt.subplots(nrows=1, figsize=(13,3.5))\n",
    "ds_ctsm_mod.GPP.sel(time='2018-04').plot(color='blue',marker=\"o\", label='Phenology Mods')\n",
    "ds_ctsm_orig.GPP.sel(time='2018-04').plot(color='orange',marker=\"o\", label='Default') \n",
    "# and add a legend (this is facilitated with the 'label' information) \n",
    "plt.legend() ;"
   ]
  },
  {
   "cell_type": "markdown",
   "id": "54105941-f427-4c6f-9b86-900c1f4f850c",
   "metadata": {},
   "source": [
    "**Questions**: \n",
    "1. How did our code modificatons change LAI and GPP relative to the default parameterizaiton for `rain_threshold`?\n",
    "2. Can you explain why this occured in 2018?\n",
    "3. Is this modification justified, based on observations from the site? Let's find out in the next section!"
   ]
  },
  {
   "cell_type": "markdown",
   "id": "bcececfb-0def-46c9-8a82-3fa4cdeb20bd",
   "metadata": {},
   "source": [
    "______________________________________________________________\n",
    "\n",
    "## 3. Explore NEON Tower Observation Data\n",
    "\n",
    "### 3.1 Download NEON data\n",
    "\n",
    "<div class=\"alert alert-block alert-info\">\n",
    "\n",
    "<b>💡 NOTE: </b>  NEON provides observational flux data at 30 minute time intervals that we can use for model evaluation. Here, NEON data with the least restrictive quality control flag are pulled from the API for model evaluation. The data have been preprocessed by NEON, including unit conversions and gap-filling using a redundant data stream regression and/or filled using a Marginal Distribution Sampling (MDS) gap-filling technique when redundant data streams are unavailable. The data are formatted and supplied as monthly netCDF files.\n",
    "\n",
    "</div>\n",
    "\n",
    "The next step uses a pre-established function (`download_eval_files`) to download the NEON observational data files for the site and year specified above. The preprocessed NEON data are available for download from NEON’s GCS (Google Cloud Storage) bucket, with the full listing of available data [here](https://storage.googleapis.com/neon-ncar/listing.csv).\n",
    "\n",
    "If you would like to download all available NEON evaluation data from this site, change the word year to \"all\" (quotes included) below: `download_eval_files(neon_site, eval_dir, \"all\")`\n",
    "\n",
    "Run the cells below to download available NEON data from the site and year we selected above:"
   ]
  },
  {
   "cell_type": "code",
   "execution_count": null,
   "id": "158a7173-ac6b-4c7b-8f1b-c2c249d8cdb0",
   "metadata": {},
   "outputs": [],
   "source": [
    "# First we need to create a directory to store the data \n",
    "# This cell uses bash magic, sounds exciting doesn't it?  (Nothing to worry about, just run the cell!) \n",
    "!mkdir ~/scratch/evaluation_files"
   ]
  },
  {
   "cell_type": "code",
   "execution_count": null,
   "id": "ef24dd53-b4b0-4a1b-b056-0dd92e22fd0e",
   "metadata": {},
   "outputs": [],
   "source": [
    "# Then we'll dowload the data from NEON (this is in python)\n",
    "eval_dir = \"/scratch/\"+os.environ['USER']+\"evaluation_files/\"\n",
    "download_eval_files(neon_site, eval_dir, year)"
   ]
  },
  {
   "cell_type": "markdown",
   "id": "552454c2-1366-49bd-a125-102edf085377",
   "metadata": {},
   "source": [
    "### 3.2 Load NEON data\n",
    "\n",
    "Now, let's read these downloaded evaluation files from NEON:"
   ]
  },
  {
   "cell_type": "code",
   "execution_count": null,
   "id": "77e04522-aed3-4625-8611-23f6d5ae81ed",
   "metadata": {},
   "outputs": [],
   "source": [
    "eval_path = os.path.join(eval_dir,neon_site)\n",
    "eval_files = sorted(glob(join(eval_path,neon_site+\"_eval_\"+year+\"*.nc\")))\n",
    "\n",
    "start = time.time()\n",
    "ds_eval = xr.open_mfdataset(eval_files, decode_times=True, combine='by_coords')\n",
    "end = time.time()\n",
    "print(\"Reading all observation files took:\", end-start, \"s.\")"
   ]
  },
  {
   "cell_type": "markdown",
   "id": "fb8a91ed-7ac7-45c5-81b8-afdc49705d80",
   "metadata": {},
   "source": [
    "### 3.3 Inspect NEON data"
   ]
  },
  {
   "cell_type": "markdown",
   "id": "5d61fd5d-d9e7-43aa-9ec5-78b093df227b",
   "metadata": {},
   "source": [
    "Let's inspect the evaluation files from NEON quickly: "
   ]
  },
  {
   "cell_type": "code",
   "execution_count": null,
   "id": "22d46289-e372-428b-8bbe-3f9101c03544",
   "metadata": {},
   "outputs": [],
   "source": [
    "ds_eval"
   ]
  },
  {
   "cell_type": "markdown",
   "id": "b96a13ac-eea3-4adf-9849-9f770a006b6a",
   "metadata": {},
   "source": [
    "Let's check GPP from NEON files. What are the units of GPP from NEON files?"
   ]
  },
  {
   "cell_type": "code",
   "execution_count": null,
   "id": "2019c082-8a86-48a1-9fb4-d161c2decd97",
   "metadata": {},
   "outputs": [],
   "source": [
    "ds_eval.GPP"
   ]
  },
  {
   "cell_type": "markdown",
   "id": "b2b0cbd5-3ff7-4e1c-b8ef-78ad2c091f00",
   "metadata": {},
   "source": [
    "**Question:** Do you remember the units of GPP from CTSM simulations?\n",
    "\n",
    "We should convert the units from NEON data to match the CTSM units (keep in mind that we also converted the units). \n",
    "\n",
    "We can convert umol m<sup>-2</sup> s<sup>-1</sup> to g C m<sup>-2</sup> s<sup>-1</sup> by using molecular weight of carbon. We also want to convert time units from seconds to days. "
   ]
  },
  {
   "cell_type": "code",
   "execution_count": null,
   "id": "d4678f24-7c62-4167-b170-161c1aa17124",
   "metadata": {},
   "outputs": [],
   "source": [
    "#-- convert GPP units from  umolm-2s-1 to gc/m2/s\n",
    "ds_eval['GPP'] = ds_eval['GPP']*(12.01/1000000)\n",
    "\n",
    "#-- convert from gc/m2/s to gc/m2/day\n",
    "ds_eval['GPP'] = ds_eval['GPP']*60*60*24\n",
    "ds_eval['GPP'].attrs['units'] = 'gC/m^2/day'"
   ]
  },
  {
   "cell_type": "code",
   "execution_count": null,
   "id": "6c40a628-68b7-421a-977b-879a8ab89ebb",
   "metadata": {},
   "outputs": [],
   "source": [
    "ds_eval.GPP.plot() ;"
   ]
  },
  {
   "cell_type": "markdown",
   "id": "5fb19fbf-d79d-48c7-9ac1-88a7015a33b8",
   "metadata": {},
   "source": [
    "\n",
    "Flux towers actually measure net ecosystem exchange, or NEE, and a statistical model is then used to estimate GPP. In evaluating CLM simulations of GPP against NEON observations, we are actually comparing a process model (CLM) against an observationally-constrained statistical model (NEON).\n",
    "\n",
    "___________________________"
   ]
  },
  {
   "cell_type": "markdown",
   "id": "02b1e064-335f-4c7e-9377-a776edb2a6fd",
   "metadata": {},
   "source": [
    "## 4. Compare CLM and NEON data¶\n",
    "### 4.1 Format all data\n",
    "So far, we have loaded observational data from NEON and model data from CLM for two simulations (original and modified). In this section we will compare observed and simulated GPP fluxes. You can also explore other available variables using the below code.\n",
    "\n",
    "<div class=\"alert alert-danger\">\n",
    "  <strong>A note about model timestamps:</strong> \n",
    "    \n",
    "The CTSM history includes an initial 0th timestep for each model simulation. This offset in the time dimension can cause challenges when analyzing and evaluating model data if not treated properly. You may notice in the last line of the below cell, we shift the value by -1 to address this issue. In tutorials from Day1b and Day2b, we also handled it using the fix_time function when loading the netCDF files. \n",
    "</div>\n",
    "\n",
    "Run the following cells of code to extract the variables needed for this notebook and create a single dataframe that includes all the extracted variables:"
   ]
  },
  {
   "cell_type": "code",
   "execution_count": null,
   "id": "0142ad35-d3bb-4f49-ab99-2f8080b85cf9",
   "metadata": {},
   "outputs": [],
   "source": [
    "#Convert NEON data to a Pandas Dataframe for easier handling:\n",
    "#-- fields to extract\n",
    "eval_vars = ['GPP','NEE','EFLX_LH_TOT']\n",
    "\n",
    "df_all = pd.DataFrame({'time':ds_eval.time})\n",
    "\n",
    "for var in eval_vars:\n",
    "    field = np.ravel ( ds_eval[var])     \n",
    "    df_all[var]=field"
   ]
  },
  {
   "cell_type": "markdown",
   "id": "54b9e689-cc91-4b80-8dde-d2be2046897c",
   "metadata": {},
   "source": [
    "We can inspect the dataframe created:"
   ]
  },
  {
   "cell_type": "code",
   "execution_count": null,
   "id": "8e82f339-5666-4bdb-ae88-e9d097088b36",
   "metadata": {},
   "outputs": [],
   "source": [
    "df_all.head()"
   ]
  },
  {
   "cell_type": "code",
   "execution_count": null,
   "id": "21ba691c-4e47-4efb-aece-c52dd0201de1",
   "metadata": {},
   "outputs": [],
   "source": [
    "#Convert CTSM data to a Pandas Dataframe for easier handling:\n",
    "ctsm_vars = ['GPP','AR','HR','ELAI','FCEV','FCTR','FGEV']\n",
    "df_ctsm = pd.DataFrame({'time':ds_ctsm_orig.time})\n",
    "\n",
    "for var in ctsm_vars:\n",
    "    sim_var_name = \"sim_\"+var+\"_orig\"\n",
    "    df_all[sim_var_name]=np.ravel(ds_ctsm_orig[var]) \n",
    "    df_all[sim_var_name]=df_all[sim_var_name].shift(-1).values\n",
    "\n",
    "    sim_var_name = \"sim_\"+var+\"_mod\"\n",
    "    df_all[sim_var_name] = np.ravel(ds_ctsm_mod[var])\n",
    "    df_all[sim_var_name]=df_all[sim_var_name].shift(-1).values"
   ]
  },
  {
   "cell_type": "markdown",
   "id": "d4b06080-6e02-445b-a9ed-ecb30d91e518",
   "metadata": {},
   "source": [
    "### 4.2 Plotting GPP Time Series (Daily Average)"
   ]
  },
  {
   "cell_type": "markdown",
   "id": "930ea010-1b4a-46ee-86fd-811220e451d3",
   "metadata": {},
   "source": [
    "This creates a time series plot comparing daily average latent heat flux from observations (NEON) and simulations (CLM). To start, we need to calculate the daily averages. Run the below cells of code to create the averages and plot. *Now our conversion of GPP to g C m<sup>-2</sup> day<sup>-1</sup> makes sense!*\n",
    "\n",
    "First, we need to extract year, month, day and hour from time column"
   ]
  },
  {
   "cell_type": "code",
   "execution_count": null,
   "id": "784bc3d1-0e13-4153-8ad4-19a87d461ae6",
   "metadata": {},
   "outputs": [],
   "source": [
    "#-- extract year, month, day, hour information from time\n",
    "df_all['year'] = df_all['time'].dt.year\n",
    "df_all['month'] = df_all['time'].dt.month\n",
    "df_all['day'] = df_all['time'].dt.day\n",
    "df_all['hour'] = df_all['time'].dt.hour"
   ]
  },
  {
   "cell_type": "markdown",
   "id": "488fcc92-2dab-4be3-99f6-3decf008b3e5",
   "metadata": {},
   "source": [
    "Next, calculate daily average:"
   ]
  },
  {
   "cell_type": "code",
   "execution_count": null,
   "id": "87a71b65-a93e-4a17-8dc0-2f01151383d7",
   "metadata": {},
   "outputs": [],
   "source": [
    "df_daily = df_all.groupby(['year','month','day']).mean().reset_index()\n",
    "df_daily['time']=pd.to_datetime(df_daily[[\"year\", \"month\", \"day\"]])\n"
   ]
  },
  {
   "cell_type": "markdown",
   "id": "a35f7899-dd68-421e-ae6a-1de982d534b5",
   "metadata": {},
   "source": [
    "Using the daily averages, we will create a plot using Python’s [matplotlib package](https://matplotlib.org/).\n",
    "\n",
    "Run the below cell to create the plot:"
   ]
  },
  {
   "cell_type": "code",
   "execution_count": null,
   "id": "7806686b-d793-40ba-a03c-26908c45f24d",
   "metadata": {},
   "outputs": [],
   "source": [
    "plt.figure(num=None, figsize=(13, 5),  facecolor='w', edgecolor='k')\n",
    "        \n",
    "ax = plt.gca()\n",
    "df_daily.plot ( x= 'time', y = 'GPP' , marker = 'o' ,ax =ax , color = 'g',label=\"NEON\")\n",
    "df_daily.plot ( x= 'time', y = \"sim_GPP_orig\" , marker = 'o' ,ax =ax , color = 'orange',label=\"CLM Original\")\n",
    "df_daily.plot ( x= 'time', y = \"sim_GPP_mod\" , marker = 'o' ,ax =ax , color = 'b',label=\"CLM Modified\")\n",
    "\n",
    "plt.xlabel('Time')\n",
    "# here keeping track of units is helpful agian!\n",
    "plt.ylabel(\"Gross Primary Production (\"+ds_eval.GPP.attrs['units']+')')\n",
    "plt.title(year+\" \"+neon_site)\n",
    "plt.show()"
   ]
  },
  {
   "cell_type": "markdown",
   "id": "faf29b8c-1501-4296-9725-91c035c23429",
   "metadata": {},
   "source": [
    "**Are the simulations and observations in the plot similar?**\n",
    "\n",
    "Remember that there are some problems with the precipitation data available for the model simulations that affect phenology during the summer and fall.\n",
    "Also keep in mind that NEON GPP is calculated from observed NEE using a statistical model.\n",
    "\n",
    "**Questions:**\n",
    "1. When is NEON GPP highest at this site? When is it lowest? <br>\n",
    "1. Do patterns of CLM GPP match NEON data? Why or why not? \n",
    "1. How do the CLM simulations compare to NEON data **in the spring** for the default and modified cases?\n",
    "1. As we saw above, the modified code changed phenology so that LAI and GPP were higher earlier in the simulation. Does this change improve simulated GPP?\n",
    "\n",
    "---\n",
    "\n",
    "In addition to looking at means, it is important to also look at variability, as this gives us an indication of when and where simulations are outside the range of observed values.\n",
    "\n",
    "Let’s explore variability by adding the daily standard deviation as a shaded area to the plot:\n"
   ]
  },
  {
   "cell_type": "code",
   "execution_count": null,
   "id": "4f08bd6c-9db4-400a-a60e-e6542e5e961d",
   "metadata": {},
   "outputs": [],
   "source": [
    "df_daily_std = df_all.groupby(['year','month','day']).std().reset_index()\n",
    "df_daily_std['time'] = pd.to_datetime(df_daily_std[[\"year\", \"month\", \"day\"]])"
   ]
  },
  {
   "cell_type": "code",
   "execution_count": null,
   "id": "0c930188-6d01-48d5-b303-1f248c79974d",
   "metadata": {},
   "outputs": [],
   "source": [
    "plt.figure(num=None, figsize=(13, 7),  facecolor='w', edgecolor='k')\n",
    "\n",
    "plt.plot ( df_daily.time, df_daily['GPP'], marker = 'o' , color = 'g',label=\"NEON\")\n",
    "plt.plot ( df_daily.time, df_daily['sim_GPP_orig'], marker = 'o' , color = 'orange',label=\"CLM Original\")\n",
    "plt.plot ( df_daily.time, df_daily['sim_GPP_mod'], marker = 'o' , color = 'b',label=\"CLM Modified\")\n",
    "\n",
    "plt.fill_between(df_daily.time, df_daily['GPP']-df_daily_std['GPP'], df_daily['GPP']+df_daily_std['GPP'] ,alpha=0.1, color = 'g')\n",
    "plt.fill_between(df_daily.time, df_daily['sim_GPP_orig']-df_daily_std['sim_GPP_orig'], df_daily['sim_GPP_orig']+df_daily_std['sim_GPP_orig'] ,alpha=0.1, color = 'orange')\n",
    "plt.fill_between(df_daily.time, df_daily['sim_GPP_mod']-df_daily_std['sim_GPP_mod'], df_daily['sim_GPP_mod']+df_daily_std['sim_GPP_mod'] ,alpha=0.1, color = 'b')\n",
    "\n",
    "plt.legend()\n",
    "plt.xlabel('Time', fontweight='bold',fontsize=17)\n",
    "plt.ylabel(\"Gross Primary Production (\"+ds_eval.GPP.attrs['units']+')',fontweight='bold',fontsize=14)\n",
    "plt.title(year+\" \"+neon_site, fontweight='bold',fontsize=17)\n",
    "plt.show()"
   ]
  },
  {
   "cell_type": "markdown",
   "id": "53037c81-5938-4c58-adda-3abbf89e78c5",
   "metadata": {},
   "source": [
    "The standard deviation allows us to see when CLM underpredicts or overpredicts the NEON tower observations.\n",
    "\n",
    "#### **Questions to consider:**\n",
    "\n",
    "1. Do fluxes simulated by CLM with different `rain_threshold` fall within the range of NEON tower observation variability? <br>\n",
    "1. What times of year does CLM shows the best and worst performance in predicting GPP? <br>"
   ]
  },
  {
   "cell_type": "markdown",
   "id": "0bfbeaba-688c-475c-acc8-307369d00007",
   "metadata": {
    "tags": []
   },
   "source": [
    "### 4.3 [Optional] Extract and save your data in `.csv` format:\n",
    "If you are unfamiliar with reading and using the netcdf file format that model and evaluation data are provided, you can save data different formats. The next cell of code will save the data we processed (e.g., loaded, averaged) in .csv, or comma-seperated file format.\n"
   ]
  },
  {
   "cell_type": "code",
   "execution_count": null,
   "id": "b802afb6-885e-46e2-a197-fd2207ee1315",
   "metadata": {},
   "outputs": [],
   "source": [
    "# create a directory to write out data\n",
    "!mkdir ~/preprocessed_data/"
   ]
  },
  {
   "cell_type": "code",
   "execution_count": null,
   "id": "2976cc9b-a64c-4a6c-b261-00e9da0097fc",
   "metadata": {},
   "outputs": [],
   "source": [
    "csv_dir = \"~/preprocessed_data/\"\n",
    "\n",
    "#create the directory if it does not exist:\n",
    "if not os.path.isdir(csv_dir):\n",
    "    os.makedirs(csv_dir)\n",
    "    \n",
    "csv_out = os.path.join(csv_dir, \"preprocessed_\"+neon_site+\"_\"+year+\".csv\")\n",
    "df_all.to_csv(csv_out,index=False)"
   ]
  },
  {
   "cell_type": "code",
   "execution_count": null,
   "id": "2e3c3238-7c12-4b44-9b60-b91c7b654fe5",
   "metadata": {},
   "outputs": [],
   "source": [
    "# Check the .csv file was written out\n",
    "!ls ~/preprocessed_data/"
   ]
  },
  {
   "cell_type": "markdown",
   "id": "4b639cc7-0a1c-4e22-94bd-5919521ff405",
   "metadata": {},
   "source": [
    "## 5. Compare CLM and NEON latent heat flux\n",
    "In this section we will compare observed and simulated **latent heat fluxes**. You can also explore other available variables with this code"
   ]
  },
  {
   "cell_type": "markdown",
   "id": "28e25ed4-cc18-496e-94ad-1ce3a5b5bc99",
   "metadata": {},
   "source": [
    "### 5.1 What is latent heat flux?\n",
    "\n",
    "Below we explore how well CLM simulates latent heat flux, which is directly observed at NEON towers. Latent heat flux is the energy for water evaporation from the ecosystem. Latent heat flux is a combination of plant transpiration, evaporation from leaf surfaces (e.g., from dew, after precipitation events, etc.), and evaporation from the soil:\n",
    "\n",
    "$$ Latent Heat Flux = Transpiration + Canopy Evaporation + Ground Evaporation $$\n",
    "\n",
    "Although NEON towers cannot distinguish how much each of these processes contributes to latent heat flux, CLM simulations can help us to disentangle the role of each. "
   ]
  },
  {
   "cell_type": "markdown",
   "id": "4a7a9973-294b-442b-8bbf-2ddb6b67f2e2",
   "metadata": {},
   "source": [
    "First we will calculate latent heat flux simulated by CLM by summing the component fluxes in the above equation. The CLM variables are:\n",
    "\n",
    ">$FCEV$: Canopy evaporation (W m<sup>-2</sup>) <br>\n",
    ">$FCTR$: Canopy transpiration (W m<sup>-2</sup>) <br>\n",
    ">$FGEV$: Ground evaporation (W m<sup>-2</sup>) <br>\n",
    "\n",
    "*Run the below cell to calculate simulated latent heat flux*"
   ]
  },
  {
   "cell_type": "code",
   "execution_count": null,
   "id": "dec49b85-17ae-46c0-aab8-843ca574ef17",
   "metadata": {},
   "outputs": [],
   "source": [
    "sims = ['orig','mod']\n",
    "\n",
    "for sim in sims:\n",
    "    clm_var = 'sim_EFLX_LH_TOT_'+sim\n",
    "\n",
    "    #EFLX_LH_TOT = FCEV + FCTR +FGEV\n",
    "    df_all [clm_var] = df_all['sim_FCEV_'+sim] \\\n",
    "                     + df_all['sim_FCTR_'+sim]\\\n",
    "                     + df_all['sim_FGEV_'+sim]\n"
   ]
  },
  {
   "cell_type": "markdown",
   "id": "b01382af-25cc-4981-8a92-77555b9097ba",
   "metadata": {},
   "source": [
    "Let's calculate daily averages:"
   ]
  },
  {
   "cell_type": "code",
   "execution_count": null,
   "id": "c96b94da-612c-4991-90d0-1677a786e2cb",
   "metadata": {},
   "outputs": [],
   "source": [
    "df_daily = df_all.groupby(['year','month','day']).mean().reset_index()\n",
    "df_daily['time']=pd.to_datetime(df_daily[[\"year\", \"month\", \"day\"]])"
   ]
  },
  {
   "cell_type": "code",
   "execution_count": null,
   "id": "3144ad7d-d678-4492-ad2b-1e1f083fb11d",
   "metadata": {},
   "outputs": [],
   "source": [
    "plt.figure(num=None, figsize=(13, 5),  facecolor='w', edgecolor='k')\n",
    "        \n",
    "ax = plt.gca()\n",
    "df_daily.plot ( x= 'time', y = 'EFLX_LH_TOT' , marker = 'o' ,ax =ax , color = 'g',label=\"NEON\")\n",
    "df_daily.plot ( x= 'time', y = \"sim_EFLX_LH_TOT_orig\" , marker = 'o' ,ax =ax , color = 'orange',label=\"CLM Original\")\n",
    "df_daily.plot ( x= 'time', y = \"sim_EFLX_LH_TOT_mod\" , marker = 'o' ,ax =ax , color = 'b',label=\"CLM Modified\")\n",
    "\n",
    "plt.xlabel('Time')\n",
    "plt.ylabel(\"Latent Heat Flux [W m$^{-2}$]\")\n",
    "plt.title(year+\" \"+neon_site)\n",
    "plt.show()"
   ]
  },
  {
   "cell_type": "markdown",
   "id": "9c43f669-8d0f-4270-8af4-33c8c59de51b",
   "metadata": {},
   "source": [
    "#### **Questions to consider:**\n",
    "1. How well does CLM simulate observed latent heat flux? What times of year does CLM overestimate or underestimate observed latent heat flux? \n",
    "1. How different are the original and modified simulations? Is one noticably more accurate than the other? \n",
    "1. Which component flux (transpiration, canopy evaporation, ground evaporation) seems most likely to contribute to the mismatch between simulations and observations? "
   ]
  },
  {
   "cell_type": "markdown",
   "id": "d33499b6-dfe5-47e3-ac8d-9b12c15a35b2",
   "metadata": {},
   "source": [
    "### 5.2: Monthly Averages & Component Fluxes of Latent Heat Flux\n",
    "\n",
    "Next we will disentangle whether transpiration, canopy evaporation, or ground evaporation is the dominant contribution to latent heat flux during each month using CLM data. As mentioned in section 5.1, NEON observations cannot distinguish how much each of these processes contributes to latent heat fluxes. \n",
    "\n",
    "*Run the cell below to calculate monthly averages:*"
   ]
  },
  {
   "cell_type": "code",
   "execution_count": null,
   "id": "923a8874-bc7e-4fee-95dc-7b51b5aff722",
   "metadata": {},
   "outputs": [],
   "source": [
    "df_monthly = df_all.groupby(['year','month']).mean().reset_index()\n",
    "df_monthly[\"day\"]=15\n",
    "df_monthly['time']=pd.to_datetime(df_monthly[[\"year\", \"month\",\"day\"]])"
   ]
  },
  {
   "cell_type": "markdown",
   "id": "02ec804a-3929-4dbb-8957-c6ecaec56050",
   "metadata": {
    "tags": []
   },
   "source": [
    "**Next, create a stacked bar chart showing components of simulated latent heat flux over different months.**\n",
    "\n",
    "*Run the cell below to create the plot*"
   ]
  },
  {
   "cell_type": "code",
   "execution_count": null,
   "id": "43d4308e-cc6f-4f88-9e11-2147b2d837f9",
   "metadata": {},
   "outputs": [],
   "source": [
    "def line_format(label):\n",
    "    \"\"\"\n",
    "    Helper function to convert time label to the format of pandas line plot\n",
    "    \"\"\"\n",
    "    month = label.month_name()[:3]\n",
    "    if month == 'Jan':\n",
    "        month += f'\\n{label.year}'\n",
    "    return month\n",
    "\n",
    "\n",
    "plt.figure(num=None, figsize=(13, 5),  facecolor='w', edgecolor='k')\n",
    "ax = plt.gca()\n",
    "\n",
    "df_monthly.plot ( x= 'time', y = 'EFLX_LH_TOT' , marker = 'o' ,ax =ax , color = 'black',label=\"NEON Latent Heat Flux\",use_index=False)\n",
    "df_monthly[['time','sim_FCEV_orig','sim_FCTR_orig','sim_FGEV_orig']].plot.bar ( x= 'time',stacked='True',ax=ax,rot=0,align='edge',width= -0.25,edgecolor = \"black\")\n",
    "df_monthly[['time','sim_FCEV_mod','sim_FCTR_mod','sim_FGEV_mod']].plot.bar ( x= 'time',stacked='True',ax=ax,rot=0,align='edge',width= 0.25,edgecolor = \"black\", alpha =0.5)\n",
    "# Modified case has lighter shading.\n",
    "ax.set_xticklabels(map(line_format, df_monthly.time))\n",
    "\n",
    "#set labels for the legend\n",
    "ax.legend([\"NEON Latent Heat Flux\", \"Canopy Evaporation\", \"Canopy Transpiration\", \"Ground Evaporation\"]);\n",
    "\n",
    "plt.xlabel('Time')\n",
    "plt.ylabel(\"Latent Heat Flux [W m$^{-2}$]\")\n",
    "plt.suptitle(year+\" \"+neon_site)\n",
    "plt.show()"
   ]
  },
  {
   "cell_type": "markdown",
   "id": "d3089573-6ac7-4e9d-932a-0b6f9260138e",
   "metadata": {},
   "source": [
    "The monthly averages of NEON latent heat flux observation are plotted as a line on top of the barplot of CLM data for reference.  The modified case has lighter shading.\n",
    "\n",
    "Both simulations have high biases in latent heat flux in the summer.  This pattern is similar to the high GPP that we saw in earlier plots.\n",
    "\n",
    "#### **Questions to consider:**\n",
    "1. Which components of latent heat flux changed by changing the rain threshhold for leaf onset? When are these changes most noticable?\n",
    "1. Which months does original CLM simulation overestimate and underestimate observed latent heat fluxes for this site? \n",
    "1. What times of year is *canopy transpiration* the largest contributor to the total CLM latent heat flux? How does it change between the two simulations?\n",
    "1. What times of year are *canopy evaporation* and *ground evaporation* important contributors to the total CLM latent heat flux?  How do these change between the two simulations?\n",
    "1. What is the dominant component flux when CLM overestimates observed latent heat fluxes? When CLM underestimates latent heat fluxes?\n",
    "****"
   ]
  },
  {
   "cell_type": "markdown",
   "id": "de264565-5e93-4087-8480-a42c5d85f4bf",
   "metadata": {},
   "source": [
    "### 5.3 Annual Correlations\n",
    "Scatter plots can help to describe the relationship between latent heat flux and the component transpiration and evaporation fluxes. We can look at these relationships using data from CLM simulations.\n",
    "\n",
    "First, plot annual average relationships for the original simulation.\n",
    "\n",
    "*Run the cells below to first define a generic function that plot scatter diagrams and add a regression line, and then to generate the plots.*"
   ]
  },
  {
   "cell_type": "code",
   "execution_count": null,
   "id": "ad747f2e-884a-425d-8208-fafceaa31d27",
   "metadata": {},
   "outputs": [],
   "source": [
    "#Defining generic function for scatter plots\n",
    "def detailed_scatter (x, y, color):\n",
    "    plt.scatter (x,y, marker=\"o\",color = color)\n",
    "    slope, intercept, r_value, p_value, std_err = stats.linregress(x,y)\n",
    "    line = slope*x+intercept\n",
    "    plt.plot(x,line,'black', label='y={:.2f}x+{:.2f}'.format(slope,intercept)+\" (R2=\"+\"{:.2f}\".format(r_value)+\")\")\n",
    "    plt.legend(fontsize=13)"
   ]
  },
  {
   "cell_type": "code",
   "execution_count": null,
   "id": "165df377-846a-46be-b47c-09d3117f3252",
   "metadata": {},
   "outputs": [],
   "source": [
    "#Generating plots\n",
    "plt.figure(num=None, figsize=(15, 5),  facecolor='w', edgecolor='k')\n",
    "\n",
    "plt.subplot(1, 3, 1)\n",
    "detailed_scatter (df_daily.sim_FCEV_orig, df_daily.sim_EFLX_LH_TOT_orig, 'b')\n",
    "plt.ylabel('CLM Latent Heat [W m-2]')\n",
    "plt.xlabel('CLM Canopy Evaporation [W m-2]')\n",
    "\n",
    "plt.subplot(1, 3, 2)\n",
    "detailed_scatter (df_daily.sim_FCTR_orig, df_daily.sim_EFLX_LH_TOT_orig, 'orange')\n",
    "\n",
    "plt.ylabel('CLM Latent Heat [W m-2]')\n",
    "plt.xlabel('CLM Canopy Transpiration [W m-2]')\n",
    "\n",
    "plt.subplot(1, 3, 3)\n",
    "detailed_scatter (df_daily.sim_FGEV_orig, df_daily.sim_EFLX_LH_TOT_orig,'green')\n",
    "\n",
    "plt.ylabel('CLM Latent Heat [W m-2]')\n",
    "plt.xlabel('CLM Ground Evaporation [W m-2]')\n",
    "\n",
    "plt.suptitle(year+\" \"+neon_site+\" Scatter Plots\", fontweight='bold')\n",
    "\n",
    "plt.tight_layout()\n",
    "plt.show()"
   ]
  },
  {
   "cell_type": "markdown",
   "id": "f33483c1-4219-4709-8667-df5618813bd9",
   "metadata": {},
   "source": [
    "#### **Questions to consider**: \n",
    "1. Which component flux has the strongest relationship with total latent heat flux\n",
    "1. The plots show data for the full year. How do you think the relationships might change by season? \n",
    "\n",
    "#### **Challenge:** Can you make a similar plot for the modified simulation?"
   ]
  },
  {
   "cell_type": "code",
   "execution_count": null,
   "id": "02a9031a-99a1-41b9-a226-f5be9c8a173f",
   "metadata": {},
   "outputs": [],
   "source": []
  }
 ],
 "metadata": {
  "kernelspec": {
   "display_name": "Python 3 (ipykernel)",
   "language": "python",
   "name": "python3"
  },
  "language_info": {
   "codemirror_mode": {
    "name": "ipython",
    "version": 3
   },
   "file_extension": ".py",
   "mimetype": "text/x-python",
   "name": "python",
   "nbconvert_exporter": "python",
   "pygments_lexer": "ipython3",
   "version": "3.9.7"
  }
 },
 "nbformat": 4,
 "nbformat_minor": 5
}
