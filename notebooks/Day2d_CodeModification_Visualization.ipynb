{
 "cells": [
  {
   "cell_type": "markdown",
   "id": "d17e3c92-d037-435a-b59d-8d8140640ccc",
   "metadata": {},
   "source": [
    "# Tutorial 2c - Code Modifications Tutorial (Visualization)\n",
    "\n",
    "This tutorial is an introduction to analyzing results from your code moficiations for NEON cases.  It uses results from the case you ran in the 0b and 2c tutorials, but you don't have to wait for those runs to complete before doing this tutorial too. We've prestaged model results from this simulation in a shared directory. This way, you can get started on analyzing simulations results before your simulations finish running.\n",
    "\n",
    "You can also check (NEON visualization)[`https://ncar.github.io/ncar-neon-books/notebooks/NEON_Visualization_Tutorial.html`] tutorial for more advance visualization features. \n",
    "\n",
    "## In this tutorial\n",
    "\n",
    "The tutorial has several objectives: \n",
    "1. Increase familiarity with `Xarray` and `pandas`.\n",
    "2. Increase knowledge of python packages and their utilities\n",
    "3. Compare results from original code with the modified code for a NEON tower.\n",
    "\n",
    "\n",
    "***\n",
    "**This tutorial uses a Jupyter Notebook.** A Jupyter Notebook is an interactive computing environment that enables the creation and sharing of documents that contain discrete cells of text or documentation and executable code, including plots. It allows users to access, run, and edit the code in a browser. To interact with this notebook:\n",
    "\n",
    "- Execute or \"run\" cells of executable code (cells denoted with '[ ]:') using the play button in the menu at the top (see below image)\n",
    "\n",
    "- The results of running code, such as plots, will appear below that cell\n",
    "\n",
    "- Each step must be followed in order, otherwise you may encounter errors\n",
    "\n",
    "![run cell](https://problemsolvingwithpython.com/02-Jupyter-Notebooks/images/run_cell.png)\n",
    "\n",
    "For more information on Jupyter notebooks please see the [Jupyter Notebook Quick Start Guide](https://jupyter-notebook-beginner-guide.readthedocs.io/en/latest/what_is_jupyter.html). \n",
    "\n",
    "\n",
    "<div class=\"alert alert-block alert-info\">\n",
    "<b>NOTE:</b> In Day 2c, executable code blocks used a Bash shell, or had to be executed on the command-line.  In this tutorial, we will be using Python code, and you should directly execute the contents of code blocks by running individual cells in this Jupyter notebook, similar to the Day 0b <i>Run NEON</i> tutorial.\n",
    "</div>\n",
    "\n",
    "***\n",
    "\n",
    "# 1. Load our python packages"
   ]
  },
  {
   "cell_type": "markdown",
   "id": "d83ae0ac-3a83-4a92-b7f1-80b78c914866",
   "metadata": {},
   "source": [
    "Here we are importing python package and libraries we are using for this simulations:"
   ]
  },
  {
   "cell_type": "code",
   "execution_count": 1,
   "id": "87240e2f-46c1-4179-8932-67ada9ca9b5c",
   "metadata": {},
   "outputs": [],
   "source": [
    "#Import Libraries\n",
    "%matplotlib inline\n",
    "\n",
    "import os\n",
    "import sys\n",
    "import time\n",
    "import datetime\n",
    "\n",
    "import numpy as np\n",
    "import pandas as pd\n",
    "import xarray as xr\n",
    "\n",
    "from glob import glob\n",
    "from os.path import join, expanduser\n",
    "\n",
    "import matplotlib\n",
    "import matplotlib.pyplot as plt\n",
    "\n",
    "from scipy import stats"
   ]
  },
  {
   "cell_type": "code",
   "execution_count": 2,
   "id": "83adce12-a7fd-48f2-8950-f4bfab607c54",
   "metadata": {},
   "outputs": [],
   "source": [
    "neon_site = \"KONZ\"\n",
    "year = \"2018\""
   ]
  },
  {
   "cell_type": "markdown",
   "id": "4e908987-f782-4507-9d6f-609516052a3b",
   "metadata": {},
   "source": [
    "## 2. Load and explore CTSM data:"
   ]
  },
  {
   "cell_type": "markdown",
   "id": "96a59fd1-da01-4872-b380-6bd56d39f6bf",
   "metadata": {},
   "source": [
    "### 2.1 Load original CTSM results:\n",
    "Here, we want to read and analyze the result from original (unmodified) CTSM code.\n",
    "First, let's list all our CTSM files:"
   ]
  },
  {
   "cell_type": "code",
   "execution_count": null,
   "id": "62cabd93-c938-4e7c-9b22-0456382b429b",
   "metadata": {},
   "outputs": [],
   "source": [
    "sim_path = \"~/archive_original/\"+neon_site+\".transient/lnd/hist/\"\n",
    "sim_files = sorted(glob(join(sim_path,neon_site+\".transient.clm2.h1.\"+year+\"*.nc\")))\n",
    "\n",
    "print(\"All Simulation files: [\", len(sim_files), \"files]\")\n",
    "print(*sim_files,sep='\\n')"
   ]
  },
  {
   "cell_type": "markdown",
   "id": "e0f2e94e-1206-41ee-a1e9-1a0df0999fc0",
   "metadata": {},
   "source": [
    "Next, let's load read ctsm history files into memory. For this purpose, we are using `open_mfdataset` function which opens up multiple netcdf files at the same time. "
   ]
  },
  {
   "cell_type": "code",
   "execution_count": null,
   "id": "5480b8d0-6a38-4b01-b2e8-0f2714a292ac",
   "metadata": {},
   "outputs": [],
   "source": [
    "start = time.time()\n",
    "ds_ctsm_orig = xr.open_mfdataset(sim_files, decode_times=True, combine='by_coords',parallel=True)\n",
    "end = time.time()\n",
    "print(\"Reading original simulation files took:\", end-start, \"s.\")"
   ]
  },
  {
   "cell_type": "markdown",
   "id": "9c3c3bba-9da3-4e56-9c2b-d0d35ad39002",
   "metadata": {},
   "source": [
    "This step looks at the dataset that was just created from the simulation data. This step is not required, but will allow you to explore the python dataset and become familiar with the data.\n",
    "\n",
    "Run the below cell to find more information about the data:"
   ]
  },
  {
   "cell_type": "code",
   "execution_count": 4,
   "id": "b606aa81-d91f-4575-b96e-5c4bd127f43f",
   "metadata": {},
   "outputs": [
    {
     "ename": "NameError",
     "evalue": "name 'ds_ctsm' is not defined",
     "output_type": "error",
     "traceback": [
      "\u001b[0;31m---------------------------------------------------------------------------\u001b[0m",
      "\u001b[0;31mNameError\u001b[0m                                 Traceback (most recent call last)",
      "\u001b[0;32m/glade/scratch/negins/ipykernel_9895/1120659316.py\u001b[0m in \u001b[0;36m<module>\u001b[0;34m\u001b[0m\n\u001b[0;32m----> 1\u001b[0;31m \u001b[0mds_ctsm\u001b[0m\u001b[0;34m\u001b[0m\u001b[0;34m\u001b[0m\u001b[0m\n\u001b[0m",
      "\u001b[0;31mNameError\u001b[0m: name 'ds_ctsm' is not defined"
     ]
    }
   ],
   "source": [
    "ds_ctsm"
   ]
  },
  {
   "cell_type": "markdown",
   "id": "57dbf598-6220-4dd8-9774-2a02b332bff7",
   "metadata": {},
   "source": [
    "In the output, you can click on Dimensions, Coordinates, Data Variables, and Attributes to expand and see the details and metadata associated with this dataset.\n",
    "\n",
    "If you click on Data Variables, you will see a list of all the available variables. You can click on the ‘note’ icon at the right end of the line for each variable to see a description of the variable (the long_name) and its units, as well as other information. Here are a few questions to consider:\n",
    "\n",
    "Questions to consider\n",
    "\n",
    "1. What variables are available in the dataset?\n",
    "\n",
    "2. What is the long_name and unit of the variable FSH?\n",
    "\n",
    "3. Can you find the dimensions of this variable?\n",
    "\n",
    "\n",
    "<div class=\"alert alert-block alert-info\">\n",
    "\n",
    "<b>💡 Tip: </b>  Xarray has built-in plotting functions. For quick inspection of a variable, we can use .plot() to see it. Xarray plotting functionality is a thin wrapper around the popular `matplotlib` library. For more advanced plots, we use `matplotlib` directly.\n",
    "\n",
    "</div>"
   ]
  },
  {
   "cell_type": "markdown",
   "id": "baba8e48-23e3-4ba3-bdba-145d618cf79c",
   "metadata": {},
   "source": [
    "Let's quickly inspect GPP from original simulation.\n",
    "\n",
    "<div class=\"alert alert-block alert-info\">\n",
    "\n",
    "<b>INFO:</b>  Gross Primary Production (GPP) is the total amount of CO2 that is fixed by plants through photosynthesis.\n",
    "\n",
    "</div>\n",
    "\n",
    "The code below will make a basic plot of the Gross Primary Production (GPP) variable:"
   ]
  },
  {
   "cell_type": "code",
   "execution_count": null,
   "id": "030f3fb8-b3b2-4ce9-8c44-99b7c1f4ca94",
   "metadata": {},
   "outputs": [],
   "source": [
    "ds_ctsm_orig.GPP.plot()"
   ]
  },
  {
   "cell_type": "markdown",
   "id": "643954f8-c256-4fd6-9f10-650a55c1b5a6",
   "metadata": {},
   "source": [
    "### 2.2 Load original CTSM results:"
   ]
  },
  {
   "cell_type": "markdown",
   "id": "a3370161-c774-4c1b-a98d-11aada84aa3d",
   "metadata": {},
   "source": [
    "Now, we have to load the modified code:"
   ]
  },
  {
   "cell_type": "code",
   "execution_count": null,
   "id": "ba3911a9-e2d5-47fc-aa3b-c600afb321b9",
   "metadata": {},
   "outputs": [],
   "source": [
    "sim_path_mod = \"~/archive/\"+neon_site+\".transient/lnd/hist/\"\n",
    "sim_files_mod = sorted(glob(join(sim_path_mod,neon_site+\".transient.clm2.h1.\"+year+\"*.nc\")))\n",
    "\n",
    "start = time.time()\n",
    "ds_ctsm_mod = xr.open_mfdataset(sim_files_mod, decode_times=True, combine='by_coords',parallel=True)\n",
    "end = time.time()\n",
    "print(\"Reading modified simulation files took:\", end-start, \"s.\")"
   ]
  },
  {
   "cell_type": "code",
   "execution_count": null,
   "id": "e2b6018b-4f03-43c1-9784-88addd6b8264",
   "metadata": {},
   "outputs": [],
   "source": [
    "Now, let's inspect GPP from the modified simulation:"
   ]
  },
  {
   "cell_type": "code",
   "execution_count": null,
   "id": "83682f3e-a5c2-4603-8228-e733a378c56b",
   "metadata": {},
   "outputs": [],
   "source": [
    "ds_ctsm_mod.GPP.plot()"
   ]
  },
  {
   "cell_type": "markdown",
   "id": "7249cd60-66d7-48e8-9f13-adfcab0a82bc",
   "metadata": {},
   "source": [
    "**Question**: Can you noticed how the two simulations are different?\n",
    "\n",
    "\n",
    "______________________________________________________________\n",
    "\n",
    "## 3. Load evaluation (NEON) data\n",
    "Next, let's download evaluation files from NEON server for creating these plots:"
   ]
  },
  {
   "cell_type": "code",
   "execution_count": null,
   "id": "ef24dd53-b4b0-4a1b-b056-0dd92e22fd0e",
   "metadata": {},
   "outputs": [],
   "source": [
    "eval_dir = \"~/evaluation_files/\"\n",
    "download_eval_files(neon_site, eval_dir)"
   ]
  },
  {
   "cell_type": "markdown",
   "id": "552454c2-1366-49bd-a125-102edf085377",
   "metadata": {},
   "source": [
    "Now, let's read these downloaded evaluation files from NEON:"
   ]
  },
  {
   "cell_type": "code",
   "execution_count": null,
   "id": "77e04522-aed3-4625-8611-23f6d5ae81ed",
   "metadata": {},
   "outputs": [],
   "source": [
    "eval_path = os.path.join(eval_dir,neon_site)\n",
    "eval_files = sorted(glob(join(eval_path,neon_site+\"_eval_\"+year+\"*.nc\")))\n",
    "\n",
    "start = time.time()\n",
    "ds_eval = xr.open_mfdataset(eval_files, decode_times=True, combine='by_coords')\n",
    "end = time.time()\n",
    "print(\"Reading all observation files took:\", end-start, \"s.\")"
   ]
  },
  {
   "cell_type": "markdown",
   "id": "5d61fd5d-d9e7-43aa-9ec5-78b093df227b",
   "metadata": {},
   "source": [
    "Let's inspect the evaluation files from NEON: "
   ]
  },
  {
   "cell_type": "code",
   "execution_count": null,
   "id": "6c40a628-68b7-421a-977b-879a8ab89ebb",
   "metadata": {},
   "outputs": [],
   "source": [
    "ds_eval.GPP.plot()"
   ]
  },
  {
   "cell_type": "code",
   "execution_count": null,
   "id": "b95084b8-eca9-4d8d-9843-f65fc6bf7484",
   "metadata": {},
   "outputs": [],
   "source": [
    "Can you tell which one of the simulations is closest to the NEON evaluation files?"
   ]
  },
  {
   "cell_type": "code",
   "execution_count": null,
   "id": "0ea62aba-2fea-40f5-8625-0d648a2c9320",
   "metadata": {},
   "outputs": [],
   "source": [
    "___________________________"
   ]
  },
  {
   "cell_type": "code",
   "execution_count": null,
   "id": "24c88085-3365-4467-bb35-80cc6c26ca64",
   "metadata": {},
   "outputs": [],
   "source": [
    "Let's create a fancier plot that shows all three time series on top of each other:"
   ]
  },
  {
   "cell_type": "code",
   "execution_count": null,
   "id": "0142ad35-d3bb-4f49-ab99-2f8080b85cf9",
   "metadata": {},
   "outputs": [],
   "source": [
    "#Convert NEON data to a Pandas Dataframe for easier handling:\n",
    "eval_vars = ['GPP','NEE']\n",
    "\n",
    "df_all = pd.DataFrame({'time':ds_eval.time})\n",
    "\n",
    "for var in eval_vars:\n",
    "    field = np.ravel ( ds_eval[var])     \n",
    "    df_all[var]=field\n",
    "    \n",
    "\n",
    "#Convert CTSM data to a Pandas Dataframe for easier handling:\n",
    "ctsm_vars = ['GPP','NEE']\n",
    "df_ctsm = pd.DataFrame({'time':ds_ctsm.time})\n",
    "\n",
    "for var in ctsm_vars:\n",
    "    sim_var_name = \"sim_\"+var\n",
    "    field = np.ravel ( ds_ctsm_orig[var])     \n",
    "    df_ctsm[sim_var_name]=field\n",
    "    \n",
    "    sim_var_name = \"sim_\"+var+\"_mod\"\n",
    "    field = np.ravel ( ds_ctsm_mod[var]) \n",
    "    df_ctsm[sim_var_name] = field\n",
    "\n",
    "\n",
    "#-- add simulation data to df_all and adjust for offset time dimension:\n",
    "for var in ctsm_vars:\n",
    "    sim_var_name = \"sim_\"+var\n",
    "    #-- shift simulation data by one\n",
    "    df_all[sim_var_name]=df_ctsm[var].shift(-1).values\n",
    "    if var =='NEE'\n",
    "        df_all [sim_var_name]= df_all[sim_var_name]*60*60*24\n"
   ]
  }
 ],
 "metadata": {
  "kernelspec": {
   "display_name": "NPL (conda)",
   "language": "python",
   "name": "npl-conda"
  },
  "language_info": {
   "codemirror_mode": {
    "name": "ipython",
    "version": 3
   },
   "file_extension": ".py",
   "mimetype": "text/x-python",
   "name": "python",
   "nbconvert_exporter": "python",
   "pygments_lexer": "ipython3",
   "version": "3.7.12"
  }
 },
 "nbformat": 4,
 "nbformat_minor": 5
}
