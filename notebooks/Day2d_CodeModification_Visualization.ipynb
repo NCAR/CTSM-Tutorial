{
 "cells": [
  {
   "cell_type": "markdown",
   "id": "d17e3c92-d037-435a-b59d-8d8140640ccc",
   "metadata": {},
   "source": [
    "# Tutorial 2d - *Code Modifications (Visualization)*\n",
    "\n",
    "This tutorial is an introduction to analyzing results from your code moficiations for NEON cases.  It uses results from the case you ran in the 0b and 2c tutorials, but you don't have to wait for those runs to complete before doing this tutorial too. We've prestaged model results from this simulation in a shared directory. This way, you can get started on analyzing simulations results before your simulations finish running.\n",
    "\n",
    "You can also check [NEON visualization](https://ncar.github.io/ncar-neon-books/notebooks/NEON_Visualization_Tutorial.html) tutorial for more advance visualization features. \n",
    "\n",
    "## In this tutorial\n",
    "\n",
    "The tutorial has several objectives: \n",
    "1. Increase familiarity with `Xarray` and `pandas`.\n",
    "2. Increase knowledge of python packages and their utilities\n",
    "3. Compare results from original code with the modified code for a NEON tower.\n",
    "\n",
    "\n",
    "***\n",
    "**This tutorial uses a Jupyter Notebook.** A Jupyter Notebook is an interactive computing environment that enables the creation and sharing of documents that contain discrete cells of text or documentation and executable code, including plots. It allows users to access, run, and edit the code in a browser. To interact with this notebook:\n",
    "\n",
    "- Execute or \"run\" cells of executable code (cells denoted with '[ ]:') using the play button in the menu at the top (see below image)\n",
    "\n",
    "- The results of running code, such as plots, will appear below that cell\n",
    "\n",
    "- Each step must be followed in order, otherwise you may encounter errors\n",
    "\n",
    "![run cell](https://problemsolvingwithpython.com/02-Jupyter-Notebooks/images/run_cell.png)\n",
    "\n",
    "For more information on Jupyter notebooks please see the [Jupyter Notebook Quick Start Guide](https://jupyter-notebook-beginner-guide.readthedocs.io/en/latest/what_is_jupyter.html). \n",
    "\n",
    "\n",
    "<div class=\"alert alert-block alert-info\">\n",
    "<b>NOTE:</b> In Day 2c, executable code blocks used a Bash shell, or had to be executed on the command-line.  In this tutorial, we will be using Python code, and you should directly execute the contents of code blocks by running individual cells in this Jupyter notebook, similar to the Day 0b <i>Run NEON</i> tutorial.\n",
    "</div>\n",
    "\n",
    "***\n",
    "\n",
    "## 1. Load our python packages"
   ]
  },
  {
   "cell_type": "markdown",
   "id": "d83ae0ac-3a83-4a92-b7f1-80b78c914866",
   "metadata": {},
   "source": [
    "Here we are importing python package and libraries we are using for this simulations:"
   ]
  },
  {
   "cell_type": "code",
   "execution_count": null,
   "id": "87240e2f-46c1-4179-8932-67ada9ca9b5c",
   "metadata": {},
   "outputs": [],
   "source": [
    "#Import Libraries\n",
    "%matplotlib inline\n",
    "\n",
    "import os\n",
    "import sys\n",
    "import time\n",
    "import datetime\n",
    "\n",
    "import numpy as np\n",
    "import pandas as pd\n",
    "import xarray as xr\n",
    "\n",
    "from glob import glob\n",
    "from os.path import join, expanduser\n",
    "\n",
    "import matplotlib\n",
    "import matplotlib.pyplot as plt\n",
    "\n",
    "from scipy import stats\n",
    "\n",
    "from neon_utils import download_eval_files"
   ]
  },
  {
   "cell_type": "code",
   "execution_count": null,
   "id": "83adce12-a7fd-48f2-8950-f4bfab607c54",
   "metadata": {},
   "outputs": [],
   "source": [
    "neon_site = \"KONZ\"\n",
    "year = \"2018\""
   ]
  },
  {
   "cell_type": "markdown",
   "id": "4e908987-f782-4507-9d6f-609516052a3b",
   "metadata": {},
   "source": [
    "## 2. Load and explore CTSM data:"
   ]
  },
  {
   "cell_type": "markdown",
   "id": "96a59fd1-da01-4872-b380-6bd56d39f6bf",
   "metadata": {},
   "source": [
    "### 2.1 Load original CTSM results:\n",
    "Here, we want to read and analyze the result from original (unmodified) CTSM code.\n",
    "First, let's list all our CTSM files:"
   ]
  },
  {
   "cell_type": "code",
   "execution_count": null,
   "id": "62cabd93-c938-4e7c-9b22-0456382b429b",
   "metadata": {},
   "outputs": [],
   "source": [
    "sim_path = \"~/scratch/CLM-NEON/archive/\"+neon_site+\".transient/lnd/hist\"\n",
    "sim_files = sorted(glob(join(sim_path,neon_site+\".transient.clm2.h1.\"+year+\"*.nc\")))\n",
    "\n",
    "print(\"All simulation files: [\", len(sim_files), \"files]\")\n",
    "print(*sim_files,sep='\\n')"
   ]
  },
  {
   "cell_type": "markdown",
   "id": "e0f2e94e-1206-41ee-a1e9-1a0df0999fc0",
   "metadata": {},
   "source": [
    "Next, let's load read ctsm history files into memory. \n",
    "\n",
    "For this purpose, we are using `open_mfdataset` function which opens up multiple netcdf files at the same time. "
   ]
  },
  {
   "cell_type": "code",
   "execution_count": null,
   "id": "5480b8d0-6a38-4b01-b2e8-0f2714a292ac",
   "metadata": {},
   "outputs": [],
   "source": [
    "start = time.time()\n",
    "ds_ctsm_orig = xr.open_mfdataset(sim_files, decode_times=True, combine='by_coords',parallel=True)\n",
    "end = time.time()\n",
    "print(\"Reading original simulation files took:\", end-start, \"s.\")"
   ]
  },
  {
   "cell_type": "markdown",
   "id": "9c3c3bba-9da3-4e56-9c2b-d0d35ad39002",
   "metadata": {},
   "source": [
    "This step looks at the dataset that was just created from the simulation data. This step is not required, but will allow you to explore the python dataset and become familiar with the data.\n",
    "\n",
    "Run the below cell to find more information about the data:"
   ]
  },
  {
   "cell_type": "code",
   "execution_count": null,
   "id": "b606aa81-d91f-4575-b96e-5c4bd127f43f",
   "metadata": {},
   "outputs": [],
   "source": [
    "ds_ctsm_orig"
   ]
  },
  {
   "cell_type": "markdown",
   "id": "57dbf598-6220-4dd8-9774-2a02b332bff7",
   "metadata": {},
   "source": [
    "In the output, you can click on Dimensions, Coordinates, Data Variables, and Attributes to expand and see the details and metadata associated with this dataset.\n",
    "\n",
    "If you click on Data Variables, you will see a list of all the available variables. You can click on the ‘note’ icon at the right end of the line for each variable to see a description of the variable (the long_name) and its units, as well as other information. Here are a few questions to consider:\n",
    "\n",
    "Questions to consider\n",
    "\n",
    "1. What variables are available in the dataset?\n",
    "\n",
    "2. What is the long_name and unit of the variable FSH?\n",
    "\n",
    "3. Can you find the dimensions of this variable?\n",
    "\n",
    "\n",
    "<div class=\"alert alert-block alert-info\">\n",
    "\n",
    "<b>💡 Tip: </b>  Xarray has built-in plotting functions. For quick inspection of a variable, we can use .plot() to see it. Xarray plotting functionality is a thin wrapper around the popular `matplotlib` library. For more advanced plots, we use `matplotlib` directly.\n",
    "\n",
    "</div>"
   ]
  },
  {
   "cell_type": "markdown",
   "id": "baba8e48-23e3-4ba3-bdba-145d618cf79c",
   "metadata": {},
   "source": [
    "Let's quickly inspect GPP from original simulation.\n",
    "\n",
    "<div class=\"alert alert-block alert-info\">\n",
    "\n",
    "<b>INFO:</b>  Gross Primary Production (GPP) is the total amount of CO2 that is fixed by plants through photosynthesis.\n",
    "\n",
    "</div>\n",
    "\n",
    "The code below will make a basic plot of the Gross Primary Production (GPP) variable:"
   ]
  },
  {
   "cell_type": "code",
   "execution_count": null,
   "id": "030f3fb8-b3b2-4ce9-8c44-99b7c1f4ca94",
   "metadata": {},
   "outputs": [],
   "source": [
    "ds_ctsm_orig.GPP.plot()"
   ]
  },
  {
   "cell_type": "markdown",
   "id": "4dbd79d2-4e15-4db5-b049-71fc8f23bebd",
   "metadata": {},
   "source": [
    "You can select to plot only specific time period using `.sel` option. \n",
    "\n",
    "For example,let's check GPP for June of 2018:"
   ]
  },
  {
   "cell_type": "code",
   "execution_count": null,
   "id": "8cbb8a20-e154-4030-b039-27b9c78e7623",
   "metadata": {},
   "outputs": [],
   "source": [
    "ds_ctsm_orig.GPP.sel(time=slice('2018-06-01', '2018-06-30')).plot()"
   ]
  },
  {
   "cell_type": "markdown",
   "id": "4ce096b5-04a6-470a-8459-73d2b7338d3d",
   "metadata": {},
   "source": [
    "By now you might have noticed the unit of GPP in the CTSM history output files. \n"
   ]
  },
  {
   "cell_type": "code",
   "execution_count": null,
   "id": "5069c098-2eab-4dcc-b592-71ee277474c2",
   "metadata": {},
   "outputs": [],
   "source": [
    "ds_ctsm_orig.GPP.units"
   ]
  },
  {
   "cell_type": "markdown",
   "id": "38c7393f-a66f-4182-8fa8-678e75257050",
   "metadata": {},
   "source": [
    "Let's change the unit from gC/m-2s-1 to gC/m-2day-1:"
   ]
  },
  {
   "cell_type": "code",
   "execution_count": null,
   "id": "db8526c5-e2ce-4cfb-87fc-613db4d90304",
   "metadata": {},
   "outputs": [],
   "source": [
    "ds_ctsm_orig['GPP'] = ds_ctsm_orig['GPP']*60*60*24\n",
    "ds_ctsm_orig['GPP'].attrs['units'] = 'gC/m^2/day'"
   ]
  },
  {
   "cell_type": "markdown",
   "id": "bb306250-9f4c-47be-b7ad-17a9c16cd593",
   "metadata": {},
   "source": [
    "Let's remake the plot from above, using the new unit:"
   ]
  },
  {
   "cell_type": "code",
   "execution_count": null,
   "id": "c448c229-ca3a-40b3-8e7d-7a032be42935",
   "metadata": {},
   "outputs": [],
   "source": [
    "ds_ctsm_orig.GPP.sel(time=slice('2018-06-01', '2018-06-30')).plot()"
   ]
  },
  {
   "cell_type": "markdown",
   "id": "643954f8-c256-4fd6-9f10-650a55c1b5a6",
   "metadata": {},
   "source": [
    "### 2.2 Load modified CTSM results:"
   ]
  },
  {
   "cell_type": "markdown",
   "id": "a3370161-c774-4c1b-a98d-11aada84aa3d",
   "metadata": {},
   "source": [
    "Now, we have to load the result from the modified CTSM code:"
   ]
  },
  {
   "cell_type": "code",
   "execution_count": null,
   "id": "ba3911a9-e2d5-47fc-aa3b-c600afb321b9",
   "metadata": {},
   "outputs": [],
   "source": [
    "sim_path_mod = \"~/scratch/CLM-NEON-phenologychange/archive/\"+neon_site+\".transient/lnd/hist\"\n",
    "sim_files_mod = sorted(glob(join(sim_path_mod,neon_site+\".transient.clm2.h1.\"+year+\"*.nc\")))\n",
    "\n",
    "print(\"All simulation files from modified simulation: [\", len(sim_files_mod), \"files]\")\n",
    "print(*sim_files_mod,sep='\\n')"
   ]
  },
  {
   "cell_type": "code",
   "execution_count": null,
   "id": "723f1287-80ed-4937-bb71-af670ebd2b6f",
   "metadata": {},
   "outputs": [],
   "source": [
    "start = time.time()\n",
    "ds_ctsm_mod = xr.open_mfdataset(sim_files_mod, decode_times=True, combine='by_coords',parallel=True)\n",
    "end = time.time()\n",
    "print(\"Reading modified simulation files took:\", end-start, \"s.\")"
   ]
  },
  {
   "cell_type": "markdown",
   "id": "1dccc486-2e7a-4765-a15a-ff7d6736eee3",
   "metadata": {},
   "source": [
    "Now, let's inspect GPP from the modified simulation:"
   ]
  },
  {
   "cell_type": "code",
   "execution_count": null,
   "id": "a95c54d2-4213-4eb2-9e35-d3ea19bb9497",
   "metadata": {},
   "outputs": [],
   "source": [
    "ds_ctsm_mod"
   ]
  },
  {
   "cell_type": "code",
   "execution_count": null,
   "id": "83682f3e-a5c2-4603-8228-e733a378c56b",
   "metadata": {},
   "outputs": [],
   "source": [
    "ds_ctsm_mod.GPP.plot()"
   ]
  },
  {
   "cell_type": "markdown",
   "id": "b24e70c9-8ed3-4558-bb08-96492e80da43",
   "metadata": {},
   "source": [
    "While loading the original simulations we have changed GPP unit, we should do so here too:"
   ]
  },
  {
   "cell_type": "code",
   "execution_count": null,
   "id": "23bf8d8a-30b9-4dcc-913a-556981d0c45c",
   "metadata": {},
   "outputs": [],
   "source": [
    "ds_ctsm_mod['GPP'] = ds_ctsm_mod['GPP']*60*60*24\n",
    "ds_ctsm_mod['GPP'].attrs['units'] = 'gC/m^2/day'"
   ]
  },
  {
   "cell_type": "markdown",
   "id": "7249cd60-66d7-48e8-9f13-adfcab0a82bc",
   "metadata": {},
   "source": [
    "**Question**: Can you noticed how the two simulations are different?\n",
    "\n",
    "Let's quickly inspect GPP from both simulations for 2018-06:\n",
    "\n",
    "\n",
    "\n",
    "**Question**: With the skills you learnt so far, can you plot `ELAI` for june 2018?\n",
    "\n"
   ]
  },
  {
   "cell_type": "code",
   "execution_count": null,
   "id": "1e673e7c-14ff-47b9-8dbb-f32c39f1db78",
   "metadata": {},
   "outputs": [],
   "source": [
    "fig, axes = plt.subplots(nrows=2, figsize=(13,7))\n",
    "ds_ctsm_orig.GPP.sel(time='2018-05').plot(ax=axes[0], color='blue',marker=\"o\")\n",
    "ds_ctsm_mod.GPP.sel(time='2018-05').plot(ax=axes[1], color='orange',marker=\"o\")\n",
    "plt.tight_layout(); "
   ]
  },
  {
   "cell_type": "markdown",
   "id": "bcececfb-0def-46c9-8a82-3fa4cdeb20bd",
   "metadata": {},
   "source": [
    "______________________________________________________________\n",
    "\n",
    "## 3. Explore NEON Tower Observation Data\n",
    "\n",
    "### 3.1 Download NEON data\n",
    "\n",
    "<div class=\"alert alert-block alert-info\">\n",
    "\n",
    "<b>💡 NOTE: </b>  NEON provides some evaluation data for NEON sites from observation at 30 minutes time interval. NEON data for evaluation are pulled from the API and the least restrictive quality control flags are applied. The data are subsequently gap-filled using a redundant data stream regression, while data that are still missing are filled using a Marginal Distribution Sampling (MDS) gap-filling technique. Unit conversions are performed and the data are formatted and supplied as monthly netCDF files.\n",
    "\n",
    "</div>\n",
    "\n",
    "To download the data, this step uses a preestablished function (download_eval_files) to download the NEON observational data files for the site and year specified above. The preprocessed NEON data are available for download from NEON’s GCS (Google Cloud Storage) bucket, with the full listing of available data here.\n",
    "\n",
    "Note that this downloads the evaluation data based on the year you selected above. If you would like to download all available NEON evaluation data from this site, change the word year to \"all\" (quotes included) below: download_eval_files(neon_site, eval_dir, \"all\")\n",
    "\n",
    "Run the cell below to download available NEON data from the site and year you selected above:\n"
   ]
  },
  {
   "cell_type": "code",
   "execution_count": null,
   "id": "ef24dd53-b4b0-4a1b-b056-0dd92e22fd0e",
   "metadata": {},
   "outputs": [],
   "source": [
    "eval_dir = \"/scratch/negins/evaluation_files/\"\n",
    "download_eval_files(neon_site, eval_dir, year)"
   ]
  },
  {
   "cell_type": "markdown",
   "id": "552454c2-1366-49bd-a125-102edf085377",
   "metadata": {},
   "source": [
    "### 3.2 Load NEON data\n",
    "\n",
    "Now, let's read these downloaded evaluation files from NEON:"
   ]
  },
  {
   "cell_type": "code",
   "execution_count": null,
   "id": "77e04522-aed3-4625-8611-23f6d5ae81ed",
   "metadata": {},
   "outputs": [],
   "source": [
    "eval_path = os.path.join(eval_dir,neon_site)\n",
    "eval_files = sorted(glob(join(eval_path,neon_site+\"_eval_\"+year+\"*.nc\")))\n",
    "\n",
    "start = time.time()\n",
    "ds_eval = xr.open_mfdataset(eval_files, decode_times=True, combine='by_coords')\n",
    "end = time.time()\n",
    "print(\"Reading all observation files took:\", end-start, \"s.\")"
   ]
  },
  {
   "cell_type": "markdown",
   "id": "fb8a91ed-7ac7-45c5-81b8-afdc49705d80",
   "metadata": {},
   "source": [
    "### 3.3 Inspect NEON data"
   ]
  },
  {
   "cell_type": "markdown",
   "id": "5d61fd5d-d9e7-43aa-9ec5-78b093df227b",
   "metadata": {},
   "source": [
    "Let's inspect the evaluation files from NEON quickly: "
   ]
  },
  {
   "cell_type": "code",
   "execution_count": null,
   "id": "22d46289-e372-428b-8bbe-3f9101c03544",
   "metadata": {},
   "outputs": [],
   "source": [
    "ds_eval"
   ]
  },
  {
   "cell_type": "markdown",
   "id": "b96a13ac-eea3-4adf-9849-9f770a006b6a",
   "metadata": {},
   "source": [
    "Let's check GPP from NEON files, what is GPP unit from NEON files?"
   ]
  },
  {
   "cell_type": "code",
   "execution_count": null,
   "id": "2019c082-8a86-48a1-9fb4-d161c2decd97",
   "metadata": {},
   "outputs": [],
   "source": [
    "ds_eval.GPP"
   ]
  },
  {
   "cell_type": "markdown",
   "id": "b2b0cbd5-3ff7-4e1c-b8ef-78ad2c091f00",
   "metadata": {},
   "source": [
    "Question: Do you remember what the unit of GPP was from CTSM simulation files?\n",
    "\n",
    "We should convert to unit from NEON files to match the same unit as CTSM files. \n",
    "\n",
    "We can convert umolm-2s-1 to gCm-2s-1 by using molecular weight of Carbon:"
   ]
  },
  {
   "cell_type": "code",
   "execution_count": null,
   "id": "d4678f24-7c62-4167-b170-161c1aa17124",
   "metadata": {},
   "outputs": [],
   "source": [
    "#-- convert NEE units from  umolm-2s-1 to gc/m2/s\n",
    "ds_eval['GPP'] = ds_eval['GPP']*(12.01/1000000)\n",
    "\n",
    "#-- convert from gc/m2/s to gc/m2/day\n",
    "ds_eval['GPP'] = ds_eval['GPP']*60*60*24\n",
    "ds_eval['GPP'].attrs['units'] = 'gC/m^2/day'"
   ]
  },
  {
   "cell_type": "code",
   "execution_count": null,
   "id": "6c40a628-68b7-421a-977b-879a8ab89ebb",
   "metadata": {},
   "outputs": [],
   "source": [
    "ds_eval.GPP.plot()"
   ]
  },
  {
   "cell_type": "markdown",
   "id": "5fb19fbf-d79d-48c7-9ac1-88a7015a33b8",
   "metadata": {},
   "source": [
    "Question: Can you tell which one of the simulations is closest to the NEON evaluation files?\n",
    "___________________________"
   ]
  },
  {
   "cell_type": "markdown",
   "id": "02b1e064-335f-4c7e-9377-a776edb2a6fd",
   "metadata": {},
   "source": [
    "## 4. Compare CLM and NEON latent heat flux data¶\n",
    "### 4.1 Format all data\n",
    "So far, we have loaded files of observational and model (original and modified code) data. In this section we will compare observed and GPP fluxes. You can also explore other available variables with this code.\n",
    "\n",
    "<div class=\"alert alert-danger\">\n",
    "  <strong>A note about model timestamps:</strong> \n",
    "    \n",
    "The CTSM history includes an initial 0th timestep for each model simulation. This offset in the time dimension can cause challenges when analyzing and evaluating model data if not treated properly. You may notice in the last line of the below cell, we shift the value by -1 to address this issue. In tutorial 2b, we also handled it using the fix_time function while loading the netCDf files. \n",
    "</div>\n",
    "\n",
    "Run the following cells of code to extract the variables needed for this notebook and create a single dataframe that includes all the extracted variables:"
   ]
  },
  {
   "cell_type": "code",
   "execution_count": null,
   "id": "0142ad35-d3bb-4f49-ab99-2f8080b85cf9",
   "metadata": {},
   "outputs": [],
   "source": [
    "#Convert NEON data to a Pandas Dataframe for easier handling:\n",
    "#-- fields to extract\n",
    "eval_vars = ['GPP','NEE']\n",
    "\n",
    "df_all = pd.DataFrame({'time':ds_eval.time})\n",
    "\n",
    "for var in eval_vars:\n",
    "    field = np.ravel ( ds_eval[var])     \n",
    "    df_all[var]=field"
   ]
  },
  {
   "cell_type": "markdown",
   "id": "54b9e689-cc91-4b80-8dde-d2be2046897c",
   "metadata": {},
   "source": [
    "We can inspect the dataframe created quickly:"
   ]
  },
  {
   "cell_type": "code",
   "execution_count": null,
   "id": "8e82f339-5666-4bdb-ae88-e9d097088b36",
   "metadata": {},
   "outputs": [],
   "source": [
    "df_all.head()"
   ]
  },
  {
   "cell_type": "code",
   "execution_count": null,
   "id": "21ba691c-4e47-4efb-aece-c52dd0201de1",
   "metadata": {},
   "outputs": [],
   "source": [
    "#Convert CTSM data to a Pandas Dataframe for easier handling:\n",
    "ctsm_vars = ['GPP','AR','HR','ELAI']\n",
    "df_ctsm = pd.DataFrame({'time':ds_ctsm_orig.time})\n",
    "\n",
    "for var in ctsm_vars:\n",
    "    sim_var_name = \"sim_\"+var+\"_orig\"\n",
    "    df_all[sim_var_name]=np.ravel(ds_ctsm_orig[var]) \n",
    "    df_all[sim_var_name]=df_all[sim_var_name].shift(-1).values\n",
    "\n",
    "    sim_var_name = \"sim_\"+var+\"_mod\"\n",
    "    df_all[sim_var_name] = np.ravel(ds_ctsm_mod[var])\n",
    "    df_all[sim_var_name]=df_all[sim_var_name].shift(-1).values"
   ]
  },
  {
   "cell_type": "markdown",
   "id": "1cc89ca7-a5a8-4e28-b411-344bffab2c68",
   "metadata": {},
   "source": [
    "### 4.2 [Optional] Extract and save your data in `.csv` format:"
   ]
  },
  {
   "cell_type": "markdown",
   "id": "d6ad8372-f759-43ef-9814-5ccc8d706120",
   "metadata": {},
   "source": [
    "If you are unfamiliar with reading and using the netcdf file format that model and evaluation data are provided, you can save data different formats. The next cell of code will save the pre-processed data in .csv, or comma-seperated file format."
   ]
  },
  {
   "cell_type": "code",
   "execution_count": null,
   "id": "cbc608aa-41db-447b-bf2b-3aab697aeebe",
   "metadata": {},
   "outputs": [],
   "source": [
    "csv_dir = \"~/preprocessed_data/\"\n",
    "\n",
    "#create the directory if it does not exist:\n",
    "if not os.path.isdir(csv_dir):\n",
    "    os.mkdir(csv_dir)\n",
    "\n",
    "csv_out = os.path.join(csv_dir, \"preprocessed_\"+neon_site+\"_\"+year+\".csv\")\n",
    "df_all.to_csv(csv_out,index=False)"
   ]
  },
  {
   "cell_type": "markdown",
   "id": "d4b06080-6e02-445b-a9ed-ecb30d91e518",
   "metadata": {},
   "source": [
    "### 4.3 Plotting GPP Time Series (Daily Average):"
   ]
  },
  {
   "cell_type": "markdown",
   "id": "930ea010-1b4a-46ee-86fd-811220e451d3",
   "metadata": {},
   "source": [
    "This creates a time-series plot comparing daily average latent heat flux from observations (NEON) and simulations (CLM). To start, we need calculate the daily averages. Run the below cells of code to create the averages and plot.\n",
    "\n",
    "First, we need to extract year, month, day and hour from time column"
   ]
  },
  {
   "cell_type": "code",
   "execution_count": null,
   "id": "784bc3d1-0e13-4153-8ad4-19a87d461ae6",
   "metadata": {},
   "outputs": [],
   "source": [
    "#-- extract year, month, day, hour information from time\n",
    "df_all['year'] = df_all['time'].dt.year\n",
    "df_all['month'] = df_all['time'].dt.month\n",
    "df_all['day'] = df_all['time'].dt.day\n",
    "df_all['hour'] = df_all['time'].dt.hour"
   ]
  },
  {
   "cell_type": "markdown",
   "id": "488fcc92-2dab-4be3-99f6-3decf008b3e5",
   "metadata": {},
   "source": [
    "Next, calculate daily average:"
   ]
  },
  {
   "cell_type": "code",
   "execution_count": null,
   "id": "87a71b65-a93e-4a17-8dc0-2f01151383d7",
   "metadata": {},
   "outputs": [],
   "source": [
    "df_daily = df_all.groupby(['year','month','day']).mean().reset_index()\n",
    "df_daily['time']=pd.to_datetime(df_daily[[\"year\", \"month\", \"day\"]])\n"
   ]
  },
  {
   "cell_type": "markdown",
   "id": "a35f7899-dd68-421e-ae6a-1de982d534b5",
   "metadata": {},
   "source": [
    "Using the daily averages, we will create a plot using Python’s [matplotlib package](https://matplotlib.org/)."
   ]
  },
  {
   "cell_type": "markdown",
   "id": "b7057e93-2fe1-46c2-87bf-bb1b320cabda",
   "metadata": {},
   "source": [
    "Run the below cell to create the plot:"
   ]
  },
  {
   "cell_type": "code",
   "execution_count": null,
   "id": "7806686b-d793-40ba-a03c-26908c45f24d",
   "metadata": {},
   "outputs": [],
   "source": [
    "plt.figure(num=None, figsize=(13, 5),  facecolor='w', edgecolor='k')\n",
    "        \n",
    "ax = plt.gca()\n",
    "df_daily.plot ( x= 'time', y = 'GPP' , marker = 'o' ,ax =ax , color = 'b',label=\"NEON\")\n",
    "df_daily.plot ( x= 'time', y = \"sim_GPP_orig\" , marker = 'o' ,ax =ax , color = 'orange',label=\"Original\")\n",
    "df_daily.plot ( x= 'time', y = \"sim_GPP_mod\" , marker = 'o' ,ax =ax , color = 'g',label=\"Modified\")\n",
    "\n",
    "plt.xlabel('Time')\n",
    "plt.ylabel(\"Gross Primary Production [W m$^{-2}$]\")\n",
    "plt.title(year+\" \"+neon_site)\n",
    "plt.show()"
   ]
  },
  {
   "cell_type": "markdown",
   "id": "faf29b8c-1501-4296-9725-91c035c23429",
   "metadata": {},
   "source": [
    "Are the simulations and observations in the plot similar?¶\n",
    "\n",
    "Can you explain how changing the `rain_threshhold` for leaf onset caused the difference?\n",
    "\n",
    "It is important to also look at variability, as this gives us an indication of when and where simulations are outside the range of observed values.\n",
    "\n",
    "Let’s explore variability by adding the daily standard deviation as a shaded area to the plot:\n",
    "\n",
    "\n",
    "\n"
   ]
  },
  {
   "cell_type": "code",
   "execution_count": null,
   "id": "4f08bd6c-9db4-400a-a60e-e6542e5e961d",
   "metadata": {},
   "outputs": [],
   "source": [
    "df_daily_std = df_all.groupby(['year','month','day']).std().reset_index()\n",
    "df_daily_std['time'] = pd.to_datetime(df_daily_std[[\"year\", \"month\", \"day\"]])"
   ]
  },
  {
   "cell_type": "code",
   "execution_count": null,
   "id": "0c930188-6d01-48d5-b303-1f248c79974d",
   "metadata": {},
   "outputs": [],
   "source": [
    "plt.figure(num=None, figsize=(13, 7),  facecolor='w', edgecolor='k')\n",
    "\n",
    "plt.plot ( df_daily.time, df_daily['GPP'], marker = 'o' , color = 'b',label=\"NEON\")\n",
    "plt.plot ( df_daily.time, df_daily['sim_GPP_orig'], marker = 'o' , color = 'orange',label=\"CLM\")\n",
    "plt.plot ( df_daily.time, df_daily['sim_GPP_mod'], marker = 'o' , color = 'g',label=\"CLM\")\n",
    "\n",
    "plt.fill_between(df_daily.time, df_daily['GPP']-df_daily_std['GPP'], df_daily['GPP']+df_daily_std['GPP'] ,alpha=0.1, color = 'b')\n",
    "plt.fill_between(df_daily.time, df_daily['sim_GPP_orig']-df_daily_std['sim_GPP_orig'], df_daily['sim_GPP_orig']+df_daily_std['sim_GPP_orig'] ,alpha=0.1, color = 'orange')\n",
    "plt.fill_between(df_daily.time, df_daily['sim_GPP_mod']-df_daily_std['sim_GPP_mod'], df_daily['sim_GPP_mod']+df_daily_std['sim_GPP_mod'] ,alpha=0.1, color = 'g')\n",
    "\n",
    "plt.legend()\n",
    "plt.xlabel('Time', fontweight='bold',fontsize=17)\n",
    "plt.ylabel(\"Gross Primary Production [W m$^{-2}$]\",fontweight='bold',fontsize=17)\n",
    "plt.title(year+\" \"+neon_site, fontweight='bold',fontsize=17)\n",
    "plt.show()"
   ]
  },
  {
   "cell_type": "markdown",
   "id": "5530008e-a37c-44ca-bb8d-a5cb109b1127",
   "metadata": {},
   "source": [
    "Now, let's create a plot for comparing `ELAI` from the two simulations:"
   ]
  },
  {
   "cell_type": "code",
   "execution_count": null,
   "id": "b2c8ad43-09bd-425d-8667-15adebd2c06e",
   "metadata": {},
   "outputs": [],
   "source": [
    "plt.figure(num=None, figsize=(13, 5),  facecolor='w', edgecolor='k')\n",
    "        \n",
    "ax = plt.gca()\n",
    "df_daily.plot ( x= 'time', y = \"sim_ELAI_orig\" , marker = 'o' ,ax =ax , color = 'orange',label=\"Original\")\n",
    "df_daily.plot ( x= 'time', y = \"sim_ELAI_mod\" , marker = 'o' ,ax =ax , color = 'g',label=\"Modified\")\n",
    "\n",
    "plt.xlabel('Time')\n",
    "plt.ylabel(\"Exposed Leaf Area Index [ ]\")\n",
    "plt.title(year+\" \"+neon_site)\n",
    "plt.show()"
   ]
  },
  {
   "cell_type": "markdown",
   "id": "af97a0ac-de2e-4bb3-b985-398feb3a1785",
   "metadata": {},
   "source": [
    "Question: Can you explain how `ELAI` has changed with the new `rain_threshhold`?"
   ]
  }
 ],
 "metadata": {
  "kernelspec": {
   "display_name": "Python 3 (ipykernel)",
   "language": "python",
   "name": "python3"
  },
  "language_info": {
   "codemirror_mode": {
    "name": "ipython",
    "version": 3
   },
   "file_extension": ".py",
   "mimetype": "text/x-python",
   "name": "python",
   "nbconvert_exporter": "python",
   "pygments_lexer": "ipython3",
   "version": "3.9.7"
  }
 },
 "nbformat": 4,
 "nbformat_minor": 5
}
