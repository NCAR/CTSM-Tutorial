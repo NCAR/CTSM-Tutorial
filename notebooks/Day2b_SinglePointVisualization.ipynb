{
 "cells": [
  {
   "cell_type": "markdown",
   "metadata": {},
   "source": [
    "# Tutorial 2b: *Single-Point Visualizations*\n",
    "\n",
    "This tutorial is an introduction to analyzing results from a single-point simulation.  It uses results from the case you ran in the 2a Tutorial, but you don't have to wait for those runs to complete before doing this tutorial too. We've prestaged model results from this simulation in a shared directory. This way, you can get started on analyzing simulations results before your simulations finish running. \n",
    "\n",
    "## In this tutorial\n",
    "\n",
    "The tutorial has several objectives: \n",
    "1. Increase familiarity with Jupyter Notebooks\n",
    "2. Increase knowledge of python packages and their utilities\n",
    "3. Visualize output from a single-point CTSM simulation.\n",
    "\n",
    "***\n",
    "**This tutorial uses a Jupyter Notebook.** A Jupyter Notebook is an interactive computing environment that enables the creation and sharing of documents that contain discrete cells of text or documentation and executable code, including plots. It allows users to access, run, and edit the code in a browser. To interact with this notebook:\n",
    "\n",
    "- Execute or \"run\" cells of executable code (cells denoted with '[ ]:') using the play button in the menu at the top (see below image)\n",
    "\n",
    "- The results of running code, such as plots, will appear below that cell\n",
    "\n",
    "- Each step must be followed in order, otherwise you may encounter errors\n",
    "\n",
    "![run cell](https://problemsolvingwithpython.com/02-Jupyter-Notebooks/images/run_cell.png)\n",
    "\n",
    "For more information on Jupyter notebooks please see the [Jupyter Notebook Quick Start Guide](https://jupyter-notebook-beginner-guide.readthedocs.io/en/latest/what_is_jupyter.html). \n",
    "\n",
    "\n",
    "<div class=\"alert alert-block alert-info\">\n",
    "<b>NOTE:</b> In Day2a, executable code blocks used a Bash shell, or had to be executed on the command-line.  In this tutorial, we will be using Python code, and you should directly execute the contents of code blocks by running individual cells in this Jupyter notebook, similar to the Day 0b <i>Run NEON</i> tutorial.\n",
    "</div>\n",
    "\n",
    "***\n",
    "\n",
    "*We'll start by loading some packages*"
   ]
  },
  {
   "cell_type": "code",
   "execution_count": null,
   "metadata": {},
   "outputs": [],
   "source": [
    "# python packages\n",
    "import os\n",
    "import xarray as xr\n",
    "import functools\n",
    "import dask\n",
    "import numpy as np\n",
    "import pandas as pd\n",
    "\n",
    "# resources for plotting\n",
    "import matplotlib.pyplot as plt\n",
    "import cftime\n",
    "%matplotlib inline"
   ]
  },
  {
   "cell_type": "markdown",
   "metadata": {},
   "source": [
    "<div class=\"alert alert-block alert-info\">\n",
    "\n",
    "<b>NOTE:</b>  This example largely uses features of xarray and \n",
    "    matplotlib packages. We won't go into the basics \n",
    "    of python or features in these packages, but there are lots of \n",
    "    resources to help get you started. Some of these are listed below. \n",
    "\n",
    "</div>\n",
    "\n",
    "- [NCAR python tutorial](https://ncar.github.io/python-tutorial/tutorials/yourfirst.html), which introduces python, the conda package manager, and more on github.\n",
    "- [NCAR ESDS tutorial series](https://ncar.github.io/esds/blog/tag/python-tutorial-series/), features several recorded tutorials on a wide variety of topics.\n",
    "- [GeoCAT examples](https://geocat-examples.readthedocs.io/en/latest/), with some nice plotting examples\n",
    "\n",
    "***\n",
    "\n",
    "## 1. Reading and formatting data\n",
    "\n",
    "### 1.1 Find the correct directories and file names"
   ]
  },
  {
   "cell_type": "code",
   "execution_count": null,
   "metadata": {},
   "outputs": [],
   "source": [
    "path = '/scratch/shared/day2'       # path to archived simulations\n",
    "case = 'I2000_CTSM_singlept'        # case name\n",
    "years = list(range(2001, 2011, 1))  # look at 10 years of data\n",
    "months = list(range(1, 13, 1))      # we want all months\n",
    "\n",
    "# build a list of file names based on the year and month\n",
    "file_names = [f\"{case}.clm2.h0.{str(year)}-{str(month).rjust(2, '0')}.nc\" for year in years\n",
    "                  for month in months]\n",
    "\n",
    "# create their full path\n",
    "full_paths = [os.path.join(path, case, fname) for fname in file_names]\n",
    "\n",
    "# print the last file in our list\n",
    "print(full_paths[-1])"
   ]
  },
  {
   "cell_type": "markdown",
   "metadata": {},
   "source": [
    "<div class=\"alert alert-block alert-info\">\n",
    "<b>NOTE:</b> These are the raw history files that CTSM writes out.  \n",
    "By default, they include grid cell averaged monthly means for different state and flux variables.\n",
    "<br><br>\n",
    "Typically we post-process these data to generate single variable time series for an experiment. \n",
    "This means that the full time series of model output for each variable, like rain, air temperature, or latent heat flux, are each in their own file.\n",
    "A post-processing tutorial will be available at a later date, but for now we'll just read in the monthly history files described above.\n",
    "\n",
    "</div>"
   ]
  },
  {
   "cell_type": "markdown",
   "metadata": {},
   "source": [
    "### 1.2 Open files & load variables\n",
    "\n",
    "This is done with the xarray function `open_mfdataset`\n",
    "\n",
    "To make this go faster, we're going to preprocess the data so we're just reading the variables we want to look at.\n",
    "\n",
    "<div class=\"alert alert-block alert-info\">\n",
    "    <b>TIP:</b> If you want to look at other variables, the <b>fields</b> variable in the cell below is where you can modify what we're reading off of the CTSM and CTSM-FATES history files.\n",
    "</div>\n",
    "\n",
    "As in our Day 1 tutorial, we will begin by looking at 'all sky albedo', which is the ratio of reflected to incoming solar radiation (**FSR/FSDS**).\n",
    "Other intereresting variables might include latent heat flux or gross primary productivity. "
   ]
  },
  {
   "cell_type": "code",
   "execution_count": null,
   "metadata": {},
   "outputs": [],
   "source": [
    "# Define the variables to read in\n",
    "fields = ['FSR', 'FSDS', 'GPP', 'EFLX_LH_TOT']\n",
    "\n",
    "'''select the variables we want to read in'''\n",
    "def preprocess(ds, fields):\n",
    "    return ds[fields]\n",
    "\n",
    "''' quick fix to adjust time vector for monthly data'''\n",
    "def fix_time(ds):  \n",
    "    nmonths = len(ds.time)\n",
    "    yr0 = ds['time.year'][0].values\n",
    "    ds['time'] =xr.cftime_range(str(yr0),periods=nmonths,freq='MS')    \n",
    "\n",
    "    return ds\n",
    "\n",
    "\n",
    "# Open the datasets. Here we'll just read in a single year of data\n",
    "ds = fix_time(xr.open_mfdataset(full_paths[0:12], decode_times=True,\n",
    "                                preprocess=functools.partial(preprocess, fields=fields)))"
   ]
  },
  {
   "cell_type": "markdown",
   "metadata": {},
   "source": [
    "#### Printing information about the dataset is helpful for understanding your data. \n",
    "- *What dimensions do your data have?*\n",
    "- *What are the coordinate variables?*\n",
    "- *What variables are we looking at?*\n",
    "- *Is there other helpful information, or are there attributes in the dataset we should be aware of?*\n",
    "\n",
    "Keep in mind that we only read a single year of data, so the time dimension is in months."
   ]
  },
  {
   "cell_type": "code",
   "execution_count": null,
   "metadata": {},
   "outputs": [],
   "source": [
    "# Print information about the dataset\n",
    "ds"
   ]
  },
  {
   "cell_type": "markdown",
   "metadata": {},
   "source": [
    "You can also print information about the variables in your dataset. The example below prints information about one of the data variables we read in. You can modify this cell to look at some of the other variables in the dataset.\n",
    "\n",
    "*What are the units, long name, and dimensions of your data?*"
   ]
  },
  {
   "cell_type": "code",
   "execution_count": null,
   "metadata": {},
   "outputs": [],
   "source": [
    "ds.FSDS"
   ]
  },
  {
   "cell_type": "markdown",
   "metadata": {},
   "source": [
    "### 1.3 Adding derived variables to the dataset\n",
    "\n",
    "As in Day 1, we will calculate the all sky albedo (ASA). Remember from above that this is the ratio of reflected to incoming solar radiation (**FSR/FSDS**).\n",
    "We will add this as a new variable in the dataset and add appropriate metadata.\n",
    "\n",
    "*When doing calculations, it is important to avoid dividing by zero. Use the `.where` function for this purpose*"
   ]
  },
  {
   "cell_type": "code",
   "execution_count": null,
   "metadata": {},
   "outputs": [],
   "source": [
    "ds['ASA'] = ds.FSR/ds.FSDS.where(ds.FSDS>0)\n",
    "ds['ASA'].attrs['units'] = 'unitless'\n",
    "ds['ASA'].attrs['long_name'] = 'All sky albedo'"
   ]
  },
  {
   "cell_type": "markdown",
   "metadata": {},
   "source": [
    "---\n",
    "## 2. Plotting\n",
    "### 2.1 Easy plots using Xarray\n",
    "To get a first look at the data, we can plot a month of data from the simulation, selecting the month using the `.isel` function.\n",
    "\n",
    "- We will plot all sky albedo (variable = `ASA`). Note that we select the variable by specifying our dataset, `ds`, and the variable. \n",
    "- The plot is for the month of June (`time=6`)\n",
    "- This plotting function will plot `ASA` for each simulation in our dataset\n",
    "\n",
    "*More plotting examples are on the [xarray web site](https://docs.xarray.dev/en/latest/user-guide/plotting.html)*"
   ]
  },
  {
   "cell_type": "code",
   "execution_count": null,
   "metadata": {},
   "outputs": [],
   "source": [
    "ds.ASA.isel(time=6).plot(x='lon',y='lat',col=\"sim\", col_wrap=2) ;"
   ]
  },
  {
   "cell_type": "markdown",
   "metadata": {},
   "source": [
    "We can also plot every month from the year of data we read from the files. Here we do that for a single simulation, specified by `(sim=0)`"
   ]
  },
  {
   "cell_type": "code",
   "execution_count": null,
   "metadata": {},
   "outputs": [],
   "source": [
    "ds.ASA.isel(sim=0).plot(x='lon',y='lat',col=\"time\", col_wrap=6) ;"
   ]
  },
  {
   "cell_type": "markdown",
   "metadata": {},
   "source": [
    "**Question:** \n",
    "Why don't you see the whole globe in some months?"
   ]
  },
  {
   "cell_type": "markdown",
   "metadata": {},
   "source": [
    "### 2.2 Calculating differences\n",
    "\n",
    "In the previous section, it was difficult to see albedo differences between the simulations in side-by-side comparisons. We can calculate the differences between the simulations to more clearly see the differences and to understand how model structure, specifically the difference between CLM-FATESsp and CLM5.1sp, changes simulated albedo. The below code:\n",
    "- Subtracts CLM-FATESsp from CLM5.1sp\n",
    "- Defines the difference as a new variable, `dsDiff`\n",
    "\n",
    "We'll first plot maps of the difference in all sky albedo for each month"
   ]
  },
  {
   "cell_type": "code",
   "execution_count": null,
   "metadata": {},
   "outputs": [],
   "source": [
    "dsDiff = ds.isel(sim=1) - ds.isel(sim=0)\n",
    "dsDiff.ASA.plot(x='lon',y='lat',col=\"time\", col_wrap=6, robust=True) ;"
   ]
  },
  {
   "cell_type": "markdown",
   "metadata": {},
   "source": [
    "**Questions:** \n",
    "- How is albedo different in CTSM-FATESsp and CTSM5.1-sp?\n",
    "- Where are the differences the largest? \n",
    "- Are the differences consistent throughout the year?\n",
    "- Since these simulations have the same climate and LAI, what's driving the differences in albedo in different regions?"
   ]
  },
  {
   "cell_type": "markdown",
   "metadata": {},
   "source": [
    "#### Are the differences coming from incoming or reflected radiation? \n",
    "To find out, we can plot each variable. First we will plot incoming radiation (the denominator in all-sky albedo)."
   ]
  },
  {
   "cell_type": "code",
   "execution_count": null,
   "metadata": {},
   "outputs": [],
   "source": [
    "dsDiff.FSDS.plot(x='lon',y='lat',col=\"time\", col_wrap=6, vmax=0.1,vmin=-0.1) ;"
   ]
  },
  {
   "cell_type": "markdown",
   "metadata": {},
   "source": [
    "**Questions:**\n",
    "- Do you see any dfferences? \n",
    "- Try plotting reflected radiation (the numerator, FSR). What differences do you see? \n",
    "\n",
    "*Note that you might want to change the minimun (`vmin`) and maximum (`vmax`) colorbar values for the plot when you switch between variables*"
   ]
  },
  {
   "cell_type": "markdown",
   "metadata": {},
   "source": [
    "#### Is exposed leaf area index (ELAI) contributing to the differences in albedo?\n",
    "Plot the differences in ELAI below. "
   ]
  },
  {
   "cell_type": "code",
   "execution_count": null,
   "metadata": {},
   "outputs": [],
   "source": [
    "dsDiff.ELAI.plot(x='lon',y='lat',col=\"time\", col_wrap=6, robust=True) ;"
   ]
  },
  {
   "cell_type": "markdown",
   "metadata": {},
   "source": [
    "**Questions:** \n",
    "- What regions are LAI differences the greatest?\n",
    "- What times of year is this true?\n",
    "- Are the regions and times of largest differences the same as the differences in albedo? "
   ]
  },
  {
   "cell_type": "markdown",
   "metadata": {},
   "source": [
    "### Most of the differeences in LAI seem to be in agricultural regions.  \n",
    "Presently, FATESsp doesn't account for crop areas, which give it a lower LAI in places that have a large fraction of agricultural lands, especially during the growing season. This points to bigger challenges in how CTSM-FATES need to deal with crops, but it's something the CTSM and FATES teams are working on."
   ]
  },
  {
   "cell_type": "markdown",
   "metadata": {},
   "source": [
    "### 2.3 Calculating Time Series\n",
    "As above, the plotting function we use here requires data to be 1D or 2D. Therefore, to plot a time series we either need to select a single point or average over an area.\n",
    "\n",
    "#### 2.3.1 Time series at a single point\n",
    "This example uses `.sel`, which functions similarly to the `.isel` function above, to select a single point in the Amazon. \n",
    "\n",
    "*What's the difference between `.sel` and `.isel`?*\n",
    "- *`.sel` selects a value of a variable (e.g., latitude of -5)*\n",
    "- *`.isel` selects an indexed point of a variable (e.g., the 6th point in the data vector)*\n",
    "\n",
    "In the below examples, we'll also use subplots to see multiple variables in several panels"
   ]
  },
  {
   "cell_type": "code",
   "execution_count": null,
   "metadata": {},
   "outputs": [],
   "source": [
    "point = ds.sel(lon=300, lat=-5, method='nearest')\n",
    "point.ASA.plot(hue='sim',x='time') ;"
   ]
  },
  {
   "cell_type": "markdown",
   "metadata": {},
   "source": [
    "Similar to the maps above, there are differences in albedo between the simulations at this location. Let's add other variables to explore why we see differences at this location. "
   ]
  },
  {
   "cell_type": "code",
   "execution_count": null,
   "metadata": {},
   "outputs": [],
   "source": [
    "plt.figure(figsize=(10,6))\n",
    "'''this first plot is the same as the one above'''\n",
    "plt.subplot(221)\n",
    "point.ASA.plot(hue='sim',x='time')\n",
    "plt.xlabel(None)\n",
    "\n",
    "'''now we'll look for potential sources of the difference'''\n",
    "plt.subplot(222)\n",
    "point.ELAI.plot(hue='sim',x='time') \n",
    "plt.xlabel(None)\n",
    "\n",
    "plt.subplot(223)\n",
    "point.FSDS.plot(hue='sim') \n",
    "plt.title(None)\n",
    "\n",
    "plt.subplot(224)\n",
    "point.FSR.plot(hue='sim') \n",
    "plt.title(None) ;"
   ]
  },
  {
   "cell_type": "markdown",
   "metadata": {},
   "source": [
    "**Questions:** \n",
    "- What variables show differences?\n",
    "- What variables are similar?\n",
    "- How do the differences and similarities help to explain the differences in albedo?"
   ]
  },
  {
   "cell_type": "markdown",
   "metadata": {},
   "source": [
    "#### 2.3.2 Global time series\n",
    "There are many reasons why we may want to calculate globally integrated time series for particular variables.\n",
    "This requires weighting the values from each grid cell by the total land area of individual grid cells. The example below does this for our dataset. \n",
    "\n",
    "#### First calculate the land weights:\n",
    "- land area `la` that is the product of land fraction (fraction of land area in each grid cell) and the total area of the grid cell (which changes by latitude). Units are the same as area.\n",
    "- land weights `lw`, the fractional weight that each grid makes to the global total, is calculated as the land area of each grid cell divided by the global sum of the land area.\n",
    "\n",
    "The land weights are shown in the plot below. Note that these are larger near the equator, and smaller at the poles and along the coastline"
   ]
  },
  {
   "cell_type": "code",
   "execution_count": null,
   "metadata": {},
   "outputs": [],
   "source": [
    "la = (ds.landfrac*ds.area).isel(time=0,sim=0).drop(['time','sim']) \n",
    "la = la * 1e6  #converts from land area from km2 to m2 \n",
    "la.attrs['units'] = 'm^2'\n",
    "lw = la/la.sum()\n",
    "lw.plot() ;"
   ]
  },
  {
   "cell_type": "markdown",
   "metadata": {},
   "source": [
    "#### Next, calculate and plot a global weighted sum\n",
    "<div class=\"alert alert-block alert-info\">\n",
    "\n",
    "<b>NOTE:</b>  You will likely want to calculate global weighted sum for a variety of different variables. For variables that have area-based units (e.g. GPP, gC/<b>m^2</b>/s), you need to use the land area variable when calculating a global sum. <b> Remember to pay attention to the units and apply any necessary conversions!</b> Keep in mind that grid cell area is reported in km^2. \n",
    "\n",
    "</div>\n"
   ]
  },
  {
   "cell_type": "code",
   "execution_count": null,
   "metadata": {},
   "outputs": [],
   "source": [
    "dsGlobalWgt = (ds * lw).sum(['lat','lon'])\n",
    "\n",
    "plt.figure(figsize=(12,5))\n",
    "plotVars = ['ASA','FSDS','ELAI','FSR']\n",
    "for i in range(len(plotVars)):\n",
    "    # First add metadata for plotting\n",
    "    dsGlobalWgt[plotVars[i]].attrs['long_name'] = ds[plotVars[i]].attrs['long_name']\n",
    "    dsGlobalWgt[plotVars[i]].attrs['units'] = ds[plotVars[i]].attrs['units']\n",
    "\n",
    "    # then make plots\n",
    "    plt.subplot(2,2,(i+1))\n",
    "    dsGlobalWgt[plotVars[i]].plot(hue='sim')\n",
    "    \n",
    "    if i == 0:\n",
    "        plt.title('Weighted global sum',loc='left', fontsize='large', fontweight='bold')\n",
    "        \n",
    "    if i<2:\n",
    "        plt.xlabel(None)"
   ]
  },
  {
   "cell_type": "markdown",
   "metadata": {},
   "source": [
    "---\n",
    "### 2.4 Calculate an annual weighted mean and create customized plots\n",
    "Annual averages require a different kind of weighting: the number of days per month.\n",
    "This example creates python functions that allow you to easily calculate annual averages and create customized plots. \n",
    "\n",
    "<div class=\"alert alert-block alert-info\">\n",
    "\n",
    "<b>Python functions:</b> In python, creating a function allows us to use the same calculation numerous times instead of writing the same code every repeatedly.\n",
    "</div>\n",
    "\n",
    "\n",
    "#### 2.4.1 Calculate monthly weights\n",
    "The below code creates a function `weighted_annual_mean` to calculate monthly weights. Use this function any time you want to calculate weighted annual means."
   ]
  },
  {
   "cell_type": "code",
   "execution_count": null,
   "metadata": {},
   "outputs": [],
   "source": [
    "# create a function that will calculate an annual mean weighted by days per month\n",
    "def weighted_annual_mean(array):\n",
    "    mon_day  = xr.DataArray(np.array([31,28,31,30,31,30,31,31,30,31,30,31]), dims=['month'])\n",
    "    mon_wgt  = mon_day/mon_day.sum()\n",
    "    return (array.rolling(time=12, center=False) # rolling\n",
    "            .construct(\"month\") # construct the array\n",
    "            .isel(time=slice(11, None, 12)) # slice so that the first element is [1..12], second is [13..24]\n",
    "            .dot(mon_wgt, dims=[\"month\"]))\n",
    "\n",
    "# generate annual means\n",
    "for i in range(len(plotVars)):\n",
    "    temp = weighted_annual_mean(\n",
    "        ds[plotVars[i]].chunk({\"time\": 12}))\n",
    "    \n",
    "    if i ==0:\n",
    "        dsAnn = temp.to_dataset(name=plotVars[i])\n",
    "    else:\n",
    "        dsAnn[plotVars[i]] = temp\n",
    "\n",
    "# Make a simple plot\n",
    "dsAnn.ELAI.plot(x='lon',y='lat',col='sim',\n",
    "               col_wrap=2, robust=True) ;"
   ]
  },
  {
   "cell_type": "markdown",
   "metadata": {},
   "source": [
    "#### 2.4.2 Customized maps\n",
    "Creating a function isn't necessary to plot maps, but this function, which uses python's `cartopy`, allows you to make several pretty maps in one figure.\n",
    "\n",
    "Additional examples and information are available on the [cartopy website](https://scitools.org.uk/cartopy/docs/v0.15/index.html)\n",
    "\n",
    "There are two code blocks below. The first block of code defines the function. The second code block creates the plot. "
   ]
  },
  {
   "cell_type": "code",
   "execution_count": null,
   "metadata": {},
   "outputs": [],
   "source": [
    "import cartopy.feature as cfeature\n",
    "from cartopy.util import add_cyclic_point\n",
    "import copy\n",
    "\n",
    "# Generate a function for making panel plots of maps\n",
    "## many of these features are not required, but provide additional control over plotting\n",
    "def map_function(da, cb=0, cmap='viridis', panel=None,  ax=None, \n",
    "                 title=None, vmax=None, vmin=None, units=None,nbins=200):\n",
    "    '''a function to make one subplot'''\n",
    "    wrap_data, wrap_lon = add_cyclic_point(da.values, coord=da.lon)\n",
    "\n",
    "    if ax is None: ax = plt.gca()\n",
    "\n",
    "    # define the colormap, including the number of bins\n",
    "    cmap = copy.copy(plt.get_cmap(cmap,nbins))\n",
    "    im = ax.pcolormesh(wrap_lon,da.lat,wrap_data,\n",
    "                   transform=ccrs.PlateCarree(),\n",
    "                   vmax=vmax,vmin=vmin,cmap=cmap)\n",
    "\n",
    "    # set the bounds of your plot\n",
    "    ax.set_extent([-180,180,-56,85], crs=ccrs.PlateCarree())\n",
    "\n",
    "    # add title & panel labels\n",
    "    ax.set_title(title,loc='left', fontsize='large', fontweight='bold')\n",
    "    ax.annotate(panel, xy=(0.05, 0.90), xycoords=ax.transAxes,\n",
    "                ha='center', va='center',fontsize=16)    \n",
    "\n",
    "    # add plotting features\n",
    "    ax.coastlines()\n",
    "    ocean = ax.add_feature(\n",
    "        cfeature.NaturalEarthFeature('physical','ocean','110m', facecolor='white'))\n",
    "    \n",
    "    # control colorbars on each plot & their location\n",
    "    if cb == 1:\n",
    "        cbar = fig.colorbar(im, ax=ax,pad=0.02, fraction = 0.03, orientation='horizontal')\n",
    "        cbar.set_label(units,size=12,fontweight='bold')\n",
    "    if cb == 2:\n",
    "        cbar = fig.colorbar(im, ax=ax,pad=0.02, fraction = 0.05, orientation='vertical')    \n",
    "        cbar.set_label(units,size=12)#,weight='bold')"
   ]
  },
  {
   "cell_type": "markdown",
   "metadata": {},
   "source": [
    "#### Now make the plot!"
   ]
  },
  {
   "cell_type": "code",
   "execution_count": null,
   "metadata": {},
   "outputs": [],
   "source": [
    "i = 0\n",
    "fig, axes = plt.subplots(nrows=2, ncols=1, figsize=(13,6), constrained_layout=True,\n",
    "                         subplot_kw=dict(projection=ccrs.Robinson()))\n",
    "for index, ax in np.ndenumerate(axes):\n",
    "    if i == 0:\n",
    "        plotData = dsAnn.ELAI.isel(sim=1,time=0).drop(['sim','time'])\n",
    "        map_function(plotData, ax=ax,cb=2,\n",
    "                     panel='(a)', nbins=10,\n",
    "                     vmax=5,vmin=0,\n",
    "                     units='FATESsp, Annual ELAI')\n",
    "    if i == 1:\n",
    "        plotData = (dsAnn.ELAI.isel(sim=1,time=0)- \\\n",
    "                    dsAnn.ELAI.isel(sim=0,time=0))\n",
    "        map_function(plotData, ax=ax,cb=2,panel='(b)',\n",
    "                     units='Differences FATESsp-CTSM5.1',\n",
    "                     cmap='bwr',nbins=7,\n",
    "                     vmax=0.75,vmin=-0.75)    \n",
    "                     \n",
    "    i = i+1"
   ]
  },
  {
   "cell_type": "markdown",
   "metadata": {},
   "source": [
    "## Extra credit challenge\n",
    "If you have extra time & energy, try running through this notebook with other variables. Interesting options could include: \n",
    "- Canopy evaporation (FCEV) or \n",
    "- GPP (`FSPN` in CLM5.1-sp and `FATES_GPP` in FATES)\n",
    "\n",
    "<div class=\"alert alert-block alert-warning\">\n",
    "\n",
    "<b>HINT:</b> pay attention to units for these challenges.\n",
    "\n",
    "</div>"
   ]
  },
  {
   "cell_type": "code",
   "execution_count": null,
   "metadata": {},
   "outputs": [],
   "source": []
  }
 ],
 "metadata": {
  "kernelspec": {
   "display_name": "Python [conda env:default]",
   "language": "python",
   "name": "conda-env-default-py"
  },
  "language_info": {
   "codemirror_mode": {
    "name": "ipython",
    "version": 3
   },
   "file_extension": ".py",
   "mimetype": "text/x-python",
   "name": "python",
   "nbconvert_exporter": "python",
   "pygments_lexer": "ipython3",
   "version": "3.7.8"
  }
 },
 "nbformat": 4,
 "nbformat_minor": 4
}
