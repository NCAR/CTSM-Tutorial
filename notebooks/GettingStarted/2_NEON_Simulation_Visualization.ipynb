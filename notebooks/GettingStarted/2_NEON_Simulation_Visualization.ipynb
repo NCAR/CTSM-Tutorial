{
 "cells": [
  {
   "cell_type": "markdown",
   "metadata": {},
   "source": [
    "# Tutorial 2: *CTSM Evaluations at NEON Tower Sites*\n",
    "\n",
    "This tutorial is an introduction to evaluating CTSM at a NEON tower site.  It provides example visualizations and evaluation of simulated latent heat flux using NEON tower observations.  This tutorial uses results from the case you ran in the Day0b tutorial, but you don't have to wait for those runs to complete before doing this tutorial. We've pre-staged model results from this simulation in a shared directory so that you can analyze results of your simulations regardless of whether they've completed.\n",
    "\n",
    "------\n",
    "\n",
    "**This tutorial uses a Jupyter Notebook.** A Jupyter Notebook is an interactive computing environment that enables the creation and sharing of documents that contain discrete cells of text or documentation and executable code, including plots. It allows users to access, run, and edit the code in a browser. To interact with this notebook:\n",
    "\n",
    "- Execute or \"run\" cells of executable code (cells denoted with '[ ]:') using the play button in the menu at the top (see below image)\n",
    "\n",
    "- The results of running code, such as plots, will appear below that cell\n",
    "\n",
    "- Each step must be followed in order, otherwise you may encounter errors\n",
    "\n",
    "![run cell](https://problemsolvingwithpython.com/02-Jupyter-Notebooks/images/run_cell.png)\n",
    "\n",
    "For more information on Jupyter notebooks please see the [Jupyter Notebook Quick Start Guide](https://jupyter-notebook-beginner-guide.readthedocs.io/en/latest/what_is_jupyter.html). \n",
    "\n",
    "***"
   ]
  },
  {
   "cell_type": "markdown",
   "metadata": {},
   "source": [
    "## In this tutorial :\n",
    "\n",
    "The tutorial has several components. Below you will find steps and instructions to:\n",
    "1. Become familiar with Jupyter notebooks\n",
    "1. Begin getting acquainted with python packages and their utilities\n",
    "1. Explore CLM model data\n",
    "1. Explore NEON observation data\n",
    "1. Compare CLM and NEON latent heat flux data"
   ]
  },
  {
   "cell_type": "markdown",
   "metadata": {},
   "source": [
    "________\n",
    "# 1. Explore CLM model data\n",
    "\n",
    "There are countless ways of analyzing and processing model data. This tutorial uses Matplotlib, a comprehensive data visualization and plotting library for Python. For more information on Matplotlib, please see the [User's Guide](https://matplotlib.org/stable/users/index.html)."
   ]
  },
  {
   "cell_type": "markdown",
   "metadata": {},
   "source": [
    "Before diving in, set the NEON site that you simulated in the cell below. As a refresher, NEON tower sites include:\n",
    "\n",
    "```\n",
    "ABBY,BARR,BART,BLAN,BONA,CLBJ,CPER,DCFS,DEJU,DELA,DSNY,\n",
    "GRSM,GUAN,HARV,HEAL,JERC,JORN,KONA,KONZ,LAJA,LENO,MLBS,\n",
    "MOAB,NIWO,NOGP,OAES,ONAQ,ORNL,OSBS,PUUM,RMNP,SCBI,SERC,\n",
    "SJER,SOAP,SRER,STEI,STER,TALL,TEAK,TOOL,TREE,UKFS,UNDE,\n",
    "WOOD,WREF,YELL\n",
    "```\n",
    "\n",
    "**NOTE:** NIWO and PUUM have data gaps that prevent us from running for a full calendar year and cannotbe plotted\n",
    "\n",
    "\n",
    "*The tutorial is currently set to use the KONZ site. If you ran a simulation for a different tower site, please change the 4-character site name in quotes below to the same as your simulation.*"
   ]
  },
  {
   "cell_type": "code",
   "execution_count": null,
   "metadata": {},
   "outputs": [],
   "source": [
    "#Change the 4-character NEON site below to point to your NEON site:\n",
    "neon_site = \"KONZ\""
   ]
  },
  {
   "cell_type": "markdown",
   "metadata": {},
   "source": [
    "***\n",
    "## 1.1 Locate model data\n",
    "\n",
    "When the simulation completes, the data are transferred to an `archive` directory. In this directory, there are files that include data for every day of the simulation, as well as files that average model variables monthly. <p>\n",
    "    \n",
    "In this tutorial, we are using pre-staged results, but the results should be identical to the NEON cases you just ran.\n",
    "    \n",
    "*Run the cell below to see a subset of the files listed:*"
   ]
  },
  {
   "cell_type": "code",
   "execution_count": null,
   "metadata": {},
   "outputs": [],
   "source": [
    "!ls /scratch/data/flux/CLM-NEON/archive/{neon_site}.transient/lnd/hist |head -20"
   ]
  },
  {
   "cell_type": "markdown",
   "metadata": {},
   "source": [
    "Each line of the list above includes the file path (`//scratch/data/flux/CLM-NEON/{simulation_name}/lnd/hist/`) and file name. The file names are automatically generated and comprise:\n",
    "* the simulation name, which includes:\n",
    "    * the NEON site\n",
    "    * the type of simulation \n",
    "        * The simulation you ran is \"transient\". This means the model was initialized and ran for the full length of available data. The initial conditions files for the transient tower simulations were created by cycling over 2018-2019 tower meteorological data. \n",
    "* the date of simulated data\n",
    "\n",
    "The NEON tower simulations generate two types of files:\n",
    "* `*h0*`: Variables that are averaged monthly. One file is available for every month of the simulation.\n",
    "* `*h1*`: Variables that are recorded every 30 minutes. Values are aggregated into one file for each day of the simulation. Each file includes 48 data points.\n",
    "\n",
    "**Note:** Only a subset of CLM variables are included on the `*h1*` files, with many more variables included on the monthly-averaged `*h0*` files. A full list of variables that are simulated by CLM is available [on this website](https://escomp.github.io/ctsm-docs/versions/master/html/users_guide/setting-up-and-running-a-case/master_list_nofates.html).\n",
    "\n",
    "*Note that you can also find the model data in the 'Simulation' folder on your desktop, which was created as part of this tutorial.*\n",
    "****\n"
   ]
  },
  {
   "cell_type": "markdown",
   "metadata": {},
   "source": [
    "The files are saved in netcdf format (denoted with the `.nc` file extension), a file format commonly used for storing large, multi-dimensional scientific variables.\n",
    "Netcdf files are platform independent and self-describing; each file includes metadata that describes the data, including: **variables**, **dimensions**, and **attributes**.\n",
    "\n",
    "The figure below provides a generic example of the data structure in a netcdf file. The dataset illustrated has two variables (temperature and pressure) that have three dimensions. Coordinate data (e.g., latitude, longitude, time) that describe the data are also included. \n",
    "\n",
    "*Note that while each file for NEON tower simulations has multiple variables, the simulation ran for a single site rather than a larger spatial grid and therefore do not include the latitude and longitude dimensions illustrated here. Within each multi-variable file, most of the variables have one dimension (time), while a few soil variables (e.g., moisture, temperature) have two dimensions (time x depth).*\n",
    "\n",
    "<img src='https://xarray.pydata.org/en/stable/_images/dataset-diagram.png' \n",
    "     alt=\"isolated\" body style=\"background-color:white;\"/>\n",
    "****"
   ]
  },
  {
   "cell_type": "markdown",
   "metadata": {},
   "source": [
    "## 1.2 Explore Simulated Data\n",
    "\n",
    "This step has several components, which are broken into smaller steps. \n"
   ]
  },
  {
   "cell_type": "markdown",
   "metadata": {},
   "source": [
    "### 1.2.1 Load Python Libraries\n",
    "\n",
    "To dig deeper into our model results, we'll use this notebook and some python packages to look at the data. \n",
    "\n",
    "*Run the below code to import the required python libraries*"
   ]
  },
  {
   "cell_type": "code",
   "execution_count": null,
   "metadata": {},
   "outputs": [],
   "source": [
    "#Import Libraries\n",
    "%matplotlib inline\n",
    "\n",
    "import os\n",
    "import time\n",
    "import datetime\n",
    "\n",
    "import numpy as np\n",
    "import pandas as pd\n",
    "import xarray as xr\n",
    "\n",
    "from glob import glob\n",
    "from os.path import join, expanduser\n",
    "\n",
    "#import matplotlib\n",
    "import matplotlib.pyplot as plt\n",
    "\n",
    "from scipy import stats\n",
    "\n",
    "from neon_utils import download_eval_files"
   ]
  },
  {
   "cell_type": "markdown",
   "metadata": {},
   "source": [
    "### 1.2.2 Select Simulation Year\n",
    "\n",
    "For simplicity, we focus on analyzing and evaluating a single year of data. <p>\n",
    "\n",
    "The code below uses data for **2018**, but data are available through this year. You can select a different year by changing the year in the quotes below. <p> \n",
    "*Run the below code to identify the year of interest for making the plots. Note that the same year will be used to download observational data below*"
   ]
  },
  {
   "cell_type": "code",
   "execution_count": null,
   "metadata": {},
   "outputs": [],
   "source": [
    "#Specify the year below\n",
    "year = \"2018\""
   ]
  },
  {
   "cell_type": "markdown",
   "metadata": {},
   "source": [
    "Paths are different for every user based on their usernames, so we get the username to use for paths:\n"
   ]
  },
  {
   "cell_type": "code",
   "execution_count": null,
   "metadata": {},
   "outputs": [],
   "source": [
    "username = os.environ['USER'] "
   ]
  },
  {
   "cell_type": "markdown",
   "metadata": {},
   "source": [
    "### 1.2.3 Load model data files\n",
    "\n",
    "For reading the netCDF files, we are using the `xarray` Python package. You can learn more about [xarray on this website](http://xarray.pydata.org/en/stable/).\n",
    "\n",
    "The variable `sim_path` points to the location where simulation data are stored.\n",
    "\n",
    "*Run the code below to load the model data files. The code will print how many files were loaded*"
   ]
  },
  {
   "cell_type": "code",
   "execution_count": null,
   "metadata": {},
   "outputs": [],
   "source": [
    "#--The following line points to your directory:\n",
    "#sim_path = \"/home/\"+username+\"/scratch/CLM-NEON/archive/\"+neon_site+\".transient/lnd/hist/\"\n",
    "\n",
    "#-- But for now let's look at the pre-staged results:\n",
    "sim_path = \"/scratch/data/flux/CLM-NEON/archive/\"+neon_site+\".transient/lnd/hist/\"\n",
    "\n",
    "\n",
    "sim_files = sorted(glob(join(sim_path,neon_site+\".transient.clm2.h1.\"+year+\"*.nc\")))\n",
    "\n",
    "print(\"All Simulation files: [\", len(sim_files), \"files]\")"
   ]
  },
  {
   "cell_type": "markdown",
   "metadata": {},
   "source": [
    "### 1.2.4 Open model data files\n",
    "\n",
    "Here we use the python function `xarray.open_mfdataset`, which opens multiple netcdf files as a single xarray dataset. For more information on this xarray function, visit [the xarray website](\n",
    "http://xarray.pydata.org/en/stable/generated/xarray.open_mfdataset.html).\n",
    "\n",
    "*Run the below cell to read in the data files. Note that this step might take a few minutes.* Please note that here for faster pre-processing we select only a few variables of interest. "
   ]
  },
  {
   "cell_type": "code",
   "execution_count": null,
   "metadata": {},
   "outputs": [],
   "source": [
    "ctsm_vars = ['FCEV', 'FCTR', 'FGEV','GPP']\n",
    "\n",
    "\n",
    "'''select the variables we want to read in'''\n",
    "def preprocess(ds, fields=ctsm_vars):\n",
    "    return ds[fields]\n",
    "\n",
    "start = time.time()\n",
    "\n",
    "ds_ctsm = xr.open_mfdataset(sim_files, decode_times=True, combine='by_coords',parallel=True,preprocess=preprocess)\n",
    "\n",
    "end = time.time()\n",
    "print(\"Reading all simulation files took:\", end-start, \"seconds.\")"
   ]
  },
  {
   "cell_type": "markdown",
   "metadata": {},
   "source": [
    "Hint: To read all the variables of ctsm h1 history output files you can use the following block of code, but it will take longer."
   ]
  },
  {
   "cell_type": "raw",
   "metadata": {},
   "source": [
    "start = time.time()\n",
    "\n",
    "ds_ctsm = xr.open_mfdataset(sim_files, decode_times=True, combine='by_coords',parallel=True)\n",
    "\n",
    "end = time.time()\n",
    "print(\"Reading all simulation files took:\", end-start, \"seconds.\")"
   ]
  },
  {
   "cell_type": "markdown",
   "metadata": {},
   "source": [
    "### 1.2.5 Optional Step: Explore dataset from simulations\n",
    "\n",
    "This step looks at the dataset that was just created from the simulation data. This step is not required, but will allow you to explore the python dataset and become familiar with the data.\n",
    "\n",
    "*Run the below cell to find more information about the data*"
   ]
  },
  {
   "cell_type": "code",
   "execution_count": null,
   "metadata": {},
   "outputs": [],
   "source": [
    "ds_ctsm"
   ]
  },
  {
   "cell_type": "markdown",
   "metadata": {},
   "source": [
    "In the output, you can click on `Dimensions`, `Coordinates`, `Data Variables`, and `Attributes` to expand and see the details and metadata associated with this dataset. \n",
    "\n",
    "If you click on `Data Variables`, you will see a list of all the available variables. You can click on the 'note' icon at the right end of the line for each variable to see a description of the variable (the `long_name`) and its `units`, as well as other information. Here are a few questions to consider:\n",
    "\n",
    "**Questions to consider** \n",
    "1. What variables are available in the dataset?\n",
    "2. What is the `long_name` and `unit` of the variable `FSH`? \n",
    "3. Can you find the dimensions of this variable? \n",
    "\n",
    "**💡 Tip**: \n",
    "Xarray has built-in plotting functions. For quick inspection of a variable, we can use `.plot()` to see it. The code below will make a basic plot of the Gross Primary Production (`GPP`) variable:"
   ]
  },
  {
   "cell_type": "code",
   "execution_count": null,
   "metadata": {},
   "outputs": [],
   "source": [
    "ds_ctsm['GPP'].plot()"
   ]
  },
  {
   "cell_type": "markdown",
   "metadata": {},
   "source": [
    "You can select to plot only specific time period using .sel option.\n",
    "\n",
    "For example,let’s check GPP for June of 2018:"
   ]
  },
  {
   "cell_type": "code",
   "execution_count": null,
   "metadata": {},
   "outputs": [],
   "source": [
    "ds_ctsm.GPP.sel(time=slice('2018-06-01', '2018-06-30')).plot() ;"
   ]
  },
  {
   "cell_type": "markdown",
   "metadata": {},
   "source": [
    "________\n",
    "# 2. Explore NEON Tower Observation Data\n",
    "\n",
    "## 2.1 Download NEON data\n",
    "\n",
    "**A note about NEON evaluation data**: NEON data for evaluation are pulled from the API and the least restrictive quality control flags are applied. The data are subsequently gap-filled using a redundant data stream regression, while data that are still missing are filled using a Marginal Distribution Sampling (MDS) gap-filling technique. Unit conversions are performed and the data are formatted and supplied as monthly netCDF files. \n",
    "\n",
    "\n",
    "To download the data, this step uses a preestablished function (`download_eval_files`) to download the NEON observational data files for the site and year specified above. The preprocessed NEON data are available for download from NEON's S3 bucket, with the full listing of available data [here](https://s3.data.neonscience.org/neon-ncar/listing.csv).\n",
    "\n",
    "\n",
    ">Note that this downloads the evaluation data based on the year you selected above. If you would like to download all available NEON evaluation data from this site, change the word `year` to `\"all\"` (quotes included) below: `download_eval_files(neon_site, eval_dir, \"all\")`\n",
    "\n",
    "\n",
    "*Run the cell below to download available NEON data from the site you selected above.*"
   ]
  },
  {
   "cell_type": "code",
   "execution_count": null,
   "metadata": {},
   "outputs": [],
   "source": [
    "eval_dir = \"/home/negins/scratch/evaluation_files/\"\n",
    "eval_dir = os.path.join(\"/home\", username, \"scratch/evaluation_files\")\n",
    "\n",
    "download_eval_files(neon_site, eval_dir, year)"
   ]
  },
  {
   "cell_type": "markdown",
   "metadata": {},
   "source": [
    "Hint: If the download does not work, you can directly point to the pre-staged results:"
   ]
  },
  {
   "cell_type": "raw",
   "metadata": {},
   "source": [
    "eval_dir = \"/scratch/data/flux/evaluation_files\""
   ]
  },
  {
   "cell_type": "markdown",
   "metadata": {},
   "source": [
    "## 2.2 Load NEON data\n",
    "   \n",
    "*Run the two cells of code below. The code will print a list of files for the year specified above and read them into a dataset.*"
   ]
  },
  {
   "cell_type": "code",
   "execution_count": null,
   "metadata": {},
   "outputs": [],
   "source": [
    "eval_path = os.path.join(eval_dir,neon_site)\n",
    "\n",
    "eval_files = sorted(glob(join(eval_path,neon_site+\"_eval_\"+year+\"*.nc\")))\n",
    "\n",
    "print(\"All Observation files:\")\n",
    "print(*eval_files,sep='\\n')"
   ]
  },
  {
   "cell_type": "code",
   "execution_count": null,
   "metadata": {},
   "outputs": [],
   "source": [
    "start = time.time()\n",
    "\n",
    "ds_eval = xr.open_mfdataset(eval_files, decode_times=True, combine='by_coords')\n",
    "\n",
    "end = time.time()\n",
    "print(\"Reading all observation files took:\", end-start, \"s.\")"
   ]
  },
  {
   "cell_type": "markdown",
   "metadata": {},
   "source": [
    "__________\n",
    "# 3. Compare CLM and NEON latent heat flux data\n",
    "\n",
    "So far, we uploaded files of observational and model data. In this section we will compare observed and simulated **latent heat fluxes**. You can also explore other available variables with this code.\n",
    "***\n",
    "\n",
    "### Format Data\n",
    "The next cell of code processes the data into a common format to make analysis easier.\n",
    "<br/>\n",
    "\n",
    "**A note about model timestamps:** The CTSM history includes an initial 0th timestep for each model simulation. This offset in the time dimension can cause challenges when analyzing and evaluating model data if not treated properly. You may notice in the last line of the below cell, we shift the value by -1 to address this issue.\n",
    "\n",
    "*Run the below cell of code to extract the variables needed for this notebook and create a single dataframe that includes all the extracted variables*"
   ]
  },
  {
   "cell_type": "code",
   "execution_count": null,
   "metadata": {},
   "outputs": [],
   "source": [
    "#Convert CTSM data to a Pandas Dataframe for easier handling:\n",
    "ctsm_vars = ['FCEV', 'FCTR', 'FGEV']\n",
    "\n",
    "df_ctsm = pd.DataFrame({'time':ds_ctsm.time})\n",
    "\n",
    "for var in ctsm_vars:\n",
    "    field = np.ravel ( ds_ctsm[var])     \n",
    "    df_ctsm[var]=field\n",
    "\n",
    "\n",
    "#Convert NEON data to a Pandas Dataframe for easier handling:\n",
    "eval_vars = ['EFLX_LH_TOT']\n",
    "\n",
    "df_eval = pd.DataFrame({'time':ds_eval.time})\n",
    "\n",
    "for var in eval_vars:\n",
    "    field = np.ravel ( ds_eval[var])     \n",
    "    df_eval[var]=field\n",
    "\n",
    "#-- make df_all that includes both obs and sim\n",
    "df_all = df_eval\n",
    "\n",
    "#-- add simulation data to df_all and adjust for offset time dimension:\n",
    "for var in ctsm_vars:\n",
    "    sim_var_name = \"sim_\"+var\n",
    "    #-- shift simulation data by one\n",
    "    df_all[sim_var_name]=df_ctsm[var].shift(-1).values"
   ]
  },
  {
   "cell_type": "markdown",
   "metadata": {},
   "source": [
    "*The next cell gives us a quick look at the dataframe to make sure the data are available*"
   ]
  },
  {
   "cell_type": "code",
   "execution_count": null,
   "metadata": {},
   "outputs": [],
   "source": [
    "df_all.head()"
   ]
  },
  {
   "cell_type": "markdown",
   "metadata": {},
   "source": [
    "## 3.1 What is latent heat flux?\n",
    "\n",
    "Below we explore how well CLM simulates latent heat flux, which is directly observed at NEON towers. Latent heat flux is the energy for water evaporation from the ecosystem. Latent heat flux is a combination of plant transpiration, evaporation from leaf surfaces (e.g., from dew, after precipitation events, etc.), and evaporation from the soil:\n",
    "\n",
    "$$ Latent Heat Flux = Transpiration + Canopy Evaporation + Ground Evaporation $$\n",
    "\n",
    "Although NEON towers cannot distinguish how much each of these processes contributes to latent heat flux, CLM simulations can help us to disentangle the role of each. "
   ]
  },
  {
   "cell_type": "markdown",
   "metadata": {},
   "source": [
    "First we will calculate latent heat flux simulated by CLM by summing the component fluxes in the above equation. The CLM variables are:\n",
    "\n",
    ">$FCEV$: Canopy evaporation (W m<sup>-2</sup>) <br>\n",
    ">$FCTR$: Canopy transpiration (W m<sup>-2</sup>) <br>\n",
    ">$FGEV$: Ground evaporation (W m<sup>-2</sup>) <br>\n",
    "\n",
    "*Run the below cell to calculate simulated latent heat flux*"
   ]
  },
  {
   "cell_type": "code",
   "execution_count": null,
   "metadata": {},
   "outputs": [],
   "source": [
    "clm_var = 'sim_EFLX_LH_TOT'\n",
    "\n",
    "#EFLX_LH_TOT = FCEV + FCTR +FGEV\n",
    "df_all [clm_var] = df_all['sim_FCEV'] \\\n",
    "                 + df_all['sim_FCTR']\\\n",
    "                 + df_all['sim_FGEV']\n",
    "\n",
    "df_all.head()"
   ]
  },
  {
   "cell_type": "markdown",
   "metadata": {},
   "source": [
    "******************\n",
    "### Optional:\n",
    "If you are unfamiliar with reading and using the netcdf file format that model and evaluation data are provided, you can save data different formats. The next cell of code will save the pre-processed data in `.csv`, or comma-seperated file format. \n"
   ]
  },
  {
   "cell_type": "code",
   "execution_count": null,
   "metadata": {},
   "outputs": [],
   "source": [
    "csv_dir = os.path.join(\"/home\", username, \"preprocessed_data\")\n",
    "\n",
    "#create the directory if it does not exist:\n",
    "if not os.path.isdir(csv_dir):\n",
    "    os.mkdir(csv_dir)\n",
    "\n",
    "csv_out = os.path.join(csv_dir, \"preprocessed_\"+neon_site+\"_\"+year+\".csv\")\n",
    "df_all.to_csv(csv_out,index=False)"
   ]
  },
  {
   "cell_type": "markdown",
   "metadata": {},
   "source": [
    "****\n",
    "## 3.2 Plotting latent heat flux"
   ]
  },
  {
   "cell_type": "markdown",
   "metadata": {},
   "source": [
    "### 3.2.1 Daily Timeseries\n",
    "This creates a time-series plot comparing daily average latent heat flux from observations (NEON) and simulations (CLM). To start, we need calculate the daily averages. Run the below cells of code to create the averages and plot.\n",
    "\n",
    "*First, we need to extract year, month, day and hour from time column*"
   ]
  },
  {
   "cell_type": "code",
   "execution_count": null,
   "metadata": {},
   "outputs": [],
   "source": [
    "#-- extract year, month, day, hour information from time\n",
    "df_all['year'] = df_all['time'].dt.year\n",
    "df_all['month'] = df_all['time'].dt.month\n",
    "df_all['day'] = df_all['time'].dt.day\n",
    "df_all['hour'] = df_all['time'].dt.hour"
   ]
  },
  {
   "cell_type": "markdown",
   "metadata": {},
   "source": [
    "*Next, calculate daily averages*"
   ]
  },
  {
   "cell_type": "code",
   "execution_count": null,
   "metadata": {},
   "outputs": [],
   "source": [
    "df_daily = df_all.groupby(['year','month','day']).mean().reset_index()\n",
    "df_daily['time']=pd.to_datetime(df_daily[[\"year\", \"month\", \"day\"]])"
   ]
  },
  {
   "cell_type": "markdown",
   "metadata": {},
   "source": [
    "Using the daily averages, we will create a plot using Python's [matplotlib package](https://matplotlib.org/)\n",
    "\n",
    "*Run the below cell to create the plot:*"
   ]
  },
  {
   "cell_type": "code",
   "execution_count": null,
   "metadata": {},
   "outputs": [],
   "source": [
    "plot_var = 'EFLX_LH_TOT'\n",
    "sim_var = 'sim_'+plot_var\n",
    "\n",
    "plot_var_desc = \"Latent Heat Flux\"\n",
    "plot_var_unit= \"W m$^{-2}$\"\n",
    "\n",
    "plt.figure(num=None, figsize=(13, 5),  facecolor='w', edgecolor='k')\n",
    "        \n",
    "ax = plt.gca()\n",
    "df_daily.plot ( x= 'time', y = plot_var , marker = 'o' ,ax =ax , color = 'b',label=\"NEON\")\n",
    "df_daily.plot ( x= 'time', y = 'sim_'+plot_var , marker = 'o' ,ax =ax , color = 'r',label=\"CLM\")\n",
    "\n",
    "plt.xlabel('Time', fontsize=17)\n",
    "plt.ylabel(plot_var_desc+\" [\"+plot_var_unit+\"]\", fontsize=17)\n",
    "plt.title(year+\" \"+neon_site, fontweight='bold',fontsize=17)\n",
    "plt.show()"
   ]
  },
  {
   "cell_type": "markdown",
   "metadata": {},
   "source": [
    "#### **Are the simulations and observations in the plot similar?**\n",
    "\n",
    "It is important to also look at variability, as this gives us an indication of when and where simulations are outside the range of observed values. \n",
    "\n",
    "*Let's explore variability by adding the daily standard deviation as a shaded area to the plot*"
   ]
  },
  {
   "cell_type": "code",
   "execution_count": null,
   "metadata": {},
   "outputs": [],
   "source": [
    "df_daily_std = df_all.groupby(['year','month','day']).std().reset_index()\n",
    "df_daily_std['time'] = pd.to_datetime(df_daily_std[[\"year\", \"month\", \"day\"]])\n",
    "\n",
    "plt.figure(num=None, figsize=(13, 5),  facecolor='w', edgecolor='k')\n",
    "\n",
    "plt.plot ( df_daily.time, df_daily[plot_var], marker = 'o' , color = 'b',label=\"NEON\")\n",
    "plt.plot ( df_daily.time, df_daily[sim_var], marker = 'o' , color = 'r',label=\"CLM\")\n",
    "\n",
    "plt.fill_between(df_daily.time, df_daily[plot_var]-df_daily_std[plot_var], df_daily[plot_var]+df_daily_std[plot_var] ,alpha=0.1, color = 'b')\n",
    "plt.fill_between(df_daily.time, df_daily[sim_var]-df_daily_std[sim_var], df_daily[sim_var]+df_daily_std[sim_var] ,alpha=0.1, color = 'r')\n",
    "\n",
    "plt.legend()\n",
    "plt.xlabel('Time', fontsize=17)\n",
    "plt.ylabel(plot_var_desc+\" [\"+plot_var_unit+\"]\", fontsize=17)\n",
    "plt.title(year+\" \"+neon_site, fontweight='bold',fontsize=17)\n",
    "plt.show()"
   ]
  },
  {
   "cell_type": "markdown",
   "metadata": {},
   "source": [
    "The standard deviation allows us to see when CLM underpredicts or overpredicts the NEON tower observations.\n",
    "\n",
    "#### **Questions to consider:**\n",
    "\n",
    "1. When is the latent heat hlux highest at this site? When is it lowest? <br>\n",
    "1. Do fluxes simulated by CLM fall within the range of NEON tower observation variability? <br>\n",
    "1. What times of year does CLM shows the best and worst performance in predicting latent heat flux ? <br>"
   ]
  },
  {
   "cell_type": "markdown",
   "metadata": {},
   "source": [
    "*****\n",
    "### 3.2.2 Monthly Averages & Component Fluxes: Absolute Values\n",
    "\n",
    "Next we will disentangle whether transpiration, canopy evaporation, or ground evaporation is the dominant contribution to latent heat flux during each month using CLM data. As mentioned in section 3.1, NEON observations cannot distinguish how much each of these processes contributes to latent heat fluxes. \n",
    "\n",
    "*Run the cell below to calculate monthly averages*"
   ]
  },
  {
   "cell_type": "code",
   "execution_count": null,
   "metadata": {},
   "outputs": [],
   "source": [
    "df_monthly = df_all.groupby(['year','month']).mean().reset_index()\n",
    "df_monthly[\"day\"]=15\n",
    "df_monthly['time']=pd.to_datetime(df_monthly[[\"year\", \"month\",\"day\"]])"
   ]
  },
  {
   "cell_type": "markdown",
   "metadata": {},
   "source": [
    "##### Next, create a stacked bar chart showing components of simulated latent heat flux over different months\n",
    "\n",
    "*Run the cell below to create the plot*"
   ]
  },
  {
   "cell_type": "code",
   "execution_count": null,
   "metadata": {},
   "outputs": [],
   "source": [
    "def line_format(label):\n",
    "    \"\"\"\n",
    "    Helper function to convert time label to the format of pandas line plot\n",
    "    \"\"\"\n",
    "    month = label.month_name()[:3]\n",
    "    if month == 'Jan':\n",
    "        month += f'\\n{label.year}'\n",
    "    return month\n",
    "\n",
    "\n",
    "plt.figure(num=None, figsize=(13, 5),  facecolor='w', edgecolor='k')\n",
    "        \n",
    "ax = plt.gca()\n",
    "\n",
    "df_monthly.plot ( x= 'time', y = 'EFLX_LH_TOT' , marker = 'o' ,ax =ax , color = 'black',label=\"NEON Latent Heat Flux\",use_index=False)\n",
    "df_monthly[['time','sim_FCEV','sim_FCTR','sim_FGEV']].plot.bar ( x= 'time',stacked='True',ax=ax,rot=0)\n",
    "\n",
    "ax.set_xticklabels(map(line_format, df_monthly.time))\n",
    "\n",
    "#set labels for the legend\n",
    "ax.legend([\"NEON Latent Heat Flux\", \"Canopy Evaporation\", \"Canopy Transpiration\", \"Ground Evaporation\"]);\n",
    "\n",
    "plt.xlabel('Time')\n",
    "plt.ylabel(plot_var_desc+\" [\"+plot_var_unit+\"]\")\n",
    "        \n",
    "plt.title(year+\" \"+neon_site, fontweight='bold')\n",
    "plt.show()"
   ]
  },
  {
   "cell_type": "markdown",
   "metadata": {},
   "source": [
    "The monthly averages of NEON latent heat flux observation are plotted as a line on top of the barplot of CLM data for reference.\n",
    "\n",
    "#### **Questions to consider:**\n",
    "\n",
    "1. Which months does CLM overestimate and underestimate observed latent heat fluxes for this site? \n",
    "1. What times of year is *canopy transpiration* the largest contributor to the total CLM latent heat flux?\n",
    "1. What times of year are *canopy evaporation* and *ground evaporation* important contributors to the total CLM latent heat flux? \n",
    "1. What is the dominant component flux when CLM overestimates observed latent heat fluxes? When CLM underestimates latent heat fluxes?\n",
    "****"
   ]
  },
  {
   "cell_type": "markdown",
   "metadata": {},
   "source": [
    "### 3.2.3 Monthly Averages & Component Fluxes: Proportional Contributions\n",
    "It might be easier to see the proportional contributions of transpiration and evaporation fluxes to total latent heat flux. The code below makes a more advanced plot with two y-axes that helps to illustrate the absolute values of monthly latent heat fluxes and the proportion of component fluxes each month. "
   ]
  },
  {
   "cell_type": "code",
   "execution_count": null,
   "metadata": {},
   "outputs": [],
   "source": [
    "#-- calculate the percentage of total latent heat flux\n",
    "df_monthly ['sim_FCEV_perc']= df_monthly ['sim_FCEV']/(df_monthly ['sim_FCEV']+df_monthly ['sim_FCTR']+df_monthly ['sim_FGEV'])*100\n",
    "df_monthly ['sim_FCTR_perc']= df_monthly ['sim_FCTR']/(df_monthly ['sim_FCEV']+df_monthly ['sim_FCTR']+df_monthly ['sim_FGEV'])*100\n",
    "df_monthly ['sim_FGEV_perc']= df_monthly ['sim_FGEV']/(df_monthly ['sim_FCEV']+df_monthly ['sim_FCTR']+df_monthly ['sim_FGEV'])*100\n",
    "\n",
    "plt.figure(num=None, figsize=(13, 7),  facecolor='w', edgecolor='k')\n",
    "        \n",
    "ax = plt.gca()\n",
    "\n",
    "df_monthly[['time','sim_FCEV_perc','sim_FCTR_perc','sim_FGEV_perc']].plot.bar ( x= 'time',stacked='True',ax=ax,rot=0)\n",
    "\n",
    "ax.set_xticklabels(map(line_format, df_monthly.time))\n",
    "ax.set_ylabel('% Components Latent Heat Flux', fontsize=16)\n",
    "ax.legend(bbox_to_anchor=(1.04,0), loc=\"lower left\",labels=[\"% Canopy Evaporation\",\"% Canopy Transpiration\",\"% Ground Evaporation\"])\n",
    "ax2 = ax.twinx()\n",
    "df_monthly.plot ( x= 'time', y = 'sim_EFLX_LH_TOT' , marker = 'o' ,ax =ax2 , color = 'b',label=\"CLM Latent Heat\",use_index=False)\n",
    "df_monthly.plot ( x= 'time', y = 'EFLX_LH_TOT' , marker = 'o' ,ax =ax2 , color = 'r',label=\"NEON Latent Heat\",use_index=False)\n",
    "\n",
    "plt.ylabel(plot_var_desc+\" [\"+plot_var_unit+\"]\")\n",
    "plt.legend(bbox_to_anchor=(1.04,1), loc=\"upper left\")\n",
    "\n",
    "plt.title(year+\" \"+neon_site, fontweight='bold')\n",
    "plt.show()"
   ]
  },
  {
   "cell_type": "markdown",
   "metadata": {},
   "source": [
    "______________"
   ]
  },
  {
   "cell_type": "markdown",
   "metadata": {},
   "source": [
    "### 3.2.4 Annual and Seasonal Correlations\n",
    "Scatter plots can help to describe the relationship between latent heat flux and the component transpiration and evaporation fluxes. We can look at these relationships using data from CLM simulations.\n",
    "\n",
    "First, plot annual average relationships.\n",
    "\n",
    "*Run the cells below to first define a generic function that plot scatter diagrams and add a regression line, and then to generate the plots.*"
   ]
  },
  {
   "cell_type": "code",
   "execution_count": null,
   "metadata": {},
   "outputs": [],
   "source": [
    "#Defining generic function for scatter plots\n",
    "def detailed_scatter (x, y, color):\n",
    "    plt.scatter (x,y, marker=\"o\",color = color)\n",
    "    slope, intercept, r_value, p_value, std_err = stats.linregress(x,y)\n",
    "    line = slope*x+intercept\n",
    "    plt.plot(x,line,'black', label='y={:.2f}x+{:.2f}'.format(slope,intercept)+\" (R2=\"+\"{:.2f}\".format(r_value)+\")\")\n",
    "    plt.legend(fontsize=13)"
   ]
  },
  {
   "cell_type": "code",
   "execution_count": null,
   "metadata": {},
   "outputs": [],
   "source": [
    "#Generating plots\n",
    "plt.figure(num=None, figsize=(15, 5),  facecolor='w', edgecolor='k')\n",
    "\n",
    "plt.subplot(1, 3, 1)\n",
    "detailed_scatter (df_daily.sim_FCEV, df_daily.sim_EFLX_LH_TOT, '#1f77b4')\n",
    "plt.ylabel('Latent Heat [Wm-2]')\n",
    "plt.xlabel('Canopy Evaporation [Wm-2]')\n",
    "\n",
    "plt.subplot(1, 3, 2)\n",
    "detailed_scatter (df_daily.sim_FCTR, df_daily.sim_EFLX_LH_TOT, '#ff7f0e')\n",
    "\n",
    "plt.ylabel('Latent Heat [Wm-2]')\n",
    "plt.xlabel('Canopy Transpiration [Wm-2]')\n",
    "\n",
    "plt.subplot(1, 3, 3)\n",
    "detailed_scatter (df_daily.sim_FGEV, df_daily.sim_EFLX_LH_TOT,'#2ca02c')\n",
    "\n",
    "plt.ylabel('Latent Heat [Wm-2]')\n",
    "plt.xlabel('Ground Evaporation [Wm-2]')\n",
    "\n",
    "plt.suptitle(year+\" \"+neon_site+\" Scatter Plots\", fontweight='bold')\n",
    "\n",
    "plt.tight_layout()\n",
    "plt.show()"
   ]
  },
  {
   "cell_type": "markdown",
   "metadata": {},
   "source": [
    "****\n",
    "Since the relationships between latent heat flux and the component transpiration and evaporation fluxes likely vary throughout the year, we can investigate how the relationships change during different seasons.\n",
    "\n",
    "*Run the cell below to generate scatter plots by season*"
   ]
  },
  {
   "cell_type": "code",
   "execution_count": null,
   "metadata": {},
   "outputs": [],
   "source": [
    "df_daily['season'] = ((df_daily['month']%12+3)//3).map({1:'DJF', 2: 'MAM', 3:'JJA', 4:'SON'})\n",
    "\n",
    "fig= plt.figure(num=None, figsize=(18,12),  facecolor='w', edgecolor='k')\n",
    "\n",
    "season = 'MAM'\n",
    "df_season =  df_daily[df_daily['season']==season]\n",
    "\n",
    "plt.subplot(3, 4, 1)\n",
    "detailed_scatter (df_season.sim_FCEV, df_season.sim_EFLX_LH_TOT, '#1f77b4')\n",
    "plt.title(season, fontweight='bold')\n",
    "plt.ylabel('Latent Heat [Wm-2]')\n",
    "plt.xlabel('Canopy Evaporation [Wm-2]')\n",
    "\n",
    "plt.subplot(3, 4, 5)\n",
    "detailed_scatter (df_season.sim_FCTR, df_season.sim_EFLX_LH_TOT, '#ff7f0e')\n",
    "plt.ylabel('Latent Heat [Wm-2]')\n",
    "plt.xlabel('Canopy Transpiration [Wm-2]')\n",
    "\n",
    "\n",
    "plt.subplot(3, 4, 9)\n",
    "detailed_scatter (df_season.sim_FGEV, df_season.sim_EFLX_LH_TOT,'#2ca02c')\n",
    "plt.ylabel('Latent Heat [Wm-2]')\n",
    "plt.xlabel('Ground Evaporation [Wm-2]')\n",
    "\n",
    "\n",
    "season = 'JJA'\n",
    "df_season =  df_daily[df_daily['season']==season]\n",
    "\n",
    "plt.subplot(3, 4, 2)\n",
    "detailed_scatter (df_season.sim_FCEV, df_season.sim_EFLX_LH_TOT, '#1f77b4')\n",
    "plt.title(season, fontweight='bold')\n",
    "plt.ylabel('Latent Heat [Wm-2]')\n",
    "plt.xlabel('Canopy Evaporation [Wm-2]')\n",
    "\n",
    "plt.subplot(3, 4, 6)\n",
    "detailed_scatter (df_season.sim_FCTR, df_season.sim_EFLX_LH_TOT, '#ff7f0e')\n",
    "plt.ylabel('Latent Heat [Wm-2]')\n",
    "plt.xlabel('Canopy Transpiration [Wm-2]')\n",
    "\n",
    "plt.subplot(3, 4, 10)\n",
    "detailed_scatter (df_season.sim_FGEV, df_season.sim_EFLX_LH_TOT,'#2ca02c')\n",
    "plt.ylabel('Latent Heat [Wm-2]')\n",
    "plt.xlabel('Ground Evaporation [Wm-2]')\n",
    "\n",
    "\n",
    "season = 'SON'\n",
    "df_season =  df_daily[df_daily['season']==season]\n",
    "\n",
    "plt.subplot(3, 4, 3)\n",
    "detailed_scatter (df_season.sim_FCEV, df_season.sim_EFLX_LH_TOT, '#1f77b4')\n",
    "plt.title(season, fontweight='bold')\n",
    "plt.ylabel('Latent Heat [Wm-2]')\n",
    "plt.xlabel('Canopy Evaporation [Wm-2]')\n",
    "\n",
    "plt.subplot(3, 4, 7)\n",
    "detailed_scatter (df_season.sim_FCTR, df_season.sim_EFLX_LH_TOT, '#ff7f0e')\n",
    "plt.ylabel('Latent Heat[Wm-2]')\n",
    "plt.xlabel('Canopy Transpiration [Wm-2]')\n",
    "\n",
    "plt.subplot(3, 4, 11)\n",
    "detailed_scatter (df_season.sim_FGEV, df_season.sim_EFLX_LH_TOT,'#2ca02c')\n",
    "plt.ylabel('Latent Heat [Wm-2]')\n",
    "plt.xlabel('Ground Evaporation [Wm-2]')\n",
    "\n",
    "season = 'DJF'\n",
    "df_season =  df_daily[df_daily['season']==season]\n",
    "\n",
    "plt.subplot(3, 4, 4)\n",
    "detailed_scatter (df_season.sim_FCEV, df_season.sim_EFLX_LH_TOT, '#1f77b4')\n",
    "plt.title(season, fontweight='bold')\n",
    "plt.ylabel('Latent Heat [Wm-2]')\n",
    "plt.xlabel('Canopy Evaporation [Wm-2]')\n",
    "\n",
    "plt.subplot(3, 4, 8)\n",
    "detailed_scatter (df_season.sim_FCTR, df_season.sim_EFLX_LH_TOT, '#ff7f0e')\n",
    "plt.ylabel('Latent Heat [Wm-2]')\n",
    "plt.xlabel('Canopy Transpiration [Wm-2]')\n",
    "\n",
    "plt.subplot(3, 4, 12)\n",
    "detailed_scatter (df_season.sim_FGEV, df_season.sim_EFLX_LH_TOT, '#2ca02c')\n",
    "plt.ylabel('Latent Heat [Wm-2]')\n",
    "plt.xlabel('Ground Evaporation [Wm-2]')\n",
    "\n",
    "fig.suptitle(year+\" \"+neon_site+ \" Seasonal Scatter Plots\", fontweight='bold')\n",
    "fig.tight_layout()\n",
    "\n",
    "plt.show()"
   ]
  },
  {
   "cell_type": "markdown",
   "metadata": {},
   "source": [
    "--------\n",
    "### 3.2.5 Average Diel Cycle\n",
    "\n",
    "Latent heat flux also changes throughout the day. Does CLM capture the diel cycle that NEON observes? We can compare the average diel cycle from NEON observations and CLM simulations to find out. \n",
    "\n",
    "The `time` variable in the data is in Greenwich Mean Time (GMT). In the below plots, we adjust for the timezone so that the data are centered on local noon.\n",
    "\n",
    "\n",
    "*Run the cell below to convert to local time*\n"
   ]
  },
  {
   "cell_type": "code",
   "execution_count": null,
   "metadata": {},
   "outputs": [],
   "source": [
    "tzone_shift = ds_eval.TimeDiffUtcLt\n",
    "#convert to local time\n",
    "df_all['local_time']= df_all['time'] + datetime.timedelta(hours=int(tzone_shift))\n",
    "\n",
    "df_all['local_hour'] = df_all['local_time'].dt.hour"
   ]
  },
  {
   "cell_type": "markdown",
   "metadata": {},
   "source": [
    "*Run the cells below to calculate the annual average diel cycle and to generate a plot*"
   ]
  },
  {
   "cell_type": "code",
   "execution_count": null,
   "metadata": {},
   "outputs": [],
   "source": [
    "# Calculate annual average diel cycle and bias\n",
    "diel_df_mean = df_all.groupby('local_hour').mean().reset_index()\n",
    "diel_df_std = df_all.groupby('local_hour').std().reset_index()\n",
    "\n",
    "diel_df_mean['EFLX_LH_TOT_bias'] = diel_df_mean['sim_EFLX_LH_TOT']- diel_df_mean['EFLX_LH_TOT']\n",
    "diel_df_mean.head()"
   ]
  },
  {
   "cell_type": "code",
   "execution_count": null,
   "metadata": {},
   "outputs": [],
   "source": [
    "# Plot annual average diel cycle and bias\n",
    "plt.figure(num=None, figsize=(13, 9),  facecolor='w', edgecolor='k')\n",
    "        \n",
    "plt.subplot(2, 1, 1)  \n",
    "        \n",
    "plt.plot ( diel_df_mean.local_hour, diel_df_mean[plot_var], marker = 'o' , color = 'b',label=\"NEON\")\n",
    "plt.plot ( diel_df_mean.local_hour, diel_df_mean[sim_var], marker = 'o' , color = 'r',label=\"CLM\")\n",
    "\n",
    "plt.fill_between(diel_df_mean.local_hour, diel_df_mean[plot_var]-diel_df_std[plot_var], diel_df_mean[plot_var]+diel_df_std[plot_var] ,alpha=0.1, color = 'b')\n",
    "plt.fill_between(diel_df_mean.local_hour, diel_df_mean[sim_var]-diel_df_std[sim_var], diel_df_mean[sim_var]+diel_df_std[sim_var] ,alpha=0.1, color = 'r')\n",
    "plt.ylabel('Latent Heat Flux [Wm-2]', fontsize=16)\n",
    "plt.axvline(x=12, color = 'gray',linestyle='dashed',alpha=0.75)\n",
    "\n",
    "plt.title(\"Diurnal Cycle of Latent Heat Flux \"+neon_site+\" \"+year, fontweight='bold')\n",
    "plt.legend()\n",
    "plt.subplot(4, 1, 3)  \n",
    "\n",
    "ax = plt.gca()    \n",
    "diel_df_mean.plot ( x= 'local_hour', y = 'EFLX_LH_TOT_bias' , marker = 'o' ,ax =ax , color = 'black',label='Bias')\n",
    "plt.xlabel('Hour', fontsize=16)\n",
    "plt.ylabel('Bias', fontsize=16)\n",
    "plt.axvline(x=12, color = 'gray',linestyle='dashed',alpha=0.75)\n",
    "\n",
    "plt.show()"
   ]
  },
  {
   "cell_type": "markdown",
   "metadata": {},
   "source": [
    "#### How do transpiration and evaporation components of latent heat flux change throughout the day? \n",
    "We can add a panel to the above plot that shows how CLM partitioned latent heat flux to find out. \n",
    "\n",
    "*Run the cells below to add a panel to the plot*"
   ]
  },
  {
   "cell_type": "code",
   "execution_count": null,
   "metadata": {},
   "outputs": [],
   "source": [
    "#Calculating diel cycle flux proportions\n",
    "diel_df_mean['sim_FCEV_perc']= diel_df_mean ['sim_FCEV']/(diel_df_mean ['sim_FCEV']+diel_df_mean ['sim_FCTR']+diel_df_mean ['sim_FGEV'])*100\n",
    "diel_df_mean ['sim_FCTR_perc']= diel_df_mean ['sim_FCTR']/(diel_df_mean ['sim_FCEV']+diel_df_mean ['sim_FCTR']+diel_df_mean ['sim_FGEV'])*100\n",
    "diel_df_mean ['sim_FGEV_perc']= diel_df_mean ['sim_FGEV']/(diel_df_mean ['sim_FCEV']+diel_df_mean ['sim_FCTR']+diel_df_mean ['sim_FGEV'])*100"
   ]
  },
  {
   "cell_type": "code",
   "execution_count": null,
   "metadata": {},
   "outputs": [],
   "source": [
    "#plotting diel cycl flux proportions\n",
    "from matplotlib import gridspec\n",
    "\n",
    "fig= plt.figure(num=None, figsize=(13, 10),  facecolor='w', edgecolor='k')\n",
    "\n",
    "gs = gridspec.GridSpec(3, 1, height_ratios=[3, 1, 2]) \n",
    "\n",
    "ax0 = plt.subplot(gs[0])\n",
    "        \n",
    "ax0.plot ( diel_df_mean.local_hour, diel_df_mean['EFLX_LH_TOT'], marker = 'o' , color = 'b',label=\"NEON\")\n",
    "ax0.plot ( diel_df_mean.local_hour, diel_df_mean['sim_EFLX_LH_TOT'], marker = 'o' , color = 'r',label=\"CLM\")\n",
    "\n",
    "ax0.fill_between(diel_df_mean.local_hour, diel_df_mean[plot_var]-diel_df_std[plot_var], diel_df_mean[plot_var]+diel_df_std[plot_var] ,alpha=0.1, color = 'b')\n",
    "ax0.fill_between(diel_df_mean.local_hour, diel_df_mean[sim_var]-diel_df_std[sim_var], diel_df_mean[sim_var]+diel_df_std[sim_var] ,alpha=0.1, color = 'r')\n",
    "plt.ylabel('Latent Heat Flux [Wm-2]', fontsize=16)\n",
    "\n",
    "plt.legend()\n",
    "plt.title(\"Diurnal Cycle of Latent Heat Flux \"+neon_site+\" \"+year, fontweight='bold')\n",
    "\n",
    "ax1 = plt.subplot(gs[1])\n",
    "diel_df_mean.plot ( x= 'local_hour', y = 'EFLX_LH_TOT_bias' , marker = 'o' ,ax =ax1 , color = 'black',label='Bias')\n",
    "plt.xlabel('', fontsize=18)\n",
    "plt.ylabel('Bias', fontsize=16)\n",
    "\n",
    "ax2 = plt.subplot(gs[2])\n",
    "diel_df_mean[['local_hour','sim_FCEV','sim_FCTR','sim_FGEV']].plot.bar ( x= 'local_hour',stacked='True',ax=ax2,rot=0)\n",
    "plt.ylabel('%Latent Heat Components', fontsize=16)\n",
    "plt.xlabel('Hour', fontsize=16)\n",
    "\n",
    "plt.tight_layout()\n",
    "\n",
    "fig.show()"
   ]
  },
  {
   "cell_type": "markdown",
   "metadata": {},
   "source": [
    "<div class=\"alert alert-success\">\n",
    "<strong>Congratulations!</strong> \n",
    "    \n",
    "You have:\n",
    "1. Accessed the CTSM model data\n",
    "1. Accessed the NEON observational data\n",
    "1. Evaluated CTSM latent heat fluxes compared to NEON tower observations\n",
    "1. Determined when transpiration and evaporation fluxes drive latent heat fluxes\n",
    "1. Learned how to average over different time periods and create different types of plots\n",
    "</div>\n",
    "\n",
    "\n",
    "\n",
    "You can also use this script to explore additional CLM and NEON data by changing the variables in section 3 of this script.\n"
   ]
  },
  {
   "cell_type": "code",
   "execution_count": null,
   "metadata": {},
   "outputs": [],
   "source": []
  }
 ],
 "metadata": {
  "kernelspec": {
   "display_name": "NPL 2022b",
   "language": "python",
   "name": "npl-2022b"
  },
  "language_info": {
   "codemirror_mode": {
    "name": "ipython",
    "version": 3
   },
   "file_extension": ".py",
   "mimetype": "text/x-python",
   "name": "python",
   "nbconvert_exporter": "python",
   "pygments_lexer": "ipython3",
   "version": "3.8.13"
  }
 },
 "nbformat": 4,
 "nbformat_minor": 4
}
