{
 "cells": [
  {
   "cell_type": "markdown",
   "id": "c02b043a-7a7e-43bf-9d87-2e1320077fb2",
   "metadata": {
    "tags": []
   },
   "source": [
    "# Tutorial 2c - *Code Modifications (Workflow + Simulation)*\n",
    "\n",
    "This tutorial is an introduction to familiarizing yourself with **Git** and **Github** workflow and terminology and making **simple code modifications**. Specifically, we will work through an example that modifies CTSM code related to grass phenology and test this modification for the Konza Prairie NEON Flux Tower site. Below, you will find steps to:\n",
    "1. Check your cloned CTSM repository for any changes to date\n",
    "2. Create a Git branch for code modifications\n",
    "3. Make code modifications\n",
    "4. Run CTSM with new code modifications\n",
    "5. Save changes to your GitHub branch\n",
    "6. [optional] Share your changes with others\n",
    "\n",
    "Once you have completed this tutorial, you can compare the changes from the new code to the original in tutorial [Day2d_CodeModification_Visualization.ipynb](Day2d_CodeModification_Visualization.ipynb).\n",
    "________________________\n",
    "<div>\n",
    "    <img src=\"https://git-scm.com/images/logos/downloads/Git-Icon-1788C.png\" \n",
    "         style=\"float:left; padding-right:10px; width:60px; height:60px;\" />\n",
    "</div>\n",
    "<strong>Git</strong> is an open-source version control software to track your changes in the source code.\n",
    "\n",
    "<br><br>\n",
    "\n",
    "\n",
    "<div>\n",
    "    <img src=\"https://github.com/NCAR/CTSM-Tutorial-2022/raw/main/images/github.png\" \n",
    "         style=\"float:left; padding-right:10px; width:60px; height:60px;\" />\n",
    "</div>\n",
    "<strong>GitHub</strong> provides a centralized online service to host the source code and version control using Git.\n",
    "<br><br>\n",
    "\n",
    "\n",
    "\n",
    "If you want to know more about Git and GitHub, here is a tutorial you can use: \n",
    "https://swcarpentry.github.io/git-novice/\n",
    "\n",
    "<div class=\"alert alert-block alert-info\">\n",
    "\n",
    "<b> TIP:</b> Before attempting any code modifications on your own, familiarize yourself with the suggested CTSM workflow with Git that we'll go over here \n",
    "\n",
    "</div>\n",
    "\n",
    "In this tutorial, we assume you have already cloned CTSM repository during the [Day0a_GitStarted.ipynb](Day0a_GitStarted.ipynb) tutorial. If not, please follow the [Day0a_GitStarted.ipynb](Day0a_GitStarted.ipynb) to do this. \n",
    "\n",
    "It is also recommended that you go through the [Day0b_NEON_Simulation_Tutorial.ipynb](Day0b_NEON_Simulation_Tutorial.ipynb) tutorial and run simulations for KONZ so that you can compare the results of the code we'll modify here with the original code. \n"
   ]
  },
  {
   "cell_type": "markdown",
   "id": "022d4658-b2aa-45f1-8e43-e4f467a45194",
   "metadata": {},
   "source": [
    "## 1. Check the cloned CTSM repository\n",
    "\n",
    "First navigate to your cloned CTSM repository:\n"
   ]
  },
  {
   "cell_type": "code",
   "execution_count": 1,
   "id": "18d5acee-519a-47f3-97fc-25dd309a3d88",
   "metadata": {},
   "outputs": [],
   "source": [
    "cd ~/CTSM/"
   ]
  },
  {
   "cell_type": "markdown",
   "id": "25ea4ad3-cbfd-47c2-9454-0f0a788dfeb3",
   "metadata": {},
   "source": [
    "Next, check the status of your clone on the cloud. \n",
    "The command below shows if you have already made any changes to your code in the cloud:"
   ]
  },
  {
   "cell_type": "code",
   "execution_count": 2,
   "id": "6173319d-6920-4c9f-adc1-7758728a13da",
   "metadata": {},
   "outputs": [
    {
     "name": "stdout",
     "output_type": "stream",
     "text": [
      "On branch master\n",
      "Your branch is up to date with 'origin/master'.\n",
      "\n",
      "nothing to commit, working tree clean\n"
     ]
    }
   ],
   "source": [
    "git status"
   ]
  },
  {
   "cell_type": "markdown",
   "id": "14b38c55-bf8f-4cab-89c1-667927e68b47",
   "metadata": {},
   "source": [
    "You will likely see this message: \"Your branch is up to date with 'origin/master'.\" Note that if you have already made changes to the model code, it will show up as the output of `git status`. \n",
    "\n",
    "To check what changes you have made to the code at any point, you can use the following command:"
   ]
  },
  {
   "cell_type": "code",
   "execution_count": 3,
   "id": "c96ce683-7e63-4c9f-b0b1-a31e679983c1",
   "metadata": {},
   "outputs": [],
   "source": [
    "git diff"
   ]
  },
  {
   "cell_type": "markdown",
   "id": "b8663353-b6a5-4a41-99cf-12844dea404d",
   "metadata": {},
   "source": [
    "If you have been following this tutorial consecutively, you should have a clean copy of the repository and will not see any differences. "
   ]
  },
  {
   "cell_type": "markdown",
   "id": "67df694b-aef1-46fa-a058-0c585d2c1b14",
   "metadata": {},
   "source": [
    "## 2. Create a branch for your code modifications\n",
    "\n",
    "Now we will create a git branch for our code modifications. Creating a branch in GitHub allows you to make modifications and develop new features to the code while not changing the original code directly. \n",
    "\n",
    "\n",
    "<div class=\"alert alert-block alert-info\">\n",
    "<b>NOTE: </b> \n",
    "    A <code>branch</code> of a repository is a copy of the original, or <code>main</code> branch. Branches allow you to preserve the original code (the 'main' branch) while making any modifications in a copy (the new branch) and therefore can help to contain errors so that they do not get propogated into the 'main' code base. Using branches also helps to work on multiple features or bugs simultaneously while keeping a base branch that you know works.\n",
    "</div>\n",
    "\n",
    "The below line of code creates a branch for your development called `phenology_change`:"
   ]
  },
  {
   "cell_type": "code",
   "execution_count": 4,
   "id": "788823ad-a1a1-4d7e-a20c-ae8f8f041c6b",
   "metadata": {},
   "outputs": [
    {
     "name": "stdout",
     "output_type": "stream",
     "text": [
      "Switched to a new branch 'phenology_change'\n"
     ]
    }
   ],
   "source": [
    "git checkout -b phenology_change"
   ]
  },
  {
   "cell_type": "code",
   "execution_count": 5,
   "id": "1dd26c2b-b6e6-4baf-89bd-568030404aee",
   "metadata": {},
   "outputs": [
    {
     "name": "stdout",
     "output_type": "stream",
     "text": [
      "On branch phenology_change\n",
      "nothing to commit, working tree clean\n"
     ]
    }
   ],
   "source": [
    "git status"
   ]
  },
  {
   "cell_type": "markdown",
   "id": "2eb73ea7-db22-4379-a14a-96b967393eba",
   "metadata": {},
   "source": [
    "<div class=\"alert alert-block alert-info\">\n",
    "<b>NOTE: </b> \n",
    " GitHub branches give us the flexibility to work on the same code base at the same time while keep tracking of what and where things have changed. When playing a video game, we save our progress at checkpoints so we can go back to these points and start from specific part of the game. Similarly, Git and Github give us the flexibility to save snapshots of the code so we can revert back to these snapshots if we want to rework part of our changes. The image below shows how different branches might be developed at the same time and merged back with each other.\n",
    "</div>\n",
    "\n",
    "![github](https://nvie.com/img/main-branches@2x.png)"
   ]
  },
  {
   "cell_type": "markdown",
   "id": "d6513804-29de-46a1-9176-fc3d90022590",
   "metadata": {
    "tags": []
   },
   "source": [
    "## 3. Make your code modifications\n",
    "\n",
    "Now that you have a`branch` of the code, you can start changing the code. \n",
    "\n",
    "In this tutorial, we are going to change one aspect of grass phenology. In particular, we will change the threshold for the amount of rain required for leaf onset and compare the results for Konza Prairie Biological Station (KONZ).\n",
    "\n",
    "\n",
    "<div class=\"alert alert-block alert-warning\">\n",
    "\n",
    "<b> WARNING: </b> To compare the results from modified code with original code, make sure you have already run the original CTSM code for Konza (KONZ) or have previously completed the [Day0b_NEON_Simulation_Tutorial.ipynb](Day0b_NEON_Simulation_Tutorial.ipynb) for the KONZ site.\n",
    "\n",
    "</div>\n",
    "\n",
    "\n",
    "To find more information about NEON's KONZ site, please visit NEON's website: https://www.neonscience.org/field-sites/konz\n",
    "    \n",
    "    \n",
    "**Questions:** \n",
    "- Where is Konza Prairie Biological Station located? \n",
    "- Is rain necessary for leaves to green up here?\n",
    "    \n",
    "The CTSM model code is located under `src` directory.\n",
    "    \n",
    "### 3.1 Navigate to the `src` directory and look at the content"
   ]
  },
  {
   "cell_type": "code",
   "execution_count": 6,
   "id": "6d746176-a453-4db4-926b-e5f3f500c21e",
   "metadata": {},
   "outputs": [],
   "source": [
    "cd ~/CTSM/src"
   ]
  },
  {
   "cell_type": "code",
   "execution_count": 7,
   "id": "d706ac7e-2db0-4f32-b218-7a6e2182cd77",
   "metadata": {},
   "outputs": [
    {
     "name": "stdout",
     "output_type": "stream",
     "text": [
      "biogeochem\tdyn_subgrid  README.unit_testing  unit_test_stubs\n",
      "biogeophys\tfates\t     self_tests\t\t  utils\n",
      "CMakeLists.txt\tinit_interp  soilbiogeochem\n",
      "cpl\t\tmain\t     unit_test_shr\n"
     ]
    }
   ],
   "source": [
    "ls "
   ]
  },
  {
   "cell_type": "markdown",
   "id": "1a5fbdc4-5c4c-45ca-b693-999b0bb489c2",
   "metadata": {},
   "source": [
    "As you can see there are multiple directories and multiple files listed in this directory.\n",
    "\n",
    "<div class=\"alert alert-success\">\n",
    "  <strong>Fun Fact:</strong> There is roughly ~252,919 lines of Fortran code in CTSM repository. \n",
    "</div>"
   ]
  },
  {
   "cell_type": "markdown",
   "id": "7967208c-fc90-4f80-b0e1-073a1ff1e30d",
   "metadata": {},
   "source": [
    "In this example, we will make code modifications to the `CNPhenologyMod.F90`, which is in the `biogeochem` subdirectory.\n",
    "    \n",
    "First, let's navigate to this directory:"
   ]
  },
  {
   "cell_type": "code",
   "execution_count": 8,
   "id": "6069b8d2-dab3-45e8-bcbb-7132a9a6d4d3",
   "metadata": {},
   "outputs": [
    {
     "name": "stdout",
     "output_type": "stream",
     "text": [
      "/home/negins/CTSM/src/biogeochem\n"
     ]
    }
   ],
   "source": [
    "cd ~/CTSM/src/biogeochem\n",
    "pwd"
   ]
  },
  {
   "cell_type": "markdown",
   "id": "24d9a9ad-8949-4319-aa39-50c3ce432371",
   "metadata": {},
   "source": [
    "Next, list all the files in this directory: "
   ]
  },
  {
   "cell_type": "code",
   "execution_count": 9,
   "id": "abc3c9fd-f08e-43d3-b77e-c1e80279e105",
   "metadata": {},
   "outputs": [
    {
     "name": "stdout",
     "output_type": "stream",
     "text": [
      "ch4Mod.F90\t\t\tCNRootDynMod.F90\n",
      "ch4varcon.F90\t\t\tCNSharedParamsMod.F90\n",
      "CMakeLists.txt\t\t\tCNSpeciesMod.F90\n",
      "CNAllocationMod.F90\t\tCNVegCarbonFluxType.F90\n",
      "CNAnnualUpdateMod.F90\t\tCNVegCarbonStateType.F90\n",
      "CNBalanceCheckMod.F90\t\tCNVegComputeSeedMod.F90\n",
      "CNC14DecayMod.F90\t\tCNVegetationFacade.F90\n",
      "CNCIsoAtmTimeSeriesReadMod.F90\tCNVegNitrogenFluxType.F90\n",
      "CNCIsoFluxMod.F90\t\tCNVegNitrogenStateType.F90\n",
      "CNCStateUpdate1Mod.F90\t\tCNVegStateType.F90\n",
      "CNCStateUpdate2Mod.F90\t\tCNVegStructUpdateMod.F90\n",
      "CNCStateUpdate3Mod.F90\t\tCropReprPoolsMod.F90\n",
      "CNDriverMod.F90\t\t\tCropType.F90\n",
      "CNDVDriverMod.F90\t\tDryDepVelocity.F90\n",
      "CNDVEstablishmentMod.F90\tDUSTMod.F90\n",
      "CNDVLightMod.F90\t\tdynCNDVMod.F90\n",
      "CNDVType.F90\t\t\tdynConsBiogeochemMod.F90\n",
      "CNFireBaseMod.F90\t\tEDBGCDynMod.F90\n",
      "CNFireEmissionsMod.F90\t\tFATESFireBase.F90\n",
      "CNFireFactoryMod.F90\t\tFATESFireDataMod.F90\n",
      "CNFireLi2014Mod.F90\t\tFATESFireFactoryMod.F90\n",
      "CNFireLi2016Mod.F90\t\tFATESFireNoDataMod.F90\n",
      "CNFireLi2021Mod.F90\t\tFireEmisFactorsMod.F90\n",
      "CNFireNoFireMod.F90\t\tMEGANFactorsMod.F90\n",
      "CNFUNMod.F90\t\t\tNutrientCompetitionCLM45defaultMod.F90\n",
      "CNGapMortalityMod.F90\t\tNutrientCompetitionFactoryMod.F90\n",
      "CNGRespMod.F90\t\t\tNutrientCompetitionFlexibleCNMod.F90\n",
      "CNMRespMod.F90\t\t\tNutrientCompetitionMethodMod.F90\n",
      "CNNDynamicsMod.F90\t\tSatellitePhenologyMod.F90\n",
      "CNNStateUpdate1Mod.F90\t\tSpeciesBaseType.F90\n",
      "CNNStateUpdate2Mod.F90\t\tSpeciesIsotopeType.F90\n",
      "CNNStateUpdate3Mod.F90\t\tSpeciesNonIsotopeType.F90\n",
      "CNPhenologyMod.F90\t\ttest\n",
      "CNPrecisionControlMod.F90\tVOCEmissionMod.F90\n",
      "CNProductsMod.F90\n"
     ]
    }
   ],
   "source": [
    "ls"
   ]
  },
  {
   "cell_type": "markdown",
   "id": "f279eb73-7b15-49bd-b2f8-8ad4ea7bfa7b",
   "metadata": {},
   "source": [
    "Below we will modify the `rain_threshold` parameter in the `CNPhenologyMod.F90` file. You can open up the file you'd like to modify by double clicking on it in the sidebar.\n",
    "\n",
    "### 3.2 Locate the CNPhenologyMod.F90 file\n",
    "\n",
    "#### **To Do**: Navigate to `CTSM/src/biogeochem/CNPhenologyMod.F90` and double-click on the `CNPhenologyMod.F90` file to open it:\n",
    "\n",
    "\n",
    "***Do you only see the tutorials listed in the sidebar?** You can navigate to the files listed above in the sidebar interface by following the file path. Start by clicking on the folder icon (above 'Name'), then click on `CTSM` -> `src` -> `biogeochem`. From here, find and double-click on the `CNPhenologyMod.F90` file.* \n",
    "\n",
    "![image1.png](https://github.com/NCAR/CTSM-Tutorial-2022/raw/main/images/file_listing_1.png)\n",
    "\n",
    "\n",
    "It will open up the file under another tab:\n",
    "\n",
    "![image2.png](https://github.com/NCAR/CTSM-Tutorial-2022/raw/main/images/file_listing_2.png)"
   ]
  },
  {
   "cell_type": "markdown",
   "id": "4381349e-9592-4f5a-8823-906e25d314ad",
   "metadata": {},
   "source": [
    "This will open up a Fortran code, which you can read and edit. "
   ]
  },
  {
   "cell_type": "markdown",
   "id": "bb4e5157-5542-456c-9dcc-65d61b0e73b0",
   "metadata": {},
   "source": [
    "<div class=\"alert alert-info\">\n",
    "\n",
    "<b>TIP:</b>  You can also access the file with any text editor. To do this, open the file with <code>vim</code>, <code>emacs</code> or another text editor of your choice from a terminal window.\n",
    "\n",
    "</div>"
   ]
  },
  {
   "cell_type": "markdown",
   "id": "3149a617-99ec-414b-ab95-fec2c4fec062",
   "metadata": {},
   "source": [
    "### 3.3 Modify the `rain_threshold`\n",
    "In the below exercise, we will change the rain threshold for stress deciduous vegetation, which includes C3 grasses. The rain threshold is the amount of rain required to initiate leaf onset. Reaching the rain threshold is one of several requirements for stress deciduous vegetation leaf onset. If you are interested, you can find more information about the [stress deciduous phenology representation](https://escomp.github.io/ctsm-docs/versions/master/html/tech_note/Vegetation_Phenology_Turnover/CLM50_Tech_Note_Vegetation_Phenology_Turnover.html#stress-deciduous-phenology) in the CLM Technical Note.\n",
    "\n",
    "**Question:**\n",
    "* Can you find `rain_threshold` in the code? What is the current value set to? Tip: Try using a search function (e.g., cmd+f on a Mac or ctrl+f on a PC).\n",
    "\n",
    "**Answer:**\n",
    "\n",
    "The current value of `rain_threshold` is 20mm as specified in the line 1349 in the code:\n",
    "\n",
    "```\n",
    "rain_threshold = 20._r8 \n",
    "```\n",
    "\n",
    "_______\n",
    "\n",
    "#### **To Do**: Change `rain_threshold` for leaf onset to 1mm in this file. \n",
    "Your modified code should look the same as this:\n",
    "```\n",
    "rain_threshold = 1._r8 \n",
    "\n",
    "```\n",
    "\n",
    "Now that you've changed the value of the rain threshold, **save and close** this file. *Note that JupyterLab automatically saves your changes at a regular interval. However, to ensure your changes are saved, go to the \"File\" menu (upper left) and click on \"Save File\".* \n",
    "\n",
    "\n",
    "**Questions to consider:**\n",
    "* Will changing the rain threshold from 20 mm to 1 mm cause leaf onset to be earlier or later than the original simulation? \n",
    "* How might changes in leaf onset impact simulated carbon, water, and energy fluxes?\n",
    "\n",
    "---\n",
    "\n",
    "Let's quickly check that our code modifications are reflected using git."
   ]
  },
  {
   "cell_type": "code",
   "execution_count": 11,
   "id": "daabd410-cbd9-4d96-9c8f-df0bdf078327",
   "metadata": {},
   "outputs": [
    {
     "name": "stdout",
     "output_type": "stream",
     "text": [
      "diff --git a/src/biogeochem/CNPhenologyMod.F90 b/src/biogeochem/CNPhenologyMod.F90\n",
      "index f87a59eba..82ea12458 100644\n",
      "--- a/src/biogeochem/CNPhenologyMod.F90\n",
      "+++ b/src/biogeochem/CNPhenologyMod.F90\n",
      "@@ -1346,7 +1346,7 @@ contains\n",
      "       avg_dayspyr = get_average_days_per_year()\n",
      " \n",
      "       ! specify rain threshold for leaf onset\n",
      "-      rain_threshold = 20._r8\n",
      "+      rain_threshold = 1._r8\n",
      " \n",
      "       do fp = 1,num_soilp\n",
      "          p = filter_soilp(fp)\n"
     ]
    }
   ],
   "source": [
    "git diff ~/CTSM/src/biogeochem/CNPhenologyMod.F90"
   ]
  },
  {
   "cell_type": "markdown",
   "id": "c0de9c60-0549-4f89-846e-f2484b8ad2a6",
   "metadata": {},
   "source": [
    "You should see that changes you made to `rain_threshold` reflected in the output above.\n",
    "\n",
    "*Specifically, git will list the name of the file, the lines of code before and after your changes, and your changed code. The changes you made will be denoted with '-' and '+' symbols, illustrating what was deleted ('-') and what was added ('+').* "
   ]
  },
  {
   "cell_type": "markdown",
   "id": "afe91764-af42-4acf-b361-5ace0df9926c",
   "metadata": {},
   "source": [
    "## 4. Run a CTSM simulation using your modifications:\n",
    "In this step, you will test your modifications by running the modified code.\n",
    "\n",
    "You can do so by either:\n",
    "1. Using `./run_neon.py` script. (easiest method)\n",
    "\n",
    "2. Following the steps for running an unsuported single point case similar to [Day2a_GenericSinglePoint.ipynb](Day2a_GenericSinglePoint.ipynb).\n",
    "\n",
    "*We recommend using the `run_neon.py` script for any NEON flux tower simulation, as this simplifies the steps of running a NEON tower simulation and points to the NEON flux tower meteorological data that are already created. The generic single point tutorial does not use flux tower meteorological data, but instead extracts data from the global datasets that are used to run CTSM.*\n",
    "\n",
    "<div class=\"alert alert-info\">\n",
    "  <strong> Reminder: </strong> <code>./run_neon.py </code> is a user-friendly script that simplifies all the steps of running NEON tower simulations into one command.\n",
    "</div>\n",
    "\n",
    "\n",
    "Now, let's run a CTSM simulation for our NEON site, KONZ, with these modifications. Note that we have changed `output-root` to `~/scratch/CLM-NEON-phenologychange`. Creating a new output-root allows us to test the changes at several sites. We also have to specify `--overwrite` so that the script will run the KONZ site another time. "
   ]
  },
  {
   "cell_type": "code",
   "execution_count": null,
   "id": "1261a908-af43-4e37-b9a9-45e9dfc5b6cd",
   "metadata": {},
   "outputs": [
    {
     "name": "stdout",
     "output_type": "stream",
     "text": [
      "Submitting command to Slurm:\n",
      "    run_neon --neon-sites KONZ --output-root /home/negins/scratch/CLM-NEON-phenologychange --overwrite\n",
      "\n",
      "Waiting for job 1056 to start ... \n",
      "\n",
      "\n"
     ]
    }
   ],
   "source": [
    "qcmd -- run_neon --neon-sites KONZ --output-root ~/scratch/CLM-NEON-phenologychange --overwrite"
   ]
  },
  {
   "cell_type": "markdown",
   "id": "7e165439-ad4a-4436-a374-2cdec7feb4ce",
   "metadata": {},
   "source": [
    "**Note:** Your simulation has been submitted, but may take some time to download required data and run the simulation. You can check the status of your simulation using the same commands you used in the [Day0b_NEON_Simulation_Tutorial.ipynb](Day0b_NEON_Simulation_Tutorial.ipynb)."
   ]
  },
  {
   "cell_type": "code",
   "execution_count": 15,
   "id": "7925a3c6-b7ec-4d77-87af-ea1f7656b35b",
   "metadata": {},
   "outputs": [
    {
     "name": "stdout",
     "output_type": "stream",
     "text": [
      "\n",
      "ctsmworkshop2022.cesm.cloud:\n",
      "                                                                               Req'd  Req'd   Elap \n",
      "Job id               Username Queue    Name                 SessID NDS   TSK   Memory Time Use S Time \n",
      "-------------------- -------- -------- -------------------- ------ ----- ----- ------ ----- - -----\n",
      "1056                 negins   build    qcmd                 --         1     8     -- 60:00 R 60:00\n"
     ]
    }
   ],
   "source": [
    "qstat -u ${USER}"
   ]
  },
  {
   "cell_type": "code",
   "execution_count": 16,
   "id": "43ac0320-178f-4add-b473-2b1aaeefe863",
   "metadata": {},
   "outputs": [
    {
     "name": "stdout",
     "output_type": "stream",
     "text": [
      "2022-05-25 19:09:13: model execution starting 719\n",
      " ---------------------------------------------------\n",
      "2022-05-25 19:30:51: model execution success 719\n",
      " ---------------------------------------------------\n",
      "2022-05-25 19:30:51: case.run success 719\n",
      " ---------------------------------------------------\n",
      "2022-05-25 19:30:52: st_archive starting 720\n",
      " ---------------------------------------------------\n",
      "2022-05-25 19:30:54: st_archive success 720\n",
      " ---------------------------------------------------\n"
     ]
    }
   ],
   "source": [
    "tail  ~/scratch/CLM-NEON-phenologychange/KONZ.transient/CaseStatus"
   ]
  },
  {
   "cell_type": "markdown",
   "id": "2f13ba0b-cfea-4c9d-99a5-97b62928b52f",
   "metadata": {},
   "source": [
    "Next, we're going to have a quick look at changes in LAI and GPP from our phenology changes to make sure the changes worked as intended. After ensuring that the code modifications worked and do not have any bugs, we suggest saving your code (see section 5) and running an AD and post-AD spinup to generate a new initial conditions file.\n",
    "\n",
    "<div class=\"alert alert-block alert-warning\">\n",
    "\n",
    "<b>WARNING!</b> \n",
    "    \n",
    "We strongly recommend running a full spinup after making code modifications (see example in [Day2a_GenericSinglePoint.ipynb](Day2a_GenericSinglePoint.ipynb)) before evaluating new code development. \n",
    "</div>"
   ]
  },
  {
   "cell_type": "markdown",
   "id": "8c145283-1fdc-476b-9cb7-5e3ff7b7297a",
   "metadata": {},
   "source": [
    "## 5. Save your changes to your github branch"
   ]
  },
  {
   "cell_type": "markdown",
   "id": "963e57d6-de98-4474-843e-e1003dc952ac",
   "metadata": {},
   "source": [
    "When you are happy with your changes, make sure you have committed these changes and submitted them to your GitHub repository. \n",
    "\n",
    "Below, we walk you through the easiest way to do so.\n",
    "*****"
   ]
  },
  {
   "cell_type": "markdown",
   "id": "9e80f76a-d61d-45cf-bb60-7458dfb75180",
   "metadata": {
    "tags": []
   },
   "source": [
    "**First**, check the status of all files. The following command will will show all the files that have been modified."
   ]
  },
  {
   "cell_type": "code",
   "execution_count": 17,
   "id": "0488b42b-bae6-4593-8dfe-f2681bd32fdc",
   "metadata": {},
   "outputs": [
    {
     "name": "stdout",
     "output_type": "stream",
     "text": [
      "On branch phenology_change\n",
      "Changes not staged for commit:\n",
      "  (use \"git add <file>...\" to update what will be committed)\n",
      "  (use \"git restore <file>...\" to discard changes in working directory)\n",
      "\tmodified:   CNPhenologyMod.F90\n",
      "\n",
      "no changes added to commit (use \"git add\" and/or \"git commit -a\")\n"
     ]
    }
   ],
   "source": [
    "git status"
   ]
  },
  {
   "cell_type": "markdown",
   "id": "37d1c495-ec10-49ab-a0b1-5cd7f003589a",
   "metadata": {},
   "source": [
    "*****\n",
    "**Next**, add any file (or all files) to be saved.\n",
    "\n",
    "*Note that specifying a single file will add only that file. Using '.' will add all files.*"
   ]
  },
  {
   "cell_type": "code",
   "execution_count": 18,
   "id": "9728c2ff-87d6-41f9-91b5-d0b304f53251",
   "metadata": {},
   "outputs": [],
   "source": [
    "git add CNPhenologyMod.F90"
   ]
  },
  {
   "cell_type": "markdown",
   "id": "6a967e93-3afd-4ec8-90b4-27e6e99b3895",
   "metadata": {},
   "source": [
    "****\n",
    "**Then**, commit your changes (effectively saving them on version control) using a meaningful commit message:"
   ]
  },
  {
   "cell_type": "code",
   "execution_count": 19,
   "id": "fbb421e8-e848-444b-9857-b0780c3816ab",
   "metadata": {},
   "outputs": [
    {
     "name": "stdout",
     "output_type": "stream",
     "text": [
      "[phenology_change ff59e3121] Changing rain threshhold for leaf onset to 1mm\n",
      " 1 file changed, 1 insertion(+), 1 deletion(-)\n"
     ]
    }
   ],
   "source": [
    "git commit -m \"Changing rain threshhold for leaf onset to 1mm\""
   ]
  },
  {
   "cell_type": "markdown",
   "id": "fda9a325-2bcf-445f-b7a1-4976436cb3d3",
   "metadata": {},
   "source": [
    "****\n",
    "**Last**, you can compare the original (unmodified) branch to your modified branch to see the submitted changes:"
   ]
  },
  {
   "cell_type": "code",
   "execution_count": 20,
   "id": "9706d0ad-981b-483b-910d-76592cab8388",
   "metadata": {
    "tags": []
   },
   "outputs": [
    {
     "name": "stdout",
     "output_type": "stream",
     "text": [
      "M\tsrc/biogeochem/CNPhenologyMod.F90\n"
     ]
    }
   ],
   "source": [
    "git diff --name-status origin/master phenology_change"
   ]
  },
  {
   "cell_type": "markdown",
   "id": "c091debe-ba7e-4ec0-a9c9-93bf3fc93fd5",
   "metadata": {},
   "source": [
    "<div class=\"alert alert-success\">\n",
    "  <strong>Congratulations!</strong> Now you have successfully changed the rain threshhold for leaf onset, run a simulation with the updated code, and saved your code to your local branch.\n",
    "</div>\n",
    "\n",
    "The next tutorial, [Day2d_CodeModification_Visualization.ipynb](Day2d_CodeModification_Visualization.ipynb), guides you through visualizing the output of original simulation compared to the modified code for KONZ site. It also helps you to compare both simulations with evaluation data from the NEON flux tower. \n",
    "\n",
    "**Go To [Day2d_CodeModification_Visualization.ipynb](Day2d_CodeModification_Visualization.ipynb)**"
   ]
  },
  {
   "cell_type": "markdown",
   "id": "e8c10b43-9869-4425-be27-2dbfbc38803b",
   "metadata": {},
   "source": [
    "## 6. [Optional] Sharing your changes with others & pushing changes back to your GitHub Repository\n",
    "*Note: If you plan to contribute your code developments to CTSM, you will need to use these optional steps to share your code with CTSM model developers. If you already have a GitHub account and have a CTSM fork, start at step 6.3.*\n",
    "\n",
    "So far, we made a code change and saved it to a `local` branch. In reality, we usually want/need to push our changes back to GitHub so our collaborators can see, comment, or use our code modifications. \n",
    "Imagine saving your progress in a video game or in a Word document on a local computer. If you use a different computer, you can not load your progress. However, if you save your video game progress or your Word document on the cloud, you can easily access it from any computer. Nowadays, video games save your progress via a profile/account and Word documents can be saved and shared through Google or Dropbox accounts. \n",
    "\n",
    "Similarly, **you need to create an account on GitHub to be able to share your changes** so:\n",
    "- you can access your code and changes from anywhere.\n",
    "- you can share with collaborators. \n",
    "- you can contribute back to CTSM repository. \n",
    "\n",
    "### 6.1. Create a GitHub account\n",
    "\n",
    "Visit the [GitHub website](github.com) and create an account if you don't already one. You can skip step this if you already have a GitHub account. \n",
    "\n",
    "\n",
    "### 6.2. Create a fork from CTSM repository\n",
    "You don't have access to write directly to the main CTSM repository (that right is reserved for the CTSM main software engineers), so you need to create your own copy of the repository to save your changes. For this, you will fork the CTSM repository.\n",
    "\n",
    "<div class=\"alert alert-info\">\n",
    "  <strong> NOTE: </strong> \n",
    "    A fork is a copy of a repository. \"Fork\"ing a repository is similar to creating a branch in that it allows you to freely experiment with changes without affecting the original project. However, we recommend using your CTSM fork as an unmodified copy of CTSM and making changes using branches.\n",
    "</div>\n",
    "\n",
    "#### To Do: Create a fork\n",
    "You can create your own fork of the CTSM repository by using the fork button in the upper right corner of the CTSM reository page.\n",
    "\n",
    "- Login to your GitHub account.\n",
    "- Navigate to the original [CTSM repository](https://github.com/ESCOMP/CTSM) (escomp/CTSM).\n",
    "- Use the `fork` button to create a fork of CTSM repository in your account\n",
    "\n",
    "![image3.png](https://github.com/NCAR/CTSM-Tutorial-2022/raw/main/images/fork_image.png)\n",
    "\n",
    "\n",
    "Your forked repository will be under your account name:\n",
    "\n",
    "https://github.com/YOUR-USER-NAME/CTSM\n",
    "\n",
    "For example, for the username (negin513) the forked repo is:\n",
    "\n",
    "https://github.com/negin513/CTSM\n",
    "\n",
    "You can make any modifications you'd like to your forked repository. Note that you only have to fork a respository once -- it will always be connected to your GitHub account unless you delete it.\n",
    "\n",
    "### 6.3. Pushing your changes to the outside world:\n",
    "To start, connect your forked repository to the computing system you are using. You can do so by using the following:\n",
    "\n",
    "<div class=\"alert alert-block alert-danger\">\n",
    "\n",
    "<b>WARNING!</b> \n",
    "    \n",
    "Please replace \"YOUR_USER_NAME\" in the code below with your own GitHub username (created in step 6.1).\n",
    "</div>"
   ]
  },
  {
   "cell_type": "code",
   "execution_count": null,
   "id": "8199e4b0-f584-4f98-bf3e-e06f2bcad4e0",
   "metadata": {},
   "outputs": [],
   "source": [
    "git remote add YOUR_USER_NAME https://github.com:YOUR_USER_NAME/CTSM.git"
   ]
  },
  {
   "cell_type": "markdown",
   "id": "2795462b-5098-436d-ba81-737cdd9633f9",
   "metadata": {},
   "source": [
    "Finally, push your changes to the remote repository. Note that 'pushing' the changes makes the changes visible to anyone who looks at your GitHub repository, including your collaborators."
   ]
  },
  {
   "cell_type": "code",
   "execution_count": null,
   "id": "de521a1a-969e-4288-a13a-c5901c64a36c",
   "metadata": {},
   "outputs": [],
   "source": [
    "git push -u YOUR_USER_NAME phenology_change"
   ]
  },
  {
   "cell_type": "markdown",
   "id": "8e2b518c-b5f2-4c2b-8608-c76a7eace5c4",
   "metadata": {},
   "source": [
    "To see your changes now you can go to your fork and look for your 'phenology_change' branch on [github.com](github.com). You will be able to see your recent changes."
   ]
  },
  {
   "cell_type": "markdown",
   "id": "56b1a922-2416-479d-84bd-c1a866863c11",
   "metadata": {},
   "source": [
    "### 6.4 Submitting a Pull Request to CTSM\n",
    "\n",
    "In the future, you might want your code changes to be included on the CTSM main branch. The benefits of this are that everyone who forks CTSM can see and use your code modifications. Additionally, this will ensure that you do not need to continually update and resolve conflicts when new code developments are added to code you are using. We recommend talking with CTSM scientists and software engineers early in your code development process so that we are aware of your proposed code changes and can let you know about any potential conflicting code developments that are also in progress. \n",
    "\n",
    "To contribute your changes to the main CTSM respository, you will need to submit a GitHub Pull Request. \n",
    "\n",
    "Creating a Pull Request (PR) is easy and is a great way to contribute scientific changes to the community code.\n",
    "To create a PR:\n",
    "\n",
    "- Navigate to CTSM PR page on GitHub (https://github.com/ESCOMP/CTSM/pulls)\n",
    "- Next, click the `New pull request` button on the top right corner of the page. \n",
    "- Then, click on `compare across forks` link. \n",
    "- Choose your base and head repository and branches. \n",
    "    - In the `head repository` choose your own fork. \n",
    "- Next, click on the `Create pull request` green button.\n",
    "- In the \"Open a pull request\" page, confirm the forks and branches being used for the pull request. On the left you should see \"base fork: ESCOMP/CTSM\" and \"base: master\". On the right you should see \"head fork: YOUR_USER_NAME/CTSM\" and \"compare: MYBRANCH\" (where YOUR_USER_NAME will be your git username, and MYBRANCH will be the branch you'd like brought to the main CTSM code base).\n",
    "- Enter a short but descriptive title for this pull request\n",
    "- In the comment box, give a more detailed description of this pull request\n",
    "- Click the green \"Create pull request\" button\n",
    "\n",
    "Our scientists and software engineers will review the code and start a conversation with you about the modifications you made. Most times they will ask for clarification and modifications. If the code meets CTSM scientific and software engineering standards, they will eventually merge it with the CTSM main branch.  You can see some [active pull tequests on GitHub](https://github.com/ESCOMP/CTSM/pulls).\n",
    "\n",
    "**Resources:**\n",
    "You can find more resources the CTSM wiki on: \n",
    "- [Code development and suggested workflows with CTSM and git](https://github.com/ESCOMP/CTSM/wiki/Tutorials);\n",
    "- [Coding guidelines](https://github.com/ESCOMP/CTSM/wiki/CTSM-coding-guidelines); and \n",
    "- [Common problems to be aware of](https://github.com/ESCOMP/CTSM/wiki/List-of-common-problems)"
   ]
  },
  {
   "cell_type": "code",
   "execution_count": null,
   "id": "118d05b0-611d-4615-90f5-01d35d79ded0",
   "metadata": {},
   "outputs": [],
   "source": []
  }
 ],
 "metadata": {
  "kernelspec": {
   "display_name": "Bash",
   "language": "bash",
   "name": "bash"
  },
  "language_info": {
   "codemirror_mode": "shell",
   "file_extension": ".sh",
   "mimetype": "text/x-sh",
   "name": "bash"
  }
 },
 "nbformat": 4,
 "nbformat_minor": 5
}
