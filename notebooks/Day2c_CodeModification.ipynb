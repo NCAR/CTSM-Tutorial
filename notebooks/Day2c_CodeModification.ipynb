{
 "cells": [
  {
   "cell_type": "markdown",
   "id": "c02b043a-7a7e-43bf-9d87-2e1320077fb2",
   "metadata": {
    "tags": []
   },
   "source": [
    "# Tutorial 2c - *Code Modifications (Workflow + Simulation)*\n",
    "\n",
    "This tutorial is an introduction to familiarizing yourself with **Git** and **Github** workflow and terminology and making simple code modifications. Below, you will find steps to:\n",
    "1. Check your cloned CTSM repository for any changes to date\n",
    "2. Create a Git branch for code modifications\n",
    "3. Make code modifications\n",
    "4. Run CTSM with new code modifications\n",
    "5. Save changes to your GitHub branch\n",
    "6. [optional] Share your changes with others\n",
    "\n",
    "Once you have completed this tutorial, you can compare the changes from the new code to the original in tutorial Day2d_CodeModification_Visualization.\n",
    "________________________\n",
    "<div>\n",
    "    <img src=\"https://git-scm.com/images/logos/downloads/Git-Icon-1788C.png\" \n",
    "         style=\"float:left; padding-right:10px; width:60px; height:60px;\" />\n",
    "</div>\n",
    "<strong>Git</strong> is an open-source version control software to track your changes in the source code.\n",
    "\n",
    "<br><br>\n",
    "\n",
    "\n",
    "<div>\n",
    "    <img src=\"https://github.com/NCAR/CTSM-Tutorial-2022/raw/main/images/github.png\" \n",
    "         style=\"float:left; padding-right:10px; width:60px; height:60px;\" />\n",
    "</div>\n",
    "<strong>GitHub</strong> provides a centralized online service to host the source code and version control using Git.\n",
    "<br><br>\n",
    "\n",
    "\n",
    "\n",
    "If you want to know more about Git and GitHub, here is a tutorial you can use: \n",
    "https://swcarpentry.github.io/git-novice/\n",
    "\n",
    "<div class=\"alert alert-block alert-info\">\n",
    "\n",
    "<b> TIP:</b> Before attempting any code modifications on your own, familiarize yourself with the suggested CTSM workflow with Git that we'll go over here \n",
    "\n",
    "</div>\n",
    "\n",
    "In this tutorial, we assume you have already cloned CTSM repository. If not, please follow the [Day0a_GitStarted.ipynb](Day0a_GitStarted.ipynb) to do this. \n",
    "\n",
    "It is also recommended that you go through the [Day0b_NEON_Simulation_Tutorial.ipynb](Day0b_NEON_Simulation_Tutorial.ipynb) tutorial and run simulations for KONZ so that you can compare the results of the code we'll modify here with the original code. \n"
   ]
  },
  {
   "cell_type": "markdown",
   "id": "022d4658-b2aa-45f1-8e43-e4f467a45194",
   "metadata": {},
   "source": [
    "## 1. Check the cloned CTSM repository\n",
    "\n",
    "First navigate to your cloned CTSM repository:\n"
   ]
  },
  {
   "cell_type": "code",
   "execution_count": 1,
   "id": "18d5acee-519a-47f3-97fc-25dd309a3d88",
   "metadata": {},
   "outputs": [],
   "source": [
    "cd ~/CTSM/"
   ]
  },
  {
   "cell_type": "markdown",
   "id": "25ea4ad3-cbfd-47c2-9454-0f0a788dfeb3",
   "metadata": {},
   "source": [
    "Next, check the status of your clone on the cloud. \n",
    "The command below shows if you have already made any changes to your code in the cloud:"
   ]
  },
  {
   "cell_type": "code",
   "execution_count": 2,
   "id": "6173319d-6920-4c9f-adc1-7758728a13da",
   "metadata": {},
   "outputs": [
    {
     "name": "stdout",
     "output_type": "stream",
     "text": [
      "On branch master\n",
      "Your branch is up to date with 'origin/master'.\n",
      "\n",
      "nothing to commit, working tree clean\n"
     ]
    }
   ],
   "source": [
    "git status"
   ]
  },
  {
   "cell_type": "markdown",
   "id": "14b38c55-bf8f-4cab-89c1-667927e68b47",
   "metadata": {},
   "source": [
    "You will likely see this message: \"Your branch is up to date with 'origin/master'.\" Note that if you have already made changes to the model code, it will show up as the output of `git status`. \n",
    "\n",
    "To check what changes you have made to the code at any point, you can use the following command:"
   ]
  },
  {
   "cell_type": "code",
   "execution_count": 3,
   "id": "c96ce683-7e63-4c9f-b0b1-a31e679983c1",
   "metadata": {},
   "outputs": [],
   "source": [
    "git diff"
   ]
  },
  {
   "cell_type": "markdown",
   "id": "b8663353-b6a5-4a41-99cf-12844dea404d",
   "metadata": {},
   "source": [
    "If you have been following this tutorial consecutively, you should have a clean copy of the repository and will not see any differences. "
   ]
  },
  {
   "cell_type": "markdown",
   "id": "67df694b-aef1-46fa-a058-0c585d2c1b14",
   "metadata": {},
   "source": [
    "## 2. Create a branch for your code modifications\n",
    "\n",
    "Now we want to create a git branch for our code modifications. A branch in GitHub terminology is a way to keep making modifications and developing new features to the codes and not changing the main part of the code. With a branch, we are making another line of development for the code without changing anything in the `main` branch, where the original code is located.\n",
    "\n",
    "\n",
    "<div class=\"alert alert-block alert-info\">\n",
    "<b>NOTE: </b> \n",
    "    A <code>branch</code> of a repository is a copy of the original <code>main</code> branch (similar to branches in a tree). Branches allow you to preserve the main code (the 'main'  branch), make a copy (a new branch) and then work within that new branch.\n",
    "</div>\n",
    "\n",
    "Next, let's create a branch for your development called (`phenology_change`):"
   ]
  },
  {
   "cell_type": "code",
   "execution_count": null,
   "id": "788823ad-a1a1-4d7e-a20c-ae8f8f041c6b",
   "metadata": {},
   "outputs": [],
   "source": [
    "git checkout -b phenology_change"
   ]
  },
  {
   "cell_type": "code",
   "execution_count": null,
   "id": "1dd26c2b-b6e6-4baf-89bd-568030404aee",
   "metadata": {},
   "outputs": [],
   "source": [
    "git status"
   ]
  },
  {
   "cell_type": "markdown",
   "id": "2eb73ea7-db22-4379-a14a-96b967393eba",
   "metadata": {},
   "source": [
    "<div class=\"alert alert-block alert-info\">\n",
    "<b>NOTE: </b> \n",
    " GitHub branches give us the flexibility to work on the same code base at the same time while keep tracking of who and where things have changed. When playing a video game, we save our progress at checkpoints, so in future we can go back to these points and start from specific part of the game. Similarly, Git and Github give us the flexibility to save snapshots of the code, so we can revert back to these snapshots. The image below shows how different branches might be developed at the same time and merged back with each other.\n",
    "</div>\n",
    "\n",
    "![github](https://nvie.com/img/main-branches@2x.png)"
   ]
  },
  {
   "cell_type": "markdown",
   "id": "d6513804-29de-46a1-9176-fc3d90022590",
   "metadata": {},
   "source": [
    "## 3- Make your code modifications\n",
    "\n",
    "Now that you have a`branch` of the code, you can start changing the code. \n",
    "\n",
    "In this tutorial, we are going to change the rain threshhold for leaf onset and compare the results for Konza Prairie Biological Station (KONZ).\n",
    "\n",
    "\n",
    "<div class=\"alert alert-block alert-warning\">\n",
    "\n",
    "<b> WARNING: </b> If you are interested in comparing the results from modified code with original code, you should make sure you have already run the original CTSM code base for your tower of interest (e.g. KONZ). \n",
    "\n",
    "</div>\n",
    "\n",
    "\n",
    "To find more information about KONZ site, please NEON's website: https://www.neonscience.org/field-sites/konz\n",
    "    \n",
    "    \n",
    "**Quesions:** \n",
    "- Where is Konza Prairie Biological Station located? \n",
    "- What kind of behavior do we expect by changing the rain threshhold for leaf onset in this site? \n",
    "    \n",
    "The codes of CTSM model are located under `src` directory.\n",
    "    \n",
    "You can navigate to `src` directory and check the content of it:"
   ]
  },
  {
   "cell_type": "code",
   "execution_count": null,
   "id": "6d746176-a453-4db4-926b-e5f3f500c21e",
   "metadata": {},
   "outputs": [],
   "source": [
    "cd ~/CTSM/src"
   ]
  },
  {
   "cell_type": "code",
   "execution_count": null,
   "id": "d706ac7e-2db0-4f32-b218-7a6e2182cd77",
   "metadata": {},
   "outputs": [],
   "source": [
    "ls "
   ]
  },
  {
   "cell_type": "markdown",
   "id": "1a5fbdc4-5c4c-45ca-b693-999b0bb489c2",
   "metadata": {},
   "source": [
    "As you can see there are multiple directories and multiple files listed in this directory.\n",
    "\n",
    "<div class=\"alert alert-success\">\n",
    "  <strong>Fun Fact:</strong> There is roughly ~252,919 lines of Fortran code in CTSM repository. \n",
    "</div>"
   ]
  },
  {
   "cell_type": "markdown",
   "id": "7967208c-fc90-4f80-b0e1-073a1ff1e30d",
   "metadata": {},
   "source": [
    "In this example, we are making these code modifications in `src/biogeochem/CNPhenologyMod.F90`. \n",
    "    \n",
    "First, let's navigate to this directory:"
   ]
  },
  {
   "cell_type": "code",
   "execution_count": null,
   "id": "6069b8d2-dab3-45e8-bcbb-7132a9a6d4d3",
   "metadata": {},
   "outputs": [],
   "source": [
    "cd ~/CTSM/src/biogeochem\n",
    "pwd"
   ]
  },
  {
   "cell_type": "markdown",
   "id": "24d9a9ad-8949-4319-aa39-50c3ce432371",
   "metadata": {},
   "source": [
    "List all the files in this directory: "
   ]
  },
  {
   "cell_type": "code",
   "execution_count": null,
   "id": "abc3c9fd-f08e-43d3-b77e-c1e80279e105",
   "metadata": {},
   "outputs": [],
   "source": [
    "ls"
   ]
  },
  {
   "cell_type": "markdown",
   "id": "f279eb73-7b15-49bd-b2f8-8ad4ea7bfa7b",
   "metadata": {},
   "source": [
    "Here we are modifying `rain_threshold` in `~/CTSM/src/biogeochem/CNPhenologyMod.F90`.\n",
    "\n",
    "From your side bar open up the files you'd like to modify by double clicking on the file.\n",
    "\n",
    "\n",
    "<div class=\"alert alert-info\">\n",
    "\n",
    "<b>TIP:</b>  You can do this with any text editor. You can either use a terminal to open up <code>vim</code> or <code>emacs</code>, or you can do the following using JupyterLab sidebar:\n",
    "\n",
    "</div>\n",
    "\n",
    "\n",
    "\n",
    " Navigate to `CTSM/src/biogeochem/CNPhenologyMod.F90` and open up the `CNPhenologyMod.F90` file by double clicking on the file:\n",
    "\n",
    "![image1.png](https://github.com/NCAR/CTSM-Tutorial-2022/raw/main/images/file_listing_1.png)\n",
    "\n",
    "\n",
    "\n",
    "It will open up the file under another tab:\n",
    "\n",
    "![image2.png](https://github.com/NCAR/CTSM-Tutorial-2022/raw/main/images/file_listing_2.png)"
   ]
  },
  {
   "cell_type": "markdown",
   "id": "4381349e-9592-4f5a-8823-906e25d314ad",
   "metadata": {},
   "source": [
    "This will open up a Fortran code, which you can read and edit. "
   ]
  },
  {
   "cell_type": "markdown",
   "id": "3149a617-99ec-414b-ab95-fec2c4fec062",
   "metadata": {},
   "source": [
    "**Question:**\n",
    "* Can you find what is the current value of `rain_threshhold`? You can look through the code to find this value. \n",
    "\n",
    "**Answer:**\n",
    "\n",
    "The current value of `rain_threshold` is 20mm as specified in the line 1349 in the code:\n",
    "\n",
    "```\n",
    "rain_threshold = 20._r8 \n",
    "```\n",
    "\n",
    "_______\n",
    "Now you can change the `rain_threshhold` to a lower or a higher value. \n",
    "\n",
    "For example:  the following modification will set the rain threshhold for leaf onset to 1mm. \n",
    "```\n",
    "rain_threshold = 1._r8 \n",
    "\n",
    "```\n",
    "\n",
    "Now, **close and save** this file and navigate back to your notebook. Make sure to save before closing the file.\n",
    "\n",
    "\n",
    "\n",
    "**Question:**\n",
    "* How do you think changing this value will impact your simulations?\n",
    "\n",
    "---\n",
    "\n",
    "Let's quickly check that our code modes are reflected using git"
   ]
  },
  {
   "cell_type": "code",
   "execution_count": null,
   "id": "daabd410-cbd9-4d96-9c8f-df0bdf078327",
   "metadata": {},
   "outputs": [],
   "source": [
    "git diff ~/CTSM/src/biogeochem/CNPhenologyMod.F90"
   ]
  },
  {
   "cell_type": "markdown",
   "id": "afe91764-af42-4acf-b361-5ace0df9926c",
   "metadata": {},
   "source": [
    "You should see that changes you made to `rain_threshold` reflected above.\n",
    "\n",
    "\n",
    "## 4- Run CTSM simulation using your modifications:\n",
    "In this step, you will test your modifications by running your own code.\n",
    "\n",
    "You can do so by either:\n",
    "1. Using `./run_neon.py` script. (easiest method)\n",
    "\n",
    "2. Following the steps for running an unsuported single point case similar to [Day2a_GenericSinglePoint.ipynb](Day2a_GenericSinglePoint.ipynb).\n",
    "\n",
    " \n",
    "<div class=\"alert alert-info\">\n",
    "  <strong> Reminder: </strong> <code> ./run_neon.py </code> is basically a user-friendly script that simplifies all the steps of running neon cases into one command.\n",
    "</div>\n",
    "\n",
    "\n",
    "Now, let's run CTSM simulation for our NEON site (e.g. KONZ) with these modifications. We are saving the output of this simulations in `~/scratch/CLM-NEON-phenologychange`. Creating a new output-root like this will allow us to test the changes at several sites."
   ]
  },
  {
   "cell_type": "code",
   "execution_count": null,
   "id": "1261a908-af43-4e37-b9a9-45e9dfc5b6cd",
   "metadata": {},
   "outputs": [],
   "source": [
    "qcmd -- run_neon --neon-sites KONZ --output-root ~/scratch/CLM-NEON-phenologychange --overwrite"
   ]
  },
  {
   "cell_type": "markdown",
   "id": "2f13ba0b-cfea-4c9d-99a5-97b62928b52f",
   "metadata": {},
   "source": [
    "<div class=\"alert alert-block alert-warning\">\n",
    "\n",
    "<b>WARNING!</b> \n",
    "    \n",
    "You should really do a full spinup after making code modifications.  But for this examples we're just going to have a quick look at changes in LAI and GPP that results from our phenology changes. This is a quick way to make sure the changes worked as intended BEFORE running an AD and post-AD spinup to generate a new initial conditions file.\n",
    "</div>"
   ]
  },
  {
   "cell_type": "markdown",
   "id": "8c145283-1fdc-476b-9cb7-5e3ff7b7297a",
   "metadata": {},
   "source": [
    "## 5- Save your changes to your github branch"
   ]
  },
  {
   "cell_type": "markdown",
   "id": "963e57d6-de98-4474-843e-e1003dc952ac",
   "metadata": {},
   "source": [
    "When you are happy with your changes, you should make sure you have commited these changes and submitted them to your GitHub repository. \n",
    "\n",
    "Easiest way to do so:"
   ]
  },
  {
   "cell_type": "markdown",
   "id": "9e80f76a-d61d-45cf-bb60-7458dfb75180",
   "metadata": {},
   "source": [
    "\n",
    "First run the following to find all the files that has been modified. You should see all the modified files here. "
   ]
  },
  {
   "cell_type": "code",
   "execution_count": null,
   "id": "0488b42b-bae6-4593-8dfe-f2681bd32fdc",
   "metadata": {},
   "outputs": [],
   "source": [
    "git status"
   ]
  },
  {
   "cell_type": "markdown",
   "id": "37d1c495-ec10-49ab-a0b1-5cd7f003589a",
   "metadata": {},
   "source": [
    "Next add these file (or all files) to be saved:"
   ]
  },
  {
   "cell_type": "code",
   "execution_count": null,
   "id": "6ffacce0-e5e9-4f5d-a14f-78e8beb22e9c",
   "metadata": {},
   "outputs": [],
   "source": []
  },
  {
   "cell_type": "code",
   "execution_count": null,
   "id": "9728c2ff-87d6-41f9-91b5-d0b304f53251",
   "metadata": {},
   "outputs": [],
   "source": [
    "git add . "
   ]
  },
  {
   "cell_type": "markdown",
   "id": "6a967e93-3afd-4ec8-90b4-27e6e99b3895",
   "metadata": {},
   "source": [
    "Next commit your changes using a meaningful commit message:"
   ]
  },
  {
   "cell_type": "code",
   "execution_count": null,
   "id": "fbb421e8-e848-444b-9857-b0780c3816ab",
   "metadata": {},
   "outputs": [],
   "source": [
    "git commit -m \"Changing rain threshhold for leaf onset to 1mm\""
   ]
  },
  {
   "cell_type": "markdown",
   "id": "fda9a325-2bcf-445f-b7a1-4976436cb3d3",
   "metadata": {},
   "source": [
    "You can check your branch vs. the main branch to see the changes the submitted changes:"
   ]
  },
  {
   "cell_type": "code",
   "execution_count": null,
   "id": "9706d0ad-981b-483b-910d-76592cab8388",
   "metadata": {},
   "outputs": [],
   "source": [
    "git diff phenology_change origin/main"
   ]
  },
  {
   "cell_type": "markdown",
   "id": "c091debe-ba7e-4ec0-a9c9-93bf3fc93fd5",
   "metadata": {},
   "source": [
    "<div class=\"alert alert-success\">\n",
    "  <strong>Congratulations!</strong> Now you have successfully chande the rain threshhold for leaf onset and run the simulations for it. For visualizing the results, please check the next tutorial. \n",
    "</div>\n",
    "\n",
    "\n",
    "Next, you can visualize the output of original simulation vs the modified code for KONZ site and compare it with evaluation files. \n",
    "\n",
    "In the next tutorial, we are going to work on visualizing the results of the modified code.  \n",
    "\n",
    "**Go To [Day2d_CodeModification_Visualization.ipynb](Day2d_CodeModification_Visualization.ipynb)**"
   ]
  },
  {
   "cell_type": "markdown",
   "id": "e8c10b43-9869-4425-be27-2dbfbc38803b",
   "metadata": {},
   "source": [
    "## [Optional] 6- Sharing your changes with others and pushing back your changes to GitHub Repository:\n",
    "\n",
    "So far, we have made some changes and saved it a `local` branch; however, in real-life we usually want/need to push our changes back to GitHub so our collaborators can see and comment on our code or use our codes. \n",
    "Imagine saving your progress in a video game on a local computer, if you use another computer you can not load your progress in another computer. However, if you save your video game progress on a cloud, you can easily access it anywhere. Nowadays, video games save your progress via a profile/account. \n",
    "\n",
    "Similarly, **you need to create an account on GitHub to be able to push back your changes** so:\n",
    "- you can access it from anywhere.\n",
    "- you can share it with collaborators. \n",
    "- you can contribute back to CTSM repository. \n",
    "\n",
    "### 6-1 : Create a fork from CTSM repository\n",
    "\n",
    "First, you need to create an account on [GitHub](github.com), if you don't already have an account there. Skip this if you already have an account on GitHub. \n",
    "\n",
    "\n",
    "\n",
    "### 6-2 : Create a fork from CTSM repository\n",
    "For saving your progress via GitHub you need to create your own fork of the CTSM repository.You probably don't have access to write directly to the main CTSM repository (that right is reserved for the CTSM main software engineers). Therefore, you need your own copy of the repository to push your changes to:\n",
    "\n",
    "<div class=\"alert alert-info\">\n",
    "  <strong> NOTE: </strong> \n",
    "    A fork is a copy of a repository. \"Fork\"ing a repository allows you to freely experiment with changes without affecting the original project. A normal user will not have the access to write to the CTSM original repository. Therefore, you need to create your own repository by creating your own fork of the original repository to push your changes.\n",
    "</div>\n",
    "\n",
    "You can create your own fork of the CTSM repository by using the fork button in the upper right corner of the CTSM reository page.\n",
    "\n",
    "- Login to your GitHub account.\n",
    "- Navigate to the original [CTSM repository](https://github.com/ESCOMP/CTSM) (escomp/CTSM).\n",
    "- Use the `fork` button to create a fork of CTSM repository in your accoun\n",
    "\n",
    "![image3.png](https://github.com/NCAR/CTSM-Tutorial-2022/raw/main/images/fork_image.png)\n",
    "\n",
    "\n",
    "Your forked repository will be under your account name:\n",
    "\n",
    "https://github.com/YOUR-USER-NAME/CTSM\n",
    "\n",
    "For example, for the username (negin513) the forked repo is:\n",
    "\n",
    "https://github.com/negin513/CTSM\n",
    "\n",
    "You can make any modifications you'd like to your forked repository.\n",
    "\n",
    "### 6-3: Pushing your changes to the outside world:\n",
    "Now you have to connect your forked repository to this machine. You can do so by using the following:\n",
    "\n",
    "<div class=\"alert alert-block alert-danger\">\n",
    "\n",
    "<b>WARNING!</b> \n",
    "    \n",
    "Please replace \"YOUR_USER_NAME\" with your own GitHub username that you create in step 6-0 for the code below.\n",
    "</div>"
   ]
  },
  {
   "cell_type": "code",
   "execution_count": null,
   "id": "8199e4b0-f584-4f98-bf3e-e06f2bcad4e0",
   "metadata": {},
   "outputs": [],
   "source": [
    "git remote add YOUR_USER_NAME git@github.com:YOUR_USER_NAME/CTSM.git"
   ]
  },
  {
   "cell_type": "code",
   "execution_count": null,
   "id": "190c16ee-b24b-4ad5-a5ff-cbd928e1217c",
   "metadata": {},
   "outputs": [],
   "source": [
    "Finally push your changes to the remote repository:"
   ]
  },
  {
   "cell_type": "code",
   "execution_count": null,
   "id": "de521a1a-969e-4288-a13a-c5901c64a36c",
   "metadata": {},
   "outputs": [],
   "source": [
    "git push -u YOUR_USER_NAME phenology_change"
   ]
  },
  {
   "cell_type": "markdown",
   "id": "8e2b518c-b5f2-4c2b-8608-c76a7eace5c4",
   "metadata": {},
   "source": [
    "To see your changes now you can go to your own fork and your own branch on [github.com](github.com) and see your recent changes.\n",
    "\n"
   ]
  },
  {
   "cell_type": "markdown",
   "id": "56b1a922-2416-479d-84bd-c1a866863c11",
   "metadata": {},
   "source": [
    "### 6-4: Submitting a Pull Request:\n",
    "\n",
    "In future, you might want to get your changes back to CTSM main branch, you will need to submit a GitHub Pull Request. \n",
    "\n",
    "Creating a Pull Request (PR) is easy and is a great way to contribute scientific changes to the community code.\n",
    "To create a PR:\n",
    "\n",
    "- Navigate to CTSM PR page on GitHub (https://github.com/ESCOMP/CTSM/pulls)\n",
    "- Next, click the `New pull request` button on the top right corner of the page. \n",
    "- Next, click on `compare accross forks`. \n",
    "- Choose your base and head repository and branches. \n",
    "- In the `head repository` choose your own fork. \n",
    "- Next, click on `Create pull request` green button.\n",
    "- In the \"Open a pull request\" page, confirm the forks and branches being used for the pull request. On the left you should see \"base fork: ESCOMP/CTSM\" and \"base: master\". On the right you should see \"head fork: YOUR_USER_NAME/CTSM\" and \"compare: MYBRANCH\" (where YOUR_USER_NAME will be your git username, and MYBRANCH will be the branch you'd like brought to master).\n",
    "- Enter a short but descriptive title for this pull request\n",
    "- In the comment box, give a more detailed description of this pull request\n",
    "- Click the green \"Create pull request\" button\n",
    "\n",
    "Our scientists and software engineers can review the code and merge it CTSM main branch. "
   ]
  }
 ],
 "metadata": {
  "kernelspec": {
   "display_name": "Bash",
   "language": "bash",
   "name": "bash"
  },
  "language_info": {
   "codemirror_mode": "shell",
   "file_extension": ".sh",
   "mimetype": "text/x-sh",
   "name": "bash"
  }
 },
 "nbformat": 4,
 "nbformat_minor": 5
}
