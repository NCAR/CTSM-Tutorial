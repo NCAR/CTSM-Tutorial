{
 "cells": [
  {
   "cell_type": "markdown",
   "metadata": {},
   "source": [
    "# Tutorial 2b: *Single-Point Visualizations*\n",
    "\n",
    "This tutorial is an introduction to analyzing results from a single-point simulation.  It uses results from the case you ran in the 2a Tutorial, but you don't have to wait for those runs to complete before doing this tutorial too. We've prestaged model results from this simulation in a shared directory. This way, you can get started on analyzing simulations results before your simulations finish running. We also ran this case for longer (10 years instead of 1), so that we have more data to work with.\n",
    "\n",
    "## In this tutorial\n",
    "\n",
    "The tutorial has several objectives: \n",
    "1. Increase familiarity with Jupyter Notebooks\n",
    "2. Increase knowledge of python packages and their utilities\n",
    "3. Visualize output from a single-point CTSM simulation.\n",
    "\n",
    "***\n",
    "\n",
    "*As in other visualization notebook, this should be run in a Python3 kernel*\n",
    "\n",
    "*We'll start by loading some packages*"
   ]
  },
  {
   "cell_type": "code",
   "execution_count": null,
   "metadata": {},
   "outputs": [],
   "source": [
    "import os\n",
    "\n",
    "import xarray as xr\n",
    "import functools\n",
    "import numpy as np\n",
    "import matplotlib.pyplot as plt\n",
    "\n",
    "%matplotlib inline"
   ]
  },
  {
   "cell_type": "markdown",
   "metadata": {},
   "source": [
    "<div class=\"alert alert-block alert-info\">\n",
    "\n",
    "<b>NOTE:</b>  This example largely uses features of xarray and \n",
    "    matplotlib packages. We won't go into the basics \n",
    "    of python or features in these packages, but there are lots of \n",
    "    resources to help get you started. Some of these are listed below. \n",
    "\n",
    "</div>\n",
    "\n",
    "- [NCAR python tutorial](https://ncar.github.io/python-tutorial/tutorials/yourfirst.html), which introduces python, the conda package manager, and more on github.\n",
    "- [NCAR ESDS tutorial series](https://ncar.github.io/esds/blog/tag/python-tutorial-series/), features several recorded tutorials on a wide variety of topics.\n",
    "- [GeoCAT examples](https://geocat-examples.readthedocs.io/en/latest/), with some nice plotting examples\n",
    "\n",
    "***\n",
    "\n",
    "## 1. Reading and formatting data\n",
    "\n",
    "### 1.1 Find the correct directories and file names"
   ]
  },
  {
   "cell_type": "code",
   "execution_count": null,
   "metadata": {},
   "outputs": [],
   "source": [
    "path = '/scratch/data/day2/'       # path to archived simulations\n",
    "case = 'I2000_CTSM_singlept'       # case name\n",
    "years = list(range(2001, 2011, 1)) # look at 10 years of data\n",
    "months = list(range(1, 13, 1))     # we want all months\n",
    "\n",
    "# build a list of file names based on the year and month\n",
    "file_names = [f\"{case}.clm2.h0.{str(year)}-{str(month).rjust(2, '0')}.nc\"\n",
    "              for year in years for month in months]\n",
    "\n",
    "# create their full path\n",
    "full_paths = [os.path.join(path, case, 'lnd/hist', fname) for fname in file_names]\n",
    "\n",
    "# print the last file in our list\n",
    "print(full_paths[-1])"
   ]
  },
  {
   "cell_type": "markdown",
   "metadata": {},
   "source": [
    "<div class=\"alert alert-block alert-info\">\n",
    "These are the raw history files that CTSM writes out.  \n",
    "By default, they include grid cell averaged monthly means for different state and flux variables.\n",
    "<br><br>\n",
    "Typically we post-process these data to generate single variable time series for an experiment. \n",
    "This means that the full time series of model output for each variable, like rain, air temperature, or latent heat flux, are each in their own file.\n",
    "A post-processing tutorial will be available at a later date, but for now we'll just read in the monthly history files described above.\n",
    "\n",
    "</div>"
   ]
  },
  {
   "cell_type": "markdown",
   "metadata": {},
   "source": [
    "### 1.2 Open files & load variables\n",
    "\n",
    "This is done with the xarray function `open_mfdataset`\n",
    "\n",
    "To make this go faster, we're going to preprocess the data so we're just reading the variables we want to look at.\n",
    "\n",
    "<div class=\"alert alert-block alert-info\">\n",
    "    <b>TIP:</b> If you want to look at other variables, the <b>fields</b> variable in the cell below is where you can modify what we're reading off of the CTSM and CTSM-FATES history files.\n",
    "</div>\n",
    "\n",
    "As in our Day 1 tutorial, we will begin by looking at 'all sky albedo', which is the ratio of reflected to incoming solar radiation (**FSR/FSDS**).\n",
    "Other intereresting variables might include latent heat flux (**EFLX_LH_TOT**) or gross primary productivity (**GPP**). "
   ]
  },
  {
   "cell_type": "code",
   "execution_count": null,
   "metadata": {},
   "outputs": [],
   "source": [
    "# define the history variables to read in\n",
    "fields = ['FSR', 'FSDS', 'GPP', 'EFLX_LH_TOT', 'FCEV', 'FCTR', 'FGEV', 'ELAI', \n",
    "          'H2OSOI', 'HR', 'TBOT', 'TSOI']\n",
    "\n",
    "\n",
    "def preprocess(ds, fields):\n",
    "    '''Selects the variables we want to read in \n",
    "       Drops lndgrid because we are on a single point'''\n",
    "    \n",
    "    return ds[fields].sel(lndgrid=0)\n",
    "\n",
    "\n",
    "def fix_time(ds):\n",
    "    '''Does a quick fix to adjust time vector for monthly data'''\n",
    "    nmonths = len(ds.time)\n",
    "    yr0 = ds['time.year'][0].values\n",
    "    ds['time'] = xr.cftime_range(str(yr0), periods=nmonths, freq='MS')\n",
    "\n",
    "    return ds\n",
    "\n",
    "\n",
    "# open the dataset -- this may take a bit of time \n",
    "ds = fix_time(xr.open_mfdataset(full_paths, decode_times=True,\n",
    "                                preprocess=functools.partial(preprocess, fields=fields)))\n",
    "\n",
    "print('-- your data have been read in -- ')"
   ]
  },
  {
   "cell_type": "markdown",
   "metadata": {},
   "source": [
    "**Printing information about the dataset is helpful for understanding your data.**\n",
    "- *What dimensions do your data have?*\n",
    "- *What are the coordinate variables?*\n",
    "- *What variables are we looking at?*\n",
    "- *Is there other helpful information, or are there attributes in the dataset we should be aware of?*"
   ]
  },
  {
   "cell_type": "code",
   "execution_count": null,
   "metadata": {},
   "outputs": [],
   "source": [
    "# print information about the dataset\n",
    "ds"
   ]
  },
  {
   "cell_type": "markdown",
   "metadata": {},
   "source": [
    "You can also print information about the variables in your dataset. The example below prints information about one of the data variables we read in. You can modify this cell to look at some of the other variables in the dataset.\n",
    "\n",
    "*What are the units, long name, and dimensions of your data?*"
   ]
  },
  {
   "cell_type": "code",
   "execution_count": null,
   "metadata": {},
   "outputs": [],
   "source": [
    "ds.FSDS"
   ]
  },
  {
   "cell_type": "markdown",
   "metadata": {},
   "source": [
    "<div class=\"alert alert-block alert-info\">\n",
    "    <b>Tip:</b> In <i>xarray</i> you can access variables and coordinates using dot notation (<code>ds.ASA</code>) or using brackets with the variable or coordinates in quotes (<code> ds['ASA']</code>).\n",
    "</div>"
   ]
  },
  {
   "cell_type": "markdown",
   "metadata": {},
   "source": [
    "### 1.3 Adding derived variables to the dataset\n",
    "\n",
    "As in Day 1, we will calculate the all sky albedo (ASA). Remember from above that this is the ratio of reflected to incoming solar radiation (**FSR/FSDS**).\n",
    "We will add this as a new variable in the dataset and add appropriate metadata.\n",
    "\n",
    "*When doing calculations, it is important to avoid dividing by zero. Use the `.where` function for this purpose*"
   ]
  },
  {
   "cell_type": "code",
   "execution_count": null,
   "metadata": {},
   "outputs": [],
   "source": [
    "ds['ASA'] = ds.FSR/ds.FSDS.where(ds.FSDS > 0.0)\n",
    "ds['ASA'].attrs['units'] = 'unitless'\n",
    "ds['ASA'].attrs['long_name'] = 'All sky albedo'"
   ]
  },
  {
   "cell_type": "markdown",
   "metadata": {},
   "source": [
    "---\n",
    "## 2. Filtering and indexing data\n",
    "\n",
    "*xarray* allows for easy subsetting and filtering using the `.sel` and `.isel` functions. `.sel` filters to exact (or nearest neighbor) values, whereas `.isel` filters to an index.\n",
    "\n",
    "Let's filter to a specific date. Note that because our output was monthly and at one latitude and longitude point, this should only give use one point of data."
   ]
  },
  {
   "cell_type": "code",
   "execution_count": null,
   "metadata": {},
   "outputs": [],
   "source": [
    "# filter to specific date\n",
    "ds.sel(time=\"2001-01-01\")"
   ]
  },
  {
   "cell_type": "markdown",
   "metadata": {},
   "source": [
    "We can also filter to a date range using the `.slice` function."
   ]
  },
  {
   "cell_type": "code",
   "execution_count": null,
   "metadata": {},
   "outputs": [],
   "source": [
    "# filter by a date range\n",
    "ds.sel(time=slice('2001-01-01', '2001-06-01'))"
   ]
  },
  {
   "cell_type": "markdown",
   "metadata": {},
   "source": [
    "You can also filter to a whole year:"
   ]
  },
  {
   "cell_type": "code",
   "execution_count": null,
   "metadata": {},
   "outputs": [],
   "source": [
    "ds.sel(time='2001')"
   ]
  },
  {
   "cell_type": "markdown",
   "metadata": {},
   "source": [
    "If we wanted to select the first time instance, we would use the `.isel` function. Note that the `.values` function returns an array with just the values for `FSDS` in it."
   ]
  },
  {
   "cell_type": "code",
   "execution_count": null,
   "metadata": {},
   "outputs": [],
   "source": [
    "# grab the first value of the incident solar radiation\n",
    "ds.isel(time=0).FSDS.values"
   ]
  },
  {
   "cell_type": "markdown",
   "metadata": {},
   "source": [
    "We can also filter by other coordinates, like `levsoi`."
   ]
  },
  {
   "cell_type": "code",
   "execution_count": null,
   "metadata": {},
   "outputs": [],
   "source": [
    "ds.isel(levsoi=0)"
   ]
  },
  {
   "cell_type": "markdown",
   "metadata": {},
   "source": [
    "*For more information about filtering and indexing data see the [xarray documentation](https://xarray.pydata.org/en/v0.11.0/indexing.html).*"
   ]
  },
  {
   "cell_type": "markdown",
   "metadata": {},
   "source": [
    "---\n",
    "## 3. Plotting\n",
    "### 3.1 Easy plots using xarray and matplotlib\n",
    "\n",
    "As shown previously, *xarray* provides built-in plotting functions. For a quick inspection of albedo, we can use `.plot()` to see it:"
   ]
  },
  {
   "cell_type": "code",
   "execution_count": null,
   "metadata": {},
   "outputs": [],
   "source": [
    "ds.ASA.plot() ;"
   ]
  },
  {
   "cell_type": "markdown",
   "metadata": {},
   "source": [
    "<div class=\"alert alert-block alert-info\">\n",
    "    The package <i> xarray </i> automatically sets the x and y axis names based on the metadata/attributes that are set for each variable. Notice that above we set the <code>long_name</code> and <code>units</code> for our new variable <code>ASA</code>, which is how <i>xarray</i> knew what to put in the y-axis label.\n",
    "</div>\n",
    "\n",
    "\n",
    "We can also just plot one year of data (2001) from the simulation, selecting the year using the `.sel` function. Note we also changed the color and marker for this plot.\n",
    "\n",
    "*More plotting examples are on the [xarray web site](https://docs.xarray.dev/en/latest/user-guide/plotting.html)*"
   ]
  },
  {
   "cell_type": "code",
   "execution_count": null,
   "metadata": {},
   "outputs": [],
   "source": [
    "ds.ASA.sel(time='2001').plot(color=\"purple\", marker=\"o\") ;"
   ]
  },
  {
   "cell_type": "markdown",
   "metadata": {},
   "source": [
    "We can plot multiple graphs by using the keyword `ax`. Here, `axes` is an array we create consisting of a left and right axis created with `plt.subplots`."
   ]
  },
  {
   "cell_type": "code",
   "execution_count": null,
   "metadata": {},
   "outputs": [],
   "source": [
    "fig, axes = plt.subplots(ncols=2, figsize=(10,4))\n",
    "ds.GPP.sel(time='2001').plot(ax=axes[0], color='green')\n",
    "ds.ELAI.sel(time='2001').plot(ax=axes[1], color='blue')\n",
    "plt.tight_layout() ; "
   ]
  },
  {
   "cell_type": "markdown",
   "metadata": {},
   "source": [
    "What if we wanted to compare years? We can start by creating columns for our years. The `time.dt` accessor allows us to access DateTime information. Next we will create a `groupby` object across our years. We will use this grouping to plot each year.\n",
    "\n",
    "*For more information about working with time in xarray, see the [xarray documentation](https://xarray.pydata.org/en/v0.11.0/time-series.html).*"
   ]
  },
  {
   "cell_type": "code",
   "execution_count": null,
   "metadata": {},
   "outputs": [],
   "source": [
    "# create month and year columns\n",
    "ds[\"year\"] = ds.time.dt.year\n",
    "ds[\"month_name\"] = ds.time.dt.strftime(\"%b\")\n",
    "\n",
    "# group by year\n",
    "groups = ds.groupby(\"year\")\n",
    "\n",
    "# plot each year\n",
    "colors = plt.cm.rainbow(np.linspace(0, 1, 10))\n",
    "for count, group in enumerate(groups):\n",
    "    year = group[0]\n",
    "    df = group[1]\n",
    "    plt.plot(df.month_name, df.ASA, label=year, color=colors[count])\n",
    "plt.legend(loc='upper right')\n",
    "plt.xlabel(\"Month\")\n",
    "plt.ylabel(\"Albedo [unitless]\") ;"
   ]
  },
  {
   "cell_type": "markdown",
   "metadata": {},
   "source": [
    "We can also plot a histogram across all years from the summer (June, July, and August). This is done by using `.dt` and the `.isin` accessors to subset the data (`time.dt.month.isin([6, 7, 8])`)."
   ]
  },
  {
   "cell_type": "code",
   "execution_count": null,
   "metadata": {},
   "outputs": [],
   "source": [
    "ds.ASA.isel(time=(ds.time.dt.month.isin([6, 7, 8]))).plot.hist() ;"
   ]
  },
  {
   "cell_type": "markdown",
   "metadata": {},
   "source": [
    "### 3.2 Plotting in multiple dimensions\n",
    "When the data is two-dimensional, by default *xarray* calls `xarray.plot.pcolormesh()`."
   ]
  },
  {
   "cell_type": "code",
   "execution_count": null,
   "metadata": {},
   "outputs": [],
   "source": [
    "# pcolormesh plot\n",
    "ds.sel(time='2001').H2OSOI.plot(x='time', yincrease=False) ;"
   ]
  },
  {
   "cell_type": "markdown",
   "metadata": {},
   "source": [
    "We can also make a contour plot:"
   ]
  },
  {
   "cell_type": "code",
   "execution_count": null,
   "metadata": {},
   "outputs": [],
   "source": [
    "ds.H2OSOI.plot.contourf(x='time', yincrease=False) ;"
   ]
  },
  {
   "cell_type": "markdown",
   "metadata": {},
   "source": [
    "<div class=\"alert alert-block alert-warning\">\n",
    "<b>CHALLENGE:</b> Instead of a contour plot, can you plot the volumetric soil water (<code>H2OSOI</code>) for year 2001 as a linegraph, where each line is a different <code>levsoi</code> value? (<i> Hint: check out the <code>hue</code> parameter for plotting in xarray</i>).\n",
    "</div>"
   ]
  },
  {
   "cell_type": "code",
   "execution_count": null,
   "metadata": {},
   "outputs": [],
   "source": [
    "# plot your graph here\n"
   ]
  },
  {
   "cell_type": "markdown",
   "metadata": {
    "tags": []
   },
   "source": [
    "### 3.3 Visualizing Relationships\n",
    "\n",
    "Plotting can be useful for looking at relationships between different variables. What do you expect the relationship between latent heat flux and GPP to be? Below we are breaking up the data by season (`time.dt.season` is a built-in accessor)."
   ]
  },
  {
   "cell_type": "code",
   "execution_count": null,
   "metadata": {},
   "outputs": [],
   "source": [
    "ds[\"season\"] = ds.time.dt.season\n",
    "grouped = ds.groupby('season')\n",
    "for key, group in grouped:\n",
    "    plt.scatter(group.EFLX_LH_TOT, group.GPP, label=key)\n",
    "plt.legend(loc=\"lower right\")\n",
    "plt.xlabel(\"Latent Heat Flux [W m$^{-2}$]\")\n",
    "plt.ylabel(\"GPP [gC m$^{-2}$ s$^{-1}$]\") ;"
   ]
  },
  {
   "cell_type": "markdown",
   "metadata": {},
   "source": [
    "**Questions:** \n",
    "- How is albedo related to GPP?\n",
    "- How does this relationship play out over different seasons?\n",
    "\n",
    "**What other relationships can you elucidate from these simulations?**"
   ]
  },
  {
   "cell_type": "code",
   "execution_count": null,
   "metadata": {},
   "outputs": [],
   "source": [
    "# plot some relationships here\n"
   ]
  },
  {
   "cell_type": "markdown",
   "metadata": {},
   "source": [
    "---\n",
    "## 4. Aggregating and averaging\n",
    "### 4.1 Basic aggregation methods\n",
    "\n",
    "Often we will want to aggregate our simulations from monthly to yearly or larger sums or averages. There are various ways to do this using *xarray*. A very common step would be to apply some function over the whole dataset, such as `sum()`, `mean()`, `min()`, or `max()`. Let's explore some of these methods."
   ]
  },
  {
   "cell_type": "code",
   "execution_count": null,
   "metadata": {},
   "outputs": [],
   "source": [
    "# compute the average GPP across the whole time series\n",
    "ds.GPP.mean().values"
   ]
  },
  {
   "cell_type": "markdown",
   "metadata": {},
   "source": [
    "Let's also calculate the average GPP for a specific year."
   ]
  },
  {
   "cell_type": "code",
   "execution_count": null,
   "metadata": {},
   "outputs": [],
   "source": [
    "# calculate GPP for year 2005\n",
    "ds.sel(time='2005').GPP.mean().values"
   ]
  },
  {
   "cell_type": "markdown",
   "metadata": {},
   "source": [
    "**Can you find the maximum soil volumetric water content for the soil at 0.26 m?**"
   ]
  },
  {
   "cell_type": "code",
   "execution_count": null,
   "metadata": {},
   "outputs": [],
   "source": [
    "# calculate answer here\n"
   ]
  },
  {
   "cell_type": "markdown",
   "metadata": {},
   "source": [
    "### 4.2 Split-Apply-Combine\n",
    "You saw in our plotting above that we used *xarray*'s `.groupby` function to group our dataset by a specific variable (in that instance, years). This `groupy` operation allows us to aggregate our data conditionally on some coordinate label or group. This then allows us to perform **split / apply / combine** methods on *xarray* DataArrays and Datasets:\n",
    "\n",
    "* **Splitting** the dataset into groups based on some criteria\n",
    "* **Applying** a function to each of those groups (e.g. aggregating, performing a transform, or filtering)\n",
    "* **Combining** the results back into one data structure\n",
    "\n",
    "Let's use this methodology to remove seasonality from our dataset."
   ]
  },
  {
   "cell_type": "code",
   "execution_count": null,
   "metadata": {},
   "outputs": [],
   "source": [
    "# calculate temperature in Celsius\n",
    "ds['tair'] = ds.TBOT - 273.15\n",
    "ds['tair'].attrs['units'] = 'degrees Celsius'\n",
    "ds['tair'].attrs['long_name'] = 'air temperature'\n",
    "\n",
    "# plot temperature across whole time series\n",
    "ds.tair.plot() ;"
   ]
  },
  {
   "cell_type": "markdown",
   "metadata": {},
   "source": [
    "First we will split the data by month:"
   ]
  },
  {
   "cell_type": "code",
   "execution_count": null,
   "metadata": {},
   "outputs": [],
   "source": [
    "ds.tair.groupby(ds.time.dt.month)"
   ]
  },
  {
   "cell_type": "markdown",
   "metadata": {},
   "source": [
    "Now we can apply a calculation to each group - either an aggregation function, which will reduce the size of the group, or a transformation, which will preserve the group's full size. Here we will take an average. Notice that the dimensions are now 1 x 12, because we have averaged across all years for each month."
   ]
  },
  {
   "cell_type": "code",
   "execution_count": null,
   "metadata": {},
   "outputs": [],
   "source": [
    "# split-apply-combine\n",
    "t_clim = ds.tair.groupby(ds.time.dt.month).mean()\n",
    "t_clim"
   ]
  },
  {
   "cell_type": "code",
   "execution_count": null,
   "metadata": {},
   "outputs": [],
   "source": [
    "t_clim.plot() ;"
   ]
  },
  {
   "cell_type": "markdown",
   "metadata": {},
   "source": [
    "If we combine steps we can use these methods to remove the seasonality from our original dataset. Note here that the dataset is now 1 x 120 in dimension."
   ]
  },
  {
   "cell_type": "code",
   "execution_count": null,
   "metadata": {},
   "outputs": [],
   "source": [
    "gb = ds.tair.groupby(ds.time.dt.month)\n",
    "t_anom = gb - gb.mean(dim = 'time')\n",
    "t_anom"
   ]
  },
  {
   "cell_type": "code",
   "execution_count": null,
   "metadata": {},
   "outputs": [],
   "source": [
    "t_anom.plot() ;"
   ]
  },
  {
   "cell_type": "markdown",
   "metadata": {},
   "source": [
    "We can also calculate rolling means using the `rolling` function. Here we will calculate a 6-month rolling average of GPP."
   ]
  },
  {
   "cell_type": "code",
   "execution_count": null,
   "metadata": {},
   "outputs": [],
   "source": [
    "mv_avg = ds.GPP.rolling(time=6, center=True).mean()\n",
    "mv_avg.plot(size = 6)\n",
    "ds.GPP.plot()\n",
    "plt.legend(['6-month moving average', 'monthly data']) ;"
   ]
  },
  {
   "cell_type": "markdown",
   "metadata": {},
   "source": [
    "<div class=\"alert alert-block alert-warning\">\n",
    "<b>CHALLENGE:</b> Calculate the average seasonal GPP values.\n",
    "</div>"
   ]
  },
  {
   "cell_type": "code",
   "execution_count": null,
   "metadata": {},
   "outputs": [],
   "source": [
    "# calculate value here\n"
   ]
  }
 ],
 "metadata": {
  "kernelspec": {
   "display_name": "Python 3 (ipykernel)",
   "language": "python",
   "name": "python3"
  },
  "language_info": {
   "codemirror_mode": {
    "name": "ipython",
    "version": 3
   },
   "file_extension": ".py",
   "mimetype": "text/x-python",
   "name": "python",
   "nbconvert_exporter": "python",
   "pygments_lexer": "ipython3",
   "version": "3.9.7"
  }
 },
 "nbformat": 4,
 "nbformat_minor": 4
}
