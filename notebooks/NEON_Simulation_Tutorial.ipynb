{
 "cells": [
  {
   "cell_type": "markdown",
   "metadata": {},
   "source": [
    "# Tutorial 1: CTSM Simulations at NEON Tower Sites \n",
    "\n",
    "This tutorial is an introduction to running the Community Terrestrial Systems Model (CTSM) at NEON tower sites.  It will guide you through running a simulation and provides example visualization of the simulation results. Once you complete a NEON tower simulation in this tutorial, you can use the 'NEON_Visualization_Tutorial' to explore observation and model data further.\n",
    "<br><br>\n",
    "\n",
    "**A few notes about the model:** There are several configuration options of CTSM, and throughout this tutorial we will use the Community Land Model (CLM) configuration which is the climate and biogeochemistry mode of CTSM. Throughout the rest of this tutorial, we refer to the model as CLM and will use version 5.1 with active biogeochemistry (CLM5.1-BGC).\n",
    "\n",
    "Additional information about CTSM and CLM is available [on the website](https://www.cesm.ucar.edu/models/cesm2/land/), including [technical documentation](https://escomp.github.io/ctsm-docs/versions/master/html/tech_note/index.html), a [user's guide](https://escomp.github.io/ctsm-docs/versions/master/html/users_guide/index.html), and a [quickstart guide](https://escomp.github.io/CESM/release-cesm2/quickstart.html#create-a-case) for running various model configurations beyond what is covered in this tutorial.\n",
    "<br><br>\n",
    "\n",
    "**Questions about this tutorial?** Please post them on the [CTSM forum in the CESM Bulletin Board](https://bb.cgd.ucar.edu/cesm/forums/ctsm-clm-mosart-rtm.134/). Note that this resource will require you to register and log in so that you can be notified of responses to your inquiries. You can also file issues on the [NCAR-NEON GitHub repository](https://github.com/NCAR/NEON-visualization).\n",
    "***"
   ]
  },
  {
   "cell_type": "markdown",
   "metadata": {},
   "source": [
    "## In this tutorial\n",
    "\n",
    "The tutorial has several components. Below you will find steps to: \n",
    "1. Set up and run a simulation\n",
    "2. Locate CLM model data\n",
    "3. Look at plots of simulated soil temperature and moisture data"
   ]
  },
  {
   "cell_type": "markdown",
   "metadata": {},
   "source": [
    "***\n",
    "**This tutorial uses a Jupyter Notebook.** A Jupyter Notebook is an interactive computing environment that enables the creation and sharing of documents that contain discrete cells of text or documentation and executable code, including plots. It allows users to access, run, and edit the code in a browser. To interact with this notebook:\n",
    "\n",
    "- Execute or \"run\" cells of executable code (cells denoted with '[ ]:') using the play button in the menu at the top (see below image)\n",
    "\n",
    "- The results of running code, such as plots, will appear below that cell\n",
    "\n",
    "- Each step must be followed in order, otherwise you may encounter errors\n",
    "\n",
    "![run cell](https://problemsolvingwithpython.com/02-Jupyter-Notebooks/images/run_cell.png)\n",
    "\n",
    "For more information on Jupyter notebooks please see the [Jupyter Notebook Quick Start Guide](https://jupyter-notebook-beginner-guide.readthedocs.io/en/latest/what_is_jupyter.html). \n",
    "***"
   ]
  },
  {
   "cell_type": "markdown",
   "metadata": {},
   "source": [
    "<h2> 1. Set up and run a simulation</h2>\n",
    "\n",
    "*This step guides you through running a CLM model simulation for a NEON flux tower using meteorology observations from the tower. Here, the many steps to run CLM are condensed into a single function. We are developing an additional advanced tutorial (coming soon!) with instructions for using different model configurations and modifying code.* <br>\n",
    "\n",
    "***\n",
    "<h4>1.1 Select a NEON tower site to simulate.</h4>\n",
    "\n",
    "NEON towers currently available for simulation include:  \n",
    "\n",
    ">ABBY, BART, BLAN, CPER, DCFS, DSNY, GRSM, HARV, JERC, JORN, KONZ, MOAB, NOGP, OAES, ORNL, OSBS, SCBI, SERC, SOAP, SRER, STEI, TALL, TREE, UKFS, UNDE, WOOD.  \n",
    "\n",
    "The [NEON website](https://www.neonscience.org/field-sites/explore-field-sites) describes tower sites in more detail.\n",
    "\n",
    "Before running the below code, keep in mind:\n",
    "- The executable code below selects the **ABBY** site for simulation. If you would like to simulate a different tower, select the NEON tower from the above list and change the 4-character site name inside the quotes below.\n",
    "- The site must be defined correctly so you do not get an error in the next step.\n",
    "    - use all capital letters \n",
    "    - double-check that the letters match one of the above site names\n",
    "\n",
    "*Execute the the cell below by clicking on the play button in the menu bar above.*"
   ]
  },
  {
   "cell_type": "code",
   "execution_count": null,
   "metadata": {},
   "outputs": [],
   "source": [
    "#Change the 4-character NEON site below.\n",
    "neon_site= \"ABBY\"\n",
    "\n",
    "import os\n",
    "os.environ['site'] = neon_site"
   ]
  },
  {
   "cell_type": "markdown",
   "metadata": {},
   "source": [
    "***\n",
    "<h4>1.2 Create and run a NEON tower site simulation.</h4>  \n",
    "\n",
    "The executable code below runs a python script, `run_neon.py`. This script:\n",
    "\n",
    "* creates (`create_newcase`)\n",
    "* sets up (`case.setup`)\n",
    "* compiles (`case.build`)\n",
    "* runs (`case.submit`)\n",
    "    \n",
    "a simulation for the tower site you specified above for all years that tower meteorology data are available. The text in parentheses show the commands that are typically required to set up and run a simulation. These steps are automated for you in the `run_neon` script.\n",
    "\n",
    "*Run the cell below.* Note that this step downloads the input data (~2.5GB) required for the model simulation and may therefore take several minutes to complete running, so please be patient. Many things will print below the cell as data are downloaded and the model compiles. You might see lines that say 'ERROR' or 'file not found'; this is ok if the simulation continues running to completion.\n",
    "\n"
   ]
  },
  {
   "cell_type": "code",
   "execution_count": null,
   "metadata": {},
   "outputs": [],
   "source": [
    "run_neon --neon-sites $site --output-root ~/CLM-NEON"
   ]
  },
  {
   "cell_type": "markdown",
   "metadata": {},
   "source": [
    "<br><br>\n",
    "The model is done running when you see the following line: \n",
    "\n",
    "\n",
    "> Submit job case.st_archive \n",
    "\n",
    "\n",
    "### Congratulations! You've created and run CLM for the NEON tower you selected.\n",
    "Follow the steps below to see a few example plots from simulated data. \n",
    "\n",
    "**Note:** If your model simulation did not complete, there will likely be an error message with more information. If you do not understand the error message, please post your question on the [CTSM forum in the CESM Bulletin Board](https://bb.cgd.ucar.edu/cesm/forums/ctsm-clm-mosart-rtm.134/).\n"
   ]
  },
  {
   "cell_type": "markdown",
   "metadata": {},
   "source": [
    "***\n",
    "<h4> Optional </h4>\n",
    "\n",
    "If you would like to see additional and more advanced options for running NEON tower site simulations, many are listed in the python script you just executed. You can use the `--help` option to see more. <p>\n",
    "\n",
    "*Executing the below cell is optional and will print options available options in the `run_neon` python script*:"
   ]
  },
  {
   "cell_type": "code",
   "execution_count": null,
   "metadata": {},
   "outputs": [],
   "source": [
    "run_neon --help"
   ]
  },
  {
   "cell_type": "markdown",
   "metadata": {},
   "source": [
    "------------\n",
    "\n",
    "#### Below are a few additional tips for running simulations: \n",
    "\n",
    " __Tip:__ You can run multiple neon sites at once by choosing multiple neon sites in the command line argument. For example:\n",
    ">\n",
    ">```\n",
    ">run_neon.py --neon-sites ABBY BART BLAN\n",
    ">```\n",
    "\n",
    "<br/>\n",
    "\n",
    " __Tip:__ Use the `--overwrite` option to overwrite existing case directories.\n",
    ">\n",
    ">If you run a simulation for a NEON site that you have previously simulated, you will see the following error:\n",
    ">```\n",
    ">Case already exists in /home/user/CLM-NEON/ABBY.transient, not overwritting.\n",
    ">```\n",
    ">The overwrite option (e.g., adding `--overwrite` to the end of the `run_neon` command) can be used to avoid this error. \n",
    "\n",
    "<br/>\n",
    "\n",
    " __Tip:__ You can run the above `run_neon` command in your terminal shell. You will need to specify the NEON site and the output-root path by replacing `<site>` and `<path>` below with the appropriate values:\n",
    "\n",
    ">```\n",
    ">run_neon.py --neon-sites <site> --output-root <path>\n",
    ">```\n",
    "\n",
    "<br/>\n",
    "    \n",
    " __Tip:__ The container will not overwrite existing files. If there are newer versions of a tutorial or input data you want to download, you must delete the existing tutorials or data first. You can do this by moving the files from the `Simulations` folder on your Desktop into the trash.\n",
    "    \n",
    "<br/>\n",
    "    \n",
    "**Note:** More information about setting up and modifying simulations, including changing model code, will be available in an upcoming tutorial. \n"
   ]
  },
  {
   "cell_type": "markdown",
   "metadata": {},
   "source": [
    "________\n",
    "<h2> 2. Explore CTSM model data </h2>\n",
    "\n",
    "*When your simulation completes, this step guides you through exploring the data.\n",
    "There are countless ways of analyzing and processing model data. \n",
    "The below steps step through where to find model data and creates a plot to visualize some model data.*\n",
    "***"
   ]
  },
  {
   "cell_type": "markdown",
   "metadata": {},
   "source": [
    "<h3> 2.1 Locate model data </h3>\n",
    "\n",
    "When a simulation completes, the data are stored in the `archive` directory. In this directory you will find files that include data for every day of the simulation, as well as files that average model variables monthly. <p>\n",
    "\n",
    "*Run the code below to see a subset of the files listed.*"
   ]
  },
  {
   "cell_type": "code",
   "execution_count": null,
   "metadata": {},
   "outputs": [],
   "source": [
    "!ls $HOME/archive/$site.transient/lnd/hist/*2018*.nc |head -20"
   ]
  },
  {
   "cell_type": "markdown",
   "metadata": {},
   "source": [
    "\n",
    "Notice that each line includes the location of the file (`/home/user/archive/{simulation_name}/lnd/hist/`) and file name. The file names are automatically generated and are composed of:\n",
    "* the simulation name, which includes:\n",
    "    * the NEON site\n",
    "    * the type of simulation \n",
    "        * The simulation you ran is \"transient\". This means the model was initialized and ran for the full length of available data. The initial conditions files for the transient tower simulations were created by cycling over 2018-2019 tower meteorological data. \n",
    "* the date of simulated data\n",
    "\n",
    "The files are saved in netcdf format (denoted with the `.nc` file extension), a file format commonly used for storing large, multi-dimensional scientific variables.\n",
    "Netcdf files are platform independent and self-describing; each file includes metadata that describes the data, including: **variables**, **dimensions**, and **attributes**. You can explore the files more in the NEON_Simple_Visualization_Tutorial\n",
    "\n",
    "The NEON tower simulations generate two types of files:\n",
    "* `*h0*`: Variables that are averaged monthly. One file is available for every month of the simulation. These files include hundreds of variables.\n",
    "* `*h1*`: Variables that are recorded every 30 minutes. Values are aggregated into one file for each day of the simulation. Each file includes 48 data points for selected variables.\n",
    "\n",
    "*Note that you can also find the model data in the 'Simulation' folder on your desktop, which was created as part of this tutorial.*\n",
    "****\n"
   ]
  },
  {
   "cell_type": "markdown",
   "metadata": {},
   "source": [
    "<h3>2.2 Visualize the output </h3>\n",
    "\n",
    "Below we create a plot of simulated soil temperature using a predefined function, `plot_soil_profile_timeseries`.\n",
    "\n",
    "\n",
    "The `plot_soil_profile_timeseries` function points to the simulated data files in your `archive` directory, extracts a variable (soil temperature, `TSOI`, in this case), and plots the soil profile. The y-axis shows soil depth and the x-axis shows time. Note that time is currently set for the year 2018. You can change the `year` variable below to plot different years from 2018 through 2020."
   ]
  },
  {
   "cell_type": "code",
   "execution_count": null,
   "metadata": {},
   "outputs": [],
   "source": [
    "from neon_utils import plot_soil_profile_timeseries\n",
    "sim_path = \"/home/user/archive/\"+neon_site+\".transient/lnd/hist/\"\n",
    "case_name = neon_site+\".transient.clm2\"\n",
    "year = 2018\n",
    "\n",
    "plot_soil_profile_timeseries(sim_path, neon_site, case_name, 'TSOI', year)"
   ]
  },
  {
   "cell_type": "markdown",
   "metadata": {},
   "source": [
    "You might also be interested in the soil moisture at this site. The `plot_soil_profile_timeseries` function can also plot soil moisture (`H2OSOI`). Run the below cell to see the soil moisture profile for 2018. You can change the `year` variable below to plot different years from 2018 through 2020."
   ]
  },
  {
   "cell_type": "code",
   "execution_count": null,
   "metadata": {},
   "outputs": [],
   "source": [
    "sim_path = \"/home/user/archive/\"+neon_site+\".transient/lnd/hist/\"\n",
    "case_name = neon_site+\".transient.clm2\"\n",
    "year = 2018\n",
    "\n",
    "plot_soil_profile_timeseries(sim_path, neon_site, case_name, 'H2OSOI', year)"
   ]
  },
  {
   "cell_type": "markdown",
   "metadata": {},
   "source": [
    "### Congratulations! \n",
    "You have now completed a NEON tower simulation, located the files, and made a plot from the simulation data.\n",
    "\n",
    "**Additional examples of visualizations and evaluation of your NEON simulation against NEON observations are available in the next tutorial, `NEON_Visualization_Tutorial`.**"
   ]
  },
  {
   "cell_type": "code",
   "execution_count": null,
   "metadata": {},
   "outputs": [],
   "source": []
  }
 ],
 "metadata": {
  "kernelspec": {
   "display_name": "Python [conda env:default] *",
   "language": "python",
   "name": "conda-env-default-py"
  },
  "language_info": {
   "codemirror_mode": {
    "name": "ipython",
    "version": 3
   },
   "file_extension": ".py",
   "mimetype": "text/x-python",
   "name": "python",
   "nbconvert_exporter": "python",
   "pygments_lexer": "ipython3",
   "version": "3.7.8"
  }
 },
 "nbformat": 4,
 "nbformat_minor": 4
}
