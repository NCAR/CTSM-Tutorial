{
 "cells": [
  {
   "cell_type": "markdown",
   "metadata": {},
   "source": [
    "# Tutorial A: *Customizing CTSM's configuration: Namelist modification*\n",
    "\n",
    "The configuration of CTSM can be customized via namelist modifications. \n",
    "\n",
    "**This specific example describes how to change the variables that are written out to history files.** We'll cover some details about history files, but we're also assuming that you already ran the `Day0b` tutorial and have successfully run a simulation from a NEON tower site.\n",
    "\n",
    "- Additional information about customizing CTSM's configurations, including namelist modifications, are available in the [CTSM users guide](https://escomp.github.io/ctsm-docs/versions/master/html/users_guide/setting-up-and-running-a-case/customizing-the-clm-configuration.html?highlight=namelist)\n",
    "- A list of all the [CTSM history fields are available here](https://escomp.github.io/ctsm-docs/versions/master/html/users_guide/setting-up-and-running-a-case/master_list_nofates.html)\n",
    "- A list of all the [CTSM-FATES history fields are available here](https://escomp.github.io/ctsm-docs/versions/master/html/users_guide/setting-up-and-running-a-case/master_list_fates.html)\n",
    "\n",
    "<br><br>\n",
    "***"
   ]
  },
  {
   "cell_type": "markdown",
   "metadata": {},
   "source": [
    "## In this tutorial\n",
    "\n",
    "The tutorial has several components. Below you will find steps to: \n",
    "1. Look at history files your already created.\n",
    "2. Open and modify `user_nl_clm`\n",
    "3. Rerun your case with updated namelist changes\n",
    "4. *Extra credit:* Explore `usermod_dirs` to change the default cofiguration of your cases (optional).\n"
   ]
  },
  {
   "cell_type": "markdown",
   "metadata": {},
   "source": [
    "<h2> 1. Look at the content of history files</h2>\n",
    "\n",
    "We looked at history files a bit in the `Day0c` tutorial, but we'll cover a bit more here now\n",
    "<br>\n",
    "\n",
    "***\n",
    "<h4>1.1 Here's the first thing we're going to do</h4>\n",
    "\n",
    "text related to above\n",
    "\n",
    ">And one way to make text stand out more\n",
    "\n",
    "more text and details with a bulleted list:\n",
    "- bullet one with **bold** text\n",
    "- bullet two \n",
    "    - subpoint 1 \n",
    "    - subpoint 2\n",
    "    \n",
    "*Execute the cell below by clicking in the cell below, and then either clicking the play button in the menu bar above, or pressing 'shift+enter'*"
   ]
  },
  {
   "cell_type": "code",
   "execution_count": null,
   "metadata": {},
   "outputs": [],
   "source": [
    "# This is a code cell for a bash kernel that excecutes commands just like in the command line\n",
    "pwd\n"
   ]
  },
  {
   "cell_type": "markdown",
   "metadata": {},
   "source": [
    "***\n",
    "<h4>1.2 Here's the next thing we're going to do </h4>  \n",
    "\n",
    "This is one way you can highlight commands or files in a text block `my_favorite_script`. \n",
    "\n",
    "You can also visually highight warnings, information, or notable text using the table formatting below:\n",
    "\n",
    "<style> \n",
    "table td, table th, table tr {text-align:left !important;}\n",
    "</style>\n",
    "<div class=\"alert alert-block alert-warning\">\n",
    "<b>NOTE:</b>  This is way to make text stand out, maybe for errors, warnings, or notes of caution.\n",
    "</div>\n",
    "\n",
    "Additional thoughts or text...\n",
    "\n",
    "<style> \n",
    "table td, table th, table tr {text-align:left !important;}\n",
    "</style>\n",
    "<div class=\"alert alert-block alert-info\">\n",
    "\n",
    "<b>NOTE:</b> Another way to highlight sections, maybe for informational text to highlight <i>with italics</i>  more text. \n",
    "    <b>Bold text <i>Bold Italics</i> and back to bold</b>, followed by normal text.\n",
    "</div>\n",
    "\n",
    "and a bit of description about what the next code block does\n"
   ]
  },
  {
   "cell_type": "code",
   "execution_count": null,
   "metadata": {},
   "outputs": [],
   "source": [
    "ls ~"
   ]
  },
  {
   "cell_type": "markdown",
   "metadata": {},
   "source": [
    "<h4> 1.3 last part of task 1</h4>\n",
    "\n",
    "briefly describe what the next code block does"
   ]
  },
  {
   "cell_type": "code",
   "execution_count": null,
   "metadata": {},
   "outputs": [],
   "source": [
    "!qstat -u ${USER}"
   ]
  },
  {
   "cell_type": "markdown",
   "metadata": {},
   "source": [
    "---\n",
    "Once your jobs are complete (or show the 'C' state under the 'Use' column, which means complete), we can check the CaseStatus file to ensure there were no errors and it completed successfully.  To do this, we'll 'tail' the end of the CaseStatus file:"
   ]
  },
  {
   "cell_type": "code",
   "execution_count": null,
   "metadata": {},
   "outputs": [],
   "source": [
    "!tail  ~/scratch/CLM-NEON/${site}.transient/CaseStatus"
   ]
  },
  {
   "cell_type": "markdown",
   "metadata": {},
   "source": [
    "You should see several lines, with the middle one saying 'case.run success'.  \n",
    "\n",
    "Before that you'll see notifications about xml changes, case.setup, and case.submit, and case.run"
   ]
  },
  {
   "cell_type": "markdown",
   "metadata": {},
   "source": [
    "<div class=\"alert alert-success\">\n",
    "<strong>Congratulations!</strong> \n",
    "    \n",
    "This is yet another way to visually highlight text\n",
    "</div>\n",
    "\n",
    "**Note:** If you ad some issues, there will likely be an error message with more information. If you do not understand the error message, please post your question on the [CTSM forum in the CESM Bulletin Board](https://bb.cgd.ucar.edu/cesm/forums/ctsm-clm-mosart-rtm.134/).\n"
   ]
  },
  {
   "cell_type": "markdown",
   "metadata": {
    "tags": []
   },
   "source": [
    "***\n",
    "<h4> Optional </h4>\n",
    "\n",
    "We can provide more information about what was just accomplished, this may be helpful for more advanced users trying to learn more, but isn't necessary for successfully completing the tutorial <p>\n",
    "\n",
    "I'm going to leave the example \n",
    "\n",
    "*Executing the below cell is optional, and it will print options available options in the `run_neon` python script*:\n"
   ]
  },
  {
   "cell_type": "code",
   "execution_count": null,
   "metadata": {},
   "outputs": [],
   "source": [
    "run_neon --help"
   ]
  },
  {
   "cell_type": "markdown",
   "metadata": {},
   "source": [
    "------------\n",
    "\n",
    "#### Below is some additional information and examples **(I'm leaving this as-is for illustration purposes)**: \n",
    "\n",
    " __Tip:__ You can run multiple neon sites at once by choosing multiple neon sites in the command line argument. For example:\n",
    ">\n",
    ">```\n",
    ">run_neon.py --neon-sites ABBY BART BLAN\n",
    ">```\n",
    "\n",
    "<br/>\n",
    "\n",
    " __Tip:__ Use the `--overwrite` option to overwrite existing case directories.\n",
    ">\n",
    ">If you run a simulation for a NEON site that you have previously simulated, you will see an error like the following:\n",
    ">```\n",
    ">Case already exists in /home/<user>/scratch/CLM-NEON/ABBY.transient, not overwritting.\n",
    ">```\n",
    ">The overwrite option (e.g., adding `--overwrite` to the end of the `run_neon` command) can be used to avoid this error. \n",
    "\n",
    "\n",
    "<br/>\n",
    "\n",
    " __Tip:__ You can run the above `run_neon` command in your terminal shell. You will need to specify the NEON site and the output-root path by replacing `<site>` and `<path>` below with the appropriate values:\n",
    "\n",
    ">```\n",
    ">run_neon.py --neon-sites <site> --output-root <path>\n",
    ">```\n",
    "\n",
    "<br/>\n",
    "    \n",
    " __Tip:__ The container will not overwrite existing files. If there are newer versions of a tutorial or input data you want to download, you must delete the existing tutorials or data first. You can do this by moving the files from the `Simulations` folder on your Desktop into the trash.\n",
    "    \n",
    "<br/>\n",
    "    \n",
    "**Note:** More information about setting up and modifying simulations, including changing model code, will be available in an upcoming tutorial. \n"
   ]
  },
  {
   "cell_type": "markdown",
   "metadata": {},
   "source": [
    "________\n",
    "<h2> 2. Step 2 from our outline above </h2>\n",
    "\n",
    "*After finishing 1, we're going to move on to accomplish the following task.*\n",
    "***"
   ]
  },
  {
   "cell_type": "markdown",
   "metadata": {},
   "source": [
    "<h3> 2.1 First part of step 2 </h3>\n",
    "\n",
    "A quick description of what the following code block accomplishes. <p>\n",
    "\n",
    "*Run the code below to ....*\n"
   ]
  },
  {
   "cell_type": "code",
   "execution_count": null,
   "metadata": {},
   "outputs": [],
   "source": [
    "ls"
   ]
  },
  {
   "cell_type": "markdown",
   "metadata": {},
   "source": [
    "\n",
    "Notice that... Provie some deeper explaination of what's going on here:\n",
    "* First thing to see \n",
    "    * with a\n",
    "    * with b\n",
    "        * and also note that.... \n",
    "* second thing to see\n",
    "\n",
    "Additional highlights and things to explain...\n",
    "****\n"
   ]
  },
  {
   "cell_type": "markdown",
   "metadata": {},
   "source": [
    "<h3>2.2 Seond part of step 2 </h3>\n",
    "\n",
    "Below we create a plot of simulated soil temperature using a predefined function, `plot_soil_profile_timeseries`.\n",
    "\n",
    "\n",
    "The `plot_soil_profile_timeseries` function points to the simulated data files in your `archive` directory, extracts a variable (soil temperature, `TSOI`, in this case), and plots the soil profile. The y-axis shows soil depth and the x-axis shows time. Note that time is currently set for the year 2018. You can change the `year` variable below to plot different years from 2018 through 2020."
   ]
  },
  {
   "cell_type": "code",
   "execution_count": null,
   "metadata": {},
   "outputs": [],
   "source": [
    "import os\n",
    "from neon_utils import plot_soil_profile_timeseries\n",
    "username = os.environ['USER']  # Get our username, for use in paths\n",
    "sim_path = \"/scratch/\"+username+\"/CLM-NEON/archive/\"+neon_site+\".transient/lnd/hist/\"\n",
    "\n",
    "case_name = neon_site+\".transient.clm2\"\n",
    "year = 2018\n",
    "\n",
    "plot_soil_profile_timeseries(sim_path, neon_site, case_name, 'TSOI', year)"
   ]
  },
  {
   "cell_type": "markdown",
   "metadata": {},
   "source": [
    "You might also be interested in the soil moisture at this site. The `plot_soil_profile_timeseries` function can also plot soil moisture (`H2OSOI`). Run the below cell to see the soil moisture profile for 2018. You can change the `year` variable below to plot different years from 2018 through 2020.\n"
   ]
  },
  {
   "cell_type": "code",
   "execution_count": null,
   "metadata": {},
   "outputs": [],
   "source": [
    "case_name = neon_site+\".transient.clm2\"\n",
    "year = 2018\n",
    "\n",
    "plot_soil_profile_timeseries(sim_path, neon_site, case_name, 'H2OSOI', year)"
   ]
  },
  {
   "cell_type": "markdown",
   "metadata": {},
   "source": [
    "<div class=\"alert alert-success\">\n",
    "<strong>Congratulations!</strong> \n",
    "    \n",
    "you finished step 2 of our process\n",
    "</div>\n",
    "\n",
    "\n",
    "**Additional examples can be seen in the  [NEON Visualization Tutorial](https://ncar.github.io/ncar-neon-books/notebooks/NEON_Visualization_Tutorial.html).**\n"
   ]
  },
  {
   "cell_type": "markdown",
   "metadata": {},
   "source": [
    "________\n",
    "<h2> 3. Step 3 from our outline above </h2>\n",
    "\n",
    "*After finishing 2, we're going to move on to accomplish the following task.*\n",
    "***"
   ]
  },
  {
   "cell_type": "markdown",
   "metadata": {},
   "source": [
    "<h3> 3.1 First part of step 3 </h3>\n",
    "\n",
    "A quick description of what the following code block accomplishes. <p>\n",
    "\n",
    "*Run the code below to ....*\n"
   ]
  },
  {
   "cell_type": "code",
   "execution_count": null,
   "metadata": {},
   "outputs": [],
   "source": []
  },
  {
   "cell_type": "markdown",
   "metadata": {},
   "source": [
    "Before saving and pushing this code to github go to `Kernel` and `Restart kernel and clear all outputs...`"
   ]
  },
  {
   "cell_type": "code",
   "execution_count": null,
   "metadata": {},
   "outputs": [],
   "source": []
  }
 ],
 "metadata": {
  "kernelspec": {
   "display_name": "Bash",
   "language": "bash",
   "name": "bash"
  },
  "language_info": {
   "codemirror_mode": "shell",
   "file_extension": ".sh",
   "mimetype": "text/x-sh",
   "name": "bash"
  }
 },
 "nbformat": 4,
 "nbformat_minor": 4
}
